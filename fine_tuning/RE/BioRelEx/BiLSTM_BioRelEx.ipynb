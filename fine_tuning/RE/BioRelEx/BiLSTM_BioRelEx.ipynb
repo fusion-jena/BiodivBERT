{
 "cells": [
  {
   "cell_type": "code",
   "execution_count": 1,
   "metadata": {
    "colab": {
     "base_uri": "https://localhost:8080/"
    },
    "id": "sbkgVkuDmTDZ",
    "outputId": "ec594e5f-59d6-4881-89f0-5d66e61c9475"
   },
   "outputs": [
    {
     "name": "stdout",
     "output_type": "stream",
     "text": [
      "TensorFlow 1.x selected.\n"
     ]
    }
   ],
   "source": [
    "%tensorflow_version 1.x"
   ]
  },
  {
   "cell_type": "code",
   "execution_count": 2,
   "metadata": {
    "colab": {
     "base_uri": "https://localhost:8080/"
    },
    "id": "TNeeSq0SLU8A",
    "outputId": "0dd767b7-5899-4676-9bd1-d926312b4fab"
   },
   "outputs": [
    {
     "name": "stdout",
     "output_type": "stream",
     "text": [
      "Drive already mounted at /content/drive; to attempt to forcibly remount, call drive.mount(\"/content/drive\", force_remount=True).\n"
     ]
    }
   ],
   "source": [
    "# Load the Drive helper and mount\n",
    "from google.colab import drive\n",
    "drive.mount('/content/drive')"
   ]
  },
  {
   "cell_type": "code",
   "execution_count": 3,
   "metadata": {
    "colab": {
     "base_uri": "https://localhost:8080/"
    },
    "id": "qcsYD2yEMVkc",
    "outputId": "64b699e9-c4b9-4c42-a39d-7d2c22b9ee5e"
   },
   "outputs": [
    {
     "name": "stdout",
     "output_type": "stream",
     "text": [
      "/content/drive/My Drive/Colab Notebooks/BiodivBERT-RE\n"
     ]
    }
   ],
   "source": [
    "cd \"/content/drive/My Drive/Colab Notebooks/BiodivBERT-RE/\""
   ]
  },
  {
   "cell_type": "code",
   "execution_count": 4,
   "metadata": {
    "id": "R4YFOyhD8l_1"
   },
   "outputs": [],
   "source": [
    "import os"
   ]
  },
  {
   "cell_type": "code",
   "execution_count": 5,
   "metadata": {
    "colab": {
     "base_uri": "https://localhost:8080/"
    },
    "id": "awapx8haNr-U",
    "outputId": "5c6dd8f8-4326-4b4b-e0c2-49933fc6c9f0"
   },
   "outputs": [
    {
     "name": "stdout",
     "output_type": "stream",
     "text": [
      "/content/drive/My Drive/Colab Notebooks/BiodivBERT-RE/datasets/BioRelEx\n"
     ]
    }
   ],
   "source": [
    "root_dir = \"/content/drive/My Drive/Colab Notebooks/BiodivBERT-RE/\"\n",
    "\n",
    "root_data_dir = os.path.join(root_dir, \"datasets\", \"BioRelEx\")\n",
    "print(root_data_dir)\n",
    "\n",
    "dataset = \"train\"\n",
    "csv_file_path = \"train.csv\"\n",
    "\n",
    "offline_model_file = os.path.join(root_dir, \"BiLSTM-BioRelEx-model\")\n",
    "training_history_csv = \"training_history.csv\""
   ]
  },
  {
   "cell_type": "markdown",
   "metadata": {
    "id": "eQFFmGZG-X05"
   },
   "source": [
    "##Util"
   ]
  },
  {
   "cell_type": "code",
   "execution_count": 6,
   "metadata": {
    "id": "8LihPGwb92iK"
   },
   "outputs": [],
   "source": [
    "def load_model():\n",
    "    json_file = open(offline_model_file+\".json\", 'r')\n",
    "    loaded_model_json = json_file.read()\n",
    "    json_file.close()\n",
    "    new_model = model_from_json(loaded_model_json)\n",
    "    # load weights into new model\n",
    "    new_model.load_weights(offline_model_file+\".h5\")\n",
    "    print(\"Loaded model from disk\")\n",
    "    return new_model"
   ]
  },
  {
   "cell_type": "code",
   "execution_count": 7,
   "metadata": {
    "id": "WaGNPxjM98Ds"
   },
   "outputs": [],
   "source": [
    "def save_model(model):\n",
    "    # serialize model to JSON\n",
    "    model_json = model.to_json()\n",
    "    \n",
    "    with open(offline_model_file+\".json\", \"w\") as json_file:\n",
    "        json_file.write(model_json)\n",
    "    # serialize weights to HDF5\n",
    "    model.save_weights(offline_model_file+\".h5\")\n",
    "    print(\"Saved model to disk\")"
   ]
  },
  {
   "cell_type": "code",
   "execution_count": 8,
   "metadata": {
    "id": "sF6IG8FM8WqT"
   },
   "outputs": [],
   "source": [
    "def saveDataFrameToCSV(pd1, csv_path, append):  \n",
    "  dataset_path = os.path.join(root_dir, csv_path)  \n",
    "  \n",
    "  if append:\n",
    "    with open(dataset_path, 'a+') as f:    \n",
    "      pd1.to_csv(dataset_path,  mode='a', index=False, header=False)    \n",
    "  else:\n",
    "    with open(dataset_path, 'a+') as f:    \n",
    "      pd1.to_csv(dataset_path,  mode='a', index=False, header=True)"
   ]
  },
  {
   "cell_type": "markdown",
   "metadata": {
    "id": "10yeK7623aaY"
   },
   "source": [
    "##Dataset Preprocessing\n"
   ]
  },
  {
   "cell_type": "code",
   "execution_count": 9,
   "metadata": {
    "id": "GT1NMGBw3aaU"
   },
   "outputs": [],
   "source": [
    "import os\n",
    "import pandas as pd\n",
    "import numpy as np"
   ]
  },
  {
   "cell_type": "code",
   "execution_count": 10,
   "metadata": {
    "id": "ybHlNSgxcwL1"
   },
   "outputs": [],
   "source": [
    "def loadData(csv_file_path, header=None, index_col=None):\n",
    "  dataset_path = os.path.join(root_data_dir, csv_file_path)\n",
    "  data = pd.read_csv(dataset_path, encoding=\"latin1\", sep=',', header=header, index_col=index_col, names=['Label', 'Sentence'])\n",
    "  data = data.fillna(method=\"ffill\")\n",
    "  return data"
   ]
  },
  {
   "cell_type": "code",
   "execution_count": 11,
   "metadata": {
    "id": "cTEqN_U_3aZ3"
   },
   "outputs": [],
   "source": [
    "data_train = loadData(csv_file_path='train.csv', header=None, index_col=None)"
   ]
  },
  {
   "cell_type": "code",
   "execution_count": 12,
   "metadata": {
    "colab": {
     "base_uri": "https://localhost:8080/",
     "height": 363
    },
    "id": "DdpwuNQtpOk0",
    "outputId": "0771f8e8-9c09-4943-a569-3a8a45481e19"
   },
   "outputs": [
    {
     "data": {
      "text/html": [
       "\n",
       "  <div id=\"df-df106562-eed0-47c3-81fc-fe08505d977f\">\n",
       "    <div class=\"colab-df-container\">\n",
       "      <div>\n",
       "<style scoped>\n",
       "    .dataframe tbody tr th:only-of-type {\n",
       "        vertical-align: middle;\n",
       "    }\n",
       "\n",
       "    .dataframe tbody tr th {\n",
       "        vertical-align: top;\n",
       "    }\n",
       "\n",
       "    .dataframe thead th {\n",
       "        text-align: right;\n",
       "    }\n",
       "</style>\n",
       "<table border=\"1\" class=\"dataframe\">\n",
       "  <thead>\n",
       "    <tr style=\"text-align: right;\">\n",
       "      <th></th>\n",
       "      <th>Label</th>\n",
       "      <th>Sentence</th>\n",
       "    </tr>\n",
       "  </thead>\n",
       "  <tbody>\n",
       "    <tr>\n",
       "      <th>0</th>\n",
       "      <td>1</td>\n",
       "      <td>In the absence of  @PROTEIN-FAMILY$ signals,  ...</td>\n",
       "    </tr>\n",
       "    <tr>\n",
       "      <th>1</th>\n",
       "      <td>1</td>\n",
       "      <td>These results provide evidence that complex 2 ...</td>\n",
       "    </tr>\n",
       "    <tr>\n",
       "      <th>2</th>\n",
       "      <td>1</td>\n",
       "      <td>Full-length @PROTEIN$, which binds to both Cdk...</td>\n",
       "    </tr>\n",
       "    <tr>\n",
       "      <th>3</th>\n",
       "      <td>0</td>\n",
       "      <td>Binding of HsOrc1 and @PROTEIN$ to @EXPERIMENT...</td>\n",
       "    </tr>\n",
       "    <tr>\n",
       "      <th>4</th>\n",
       "      <td>1</td>\n",
       "      <td>@PROTEIN-FAMILY$ signaling is determined by ex...</td>\n",
       "    </tr>\n",
       "    <tr>\n",
       "      <th>5</th>\n",
       "      <td>1</td>\n",
       "      <td>To further analyze the binding of  c-Maf an...</td>\n",
       "    </tr>\n",
       "    <tr>\n",
       "      <th>6</th>\n",
       "      <td>1</td>\n",
       "      <td>( C) This  @PROTEIN-COMPLEX$ binds the@DNA$ o...</td>\n",
       "    </tr>\n",
       "    <tr>\n",
       "      <th>7</th>\n",
       "      <td>1</td>\n",
       "      <td>The fact that  @PROTEIN-FAMILY$ binding of  dP...</td>\n",
       "    </tr>\n",
       "    <tr>\n",
       "      <th>8</th>\n",
       "      <td>1</td>\n",
       "      <td>This most likely occurs through the interactio...</td>\n",
       "    </tr>\n",
       "    <tr>\n",
       "      <th>9</th>\n",
       "      <td>1</td>\n",
       "      <td>This observation demonstrates that  @PROTEIN$ ...</td>\n",
       "    </tr>\n",
       "  </tbody>\n",
       "</table>\n",
       "</div>\n",
       "      <button class=\"colab-df-convert\" onclick=\"convertToInteractive('df-df106562-eed0-47c3-81fc-fe08505d977f')\"\n",
       "              title=\"Convert this dataframe to an interactive table.\"\n",
       "              style=\"display:none;\">\n",
       "        \n",
       "  <svg xmlns=\"http://www.w3.org/2000/svg\" height=\"24px\"viewBox=\"0 0 24 24\"\n",
       "       width=\"24px\">\n",
       "    <path d=\"M0 0h24v24H0V0z\" fill=\"none\"/>\n",
       "    <path d=\"M18.56 5.44l.94 2.06.94-2.06 2.06-.94-2.06-.94-.94-2.06-.94 2.06-2.06.94zm-11 1L8.5 8.5l.94-2.06 2.06-.94-2.06-.94L8.5 2.5l-.94 2.06-2.06.94zm10 10l.94 2.06.94-2.06 2.06-.94-2.06-.94-.94-2.06-.94 2.06-2.06.94z\"/><path d=\"M17.41 7.96l-1.37-1.37c-.4-.4-.92-.59-1.43-.59-.52 0-1.04.2-1.43.59L10.3 9.45l-7.72 7.72c-.78.78-.78 2.05 0 2.83L4 21.41c.39.39.9.59 1.41.59.51 0 1.02-.2 1.41-.59l7.78-7.78 2.81-2.81c.8-.78.8-2.07 0-2.86zM5.41 20L4 18.59l7.72-7.72 1.47 1.35L5.41 20z\"/>\n",
       "  </svg>\n",
       "      </button>\n",
       "      \n",
       "  <style>\n",
       "    .colab-df-container {\n",
       "      display:flex;\n",
       "      flex-wrap:wrap;\n",
       "      gap: 12px;\n",
       "    }\n",
       "\n",
       "    .colab-df-convert {\n",
       "      background-color: #E8F0FE;\n",
       "      border: none;\n",
       "      border-radius: 50%;\n",
       "      cursor: pointer;\n",
       "      display: none;\n",
       "      fill: #1967D2;\n",
       "      height: 32px;\n",
       "      padding: 0 0 0 0;\n",
       "      width: 32px;\n",
       "    }\n",
       "\n",
       "    .colab-df-convert:hover {\n",
       "      background-color: #E2EBFA;\n",
       "      box-shadow: 0px 1px 2px rgba(60, 64, 67, 0.3), 0px 1px 3px 1px rgba(60, 64, 67, 0.15);\n",
       "      fill: #174EA6;\n",
       "    }\n",
       "\n",
       "    [theme=dark] .colab-df-convert {\n",
       "      background-color: #3B4455;\n",
       "      fill: #D2E3FC;\n",
       "    }\n",
       "\n",
       "    [theme=dark] .colab-df-convert:hover {\n",
       "      background-color: #434B5C;\n",
       "      box-shadow: 0px 1px 3px 1px rgba(0, 0, 0, 0.15);\n",
       "      filter: drop-shadow(0px 1px 2px rgba(0, 0, 0, 0.3));\n",
       "      fill: #FFFFFF;\n",
       "    }\n",
       "  </style>\n",
       "\n",
       "      <script>\n",
       "        const buttonEl =\n",
       "          document.querySelector('#df-df106562-eed0-47c3-81fc-fe08505d977f button.colab-df-convert');\n",
       "        buttonEl.style.display =\n",
       "          google.colab.kernel.accessAllowed ? 'block' : 'none';\n",
       "\n",
       "        async function convertToInteractive(key) {\n",
       "          const element = document.querySelector('#df-df106562-eed0-47c3-81fc-fe08505d977f');\n",
       "          const dataTable =\n",
       "            await google.colab.kernel.invokeFunction('convertToInteractive',\n",
       "                                                     [key], {});\n",
       "          if (!dataTable) return;\n",
       "\n",
       "          const docLinkHtml = 'Like what you see? Visit the ' +\n",
       "            '<a target=\"_blank\" href=https://colab.research.google.com/notebooks/data_table.ipynb>data table notebook</a>'\n",
       "            + ' to learn more about interactive tables.';\n",
       "          element.innerHTML = '';\n",
       "          dataTable['output_type'] = 'display_data';\n",
       "          await google.colab.output.renderOutput(dataTable, element);\n",
       "          const docLink = document.createElement('div');\n",
       "          docLink.innerHTML = docLinkHtml;\n",
       "          element.appendChild(docLink);\n",
       "        }\n",
       "      </script>\n",
       "    </div>\n",
       "  </div>\n",
       "  "
      ],
      "text/plain": [
       "   Label                                           Sentence\n",
       "0      1  In the absence of  @PROTEIN-FAMILY$ signals,  ...\n",
       "1      1  These results provide evidence that complex 2 ...\n",
       "2      1  Full-length @PROTEIN$, which binds to both Cdk...\n",
       "3      0  Binding of HsOrc1 and @PROTEIN$ to @EXPERIMENT...\n",
       "4      1  @PROTEIN-FAMILY$ signaling is determined by ex...\n",
       "5      1     To further analyze the binding of  c-Maf an...\n",
       "6      1   ( C) This  @PROTEIN-COMPLEX$ binds the@DNA$ o...\n",
       "7      1  The fact that  @PROTEIN-FAMILY$ binding of  dP...\n",
       "8      1  This most likely occurs through the interactio...\n",
       "9      1  This observation demonstrates that  @PROTEIN$ ..."
      ]
     },
     "execution_count": 12,
     "metadata": {},
     "output_type": "execute_result"
    }
   ],
   "source": [
    "data_train.head(10)"
   ]
  },
  {
   "cell_type": "code",
   "execution_count": 13,
   "metadata": {
    "id": "9IdHVyeXvDaX"
   },
   "outputs": [],
   "source": [
    "data_test = loadData(csv_file_path='test.csv', header=None, index_col=None)"
   ]
  },
  {
   "cell_type": "code",
   "execution_count": 14,
   "metadata": {
    "colab": {
     "base_uri": "https://localhost:8080/",
     "height": 363
    },
    "id": "6RoM6YevsjB1",
    "outputId": "076ec1d5-3035-4726-c446-74e9c827398c"
   },
   "outputs": [
    {
     "data": {
      "text/html": [
       "\n",
       "  <div id=\"df-1ad9f6ee-6409-4c27-bce2-92cf9fb50a0f\">\n",
       "    <div class=\"colab-df-container\">\n",
       "      <div>\n",
       "<style scoped>\n",
       "    .dataframe tbody tr th:only-of-type {\n",
       "        vertical-align: middle;\n",
       "    }\n",
       "\n",
       "    .dataframe tbody tr th {\n",
       "        vertical-align: top;\n",
       "    }\n",
       "\n",
       "    .dataframe thead th {\n",
       "        text-align: right;\n",
       "    }\n",
       "</style>\n",
       "<table border=\"1\" class=\"dataframe\">\n",
       "  <thead>\n",
       "    <tr style=\"text-align: right;\">\n",
       "      <th></th>\n",
       "      <th>Label</th>\n",
       "      <th>Sentence</th>\n",
       "    </tr>\n",
       "  </thead>\n",
       "  <tbody>\n",
       "    <tr>\n",
       "      <th>0</th>\n",
       "      <td>1</td>\n",
       "      <td>The other peptide motifs that inhibit angiogen...</td>\n",
       "    </tr>\n",
       "    <tr>\n",
       "      <th>1</th>\n",
       "      <td>1</td>\n",
       "      <td>In addition, these studies suggested that Arg1...</td>\n",
       "    </tr>\n",
       "    <tr>\n",
       "      <th>2</th>\n",
       "      <td>1</td>\n",
       "      <td>( B) Deletion of the  @PROTEIN$-binding region...</td>\n",
       "    </tr>\n",
       "    <tr>\n",
       "      <th>3</th>\n",
       "      <td>1</td>\n",
       "      <td>After incubating  @PROTEIN$ @PROTEIN$ PKAc co...</td>\n",
       "    </tr>\n",
       "    <tr>\n",
       "      <th>4</th>\n",
       "      <td>1</td>\n",
       "      <td>Phosphorylation of @PROTEIN$ Y1176 inhibits L1...</td>\n",
       "    </tr>\n",
       "    <tr>\n",
       "      <th>5</th>\n",
       "      <td>1</td>\n",
       "      <td>EMSA competition experiments support the hypot...</td>\n",
       "    </tr>\n",
       "    <tr>\n",
       "      <th>6</th>\n",
       "      <td>1</td>\n",
       "      <td>@PROTEIN$ binds t@PROTEIN-FAMILY$ins via its t...</td>\n",
       "    </tr>\n",
       "    <tr>\n",
       "      <th>7</th>\n",
       "      <td>1</td>\n",
       "      <td>Both  @PROTEIN-FAMILY$ and  Hsp88@PROTEIN-FAM...</td>\n",
       "    </tr>\n",
       "    <tr>\n",
       "      <th>8</th>\n",
       "      <td>1</td>\n",
       "      <td>Taken together, these results strongly implic...</td>\n",
       "    </tr>\n",
       "    <tr>\n",
       "      <th>9</th>\n",
       "      <td>1</td>\n",
       "      <td>Newer probes, designated  Raichu-@PROTEIN-FAMI...</td>\n",
       "    </tr>\n",
       "  </tbody>\n",
       "</table>\n",
       "</div>\n",
       "      <button class=\"colab-df-convert\" onclick=\"convertToInteractive('df-1ad9f6ee-6409-4c27-bce2-92cf9fb50a0f')\"\n",
       "              title=\"Convert this dataframe to an interactive table.\"\n",
       "              style=\"display:none;\">\n",
       "        \n",
       "  <svg xmlns=\"http://www.w3.org/2000/svg\" height=\"24px\"viewBox=\"0 0 24 24\"\n",
       "       width=\"24px\">\n",
       "    <path d=\"M0 0h24v24H0V0z\" fill=\"none\"/>\n",
       "    <path d=\"M18.56 5.44l.94 2.06.94-2.06 2.06-.94-2.06-.94-.94-2.06-.94 2.06-2.06.94zm-11 1L8.5 8.5l.94-2.06 2.06-.94-2.06-.94L8.5 2.5l-.94 2.06-2.06.94zm10 10l.94 2.06.94-2.06 2.06-.94-2.06-.94-.94-2.06-.94 2.06-2.06.94z\"/><path d=\"M17.41 7.96l-1.37-1.37c-.4-.4-.92-.59-1.43-.59-.52 0-1.04.2-1.43.59L10.3 9.45l-7.72 7.72c-.78.78-.78 2.05 0 2.83L4 21.41c.39.39.9.59 1.41.59.51 0 1.02-.2 1.41-.59l7.78-7.78 2.81-2.81c.8-.78.8-2.07 0-2.86zM5.41 20L4 18.59l7.72-7.72 1.47 1.35L5.41 20z\"/>\n",
       "  </svg>\n",
       "      </button>\n",
       "      \n",
       "  <style>\n",
       "    .colab-df-container {\n",
       "      display:flex;\n",
       "      flex-wrap:wrap;\n",
       "      gap: 12px;\n",
       "    }\n",
       "\n",
       "    .colab-df-convert {\n",
       "      background-color: #E8F0FE;\n",
       "      border: none;\n",
       "      border-radius: 50%;\n",
       "      cursor: pointer;\n",
       "      display: none;\n",
       "      fill: #1967D2;\n",
       "      height: 32px;\n",
       "      padding: 0 0 0 0;\n",
       "      width: 32px;\n",
       "    }\n",
       "\n",
       "    .colab-df-convert:hover {\n",
       "      background-color: #E2EBFA;\n",
       "      box-shadow: 0px 1px 2px rgba(60, 64, 67, 0.3), 0px 1px 3px 1px rgba(60, 64, 67, 0.15);\n",
       "      fill: #174EA6;\n",
       "    }\n",
       "\n",
       "    [theme=dark] .colab-df-convert {\n",
       "      background-color: #3B4455;\n",
       "      fill: #D2E3FC;\n",
       "    }\n",
       "\n",
       "    [theme=dark] .colab-df-convert:hover {\n",
       "      background-color: #434B5C;\n",
       "      box-shadow: 0px 1px 3px 1px rgba(0, 0, 0, 0.15);\n",
       "      filter: drop-shadow(0px 1px 2px rgba(0, 0, 0, 0.3));\n",
       "      fill: #FFFFFF;\n",
       "    }\n",
       "  </style>\n",
       "\n",
       "      <script>\n",
       "        const buttonEl =\n",
       "          document.querySelector('#df-1ad9f6ee-6409-4c27-bce2-92cf9fb50a0f button.colab-df-convert');\n",
       "        buttonEl.style.display =\n",
       "          google.colab.kernel.accessAllowed ? 'block' : 'none';\n",
       "\n",
       "        async function convertToInteractive(key) {\n",
       "          const element = document.querySelector('#df-1ad9f6ee-6409-4c27-bce2-92cf9fb50a0f');\n",
       "          const dataTable =\n",
       "            await google.colab.kernel.invokeFunction('convertToInteractive',\n",
       "                                                     [key], {});\n",
       "          if (!dataTable) return;\n",
       "\n",
       "          const docLinkHtml = 'Like what you see? Visit the ' +\n",
       "            '<a target=\"_blank\" href=https://colab.research.google.com/notebooks/data_table.ipynb>data table notebook</a>'\n",
       "            + ' to learn more about interactive tables.';\n",
       "          element.innerHTML = '';\n",
       "          dataTable['output_type'] = 'display_data';\n",
       "          await google.colab.output.renderOutput(dataTable, element);\n",
       "          const docLink = document.createElement('div');\n",
       "          docLink.innerHTML = docLinkHtml;\n",
       "          element.appendChild(docLink);\n",
       "        }\n",
       "      </script>\n",
       "    </div>\n",
       "  </div>\n",
       "  "
      ],
      "text/plain": [
       "   Label                                           Sentence\n",
       "0      1  The other peptide motifs that inhibit angiogen...\n",
       "1      1  In addition, these studies suggested that Arg1...\n",
       "2      1  ( B) Deletion of the  @PROTEIN$-binding region...\n",
       "3      1   After incubating  @PROTEIN$ @PROTEIN$ PKAc co...\n",
       "4      1  Phosphorylation of @PROTEIN$ Y1176 inhibits L1...\n",
       "5      1  EMSA competition experiments support the hypot...\n",
       "6      1  @PROTEIN$ binds t@PROTEIN-FAMILY$ins via its t...\n",
       "7      1   Both  @PROTEIN-FAMILY$ and  Hsp88@PROTEIN-FAM...\n",
       "8      1   Taken together, these results strongly implic...\n",
       "9      1  Newer probes, designated  Raichu-@PROTEIN-FAMI..."
      ]
     },
     "execution_count": 14,
     "metadata": {},
     "output_type": "execute_result"
    }
   ],
   "source": [
    "data_test.head(10)"
   ]
  },
  {
   "cell_type": "code",
   "execution_count": 15,
   "metadata": {
    "id": "hgCqXHBUdeYM"
   },
   "outputs": [],
   "source": [
    "data_dev = loadData(csv_file_path='dev.csv', header=None, index_col=None)"
   ]
  },
  {
   "cell_type": "code",
   "execution_count": 16,
   "metadata": {
    "colab": {
     "base_uri": "https://localhost:8080/",
     "height": 363
    },
    "id": "ShhhNZU_de6T",
    "outputId": "289893b1-15d0-464f-8ac7-eb86e213cc61"
   },
   "outputs": [
    {
     "data": {
      "text/html": [
       "\n",
       "  <div id=\"df-1c695129-1bc5-4d2c-b76d-caa1d9f0919e\">\n",
       "    <div class=\"colab-df-container\">\n",
       "      <div>\n",
       "<style scoped>\n",
       "    .dataframe tbody tr th:only-of-type {\n",
       "        vertical-align: middle;\n",
       "    }\n",
       "\n",
       "    .dataframe tbody tr th {\n",
       "        vertical-align: top;\n",
       "    }\n",
       "\n",
       "    .dataframe thead th {\n",
       "        text-align: right;\n",
       "    }\n",
       "</style>\n",
       "<table border=\"1\" class=\"dataframe\">\n",
       "  <thead>\n",
       "    <tr style=\"text-align: right;\">\n",
       "      <th></th>\n",
       "      <th>Label</th>\n",
       "      <th>Sentence</th>\n",
       "    </tr>\n",
       "  </thead>\n",
       "  <tbody>\n",
       "    <tr>\n",
       "      <th>0</th>\n",
       "      <td>1</td>\n",
       "      <td>Thus, it appears that the holoenzyme can parti...</td>\n",
       "    </tr>\n",
       "    <tr>\n",
       "      <th>1</th>\n",
       "      <td>1</td>\n",
       "      <td>We therefore altered the  @PROTEIN$-interactio...</td>\n",
       "    </tr>\n",
       "    <tr>\n",
       "      <th>2</th>\n",
       "      <td>1</td>\n",
       "      <td>H2A-H2B stabilizes binding of @PROTEIN$@PROTEI...</td>\n",
       "    </tr>\n",
       "    <tr>\n",
       "      <th>3</th>\n",
       "      <td>1</td>\n",
       "      <td>@PROTEIN-FAMILY$ can bind  collagen type IV, f...</td>\n",
       "    </tr>\n",
       "    <tr>\n",
       "      <th>4</th>\n",
       "      <td>1</td>\n",
       "      <td>Extracts were incubated with 20 mug of  Gst-Ra...</td>\n",
       "    </tr>\n",
       "    <tr>\n",
       "      <th>5</th>\n",
       "      <td>1</td>\n",
       "      <td>We observed changes in the  @DNA$ binding of  ...</td>\n",
       "    </tr>\n",
       "    <tr>\n",
       "      <th>6</th>\n",
       "      <td>1</td>\n",
       "      <td>According to crystallographic studies of a  @...</td>\n",
       "    </tr>\n",
       "    <tr>\n",
       "      <th>7</th>\n",
       "      <td>1</td>\n",
       "      <td>Growth arrest by  TGF-beta is dependent on  @...</td>\n",
       "    </tr>\n",
       "    <tr>\n",
       "      <th>8</th>\n",
       "      <td>1</td>\n",
       "      <td>Whereas FK506 stimulates the binding of @PROTE...</td>\n",
       "    </tr>\n",
       "    <tr>\n",
       "      <th>9</th>\n",
       "      <td>1</td>\n",
       "      <td>The  adenylated Alu RNA as well as adenylated ...</td>\n",
       "    </tr>\n",
       "  </tbody>\n",
       "</table>\n",
       "</div>\n",
       "      <button class=\"colab-df-convert\" onclick=\"convertToInteractive('df-1c695129-1bc5-4d2c-b76d-caa1d9f0919e')\"\n",
       "              title=\"Convert this dataframe to an interactive table.\"\n",
       "              style=\"display:none;\">\n",
       "        \n",
       "  <svg xmlns=\"http://www.w3.org/2000/svg\" height=\"24px\"viewBox=\"0 0 24 24\"\n",
       "       width=\"24px\">\n",
       "    <path d=\"M0 0h24v24H0V0z\" fill=\"none\"/>\n",
       "    <path d=\"M18.56 5.44l.94 2.06.94-2.06 2.06-.94-2.06-.94-.94-2.06-.94 2.06-2.06.94zm-11 1L8.5 8.5l.94-2.06 2.06-.94-2.06-.94L8.5 2.5l-.94 2.06-2.06.94zm10 10l.94 2.06.94-2.06 2.06-.94-2.06-.94-.94-2.06-.94 2.06-2.06.94z\"/><path d=\"M17.41 7.96l-1.37-1.37c-.4-.4-.92-.59-1.43-.59-.52 0-1.04.2-1.43.59L10.3 9.45l-7.72 7.72c-.78.78-.78 2.05 0 2.83L4 21.41c.39.39.9.59 1.41.59.51 0 1.02-.2 1.41-.59l7.78-7.78 2.81-2.81c.8-.78.8-2.07 0-2.86zM5.41 20L4 18.59l7.72-7.72 1.47 1.35L5.41 20z\"/>\n",
       "  </svg>\n",
       "      </button>\n",
       "      \n",
       "  <style>\n",
       "    .colab-df-container {\n",
       "      display:flex;\n",
       "      flex-wrap:wrap;\n",
       "      gap: 12px;\n",
       "    }\n",
       "\n",
       "    .colab-df-convert {\n",
       "      background-color: #E8F0FE;\n",
       "      border: none;\n",
       "      border-radius: 50%;\n",
       "      cursor: pointer;\n",
       "      display: none;\n",
       "      fill: #1967D2;\n",
       "      height: 32px;\n",
       "      padding: 0 0 0 0;\n",
       "      width: 32px;\n",
       "    }\n",
       "\n",
       "    .colab-df-convert:hover {\n",
       "      background-color: #E2EBFA;\n",
       "      box-shadow: 0px 1px 2px rgba(60, 64, 67, 0.3), 0px 1px 3px 1px rgba(60, 64, 67, 0.15);\n",
       "      fill: #174EA6;\n",
       "    }\n",
       "\n",
       "    [theme=dark] .colab-df-convert {\n",
       "      background-color: #3B4455;\n",
       "      fill: #D2E3FC;\n",
       "    }\n",
       "\n",
       "    [theme=dark] .colab-df-convert:hover {\n",
       "      background-color: #434B5C;\n",
       "      box-shadow: 0px 1px 3px 1px rgba(0, 0, 0, 0.15);\n",
       "      filter: drop-shadow(0px 1px 2px rgba(0, 0, 0, 0.3));\n",
       "      fill: #FFFFFF;\n",
       "    }\n",
       "  </style>\n",
       "\n",
       "      <script>\n",
       "        const buttonEl =\n",
       "          document.querySelector('#df-1c695129-1bc5-4d2c-b76d-caa1d9f0919e button.colab-df-convert');\n",
       "        buttonEl.style.display =\n",
       "          google.colab.kernel.accessAllowed ? 'block' : 'none';\n",
       "\n",
       "        async function convertToInteractive(key) {\n",
       "          const element = document.querySelector('#df-1c695129-1bc5-4d2c-b76d-caa1d9f0919e');\n",
       "          const dataTable =\n",
       "            await google.colab.kernel.invokeFunction('convertToInteractive',\n",
       "                                                     [key], {});\n",
       "          if (!dataTable) return;\n",
       "\n",
       "          const docLinkHtml = 'Like what you see? Visit the ' +\n",
       "            '<a target=\"_blank\" href=https://colab.research.google.com/notebooks/data_table.ipynb>data table notebook</a>'\n",
       "            + ' to learn more about interactive tables.';\n",
       "          element.innerHTML = '';\n",
       "          dataTable['output_type'] = 'display_data';\n",
       "          await google.colab.output.renderOutput(dataTable, element);\n",
       "          const docLink = document.createElement('div');\n",
       "          docLink.innerHTML = docLinkHtml;\n",
       "          element.appendChild(docLink);\n",
       "        }\n",
       "      </script>\n",
       "    </div>\n",
       "  </div>\n",
       "  "
      ],
      "text/plain": [
       "   Label                                           Sentence\n",
       "0      1  Thus, it appears that the holoenzyme can parti...\n",
       "1      1  We therefore altered the  @PROTEIN$-interactio...\n",
       "2      1  H2A-H2B stabilizes binding of @PROTEIN$@PROTEI...\n",
       "3      1  @PROTEIN-FAMILY$ can bind  collagen type IV, f...\n",
       "4      1  Extracts were incubated with 20 mug of  Gst-Ra...\n",
       "5      1  We observed changes in the  @DNA$ binding of  ...\n",
       "6      1   According to crystallographic studies of a  @...\n",
       "7      1   Growth arrest by  TGF-beta is dependent on  @...\n",
       "8      1  Whereas FK506 stimulates the binding of @PROTE...\n",
       "9      1  The  adenylated Alu RNA as well as adenylated ..."
      ]
     },
     "execution_count": 16,
     "metadata": {},
     "output_type": "execute_result"
    }
   ],
   "source": [
    "data_dev.head(10)"
   ]
  },
  {
   "cell_type": "code",
   "execution_count": 17,
   "metadata": {
    "colab": {
     "base_uri": "https://localhost:8080/"
    },
    "id": "zNw-zJSNdgsk",
    "outputId": "1fb6d7a3-4b83-40d2-b59d-dc9b11759070"
   },
   "outputs": [
    {
     "name": "stdout",
     "output_type": "stream",
     "text": [
      "1886 236 236\n"
     ]
    }
   ],
   "source": [
    "print(len(data_train), len(data_test), len(data_dev))"
   ]
  },
  {
   "cell_type": "markdown",
   "metadata": {
    "id": "zJPbPw-qqRn2"
   },
   "source": [
    "###Sentences "
   ]
  },
  {
   "cell_type": "code",
   "execution_count": 18,
   "metadata": {
    "id": "VgntHfAo3aZy"
   },
   "outputs": [],
   "source": [
    "train_texts = data_train[data_train.columns[1]].to_list()\n",
    "train_labels = data_train[data_train.columns[0]].to_list()"
   ]
  },
  {
   "cell_type": "code",
   "execution_count": 19,
   "metadata": {
    "id": "zcBRLeDcc1qo"
   },
   "outputs": [],
   "source": [
    "test_texts = data_test[data_test.columns[1]].to_list()\n",
    "test_labels = data_test[data_test.columns[0]].to_list()"
   ]
  },
  {
   "cell_type": "code",
   "execution_count": 20,
   "metadata": {
    "id": "o4v0rMfxd9Dl"
   },
   "outputs": [],
   "source": [
    "dev_texts = data_dev[data_dev.columns[1]].to_list()\n",
    "dev_labels = data_dev[data_dev.columns[0]].to_list()"
   ]
  },
  {
   "cell_type": "markdown",
   "metadata": {
    "id": "rxatmEuRqW1M"
   },
   "source": [
    "####Exploration"
   ]
  },
  {
   "cell_type": "code",
   "execution_count": 21,
   "metadata": {
    "id": "8xjS_lpd3aZI"
   },
   "outputs": [],
   "source": [
    "import matplotlib.pyplot as plt\n",
    "plt.style.use(\"ggplot\")"
   ]
  },
  {
   "cell_type": "code",
   "execution_count": 22,
   "metadata": {
    "colab": {
     "base_uri": "https://localhost:8080/",
     "height": 265
    },
    "id": "yXMq0bHN3aZB",
    "outputId": "2d8289df-0d2e-4e84-9345-123a375c05b8"
   },
   "outputs": [
    {
     "data": {
      "image/png": "[encoded data removed]",
      "text/plain": [
       "<Figure size 432x288 with 1 Axes>"
      ]
     },
     "metadata": {},
     "output_type": "display_data"
    }
   ],
   "source": [
    "plt.hist([len(s) for s in train_texts], bins=5)\n",
    "plt.show()"
   ]
  },
  {
   "cell_type": "code",
   "execution_count": 23,
   "metadata": {
    "colab": {
     "base_uri": "https://localhost:8080/"
    },
    "id": "1-aS91hTKB5i",
    "outputId": "ebfabfb4-3bc6-4e0d-c05d-199cd28507f5"
   },
   "outputs": [
    {
     "data": {
      "text/plain": [
       "642"
      ]
     },
     "execution_count": 23,
     "metadata": {},
     "output_type": "execute_result"
    }
   ],
   "source": [
    "max([len(s) for s in train_texts])"
   ]
  },
  {
   "cell_type": "code",
   "execution_count": 24,
   "metadata": {
    "id": "FBQLnJyY3aY7"
   },
   "outputs": [],
   "source": [
    "max_len = 128 #selected value outisde the histogram"
   ]
  },
  {
   "cell_type": "code",
   "execution_count": 25,
   "metadata": {
    "colab": {
     "base_uri": "https://localhost:8080/"
    },
    "id": "UQFdVv4qnL0u",
    "outputId": "5a7ab583-0f6c-421f-e09e-50693a7d140d"
   },
   "outputs": [
    {
     "name": "stdout",
     "output_type": "stream",
     "text": [
      "1886\n",
      "2122\n",
      "2358\n"
     ]
    }
   ],
   "source": [
    "vocab_txt = []\n",
    "vocab_txt.extend(train_texts)\n",
    "print(len(vocab_txt))\n",
    "vocab_txt.extend(test_texts)\n",
    "print(len(vocab_txt))\n",
    "vocab_txt.extend(dev_texts)\n",
    "print(len(vocab_txt))"
   ]
  },
  {
   "cell_type": "code",
   "execution_count": 26,
   "metadata": {
    "colab": {
     "base_uri": "https://localhost:8080/"
    },
    "id": "4YrK2TwTrAQp",
    "outputId": "d91d0a68-e267-4a49-89e4-48902910b8b2"
   },
   "outputs": [
    {
     "name": "stderr",
     "output_type": "stream",
     "text": [
      "Using TensorFlow backend.\n"
     ]
    }
   ],
   "source": [
    "from keras.preprocessing.text import Tokenizer"
   ]
  },
  {
   "cell_type": "code",
   "execution_count": 27,
   "metadata": {
    "colab": {
     "base_uri": "https://localhost:8080/"
    },
    "id": "3jdiCEOBnJA1",
    "outputId": "14989224-6d74-470c-e6de-672dfa607059"
   },
   "outputs": [
    {
     "name": "stdout",
     "output_type": "stream",
     "text": [
      "The document count 2358\n",
      "The count of words OrderedDict([('in', 1348), ('the', 3666), ('absence', 41), ('of', 2830), ('protein', 4043), ('family', 718), ('signals', 10), ('lef1', 3), ('binds', 601), ('to', 2582), ('transcriptional', 49), ('co', 21), ('repressors', 6), ('tle', 2), ('ctbp', 18), ('and', 2340), ('inhibit', 31), ('gene', 35), ('expression', 40), ('22', 27), ('these', 219), ('results', 131), ('provide', 10), ('evidence', 33), ('that', 1109), ('complex', 430), ('2', 230), ('is', 612), ('due', 11), ('binding', 1529), ('t', 94), ('dna', 444), ('cc', 3), ('box', 41), ('however', 86), ('1', 327), ('appears', 21), ('be', 188), ('a', 957), ('distinct', 29), ('factor', 52), ('s', 68), ('perhaps', 12), ('krã¼ppel', 1), ('like', 47), ('specifically', 40), ('induced', 40), ('during', 31), ('me2so', 1), ('neuronal', 5), ('differentiation', 1), ('n1e', 1), ('115', 1), ('cells', 149), ('full', 31), ('length', 28), ('which', 237), ('both', 202), ('cdk', 4), ('cyclin', 55), ('effectively', 5), ('inhibits', 37), ('replication', 11), ('fig', 231), ('7', 76), ('whereas', 105), ('gst', 105), ('control', 27), ('not', 395), ('inhibitory', 32), ('hsorc1', 1), ('experiment', 39), ('tag', 33), ('was', 276), ('detectable', 12), ('lanes', 38), ('6', 54), ('confirming', 15), ('interaction', 143), ('mediated', 73), ('by', 410), ('hscdc6', 3), ('portion', 6), ('fusion', 52), ('signaling', 37), ('determined', 24), ('patterns', 5), ('bmps', 4), ('their', 62), ('receptors', 42), ('soluble', 8), ('bmp', 5), ('antagonists', 8), ('such', 45), ('d', 60), ('follistatin', 2), ('directly', 130), ('bind', 443), ('prevent', 19), ('functional', 15), ('receptor', 54), ('ligand', 14), ('for', 435), ('review', 3), ('see', 35), ('cho', 3), ('blitz', 2), ('1998', 103), ('further', 48), ('analyze', 2), ('c', 217), ('maf', 1), ('300', 4), ('mammalian', 16), ('two', 86), ('hybrid', 17), ('assay', 55), ('established', 7), ('this', 227), ('origin', 8), (\"5'\", 6), ('attached', 2), ('tp', 3), ('omitted', 1), ('simplification', 1), ('most', 33), ('likely', 59), ('irregular', 1), ('bent', 1), ('structure', 27), ('fact', 27), ('dper', 3), ('has', 113), ('been', 111), ('preserved', 2), ('while', 33), ('location', 2), ('sequence', 91), ('site', 137), ('may', 134), ('have', 103), ('shuffled', 2), ('suggests', 38), ('there', 20), ('strong', 12), ('selective', 17), ('pressure', 2), ('maintain', 2), ('proteins', 211), ('occurs', 23), ('through', 73), ('between', 114), ('bound', 367), ('rna', 133), ('mrna', 36), ('u7', 8), ('snrnp', 23), ('or', 304), ('another', 23), ('would', 62), ('bridge', 7), ('slbp', 4), ('u7snrnp', 2), ('observation', 10), ('demonstrates', 2), ('mdm2', 2), ('under', 28), ('dynamic', 11), ('regulation', 36), ('affected', 18), ('changes', 23), ('elicited', 2), ('upon', 17), ('stress', 6), ('damage', 1), ('as', 352), ('shown', 165), ('here', 19), ('uv', 4), ('irradiation', 2), ('swinholide', 2), ('sequesters', 2), ('n', 97), ('dimers', 6), ('can', 141), ('sever', 4), ('f', 93), ('actin', 177), ('10', 54), ('24', 11), ('37', 26), ('cytochalasin', 2), ('induces', 17), ('dimerization', 4), ('g', 32), ('promotes', 17), ('atp', 67), ('hydrolysis', 11), ('caps', 2), ('filament', 15), ('barbed', 3), ('ends', 3), ('sampath', 2), ('pollard', 2), ('1991', 16), ('profilin', 28), ('nucleotide', 16), ('exchange', 13), ('schluter', 3), ('et', 480), ('al', 484), ('1997', 75), ('second', 34), ('it', 183), ('now', 12), ('believed', 5), ('interacts', 39), ('mostly', 5), ('with', 597), ('type', 77), ('cyclins', 6), ('cdk4', 16), ('more', 43), ('weakly', 19), ('e', 116), ('an', 175), ('k2', 1), ('p27kip1', 6), ('allow', 19), ('activation', 72), ('cdk2', 35), ('complexes', 40), ('at', 168), ('g1', 11), ('transition', 8), ('54', 13), ('55', 14), ('56', 7), ('pc', 4), ('pres', 8), ('re', 2), ('moters', 1), ('target', 45), ('genes', 19), ('point', 7), ('important', 39), ('transitions', 4), ('necessary', 30), ('establishment', 4), ('cellular', 8), ('memory', 5), ('mechanism', 25), ('supported', 8), ('pcg', 11), ('trxg', 4), ('conceivable', 1), ('cleft', 3), ('evolved', 1), ('primarily', 3), ('accommodate', 2), ('very', 14), ('tightly', 15), ('subject', 1), ('stringent', 1), ('we', 291), ('also', 190), ('present', 28), ('tim', 6), ('alone', 27), ('cannot', 16), ('repress', 8), ('dclk', 8), ('transcription', 98), ('reporter', 5), ('s2', 24), ('despite', 20), ('report', 16), ('disrupts', 6), ('ability', 62), ('cyc', 8), ('vitro', 130), ('lee', 3), ('1999', 72), ('impaired', 7), ('f31', 1), ('118', 2), ('expressing', 9), ('tyrosine', 11), ('residues', 29), ('31', 13), ('paxillin', 14), ('reside', 1), ('within', 52), ('yxxp', 1), ('motif', 88), ('corresponds', 1), ('optimal', 2), ('crk', 6), ('sh2', 18), ('birge', 1), ('1993', 27), ('seem', 2), ('number', 22), ('molecules', 34), ('three', 36), ('considering', 2), ('rods', 6), ('are', 162), ('probably', 11), ('arranged', 2), ('stranded', 2), ('helix', 9), ('33', 15), ('six', 7), ('paired', 2), ('titin', 5), ('strands', 3), ('lie', 2), ('along', 11), ('surface', 15), ('myosin', 24), ('backbone', 3), ('34', 9), ('position', 8), ('domain', 400), ('c10', 2), ('dictated', 2), ('register', 2), ('first', 41), ('ig', 2), ('superrepeats', 2), ('mybpc', 2), ('on', 188), ('lmm', 2), ('component', 26), ('expected', 17), ('experimental', 46), ('construct', 49), ('hic', 18), ('efficiently', 24), ('pulled', 11), ('down', 22), ('cdk9', 7), ('from', 189), ('hela', 9), ('cell', 74), ('extract', 10), ('no', 64), ('detected', 40), ('5b', 16), ('map', 17), ('riz', 3), ('truncation', 2), ('mutan', 1), ('riz1', 3), ('were', 83), ('generated', 4), ('translation', 11), ('various', 14), ('mutant', 56), ('constructs', 5), ('5', 81), ('ink', 4), ('specificity', 32), ('early', 16), ('kinases', 10), ('cdk6', 8), ('complexed', 10), ('cip', 5), ('partial', 9), ('either', 71), ('but', 200), ('jnk', 14), ('affects', 5), ('amount', 26), ('immature', 4), ('app', 15), ('much', 16), ('does', 91), ('jip1b', 5), ('although', 54), ('cd19', 2), ('function', 49), ('following', 14), ('its', 137), ('potential', 11), ('yet', 13), ('unidentified', 6), ('bindin', 24), ('cd21', 1), ('supplies', 1), ('already', 5), ('characterized', 7), ('thereby', 25), ('linking', 5), ('complement', 2), ('b', 104), ('if', 38), ('creb', 24), ('sufficient', 14), ('what', 2), ('essential', 15), ('step', 6), ('pka', 33), ('response', 18), ('disrupted', 2), ('replacement', 4), ('ser', 10), ('asp', 3), ('low', 18), ('ph', 24), ('cl', 1), ('form', 104), ('mhcii', 2), ('prying', 1), ('open', 4), ('dm', 11), ('simply', 2), ('stabilize', 8), ('spontaneously', 1), ('shift', 32), ('sequences', 42), ('nta', 3), ('region', 149), ('example', 19), ('akap79', 2), ('colocalizes', 2), ('calcineurin', 8), ('pkc', 44), ('inad', 7), ('clusters', 5), ('phospholipase', 4), ('beta', 99), ('calmodulin', 20), ('3', 154), ('addition', 43), ('permeabilized', 1), ('chemical', 221), ('4', 102), ('p2', 10), ('late', 4), ('stages', 5), ('clathrin', 32), ('endocytosis', 5), ('jost', 1), ('studies', 63), ('using', 60), ('b7', 6), ('suppression', 5), ('humoral', 2), ('immunity', 2), ('several', 25), ('mouse', 13), ('models', 5), ('autoimmune', 2), ('disease', 2), ('12â\\x80\\x9316', 2), ('unclear', 2), ('whether', 51), ('different', 61), ('costimulatory', 2), ('delivered', 3), ('cd28', 2), ('depending', 7), ('propose', 10), ('unit', 1), ('di', 11), ('trimethylated', 2), ('lysine', 7), ('9', 50), ('shows', 23), ('peptide', 59), ('fits', 2), ('groove', 2), ('lodges', 2), ('methyllysine', 3), ('hydrophobic', 3), ('pocket', 7), ('nielsen', 2), ('2002', 13), ('jacobs', 3), ('khorasanizadeh', 3), ('double', 6), ('reciprocal', 6), ('plot', 2), ('adducin', 13), ('dependent', 105), ('com', 3), ('data', 77), ('panels', 7), ('thus', 58), ('neomycin', 1), ('polylysine', 1), ('spermine', 1), ('reversed', 1), ('antagonism', 1), ('1c', 1), ('pip2', 7), ('same', 22), ('unphosphorylated', 4), ('r', 40), ('fascin', 20), ('regardless', 7), ('treatment', 12), ('indicating', 24), ('39', 9), ('responsible', 22), ('phosphorylation', 95), ('cnmp', 4), ('bd', 5), ('cnrasgef', 4), ('similar', 51), ('camp', 7), ('gefs', 3), ('regi', 3), ('pkg', 7), ('cyclic', 3), ('gated', 3), ('k', 18), ('channels', 7), ('lacks', 12), ('conservation', 6), ('aa', 9), ('ta', 9), ('found', 76), ('epac', 4), ('respectively', 17), ('supplementary', 4), ('material', 5), ('identified', 25), ('amino', 95), ('acids', 34), ('midas', 1), ('critical', 14), ('activated', 44), ('ligands', 14), ('epidermal', 9), ('growth', 30), ('egf', 35), ('transforming', 6), ('tgf', 12), ('amphiregulin', 5), ('heparin', 22), ('hb', 5), ('cellulin', 5), ('gulin', 1), ('prigent', 6), ('lemoine', 6), ('1992', 14), ('earp', 6), ('1995', 50), ('agrees', 5), ('our', 67), ('previous', 25), ('finding', 11), ('q', 1), ('required', 66), ('efficient', 14), ('rpd3', 8), ('â\\x80\\x8b', 5), ('4d', 4), ('previously', 43), ('published', 2), ('showing', 12), ('repression', 29), ('gro', 4), ('requires', 10), ('tetramerization', 1), ('chen', 3), ('truncated', 6), ('lost', 10), ('ccr4', 3), ('only', 94), ('chemokine', 6), ('30', 37), ('maintained', 3), ('chemotactic', 2), ('activity', 102), ('via', 31), ('undefined', 3), ('molecule', 21), ('strongly', 29), ('imply', 9), ('causes', 9), ('conformational', 21), ('change', 15), ('pxdls', 1), ('reasonably', 3), ('conclude', 13), ('ds', 9), ('ss', 6), ('atti', 3), ('o', 55), ('attc', 3), ('inti1', 3), ('because', 67), ('cbp', 87), ('ski', 2), ('exist', 3), ('regulatory', 19), ('determines', 3), ('gli3', 2), ('factors', 52), ('nature', 5), ('signal', 15), ('indicates', 14), ('degrade', 1), ('catenin', 92), ('consistent', 42), ('axindeltagsk', 1), ('3beta', 38), ('enhance', 9), ('even', 23), ('presence', 61), ('apc', 59), ('1211', 1), ('2075', 1), ('idea', 8), ('arose', 2), ('homodimer', 7), ('80', 2), ('kda', 7), ('polypeptide', 2), ('similarity', 8), ('km', 5), ('kd', 14), ('reported', 48), ('productively', 4), ('active', 15), ('conformation', 16), ('explanation', 7), ('other', 84), ('components', 12), ('reactions', 3), ('topoisomerase', 2), ('i', 70), ('modify', 2), ('properties', 12), ('tfiid', 20), ('ia', 2), ('leading', 14), ('enhanced', 10), ('interactions', 38), ('reduced', 18), ('tata', 11), ('inr', 14), ('spacing', 2), ('nonphosphorylated', 1), ('kelch', 1), ('p65', 8), ('continued', 2), ('show', 49), ('cdc42', 55), ('rac', 49), ('figure', 84), ('â\\x80\\x8b7a', 3), ('labeled', 16), ('â\\x80\\x98gal4â\\x80\\x99', 3), ('gal4', 11), ('wt', 6), ('dbâ·ad', 2), ('readily', 2), ('than', 74), ('artificial', 3), ('promoter', 60), ('bears', 3), ('four', 13), ('sites', 90), ('fused', 7), ('unrelated', 3), ('his4', 6), ('basal', 4), ('chromatin', 21), ('immunoprecipitation', 11), ('experiments', 47), ('confirm', 3), ('oter', 6), ('vivo', 68), ('deletion', 21), ('35', 11), ('loss', 7), ('pkac', 14), ('membrane', 59), ('lipids', 1), ('domains', 65), ('yonezawa', 2), ('1991a', 2), ('kusano', 2), ('capable', 10), ('inhibiting', 10), ('ac', 6), ('combination', 8), ('emsa', 16), ('sp1', 50), ('overexpression', 17), ('drosophila', 16), ('sl', 2), ('systematic', 2), ('mutagenesis', 11), ('sp3', 19), ('73', 6), ('66', 2), ('58', 6), ('52', 13), ('core', 21), ('oxidative', 4), ('triggered', 3), ('vegf', 2), ('transactivation', 6), ('related', 25), ('maguks', 8), ('psd93', 6), ('chapsyn', 6), ('110', 6), ('sap97', 7), ('sap102', 7), ('all', 63), ('cooh', 25), ('terminal', 125), ('tail', 37), ('pmca4b', 5), ('pm', 6), ('src', 31), ('kinase', 81), ('figs', 10), ('8', 47), ('phospholipid', 6), ('known', 28), ('decrease', 8), ('self', 8), ('association', 34), ('erms', 2), ('enhances', 18), ('isoform', 29), ('investigate', 9), ('isolated', 23), ('part', 19), ('human', 29), ('plasma', 17), ('comprising', 4), ('segment', 8), ('s2â\\x80\\x933', 4), ('performed', 14), ('competition', 13), ('conditions', 27), ('where', 28), ('cofilin', 11), ('limited', 4), ('depolymerization', 4), ('14', 45), ('increased', 24), ('pyk2', 7), ('paralleled', 1), ('time', 9), ('course', 2), ('erk2', 9), ('fak', 12), (\"3'\", 4), ('splice', 9), ('choice', 1), ('positive', 9), ('negative', 11), ('realized', 1), ('influencing', 1), ('u2af', 6), ('tian', 1), ('maniatis', 1), ('valcarcel', 1), ('reed', 1), ('1996', 63), ('result', 26), ('containing', 43), ('rgs', 15), ('makes', 7), ('axil', 14), ('mechanistically', 1), ('terminus', 21), ('yan', 3), ('mae', 3), ('baker', 5), ('2001', 34), ('referred', 4), ('pointed', 1), ('pd', 4), ('klambt', 1), ('possible', 16), ('therefore', 40), ('db', 3), ('exposed', 4), ('ubiquitination', 8), ('machinery', 2), ('resulting', 13), ('grf2', 1), ('aside', 6), ('observed', 62), ('purified', 31), ('polymerase', 16), ('ii', 71), ('tbp', 31), ('tfiif', 5), ('able', 23), ('recognize', 11), ('mediate', 22), ('manner', 36), ('tafs', 5), ('carcamo', 6), ('weis', 6), ('reinberg', 6), ('dtcf', 4), ('pangolin', 1), ('cofactor', 8), ('activitation', 2), ('longer', 10), ('armadillo', 17), ('activate', 24), ('36', 14), ('mab', 2), ('inhibited', 23), ('supershifted', 1), ('band', 4), ('dre', 3), ('p', 58), ('20', 31), ('28', 15), ('12', 35), ('gu', 1), ('w', 15), ('roeder', 1), ('specific', 63), ('acetylation', 12), ('p53', 30), ('wd', 4), ('40', 9), ('repeats', 22), ('effect', 64), ('rest', 3), ('cytochrome', 6), ('antagonizes', 3), ('allows', 4), ('apaf', 17), ('aggregation', 8), ('well', 60), ('procaspase', 7), ('124', 3), ('193', 4), ('269', 3), ('6a', 15), ('assumed', 2), ('any', 21), ('ily', 5), ('sxl', 6), ('occurred', 3), ('snf', 8), ('acting', 3), ('u1', 20), ('u2', 10), ('snrnps', 5), ('preceded', 2), ('pre', 34), ('exons', 3), ('block', 15), ('male', 2), ('gk', 7), ('psd', 7), ('95', 6), ('did', 48), ('induce', 14), ('large', 11), ('nucleoside', 2), ('contrast', 24), ('blaszczyk', 2), ('acid', 49), ('comparison', 12), ('drug', 12), ('fkbp12', 16), ('p75', 1), ('tnfr', 2), ('higher', 32), ('affinity', 100), ('dissociation', 14), ('rate', 11), ('100', 18), ('versus', 11), ('500', 3), ('t1', 8), ('min', 17), ('h', 36), ('15', 38), ('cytoplasmic', 56), ('cadherin', 28), ('catenins', 3), ('cy', 3), ('leton', 1), ('2a', 9), ('apc2', 1), ('apc6', 2), ('echistatin', 2), ('rgd', 3), ('peptides', 19), ('reagent', 28), ('16n7c2', 1), ('î²3', 3), ('integrin', 8), ('19', 33), ('fk506', 12), ('stimulates', 11), ('42', 18), ('stoichiometric', 4), ('quantities', 6), ('dissociate', 5), ('ryanodine', 2), ('ip3', 4), ('11', 36), ('putative', 19), ('rhoa', 24), ('include', 8), ('amano', 1), ('1996b', 2), ('rhophilin', 2), ('watanabe', 3), ('citron', 7), ('madaule', 1), ('rhotekin', 3), ('reid', 1), ('phosphatase', 8), ('kimura', 1), ('p140mdia', 1), ('rho', 27), ('associated', 23), ('matsui', 1), ('each', 13), ('reaction', 6), ('mug', 3), ('ione', 1), ('sepharose', 2), ('beads', 12), ('mixed', 4), ('aliquot', 1), ('mg', 2), ('hr', 4), ('degrees', 2), ('tr', 3), ('v', 18), ('erba', 5), ('moderately', 3), ('direct', 63), ('tfiib', 21), ('6b', 11), ('7c', 6), ('instance', 5), ('antithrombin', 2), ('iii', 13), ('21', 27), ('cgmp', 2), ('mixtures', 3), ('tested', 9), ('exhibited', 5), ('equal', 6), ('amounts', 12), ('regs', 3), ('î±', 35), ('concentrations', 19), ('î²', 39), ('heterooligomers', 3), ('proteasome', 8), ('ref', 19), ('uptake', 5), ('into', 40), ('tubules', 3), ('multivalent', 2), ('apolipoprotein', 1), ('ndependently', 1), ('facilitates', 7), ('latter', 10), ('indirectly', 5), ('developing', 3), ('r4', 3), ('fmi', 3), ('diego', 3), ('pk', 4), ('stbm', 2), ('dsh', 16), ('preventing', 8), ('attempts', 5), ('purify', 4), ('shm', 20), ('mixture', 4), ('scallop', 6), ('ntous', 1), ('coupled', 8), ('displacement', 14), ('according', 11), ('method', 6), ('developed', 6), ('cooke', 4), ('franks', 4), ('unsuccessful', 5), ('procedure', 4), ('inactivated', 6), ('atpase', 12), ('actomyosin', 6), ('acto', 4), ('nfatp', 4), ('overlap', 10), ('omoter', 13), ('ck1epsilon', 2), ('xenopus', 9), ('extracts', 21), ('rb', 7), ('subsequent', 8), ('mitogen', 3), ('stimulation', 20), ('proliferating', 1), ('chrivia', 3), ('j', 13), ('kwok', 3), ('lamb', 3), ('m', 18), ('hagiwara', 3), ('montminy', 4), ('goodman', 2), ('phosphorylated', 25), ('nuclear', 32), ('pro', 11), ('deactivation', 2), ('cf1', 2), ('involves', 5), ('alternative', 5), ('deactivate', 1), ('enzymatic', 3), ('dark', 2), ('16', 21), ('bi', 23), ('beneath', 1), ('forms', 32), ('cortical', 4), ('meshwork', 1), ('accumulates', 2), ('edges', 1), ('motile', 1), ('burridge', 8), ('1982', 1), ('sormunen', 1), ('lehto', 1), ('gsk', 48), ('tenin', 5), ('trans', 6), ('l1', 10), ('cam', 22), ('considered', 7), ('weak', 9), ('expressed', 18), ('might', 46), ('induction', 11), ('yrin', 2), ('drf3', 1), ('assays', 36), ('gtp', 54), ('78', 6), ('761', 2), ('771', 2), ('medline', 3), ('ubinfeld', 2), ('albert', 2), ('porfiri', 2), ('fiol', 2), ('munemitso', 2), ('polakis', 6), ('gsk3beta', 6), ('atenin', 11), ('assembly', 14), ('difference', 6), ('nadh', 5), ('properti', 2), ('complete', 6), ('inferred', 2), ('steady', 5), ('state', 20), ('kinetic', 5), ('analysis', 32), ('rat', 6), ('brain', 16), ('3h', 7), ('glutamate', 2), ('187', 2), ('nm', 16), ('will', 4), ('consider', 2), ('differences', 2), ('bo', 9), ('rala', 8), ('sec5', 12), ('gdp', 17), ('caused', 11), ('rather', 18), ('shp', 1), ('p85', 2), ('subunit', 31), ('phosphatidylinositol', 2), ('model', 24), ('proposed', 13), ('44', 5), ('alpha', 45), ('could', 48), ('still', 12), ('mechanisms', 4), ('highly', 7), ('nherf', 1), ('î²2', 1), ('adrenergic', 1), ('depend', 4), ('precise', 4), ('motifs', 32), ('few', 3), ('heptahelical', 2), ('contain', 7), ('slightly', 7), ('modified', 2), ('pdz', 21), ('polyproline', 4), ('since', 33), ('fold', 30), ('greater', 11), ('nad', 6), ('46', 8), ('signified', 8), (\"''\", 4), ('nadp', 4), (\"'\", 4), ('immunoblotting', 2), ('anti', 20), ('flag', 3), ('antibody', 15), ('revealed', 18), ('bcrwt', 1), ('bcrv1271a', 1), ('led', 2), ('increase', 34), ('ras', 28), ('5a', 3), ('methylated', 3), ('k9', 1), ('presumably', 7), ('rubinfeld', 5), ('epiregulin', 5), ('subunits', 5), ('distal', 7), ('ag', 9), ('facilitate', 7), ('spliceosome', 6), ('identify', 7), ('spliceosomal', 2), ('spf45', 4), ('splicing', 14), ('recognition', 6), ('utilization', 2), ('proximal', 15), ('3â\\x80²', 9), ('exon', 12), ('test', 9), ('possibility', 16), ('myc', 12), ('epitope', 6), ('tagged', 14), ('ectopically', 3), ('cos', 12), ('ha', 17), ('tsc1', 2), ('tsc2', 4), ('tumor', 8), ('suppressors', 2), ('together', 26), ('ratio', 12), ('rheb', 11), ('bosselut', 3), ('levin', 3), ('adjadj', 3), ('ghysdael', 3), ('single', 12), ('substitution', 10), ('ets', 24), ('alters', 8), ('ets1', 4), ('e74', 4), ('subset', 2), ('sm', 4), ('address', 2), ('relative', 13), ('contributions', 2), ('tau', 5), ('deposits', 2), ('frontal', 4), ('gray', 5), ('ad', 25), ('compared', 15), ('bta', 2), ('homogenates', 3), ('entorhinal', 2), ('cortex', 2), ('cerebellum', 2), ('typical', 2), ('braak', 4), ('stage', 8), ('vi', 2), ('table', 10), ('01', 3), ('cntl', 2), ('04', 2), ('matched', 2), ('age', 2), ('postmortem', 3), ('interval', 2), ('high', 45), ('cu2', 2), ('attomolar', 3), ('metallated', 3), ('indeed', 16), ('abeta', 13), ('plaque', 3), ('mainly', 10), ('zn', 8), ('eq', 6), ('per', 9), ('mol', 7), ('0', 22), ('adapter', 4), ('fa', 11), ('antigen', 5), ('irs', 11), ('insulin', 17), ('so', 31), ('transduce', 5), ('downstream', 14), ('effector', 21), ('reviewed', 12), ('reference', 4), ('axin', 49), ('promote', 24), ('gbp', 15), ('simultaneously', 26), ('functions', 15), ('suggest', 63), ('unanticipated', 2), ('roles', 2), ('tropomyosin', 5), ('possibly', 8), ('troponin', 3), ('agreement', 3), ('those', 22), ('seong', 1), ('mapping', 4), ('antigenic', 1), ('determinants', 3), ('hu', 2), ('igm', 3), ('predominantly', 3), ('regions', 40), ('af', 7), ('actrii', 16), ('competes', 11), ('activin', 12), ('fails', 5), ('skr2', 2), ('gr', 10), ('coiled', 16), ('coil', 16), ('50', 14), ('als', 1), ('detailed', 5), ('earlier', 6), ('profil', 1), ('teins', 2), ('vasp', 9), ('displayed', 2), ('consensus', 23), ('egr', 6), ('13', 31), ('bp', 14), ('overlapping', 5), ('find', 10), ('instead', 8), ('measurements', 11), ('constants', 9), ('fragments', 30), ('showed', 44), ('tni96', 10), ('116', 6), ('preferably', 7), ('lobe', 11), ('tnc', 17), ('extension', 10), ('148', 5), ('27', 28), ('dr4', 2), ('adaptor', 13), ('linkage', 4), ('interestingly', 23), ('overlaps', 1), ('ntk', 1), ('38', 5), ('endogenous', 9), ('isoforms', 13), ('basis', 10), ('observations', 13), ('demonstration', 5), ('orc', 19), ('cdc6p', 6), ('recruits', 14), ('wild', 38), ('dulin', 1), ('ca2', 44), ('73i12a', 2), ('strictly', 6), ('2c', 5), ('introduced', 3), ('substitutions', 5), ('moti', 1), ('jip3', 2), ('kelkar', 1), ('2000', 27), ('pix', 6), ('protei', 19), ('p95pkl', 4), ('suggested', 20), ('arg175', 4), ('sensitive', 11), ('trigger', 6), ('charge', 7), ('neutralization', 8), ('enabled', 4), ('arrestin', 12), ('rh', 28), ('identification', 3), ('srf', 6), ('tm', 13), ('il', 19), ('stat3', 1), ('clearly', 21), ('discernible', 2), ('exposure', 4), ('cytokine', 2), ('maximal', 6), ('lack', 16), ('significant', 17), ('homology', 16), ('competiti', 2), ('uuml', 3), ('lsken', 3), ('1994', 37), ('yeast', 22), ('indicated', 19), ('filamin', 12), ('î²1a', 2), ('nf', 23), ('y', 15), ('hsp70', 17), ('ccaat', 6), ('bradt', 1), ('bixby', 1), ('kolb', 1), ('cooper', 1), ('covalent', 1), ('pathways', 6), ('system', 7), ('indications', 1), ('cooperative', 11), ('rbp1', 2), ('multiple', 5), ('oligomerization', 8), ('gel', 13), ('suggesting', 42), ('role', 39), ('intracellular', 8), ('na', 15), ('affecting', 1), ('enac', 1), ('examined', 22), ('regulated', 21), ('calcium', 15), ('way', 3), ('controlling', 2), ('imfa', 6), ('clin', 1), ('do', 36), ('catalytically', 4), ('fplc', 2), ('remained', 5), ('polymerized', 6), ('molar', 4), ('auxilin', 3), ('hsc70', 4), ('localizes', 5), ('focal', 6), ('adhesions', 2), ('similarly', 23), ('actriib', 3), ('ib', 4), ('actri', 4), ('alk2', 3), ('then', 19), ('joining', 4), ('gorlich', 1), ('henkelin', 1), ('laskey', 2), ('hartmann', 2), ('41', 12), ('confers', 2), ('hence', 9), ('transit', 2), ('nucleus', 7), ('synaptopodin', 1), ('unpublished', 7), ('furthermore', 18), ('phosphorylates', 4), ('affinities', 10), ('gcl', 3), ('baf', 5), ('lamin', 4), ('analyzed', 12), ('oligomeric', 3), ('prevents', 15), ('import', 13), ('described', 19), ('kumar', 1), ('17', 14), ('crystal', 8), ('supports', 5), ('prediction', 2), ('structurally', 1), ('phosphoglycerate', 1), ('dehydrogenase', 1), ('they', 20), ('novel', 9), ('postsynaptic', 4), ('third', 9), ('ap90', 1), ('apart', 6), ('nonimmune', 2), ('controls', 3), ('studied', 5), ('p300', 57), ('suppressor', 5), ('product', 2), ('45', 5), ('py', 6), ('tract', 5), ('sf2', 2), ('asf', 2), ('lacking', 10), ('rrm1', 2), ('rrm2', 2), ('63', 1), ('tcf', 32), ('1â\\x80\\x9380', 2), ('liver', 1), ('regeneration', 1), ('acute', 1), ('phase', 6), ('inflammation', 1), ('pathology', 1), ('myotonic', 1), ('dystrophy', 1), ('situations', 1), ('ats', 2), ('5â\\x80²', 5), ('ebpî²', 3), ('initiation', 11), ('dominant', 12), ('lip', 1), ('laboratories', 4), ('exd', 24), ('hox', 25), ('heterodimers', 18), ('tgat', 11), ('pbx', 12), ('sw480', 2), ('examine', 8), ('dcp', 1), ('mutants', 20), ('defective', 2), ('cytoskeletal', 4), ('reorganization', 1), ('nurse', 2), ('stained', 3), ('egg', 3), ('chambers', 2), ('filamentous', 3), ('p19', 4), ('common', 11), ('iib', 8), ('recruit', 13), ('smad', 7), ('ilin', 4), ('glutathione', 8), ('transferase', 5), ('4b', 11), ('amersham', 1), ('pharmacia', 1), ('organelle', 16), ('modulated', 3), ('tasks', 1), ('locations', 6), ('interpretation', 8), ('stopped', 3), ('flow', 4), ('formation', 29), ('catalytic', 7), ('interpreted', 5), ('diii', 5), ('rotein', 2), ('dimer', 10), ('used', 32), ('far', 15), ('western', 9), ('fluorescence', 13), ('titration', 6), ('mobility', 23), ('demonstrate', 31), ('eif', 40), ('iso4f', 11), ('poly', 7), ('increases', 21), ('pabp', 11), ('feature', 3), ('synergy', 2), ('smad2', 2), ('some', 25), ('extent', 5), ('smad4', 2), ('had', 22), ('rhikk', 8), ('heterodimer', 18), ('decreased', 15), ('ikappabalpha', 6), ('retardation', 3), ('reconstituted', 2), ('nucleosome', 5), ('mutation', 38), ('small', 6), ('basic', 5), ('renders', 1), ('unable', 15), ('consequently', 4), ('inactivates', 2), ('jun', 22), ('synergize', 1), ('smad3', 7), ('multiprotein', 5), ('hart', 5), ('ikeda', 13), ('itoh', 4), ('nakamura', 3), ('sakanaka', 8), ('yamamoto', 3), ('mutations', 22), (\"3'hs1\", 1), ('boldface', 2), ('underlined', 2), ('notably', 3), ('seems', 12), ('mutually', 19), ('exclusive', 22), ('adherens', 3), ('junctions', 3), ('should', 8), ('inaccessible', 2), ('degradation', 5), ('precursor', 3), ('82', 3), ('bin', 21), ('omv', 1), ('hypophosphorylated', 4), ('hyperphosphorylation', 4), ('4e', 7), ('bp1', 5), ('drastically', 1), ('decreases', 3), ('eif4e', 11), ('phosphoprotein', 1), ('62', 5), ('64', 4), ('seen', 4), ('ephrin', 2), ('b1', 10), ('demonstrating', 6), ('rasgap', 1), ('stimulated', 12), ('coimmunoprecipitation', 5), ('affect', 8), ('mekk1', 2), ('fragment', 39), ('e1a', 33), ('fos', 12), ('myod', 11), ('interact', 34), ('ch3', 12), ('interfere', 20), ('directl', 7), ('arp1', 12), ('caspase', 5), ('forming', 11), ('apoptotsome', 3), ('cu', 3), ('introduction', 1), ('glutamic', 2), ('residue', 13), ('place', 7), ('tin', 4), ('central', 3), ('nh2', 5), ('u2af35', 7), ('wea', 1), ('cts', 3), ('characteristic', 7), ('called', 2), ('mrnas', 12), ('clones', 9), ('abrogated', 9), ('d1', 7), ('p27', 12), ('kip1', 8), ('p21', 17), ('waf1', 6), ('cip1', 6), ('tfiia', 12), ('effects', 22), ('drap1', 2), ('hmg1', 2), ('dsp1', 2), ('mot1', 2), ('tafii250', 4), ('chalovich', 3), ('1987', 3), ('acts', 8), ('competitive', 9), ('inhibitor', 5), ('end', 9), ('caldesmon', 10), ('dynamin', 8), ('clat', 1), ('ap', 41), ('delineated', 1), ('generating', 2), ('series', 3), ('lin', 21), ('contained', 8), ('successively', 1), ('larger', 2), ('truncations', 1), ('recently', 10), ('adenomatous', 2), ('polyposis', 2), ('coli', 2), ('doma', 3), ('25', 30), ('normal', 9), ('axis', 3), ('when', 57), ('upstream', 6), ('mutated', 10), ('eliminating', 2), ('clear', 8), ('fraction', 6), ('1e', 2), ('structural', 12), ('raptor', 3), ('mtor', 11), ('catalyzed', 5), ('4ebp1', 3), ('toward', 3), ('after', 29), ('extensive', 5), ('washing', 3), ('myd118', 3), ('assessed', 5), ('gadd45', 3), ('antibodies', 15), ('turn', 11), ('reacted', 2), ('hrp', 2), ('secondary', 5), ('saw', 2), ('egion', 2), ('galactose', 4), ('work', 8), ('others', 7), ('action', 7), ('gal80', 2), ('gal3', 2), ('examples', 4), ('references', 3), ('groucho', 4), ('straightforward', 2), ('rab3a', 15), ('exocytosis', 2), ('sequestering', 2), ('histone', 17), ('h1', 3), ('texas', 1), ('red', 2), ('preparation', 1), ('datp', 8), ('gc', 11), ('equilibrium', 10), ('mum', 8), ('ionic', 3), ('strength', 7), ('myo1eiq', 1), ('constant', 4), ('generally', 10), ('major', 5), ('spanning', 5), ('fourth', 3), ('arm', 3), ('minor', 3), ('located', 20), ('carboxy', 11), ('conti', 1), ('kuriyan', 1), ('fontes', 1), ('trf1', 1), ('bandshift', 3), ('p130', 13), ('e2f', 16), ('serum', 11), ('starved', 10), ('mycer', 6), ('ermad', 6), ('displaces', 2), ('vice', 4), ('versa', 4), ('dynactin', 7), ('ctrin', 1), ('complicating', 2), ('many', 14), ('perinatal', 2), ('rodents', 2), ('e2', 6), ('less', 19), ('potent', 8), ('estrogen', 2), ('afp', 2), ('des', 4), ('illo', 1), ('inhibition', 38), ('adhesion', 7), ('complicated', 1), ('view', 6), ('galectin', 2), ('turned', 1), ('over', 7), ('rapidly', 4), ('cadherins', 3), ('proceed', 1), ('participate', 1), ('tnfî±', 14), ('ncer', 1), ('hypertonic', 2), ('pma', 2), ('6d', 2), ('right', 8), ('top', 4), ('middle', 3), ('notch', 4), ('exclusively', 4), ('neuroligins', 2), ('junction', 3), ('daam1', 6), ('exhibits', 8), ('little', 11), ('loaded', 7), ('2f', 7), ('associates', 3), ('daniel', 3), ('reynolds', 4), ('tni', 7), ('wi', 9), ('finally', 14), ('significance', 7), ('ters', 2), ('comparable', 4), ('efficiency', 8), ('awaits', 4), ('study', 28), ('presented', 4), ('amyloid', 1), ('fibrils', 2), ('tissues', 4), ('patients', 1), ('fap', 1), ('repeat', 16), ('arp2', 2), ('hip12', 6), ('display', 13), ('differential', 19), ('ap2', 13), ('proliferation', 4), ('copy', 2), ('ain', 2), ('apoe', 8), ('pdgf', 3), ('directed', 8), ('smooth', 2), ('muscle', 11), ('migration', 7), ('let', 2), ('23', 19), ('rtk', 3), ('dinr', 1), ('promoters', 15), ('elf1', 4), ('74', 5), ('selectively', 7), ('l', 21), ('proline', 14), ('excess', 7), ('corresponding', 9), ('elisas', 2), ('successful', 2), ('masking', 2), ('incubation', 4), ('phosphorylationwe', 1), ('actinin', 11), ('talin', 14), ('help', 4), ('hsp', 2), ('cbf', 6), ('rac1', 22), ('2hs', 1), ('apparently', 4), ('erks', 1), ('abi', 1), ('abolish', 5), ('erk', 8), ('andâ\\x80\\x89inâ\\x80\\x89vivo', 1), ('permits', 1), ('hisrs', 6), ('ensuing', 1), ('though', 11), ('577', 2), ('remains', 6), ('tor', 1), ('estimate', 1), ('overexpressed', 4), ('cre', 12), ('shaywitz', 1), ('greenberg', 1), ('dp', 1), ('protrude', 2), ('dii', 3), ('spans', 2), ('helices', 2), ('corepressor', 5), ('hpc2', 8), ('bmi', 4), ('hdac1', 4), ('hdac2', 4), ('mll', 8), ('superposition', 1), ('pp1', 4), ('onto', 3), ('adenine', 1), ('moeity', 1), ('why', 6), ('77', 8), ('takagaki', 1), ('manley', 1), ('submitted', 1), ('53', 13), ('srgaps', 2), ('intrinsic', 2), ('gtpase', 6), ('converts', 2), ('inactivating', 3), ('ptc', 7), ('frees', 2), ('smo', 4), ('goes', 2), ('aldose', 1), ('reductase', 1), ('enhancer', 12), ('ca', 17), ('syntaxin', 15), ('features', 3), ('synaptotagmin', 15), ('ascertain', 1), ('th', 22), ('ment', 2), ('tpr', 14), ('plus', 3), ('p50', 10), ('cdc37', 4), ('raf', 13), ('determine', 20), ('heterocomplex', 3), ('composition', 5), ('competed', 2), ('unlabeled', 2), ('113', 1), ('d4ebp', 2), ('nonspecific', 3), ('indirect', 7), ('ubc9', 8), ('homolog', 4), ('eukaryotes', 3), ('conjugating', 3), ('enzyme', 7), ('came', 3), ('recent', 17), ('reports', 5), ('physical', 3), ('sumo', 7), ('ranbp2', 1), ('pore', 3), ('conjugat', 1), ('ap1', 1), ('gain', 4), ('access', 4), ('lesion', 3), ('facilitated', 3), ('pols', 2), ('75', 6), ('76', 4), ('26', 31), ('removal', 5), ('destroys', 2), ('18', 27), ('296', 2), ('sp4', 7), ('odc', 3), ('m9', 7), ('imultaneously', 1), ('unlikely', 4), ('transportin', 7), ('normally', 7), ('substrates', 7), ('trimeric', 3), ('bib', 3), ('brm', 6), ('itself', 14), ('crosby', 6), ('bap', 1), ('bap60', 6), ('bap47', 5), ('bap45', 5), ('activators', 5), ('stimulate', 4), ('produce', 2), ('detecta', 1), ('dslo', 6), ('modulate', 6), ('channel', 4), ('onl', 2), ('toth', 2), ('infected', 2), ('iid', 1), ('infection', 11), ('chase', 2), ('ulin', 3), ('90', 4), ('trace', 1), ('gp160', 5), ('calreticulin', 3), ('preceding', 1), ('section', 1), ('schowalter', 1), ('separate', 5), ('progesterone', 1), ('hbd', 2), ('confer', 2), ('prefers', 4), ('29', 21), ('vegfr', 5), ('generates', 3), ('mitogenic', 2), ('ecs', 2), ('tnfr1', 6), ('tnfî²', 4), ('differ', 9), ('significantly', 22), ('kinetics', 7), ('tnfr2', 6), ('exchanged', 4), ('faster', 4), ('kb', 8), ('pac', 2), ('clone', 2), ('8856', 2), ('pcr', 2), ('oligonucleotides', 2), ('lf', 5), ('antisense', 2), ('oligonucleotide', 11), ('sense', 2), ('1000', 2), ('pparî³2', 2), ('sequenced', 2), ('inserted', 2), ('ecorv', 2), ('pbluescript', 2), ('stratagene', 4), ('la', 4), ('jolla', 3), ('recombinant', 31), ('nfatc', 3), ('33p', 6), ('represents', 6), ('nfat', 4), ('beta1', 1), ('preferentially', 14), ('inactive', 13), ('reflect', 2), ('existence', 3), ('ternary', 12), ('meis1', 4), ('hoxa9', 1), ('appear', 8), ('suppress', 2), ('physiological', 4), ('note', 8), ('ckiâ\\x88\\x82', 3), ('ckié\\x9b', 7), ('boun', 11), ('mper1', 8), ('ckiî±2', 3), ('taking', 7), ('findings', 18), ('microtubules', 1), ('formed', 5), ('nerve', 4), ('tubuli', 2), ('percent', 3), ('dependence', 5), ('groel', 4), ('concentration', 17), ('k12', 4), ('k23', 2), ('eif2beta', 2), ('eif2', 7), ('conducted', 2), ('pull', 9), ('eif5', 3), ('wces', 2), ('carboxyl', 10), ('comprises', 1), ('pi', 17), ('suppresses', 4), ('fobs', 1), ('mbp', 6), ('without', 5), ('unaffected', 9), ('mm', 4), ('mgatp', 1), ('pâ\\x80\\x89mgatp', 1), ('urea', 1), ('pâ\\x80\\x89urea', 1), ('tnp', 1), ('intron', 2), ('one', 45), ('including', 16), ('polyadenylation', 1), ('rnas', 2), ('00', 4), ('eif4g', 8), ('eif4a', 3), ('coordinates', 4), ('activities', 12), ('cap', 7), ('unwound', 3), ('rendered', 3), ('accessible', 10), ('incoming', 3), ('obtained', 6), ('concluded', 6), ('moesinâ\\x80\\x93binding', 3), ('cd43', 10), ('indispensable', 4), ('juxta', 9), ('cd44', 11), ('erm', 12), ('integral', 4), ('microvilli', 4), ('ppe', 4), ('crucial', 5), ('renin', 2), ('hand', 4), ('kamata', 1), ('who', 1), ('metal', 1), ('independent', 21), ('summary', 1), ('homeodomain', 4), ('dfd', 5), ('ralbp1', 2), ('ral', 13), ('initial', 5), ('stable', 12), ('denatured', 1), ('plays', 6), ('folding', 3), ('groes', 2), ('non', 2), ('native', 10), ('polypeptides', 7), ('179â\\x80\\x93199', 2), ('ring', 3), ('finger', 1), ('dcbl', 2), ('disrupt', 8), ('contacts', 10), ('sufficiently', 5), ('swi', 3), ('moreover', 20), ('blocked', 11), ('wortmannin', 2), ('resistant', 2), ('rapamycin', 8), ('pnt', 9), ('oct', 1), ('glucocorticoid', 2), ('rid', 2), ('loop', 8), ('bccs', 1), ('lead', 5), ('oncogenic', 1), ('disrupting', 2), ('saturated', 2), ('probing', 5), ('wheat', 5), ('4f', 9), ('iso4g', 5), ('iso4e', 5), ('4a', 10), ('nir2', 1), ('otein', 5), ('eh', 4), ('epsin', 2), ('eps15', 11), ('cbp1891', 2), ('2175', 2), ('interacted', 4), ('bacterially', 6), ('smad3210', 2), ('425', 3), ('2d', 10), ('alf', 2), ('c1', 13), ('rc1', 2), ('discuss', 2), ('involved', 22), ('recruiting', 2), ('regulate', 16), ('gfp', 3), ('overexpressing', 3), ('ng', 7), ('ml', 4), ('dramatic', 4), ('indicative', 3), ('levels', 15), ('distances', 3), ('s1', 7), ('indicate', 31), ('must', 8), ('scale', 3), ('before', 7), ('s4', 5), ('presplicing', 1), ('mature', 5), ('abolishes', 3), ('lobin', 1), ('above', 13), ('behrens', 10), ('kishida', 10), ('defined', 14), ('gsk3î²', 5), ('hedgepeth', 5), ('dix', 7), ('internal', 5), ('homodimerization', 5), ('lrp', 11), ('arrow', 12), ('hsu', 5), ('li', 10), ('smalley', 5), ('mao', 5), ('current', 5), ('ang', 3), ('î²1', 3), ('mct', 2), ('concomitant', 2), ('oxygen', 2), ('radicals', 2), ('involve', 2), ('dead', 4), ('dnxgsk', 3), ('authors', 2), ('claim', 2), ('disruption', 7), ('comple', 1), ('nding', 3), ('rack1', 2), ('converted', 3), ('alanine', 10), ('i236', 2), ('know', 6), ('pde4d5', 1), ('buensuceso', 2), ('steele', 2), ('holds', 2), ('tn', 2), ('closed', 4), ('occluded', 2), ('areas', 1), ('proteolytic', 3), ('cleavage', 10), ('become', 4), ('mu2', 4), ('coats', 2), ('oxes', 1), ('egl', 1), ('locus', 5), ('ces', 5), ('n732', 3), ('death', 4), ('nsm', 3), ('sister', 3), ('investigators', 1), ('export', 3), ('balance', 3), ('nes', 4), ('favoring', 1), ('triple', 2), ('igfbp1', 2), ('element', 11), ('nondenaturing', 4), ('polyacrylamide', 5), ('transport', 4), ('dynamitin', 1), ('dissociates', 1), ('sepa', 1), ('p150', 6), ('glued', 5), ('utilizing', 1), ('systems', 3), ('holstein', 1), ('jiang', 3), ('once', 6), ('secretion', 8), ('sec1p', 3), ('homologues', 2), ('trafficking', 2), ('final', 2), ('munc18a', 3), ('1a', 11), ('vesicle', 7), ('snares', 1), ('hmms2', 4), ('elute', 3), ('lane', 40), ('stably', 4), ('mubc13', 3), ('column', 3), ('recepto', 2), ('ctrii', 2), ('heteromeric', 4), ('grundhoff', 2), ('kremmer', 2), ('tureci', 2), ('glieden', 2), ('gindorf', 2), ('atz', 2), ('muller', 3), ('lantzsch', 2), ('schubach', 2), ('grasser', 2), ('characterisation', 2), ('epstein', 2), ('barr', 2), ('virus', 2), ('ebna2', 1), ('intramolecular', 2), ('gkap', 2), ('begain', 2), ('remain', 5), ('based', 13), ('insensitive', 5), ('mutational', 5), ('primitive', 4), ('originally', 7), ('ip4', 12), ('diversification', 4), ('vertebrates', 4), ('x', 9), ('consequence', 6), ('c2b', 9), ('effectors', 8), ('mediates', 9), ('ch', 2), ('pak', 17), ('next', 8), ('mg2', 9), ('gtpases', 9), ('msl', 3), ('rac2', 5), ('slight', 7), ('dorsal', 16), ('closure', 16), ('pkn', 7), ('functi', 1), ('redundant', 7), ('nevertheless', 2), ('dmsa', 2), ('additivity', 2), ('somewhere', 1), ('606', 1), ('757', 1), ('given', 2), ('densities', 3), ('myosins', 2), ('compl', 1), ('rocellulose', 1), ('confirmed', 12), ('act', 12), ('potentially', 3), ('around', 3), ('taken', 12), ('make', 5), ('productive', 6), ('rc', 4), ('saccharomyces', 1), ('cerevisiae', 4), ('hses', 1), ('constitutively', 7), ('gross', 3), ('1990', 4), ('inducibly', 1), ('giardina', 1), ('lis', 1), ('erkine', 1), ('monomers', 3), ('microfilament', 1), ('bap111', 5), ('muc1', 2), ('61', 6), ('radiolabeled', 2), ('translated', 4), ('lc753', 1), ('893', 2), ('links', 1), ('cav1', 1), ('î±1', 1), ('32', 10), ('exp', 4), ('c2a', 9), ('biacore', 2), ('3000', 1), ('ab', 7), ('plasmon', 2), ('resonance', 2), ('methodology', 1), ('agarose', 4), ('p16', 8), ('srebps', 2), ('sterol', 4), ('carefully', 4), ('sr', 6), ('inding', 4), ('sre', 4), ('elements', 12), ('boxes', 7), ('p202a', 2), ('max', 3), ('conserved', 16), ('ldl', 3), ('apkc', 2), ('baz', 2), ('competitively', 6), ('114', 2), ('trp22', 4), ('ala', 4), ('phe', 4), ('3d', 2), ('284', 5), ('contains', 8), ('ami', 1), ('cat', 8), ('retain', 2), ('cytoplasm', 5), ('51', 5), ('ty', 2), ('mkk6', 1), ('mcf', 3), ('vect', 1), ('tam', 1), ('occupation', 4), ('poc', 2), ('hsp90', 26), ('ga', 6), ('notion', 5), ('alternating', 4), ('cycles', 4), ('adp', 13), ('heterocomplexes', 4), ('72', 5), ('remodel', 1), ('rendering', 1), ('case', 15), ('axa', 1), ('ding', 4), ('tand', 2), ('lef', 5), ('bad', 1), ('pha', 1), ('synuclein', 1), ('inversely', 2), ('correlated', 4), ('trithorax', 2), ('embryogenesis', 4), ('inhibin', 1), ('vin', 2), ('suc', 1), ('actor', 1), ('conjunction', 6), ('derk', 1), ('sequestration', 3), ('cytosol', 3), ('rule', 2), ('out', 3), ('ivt', 3), ('hairy', 4), ('homodimerizing', 1), (\"hairy's\", 1), ('nt', 5), ('dctbp', 3), ('repeated', 3), ('too', 1), ('fast', 1), ('measured', 5), ('evaluate', 4), ('dynamics', 2), ('off', 1), ('analyses', 19), ('measure', 3), ('stability', 7), ('solution', 4), ('cytological', 3), ('entry', 6), ('visualized', 4), ('ve', 1), ('imilar', 1), ('msl3', 2), ('mle', 4), ('mof', 3), ('kageyama', 3), ('lyman', 3), ('meller', 3), ('ene', 1), ('int190', 1), ('d3', 1), ('d4', 1), ('illustrated', 1), ('space', 1), ('filling', 1), ('representation', 1), ('support', 21), ('translocation', 5), ('qm', 4), ('jif', 2), ('promoted', 6), ('ps1', 13), ('level', 7), ('globin', 1), ('developmental', 1), ('suspected', 1), ('newly', 4), ('created', 1), ('cac', 1), ('eklf', 1), ('neither', 10), ('pr', 8), ('ein', 7), ('sd', 4), ('nor', 9), ('shorter', 2), ('mer', 3), ('take', 2), ('values', 6), ('brct', 6), ('compare', 12), ('ctip', 4), ('brca1', 3), ('xillin', 3), ('play', 11), ('igf', 3), ('hormone', 2), ('43', 10), ('failed', 14), ('belongs', 2), ('sh3', 31), ('presumed', 1), ('bring', 3), ('about', 6), ('polarization', 1), ('cytoskeleton', 14), ('cvrckovã¡', 1), ('brown', 1), ('evangelista', 9), ('interesting', 5), ('coding', 2), ('domai', 7), ('encode', 1), ('biochemical', 12), ('stnb', 12), ('syt', 6), ('ap50', 4), ('stna', 6), ('250', 5), ('kelly', 6), ('personal', 4), ('communication', 4), ('stimson', 4), ('fullâ\\x80\\x90length', 1), ('serine', 7), ('195', 4), ('cysteine', 2), ('below', 7), ('dsg1', 3), ('â\\x80²', 1), ('utr', 3), ('cyfip1', 10), ('p140sra', 5), ('ip2', 1), ('pir121', 3), ('pop', 5), ('presents', 5), ('94', 5), ('similarities', 5), ('targets', 8), ('key', 12), ('trna', 7), ('class', 11), ('synthetases', 2), ('m2', 4), ('gcn2', 9), ('wek', 4), ('zhu', 3), ('traf2', 1), ('tradd', 1), ('f1', 2), ('preclude', 6), ('particle', 4), ('accurate', 4), ('steric', 4), ('interference', 4), ('cos2', 3), ('removes', 4), ('positively', 8), ('charged', 8), ('arg382', 4), ('polar', 4), ('se', 5), ('r382n', 4), ('dic', 1), ('70', 12), ('intermediate', 4), ('chain', 4), ('flagellar', 1), ('outer', 1), ('dynein', 4), ('chlamydomonas', 1), ('base', 4), ('pairing', 3), ('snrna', 2), ('hde', 3), ('48', 7), ('stabilized', 6), ('hzfp100', 3), ('sos', 2), ('grb2', 13), ('msf', 2), ('bypass', 3), ('prote', 8), ('om37', 1), ('targeted', 2), ('tom20', 1), ('tom22', 1), ('hachiya', 2), ('iip35', 1), ('figures', 1), ('6c', 1), ('kcnk3', 2), ('dbâ·cr', 2), ('readil', 1), ('han', 1), ('importantly', 6), ('z', 1), ('trm', 1), ('retained', 8), ('hmt', 1), ('indistinguishable', 3), ('â\\x80\\x8b4c', 1), ('lhx3', 2), ('modulating', 2), ('du1', 2), ('70k', 2), ('psi', 2), ('brymora', 1), ('moskalenko', 2), ('sugihara', 2), ('dcaf', 3), ('downs', 3), ('syti', 4), ('independently', 20), ('linked', 5), ('panel', 6), ('vp16', 3), ('emsas', 4), ('distant', 2), ('snare', 5), ('correspo', 1), ('roteins', 1), ('equally', 3), ('syntaxins', 8), ('assembled', 5), ('peng', 2), ('gallwitz', 2), ('604', 2), ('615', 2), ('p120', 9), ('2b', 6), ('abolished', 10), ('cad', 1), ('lysosomal', 4), ('compartments', 2), ('considerable', 2), ('pty', 1), ('dr', 3), ('order', 7), ('denaturation', 2), ('denzin', 2), ('kropshofer', 2), ('1997b', 4), ('release', 12), ('process', 9), (\"arrestin's\", 2), ('represses', 4), ('half', 9), ('temperature', 5), ('notothenioid', 1), ('fish', 2), ('species', 8), ('nac', 3), ('stabilizes', 5), ('demonstrated', 26), ('range', 4), ('additional', 7), ('recognizes', 3), ('leu', 3), ('provided', 5), ('okadome', 1), ('wang', 1), ('schneider', 2), ('transfection', 2), ('importance', 3), ('mtssb', 3), ('fgf', 6), ('v10', 3), ('cd44vra', 2), ('cd44s', 2), ('associate', 9), ('senescent', 4), ('aos', 2), ('der', 6), ('living', 2), ('newer', 6), ('probes', 6), ('designated', 10), ('raichu', 12), ('consist', 6), ('omain', 2), ('pair', 8), ('green', 6), ('fluorescent', 7), ('caax', 6), ('ki', 6), ('eses', 3), ('designed', 4), ('tenet', 2), ('recruitment', 19), ('establish', 3), ('local', 3), ('u2af65', 4), ('poe', 7), ('flanking', 2), ('nucleotides', 3), ('auuua', 1), ('unique', 1), ('saras', 1), ('heldin', 1), ('transmembrane', 1), ('methyl', 1), ('aspartate', 1), ('shaker', 2), ('kim', 4), ('kornau', 1), ('niethammer', 1), ('ctin', 6), ('filaments', 13), ('disassembly', 1), ('carlier', 1), ('bamburg', 1), ('mot', 2), ('menin', 4), ('exhibit', 10), ('hydrolyzing', 1), ('ena8', 5), ('â\\x86\\x92', 5), ('approximately', 9), ('equivalent', 10), ('chickadee', 5), ('ena', 9), ('bindi', 13), ('ofilin', 1), ('abl', 16), ('icam', 7), ('250con', 7), ('fkh', 6), ('lacz', 4), ('abdominal', 2), ('segments', 3), ('abd', 6), ('7a', 2), ('rabgdi', 3), ('discriminate', 8), ('rab3', 3), (\"calcineurin's\", 2), ('transduction', 5), ('pathway', 18), ('170', 2), ('homologs', 5), ('extradenticle', 4), ('ceh', 3), ('ct', 4), ('cooperatively', 8), ('crs1', 4), ('47', 4), ('swi5p', 3), ('pho2p', 3), ('lap', 5), ('1000x', 3), ('lower', 16), ('limp', 5), ('hypothesis', 8), ('rab', 11), ('inclu', 1), ('kappab', 6), ('rar', 5), ('correlate', 8), ('71', 6), ('wh', 1), ('concurrent', 4), ('myb', 4), ('explain', 11), ('attributes', 2), ('gag', 2), ('rbp4', 2), ('nmda2', 2), ('els', 1), ('characterization', 7), ('fibronectin', 4), ('laminin', 11), ('spar', 1), ('enascin', 1), ('incubated', 9), ('hek293', 1), ('tfiie', 1), ('iih', 1), ('pointing', 4), ('tfiih', 2), ('ctd', 5), ('simplest', 2), ('b2', 1), ('serves', 2), ('pho', 5), ('background', 1), ('fritsch', 1), ('shs1', 5), ('gin4', 8), ('septins', 3), ('fas2', 1), ('synaptic', 4), ('localization', 3), ('glutamatergic', 2), ('nmj', 2), ('tejedor', 2), ('thomas', 2), ('zito', 2), ('rpa2', 2), ('alk4', 3), ('5c', 3), ('pol', 5), ('gal1', 3), ('gal10', 1), ('reaching', 2), ('maximum', 3), ('60', 6), ('possesses', 1), ('viral', 2), ('lxcxe', 1), ('releases', 4), ('them', 9), ('slowly', 2), ('palleros', 2), ('schmid', 2), ('szabo', 2), ('synthesized', 5), ('pb', 1), ('12s', 5), ('gal', 12), ('440', 5), ('activator', 6), ('160', 4), ('fuses', 4), ('dbd', 4), ('glutamine', 2), ('rich', 21), ('termed', 4), ('q2', 8), ('dtaf110', 2), ('pp5', 5), ('compete', 9), ('blocks', 11), ('fkbp52', 6), ('p90', 3), ('mr', 1), ('tms', 1), ('î¼m', 8), ('circles', 1), ('159', 1), ('259', 1), ('tnt', 5), ('cys', 9), ('190', 1), ('extreme', 1), ('49', 4), ('vamp', 2), ('proximity', 2), ('snap25', 2), ('initiate', 2), ('he', 8), ('encompass', 2), ('hypothesized', 6), ('sequestered', 2), ('protecting', 2), ('bou', 4), ('rins', 1), ('huber', 3), ('dgtp', 1), ('dadp', 1), ('reasoned', 2), ('eta', 1), ('immunochemical', 2), ('enriched', 3), ('betavldl', 2), ('fkbp13', 1), ('underscores', 2), ('immunophilin', 2), ('anastasiadis', 2), ('noren', 1), ('p120ctn', 4), ('regulator', 1), ('tsa', 2), ('uences', 2), ('hep3b', 1), ('investigated', 1), ('cause', 3), ('ser142', 1), ('kix', 4), ('parker', 1), ('kornhauser', 1), ('hdacs', 2), ('fo', 10), ('requirement', 7), ('eliminated', 4), ('biologically', 1), ('inert', 2), ('ectopic', 4), ('entering', 2), ('heuvel', 2), ('harlow', 2), ('mammals', 2), ('cb', 1), ('ad2', 2), ('arginine', 3), ('methyltransferase', 2), ('carm1', 2), ('molecular', 8), ('ppars', 1), ('unknown', 3), ('k266a', 2), ('substantially', 3), ('reduce', 9), ('aip', 8), ('pharmacological', 2), ('ahr', 6), ('provides', 4), ('compelling', 2), ('favor', 1), ('apa', 1), ('ced', 2), ('new', 7), ('iap', 4), ('omi', 2), ('htra2', 2), ('chaperones', 3), ('telomerase', 2), ('likewise', 2), ('distance', 2), ('rlc', 1), ('c4p', 1), ('exocyst', 1), ('targeting', 2), ('tethering', 1), ('secretory', 1), ('vesicles', 6), ('canonical', 2), ('yy1', 1), ('destabilization', 2), ('locked', 6), ('â\\x80\\x90bound', 1), ('brondyk', 6), ('interacting', 10), ('wildâ\\x80\\x90type', 6), ('gdpâ\\x80\\x90', 5), ('gtpâ\\x80\\x90bound', 11), ('park', 6), ('ubiquitin', 11), ('p130ca', 1), ('d53p', 1), ('fha1', 1), ('fha2', 1), ('prepared', 3), ('untreated', 1), ('cultures', 2), ('treated', 6), ('mms', 1), ('mimetic', 1), ('agent', 1), ('nitroquinoline', 1), ('oxide', 1), ('nqo', 1), ('bulky', 1), ('adducts', 1), ('repaired', 1), ('excision', 1), ('repair', 2), ('siede', 1), ('y402f', 3), ('shc', 14), ('p130cas', 3), ('cascades', 3), ('pldls', 1), ('plass', 2), ('glu', 2), ('dir', 4), ('sso1p', 1), ('2p', 1), ('null', 1), ('free', 16), ('general', 7), ('wit', 4), ('preinitiation', 5), ('cyfip2', 4), ('oteins', 3), ('orientation', 4), ('lim', 10), ('hd', 6), ('canoni', 1), ('dakap200', 1), ('constitute', 1), ('rii', 3), ('ankyrin', 6), ('unlike', 5), ('crib', 7), ('unstructured', 1), ('semi', 1), ('structured', 1), ('entropic', 2), ('penalty', 2), ('how', 6), ('par6', 1), ('kapp', 1), ('agonist', 2), ('favors', 1), ('desensitized', 1), ('achr', 2), ('agonists', 1), ('genomic', 1), ('embryos', 7), ('nbs', 3), ('mre11', 2), ('es', 2), ('e2f1', 3), ('3c', 5), ('uip1', 1), ('atpgammas', 1), ('synapsin', 1), ('sulfhydryl', 1), ('alkylation', 1), ('nem', 1), ('plcdelta1', 3), ('negatively', 3), ('released', 7), ('tg', 2), ('existing', 2), ('prereplicating', 2), ('priming', 2), ('hepatocytes', 2), ('spinophilin', 2), ('account', 5), ('least', 17), ('enrichment', 2), ('m364', 1), ('adjacent', 6), ('r365', 1), ('buried', 1), ('bet', 1), ('delta', 1), ('155', 1), ('ectly', 1), ('iaps', 2), ('caspases', 2), ('munc18', 2), ('membranes', 13), ('tomosyn', 5), ('contributes', 1), ('2e', 1), ('ome', 1), ('ey', 5), ('gsb', 1), ('mkk7', 6), ('members', 8), ('lineage', 3), ('group', 9), ('whitmarsh', 3), ('molybdate', 1), ('effective', 1), ('promoting', 7), ('ese', 12), ('aim', 1), ('characterize', 2), ('blockade', 2), ('smith', 3), ('kang', 2), ('impairs', 3), ('listeria', 2), ('motility', 11), ('implying', 2), ('accelerating', 2), ('catalyze', 1), ('97', 1), ('proposal', 2), ('spt3', 1), ('spt8', 1), ('saga', 2), ('his3', 1), ('spt3î\\x94', 1), ('spt8î\\x94', 1), ('strains', 5), ('afadin', 4), ('ponsin', 4), ('vinculin', 9), ('hardly', 3), ('sug1', 1), ('rpt6', 2), ('rpt4', 2), ('ts', 3), ('contacted', 2), ('orange', 3), ('hctbp', 1), ('electrostatic', 1), ('main', 2), ('driving', 1), ('force', 1), ('require', 9), ('former', 2), ('eif3', 2), ('chemi', 1), ('phosphorylinositol', 2), ('phosphorylcholine', 2), ('head', 9), ('activates', 5), ('thick', 1), ('lines', 6), ('bottom', 7), ('oesin', 3), ('whole', 2), ('kcl', 2), ('moesin', 3), ('broken', 1), ('jm', 2), ('yap', 3), ('ohkubo', 2), ('ozawa', 2), ('thoreson', 3), ('c2', 7), ('tein', 3), ('zhang', 4), ('synaptotagmins', 2), ('wnt', 14), ('pool', 3), ('prospective', 1), ('hsp40', 2), ('e2fs', 3), ('p107', 7), ('inactivate', 1), ('ddlim', 1), ('abps', 1), ('uncouple', 1), ('edge', 1), ('light', 3), ('gsk3', 8), ('rgg', 2), ('saf', 5), ('chemic', 2), ('tlrs', 2), ('tlr2', 2), ('tlr4', 1), ('cd14', 2), ('recruited', 4), ('îºb', 5), ('myd88', 2), ('irak', 2), ('traf', 3), (\"epsin's\", 1), ('cyt', 4), ('exerts', 2), ('cbl', 11), ('explained', 6), ('modification', 5), ('evidently', 2), ('almost', 5), ('completely', 4), ('sho', 1), ('added', 4), ('micelles', 1), ('terms', 1), ('st', 2), ('hop', 2), ('relatively', 4), ('ensures', 2), ('eif4f', 6), ('î³', 11), ('tubulin', 24), ('prefoldin', 5), ('hxpros', 2), ('hoxa', 1), ('p105', 1), ('histones', 4), ('h3', 4), ('h4', 6), ('h2a', 5), ('h2b', 6), ('signi', 1), ('antly', 1), ('weaker', 7), ('abundantly', 2), ('î±î²', 2), ('onse', 1), ('extracellular', 5), ('p38', 7), ('fgeyrslesdnee', 1), ('biotin', 1), ('kamiguchi', 1), ('1998b', 5), ('involvement', 5), ('loops', 2), ('five', 6), ('variants', 1), ('constructed', 2), ('u4', 4), ('u6', 5), ('u5', 3), ('dsx', 7), ('en', 1), ('oteet', 1), ('hh', 3), ('leads', 3), ('assume', 2), ('mapk', 4), ('reduction', 9), ('xgsk', 9), ('dose', 5), ('gbpwt', 2), ('yost', 3), ('gbpmut', 2), ('activating', 6), ('polycomb', 2), ('rim2', 4), ('noc2', 3), ('rabphilin', 3), ('cotransfection', 4), ('subfamilies', 4), ('bases', 4), ('detail', 1), ('leucine', 3), ('sorting', 1), ('lysosomes', 1), ('ogata', 1), ('fukuda', 1), ('sandoval', 1), ('displace', 4), ('implication', 1), ('nls', 5), ('importin', 11), ('dire', 1), ('precipitation', 4), ('ld4', 2), ('tissue', 7), ('lysates', 2), ('bagrodia', 3), ('manser', 11), ('atf2', 1), ('activa', 3), ('saturating', 6), ('313', 2), ('254', 2), ('consequences', 6), ('modulation', 3), ('spectrin', 9), ('initiates', 2), ('sequential', 1), ('sir', 4), ('allowing', 5), ('spreading', 1), ('heterochromatin', 1), ('chromosome', 3), ('rin', 2), ('approximate', 2), ('nd', 10), ('being', 5), ('â±', 9), ('sem', 2), ('averaged', 2), ('kappab1', 3), ('hiv', 13), ('mononucleosomes', 2), ('electrophoretic', 10), ('sharp', 1), ('ggp1î\\x94', 1), ('cf', 1), ('sigma', 1), ('louis', 1), ('mo', 1), ('stain', 1), ('nascent', 1), ('chitin', 1), ('les', 1), ('phr1î\\x94', 1), ('behavior', 2), ('respect', 5), ('compound', 3), ('increasing', 3), ('slit', 2), ('oligo', 2), ('nf1', 5), ('int', 1), ('hswi', 1), ('facilitation', 4), ('matin', 1), ('migratory', 1), ('substrate', 9), ('cas', 4), ('contribute', 2), ('ventralize', 1), ('motor', 4), ('partly', 4), ('overrides', 4), ('kinesin', 10), ('forcing', 4), ('heads', 6), ('come', 4), ('individual', 7), ('relieving', 4), ('constraints', 6), ('imposed', 4), ('necks', 4), ('thormã¤hlen', 4), ('walker', 5), ('304', 1), ('ori', 1), ('ed', 1), ('coated', 3), ('ffinity', 1), ('chromatography', 7), ('matrix', 2), ('types', 12), ('adenylated', 6), ('alu', 2), ('srp', 2), ('immunoprecipitated', 6), ('immunoadsorption', 3), ('reticulocyte', 3), ('lysate', 7), ('yields', 3), ('ppiase', 1), ('seven', 1), ('cep2', 1), ('muguruma', 3), ('mangeat', 3), ('198', 1), ('integrins', 5), ('horwitz', 3), ('1986', 3), ('knezevic', 3), ('correlates', 3), ('enha', 1), ('gap', 1), ('p190', 1), ('p120â\\x80¢p190', 1), ('3y1', 2), ('fibroblasts', 3), ('transformed', 4), ('sr3y1', 1), ('module', 5), ('reveals', 7), ('lam', 1), ('perlecan', 8), ('agrin', 2), ('discrepant', 1), ('context', 2), ('solved', 1), ('structures', 5), ('cd44v3', 2), ('d44s', 1), ('shares', 3), ('ht', 2), ('rhtbk', 3), ('rak', 5), ('antigens', 5), ('p42', 7), ('cancer', 5), ('gp120', 4), ('automatically', 5), ('eliminates', 7), ('immunosuppressant', 2), ('ethanol', 2), ('vehicle', 2), ('drugs', 2), ('rrm3', 1), ('whose', 3), ('portio', 1), ('hth', 5), ('pbx1', 3), ('tgattgac', 3), ('tgac', 3), ('noteworthy', 3), ('chemokines', 2), ('mdc', 1), ('tymstr', 2), ('lymphocytes', 2), ('ccr8', 4), ('monocytes', 2), ('diverse', 3), ('106', 3), ('discount', 2), ('explanations', 2), ('valid', 2), ('confusion', 2), ('literature', 2), ('phosphorylat', 1), ('p85î±', 6), ('csk', 5), ('reactivated', 2), ('marcks', 4), ('primary', 4), ('prominent', 6), ('tafiis', 3), ('interplay', 1), ('phol', 3), ('polytene', 3), ('subdivision', 2), ('67b', 2), ('genome', 7), ('project', 2), ('cg3445', 2), ('overlay', 3), ('footprinting', 9), ('ebv', 2), ('throughout', 2), ('cycle', 4), ('hsieh', 1), ('niller', 1), ('abundance', 3), ('ip', 2), ('pellet', 2), ('ptbî\\x94', 3), ('crosslinking', 2), ('ptb', 6), ('consistently', 5), ('131', 4), ('chimera', 3), ('3gc2', 3), ('lux', 3), ('133', 3), ('chimeras', 3), ('smad1', 8), ('fashion', 4), ('mh1', 3), ('consisting', 2), ('pupupuc', 1), ('gpypypy', 1), ('transactivates', 2), ('sy', 2), ('trunc', 2), ('bmp2', 2), ('referenced', 2), ('interface', 2), ('ranging', 2), ('probe', 8), ('notable', 5), ('hbp1', 5), ('bromo', 1), ('observe', 1), ('tsh', 3), ('enough', 2), ('argue', 1), ('polalpha', 1), ('sal', 1), ('drive', 3), ('spl', 2), ('mî²', 2), ('wing', 1), ('imaginal', 1), ('disc', 1), ('gbe', 1), ('repressed', 5), ('highest', 2), ('â\\x80\\x8b6a', 1), ('1984', 3), ('ex', 1), ('4vra', 1), ('inhibitors', 12), ('amphiphysins', 1), ('sds', 3), ('electrophoresis', 3), ('page', 1), ('phiphysin', 1), ('immunodetection', 2), ('immobilized', 4), ('alk', 1), ('ecd', 2), ('eige', 1), ('bgl', 2), ('fyn', 3), ('poorly', 4), ('mcm', 7), ('near', 7), ('wide', 3), ('positions', 5), ('origins', 2), ('across', 2), ('among', 8), ('typically', 6), ('reagents', 7), ('phorbol', 17), ('ester', 11), ('calphostin', 5), ('4î±', 5), ('esters', 6), ('distinguish', 6), ('munc13', 2), ('assuming', 6), ('munc13s', 6), ('outside', 9), ('compon', 2), ('chains', 6), ('helical', 9), ('karki', 2), ('holzbaur', 3), ('vaughan', 2), ('vallee', 2), ('bp2', 1), ('conjugated', 2), ('rangap1', 1), ('ccs', 4), ('pdz2', 2), ('bacteriophage', 1), ('t4', 1), ('appreciable', 1), ('blocking', 3), ('employing', 1), ('mice', 1), ('express', 1), ('marked', 1), ('processed', 2), ('xia', 1), ('vpiaq', 1), ('smac', 1), ('diablo', 1), ('remove', 1), ('ubc2', 2), ('micromolar', 3), ('102', 2), ('uncharged', 5), ('hsubc2b', 2), ('e1', 3), ('thekm', 2), ('p25', 4), ('parallel', 1), ('tails', 4), ('inadp215', 1), ('zic2', 4), ('ar1', 5), ('intriguing', 5), ('klc', 6), ('stenoien', 2), ('brady', 2), ('syd', 2), ('265', 4), ('hsp82', 1), ('a97i', 1), ('g170d', 1), ('alter', 2), ('sp90', 2), ('analogous', 8), ('nq', 2), ('left', 2), ('sap90', 7), ('psd95', 6), ('ca2b', 1), ('di2diii1', 1), ('ers', 1), ('suc2', 1), ('none', 1), ('partners', 5), ('collagen', 16), ('c1q', 3), ('hsp47', 4), ('portions', 6), ('snk', 1), ('pharose', 1), ('providing', 2), ('link', 2), ('pipe', 2), ('ventral', 3), ('prepattern', 2), ('protease', 2), ('cascade', 2), ('hard', 1), ('imagine', 1), ('monomer', 2), ('thermally', 1), ('driven', 1), ('collision', 1), ('acta', 2), ('filin', 3), ('hsorc', 1), ('serve', 1), ('immobil', 1), ('anchored', 2), ('wn', 1), ('profi', 1), ('ephyrin', 1), ('mayer', 1), ('1993a', 1), ('ile174', 4), ('val177', 4), ('supportive', 4), ('rhodopsin', 3), ('1â\\x80\\x93191', 4), ('i174a', 4), ('v177a', 4), ('homologue', 1), ('pan', 1), ('gelsolin', 5), ('hinder', 1), ('ps2', 1), ('argues', 1), ('against', 1), ('hatanaka', 1), ('benfenati', 2), ('event', 3), ('lock', 2), ('configuration', 2), ('permit', 3), ('proportion', 1), ('tadiv', 1), ('total', 3), ('crude', 1), ('densitometric', 1), ('g0', 1), ('cdh1', 3), ('differentially', 3), ('rox1', 1), ('transgenes', 1), ('points', 1), ('quantitatively', 2), ('ask', 2), ('prb', 11), ('heterologous', 3), ('krxl', 2), ('functionally', 7), ('asynchronously', 2), ('growing', 2), ('saos2', 2), ('transfected', 5), ('plasmids', 4), ('encoding', 4), ('864', 4), ('grppvkrrldle', 2), ('e21ywt', 2), ('928', 2), ('assemble', 1), ('disassemble', 1), ('nucleate', 1), ('mts', 5), ('opposite', 2), ('serving', 2), ('scaffold', 2), ('fn', 6), ('schlaepfer', 6), ('hunter', 2), ('phosphorylate', 7), ('tyr317', 2), ('convergent', 5), ('reporting', 5), ('syndapin', 3), ('pacsin', 4), ('fap52', 5), ('cortactin', 6), ('8b', 3), ('32p', 4), ('label', 1), ('gradually', 1), ('hydrolyzed', 2), ('acquired', 6), ('thermotolerance', 2), ('content', 2), ('primed', 2), ('conversely', 2), ('parp', 2), ('susceptibility', 4), ('counteracted', 1), ('aminobenzamide', 1), ('llc', 1), ('pk1', 1), ('transfectants', 1), ('mirk', 1), ('hnf1î±', 1), ('steps', 1), ('y1176', 2), ('internalization', 1), ('interdependent', 2), ('events', 4), ('selection', 2), ('3a', 5), ('enin', 1), ('bisindolylmaleimide', 5), ('tethered', 4), ('laminins', 2), ('agr', 1), ('investigations', 1), ('rearrangements', 2), ('joneson', 1), ('lamarche', 1), ('sells', 1), ('supporting', 3), ('signalling', 1), ('chinese', 4), ('hamster', 4), ('ovary', 4), ('resulted', 5), ('segregation', 4), ('diffuse', 4), ('distribution', 4), ('accumulated', 4), ('patches', 4), ('pcaf', 6), ('coactivators', 3), ('regulates', 5), ('at3', 3), ('regulators', 3), ('snrn', 1), ('aak1', 1), ('sas2', 1), ('pcna', 6), ('cdc45', 1), ('depended', 1), ('hmr', 1), ('silencer', 2), ('reverse', 2), ('microinjected', 2), ('pc12', 2), ('islet', 1), ('jurata', 1), ('leaving', 1), ('room', 1), ('cofactors', 1), ('ot', 2), ('rem', 5), ('kinectin', 4), ('rocks', 4), ('extended', 7), ('taf', 5), ('cleaved', 6), ('severed', 2), ('briefly', 2), ('monomeric', 6), ('apoptosis', 4), ('prot', 3), ('scr', 1), ('better', 2), ('zip', 4), ('bcr', 5), ('use', 4), ('approach', 3), ('abundant', 1), ('zinc', 1), ('fingers', 1), ('tnfalpha', 3), ('cross', 2), ('partially', 4), ('phorylated', 1), ('iv', 5), ('fibulins', 3), ('gal11p', 1), ('inducible', 3), ('gp130', 3), ('jak2', 2), ('immunoprecipitations', 2), ('semaphorins', 5), ('combined', 3), ('plexins', 4), ('ohta', 2), ('raises', 2), ('questions', 3), ('lz', 5), ('hancer', 1), ('pros', 4), ('mu', 2), ('omplex', 2), ('cultured', 4), ('absent', 3), ('paire', 1), ('actually', 2), ('predominately', 1), ('composed', 2), ('sheet', 1), ('consisted', 1), ('mix', 4), ('buffer', 6), ('peif', 1), ('meif', 1), ('rhi', 1), ('terodimer', 1), ('bae', 1), ('koyano', 1), ('nakagawa', 1), ('uim', 1), ('sharply', 1), ('quitin', 2), ('nitrocellulose', 5), ('filters', 2), ('times', 4), ('nck', 9), ('procollagen', 3), ('eif2b', 2), ('exception', 2), ('p95', 2), ('rotational', 2), ('create', 2), ('hsf', 2), ('p41', 2), ('hip1', 6), ('accordingly', 1), ('eif2alpha', 2), ('nhe1', 2), ('538', 1), ('638', 1), ('au', 5), ('untranslated', 2), ('ut', 1), ('certain', 2), ('cc2', 2), ('p115', 4), ('antin', 1), ('gm130', 6), ('alpha1i', 1), ('situation', 2), ('galphai', 1), ('galphaiq205l', 1), ('influences', 1), ('spindle', 1), ('beta3', 1), ('lies', 3), ('163', 1), ('unfolds', 4), ('exposes', 4), ('gilmore', 4), ('huttelmaier', 4), ('quaternary', 3), ('comparing', 2), ('mgts', 1), ('noted', 7), ('formyl', 2), ('amidine', 2), ('groups', 4), ('acetamido', 2), ('ch2ch2n', 2), ('magnitude', 2), ('k1k2', 2), ('paradoxically', 1), ('quantitative', 3), ('post', 3), ('thymidine', 1), ('stk15', 2), ('hyperphosphorylated', 1), ('reversible', 2), ('status', 1), ('id1', 1), ('lipoprotein', 1), ('retention', 2), ('atherosclerosis', 1), ('prone', 1), ('thought', 10), ('proteoglycans', 1), ('pgs', 1), ('egress', 1), ('crossing', 1), ('endothelial', 1), ('barrier', 2), ('ventralizing', 1), ('xwnt', 1), ('lengthdelta4', 2), ('p23', 2), ('processes', 1), ('immunostain', 1), ('ubiquitously', 2), ('classic', 3), ('representative', 1), ('thyroid', 1), ('redox', 1), ('ttf', 1), ('parts', 1), ('pcl', 1), ('asterisk', 2), ('modulates', 3), ('polymerization', 5), ('bot', 4), ('ac1', 2), ('cdc42hs', 3), ('gcn4', 4), ('moter', 4), ('rap1', 4), ('overcoming', 2), ('repressive', 3), ('surfa', 1), ('gdi', 3), ('chuang', 2), ('mcmt', 2), ('gp', 3), ('ibî±', 1), ('takafuta', 2), ('xu', 2), ('thompson', 2), ('faulkner', 2), ('van', 2), ('ven', 2), ('takada', 2), ('dcap', 2), ('lrp5', 4), ('chromodomain', 3), ('lys', 1), ('bannister', 1), ('lachner', 1), ('tcfs', 1), ('lement', 3), ('inhib', 1), ('cdc20', 5), ('fang', 1), ('1998a', 1), ('hwang', 1), ('kallio', 1), ('pci', 4), ('guiding', 2), ('encounter', 2), ('template', 3), ('intact', 2), ('apoe3', 2), ('lipid', 5), ('4c', 1), ('correlation', 2), ('repressor', 8), ('apccdh1', 1), ('rgl', 1), ('majority', 2), ('daily', 2), ('oteasome', 1), ('myopodin', 1), ('angstrom', 1), ('resembles', 1), ('histocompatibility', 1), ('mhc', 2), ('heavy', 1), ('zag', 1), ('obulin', 1), ('tyr177', 2), ('pendergast', 2), ('puil', 2), ('ordered', 1), ('thr', 2), ('ctivated', 1), ('gamma', 4), ('secretase', 2), ('ggg759', 1), ('761aaa', 1), ('klotzbucher', 2), ('behave', 2), ('transportable', 2), ('cdc2', 7), ('degraded', 2), ('a4b', 1), ('pmca2b', 5), ('bni1p', 2), ('ud6p', 2), ('imamura', 8), ('cdc42p', 4), ('rho1p', 4), ('kohno', 4), ('nearly', 2), ('templates', 3), ('samples', 3), ('compensated', 2), ('size', 2), ('sres', 2), ('impose', 2), ('mads', 3), ('includ', 1), ('rabbit', 1), ('polyclonal', 1), ('dmgal', 1), ('defect', 6), ('gmp', 1), ('pnp', 1), ('eif5b', 2), ('80s', 1), ('ribosomes', 1), ('res', 5), ('mily', 5), ('cp1', 2), ('responsive', 3), ('minus', 1), ('diagram', 1), ('col', 1), ('adaptin', 2), ('synaptojanin', 3), ('ins', 3), ('p3', 2), ('acyl', 2), ('cooperativity', 3), ('injection', 1), ('antiserum', 1), ('vip1r', 4), ('antagonist', 2), ('vip', 4), ('pacap', 4), ('dnase', 11), ('hmg', 9), ('s1234', 1), ('restriction', 1), ('hypersensitivity', 2), ('minichromosome', 4), ('endâ\\x80\\x90labeling', 2), ('tre', 4), ('preferences', 4), ('phenomenon', 2), ('ku', 1), ('complementary', 1), ('mbt', 3), ('cdc42t17n', 2), ('localisation', 2), ('ajs', 2), ('morphology', 4), ('8k', 2), ('reason', 2), ('instability', 2), ('owing', 1), ('estimated', 1), ('scintillation', 1), ('counting', 1), ('chromosomes', 2), ('coincident', 1), ('sin3', 3), ('salivary', 1), ('gland', 1), ('gelatin', 1), ('breakdown', 2), ('25â°c', 2), ('regarded', 2), ('insufficient', 2), ('denature', 2), ('liganded', 1), ('lass', 1), ('translates', 1), ('disturbance', 1), ('p1', 1), ('fiid', 1), ('coactivator', 2), ('phyl', 2), ('fate', 2), ('tracts', 2), ('mar', 1), ('accumulation', 3), ('tors', 1), ('peifer', 2), ('phospho', 3), ('hodopsin', 2), ('cd8î±î±', 3), ('stronger', 2), ('cd8î±î²', 4), ('â\\x88¼10', 2), ('surpasses', 2), ('mhcia', 2), ('leishman', 2), ('moody', 2), ('egfr', 2), ('prox', 1), ('complication', 1), ('arises', 2), ('rhee', 1), ('comparative', 3), ('1beta', 11), ('synthesis', 5), ('followed', 5), ('lps', 7), ('tnf', 16), ('promotors', 4), ('mlk3', 3), ('endoge', 1), ('overcome', 3), ('covalently', 2), ('nm23', 1), ('labeling', 2), ('rad', 1), ('situ', 1), ('apoptosome', 1), ('aî²', 1), ('abrogating', 1), ('trx', 2), ('substitute', 1), ('equence', 1), ('sparc', 3), ('tenascin', 3), ('comparably', 3), ('cr2', 2), ('ca4b', 1), ('lnx', 2), ('hct', 1), ('colorectal', 1), ('carcinoma', 1), ('nc', 2), ('plakoglobin', 6), ('raxin', 1), ('jip2', 3), ('u', 2), ('os', 2), ('vh10', 2), ('sv40', 2), ('adenovirus', 5), ('hydroxytamoxifen', 1), ('akt', 1), ('parental', 1), ('nih', 2), ('3t3', 3), ('quence', 1), ('severely', 1), ('restricted', 1), ('bxd', 1), ('tres', 1), ('pxxp', 3), ('bokoch', 4), ('galisteo', 4), ('interactive', 4), ('burbelo', 5), ('guanine', 4), ('tfe3', 1), ('smallest', 1), ('derivative', 1), ('8a', 1), ('q81l', 4), ('ckiepsilon', 1), ('obvious', 2), ('homeobox', 1), ('enables', 1), ('rieckhof', 1), ('sspi', 4), ('interferes', 2), ('infer', 2), ('conditional', 4), ('phenotype', 2), ('e83a', 2), ('ch1', 1), ('ion', 5), ('spec', 1), ('ally', 1), ('thioredoxin', 1), ('utrs', 3), ('cntfrî±', 1), ('glycosylphosphatidylinositol', 2), ('cntf', 1), ('bearing', 3), ('taga', 3), ('davis', 2), ('1993b', 2), ('robledo', 2), ('43s', 2), ('plexes', 1), ('depolarization', 2), ('nearby', 2), ('stimulatory', 2), ('unproven', 2), ('te', 2), ('brg', 1), ('fami', 2), ('id', 3), ('brg1', 1), ('hp1alpha', 1), ('heat', 3), ('delays', 1), ('recovery', 2), ('tryptophan', 5), ('213', 2), ('meis1a', 2), ('pswnr', 2), ('captured', 2), ('proteinchip', 1), ('array', 1), ('apparent', 5), ('if4g', 3), ('i110', 1), ('endotoxin', 2), ('eu', 1), ('limulus', 1), ('amebocyte', 1), ('excluded', 1), ('residual', 3), ('coat', 3), ('calculated', 1), ('initially', 2), ('gels', 1), ('combining', 2), ('produced', 7), ('shifted', 2), ('bands', 2), ('lrr', 1), ('eee', 1), ('conversion', 6), ('altered', 5), ('spe', 1), ('city', 1), ('akap220', 1), ('regio', 1), ('dvl', 10), ('axam', 3), ('share', 2), ('a2', 2), ('pla2', 1), ('osteoclastogenesis', 2), ('parin', 1), ('ocif', 1), ('replacing', 1), ('chem', 2), ('unphosphorylat', 1), ('scin', 2), ('thiolester', 1), ('e3î±', 1), ('polyme', 1), ('ized', 1), ('igo', 1), ('214', 1), ('252', 1), ('functioned', 1), ('smcs', 1), ('bhlh', 3), ('zipper', 1), ('competitor', 5), ('â\\x80\\x93binding', 1), ('d43', 1), ('snail', 1), ('ocus', 2), ('photocrosslinking', 3), ('pattern', 4), ('dmpbp', 3), ('psea', 2), ('arg', 10), ('arg25', 3), ('arg28', 3), ('btk', 2), ('abrogates', 6), ('scupa', 2), ('synergistic', 2), ('sk3', 1), ('inability', 2), ('r308k', 2), ('rivero', 2), ('lezcano', 2), ('efficien', 1), ('dfkbp59', 2), ('yielded', 1), ('aff', 1), ('aspenstrã¶m', 2), ('karlsson', 1), ('sutoh', 1), ('miller', 2), ('yk2', 1), ('mtbr', 2), ('123', 2), ('attended', 3), ('enhancement', 3), ('thioflavin', 3), ('particular', 5), ('pairwise', 1), ('crp', 2), ('essentially', 2), ('noncooperative', 1), ('evaluated', 1), ('titrations', 2), (\"'s\", 2), ('uims', 1), ('nds', 3), ('nct', 3), ('additionally', 2), ('spatial', 1), ('paradox', 1), ('asp38', 1), ('quenching', 2), ('pyrene', 2), ('pelleting', 1), ('bruno', 5), ('bre', 4), ('assayed', 1), ('legend', 1), ('threonine', 2), ('bunits', 1), ('contact', 4), (\"d'amico\", 2), ('pmol', 1), ('akap', 2), ('150', 3), ('nadph', 3), ('diva', 1), ('xl', 5), ('dampened', 2), ('derepression', 2), ('3at', 3), ('reducing', 4), ('elevated', 3), ('bps', 2), ('cftr', 3), ('t84', 2), ('calu', 2), ('bmp7', 5), ('bx', 2), ('antc', 2), ('loci', 2), ('unaltered', 2), ('chromosomal', 2), ('tamoxifen', 1), ('str', 1), ('interfering', 2), ('causing', 2), (\"pkc's\", 2), ('293t', 1), ('er1', 1), ('ta1', 1), ('tom70', 1), ('tom37', 1), ('om22', 1), ('hnrnp', 2), ('cnbp', 2), ('relationship', 2), ('ralgefs', 1), ('speculated', 2), ('term', 1), ('autoinhibitory', 1), ('involving', 6), ('rs', 2), ('purine', 1), ('65kda', 2), ('spr', 1), ('pled', 1), ('derived', 2), ('predicts', 1), ('pi3k', 4), ('products', 2), ('boundary', 1), ('specialized', 1), ('scs', 3), ('scsõ\\x9b', 1), ('fab', 3), ('mcp', 1), ('bithorax', 1), ('su', 7), ('hw', 1), ('gyps', 1), ('nsposon', 1), ('bell', 1), ('srm160', 3), ('p35', 4), ('cdk5', 2), ('pho85', 1), ('complementation', 1), ('pho85delta', 1), ('strain', 2), ('kina', 1), ('sapk', 4), ('preincubated', 1), ('dot', 1), ('blot', 4), ('longerr', 1), ('preferential', 1), ('destabilizes', 1), ('nin', 1), ('adam12', 2), ('actinins', 2), ('gs', 1), ('dephosphorylation', 3), ('bcl', 3), ('bax', 2), ('crkl', 3), ('sequenc', 1), ('formin', 2), ('ren', 2), ('gertler', 2), ('phosphoryla', 1), ('erin', 1), ('r175n', 2), ('tetratricopeptide', 2), ('absolutely', 3), ('deletions', 2), ('scanning', 2), ('elucidate', 1), ('biological', 1), ('attempted', 1), ('ne', 1), ('dlg', 1), ('screening', 2), ('cdna', 2), ('library', 3), ('prey', 1), ('nker', 1), ('package', 1), ('nhancer', 1), ('short', 2), ('ares', 1), ('sh', 1), ('turnover', 3), ('widely', 1), ('inte', 1), ('hec', 1), ('bfgf', 2), ('mumol', 1), ('produces', 1), ('subtle', 2), ('side', 2), ('mebm2t1', 5), ('positional', 2), ('ala103', 2), ('naturally', 2), ('fit', 2), ('csa', 4), ('radd', 1), ('again', 2), ('us', 1), ('alternatively', 1), ('barely', 1), ('lamellipodia', 1), ('sum', 1), ('clustering', 1), ('gion', 2), ('currently', 2), ('testing', 3), ('l27', 2), ('hrs', 4), ('production', 3), ('skeleton', 3), ('famil', 4), ('194', 1), ('deleted', 1), ('e6', 1), ('ence', 1), ('dducin', 1), ('goal', 1), ('learning', 2), ('insulating', 1), ('nucleoprotein', 1), ('gst537c', 1), ('greatly', 4), ('diminished', 1), ('g423a', 1), ('y426a', 1), ('rq428', 1), ('429aa', 1), ('becomes', 3), ('artificially', 2), ('constitutive', 1), ('leevers', 1), ('stokoe', 1), ('orm', 1), ('sev', 1), ('search', 1), ('screened', 1), ('rabaptin', 3), ('stenmark', 1), ('1995a', 1), ('shocked', 1), ('additive', 1), ('downward', 1), ('shock', 1), ('usf', 3), ('ns20y', 3), ('acetylates', 1), ('lowers', 1), ('waltzer', 1), ('bienz', 1), ('dvl2', 1), ('59', 1), ('up', 1), ('pldlsl', 2), ('deltaef1', 1), ('flank', 1), ('prp19', 1), ('prior', 3), ('hsl1', 1), ('undergo', 4), ('septin', 4), ('mitosis', 3), ('altman', 2), ('kellogg', 2), ('carroll', 2), ('barral', 2), ('labelled', 1), ('ie', 1), ('oligomers', 1), ('betaiii', 1), ('neu', 3), ('eb', 1), ('nmr', 2), ('mkp', 1), ('pulldown', 1), ('camps', 1), ('define', 4), ('phospholipids', 3), ('damer', 4), ('creutz', 4), ('cdc11', 2), ('salt', 1), ('lysis', 1), ('edta', 1), ('supernatant', 3), ('mgadp', 2), ('cosedimented', 2), ('whi', 1), ('kcnk9', 1), ('karyopherin', 1), ('beta2', 1), ('ensuring', 1), ('ordering', 1), ('consequent', 1), ('ug', 2), ('abstract', 1), ('arki', 1), ('elf', 1), ('1â\\x80\\x932', 1), ('mean', 1), ('dexamethasone', 1), ('acetyl', 1), ('coa', 1), ('naked', 1), ('processing', 4), ('butyric', 1), ('gabaa', 1), ('gamma2', 1), ('exclusion', 1), ('nonneuronal', 1), ('property', 1), ('heparan', 2), ('sulfate', 2), ('proteoglycan', 2), ('hspg', 2), ('metabolic', 1), ('ntf', 1), ('lifrî²', 1), ('htz1delta', 2), ('egta', 2), ('nei', 1), ('dunc13', 2), ('mt', 1), ('transformation', 1), ('gppnhp', 1), ('protection', 1), ('comparelanes', 1), ('1â\\x80\\x934', 1), ('5â\\x80\\x938', 1), ('125i', 1), ('tiam1', 2), ('xin', 1), ('1h', 1), ('15n', 1), ('hsqc', 1), ('spectroscopy', 2), ('â\\x80\\x90', 1), ('aromatic', 1), ('151', 1), ('slowing', 1), ('dmpp', 1), ('slower', 1), ('numb', 3), ('pt', 1), ('cys265', 1), ('castanospermine', 2), ('calnexin', 1), ('deoxynojirimycin', 2), ('approaches', 3), ('saturation', 1), ('tsg101', 1), ('fission', 1), ('vlp', 1), ('c3', 2), ('exoenzyme', 1), ('m1', 2), ('machr', 1), ('kv1', 4), ('tafii110', 1), ('i250', 1), ('investigation', 2), ('date', 2), ('srebp', 2), ('assist', 2), ('pp125fak', 1), ('cakbeta', 1), ('difficult', 1), ('correct', 2), ('pairs', 1), ('annels', 1), ('cdi', 1), ('nmda', 1), ('currents', 1), ('recorded', 1), ('infusion', 2), ('nr1', 1), ('nr2a', 1), ('hek', 1), ('293', 1), ('cdc', 3), ('rnai', 2), ('embryonic', 2), ('polarity', 1), ('organization', 1), ('embryo', 1), ('immunofluorescence', 2), ('genetic', 3), ('adenylyl', 1), ('cyclase', 1), ('si', 2), ('icant', 1), ('defects', 1), ('behavioral', 1), ('livingston', 1), ('foster', 1), ('dent', 1), ('cones', 1), ('allowed', 1), ('internalize', 1), ('reag', 1), ('unconjugated', 1), ('olipids', 1), ('actively', 2), ('taf130p', 3), ('plex', 3), ('explore', 2), ('260', 1), ('variant', 2), ('tetrameric', 1), ('aqueous', 3), ('poz', 1), ('sp2', 3), ('bas1', 1), ('bas2', 1), ('threefold', 3), ('especially', 1), ('uninduced', 1), ('sul', 1), ('stabilizing', 5), ('network', 2), ('yurchenco', 2), (\"o'rear\", 2), ('mefs', 4), ('tsc2â\\x88\\x92', 2), ('â\\x88\\x92', 2), ('dimensional', 2), ('thin', 2), ('layer', 2), ('window', 1), ('hcf', 4), ('p134s', 3), ('cal', 1), ('amp', 2), ('triggers', 1), ('tfii', 1), ('5d', 2), ('trcp', 1), ('scf', 2), ('e3', 2), ('ligase', 2), ('destruction', 2), ('struhl', 2), ('winston', 2), ('kitagawa', 2), ('ically', 1), ('848', 1), ('1279', 1), ('sometimes', 2), ('cdk1', 1), ('requisite', 2), ('thr161', 2), ('thr160', 2), ('cak', 3), ('trand', 2), ('vigilin', 3), ('vitellogenin', 2), ('dystrophin', 2), ('physiologic', 1), ('insert', 2), ('mek', 3), ('coupling', 1), ('mplex', 1), ('lamp', 2), ('absorption', 1), ('coefficient', 1), ('450', 1), ('fad', 1), ('primer', 1), ('arg65', 1), ('asp319', 1), ('mkp3', 3), ('7b', 2), ('nbs1p70', 2), ('urin', 1), ('3â\\x80²utr', 1), ('luciferase', 2), ('quantitate', 3), ('employed', 3), ('affinit', 1), ('rangtp', 2), ('contexts', 1), ('picture', 2), ('encompassing', 1), ('nanomolar', 1), ('comprise', 1), ('fi', 1), ('orc1', 3), ('orc5', 2), ('hydroxylase', 1), ('enkephalin', 1), ('somatostatin', 1), ('vasoactive', 1), ('intestinal', 1), ('eps15r', 1), ('ides', 1), ('ebp50', 3), ('ez', 1), ('bud6p', 2), ('ns', 1), ('notch2', 1), ('chlorate', 1), ('pulse', 1), ('biotinylation', 1), ('er', 3), ('golgi', 3), ('transported', 1), ('markers', 2), ('peduncle', 2), ('lobes', 2), ('heavily', 2), ('invasion', 1), ('islam', 1), ('hazan', 1), ('pbd', 1), ('amplified', 1), ('digested', 2), ('cloned', 1), ('t7', 1), ('pcal', 1), ('bacterial', 1), ('vector', 1), ('translational', 1), ('aes', 1), ('zf', 1), ('377', 1), ('246', 1), ('248', 1), ('orlich', 1), ('henklein', 1), ('1996a', 1), ('appropriate', 1), ('center', 1), ('if4a', 1), ('orc4', 2), ('erythrocytes', 2), ('bundles', 2), ('3hs1', 1), ('accomplished', 2), ('quikchange', 1), ('kit', 1), ('calif', 1), ('manufacturers', 1), ('directions', 1), ('bc13', 2), ('scenario', 1), ('documented', 1), ('bipartite', 1), ('eptor', 1), ('vt', 2), ('fgfr1', 1), ('fgfr2', 3), ('rim1', 3), ('snake', 2), ('venom', 2), ('platelet', 2), ('iiia', 2), ('fibrinogen', 1), ('clotting', 2), ('adler', 2), ('beer', 2), ('particularly', 2), ('occur', 5), ('ocated', 1), ('pev', 1), ('pon', 1), ('subsequently', 5), ('maintenance', 2), ('cocker', 2), ('santocanale', 2), ('diffley', 4), ('aparicio', 2), ('donovan', 2), ('liang', 2), ('stillman', 2), ('tanaka', 2), ('perkins', 2), ('weinreich', 2), ('â\\x88\\x92200', 2), ('87', 2), ('par', 2), ('somehow', 2), ('ei', 1), ('mypt', 1), ('mitotic', 2), ('interphase', 2), ('mat', 1), ('dephosphorylated', 1), ('tat', 2), ('snap23', 2), ('coactivation', 1), ('crp2', 1), ('eralpha', 6), ('emphasize', 2), ('simultaneous', 2), ('bxc', 1), ('nonclathrin', 1), ('coatomer', 1), ('budding', 1), ('lenhard', 1), ('donaldson', 1), ('klausner', 1), ('boman', 1), ('kahn', 1), ('dittie', 1), ('ooi', 1), ('springer', 1), ('phototransduction', 1), ('interested', 1), ('elucidating', 1), ('norpa', 2), ('pdz1', 1), ('checkpoint', 1), ('inhi', 1), ('mad2', 1), ('sin', 2), ('computational', 1), ('bradykinin', 2), ('bioregulator', 1), ('successfully', 1), ('pp90rsk', 5), ('hpak65', 2), ('ci', 8), ('cosâ\\x80\\x902', 3), ('fu', 5), ('monnier', 3), ('nik', 2), ('sug2', 1), ('tertiary', 3), ('engrailed', 2), ('worked', 1), ('predict', 1), ('î¼b', 5), ('undetectable', 2), ('demonstrations', 2), ('pu', 10), ('nuclei', 2), ('variety', 4), ('tryptic', 1), ('digestion', 1), ('h43q', 1), ('extensively', 1), ('pemphigus', 1), ('vulgaris', 1), ('keratinocytes', 1), ('intracytoplasmic', 1), ('synergism', 1), ('chip', 1), ('romoter', 2), ('minichromosomes', 3), ('appkppr', 1), ('mpr', 1), ('3b', 2), ('p55', 2), ('variations', 2), ('isotype', 1), ('preparations', 1), ('gbd', 1), ('ther', 1), ('sema3a', 1), ('np', 2), ('717', 1), ('727', 1), ('quite', 2), ('striking', 1), ('lokeshwar', 1), ('rdgc', 2), ('linkages', 4), ('d315a', 1), ('da', 2), ('odtdeltane', 1), ('mena', 1), ('crt', 5), ('bsa', 2), ('transfer', 3), ('8g1', 2), ('130cas', 2), ('limitation', 1), ('suv39h1', 1), ('envisioned', 1), ('hp1', 1), ('deacetylases', 1), ('312', 1), ('conferred', 1), ('sensitivity', 1), ('572', 2), ('rows', 1), ('accordance', 1), ('272', 1), ('tlr', 1), ('syndapi', 1), ('â\\x80\\x8b5a', 1), ('93', 2), ('sarcoglycans', 1), ('gt', 1), ('purification', 1), ('con', 1), ('eluate', 1), ('heme', 2), ('moiety', 1), ('rfabg', 1), ('program', 2), ('focused', 2), ('identifying', 1), ('culminated', 1), ('discovery', 1), ('deltan125', 1), ('125', 1), ('removed', 4), ('bitors', 1), ('ogenous', 1), ('sim', 1), ('leu167', 1), ('leu170', 1), ('replaced', 1), ('alp', 1), ('speculate', 3), ('maintaining', 2), ('idax', 1), ('fp4', 2), ('prevention', 1), ('inducing', 2), ('filopodia', 1), ('bfa', 1), ('proteolysis', 2), ('homogenate', 1), ('mekk', 1), ('predominant', 1), ('evolutionary', 1), ('wingless', 3), ('wodarz', 1), ('nusse', 1), ('saturates', 4), ('density', 4), ('arg688', 6), ('1182', 6), ('folded', 1), ('lc', 1), ('hc', 1), ('postulated', 2), ('dtafii230', 1), ('indication', 1), ('stimulus', 1), ('pepck', 1), ('inta', 1), ('oe3', 1), ('s14', 1), ('rad3', 1), ('kâ\\x86\\x92a', 1), ('prev', 1), ('kâ\\x86\\x92r', 1), ('dom', 1), ('guanylate', 1), ('ww', 1), ('ppcy', 1), ('lpsy', 1), ('comm', 1), ('nzyme', 1), ('pki', 4), ('pip3', 1), ('ol', 1), ('erodimers', 1), ('larg', 1), ('undiluted', 1), ('diluted', 2), ('p4', 1), ('occupy', 1), ('cre2', 1), ('nfe2', 1), ('p18', 1), ('convex', 1), ('shape', 2), ('scatchard', 1), ('ibb', 1), ('rtin', 1), ('î±â\\x80\\x93mediated', 1), ('moore', 1), ('blue', 2), ('triangle', 2), ('takizawa', 2), ('jackman', 1), ('kubota', 1), ('den', 1), ('elzen', 1), ('hagting', 1), ('pines', 1), ('ipids', 1), ('activ', 1), ('351muthuswamy', 1), ('ors', 1), ('substantial', 1), ('fadd', 1), ('included', 1), ('transfections', 1), ('myogenic', 1), ('implicated', 3), ('cardiac', 2), ('capacity', 2), ('nonidet', 1), ('40â\\x80\\x93containing', 1), ('000', 1), ('detergent', 1), ('reinacher', 1), ('schick', 1), ('gumbiner', 1), ('subjected', 1), ('consecutive', 1), ('precipitations', 1), ('30â\\x80²', 1), ('incubations', 1), ('ã\\x97', 1), ('reg', 1), ('pld', 1), ('arf', 1), ('fully', 1), ('1805', 1), ('1891', 1), ('acetyltransferase', 1), ('caf', 1), ('2058', 1), ('2163', 1), ('advantage', 1), ('easily', 1), ('achieved', 1), ('detect', 1), ('â\\x80\\x90binding', 1), ('mode', 1), ('c2aâ\\x80\\x90domain', 1), ('mn2', 1), ('â\\x80\\x90induced', 1), ('relaxation', 1), ('siteâ\\x80\\x90directed', 1), ('monitored', 1), ('glycosylation', 1), ('wg', 1), ('oters', 1), ('nases', 1), ('palindrome', 1), ('endosomal', 2), ('ase', 1), ('substratehrs', 1), ('222', 1), ('777', 1), ('dahiya', 1), ('40s', 1), ('capped', 2), ('convert', 2), ('rearrangement', 2), ('449', 2), ('etitively', 1), ('isofor', 1), ('paralog', 5), ('shen', 4), ('1997a', 2), ('mut', 1), ('6e', 1), ('emi1', 2), ('inacti', 1), ('carg', 1), ('cts660a', 1), ('pbct', 1), ('whil', 1), ('f35', 1), ('hep', 1), ('iiaï\\x84', 1), ('lk', 1), ('extremely', 4), ('understand', 4), ('tef', 2), ('200', 2), ('h2o2', 1), ('bso', 1), ('cybrids', 2), ('depleted', 1), ('uclein', 1), ('ly', 3), ('biotinylated', 2), ('robust', 1), ('oocytes', 1), ('dodeca', 4), ('satellite', 4), ('strand', 4), ('depends', 1), ('wher', 1), ('snaps', 1), ('adapters', 1), ('iq', 1), ('termination', 1), ('photoresponse', 1), ('p70alpha', 2), ('reveal', 2), ('protected', 3), ('archael', 1), ('cdc6', 5), ('ortholog', 1), ('guide', 1), ('structur', 1), ('redundantly', 1), ('minimum', 1), ('stretches', 1), ('narrowed', 2), ('ankyr', 1), ('ank1', 1), ('ptins', 1), ('875', 1), ('884', 1), ('sir3', 2), ('peats', 2), ('entire', 2), ('cdt1', 2), ('rlf', 2), ('ites', 3), ('geminin', 2), ('detection', 1), ('rapid', 3), ('27a', 1), ('nucleation', 1), ('27b', 1), ('27c', 1), ('wasp', 1), ('scar', 1), ('wa', 1), ('sion', 1), ('positioned', 1), (\"3'utr\", 2), ('pkci', 1), ('unwinding', 1), ('slp', 1), ('121', 3), ('373', 3), ('stewart', 4), ('338', 4), ('â\\x80\\x8bfig', 4), ('rrm', 1), ('175', 1), ('257', 1), ('output', 1), ('pfam', 1), ('available', 2), ('www', 1), ('sanger', 1), ('uk', 1), ('clk', 2), ('measurement', 1), ('tcr', 2), ('transgenic', 1), ('do10', 1), ('amyl', 1), ('docking', 1), ('s577a', 1), ('dpp', 3), ('lateral', 1), ('peak', 3), ('carried', 2), ('dorsally', 1), ('sog', 1), ('diffusion', 1), ('tld', 1), ('holley', 1), ('sulfates', 1), ('a2b', 1), ('cold', 1), ('polypyrimidinic', 1), ('ucuu', 1), ('tdp', 2), ('tifs', 1), ('ass', 1), ('cholesterol', 2), ('vaca', 1), ('drm', 1), ('931', 1), ('ptor', 1), ('27632', 1), ('sdf', 1), ('1alpha', 1), ('neurons', 1), ('posttranslational', 1), ('lys4', 1), ('artk4q', 1), ('shared', 1), ('lys9', 1), ('skipping', 2), ('ctfr', 2), ('numerous', 1), ('pkn1', 1), ('rokî±', 1), ('rock', 1), ('mdia1', 1), ('heart', 2), ('hnumb', 2), ('89', 1), ('91', 1), ('a63v', 1), ('k70t', 1), ('dc', 1), ('averaging', 1), ('follows', 1), ('ript', 1), ('she3p', 1), ('she1p', 1), ('myo4p', 1), ('munchow', 1), ('bohl', 1), ('long', 1), ('vale', 1), ('deacetylase', 1), ('sir2', 2), ('nap', 1), ('snap', 3), ('degree', 4), ('selectivity', 3), ('schiavo', 3), ('bl', 1), ('conf', 1), ('ebna3c', 1), ('cox', 1), ('contraction', 1), ('constituents', 1), ('lees', 1), ('helfman', 1), ('gggtgg', 1), ('gggcgg', 2), ('m4', 2), ('changed', 2), ('pten', 1), ('2ba', 1), ('apoe2', 1), ('apoe4', 2), ('comes', 1), ('cher', 1), ('htsrc', 1), ('redirected', 1), ('licensing', 1), ('whilst', 1), ('unshaded', 1), ('denotes', 1), ('hydroxylapatite', 1), ('recover', 1), ('ucture', 1), ('sorf', 1), ('oligomer', 2), ('fl', 2), ('covers', 1), ('aug', 1), ('codons', 1), ('materials', 1), ('methods', 2), ('ps', 1), ('soon', 1), ('mothers', 1), ('restrictive', 1), ('sizable', 1), ('und', 1), ('cord', 1), ('35kda', 1), ('polypyrimidine', 1), ('tetrahelical', 1), ('vii', 1), ('ir', 1), ('p6', 2), ('grb10', 2), ('edd4', 1), ('last', 1), ('157', 1), ('apical', 2), ('crescents', 1), ('fmlp', 2), ('p44', 3), ('differentiated', 2), ('hl', 2), ('teto', 1), ('proapoptotic', 1), ('hid', 1), ('stat5', 1), ('gab1', 1), ('c3g', 1), ('exert', 1), ('s101a', 2), ('fro', 1), ('f4e', 1), ('disintegrin', 1), ('holoenzyme', 2), ('gme', 1), ('cosediments', 1), ('cdc16', 2), ('aurora2', 1), ('aik', 1), ('tighter', 2), ('woul', 1), ('kh', 1), ('ser133', 2), ('dimerize', 1), ('bzip', 1), ('ttk', 2), ('chondrocytes', 2), ('dedifferentiated', 1), ('fibroblast', 1), ('mnbk', 1), ('dyrk1a', 1), ('supplementation', 1), ('fam', 2), ('git2', 6), ('homologous', 2), ('î²pix', 4), ('wished', 2), ('occludin', 1), ('m3', 1), ('minimal', 1), ('dc42', 1), ('autoradiographic', 1), ('meis', 2), ('axons', 1), ('bodies', 1), ('synapses', 1), ('akt1', 2), ('23a', 1), ('22c11', 1), ('hoxd4', 1), ('hands', 2), ('poor', 2), ('t6', 3), ('pa', 1), ('hoxb4', 2), ('mh', 1), ('tgfî²', 2), ('huge', 2), ('sit', 2), ('kbp12', 2), ('caudate', 1), ('atomic', 1), ('modeling', 1), ('concentrated', 1), ('evl', 1), ('transmission', 1), ('wary', 1), ('mainiero', 1), ('angiogenesis', 1), ('cd36', 1), ('ligation', 1), ('coreceptors', 1), ('proangiogenic', 1), ('morphoregulatory', 1), ('guo', 1), ('iruela', 1), ('arispe', 1), ('incubating', 1), ('cotransfected', 1), ('permeable', 1), ('immunoprecipitates', 1), ('hsp88', 3), ('hsp30', 3), ('preference', 3), ('implicate', 2), ('interac', 1), ('strict', 1), ('life', 2), ('20â\\x80\\x9330', 2), ('controlled', 1), ('combinatorial', 1), ('preferred', 1), ('relation', 1), ('dy', 1), ('dr5', 1), ('footprints', 2), ('raise', 2), ('htafii55', 2), ('cii', 1), ('liquid', 1), ('lmyrin', 1), ('20â°c', 1), ('4â°c', 1), ('collectively', 2), ('competi', 1), ('dialysis', 1), ('rum', 1), ('dâ\\x89\\x88', 1), ('homer', 1), ('metabotropic', 1), ('differs', 2), ('dlt', 3), ('crb', 2), ('belong', 2), ('simple', 1), ('dep', 1), ('ent', 1), ('ind', 1), ('purifie', 1), ('05', 1), ('syn', 1), ('pde', 1), ('unstable', 1), ('unless', 1), ('rox', 2), ('fall', 1), ('cep5', 1), ('fivefold', 1), ('pbx2', 1), ('value', 1), ('ith', 1), ('submicromolar', 1), ('haas', 1), ('siepmann', 1), ('htcf', 1), ('ocessivity', 1), ('clamp', 2), ('gata', 1), ('overall', 4), ('cla4', 1), ('experimentally', 1), ('clb2', 1), ('onectin', 1), ('100x', 1), ('reconstitution', 1), ('pms', 1), ('fibers', 1), ('overlappi', 1), ('aplysia', 1), ('hdlg', 1), ('kap220', 1), ('if4f', 1), ('ubf', 1), ('rdna', 1), ('metaphase', 1), ('uence', 1), ('ung2', 2), ('rpa', 1), ('cofa', 1), ('alleviate', 1), ('agulnik', 1), ('chan', 1), ('jaffe', 1), ('capovilla', 1), ('botas', 1), ('mann', 1), ('homeoprotein', 1), ('085', 1), ('premixed', 1), ('10ã\\x97', 1), ('immediately', 1), ('except', 1), ('ser45', 1), ('close', 1), ('genetically', 1), ('val', 1), ('reduces', 1), ('fwd1', 1), ('atpî³s', 1), ('sullivan', 1), ('dependant', 1), ('phosphate', 1), ('information', 1), ('concerning', 1), ('sustained', 1), ('ischemia', 1), ('vri', 1), ('sp30', 1), ('quiescent', 2), ('myocytes', 1), ('lpha', 1), ('positioning', 2), ('pinpoint', 1), ('technique', 1), ('maps', 1), ('predicted', 3), ('sequen', 1), ('lhx4', 2), ('pds1', 1), ('gaga', 1), ('complemented', 2), ('footprint', 2), ('wherein', 2), ('and4', 2), ('evidenced', 2), ('hypersensitive', 2), ('engineered', 1), ('bc', 1), ('fg', 1), ('mrnp', 2), ('commitment', 2), ('dek', 2), ('blencowe', 2), ('109', 1), ('295', 2), ('126', 1), ('temporal', 2), ('development', 1), ('silencing', 2), ('fixed', 1), ('laying', 1), ('ngre', 1), ('acs', 1), ('gd', 1), ('harose', 2), ('3î²', 1), ('concurrently', 2), ('giantin', 1), ('pnpp', 1), ('reached', 1), ('stoichiometry', 1), ('gst547c', 1), ('tpa', 1), ('393', 1), ('738', 1), ('309', 1), ('bag4', 1), ('vldl', 1), ('raised', 1), ('temperatures', 1), ('improper', 1), ('s223f', 1), ('exceeded', 1), ('reflected', 1), ('augmentation', 1), ('quantity', 1), ('rpl23a', 1), ('appeared', 1), ('termina', 1), ('radioactivity', 1), ('trypsin', 1), ('86', 1), ('223', 1), ('compromised', 1), ('cr6', 1), ('xpc', 1), ('energetically', 1), ('unfavorable', 1), ('contributing', 1), ('insertion', 1), ('hrg', 1), ('diminishes', 1), ('ceptor', 1), ('dr1', 1), ('depicting', 1), ('capping', 1), ('rbd', 2), ('loading', 2), ('quantified', 1), ('au5', 1), ('asp49', 1), ('isosteric', 1), ('asn', 1), ('if2', 1), ('ly341495', 1), ('goppelt', 2), ('meisterernst', 1), ('88', 1), ('interacti', 1), ('5beta', 1), ('rab5gtp', 1), ('inactivation', 1), ('x1', 1), ('psd95î²', 1), ('mononucleosome', 1), ('terminu', 1), ('vwrpy', 2), ('vweaa', 2), ('goldstein', 2), ('ralgds', 1), ('precoupled', 1), ('gluthathione', 1), ('isolate', 1), ('me', 1), ('crystallographic', 3), ('arrest', 1), ('interfered', 1), ('abu', 1), ('shaar', 1), ('berthelsen', 1), ('ynactin', 1), ('docked', 2), ('stretch', 1), ('bilayer', 1), ('anchor', 1), ('rubrum', 1), ('y235', 1), ('m239', 1), ('69', 1), ('nicotinamide', 1), ('discrimination', 1), ('ncs', 1), ('3210', 1), ('bipar', 1), ('androgen', 1), ('ubx', 1), (\"tcf's\", 1), ('fractionation', 1), ('fractions', 1), ('sf3a', 1), ('sf3b', 1), ('relati', 1), ('contention', 1), ('profile', 1), ('immune', 1), ('recovered', 1), ('s11', 1), ('hmm', 1), ('myosi', 1), ('sliding', 1), ('toy', 1), ('diverged', 2), ('sets', 2), ('n14g', 2), ('czerny', 2), ('precluded', 1), ('determination', 1), ('speci', 1), ('lly', 1), ('xen', 1), ('genin', 1), ('appendage', 1), ('primordia', 1), ('confocal', 1), ('mosaic', 1), ('filamentou', 1), ('highlights', 1), ('rpl', 1), ('eluted', 1), ('sample', 2), ('tris', 1), ('nonreducing', 1), ('alleviates', 1), ('derepressed', 1), ('ecq5', 1), ('qe', 1), ('needed', 1), ('helicase', 3), ('gtpgammas', 1), ('msl2', 1), ('chosen', 1), ('flies', 1), ('woolfson', 1), ('alber', 1), ('96', 1), ('172', 1), ('twoâ\\x80\\x90stranded', 1), ('î±â\\x80\\x90helical', 1), ('coiledâ\\x80\\x90coil', 1), ('noncovalentl', 1), ('thioester', 1), ('isopeptide', 1), ('bond', 1), ('cortic', 1), ('dyna', 1), ('dbt', 1), ('inducer', 1), ('raising', 1), ('question', 2), ('trpm5', 1), ('fas', 4), ('agonistic', 1), ('igg3', 1), ('apo1', 1), ('trauth', 1), ('1989', 2), ('yonehara', 1), ('medi', 1), ('empty', 1), ('narrow', 1), ('204', 1), ('dor', 1), ('cdc14', 2), ('net1', 1), ('incomplete', 1), ('p50csk', 1), ('fak1', 1), ('ptk', 1), ('spcdk9', 1), ('pch1', 1), ('mlc', 1), ('myf', 1), ('acetylases', 1), ('represent', 2), ('relief', 1), ('guk', 1), ('maguk', 1), ('synapsins', 1), ('experimen', 1), ('rbp26', 1), ('vity', 1), ('flk', 3), ('kdr', 3), ('79', 2), ('68', 2), ('regulating', 1), ('pause', 1), ('gcn', 1), ('p300deltasrc', 1), ('s6k', 1), ('geldanamycin', 1), ('cochaperone', 1), ('85', 1), ('regî±', 1), ('â\\x84«', 1), ('donut', 1), ('shaped', 1), ('heptamer', 1), ('knowlton', 1), ('electron', 1), ('microscopic', 1), ('images', 1), ('centered', 1), ('initiated', 1), (\"gene's\", 1), ('supersedes', 1), ('colocalized', 1), ('oux', 1), ('k4', 1), ('transducer', 1), ('decided', 1), ('suspended', 1), ('sî\\x94ta', 1), ('altogether', 1), ('largely', 1), ('ddp1', 1), ('ssdna', 1), ('behaves', 1), ('regard', 1), ('eac', 1), ('autophosphorylation', 1), ('absolute', 1), ('partner', 1), ('coexpressed', 2), ('amphiphysin', 1), ('bar', 1), ('tubulation', 1), ('neuroglian', 2), ('noncontact', 1), ('aggregated', 1), ('1234', 1), ('indiscriminately', 1), ('acidic', 2), ('solid', 1), ('phosphorylating', 2), ('organisms', 1), ('med', 1), ('rad3p', 1), ('processivity', 1), ('polymerases', 1), ('cytoso', 1), ('cassettes', 1), ('trinucleotides', 1), ('hydrolyze', 1), ('tap', 1), ('ksr', 1), ('relocalized', 1), ('michaudet', 1), ('denouel', 1), ('galyet', 1), ('yuet', 1), ('stewartet', 1), ('attributable', 1), ('rhp1', 1), ('retinoid', 1), ('pkm', 1), ('221', 1), ('k221w', 1), ('precisely', 1), ('lrp6', 1), ('540', 1), ('514', 1), ('transcript', 1), ('dephosphorylates', 1), ('exogenous', 1), ('regular', 1), ('appearance', 1), ('crossbands', 1), ('arrays', 1), ('slanted', 1), ('straight', 1), ('random', 1)])\n",
      "The word index {'protein': 1, 'the': 2, 'of': 3, 'to': 4, 'and': 5, 'binding': 6, 'in': 7, 'that': 8, 'a': 9, 'family': 10, 'is': 11, 'binds': 12, 'with': 13, 'al': 14, 'et': 15, 'dna': 16, 'bind': 17, 'for': 18, 'complex': 19, 'by': 20, 'domain': 21, 'not': 22, 'bound': 23, 'as': 24, '1': 25, 'or': 26, 'we': 27, 'was': 28, 'which': 29, 'fig': 30, '2': 31, 'this': 32, 'chemical': 33, 'these': 34, 'c': 35, 'proteins': 36, 'both': 37, 'but': 38, 'also': 39, 'from': 40, 'be': 41, 'on': 42, 'it': 43, 'actin': 44, 'an': 45, 'at': 46, 'shown': 47, 'are': 48, '3': 49, 'cells': 50, 'region': 51, 'interaction': 52, 'can': 53, 'site': 54, 'its': 55, 'may': 56, 'rna': 57, 'results': 58, 'directly': 59, 'vitro': 60, 'terminal': 61, 'e': 62, 'between': 63, 'has': 64, 'been': 65, 'whereas': 66, 'gst': 67, 'dependent': 68, 'b': 69, 'form': 70, '1998': 71, 'have': 72, '4': 73, 'activity': 74, 'affinity': 75, 'beta': 76, 'transcription': 77, 'n': 78, 'phosphorylation': 79, 'amino': 80, 't': 81, 'only': 82, 'f': 83, 'catenin': 84, 'sequence': 85, 'does': 86, 'sites': 87, 'motif': 88, 'cbp': 89, 'however': 90, 'two': 91, 'other': 92, 'figure': 93, 'were': 94, '5': 95, 'kinase': 96, 'type': 97, 'data': 98, '7': 99, 'found': 100, '1997': 101, 'cell': 102, 'than': 103, 'mediated': 104, 'through': 105, 'activation': 106, '1999': 107, 'either': 108, 'ii': 109, 'i': 110, 's': 111, 'vivo': 112, 'atp': 113, 'our': 114, 'because': 115, 'required': 116, 'domains': 117, 'no': 118, 'effect': 119, 'studies': 120, 'all': 121, '1996': 122, 'specific': 123, 'direct': 124, 'suggest': 125, 'their': 126, 'would': 127, 'ability': 128, 'observed': 129, 'different': 130, 'presence': 131, 'd': 132, 'using': 133, 'promoter': 134, 'well': 135, 'likely': 136, 'peptide': 137, 'apc': 138, 'membrane': 139, 'thus': 140, 'p': 141, 'p300': 142, 'when': 143, 'mutant': 144, 'cytoplasmic': 145, 'cyclin': 146, 'assay': 147, 'o': 148, 'cdc42': 149, '6': 150, 'receptor': 151, '10': 152, 'although': 153, 'gtp': 154, 'factor': 155, 'fusion': 156, 'within': 157, 'factors': 158, 'whether': 159, 'similar': 160, '9': 161, '1995': 162, 'sp1': 163, 'transcriptional': 164, 'construct': 165, 'function': 166, 'show': 167, 'rac': 168, 'acid': 169, 'axin': 170, 'further': 171, 'reported': 172, 'did': 173, 'gsk': 174, 'could': 175, 'like': 176, 'experiments': 177, '8': 178, 'experimental': 179, 'might': 180, 'such': 181, 'target': 182, '14': 183, 'alpha': 184, 'high': 185, 'one': 186, 'pkc': 187, 'activated': 188, 'showed': 189, 'ca2': 190, 'more': 191, 'addition': 192, 'previously': 193, 'containing': 194, 'receptors': 195, 'sequences': 196, 'consistent': 197, 'suggesting': 198, 'absence': 199, 'box': 200, 'first': 201, 'ap': 202, 'expression': 203, 'specifically': 204, 'induced': 205, 'complexes': 206, 'detected': 207, 'r': 208, 'therefore': 209, 'into': 210, 'regions': 211, 'eif': 212, 'lane': 213, 'experiment': 214, 'interacts': 215, 'important': 216, 'î²': 217, 'role': 218, 'fragment': 219, 'lanes': 220, 'suggests': 221, 'if': 222, '3beta': 223, 'interactions': 224, '15': 225, 'wild': 226, 'mutation': 227, 'inhibition': 228, 'inhibits': 229, 'signaling': 230, '30': 231, 'tail': 232, '1994': 233, 'mrna': 234, 'regulation': 235, 'three': 236, 'manner': 237, 'h': 238, '11': 239, 'assays': 240, 'do': 241, 'gene': 242, 'see': 243, 'cdk2': 244, 'egf': 245, '12': 246, 'î±': 247, 'second': 248, 'molecules': 249, 'acids': 250, 'association': 251, '2001': 252, 'pre': 253, 'increase': 254, 'interact': 255, 'evidence': 256, 'tag': 257, 'most': 258, 'while': 259, 'pka': 260, '19': 261, 'since': 262, 'e1a': 263, 'inhibitory': 264, 'g': 265, 'specificity': 266, 'shift': 267, 'clathrin': 268, 'higher': 269, 'nuclear': 270, 'forms': 271, 'analysis': 272, 'motifs': 273, 'tcf': 274, 'used': 275, 'inhibit': 276, 'during': 277, 'full': 278, 'via': 279, 'src': 280, 'purified': 281, 'tbp': 282, '20': 283, 'subunit': 284, 'so': 285, '13': 286, 'demonstrate': 287, '26': 288, 'recombinant': 289, 'indicate': 290, 'sh3': 291, 'necessary': 292, 'growth': 293, 'p53': 294, 'fold': 295, 'fragments': 296, '25': 297, 'distinct': 298, 'residues': 299, 'repression': 300, 'strongly': 301, 'isoform': 302, 'human': 303, 'formation': 304, 'after': 305, 'length': 306, 'under': 307, 'profilin': 308, 'present': 309, 'known': 310, 'where': 311, 'cadherin': 312, 'reagent': 313, 'ras': 314, '27': 315, 'rh': 316, 'study': 317, '22': 318, 'control': 319, 'structure': 320, 'fact': 321, 'alone': 322, '1993': 323, 'conditions': 324, 'rho': 325, '21': 326, '2000': 327, '18': 328, '37': 329, 'component': 330, 'amount': 331, 'result': 332, 'together': 333, 'simultaneously': 334, 'hsp90': 335, 'demonstrated': 336, 'mechanism': 337, 'thereby': 338, 'several': 339, 'identified': 340, 'previous': 341, 'related': 342, 'cooh': 343, 'phosphorylated': 344, 'ad': 345, 'hox': 346, 'some': 347, 'determined': 348, 's2': 349, 'myosin': 350, 'efficiently': 351, 'bindin': 352, 'creb': 353, 'ph': 354, 'indicating': 355, 'increased': 356, 'activate': 357, 'contrast': 358, 'rhoa': 359, 'model': 360, 'ets': 361, 'promote': 362, 'exd': 363, 'tubulin': 364, 'occurs': 365, 'snrnp': 366, 'another': 367, 'changes': 368, 'shows': 369, 'even': 370, 'isolated': 371, 'able': 372, 'inhibited': 373, 'associated': 374, 'bi': 375, 'consensus': 376, 'interestingly': 377, 'nf': 378, 'similarly': 379, 'mobility': 380, 'number': 381, 'down': 382, 'same': 383, 'responsible': 384, 'heparin': 385, 'mediate': 386, 'repeats': 387, 'cam': 388, '0': 389, 'those': 390, 'yeast': 391, 'examined': 392, 'had': 393, 'jun': 394, 'mutations': 395, 'exclusive': 396, 'effects': 397, 'rac1': 398, 'th': 399, 'significantly': 400, 'involved': 401, 'co': 402, 'appears': 403, 'molecule': 404, 'conformational': 405, 'chromatin': 406, 'deletion': 407, 'core': 408, 'terminus': 409, 'any': 410, 'tfiib': 411, 'extracts': 412, '16': 413, 'pdz': 414, 'effector': 415, 'clearly': 416, 'regulated': 417, 'increases': 418, 'bin': 419, 'lin': 420, 'l': 421, '29': 422, 'independent': 423, 'support': 424, 'rich': 425, 'there': 426, 'despite': 427, 'calmodulin': 428, 'fascin': 429, 'tfiid': 430, 'u1': 431, 'shm': 432, 'stimulation': 433, 'state': 434, 'anti': 435, 'suggested': 436, 'they': 437, 'mutants': 438, 'interfere': 439, 'located': 440, 'determine': 441, 'moreover': 442, 'independently': 443, 'prevent': 444, 'here': 445, 'weakly': 446, 'allow': 447, 'genes': 448, 'example': 449, 'regulatory': 450, 'sp3': 451, 'part': 452, 'peptides': 453, 'putative': 454, 'concentrations': 455, 'ref': 456, 'orc': 457, 'protei': 458, 'il': 459, 'indicated': 460, 'then': 461, 'described': 462, 'mutually': 463, 'less': 464, 'differential': 465, '23': 466, 'analyses': 467, 'recruitment': 468, 'ctbp': 469, 'affected': 470, 'sh2': 471, 'hic': 472, 'response': 473, 'low': 474, 'k': 475, 'reduced': 476, 'enhances': 477, '100': 478, '42': 479, 'v': 480, 'm': 481, 'expressed': 482, 'rather': 483, 'revealed': 484, 'furthermore': 485, 'heterodimers': 486, 'heterodimer': 487, 'findings': 488, 'pathway': 489, 'hybrid': 490, 'selective': 491, 'upon': 492, 'induces': 493, 'promotes': 494, 'expected': 495, 'map': 496, 'respectively': 497, 'overexpression': 498, 'plasma': 499, 'armadillo': 500, 'apaf': 501, 'min': 502, 'gdp': 503, 'ha': 504, 'insulin': 505, 'tnc': 506, 'significant': 507, 'hsp70': 508, 'p21': 509, 'histone': 510, 'ca': 511, 'recent': 512, 'concentration': 513, 'pi': 514, 'pak': 515, 'least': 516, 'phorbol': 517, 'mammalian': 518, '1991': 519, 'nucleotide': 520, 'cdk4': 521, 'cannot': 522, 'report': 523, '5b': 524, 'early': 525, 'much': 526, 'conformation': 527, 'labeled': 528, 'emsa': 529, 'drosophila': 530, 'possible': 531, 'polymerase': 532, 'fkbp12': 533, 'dsh': 534, 'brain': 535, 'nm': 536, 'possibility': 537, 'indeed': 538, 'actrii': 539, 'coiled': 540, 'coil': 541, 'lack': 542, 'homology': 543, 'organelle': 544, 'e2f': 545, 'repeat': 546, 'including': 547, 'regulate': 548, 'dorsal': 549, 'closure': 550, 'conserved': 551, 'abl': 552, 'lower': 553, 'free': 554, 'collagen': 555, 'tnf': 556, 'confirming': 557, 'functional': 558, 'filament': 559, 'tightly': 560, '33': 561, 'surface': 562, 'app': 563, 'essential': 564, 'change': 565, 'signal': 566, 'active': 567, 'rgs': 568, '28': 569, 'w': 570, '6a': 571, 'block': 572, 'antibody': 573, 'proximal': 574, 'compared': 575, 'gbp': 576, 'functions': 577, 'y': 578, 'na': 579, 'calcium': 580, 'prevents': 581, 'far': 582, 'decreased': 583, 'unable': 584, 'antibodies': 585, 'rab3a': 586, 'promoters': 587, 'syntaxin': 588, 'synaptotagmin': 589, 'levels': 590, 'case': 591, 'ligand': 592, '55': 593, 'very': 594, 'paxillin': 595, 'various': 596, 'jnk': 597, 'following': 598, 'sufficient': 599, 'critical': 600, 'ligands': 601, '1992': 602, 'efficient': 603, 'indicates': 604, 'kd': 605, 'leading': 606, 'inr': 607, 'pkac': 608, 'performed': 609, 'axil': 610, '36': 611, 'induce': 612, 'dissociation': 613, 'displacement': 614, 'assembly': 615, 'splicing': 616, 'tagged': 617, 'downstream': 618, '50': 619, 'bp': 620, 'recruits': 621, '17': 622, 'many': 623, 'tnfî±': 624, 'finally': 625, 'proline': 626, 'talin': 627, 'tpr': 628, 'itself': 629, 'preferentially': 630, 'defined': 631, 'failed': 632, 'cytoskeleton': 633, 'shc': 634, 'wnt': 635, 'exchange': 636, '54': 637, '31': 638, 'yet': 639, 'mouse': 640, '2002': 641, 'adducin': 642, 'conclude': 643, 'four': 644, '52': 645, 'competition': 646, 'resulting': 647, 'each': 648, 'iii': 649, 'omoter': 650, 'j': 651, 'proposed': 652, 'relative': 653, 'abeta': 654, 'adaptor': 655, 'isoforms': 656, 'observations': 657, 'tm': 658, 'gel': 659, 'import': 660, 'recruit': 661, 'fluorescence': 662, 'ikeda': 663, 'residue': 664, 'p130': 665, 'display': 666, 'ap2': 667, '53': 668, 'raf': 669, 'inactive': 670, 'ral': 671, 'c1': 672, 'above': 673, 'based': 674, 'adp': 675, 'ps1': 676, 'grb2': 677, 'filaments': 678, 'bindi': 679, 'membranes': 680, 'hiv': 681, 'perhaps': 682, 'detectable': 683, 'strong': 684, 'now': 685, 'treatment': 686, 'lacks': 687, 'tgf': 688, 'showing': 689, 'components': 690, 'properties': 691, 'fak': 692, 'acetylation': 693, 'comparison': 694, 'drug': 695, 'fk506': 696, 'beads': 697, 'amounts': 698, 'atpase': 699, 'sec5': 700, 'still': 701, 'exon': 702, 'myc': 703, 'cos': 704, 'ratio': 705, 'single': 706, 'reviewed': 707, 'activin': 708, 'arrestin': 709, 'filamin': 710, '41': 711, 'analyzed': 712, 'dominant': 713, 'pbx': 714, 'seems': 715, 'stimulated': 716, 'fos': 717, 'ch3': 718, 'arp1': 719, 'mrnas': 720, 'p27': 721, 'tfiia': 722, 'structural': 723, 'cre': 724, 'enhancer': 725, 'ternary': 726, 'activities': 727, 'erm': 728, 'stable': 729, 'arrow': 730, 'ip4': 731, 'confirmed': 732, 'act': 733, 'taken': 734, 'elements': 735, 'compare': 736, 'biochemical': 737, 'stnb': 738, 'key': 739, '70': 740, 'release': 741, 'raichu': 742, 'gal': 743, 'ese': 744, 'types': 745, 'inhibitors': 746, 'due': 747, 'replication': 748, 'dynamic': 749, '24': 750, 'hydrolysis': 751, 'g1': 752, 'pcg': 753, 'tyrosine': 754, 'probably': 755, 'along': 756, 'pulled': 757, 'translation': 758, 'potential': 759, 'dm': 760, 'di': 761, 'finding': 762, 'tata': 763, 'gal4': 764, 'immunoprecipitation': 765, '35': 766, 'mutagenesis': 767, 'cofilin': 768, 'negative': 769, 'recognize': 770, 'large': 771, 'rate': 772, 'versus': 773, 'stimulates': 774, '6b': 775, 'according': 776, 'pro': 777, 'induction': 778, 'atenin': 779, 'caused': 780, 'greater': 781, 'rheb': 782, 'fa': 783, 'irs': 784, 'competes': 785, 'measurements': 786, 'lobe': 787, 'sensitive': 788, 'cooperative': 789, 'initiation': 790, 'tgat': 791, 'common': 792, '4b': 793, 'iso4f': 794, 'pabp': 795, 'eif4e': 796, 'myod': 797, 'forming': 798, 'mtor': 799, 'turn': 800, 'gc': 801, 'carboxy': 802, 'serum': 803, 'little': 804, 'muscle': 805, 'actinin': 806, 'though': 807, 'infection': 808, 'oligonucleotide': 809, 'boun': 810, 'cd44': 811, 'blocked': 812, 'eps15': 813, 'lrp': 814, 'element': 815, '1a': 816, 'play': 817, 'class': 818, 'rab': 819, 'explain': 820, 'laminin': 821, 'blocks': 822, 'gtpâ\\x80\\x90bound': 823, 'ubiquitin': 824, 'motility': 825, 'cbl': 826, 'î³': 827, 'importin': 828, 'manser': 829, 'ester': 830, 'prb': 831, 'dnase': 832, '1beta': 833, 'signals': 834, 'provide': 835, 'observation': 836, 'extract': 837, 'kinases': 838, 'complexed': 839, 'ser': 840, 'p2': 841, 'propose': 842, 'requires': 843, 'lost': 844, 'enhanced': 845, 'capable': 846, 'inhibiting': 847, 'figs': 848, 'longer': 849, 'u2': 850, 'latter': 851, 'overlap': 852, 'l1': 853, 'substitution': 854, 'table': 855, 'mainly': 856, 'gr': 857, 'find': 858, 'tni96': 859, 'extension': 860, 'basis': 861, 'affinities': 862, 'lacking': 863, 'dimer': 864, 'b1': 865, 'caldesmon': 866, 'recently': 867, 'mutated': 868, 'equilibrium': 869, 'generally': 870, 'starved': 871, 'p50': 872, 'carboxyl': 873, 'accessible': 874, 'cd43': 875, 'native': 876, 'contacts': 877, '4a': 878, '2d': 879, 'behrens': 880, 'kishida': 881, 'li': 882, 'alanine': 883, 'cleavage': 884, '32': 885, 'neither': 886, '43': 887, 'cyfip1': 888, 'abolished': 889, 'designated': 890, 'exhibit': 891, 'equivalent': 892, 'fo': 893, 'interacting': 894, 'lim': 895, 'nd': 896, 'electrophoretic': 897, 'kinesin': 898, 'thought': 899, 'dvl': 900, 'arg': 901, 'pu': 902, 'expressing': 903, 'helix': 904, '34': 905, 'hela': 906, 'partial': 907, '39': 908, 'aa': 909, 'ta': 910, 'epidermal': 911, 'imply': 912, 'causes': 913, 'ds': 914, 'enhance': 915, 'investigate': 916, 'time': 917, 'erk2': 918, 'splice': 919, 'positive': 920, '40': 921, '2a': 922, 'tested': 923, 'xenopus': 924, 'weak': 925, 'bo': 926, 'ag': 927, '3â\\x80²': 928, 'test': 929, 'per': 930, 'vasp': 931, 'constants': 932, 'endogenous': 933, 'hence': 934, 'novel': 935, 'third': 936, 'western': 937, 'clones': 938, 'abrogated': 939, 'competitive': 940, 'end': 941, 'normal': 942, 'wi': 943, 'corresponding': 944, 'differ': 945, 'pull': 946, 'unaffected': 947, 'juxta': 948, 'pnt': 949, '4f': 950, 'x': 951, 'c2b': 952, 'mediates': 953, 'mg2': 954, 'gtpases': 955, 'c2a': 956, 'nor': 957, 'evangelista': 958, 'gcn2': 959, 'p120': 960, 'process': 961, 'half': 962, 'associate': 963, 'approximately': 964, 'ena': 965, 'incubated': 966, 'them': 967, 'compete': 968, 'cys': 969, 'reduce': 970, 'group': 971, 'vinculin': 972, 'require': 973, 'head': 974, 'reduction': 975, 'xgsk': 976, 'spectrin': 977, 'â±': 978, 'substrate': 979, 'footprinting': 980, 'outside': 981, 'helical': 982, 'nck': 983, 'hmg': 984, 'soluble': 985, 'antagonists': 986, 'origin': 987, 'u7': 988, 'transition': 989, 'pres': 990, 'cellular': 991, 'supported': 992, 'repress': 993, 'dclk': 994, 'cyc': 995, 'position': 996, 'cdk6': 997, 'stabilize': 998, 'calcineurin': 999, 'rpd3': 1000, 'idea': 1001, 'similarity': 1002, 'p65': 1003, 'combination': 1004, 'maguks': 1005, 'decrease': 1006, 'self': 1007, 'segment': 1008, 'ubiquitination': 1009, 'cofactor': 1010, 'aggregation': 1011, 'snf': 1012, 't1': 1013, 'integrin': 1014, 'include': 1015, 'phosphatase': 1016, 'proteasome': 1017, 'preventing': 1018, 'coupled': 1019, 'subsequent': 1020, 'burridge': 1021, 'rala': 1022, '46': 1023, 'signified': 1024, 'tumor': 1025, 'alters': 1026, 'stage': 1027, 'zn': 1028, 'possibly': 1029, 'instead': 1030, 'neutralization': 1031, 'oligomerization': 1032, 'intracellular': 1033, 'crystal': 1034, 'examine': 1035, 'iib': 1036, 'glutathione': 1037, 'interpretation': 1038, 'rhikk': 1039, 'sakanaka': 1040, 'should': 1041, 'affect': 1042, 'kip1': 1043, 'acts': 1044, 'dynamin': 1045, 'contained': 1046, 'clear': 1047, 'work': 1048, 'datp': 1049, 'mum': 1050, 'potent': 1051, 'right': 1052, 'exhibits': 1053, 'efficiency': 1054, 'apoe': 1055, 'directed': 1056, 'erk': 1057, 'hpc2': 1058, 'mll': 1059, '77': 1060, 'ubc9': 1061, 'kb': 1062, 'appear': 1063, 'note': 1064, 'mper1': 1065, 'eif4g': 1066, 'disrupt': 1067, 'rapamycin': 1068, 'loop': 1069, 'must': 1070, 'secretion': 1071, 'effectors': 1072, 'next': 1073, 'p16': 1074, 'contains': 1075, 'cat': 1076, 'pr': 1077, 'targets': 1078, 'positively': 1079, 'charged': 1080, 'prote': 1081, 'retained': 1082, 'syntaxins': 1083, 'species': 1084, 'pair': 1085, 'discriminate': 1086, 'cooperatively': 1087, 'hypothesis': 1088, 'correlate': 1089, 'gin4': 1090, 'q2': 1091, 'î¼m': 1092, 'he': 1093, 'molecular': 1094, 'aip': 1095, 'members': 1096, 'gsk3': 1097, 'perlecan': 1098, 'smad1': 1099, 'probe': 1100, 'among': 1101, 'analogous': 1102, 'repressor': 1103, 'imamura': 1104, 'ci': 1105, 'established': 1106, 'bridge': 1107, '56': 1108, 'point': 1109, 'impaired': 1110, 'six': 1111, 'cdk9': 1112, 'characterized': 1113, 'inad': 1114, 'depending': 1115, 'lysine': 1116, 'pocket': 1117, 'panels': 1118, 'pip2': 1119, 'regardless': 1120, 'camp': 1121, 'pkg': 1122, 'channels': 1123, 'homodimer': 1124, 'kda': 1125, 'explanation': 1126, 'fused': 1127, 'loss': 1128, 'sap97': 1129, 'sap102': 1130, 'pyk2': 1131, 'makes': 1132, 'procaspase': 1133, 'gk': 1134, 'psd': 1135, 'citron': 1136, 'facilitates': 1137, 'rb': 1138, 'considered': 1139, '3h': 1140, 'highly': 1141, 'contain': 1142, 'slightly': 1143, 'presumably': 1144, 'distal': 1145, 'facilitate': 1146, 'identify': 1147, 'mol': 1148, 'af': 1149, 'preferably': 1150, 'charge': 1151, 'system': 1152, 'nucleus': 1153, 'unpublished': 1154, 'smad': 1155, 'catalytic': 1156, 'poly': 1157, 'smad3': 1158, '4e': 1159, 'directl': 1160, 'place': 1161, 'u2af35': 1162, 'characteristic': 1163, 'd1': 1164, 'others': 1165, 'action': 1166, 'strength': 1167, 'dynactin': 1168, 'adhesion': 1169, 'over': 1170, 'loaded': 1171, '2f': 1172, 'tni': 1173, 'significance': 1174, 'migration': 1175, 'selectively': 1176, 'excess': 1177, 'ptc': 1178, 'indirect': 1179, 'enzyme': 1180, 'sumo': 1181, 'sp4': 1182, 'm9': 1183, 'transportin': 1184, 'normally': 1185, 'substrates': 1186, 'kinetics': 1187, 'ckié\\x9b': 1188, 'taking': 1189, 'eif2': 1190, 'cap': 1191, 'polypeptides': 1192, 'ng': 1193, 's1': 1194, 'before': 1195, 'dix': 1196, 'disruption': 1197, 'vesicle': 1198, 'originally': 1199, 'slight': 1200, 'pkn': 1201, 'redundant': 1202, 'constitutively': 1203, 'ab': 1204, 'boxes': 1205, 'stability': 1206, 'level': 1207, 'ein': 1208, 'domai': 1209, 'serine': 1210, 'below': 1211, 'trna': 1212, '48': 1213, 'order': 1214, 'additional': 1215, 'fluorescent': 1216, 'poe': 1217, 'icam': 1218, '250con': 1219, 'characterization': 1220, 'requirement': 1221, 'new': 1222, 'general': 1223, 'crib': 1224, 'embryos': 1225, 'released': 1226, 'promoting': 1227, 'bottom': 1228, 'c2': 1229, 'p107': 1230, 'weaker': 1231, 'p38': 1232, 'dsx': 1233, 'tissue': 1234, 'individual': 1235, 'chromatography': 1236, 'lysate': 1237, 'reveals': 1238, 'p42': 1239, 'eliminates': 1240, 'genome': 1241, 'mcm': 1242, 'near': 1243, 'reagents': 1244, 'sap90': 1245, 'functionally': 1246, 'phosphorylate': 1247, 'extended': 1248, 'noted': 1249, 'cdc2': 1250, 'lps': 1251, 'produced': 1252, 'su': 1253, 'repressors': 1254, 'portion': 1255, \"5'\": 1256, 'stress': 1257, 'dimers': 1258, 'cyclins': 1259, 'p27kip1': 1260, 'tim': 1261, 'disrupts': 1262, 'crk': 1263, 'rods': 1264, 'unidentified': 1265, 'step': 1266, 'b7': 1267, 'double': 1268, 'reciprocal': 1269, 'conservation': 1270, 'transforming': 1271, 'prigent': 1272, 'lemoine': 1273, 'earp': 1274, 'truncated': 1275, 'chemokine': 1276, 'ss': 1277, 'wt': 1278, 'his4': 1279, 'oter': 1280, 'ac': 1281, '73': 1282, '58': 1283, 'transactivation': 1284, 'psd93': 1285, 'chapsyn': 1286, '110': 1287, 'pm': 1288, 'phospholipid': 1289, 'u2af': 1290, 'aside': 1291, 'carcamo': 1292, 'weis': 1293, 'reinberg': 1294, 'cytochrome': 1295, 'sxl': 1296, '95': 1297, 'quantities': 1298, 'reaction': 1299, '7c': 1300, 'equal': 1301, 'scallop': 1302, 'method': 1303, 'developed': 1304, 'inactivated': 1305, 'actomyosin': 1306, 'trans': 1307, '78': 1308, 'polakis': 1309, 'gsk3beta': 1310, 'difference': 1311, 'complete': 1312, 'rat': 1313, 'nad': 1314, 'spliceosome': 1315, 'recognition': 1316, 'epitope': 1317, 'eq': 1318, 'earlier': 1319, 'egr': 1320, '116': 1321, 'cdc6p': 1322, 'strictly': 1323, 'pix': 1324, 'trigger': 1325, 'srf': 1326, 'maximal': 1327, 'ccaat': 1328, 'pathways': 1329, 'imfa': 1330, 'polymerized': 1331, 'focal': 1332, 'apart': 1333, 'py': 1334, 'phase': 1335, 'locations': 1336, 'titration': 1337, 'ikappabalpha': 1338, 'small': 1339, 'demonstrating': 1340, 'waf1': 1341, 'cip1': 1342, 'upstream': 1343, 'fraction': 1344, 'mycer': 1345, 'ermad': 1346, 'e2': 1347, 'view': 1348, 'daam1': 1349, 'hip12': 1350, 'cbf': 1351, 'hisrs': 1352, 'remains': 1353, 'why': 1354, 'gtpase': 1355, '75': 1356, 'brm': 1357, 'crosby': 1358, 'bap60': 1359, 'dslo': 1360, 'modulate': 1361, 'tnfr1': 1362, 'tnfr2': 1363, '33p': 1364, 'represents': 1365, 'mbp': 1366, 'obtained': 1367, 'concluded': 1368, 'plays': 1369, 'bacterially': 1370, 'know': 1371, 'p150': 1372, 'once': 1373, 'consequence': 1374, 'productive': 1375, '61': 1376, 'sr': 1377, 'competitively': 1378, 'ga': 1379, 'conjunction': 1380, 'entry': 1381, 'promoted': 1382, 'values': 1383, 'brct': 1384, 'about': 1385, 'syt': 1386, 'stna': 1387, 'kelly': 1388, 'preclude': 1389, 'stabilized': 1390, 'importantly': 1391, 'panel': 1392, '2b': 1393, 'fgf': 1394, 'der': 1395, 'newer': 1396, 'probes': 1397, 'consist': 1398, 'green': 1399, 'caax': 1400, 'ki': 1401, 'ctin': 1402, 'fkh': 1403, 'abd': 1404, 'kappab': 1405, '71': 1406, '60': 1407, 'activator': 1408, 'fkbp52': 1409, 'hypothesized': 1410, 'ahr': 1411, 'vesicles': 1412, 'locked': 1413, 'brondyk': 1414, 'wildâ\\x80\\x90type': 1415, 'park': 1416, 'treated': 1417, 'hd': 1418, 'ankyrin': 1419, 'how': 1420, 'adjacent': 1421, 'mkk7': 1422, 'lines': 1423, 'explained': 1424, 'eif4f': 1425, 'h4': 1426, 'h2b': 1427, 'five': 1428, 'activating': 1429, 'saturating': 1430, 'consequences': 1431, 'heads': 1432, 'constraints': 1433, 'adenylated': 1434, 'immunoprecipitated': 1435, 'p85î±': 1436, 'prominent': 1437, 'ptb': 1438, 'typically': 1439, 'esters': 1440, 'distinguish': 1441, 'assuming': 1442, 'munc13s': 1443, 'chains': 1444, 'klc': 1445, 'psd95': 1446, 'portions': 1447, 'fn': 1448, 'schlaepfer': 1449, 'cortactin': 1450, 'acquired': 1451, 'pcaf': 1452, 'pcna': 1453, 'cleaved': 1454, 'monomeric': 1455, 'buffer': 1456, 'hip1': 1457, 'gm130': 1458, 'defect': 1459, 'plakoglobin': 1460, 'conversion': 1461, 'abrogates': 1462, 'involving': 1463, 'eralpha': 1464, 'arg688': 1465, '1182': 1466, 'git2': 1467, 'neuronal': 1468, 'effectively': 1469, 'patterns': 1470, 'bmp': 1471, 'believed': 1472, 'mostly': 1473, 'memory': 1474, 'reporter': 1475, 'titin': 1476, 'constructs': 1477, 'cip': 1478, 'affects': 1479, 'jip1b': 1480, 'already': 1481, 'linking': 1482, 'clusters': 1483, 'stages': 1484, 'endocytosis': 1485, 'suppression': 1486, 'models': 1487, 'bd': 1488, 'material': 1489, 'amphiregulin': 1490, 'hb': 1491, 'cellulin': 1492, 'agrees': 1493, 'â\\x80\\x8b': 1494, 'nature': 1495, 'km': 1496, 'pmca4b': 1497, 'baker': 1498, 'tfiif': 1499, 'tafs': 1500, 'ily': 1501, 'snrnps': 1502, 'dissociate': 1503, 'erba': 1504, 'instance': 1505, 'exhibited': 1506, 'uptake': 1507, 'indirectly': 1508, 'attempts': 1509, 'unsuccessful': 1510, 'involves': 1511, 'alternative': 1512, 'tenin': 1513, 'nadh': 1514, 'steady': 1515, 'kinetic': 1516, '44': 1517, 'rubinfeld': 1518, 'epiregulin': 1519, 'subunits': 1520, 'tau': 1521, 'gray': 1522, 'antigen': 1523, 'transduce': 1524, 'tropomyosin': 1525, 'fails': 1526, 'detailed': 1527, 'overlapping': 1528, '148': 1529, '38': 1530, 'demonstration': 1531, '2c': 1532, 'substitutions': 1533, 'multiple': 1534, 'remained': 1535, 'localizes': 1536, 'baf': 1537, 'supports': 1538, 'studied': 1539, 'suppressor': 1540, '45': 1541, 'tract': 1542, '5â\\x80²': 1543, 'transferase': 1544, 'interpreted': 1545, 'diii': 1546, 'extent': 1547, 'nucleosome': 1548, 'basic': 1549, 'multiprotein': 1550, 'hart': 1551, 'degradation': 1552, 'bp1': 1553, '62': 1554, 'coimmunoprecipitation': 1555, 'caspase': 1556, 'nh2': 1557, 'inhibitor': 1558, 'catalyzed': 1559, 'extensive': 1560, 'assessed': 1561, 'secondary': 1562, 'major': 1563, 'spanning': 1564, '74': 1565, 'abolish': 1566, 'corepressor': 1567, 'composition': 1568, 'reports': 1569, 'removal': 1570, 'bap47': 1571, 'bap45': 1572, 'activators': 1573, 'gp160': 1574, 'separate': 1575, 'vegfr': 1576, 'lf': 1577, 'formed': 1578, 'dependence': 1579, 'without': 1580, 'crucial': 1581, 'dfd': 1582, 'initial': 1583, 'sufficiently': 1584, 'lead': 1585, 'probing': 1586, 'wheat': 1587, 'iso4g': 1588, 'iso4e': 1589, 'otein': 1590, 's4': 1591, 'mature': 1592, 'gsk3î²': 1593, 'hedgepeth': 1594, 'internal': 1595, 'homodimerization': 1596, 'hsu': 1597, 'smalley': 1598, 'mao': 1599, 'current': 1600, 'locus': 1601, 'ces': 1602, 'polyacrylamide': 1603, 'glued': 1604, 'remain': 1605, 'insensitive': 1606, 'mutational': 1607, 'rac2': 1608, 'make': 1609, 'bap111': 1610, '284': 1611, 'cytoplasm': 1612, '51': 1613, 'notion': 1614, '72': 1615, 'lef': 1616, 'nt': 1617, 'measured': 1618, 'translocation': 1619, 'interesting': 1620, '250': 1621, 'p140sra': 1622, 'pop': 1623, 'presents': 1624, '94': 1625, 'similarities': 1626, 'se': 1627, 'linked': 1628, 'snare': 1629, 'assembled': 1630, 'temperature': 1631, 'stabilizes': 1632, 'provided': 1633, 'ena8': 1634, 'â\\x86\\x92': 1635, 'chickadee': 1636, 'transduction': 1637, 'homologs': 1638, 'lap': 1639, 'limp': 1640, 'rar': 1641, 'ctd': 1642, 'pho': 1643, 'shs1': 1644, 'pol': 1645, 'synthesized': 1646, '12s': 1647, '440': 1648, 'pp5': 1649, 'tnt': 1650, 'gdpâ\\x80\\x90': 1651, 'preinitiation': 1652, 'unlike': 1653, '3c': 1654, 'account': 1655, 'tomosyn': 1656, 'ey': 1657, 'strains': 1658, 'activates': 1659, 'saf': 1660, 'îºb': 1661, 'modification': 1662, 'almost': 1663, 'prefoldin': 1664, 'h2a': 1665, 'extracellular': 1666, '1998b': 1667, 'involvement': 1668, 'u6': 1669, 'dose': 1670, 'nls': 1671, 'allowing': 1672, 'being': 1673, 'respect': 1674, 'nf1': 1675, 'walker': 1676, 'integrins': 1677, 'module': 1678, 'structures': 1679, 'rak': 1680, 'antigens': 1681, 'cancer': 1682, 'automatically': 1683, 'hth': 1684, 'csk': 1685, 'consistently': 1686, 'notable': 1687, 'hbp1': 1688, 'repressed': 1689, 'positions': 1690, 'calphostin': 1691, '4î±': 1692, 'uncharged': 1693, 'ar1': 1694, 'intriguing': 1695, 'partners': 1696, 'gelsolin': 1697, 'transfected': 1698, 'mts': 1699, 'convergent': 1700, 'reporting': 1701, 'fap52': 1702, '3a': 1703, 'bisindolylmaleimide': 1704, 'resulted': 1705, 'regulates': 1706, 'rem': 1707, 'taf': 1708, 'bcr': 1709, 'iv': 1710, 'semaphorins': 1711, 'lz': 1712, 'nitrocellulose': 1713, 'au': 1714, 'polymerization': 1715, 'cdc20': 1716, 'lipid': 1717, 'pmca2b': 1718, 'res': 1719, 'mily': 1720, 'synthesis': 1721, 'followed': 1722, 'adenovirus': 1723, 'burbelo': 1724, 'ion': 1725, 'tryptophan': 1726, 'apparent': 1727, 'altered': 1728, 'competitor': 1729, 'particular': 1730, 'bruno': 1731, 'xl': 1732, 'bmp7': 1733, 'mebm2t1': 1734, 'stabilizing': 1735, 'occur': 1736, 'subsequently': 1737, 'pp90rsk': 1738, 'fu': 1739, 'î¼b': 1740, 'crt': 1741, 'paralog': 1742, 'cdc6': 1743, 'cdk': 1744, 'bmps': 1745, '300': 1746, 'slbp': 1747, 'uv': 1748, 'sever': 1749, 'dimerization': 1750, 'pc': 1751, 'transitions': 1752, 'establishment': 1753, 'trxg': 1754, 'generated': 1755, 'ink': 1756, 'immature': 1757, 'replacement': 1758, 'open': 1759, 'phospholipase': 1760, 'late': 1761, 'unphosphorylated': 1762, 'cnmp': 1763, 'cnrasgef': 1764, 'epac': 1765, 'supplementary': 1766, '4d': 1767, 'gro': 1768, 'productively': 1769, 'basal': 1770, 'oxidative': 1771, 'comprising': 1772, 's2â\\x80\\x933': 1773, 'limited': 1774, 'depolymerization': 1775, \"3'\": 1776, 'referred': 1777, 'pd': 1778, 'exposed': 1779, 'dtcf': 1780, 'band': 1781, 'wd': 1782, 'allows': 1783, '193': 1784, 'stoichiometric': 1785, 'ip3': 1786, 'mixed': 1787, 'hr': 1788, 'pk': 1789, 'purify': 1790, 'mixture': 1791, 'cooke': 1792, 'franks': 1793, 'procedure': 1794, 'acto': 1795, 'nfatp': 1796, 'montminy': 1797, 'cortical': 1798, 'will': 1799, 'mechanisms': 1800, 'depend': 1801, 'precise': 1802, 'polyproline': 1803, \"''\": 1804, 'nadp': 1805, \"'\": 1806, 'spf45': 1807, 'tsc2': 1808, 'ets1': 1809, 'e74': 1810, 'sm': 1811, 'frontal': 1812, 'braak': 1813, 'adapter': 1814, 'reference': 1815, 'mapping': 1816, 'linkage': 1817, 'p95pkl': 1818, 'arg175': 1819, 'enabled': 1820, 'exposure': 1821, 'catalytically': 1822, 'molar': 1823, 'hsc70': 1824, 'ib': 1825, 'actri': 1826, 'joining': 1827, 'phosphorylates': 1828, 'lamin': 1829, 'postsynaptic': 1830, 'laboratories': 1831, 'cytoskeletal': 1832, 'p19': 1833, 'ilin': 1834, 'flow': 1835, 'consequently': 1836, 'itoh': 1837, 'hypophosphorylated': 1838, 'hyperphosphorylation': 1839, '64': 1840, 'seen': 1841, 'tin': 1842, 'tafii250': 1843, 'galactose': 1844, 'examples': 1845, 'groucho': 1846, 'constant': 1847, 'vice': 1848, 'versa': 1849, 'des': 1850, 'rapidly': 1851, 'top': 1852, 'notch': 1853, 'exclusively': 1854, 'reynolds': 1855, 'comparable': 1856, 'awaits': 1857, 'presented': 1858, 'tissues': 1859, 'proliferation': 1860, 'elf1': 1861, 'incubation': 1862, 'help': 1863, 'apparently': 1864, 'overexpressed': 1865, 'bmi': 1866, 'hdac1': 1867, 'hdac2': 1868, 'pp1': 1869, 'smo': 1870, 'cdc37': 1871, 'homolog': 1872, 'gain': 1873, 'access': 1874, '76': 1875, 'unlikely': 1876, 'stimulate': 1877, 'channel': 1878, '90': 1879, 'prefers': 1880, 'tnfî²': 1881, 'exchanged': 1882, 'faster': 1883, 'stratagene': 1884, 'la': 1885, 'nfat': 1886, 'meis1': 1887, 'physiological': 1888, 'nerve': 1889, 'groel': 1890, 'k12': 1891, 'suppresses': 1892, 'mm': 1893, '00': 1894, 'coordinates': 1895, 'indispensable': 1896, 'integral': 1897, 'microvilli': 1898, 'ppe': 1899, 'hand': 1900, 'homeodomain': 1901, 'eh': 1902, 'interacted': 1903, 'ml': 1904, 'dramatic': 1905, 'dead': 1906, 'closed': 1907, 'become': 1908, 'mu2': 1909, 'death': 1910, 'nes': 1911, 'nondenaturing': 1912, 'transport': 1913, 'hmms2': 1914, 'stably': 1915, 'heteromeric': 1916, 'primitive': 1917, 'diversification': 1918, 'vertebrates': 1919, 'rc': 1920, 'cerevisiae': 1921, '1990': 1922, 'translated': 1923, 'exp': 1924, 'agarose': 1925, 'sterol': 1926, 'carefully': 1927, 'inding': 1928, 'sre': 1929, 'trp22': 1930, 'ala': 1931, 'phe': 1932, 'occupation': 1933, 'alternating': 1934, 'cycles': 1935, 'heterocomplexes': 1936, 'ding': 1937, 'correlated': 1938, 'embryogenesis': 1939, 'hairy': 1940, 'evaluate': 1941, 'solution': 1942, 'visualized': 1943, 'mle': 1944, 'qm': 1945, 'newly': 1946, 'sd': 1947, 'ctip': 1948, 'ap50': 1949, 'personal': 1950, 'communication': 1951, 'stimson': 1952, '195': 1953, 'm2': 1954, 'wek': 1955, 'particle': 1956, 'accurate': 1957, 'steric': 1958, 'interference': 1959, 'removes': 1960, 'arg382': 1961, 'polar': 1962, 'r382n': 1963, 'intermediate': 1964, 'chain': 1965, 'dynein': 1966, 'base': 1967, 'syti': 1968, 'emsas': 1969, 'lysosomal': 1970, '1997b': 1971, 'represses': 1972, 'range': 1973, 'senescent': 1974, 'designed': 1975, 'u2af65': 1976, 'kim': 1977, 'menin': 1978, 'lacz': 1979, 'extradenticle': 1980, 'ct': 1981, 'crs1': 1982, '47': 1983, 'concurrent': 1984, 'myb': 1985, 'fibronectin': 1986, 'pointing': 1987, 'synaptic': 1988, 'releases': 1989, '160': 1990, 'fuses': 1991, 'dbd': 1992, 'termed': 1993, '49': 1994, 'bou': 1995, 'p120ctn': 1996, 'kix': 1997, 'eliminated': 1998, 'ectopic': 1999, 'provides': 2000, 'iap': 2001, 'dir': 2002, 'wit': 2003, 'cyfip2': 2004, 'orientation': 2005, 'afadin': 2006, 'ponsin': 2007, 'zhang': 2008, 'recruited': 2009, 'cyt': 2010, 'completely': 2011, 'added': 2012, 'relatively': 2013, 'histones': 2014, 'h3': 2015, 'u4': 2016, 'mapk': 2017, 'rim2': 2018, 'cotransfection': 2019, 'subfamilies': 2020, 'bases': 2021, 'displace': 2022, 'precipitation': 2023, 'sir': 2024, 'facilitation': 2025, 'cas': 2026, 'motor': 2027, 'partly': 2028, 'overrides': 2029, 'forcing': 2030, 'come': 2031, 'relieving': 2032, 'imposed': 2033, 'necks': 2034, 'thormã¤hlen': 2035, 'transformed': 2036, 'gp120': 2037, 'ccr8': 2038, 'marcks': 2039, 'primary': 2040, 'cycle': 2041, '131': 2042, 'fashion': 2043, 'immobilized': 2044, 'poorly': 2045, 'ccs': 2046, 'p25': 2047, 'tails': 2048, 'zic2': 2049, '265': 2050, 'hsp47': 2051, 'ile174': 2052, 'val177': 2053, 'supportive': 2054, '1â\\x80\\x93191': 2055, 'i174a': 2056, 'v177a': 2057, 'plasmids': 2058, 'encoding': 2059, '864': 2060, 'pacsin': 2061, '32p': 2062, 'susceptibility': 2063, 'events': 2064, 'tethered': 2065, 'chinese': 2066, 'hamster': 2067, 'ovary': 2068, 'segregation': 2069, 'diffuse': 2070, 'distribution': 2071, 'accumulated': 2072, 'patches': 2073, 'kinectin': 2074, 'rocks': 2075, 'apoptosis': 2076, 'zip': 2077, 'use': 2078, 'partially': 2079, 'plexins': 2080, 'pros': 2081, 'cultured': 2082, 'mix': 2083, 'times': 2084, 'p115': 2085, 'unfolds': 2086, 'exposes': 2087, 'gilmore': 2088, 'huttelmaier': 2089, 'groups': 2090, 'bot': 2091, 'gcn4': 2092, 'moter': 2093, 'rap1': 2094, 'lrp5': 2095, 'pci': 2096, 'gamma': 2097, 'cdc42p': 2098, 'rho1p': 2099, 'kohno': 2100, 'vip1r': 2101, 'vip': 2102, 'pacap': 2103, 'minichromosome': 2104, 'tre': 2105, 'preferences': 2106, 'morphology': 2107, 'cd8î±î²': 2108, 'promotors': 2109, 'bokoch': 2110, 'galisteo': 2111, 'interactive': 2112, 'guanine': 2113, 'q81l': 2114, 'sspi': 2115, 'conditional': 2116, 'pattern': 2117, 'bre': 2118, 'contact': 2119, 'reducing': 2120, 'pi3k': 2121, 'p35': 2122, 'sapk': 2123, 'blot': 2124, 'csa': 2125, 'hrs': 2126, 'famil': 2127, 'greatly': 2128, 'undergo': 2129, 'septin': 2130, 'define': 2131, 'damer': 2132, 'creutz': 2133, 'processing': 2134, 'kv1': 2135, 'mefs': 2136, 'hcf': 2137, 'diffley': 2138, 'variety': 2139, 'linkages': 2140, 'removed': 2141, 'saturates': 2142, 'density': 2143, 'pki': 2144, 'shen': 2145, 'extremely': 2146, 'understand': 2147, 'dodeca': 2148, 'satellite': 2149, 'strand': 2150, 'stewart': 2151, '338': 2152, 'â\\x80\\x8bfig': 2153, 'degree': 2154, 'î²pix': 2155, 'overall': 2156, 'fas': 2157, 'lef1': 2158, 'cc': 2159, 'hscdc6': 2160, 'review': 2161, 'cho': 2162, 'tp': 2163, 'dper': 2164, 'barbed': 2165, 'ends': 2166, 'schluter': 2167, 'cleft': 2168, 'primarily': 2169, 'lee': 2170, 'strands': 2171, 'backbone': 2172, 'riz': 2173, 'riz1': 2174, 'asp': 2175, 'nta': 2176, 'delivered': 2177, 'methyllysine': 2178, 'hydrophobic': 2179, 'jacobs': 2180, 'khorasanizadeh': 2181, 'com': 2182, 'gefs': 2183, 'regi': 2184, 'cyclic': 2185, 'gated': 2186, 'chen': 2187, 'ccr4': 2188, 'maintained': 2189, 'undefined': 2190, 'reasonably': 2191, 'atti': 2192, 'attc': 2193, 'inti1': 2194, 'exist': 2195, 'determines': 2196, 'reactions': 2197, 'â\\x80\\x8b7a': 2198, 'â\\x80\\x98gal4â\\x80\\x99': 2199, 'artificial': 2200, 'bears': 2201, 'unrelated': 2202, 'confirm': 2203, 'triggered': 2204, 'yan': 2205, 'mae': 2206, 'db': 2207, 'dre': 2208, 'rest': 2209, 'antagonizes': 2210, '124': 2211, '269': 2212, 'occurred': 2213, 'acting': 2214, 'exons': 2215, '500': 2216, 'catenins': 2217, 'cy': 2218, 'rgd': 2219, 'î²3': 2220, 'watanabe': 2221, 'rhotekin': 2222, 'mug': 2223, 'tr': 2224, 'moderately': 2225, 'mixtures': 2226, 'regs': 2227, 'heterooligomers': 2228, 'tubules': 2229, 'developing': 2230, 'r4': 2231, 'fmi': 2232, 'diego': 2233, 'mitogen': 2234, 'chrivia': 2235, 'kwok': 2236, 'lamb': 2237, 'hagiwara': 2238, 'enzymatic': 2239, 'medline': 2240, 'few': 2241, 'flag': 2242, '5a': 2243, 'methylated': 2244, 'ectopically': 2245, 'bosselut': 2246, 'levin': 2247, 'adjadj': 2248, 'ghysdael': 2249, 'homogenates': 2250, '01': 2251, 'postmortem': 2252, 'attomolar': 2253, 'metallated': 2254, 'plaque': 2255, 'troponin': 2256, 'agreement': 2257, 'determinants': 2258, 'igm': 2259, 'predominantly': 2260, 'introduced': 2261, 'identification': 2262, 'uuml': 2263, 'lsken': 2264, 'way': 2265, 'auxilin': 2266, 'actriib': 2267, 'alk2': 2268, 'gcl': 2269, 'oligomeric': 2270, 'controls': 2271, 'ebpî²': 2272, 'stained': 2273, 'egg': 2274, 'filamentous': 2275, 'modulated': 2276, 'stopped': 2277, 'feature': 2278, 'retardation': 2279, 'nakamura': 2280, 'yamamoto': 2281, 'notably': 2282, 'adherens': 2283, 'junctions': 2284, 'precursor': 2285, '82': 2286, 'decreases': 2287, 'apoptotsome': 2288, 'cu': 2289, 'central': 2290, 'cts': 2291, 'chalovich': 2292, '1987': 2293, 'series': 2294, 'doma': 2295, 'axis': 2296, 'raptor': 2297, '4ebp1': 2298, 'toward': 2299, 'washing': 2300, 'myd118': 2301, 'gadd45': 2302, 'references': 2303, 'h1': 2304, 'ionic': 2305, 'fourth': 2306, 'arm': 2307, 'minor': 2308, 'bandshift': 2309, 'cadherins': 2310, 'middle': 2311, 'junction': 2312, 'associates': 2313, 'daniel': 2314, 'pdgf': 2315, 'rtk': 2316, 'dii': 2317, 'onto': 2318, 'inactivating': 2319, 'features': 2320, 'plus': 2321, 'heterocomplex': 2322, 'nonspecific': 2323, 'eukaryotes': 2324, 'conjugating': 2325, 'came': 2326, 'physical': 2327, 'pore': 2328, 'lesion': 2329, 'facilitated': 2330, 'odc': 2331, 'trimeric': 2332, 'bib': 2333, 'ulin': 2334, 'calreticulin': 2335, 'generates': 2336, 'jolla': 2337, 'nfatc': 2338, 'existence': 2339, 'ckiâ\\x88\\x82': 2340, 'ckiî±2': 2341, 'percent': 2342, 'eif5': 2343, 'eif4a': 2344, 'unwound': 2345, 'rendered': 2346, 'incoming': 2347, 'moesinâ\\x80\\x93binding': 2348, 'folding': 2349, 'ring': 2350, 'swi': 2351, '425': 2352, 'gfp': 2353, 'overexpressing': 2354, 'indicative': 2355, 'distances': 2356, 'scale': 2357, 'abolishes': 2358, 'ang': 2359, 'î²1': 2360, 'dnxgsk': 2361, 'nding': 2362, 'converted': 2363, 'proteolytic': 2364, 'n732': 2365, 'nsm': 2366, 'sister': 2367, 'export': 2368, 'balance': 2369, 'systems': 2370, 'jiang': 2371, 'sec1p': 2372, 'munc18a': 2373, 'elute': 2374, 'mubc13': 2375, 'column': 2376, 'muller': 2377, 'msl': 2378, 'densities': 2379, 'potentially': 2380, 'around': 2381, 'gross': 2382, 'monomers': 2383, 'max': 2384, 'ldl': 2385, 'mcf': 2386, 'sequestration': 2387, 'cytosol': 2388, 'out': 2389, 'ivt': 2390, 'dctbp': 2391, 'repeated': 2392, 'measure': 2393, 'cytological': 2394, 'mof': 2395, 'kageyama': 2396, 'lyman': 2397, 'meller': 2398, 'mer': 2399, 'brca1': 2400, 'xillin': 2401, 'igf': 2402, 'bring': 2403, 'dsg1': 2404, 'utr': 2405, 'pir121': 2406, 'zhu': 2407, 'cos2': 2408, 'pairing': 2409, 'hde': 2410, 'hzfp100': 2411, 'bypass': 2412, 'indistinguishable': 2413, 'dcaf': 2414, 'downs': 2415, 'vp16': 2416, 'equally': 2417, 'dr': 2418, 'nac': 2419, 'recognizes': 2420, 'leu': 2421, 'importance': 2422, 'mtssb': 2423, 'v10': 2424, 'eses': 2425, 'establish': 2426, 'local': 2427, 'nucleotides': 2428, 'segments': 2429, 'rabgdi': 2430, 'rab3': 2431, 'ceh': 2432, 'swi5p': 2433, 'pho2p': 2434, '1000x': 2435, 'septins': 2436, 'localization': 2437, 'alk4': 2438, '5c': 2439, 'gal1': 2440, 'maximum': 2441, 'p90': 2442, 'huber': 2443, 'enriched': 2444, 'cause': 2445, 'arginine': 2446, 'unknown': 2447, 'substantially': 2448, 'chaperones': 2449, 'prepared': 2450, 'y402f': 2451, 'p130cas': 2452, 'cascades': 2453, 'oteins': 2454, 'rii': 2455, 'nbs': 2456, 'e2f1': 2457, 'plcdelta1': 2458, 'negatively': 2459, 'lineage': 2460, 'whitmarsh': 2461, 'smith': 2462, 'impairs': 2463, 'hardly': 2464, 'ts': 2465, 'orange': 2466, 'oesin': 2467, 'moesin': 2468, 'yap': 2469, 'thoreson': 2470, 'tein': 2471, 'pool': 2472, 'e2fs': 2473, 'light': 2474, 'traf': 2475, 'u5': 2476, 'hh': 2477, 'leads': 2478, 'yost': 2479, 'noc2': 2480, 'rabphilin': 2481, 'leucine': 2482, 'bagrodia': 2483, 'activa': 2484, 'modulation': 2485, 'chromosome': 2486, 'kappab1': 2487, 'compound': 2488, 'increasing': 2489, 'coated': 2490, 'immunoadsorption': 2491, 'reticulocyte': 2492, 'yields': 2493, 'muguruma': 2494, 'mangeat': 2495, 'horwitz': 2496, '1986': 2497, 'knezevic': 2498, 'correlates': 2499, 'fibroblasts': 2500, 'shares': 2501, 'rhtbk': 2502, 'whose': 2503, 'pbx1': 2504, 'tgattgac': 2505, 'tgac': 2506, 'noteworthy': 2507, 'diverse': 2508, '106': 2509, 'tafiis': 2510, 'phol': 2511, 'polytene': 2512, 'overlay': 2513, 'abundance': 2514, 'ptbî\\x94': 2515, 'chimera': 2516, '3gc2': 2517, 'lux': 2518, '133': 2519, 'chimeras': 2520, 'mh1': 2521, 'tsh': 2522, 'drive': 2523, '1984': 2524, 'sds': 2525, 'electrophoresis': 2526, 'fyn': 2527, 'wide': 2528, 'holzbaur': 2529, 'blocking': 2530, 'micromolar': 2531, 'e1': 2532, 'c1q': 2533, 'ventral': 2534, 'filin': 2535, 'rhodopsin': 2536, 'event': 2537, 'permit': 2538, 'total': 2539, 'cdh1': 2540, 'differentially': 2541, 'heterologous': 2542, 'syndapin': 2543, '8b': 2544, 'supporting': 2545, 'coactivators': 2546, 'at3': 2547, 'regulators': 2548, 'prot': 2549, 'approach': 2550, 'tnfalpha': 2551, 'fibulins': 2552, 'inducible': 2553, 'gp130': 2554, 'combined': 2555, 'questions': 2556, 'absent': 2557, 'procollagen': 2558, 'lies': 2559, 'quaternary': 2560, 'quantitative': 2561, 'post': 2562, 'classic': 2563, 'modulates': 2564, 'cdc42hs': 2565, 'repressive': 2566, 'gdi': 2567, 'gp': 2568, 'chromodomain': 2569, 'lement': 2570, 'template': 2571, 'templates': 2572, 'samples': 2573, 'mads': 2574, 'responsive': 2575, 'synaptojanin': 2576, 'ins': 2577, 'cooperativity': 2578, 'mbt': 2579, 'sin3': 2580, 'accumulation': 2581, 'phospho': 2582, 'cd8î±î±': 2583, 'comparative': 2584, 'mlk3': 2585, 'overcome': 2586, 'sparc': 2587, 'tenascin': 2588, 'comparably': 2589, 'jip2': 2590, '3t3': 2591, 'pxxp': 2592, 'utrs': 2593, 'bearing': 2594, 'taga': 2595, 'id': 2596, 'heat': 2597, 'if4g': 2598, 'residual': 2599, 'coat': 2600, 'axam': 2601, 'bhlh': 2602, 'photocrosslinking': 2603, 'dmpbp': 2604, 'arg25': 2605, 'arg28': 2606, 'attended': 2607, 'enhancement': 2608, 'thioflavin': 2609, 'nds': 2610, 'nct': 2611, '150': 2612, 'nadph': 2613, '3at': 2614, 'elevated': 2615, 'cftr': 2616, 'scs': 2617, 'fab': 2618, 'srm160': 2619, 'dephosphorylation': 2620, 'bcl': 2621, 'crkl': 2622, 'absolutely': 2623, 'library': 2624, 'turnover': 2625, 'testing': 2626, 'production': 2627, 'skeleton': 2628, 'becomes': 2629, 'rabaptin': 2630, 'usf': 2631, 'ns20y': 2632, 'prior': 2633, 'mitosis': 2634, 'neu': 2635, 'phospholipids': 2636, 'supernatant': 2637, 'numb': 2638, 'approaches': 2639, 'cdc': 2640, 'genetic': 2641, 'taf130p': 2642, 'plex': 2643, 'aqueous': 2644, 'sp2': 2645, 'threefold': 2646, 'p134s': 2647, 'cak': 2648, 'vigilin': 2649, 'mek': 2650, 'mkp3': 2651, 'quantitate': 2652, 'employed': 2653, 'orc1': 2654, 'ebp50': 2655, 'er': 2656, 'golgi': 2657, 'fgfr2': 2658, 'rim1': 2659, 'cosâ\\x80\\x902': 2660, 'monnier': 2661, 'tertiary': 2662, 'minichromosomes': 2663, 'transfer': 2664, 'speculate': 2665, 'wingless': 2666, 'implicated': 2667, 'ly': 2668, 'protected': 2669, 'ites': 2670, 'rapid': 2671, '121': 2672, '373': 2673, 'dpp': 2674, 'peak': 2675, 'snap': 2676, 'selectivity': 2677, 'schiavo': 2678, 'p44': 2679, 't6': 2680, 'hsp88': 2681, 'hsp30': 2682, 'preference': 2683, 'dlt': 2684, 'predicted': 2685, 'crystallographic': 2686, 'helicase': 2687, 'flk': 2688, 'kdr': 2689, 'tle': 2690, 'follistatin': 2691, 'blitz': 2692, 'analyze': 2693, 'attached': 2694, 'preserved': 2695, 'location': 2696, 'shuffled': 2697, 'pressure': 2698, 'maintain': 2699, 'u7snrnp': 2700, 'demonstrates': 2701, 'mdm2': 2702, 'elicited': 2703, 'irradiation': 2704, 'swinholide': 2705, 'sequesters': 2706, 'cytochalasin': 2707, 'caps': 2708, 'sampath': 2709, 'pollard': 2710, 're': 2711, 'accommodate': 2712, '118': 2713, 'optimal': 2714, 'seem': 2715, 'considering': 2716, 'arranged': 2717, 'stranded': 2718, 'paired': 2719, 'lie': 2720, 'c10': 2721, 'dictated': 2722, 'register': 2723, 'ig': 2724, 'superrepeats': 2725, 'mybpc': 2726, 'lmm': 2727, 'truncation': 2728, 'cd19': 2729, 'complement': 2730, 'what': 2731, 'disrupted': 2732, 'mhcii': 2733, 'simply': 2734, 'akap79': 2735, 'colocalizes': 2736, 'humoral': 2737, 'immunity': 2738, 'autoimmune': 2739, 'disease': 2740, '12â\\x80\\x9316': 2741, 'unclear': 2742, 'costimulatory': 2743, 'cd28': 2744, 'trimethylated': 2745, 'fits': 2746, 'groove': 2747, 'lodges': 2748, 'nielsen': 2749, 'plot': 2750, 'published': 2751, 'chemotactic': 2752, 'ski': 2753, 'gli3': 2754, 'arose': 2755, '80': 2756, 'polypeptide': 2757, 'topoisomerase': 2758, 'modify': 2759, 'ia': 2760, 'spacing': 2761, 'continued': 2762, 'dbâ·ad': 2763, 'readily': 2764, 'yonezawa': 2765, '1991a': 2766, 'kusano': 2767, 'sl': 2768, 'systematic': 2769, '66': 2770, 'vegf': 2771, 'erms': 2772, 'course': 2773, 'machinery': 2774, 'activitation': 2775, 'mab': 2776, 'assumed': 2777, 'preceded': 2778, 'male': 2779, 'nucleoside': 2780, 'blaszczyk': 2781, 'tnfr': 2782, 'apc6': 2783, 'echistatin': 2784, 'ryanodine': 2785, '1996b': 2786, 'rhophilin': 2787, 'sepharose': 2788, 'mg': 2789, 'degrees': 2790, 'antithrombin': 2791, 'cgmp': 2792, 'multivalent': 2793, 'stbm': 2794, 'ck1epsilon': 2795, 'goodman': 2796, 'deactivation': 2797, 'cf1': 2798, 'dark': 2799, 'accumulates': 2800, 'yrin': 2801, '761': 2802, '771': 2803, 'ubinfeld': 2804, 'albert': 2805, 'porfiri': 2806, 'fiol': 2807, 'munemitso': 2808, 'properti': 2809, 'inferred': 2810, 'glutamate': 2811, '187': 2812, 'consider': 2813, 'differences': 2814, 'p85': 2815, 'phosphatidylinositol': 2816, 'heptahelical': 2817, 'modified': 2818, 'immunoblotting': 2819, 'led': 2820, 'spliceosomal': 2821, 'utilization': 2822, 'tsc1': 2823, 'suppressors': 2824, 'subset': 2825, 'address': 2826, 'contributions': 2827, 'deposits': 2828, 'bta': 2829, 'entorhinal': 2830, 'cortex': 2831, 'cerebellum': 2832, 'typical': 2833, 'vi': 2834, 'cntl': 2835, '04': 2836, 'matched': 2837, 'age': 2838, 'interval': 2839, 'cu2': 2840, 'unanticipated': 2841, 'roles': 2842, 'hu': 2843, 'skr2': 2844, 'teins': 2845, 'displayed': 2846, 'dr4': 2847, '73i12a': 2848, 'jip3': 2849, 'discernible': 2850, 'cytokine': 2851, 'competiti': 2852, 'î²1a': 2853, 'rbp1': 2854, 'controlling': 2855, 'fplc': 2856, 'adhesions': 2857, 'laskey': 2858, 'hartmann': 2859, 'confers': 2860, 'transit': 2861, 'prediction': 2862, 'nonimmune': 2863, 'product': 2864, 'sf2': 2865, 'asf': 2866, 'rrm1': 2867, 'rrm2': 2868, '1â\\x80\\x9380': 2869, 'ats': 2870, 'sw480': 2871, 'defective': 2872, 'nurse': 2873, 'chambers': 2874, 'rotein': 2875, 'synergy': 2876, 'smad2': 2877, 'smad4': 2878, 'reconstituted': 2879, 'inactivates': 2880, 'boldface': 2881, 'underlined': 2882, 'inaccessible': 2883, 'ephrin': 2884, 'mekk1': 2885, 'glutamic': 2886, 'called': 2887, 'drap1': 2888, 'hmg1': 2889, 'dsp1': 2890, 'mot1': 2891, 'generating': 2892, 'larger': 2893, 'adenomatous': 2894, 'polyposis': 2895, 'coli': 2896, 'eliminating': 2897, '1e': 2898, 'reacted': 2899, 'hrp': 2900, 'saw': 2901, 'egion': 2902, 'gal80': 2903, 'gal3': 2904, 'straightforward': 2905, 'exocytosis': 2906, 'sequestering': 2907, 'red': 2908, 'displaces': 2909, 'complicating': 2910, 'perinatal': 2911, 'rodents': 2912, 'estrogen': 2913, 'afp': 2914, 'galectin': 2915, 'hypertonic': 2916, 'pma': 2917, '6d': 2918, 'neuroligins': 2919, 'ters': 2920, 'fibrils': 2921, 'arp2': 2922, 'copy': 2923, 'ain': 2924, 'smooth': 2925, 'let': 2926, 'elisas': 2927, 'successful': 2928, 'masking': 2929, 'hsp': 2930, '577': 2931, 'protrude': 2932, 'spans': 2933, 'helices': 2934, 'srgaps': 2935, 'intrinsic': 2936, 'converts': 2937, 'frees': 2938, 'goes': 2939, 'ment': 2940, 'competed': 2941, 'unlabeled': 2942, 'd4ebp': 2943, 'pols': 2944, 'destroys': 2945, '296': 2946, 'produce': 2947, 'onl': 2948, 'toth': 2949, 'infected': 2950, 'chase': 2951, 'hbd': 2952, 'confer': 2953, 'mitogenic': 2954, 'ecs': 2955, 'pac': 2956, 'clone': 2957, '8856': 2958, 'pcr': 2959, 'oligonucleotides': 2960, 'antisense': 2961, 'sense': 2962, '1000': 2963, 'pparî³2': 2964, 'sequenced': 2965, 'inserted': 2966, 'ecorv': 2967, 'pbluescript': 2968, 'reflect': 2969, 'suppress': 2970, 'tubuli': 2971, 'k23': 2972, 'eif2beta': 2973, 'conducted': 2974, 'wces': 2975, 'intron': 2976, 'rnas': 2977, 'renin': 2978, 'ralbp1': 2979, 'groes': 2980, 'non': 2981, '179â\\x80\\x93199': 2982, 'dcbl': 2983, 'wortmannin': 2984, 'resistant': 2985, 'glucocorticoid': 2986, 'rid': 2987, 'disrupting': 2988, 'saturated': 2989, 'epsin': 2990, 'cbp1891': 2991, '2175': 2992, 'smad3210': 2993, 'alf': 2994, 'rc1': 2995, 'discuss': 2996, 'recruiting': 2997, 'mct': 2998, 'concomitant': 2999, 'oxygen': 3000, 'radicals': 3001, 'involve': 3002, 'authors': 3003, 'claim': 3004, 'rack1': 3005, 'i236': 3006, 'buensuceso': 3007, 'steele': 3008, 'holds': 3009, 'tn': 3010, 'occluded': 3011, 'coats': 3012, 'triple': 3013, 'igfbp1': 3014, 'homologues': 3015, 'trafficking': 3016, 'final': 3017, 'recepto': 3018, 'ctrii': 3019, 'grundhoff': 3020, 'kremmer': 3021, 'tureci': 3022, 'glieden': 3023, 'gindorf': 3024, 'atz': 3025, 'lantzsch': 3026, 'schubach': 3027, 'grasser': 3028, 'characterisation': 3029, 'epstein': 3030, 'barr': 3031, 'virus': 3032, 'intramolecular': 3033, 'gkap': 3034, 'begain': 3035, 'ch': 3036, 'nevertheless': 3037, 'dmsa': 3038, 'additivity': 3039, 'given': 3040, 'myosins': 3041, 'muc1': 3042, 'radiolabeled': 3043, '893': 3044, 'biacore': 3045, 'plasmon': 3046, 'resonance': 3047, 'srebps': 3048, 'p202a': 3049, 'apkc': 3050, 'baz': 3051, '114': 3052, '3d': 3053, 'retain': 3054, 'ty': 3055, 'poc': 3056, 'tand': 3057, 'inversely': 3058, 'trithorax': 3059, 'vin': 3060, 'rule': 3061, 'dynamics': 3062, 'msl3': 3063, 'jif': 3064, 'shorter': 3065, 'take': 3066, 'hormone': 3067, 'belongs': 3068, 'coding': 3069, 'cysteine': 3070, 'synthetases': 3071, 'f1': 3072, 'snrna': 3073, 'sos': 3074, 'msf': 3075, 'targeted': 3076, 'hachiya': 3077, 'kcnk3': 3078, 'dbâ·cr': 3079, 'lhx3': 3080, 'modulating': 3081, 'du1': 3082, '70k': 3083, 'psi': 3084, 'moskalenko': 3085, 'sugihara': 3086, 'distant': 3087, 'peng': 3088, 'gallwitz': 3089, '604': 3090, '615': 3091, 'compartments': 3092, 'considerable': 3093, 'denaturation': 3094, 'denzin': 3095, 'kropshofer': 3096, \"arrestin's\": 3097, 'fish': 3098, 'schneider': 3099, 'transfection': 3100, 'cd44vra': 3101, 'cd44s': 3102, 'aos': 3103, 'living': 3104, 'omain': 3105, 'tenet': 3106, 'flanking': 3107, 'shaker': 3108, 'mot': 3109, 'abdominal': 3110, '7a': 3111, \"calcineurin's\": 3112, '170': 3113, 'attributes': 3114, 'gag': 3115, 'rbp4': 3116, 'nmda2': 3117, 'tfiih': 3118, 'simplest': 3119, 'serves': 3120, 'glutamatergic': 3121, 'nmj': 3122, 'tejedor': 3123, 'thomas': 3124, 'zito': 3125, 'rpa2': 3126, 'reaching': 3127, 'viral': 3128, 'slowly': 3129, 'palleros': 3130, 'schmid': 3131, 'szabo': 3132, 'glutamine': 3133, 'dtaf110': 3134, 'vamp': 3135, 'proximity': 3136, 'snap25': 3137, 'initiate': 3138, 'encompass': 3139, 'sequestered': 3140, 'protecting': 3141, 'reasoned': 3142, 'immunochemical': 3143, 'betavldl': 3144, 'underscores': 3145, 'immunophilin': 3146, 'anastasiadis': 3147, 'tsa': 3148, 'uences': 3149, 'hdacs': 3150, 'inert': 3151, 'entering': 3152, 'heuvel': 3153, 'harlow': 3154, 'mammals': 3155, 'ad2': 3156, 'methyltransferase': 3157, 'carm1': 3158, 'k266a': 3159, 'pharmacological': 3160, 'compelling': 3161, 'ced': 3162, 'omi': 3163, 'htra2': 3164, 'telomerase': 3165, 'likewise': 3166, 'distance': 3167, 'targeting': 3168, 'canonical': 3169, 'destabilization': 3170, 'cultures': 3171, 'repair': 3172, 'plass': 3173, 'glu': 3174, 'entropic': 3175, 'penalty': 3176, 'agonist': 3177, 'achr': 3178, 'mre11': 3179, 'es': 3180, 'tg': 3181, 'existing': 3182, 'prereplicating': 3183, 'priming': 3184, 'hepatocytes': 3185, 'spinophilin': 3186, 'enrichment': 3187, 'iaps': 3188, 'caspases': 3189, 'munc18': 3190, 'characterize': 3191, 'blockade': 3192, 'kang': 3193, 'listeria': 3194, 'implying': 3195, 'accelerating': 3196, 'proposal': 3197, 'saga': 3198, 'rpt6': 3199, 'rpt4': 3200, 'contacted': 3201, 'main': 3202, 'former': 3203, 'eif3': 3204, 'phosphorylinositol': 3205, 'phosphorylcholine': 3206, 'whole': 3207, 'kcl': 3208, 'jm': 3209, 'ohkubo': 3210, 'ozawa': 3211, 'synaptotagmins': 3212, 'hsp40': 3213, 'rgg': 3214, 'chemic': 3215, 'tlrs': 3216, 'tlr2': 3217, 'cd14': 3218, 'myd88': 3219, 'irak': 3220, 'exerts': 3221, 'evidently': 3222, 'st': 3223, 'hop': 3224, 'ensures': 3225, 'hxpros': 3226, 'abundantly': 3227, 'î±î²': 3228, 'loops': 3229, 'constructed': 3230, 'assume': 3231, 'gbpwt': 3232, 'gbpmut': 3233, 'polycomb': 3234, 'ld4': 3235, 'lysates': 3236, '313': 3237, '254': 3238, 'initiates': 3239, 'rin': 3240, 'approximate': 3241, 'sem': 3242, 'averaged': 3243, 'mononucleosomes': 3244, 'behavior': 3245, 'slit': 3246, 'oligo': 3247, 'contribute': 3248, 'matrix': 3249, 'alu': 3250, 'srp': 3251, '3y1': 3252, 'agrin': 3253, 'context': 3254, 'cd44v3': 3255, 'ht': 3256, 'immunosuppressant': 3257, 'ethanol': 3258, 'vehicle': 3259, 'drugs': 3260, 'chemokines': 3261, 'tymstr': 3262, 'lymphocytes': 3263, 'monocytes': 3264, 'discount': 3265, 'explanations': 3266, 'valid': 3267, 'confusion': 3268, 'literature': 3269, 'reactivated': 3270, 'subdivision': 3271, '67b': 3272, 'project': 3273, 'cg3445': 3274, 'ebv': 3275, 'throughout': 3276, 'ip': 3277, 'pellet': 3278, 'crosslinking': 3279, 'consisting': 3280, 'transactivates': 3281, 'sy': 3282, 'trunc': 3283, 'bmp2': 3284, 'referenced': 3285, 'interface': 3286, 'ranging': 3287, 'enough': 3288, 'spl': 3289, 'mî²': 3290, 'highest': 3291, 'immunodetection': 3292, 'ecd': 3293, 'bgl': 3294, 'origins': 3295, 'across': 3296, 'munc13': 3297, 'compon': 3298, 'karki': 3299, 'vaughan': 3300, 'vallee': 3301, 'conjugated': 3302, 'pdz2': 3303, 'processed': 3304, 'ubc2': 3305, '102': 3306, 'hsubc2b': 3307, 'thekm': 3308, 'stenoien': 3309, 'brady': 3310, 'syd': 3311, 'alter': 3312, 'sp90': 3313, 'nq': 3314, 'left': 3315, 'providing': 3316, 'link': 3317, 'pipe': 3318, 'prepattern': 3319, 'protease': 3320, 'cascade': 3321, 'monomer': 3322, 'acta': 3323, 'anchored': 3324, 'benfenati': 3325, 'lock': 3326, 'configuration': 3327, 'quantitatively': 3328, 'ask': 3329, 'krxl': 3330, 'asynchronously': 3331, 'growing': 3332, 'saos2': 3333, 'grppvkrrldle': 3334, 'e21ywt': 3335, '928': 3336, 'opposite': 3337, 'serving': 3338, 'scaffold': 3339, 'hunter': 3340, 'tyr317': 3341, 'hydrolyzed': 3342, 'thermotolerance': 3343, 'content': 3344, 'primed': 3345, 'conversely': 3346, 'parp': 3347, 'y1176': 3348, 'interdependent': 3349, 'selection': 3350, 'laminins': 3351, 'rearrangements': 3352, 'silencer': 3353, 'reverse': 3354, 'microinjected': 3355, 'pc12': 3356, 'ot': 3357, 'severed': 3358, 'briefly': 3359, 'better': 3360, 'cross': 3361, 'jak2': 3362, 'immunoprecipitations': 3363, 'ohta': 3364, 'raises': 3365, 'mu': 3366, 'omplex': 3367, 'actually': 3368, 'composed': 3369, 'quitin': 3370, 'filters': 3371, 'eif2b': 3372, 'exception': 3373, 'p95': 3374, 'rotational': 3375, 'create': 3376, 'hsf': 3377, 'p41': 3378, 'eif2alpha': 3379, 'nhe1': 3380, 'untranslated': 3381, 'certain': 3382, 'cc2': 3383, 'situation': 3384, 'comparing': 3385, 'formyl': 3386, 'amidine': 3387, 'acetamido': 3388, 'ch2ch2n': 3389, 'magnitude': 3390, 'k1k2': 3391, 'stk15': 3392, 'reversible': 3393, 'retention': 3394, 'barrier': 3395, 'lengthdelta4': 3396, 'p23': 3397, 'ubiquitously': 3398, 'asterisk': 3399, 'ac1': 3400, 'overcoming': 3401, 'chuang': 3402, 'mcmt': 3403, 'takafuta': 3404, 'xu': 3405, 'thompson': 3406, 'faulkner': 3407, 'van': 3408, 'ven': 3409, 'takada': 3410, 'dcap': 3411, 'guiding': 3412, 'encounter': 3413, 'intact': 3414, 'apoe3': 3415, 'correlation': 3416, 'majority': 3417, 'daily': 3418, 'mhc': 3419, 'tyr177': 3420, 'pendergast': 3421, 'puil': 3422, 'thr': 3423, 'secretase': 3424, 'klotzbucher': 3425, 'behave': 3426, 'transportable': 3427, 'degraded': 3428, 'bni1p': 3429, 'ud6p': 3430, 'nearly': 3431, 'compensated': 3432, 'size': 3433, 'sres': 3434, 'impose': 3435, 'eif5b': 3436, 'cp1': 3437, 'adaptin': 3438, 'p3': 3439, 'acyl': 3440, 'antagonist': 3441, 'hypersensitivity': 3442, 'endâ\\x80\\x90labeling': 3443, 'phenomenon': 3444, 'cdc42t17n': 3445, 'localisation': 3446, 'ajs': 3447, '8k': 3448, 'reason': 3449, 'instability': 3450, 'chromosomes': 3451, 'breakdown': 3452, '25â°c': 3453, 'regarded': 3454, 'insufficient': 3455, 'denature': 3456, 'coactivator': 3457, 'phyl': 3458, 'fate': 3459, 'tracts': 3460, 'peifer': 3461, 'hodopsin': 3462, 'stronger': 3463, 'â\\x88¼10': 3464, 'surpasses': 3465, 'mhcia': 3466, 'leishman': 3467, 'moody': 3468, 'egfr': 3469, 'arises': 3470, 'covalently': 3471, 'labeling': 3472, 'trx': 3473, 'cr2': 3474, 'lnx': 3475, 'nc': 3476, 'u': 3477, 'os': 3478, 'vh10': 3479, 'sv40': 3480, 'nih': 3481, 'obvious': 3482, 'interferes': 3483, 'infer': 3484, 'phenotype': 3485, 'e83a': 3486, 'glycosylphosphatidylinositol': 3487, 'davis': 3488, '1993b': 3489, 'robledo': 3490, '43s': 3491, 'depolarization': 3492, 'nearby': 3493, 'stimulatory': 3494, 'unproven': 3495, 'te': 3496, 'fami': 3497, 'recovery': 3498, '213': 3499, 'meis1a': 3500, 'pswnr': 3501, 'captured': 3502, 'endotoxin': 3503, 'initially': 3504, 'combining': 3505, 'shifted': 3506, 'bands': 3507, 'share': 3508, 'a2': 3509, 'osteoclastogenesis': 3510, 'chem': 3511, 'scin': 3512, 'ocus': 3513, 'psea': 3514, 'btk': 3515, 'scupa': 3516, 'synergistic': 3517, 'inability': 3518, 'r308k': 3519, 'rivero': 3520, 'lezcano': 3521, 'dfkbp59': 3522, 'aspenstrã¶m': 3523, 'miller': 3524, 'mtbr': 3525, '123': 3526, 'crp': 3527, 'essentially': 3528, 'titrations': 3529, \"'s\": 3530, 'additionally': 3531, 'quenching': 3532, 'pyrene': 3533, 'threonine': 3534, \"d'amico\": 3535, 'akap': 3536, 'dampened': 3537, 'derepression': 3538, 'bps': 3539, 't84': 3540, 'calu': 3541, 'bx': 3542, 'antc': 3543, 'loci': 3544, 'unaltered': 3545, 'chromosomal': 3546, 'interfering': 3547, 'causing': 3548, \"pkc's\": 3549, 'hnrnp': 3550, 'cnbp': 3551, 'relationship': 3552, 'speculated': 3553, 'rs': 3554, '65kda': 3555, 'derived': 3556, 'products': 3557, 'cdk5': 3558, 'strain': 3559, 'adam12': 3560, 'actinins': 3561, 'bax': 3562, 'formin': 3563, 'ren': 3564, 'gertler': 3565, 'r175n': 3566, 'tetratricopeptide': 3567, 'deletions': 3568, 'scanning': 3569, 'screening': 3570, 'cdna': 3571, 'short': 3572, 'bfgf': 3573, 'subtle': 3574, 'side': 3575, 'positional': 3576, 'ala103': 3577, 'naturally': 3578, 'fit': 3579, 'again': 3580, 'gion': 3581, 'currently': 3582, 'l27': 3583, 'learning': 3584, 'artificially': 3585, 'pldlsl': 3586, 'altman': 3587, 'kellogg': 3588, 'carroll': 3589, 'barral': 3590, 'nmr': 3591, 'cdc11': 3592, 'mgadp': 3593, 'cosedimented': 3594, 'ug': 3595, 'heparan': 3596, 'sulfate': 3597, 'proteoglycan': 3598, 'hspg': 3599, 'htz1delta': 3600, 'egta': 3601, 'dunc13': 3602, 'tiam1': 3603, 'spectroscopy': 3604, 'castanospermine': 3605, 'deoxynojirimycin': 3606, 'c3': 3607, 'm1': 3608, 'investigation': 3609, 'date': 3610, 'srebp': 3611, 'assist': 3612, 'correct': 3613, 'infusion': 3614, 'rnai': 3615, 'embryonic': 3616, 'immunofluorescence': 3617, 'si': 3618, 'actively': 3619, 'explore': 3620, 'variant': 3621, 'network': 3622, 'yurchenco': 3623, \"o'rear\": 3624, 'tsc2â\\x88\\x92': 3625, 'â\\x88\\x92': 3626, 'dimensional': 3627, 'thin': 3628, 'layer': 3629, 'amp': 3630, '5d': 3631, 'scf': 3632, 'e3': 3633, 'ligase': 3634, 'destruction': 3635, 'struhl': 3636, 'winston': 3637, 'kitagawa': 3638, 'sometimes': 3639, 'requisite': 3640, 'thr161': 3641, 'thr160': 3642, 'trand': 3643, 'vitellogenin': 3644, 'dystrophin': 3645, 'insert': 3646, 'lamp': 3647, '7b': 3648, 'nbs1p70': 3649, 'luciferase': 3650, 'rangtp': 3651, 'picture': 3652, 'orc5': 3653, 'bud6p': 3654, 'markers': 3655, 'peduncle': 3656, 'lobes': 3657, 'heavily': 3658, 'digested': 3659, 'orc4': 3660, 'erythrocytes': 3661, 'bundles': 3662, 'accomplished': 3663, 'bc13': 3664, 'vt': 3665, 'snake': 3666, 'venom': 3667, 'platelet': 3668, 'iiia': 3669, 'clotting': 3670, 'adler': 3671, 'beer': 3672, 'particularly': 3673, 'maintenance': 3674, 'cocker': 3675, 'santocanale': 3676, 'aparicio': 3677, 'donovan': 3678, 'liang': 3679, 'stillman': 3680, 'tanaka': 3681, 'perkins': 3682, 'weinreich': 3683, 'â\\x88\\x92200': 3684, '87': 3685, 'par': 3686, 'somehow': 3687, 'mitotic': 3688, 'interphase': 3689, 'tat': 3690, 'snap23': 3691, 'emphasize': 3692, 'simultaneous': 3693, 'norpa': 3694, 'sin': 3695, 'bradykinin': 3696, 'hpak65': 3697, 'nik': 3698, 'engrailed': 3699, 'undetectable': 3700, 'demonstrations': 3701, 'nuclei': 3702, 'romoter': 3703, '3b': 3704, 'p55': 3705, 'variations': 3706, 'np': 3707, 'quite': 3708, 'rdgc': 3709, 'da': 3710, 'bsa': 3711, '8g1': 3712, '130cas': 3713, '572': 3714, '93': 3715, 'heme': 3716, 'program': 3717, 'focused': 3718, 'maintaining': 3719, 'fp4': 3720, 'inducing': 3721, 'proteolysis': 3722, 'postulated': 3723, 'diluted': 3724, 'shape': 3725, 'blue': 3726, 'triangle': 3727, 'takizawa': 3728, 'cardiac': 3729, 'capacity': 3730, 'endosomal': 3731, 'capped': 3732, 'convert': 3733, 'rearrangement': 3734, '449': 3735, '1997a': 3736, 'emi1': 3737, 'tef': 3738, '200': 3739, 'cybrids': 3740, 'biotinylated': 3741, 'p70alpha': 3742, 'reveal': 3743, 'narrowed': 3744, 'sir3': 3745, 'peats': 3746, 'entire': 3747, 'cdt1': 3748, 'rlf': 3749, 'geminin': 3750, \"3'utr\": 3751, 'available': 3752, 'clk': 3753, 'tcr': 3754, 'carried': 3755, 'tdp': 3756, 'cholesterol': 3757, 'skipping': 3758, 'ctfr': 3759, 'heart': 3760, 'hnumb': 3761, 'sir2': 3762, 'gggcgg': 3763, 'm4': 3764, 'changed': 3765, 'apoe4': 3766, 'oligomer': 3767, 'fl': 3768, 'methods': 3769, 'p6': 3770, 'grb10': 3771, 'apical': 3772, 'fmlp': 3773, 'differentiated': 3774, 'hl': 3775, 's101a': 3776, 'holoenzyme': 3777, 'cdc16': 3778, 'tighter': 3779, 'ser133': 3780, 'ttk': 3781, 'chondrocytes': 3782, 'fam': 3783, 'homologous': 3784, 'wished': 3785, 'meis': 3786, 'akt1': 3787, 'hands': 3788, 'poor': 3789, 'hoxb4': 3790, 'tgfî²': 3791, 'huge': 3792, 'sit': 3793, 'kbp12': 3794, 'implicate': 3795, 'life': 3796, '20â\\x80\\x9330': 3797, 'footprints': 3798, 'raise': 3799, 'htafii55': 3800, 'collectively': 3801, 'differs': 3802, 'crb': 3803, 'belong': 3804, 'rox': 3805, 'clamp': 3806, 'ung2': 3807, 'quiescent': 3808, 'positioning': 3809, 'lhx4': 3810, 'complemented': 3811, 'footprint': 3812, 'wherein': 3813, 'and4': 3814, 'evidenced': 3815, 'hypersensitive': 3816, 'mrnp': 3817, 'commitment': 3818, 'dek': 3819, 'blencowe': 3820, '295': 3821, 'temporal': 3822, 'silencing': 3823, 'harose': 3824, 'concurrently': 3825, 'rbd': 3826, 'loading': 3827, 'goppelt': 3828, 'vwrpy': 3829, 'vweaa': 3830, 'goldstein': 3831, 'docked': 3832, 'diverged': 3833, 'sets': 3834, 'n14g': 3835, 'czerny': 3836, 'sample': 3837, 'question': 3838, '1989': 3839, 'cdc14': 3840, 'represent': 3841, '79': 3842, '68': 3843, 'coexpressed': 3844, 'neuroglian': 3845, 'acidic': 3846, 'phosphorylating': 3847, 'krã¼ppel': 3848, 'me2so': 3849, 'differentiation': 3850, 'n1e': 3851, '115': 3852, 'hsorc1': 3853, 'maf': 3854, 'omitted': 3855, 'simplification': 3856, 'irregular': 3857, 'bent': 3858, 'damage': 3859, 'k2': 3860, 'moters': 3861, 'conceivable': 3862, 'evolved': 3863, 'subject': 3864, 'stringent': 3865, 'f31': 3866, 'reside': 3867, 'yxxp': 3868, 'corresponds': 3869, 'birge': 3870, 'mutan': 3871, 'cd21': 3872, 'supplies': 3873, 'cl': 3874, 'prying': 3875, 'spontaneously': 3876, 'permeabilized': 3877, 'jost': 3878, 'unit': 3879, 'neomycin': 3880, 'polylysine': 3881, 'spermine': 3882, 'reversed': 3883, 'antagonism': 3884, '1c': 3885, 'midas': 3886, 'gulin': 3887, 'q': 3888, 'tetramerization': 3889, 'pxdls': 3890, 'degrade': 3891, 'axindeltagsk': 3892, '1211': 3893, '2075': 3894, 'nonphosphorylated': 3895, 'kelch': 3896, 'lipids': 3897, 'paralleled': 3898, 'choice': 3899, 'realized': 3900, 'influencing': 3901, 'tian': 3902, 'maniatis': 3903, 'valcarcel': 3904, 'reed': 3905, 'mechanistically': 3906, 'pointed': 3907, 'klambt': 3908, 'grf2': 3909, 'pangolin': 3910, 'supershifted': 3911, 'gu': 3912, 'roeder': 3913, 'p75': 3914, 'leton': 3915, 'apc2': 3916, '16n7c2': 3917, 'amano': 3918, 'madaule': 3919, 'reid': 3920, 'kimura': 3921, 'p140mdia': 3922, 'matsui': 3923, 'ione': 3924, 'aliquot': 3925, 'apolipoprotein': 3926, 'ndependently': 3927, 'ntous': 3928, 'proliferating': 3929, 'deactivate': 3930, 'beneath': 3931, 'meshwork': 3932, 'edges': 3933, 'motile': 3934, '1982': 3935, 'sormunen': 3936, 'lehto': 3937, 'drf3': 3938, 'shp': 3939, 'nherf': 3940, 'î²2': 3941, 'adrenergic': 3942, 'bcrwt': 3943, 'bcrv1271a': 3944, 'k9': 3945, 'seong': 3946, 'antigenic': 3947, 'als': 3948, 'profil': 3949, 'overlaps': 3950, 'ntk': 3951, 'dulin': 3952, 'moti': 3953, 'kelkar': 3954, 'stat3': 3955, 'bradt': 3956, 'bixby': 3957, 'kolb': 3958, 'cooper': 3959, 'covalent': 3960, 'indications': 3961, 'affecting': 3962, 'enac': 3963, 'clin': 3964, 'gorlich': 3965, 'henkelin': 3966, 'synaptopodin': 3967, 'kumar': 3968, 'structurally': 3969, 'phosphoglycerate': 3970, 'dehydrogenase': 3971, 'ap90': 3972, '63': 3973, 'liver': 3974, 'regeneration': 3975, 'acute': 3976, 'inflammation': 3977, 'pathology': 3978, 'myotonic': 3979, 'dystrophy': 3980, 'situations': 3981, 'lip': 3982, 'dcp': 3983, 'reorganization': 3984, 'amersham': 3985, 'pharmacia': 3986, 'tasks': 3987, 'renders': 3988, 'synergize': 3989, \"3'hs1\": 3990, 'omv': 3991, 'drastically': 3992, 'phosphoprotein': 3993, 'rasgap': 3994, 'introduction': 3995, 'wea': 3996, 'clat': 3997, 'delineated': 3998, 'successively': 3999, 'truncations': 4000, 'texas': 4001, 'preparation': 4002, 'myo1eiq': 4003, 'conti': 4004, 'kuriyan': 4005, 'fontes': 4006, 'trf1': 4007, 'ctrin': 4008, 'illo': 4009, 'complicated': 4010, 'turned': 4011, 'proceed': 4012, 'participate': 4013, 'ncer': 4014, 'amyloid': 4015, 'patients': 4016, 'fap': 4017, 'dinr': 4018, 'phosphorylationwe': 4019, '2hs': 4020, 'erks': 4021, 'abi': 4022, 'andâ\\x80\\x89inâ\\x80\\x89vivo': 4023, 'permits': 4024, 'ensuing': 4025, 'tor': 4026, 'estimate': 4027, 'shaywitz': 4028, 'greenberg': 4029, 'dp': 4030, 'superposition': 4031, 'adenine': 4032, 'moeity': 4033, 'takagaki': 4034, 'manley': 4035, 'submitted': 4036, 'aldose': 4037, 'reductase': 4038, 'ascertain': 4039, '113': 4040, 'ranbp2': 4041, 'conjugat': 4042, 'ap1': 4043, 'imultaneously': 4044, 'bap': 4045, 'detecta': 4046, 'iid': 4047, 'trace': 4048, 'preceding': 4049, 'section': 4050, 'schowalter': 4051, 'progesterone': 4052, 'beta1': 4053, 'hoxa9': 4054, 'microtubules': 4055, 'comprises': 4056, 'fobs': 4057, 'mgatp': 4058, 'pâ\\x80\\x89mgatp': 4059, 'urea': 4060, 'pâ\\x80\\x89urea': 4061, 'tnp': 4062, 'polyadenylation': 4063, 'kamata': 4064, 'who': 4065, 'metal': 4066, 'summary': 4067, 'denatured': 4068, 'finger': 4069, 'oct': 4070, 'bccs': 4071, 'oncogenic': 4072, 'nir2': 4073, 'presplicing': 4074, 'lobin': 4075, 'comple': 4076, 'pde4d5': 4077, 'areas': 4078, 'oxes': 4079, 'egl': 4080, 'investigators': 4081, 'favoring': 4082, 'dynamitin': 4083, 'dissociates': 4084, 'sepa': 4085, 'utilizing': 4086, 'holstein': 4087, 'snares': 4088, 'ebna2': 4089, 'functi': 4090, 'somewhere': 4091, '606': 4092, '757': 4093, 'compl': 4094, 'rocellulose': 4095, 'saccharomyces': 4096, 'hses': 4097, 'inducibly': 4098, 'giardina': 4099, 'lis': 4100, 'erkine': 4101, 'microfilament': 4102, 'lc753': 4103, 'links': 4104, 'cav1': 4105, 'î±1': 4106, '3000': 4107, 'methodology': 4108, 'ami': 4109, 'mkk6': 4110, 'vect': 4111, 'tam': 4112, 'remodel': 4113, 'rendering': 4114, 'axa': 4115, 'bad': 4116, 'pha': 4117, 'synuclein': 4118, 'inhibin': 4119, 'suc': 4120, 'actor': 4121, 'derk': 4122, 'homodimerizing': 4123, \"hairy's\": 4124, 'too': 4125, 'fast': 4126, 'off': 4127, 've': 4128, 'imilar': 4129, 'ene': 4130, 'int190': 4131, 'd3': 4132, 'd4': 4133, 'illustrated': 4134, 'space': 4135, 'filling': 4136, 'representation': 4137, 'globin': 4138, 'developmental': 4139, 'suspected': 4140, 'created': 4141, 'cac': 4142, 'eklf': 4143, 'presumed': 4144, 'polarization': 4145, 'cvrckovã¡': 4146, 'brown': 4147, 'encode': 4148, 'fullâ\\x80\\x90length': 4149, 'â\\x80²': 4150, 'ip2': 4151, 'traf2': 4152, 'tradd': 4153, 'dic': 4154, 'flagellar': 4155, 'outer': 4156, 'chlamydomonas': 4157, 'om37': 4158, 'tom20': 4159, 'tom22': 4160, 'iip35': 4161, 'figures': 4162, '6c': 4163, 'readil': 4164, 'han': 4165, 'z': 4166, 'trm': 4167, 'hmt': 4168, 'â\\x80\\x8b4c': 4169, 'brymora': 4170, 'correspo': 4171, 'roteins': 4172, 'cad': 4173, 'pty': 4174, 'notothenioid': 4175, 'okadome': 4176, 'wang': 4177, 'auuua': 4178, 'unique': 4179, 'saras': 4180, 'heldin': 4181, 'transmembrane': 4182, 'methyl': 4183, 'aspartate': 4184, 'kornau': 4185, 'niethammer': 4186, 'disassembly': 4187, 'carlier': 4188, 'bamburg': 4189, 'hydrolyzing': 4190, 'ofilin': 4191, 'inclu': 4192, 'wh': 4193, 'els': 4194, 'spar': 4195, 'enascin': 4196, 'hek293': 4197, 'tfiie': 4198, 'iih': 4199, 'b2': 4200, 'background': 4201, 'fritsch': 4202, 'fas2': 4203, 'gal10': 4204, 'possesses': 4205, 'lxcxe': 4206, 'pb': 4207, 'mr': 4208, 'tms': 4209, 'circles': 4210, '159': 4211, '259': 4212, '190': 4213, 'extreme': 4214, 'rins': 4215, 'dgtp': 4216, 'dadp': 4217, 'eta': 4218, 'fkbp13': 4219, 'noren': 4220, 'regulator': 4221, 'hep3b': 4222, 'investigated': 4223, 'ser142': 4224, 'parker': 4225, 'kornhauser': 4226, 'biologically': 4227, 'cb': 4228, 'ppars': 4229, 'favor': 4230, 'apa': 4231, 'rlc': 4232, 'c4p': 4233, 'exocyst': 4234, 'tethering': 4235, 'secretory': 4236, 'yy1': 4237, 'â\\x80\\x90bound': 4238, 'p130ca': 4239, 'd53p': 4240, 'fha1': 4241, 'fha2': 4242, 'untreated': 4243, 'mms': 4244, 'mimetic': 4245, 'agent': 4246, 'nitroquinoline': 4247, 'oxide': 4248, 'nqo': 4249, 'bulky': 4250, 'adducts': 4251, 'repaired': 4252, 'excision': 4253, 'siede': 4254, 'pldls': 4255, 'sso1p': 4256, '2p': 4257, 'null': 4258, 'canoni': 4259, 'dakap200': 4260, 'constitute': 4261, 'unstructured': 4262, 'semi': 4263, 'structured': 4264, 'par6': 4265, 'kapp': 4266, 'favors': 4267, 'desensitized': 4268, 'agonists': 4269, 'genomic': 4270, 'uip1': 4271, 'atpgammas': 4272, 'synapsin': 4273, 'sulfhydryl': 4274, 'alkylation': 4275, 'nem': 4276, 'm364': 4277, 'r365': 4278, 'buried': 4279, 'bet': 4280, 'delta': 4281, '155': 4282, 'ectly': 4283, 'contributes': 4284, '2e': 4285, 'ome': 4286, 'gsb': 4287, 'molybdate': 4288, 'effective': 4289, 'aim': 4290, 'catalyze': 4291, '97': 4292, 'spt3': 4293, 'spt8': 4294, 'his3': 4295, 'spt3î\\x94': 4296, 'spt8î\\x94': 4297, 'sug1': 4298, 'hctbp': 4299, 'electrostatic': 4300, 'driving': 4301, 'force': 4302, 'chemi': 4303, 'thick': 4304, 'broken': 4305, 'prospective': 4306, 'inactivate': 4307, 'ddlim': 4308, 'abps': 4309, 'uncouple': 4310, 'edge': 4311, 'tlr4': 4312, \"epsin's\": 4313, 'sho': 4314, 'micelles': 4315, 'terms': 4316, 'hoxa': 4317, 'p105': 4318, 'signi': 4319, 'antly': 4320, 'onse': 4321, 'fgeyrslesdnee': 4322, 'biotin': 4323, 'kamiguchi': 4324, 'variants': 4325, 'en': 4326, 'oteet': 4327, 'detail': 4328, 'sorting': 4329, 'lysosomes': 4330, 'ogata': 4331, 'fukuda': 4332, 'sandoval': 4333, 'implication': 4334, 'dire': 4335, 'atf2': 4336, 'sequential': 4337, 'spreading': 4338, 'heterochromatin': 4339, 'sharp': 4340, 'ggp1î\\x94': 4341, 'cf': 4342, 'sigma': 4343, 'louis': 4344, 'mo': 4345, 'stain': 4346, 'nascent': 4347, 'chitin': 4348, 'les': 4349, 'phr1î\\x94': 4350, 'int': 4351, 'hswi': 4352, 'matin': 4353, 'migratory': 4354, 'ventralize': 4355, '304': 4356, 'ori': 4357, 'ed': 4358, 'ffinity': 4359, 'ppiase': 4360, 'seven': 4361, 'cep2': 4362, '198': 4363, 'enha': 4364, 'gap': 4365, 'p190': 4366, 'p120â\\x80¢p190': 4367, 'sr3y1': 4368, 'lam': 4369, 'discrepant': 4370, 'solved': 4371, 'd44s': 4372, 'rrm3': 4373, 'portio': 4374, 'mdc': 4375, 'phosphorylat': 4376, 'interplay': 4377, 'hsieh': 4378, 'niller': 4379, 'pupupuc': 4380, 'gpypypy': 4381, 'bromo': 4382, 'observe': 4383, 'argue': 4384, 'polalpha': 4385, 'sal': 4386, 'wing': 4387, 'imaginal': 4388, 'disc': 4389, 'gbe': 4390, 'â\\x80\\x8b6a': 4391, 'ex': 4392, '4vra': 4393, 'amphiphysins': 4394, 'page': 4395, 'phiphysin': 4396, 'alk': 4397, 'eige': 4398, 'bp2': 4399, 'rangap1': 4400, 'bacteriophage': 4401, 't4': 4402, 'appreciable': 4403, 'employing': 4404, 'mice': 4405, 'express': 4406, 'marked': 4407, 'xia': 4408, 'vpiaq': 4409, 'smac': 4410, 'diablo': 4411, 'remove': 4412, 'parallel': 4413, 'inadp215': 4414, 'hsp82': 4415, 'a97i': 4416, 'g170d': 4417, 'ca2b': 4418, 'di2diii1': 4419, 'ers': 4420, 'suc2': 4421, 'none': 4422, 'snk': 4423, 'pharose': 4424, 'hard': 4425, 'imagine': 4426, 'thermally': 4427, 'driven': 4428, 'collision': 4429, 'hsorc': 4430, 'serve': 4431, 'immobil': 4432, 'wn': 4433, 'profi': 4434, 'ephyrin': 4435, 'mayer': 4436, '1993a': 4437, 'homologue': 4438, 'pan': 4439, 'hinder': 4440, 'ps2': 4441, 'argues': 4442, 'against': 4443, 'hatanaka': 4444, 'proportion': 4445, 'tadiv': 4446, 'crude': 4447, 'densitometric': 4448, 'g0': 4449, 'rox1': 4450, 'transgenes': 4451, 'points': 4452, 'assemble': 4453, 'disassemble': 4454, 'nucleate': 4455, 'label': 4456, 'gradually': 4457, 'counteracted': 4458, 'aminobenzamide': 4459, 'llc': 4460, 'pk1': 4461, 'transfectants': 4462, 'mirk': 4463, 'hnf1î±': 4464, 'steps': 4465, 'internalization': 4466, 'enin': 4467, 'agr': 4468, 'investigations': 4469, 'joneson': 4470, 'lamarche': 4471, 'sells': 4472, 'signalling': 4473, 'snrn': 4474, 'aak1': 4475, 'sas2': 4476, 'cdc45': 4477, 'depended': 4478, 'hmr': 4479, 'islet': 4480, 'jurata': 4481, 'leaving': 4482, 'room': 4483, 'cofactors': 4484, 'scr': 4485, 'abundant': 4486, 'zinc': 4487, 'fingers': 4488, 'phorylated': 4489, 'gal11p': 4490, 'hancer': 4491, 'paire': 4492, 'predominately': 4493, 'sheet': 4494, 'consisted': 4495, 'peif': 4496, 'meif': 4497, 'rhi': 4498, 'terodimer': 4499, 'bae': 4500, 'koyano': 4501, 'nakagawa': 4502, 'uim': 4503, 'sharply': 4504, 'accordingly': 4505, '538': 4506, '638': 4507, 'ut': 4508, 'antin': 4509, 'alpha1i': 4510, 'galphai': 4511, 'galphaiq205l': 4512, 'influences': 4513, 'spindle': 4514, 'beta3': 4515, '163': 4516, 'mgts': 4517, 'paradoxically': 4518, 'thymidine': 4519, 'hyperphosphorylated': 4520, 'status': 4521, 'id1': 4522, 'lipoprotein': 4523, 'atherosclerosis': 4524, 'prone': 4525, 'proteoglycans': 4526, 'pgs': 4527, 'egress': 4528, 'crossing': 4529, 'endothelial': 4530, 'ventralizing': 4531, 'xwnt': 4532, 'processes': 4533, 'immunostain': 4534, 'representative': 4535, 'thyroid': 4536, 'redox': 4537, 'ttf': 4538, 'parts': 4539, 'pcl': 4540, 'surfa': 4541, 'ibî±': 4542, 'lys': 4543, 'bannister': 4544, 'lachner': 4545, 'tcfs': 4546, 'inhib': 4547, 'fang': 4548, '1998a': 4549, 'hwang': 4550, 'kallio': 4551, '4c': 4552, 'apccdh1': 4553, 'rgl': 4554, 'oteasome': 4555, 'myopodin': 4556, 'angstrom': 4557, 'resembles': 4558, 'histocompatibility': 4559, 'heavy': 4560, 'zag': 4561, 'obulin': 4562, 'ordered': 4563, 'ctivated': 4564, 'ggg759': 4565, '761aaa': 4566, 'a4b': 4567, 'includ': 4568, 'rabbit': 4569, 'polyclonal': 4570, 'dmgal': 4571, 'gmp': 4572, 'pnp': 4573, '80s': 4574, 'ribosomes': 4575, 'minus': 4576, 'diagram': 4577, 'col': 4578, 'injection': 4579, 'antiserum': 4580, 's1234': 4581, 'restriction': 4582, 'ku': 4583, 'complementary': 4584, 'owing': 4585, 'estimated': 4586, 'scintillation': 4587, 'counting': 4588, 'coincident': 4589, 'salivary': 4590, 'gland': 4591, 'gelatin': 4592, 'liganded': 4593, 'lass': 4594, 'translates': 4595, 'disturbance': 4596, 'p1': 4597, 'fiid': 4598, 'mar': 4599, 'tors': 4600, 'prox': 4601, 'complication': 4602, 'rhee': 4603, 'endoge': 4604, 'nm23': 4605, 'rad': 4606, 'situ': 4607, 'apoptosome': 4608, 'aî²': 4609, 'abrogating': 4610, 'substitute': 4611, 'equence': 4612, 'ca4b': 4613, 'hct': 4614, 'colorectal': 4615, 'carcinoma': 4616, 'raxin': 4617, 'hydroxytamoxifen': 4618, 'akt': 4619, 'parental': 4620, 'quence': 4621, 'severely': 4622, 'restricted': 4623, 'bxd': 4624, 'tres': 4625, 'tfe3': 4626, 'smallest': 4627, 'derivative': 4628, '8a': 4629, 'ckiepsilon': 4630, 'homeobox': 4631, 'enables': 4632, 'rieckhof': 4633, 'ch1': 4634, 'spec': 4635, 'ally': 4636, 'thioredoxin': 4637, 'cntfrî±': 4638, 'cntf': 4639, 'plexes': 4640, 'brg': 4641, 'brg1': 4642, 'hp1alpha': 4643, 'delays': 4644, 'proteinchip': 4645, 'array': 4646, 'i110': 4647, 'eu': 4648, 'limulus': 4649, 'amebocyte': 4650, 'excluded': 4651, 'calculated': 4652, 'gels': 4653, 'lrr': 4654, 'eee': 4655, 'spe': 4656, 'city': 4657, 'akap220': 4658, 'regio': 4659, 'pla2': 4660, 'parin': 4661, 'ocif': 4662, 'replacing': 4663, 'unphosphorylat': 4664, 'thiolester': 4665, 'e3î±': 4666, 'polyme': 4667, 'ized': 4668, 'igo': 4669, '214': 4670, '252': 4671, 'functioned': 4672, 'smcs': 4673, 'zipper': 4674, 'â\\x80\\x93binding': 4675, 'd43': 4676, 'snail': 4677, 'sk3': 4678, 'efficien': 4679, 'yielded': 4680, 'aff': 4681, 'karlsson': 4682, 'sutoh': 4683, 'yk2': 4684, 'pairwise': 4685, 'noncooperative': 4686, 'evaluated': 4687, 'uims': 4688, 'spatial': 4689, 'paradox': 4690, 'asp38': 4691, 'pelleting': 4692, 'assayed': 4693, 'legend': 4694, 'bunits': 4695, 'pmol': 4696, 'diva': 4697, 'tamoxifen': 4698, 'str': 4699, '293t': 4700, 'er1': 4701, 'ta1': 4702, 'tom70': 4703, 'tom37': 4704, 'om22': 4705, 'ralgefs': 4706, 'term': 4707, 'autoinhibitory': 4708, 'purine': 4709, 'spr': 4710, 'pled': 4711, 'predicts': 4712, 'boundary': 4713, 'specialized': 4714, 'scsõ\\x9b': 4715, 'mcp': 4716, 'bithorax': 4717, 'hw': 4718, 'gyps': 4719, 'nsposon': 4720, 'bell': 4721, 'pho85': 4722, 'complementation': 4723, 'pho85delta': 4724, 'kina': 4725, 'preincubated': 4726, 'dot': 4727, 'longerr': 4728, 'preferential': 4729, 'destabilizes': 4730, 'nin': 4731, 'gs': 4732, 'sequenc': 4733, 'phosphoryla': 4734, 'erin': 4735, 'elucidate': 4736, 'biological': 4737, 'attempted': 4738, 'ne': 4739, 'dlg': 4740, 'prey': 4741, 'nker': 4742, 'package': 4743, 'nhancer': 4744, 'ares': 4745, 'sh': 4746, 'widely': 4747, 'inte': 4748, 'hec': 4749, 'mumol': 4750, 'produces': 4751, 'radd': 4752, 'us': 4753, 'alternatively': 4754, 'barely': 4755, 'lamellipodia': 4756, 'sum': 4757, 'clustering': 4758, '194': 4759, 'deleted': 4760, 'e6': 4761, 'ence': 4762, 'dducin': 4763, 'goal': 4764, 'insulating': 4765, 'nucleoprotein': 4766, 'gst537c': 4767, 'diminished': 4768, 'g423a': 4769, 'y426a': 4770, 'rq428': 4771, '429aa': 4772, 'constitutive': 4773, 'leevers': 4774, 'stokoe': 4775, 'orm': 4776, 'sev': 4777, 'search': 4778, 'screened': 4779, 'stenmark': 4780, '1995a': 4781, 'shocked': 4782, 'additive': 4783, 'downward': 4784, 'shock': 4785, 'acetylates': 4786, 'lowers': 4787, 'waltzer': 4788, 'bienz': 4789, 'dvl2': 4790, '59': 4791, 'up': 4792, 'deltaef1': 4793, 'flank': 4794, 'prp19': 4795, 'hsl1': 4796, 'labelled': 4797, 'ie': 4798, 'oligomers': 4799, 'betaiii': 4800, 'eb': 4801, 'mkp': 4802, 'pulldown': 4803, 'camps': 4804, 'salt': 4805, 'lysis': 4806, 'edta': 4807, 'whi': 4808, 'kcnk9': 4809, 'karyopherin': 4810, 'beta2': 4811, 'ensuring': 4812, 'ordering': 4813, 'consequent': 4814, 'abstract': 4815, 'arki': 4816, 'elf': 4817, '1â\\x80\\x932': 4818, 'mean': 4819, 'dexamethasone': 4820, 'acetyl': 4821, 'coa': 4822, 'naked': 4823, 'butyric': 4824, 'gabaa': 4825, 'gamma2': 4826, 'exclusion': 4827, 'nonneuronal': 4828, 'property': 4829, 'metabolic': 4830, 'ntf': 4831, 'lifrî²': 4832, 'nei': 4833, 'mt': 4834, 'transformation': 4835, 'gppnhp': 4836, 'protection': 4837, 'comparelanes': 4838, '1â\\x80\\x934': 4839, '5â\\x80\\x938': 4840, '125i': 4841, 'xin': 4842, '1h': 4843, '15n': 4844, 'hsqc': 4845, 'â\\x80\\x90': 4846, 'aromatic': 4847, '151': 4848, 'slowing': 4849, 'dmpp': 4850, 'slower': 4851, 'pt': 4852, 'cys265': 4853, 'calnexin': 4854, 'saturation': 4855, 'tsg101': 4856, 'fission': 4857, 'vlp': 4858, 'exoenzyme': 4859, 'machr': 4860, 'tafii110': 4861, 'i250': 4862, 'pp125fak': 4863, 'cakbeta': 4864, 'difficult': 4865, 'pairs': 4866, 'annels': 4867, 'cdi': 4868, 'nmda': 4869, 'currents': 4870, 'recorded': 4871, 'nr1': 4872, 'nr2a': 4873, 'hek': 4874, '293': 4875, 'polarity': 4876, 'organization': 4877, 'embryo': 4878, 'adenylyl': 4879, 'cyclase': 4880, 'icant': 4881, 'defects': 4882, 'behavioral': 4883, 'livingston': 4884, 'foster': 4885, 'dent': 4886, 'cones': 4887, 'allowed': 4888, 'internalize': 4889, 'reag': 4890, 'unconjugated': 4891, 'olipids': 4892, '260': 4893, 'tetrameric': 4894, 'poz': 4895, 'bas1': 4896, 'bas2': 4897, 'especially': 4898, 'uninduced': 4899, 'sul': 4900, 'window': 4901, 'cal': 4902, 'triggers': 4903, 'tfii': 4904, 'trcp': 4905, 'ically': 4906, '848': 4907, '1279': 4908, 'cdk1': 4909, 'physiologic': 4910, 'coupling': 4911, 'mplex': 4912, 'absorption': 4913, 'coefficient': 4914, '450': 4915, 'fad': 4916, 'primer': 4917, 'arg65': 4918, 'asp319': 4919, 'urin': 4920, '3â\\x80²utr': 4921, 'affinit': 4922, 'contexts': 4923, 'encompassing': 4924, 'nanomolar': 4925, 'comprise': 4926, 'fi': 4927, 'hydroxylase': 4928, 'enkephalin': 4929, 'somatostatin': 4930, 'vasoactive': 4931, 'intestinal': 4932, 'eps15r': 4933, 'ides': 4934, 'ez': 4935, 'ns': 4936, 'notch2': 4937, 'chlorate': 4938, 'pulse': 4939, 'biotinylation': 4940, 'transported': 4941, 'invasion': 4942, 'islam': 4943, 'hazan': 4944, 'pbd': 4945, 'amplified': 4946, 'cloned': 4947, 't7': 4948, 'pcal': 4949, 'bacterial': 4950, 'vector': 4951, 'translational': 4952, 'aes': 4953, 'zf': 4954, '377': 4955, '246': 4956, '248': 4957, 'orlich': 4958, 'henklein': 4959, '1996a': 4960, 'appropriate': 4961, 'center': 4962, 'if4a': 4963, '3hs1': 4964, 'quikchange': 4965, 'kit': 4966, 'calif': 4967, 'manufacturers': 4968, 'directions': 4969, 'scenario': 4970, 'documented': 4971, 'bipartite': 4972, 'eptor': 4973, 'fgfr1': 4974, 'fibrinogen': 4975, 'ocated': 4976, 'pev': 4977, 'pon': 4978, 'ei': 4979, 'mypt': 4980, 'mat': 4981, 'dephosphorylated': 4982, 'coactivation': 4983, 'crp2': 4984, 'bxc': 4985, 'nonclathrin': 4986, 'coatomer': 4987, 'budding': 4988, 'lenhard': 4989, 'donaldson': 4990, 'klausner': 4991, 'boman': 4992, 'kahn': 4993, 'dittie': 4994, 'ooi': 4995, 'springer': 4996, 'phototransduction': 4997, 'interested': 4998, 'elucidating': 4999, 'pdz1': 5000, 'checkpoint': 5001, 'inhi': 5002, 'mad2': 5003, 'computational': 5004, 'bioregulator': 5005, 'successfully': 5006, 'sug2': 5007, 'worked': 5008, 'predict': 5009, 'tryptic': 5010, 'digestion': 5011, 'h43q': 5012, 'extensively': 5013, 'pemphigus': 5014, 'vulgaris': 5015, 'keratinocytes': 5016, 'intracytoplasmic': 5017, 'synergism': 5018, 'chip': 5019, 'appkppr': 5020, 'mpr': 5021, 'isotype': 5022, 'preparations': 5023, 'gbd': 5024, 'ther': 5025, 'sema3a': 5026, '717': 5027, '727': 5028, 'striking': 5029, 'lokeshwar': 5030, 'd315a': 5031, 'odtdeltane': 5032, 'mena': 5033, 'limitation': 5034, 'suv39h1': 5035, 'envisioned': 5036, 'hp1': 5037, 'deacetylases': 5038, '312': 5039, 'conferred': 5040, 'sensitivity': 5041, 'rows': 5042, 'accordance': 5043, '272': 5044, 'tlr': 5045, 'syndapi': 5046, 'â\\x80\\x8b5a': 5047, 'sarcoglycans': 5048, 'gt': 5049, 'purification': 5050, 'con': 5051, 'eluate': 5052, 'moiety': 5053, 'rfabg': 5054, 'identifying': 5055, 'culminated': 5056, 'discovery': 5057, 'deltan125': 5058, '125': 5059, 'bitors': 5060, 'ogenous': 5061, 'sim': 5062, 'leu167': 5063, 'leu170': 5064, 'replaced': 5065, 'alp': 5066, 'idax': 5067, 'prevention': 5068, 'filopodia': 5069, 'bfa': 5070, 'homogenate': 5071, 'mekk': 5072, 'predominant': 5073, 'evolutionary': 5074, 'wodarz': 5075, 'nusse': 5076, 'folded': 5077, 'lc': 5078, 'hc': 5079, 'dtafii230': 5080, 'indication': 5081, 'stimulus': 5082, 'pepck': 5083, 'inta': 5084, 'oe3': 5085, 's14': 5086, 'rad3': 5087, 'kâ\\x86\\x92a': 5088, 'prev': 5089, 'kâ\\x86\\x92r': 5090, 'dom': 5091, 'guanylate': 5092, 'ww': 5093, 'ppcy': 5094, 'lpsy': 5095, 'comm': 5096, 'nzyme': 5097, 'pip3': 5098, 'ol': 5099, 'erodimers': 5100, 'larg': 5101, 'undiluted': 5102, 'p4': 5103, 'occupy': 5104, 'cre2': 5105, 'nfe2': 5106, 'p18': 5107, 'convex': 5108, 'scatchard': 5109, 'ibb': 5110, 'rtin': 5111, 'î±â\\x80\\x93mediated': 5112, 'moore': 5113, 'jackman': 5114, 'kubota': 5115, 'den': 5116, 'elzen': 5117, 'hagting': 5118, 'pines': 5119, 'ipids': 5120, 'activ': 5121, '351muthuswamy': 5122, 'ors': 5123, 'substantial': 5124, 'fadd': 5125, 'included': 5126, 'transfections': 5127, 'myogenic': 5128, 'nonidet': 5129, '40â\\x80\\x93containing': 5130, '000': 5131, 'detergent': 5132, 'reinacher': 5133, 'schick': 5134, 'gumbiner': 5135, 'subjected': 5136, 'consecutive': 5137, 'precipitations': 5138, '30â\\x80²': 5139, 'incubations': 5140, 'ã\\x97': 5141, 'reg': 5142, 'pld': 5143, 'arf': 5144, 'fully': 5145, '1805': 5146, '1891': 5147, 'acetyltransferase': 5148, 'caf': 5149, '2058': 5150, '2163': 5151, 'advantage': 5152, 'easily': 5153, 'achieved': 5154, 'detect': 5155, 'â\\x80\\x90binding': 5156, 'mode': 5157, 'c2aâ\\x80\\x90domain': 5158, 'mn2': 5159, 'â\\x80\\x90induced': 5160, 'relaxation': 5161, 'siteâ\\x80\\x90directed': 5162, 'monitored': 5163, 'glycosylation': 5164, 'wg': 5165, 'oters': 5166, 'nases': 5167, 'palindrome': 5168, 'ase': 5169, 'substratehrs': 5170, '222': 5171, '777': 5172, 'dahiya': 5173, '40s': 5174, 'etitively': 5175, 'isofor': 5176, 'mut': 5177, '6e': 5178, 'inacti': 5179, 'carg': 5180, 'cts660a': 5181, 'pbct': 5182, 'whil': 5183, 'f35': 5184, 'hep': 5185, 'iiaï\\x84': 5186, 'lk': 5187, 'h2o2': 5188, 'bso': 5189, 'depleted': 5190, 'uclein': 5191, 'robust': 5192, 'oocytes': 5193, 'depends': 5194, 'wher': 5195, 'snaps': 5196, 'adapters': 5197, 'iq': 5198, 'termination': 5199, 'photoresponse': 5200, 'archael': 5201, 'ortholog': 5202, 'guide': 5203, 'structur': 5204, 'redundantly': 5205, 'minimum': 5206, 'stretches': 5207, 'ankyr': 5208, 'ank1': 5209, 'ptins': 5210, '875': 5211, '884': 5212, 'detection': 5213, '27a': 5214, 'nucleation': 5215, '27b': 5216, '27c': 5217, 'wasp': 5218, 'scar': 5219, 'wa': 5220, 'sion': 5221, 'positioned': 5222, 'pkci': 5223, 'unwinding': 5224, 'slp': 5225, 'rrm': 5226, '175': 5227, '257': 5228, 'output': 5229, 'pfam': 5230, 'www': 5231, 'sanger': 5232, 'uk': 5233, 'measurement': 5234, 'transgenic': 5235, 'do10': 5236, 'amyl': 5237, 'docking': 5238, 's577a': 5239, 'lateral': 5240, 'dorsally': 5241, 'sog': 5242, 'diffusion': 5243, 'tld': 5244, 'holley': 5245, 'sulfates': 5246, 'a2b': 5247, 'cold': 5248, 'polypyrimidinic': 5249, 'ucuu': 5250, 'tifs': 5251, 'ass': 5252, 'vaca': 5253, 'drm': 5254, '931': 5255, 'ptor': 5256, '27632': 5257, 'sdf': 5258, '1alpha': 5259, 'neurons': 5260, 'posttranslational': 5261, 'lys4': 5262, 'artk4q': 5263, 'shared': 5264, 'lys9': 5265, 'numerous': 5266, 'pkn1': 5267, 'rokî±': 5268, 'rock': 5269, 'mdia1': 5270, '89': 5271, '91': 5272, 'a63v': 5273, 'k70t': 5274, 'dc': 5275, 'averaging': 5276, 'follows': 5277, 'ript': 5278, 'she3p': 5279, 'she1p': 5280, 'myo4p': 5281, 'munchow': 5282, 'bohl': 5283, 'long': 5284, 'vale': 5285, 'deacetylase': 5286, 'nap': 5287, 'bl': 5288, 'conf': 5289, 'ebna3c': 5290, 'cox': 5291, 'contraction': 5292, 'constituents': 5293, 'lees': 5294, 'helfman': 5295, 'gggtgg': 5296, 'pten': 5297, '2ba': 5298, 'apoe2': 5299, 'comes': 5300, 'cher': 5301, 'htsrc': 5302, 'redirected': 5303, 'licensing': 5304, 'whilst': 5305, 'unshaded': 5306, 'denotes': 5307, 'hydroxylapatite': 5308, 'recover': 5309, 'ucture': 5310, 'sorf': 5311, 'covers': 5312, 'aug': 5313, 'codons': 5314, 'materials': 5315, 'ps': 5316, 'soon': 5317, 'mothers': 5318, 'restrictive': 5319, 'sizable': 5320, 'und': 5321, 'cord': 5322, '35kda': 5323, 'polypyrimidine': 5324, 'tetrahelical': 5325, 'vii': 5326, 'ir': 5327, 'edd4': 5328, 'last': 5329, '157': 5330, 'crescents': 5331, 'teto': 5332, 'proapoptotic': 5333, 'hid': 5334, 'stat5': 5335, 'gab1': 5336, 'c3g': 5337, 'exert': 5338, 'fro': 5339, 'f4e': 5340, 'disintegrin': 5341, 'gme': 5342, 'cosediments': 5343, 'aurora2': 5344, 'aik': 5345, 'woul': 5346, 'kh': 5347, 'dimerize': 5348, 'bzip': 5349, 'dedifferentiated': 5350, 'fibroblast': 5351, 'mnbk': 5352, 'dyrk1a': 5353, 'supplementation': 5354, 'occludin': 5355, 'm3': 5356, 'minimal': 5357, 'dc42': 5358, 'autoradiographic': 5359, 'axons': 5360, 'bodies': 5361, 'synapses': 5362, '23a': 5363, '22c11': 5364, 'hoxd4': 5365, 'pa': 5366, 'mh': 5367, 'caudate': 5368, 'atomic': 5369, 'modeling': 5370, 'concentrated': 5371, 'evl': 5372, 'transmission': 5373, 'wary': 5374, 'mainiero': 5375, 'angiogenesis': 5376, 'cd36': 5377, 'ligation': 5378, 'coreceptors': 5379, 'proangiogenic': 5380, 'morphoregulatory': 5381, 'guo': 5382, 'iruela': 5383, 'arispe': 5384, 'incubating': 5385, 'cotransfected': 5386, 'permeable': 5387, 'immunoprecipitates': 5388, 'interac': 5389, 'strict': 5390, 'controlled': 5391, 'combinatorial': 5392, 'preferred': 5393, 'relation': 5394, 'dy': 5395, 'dr5': 5396, 'cii': 5397, 'liquid': 5398, 'lmyrin': 5399, '20â°c': 5400, '4â°c': 5401, 'competi': 5402, 'dialysis': 5403, 'rum': 5404, 'dâ\\x89\\x88': 5405, 'homer': 5406, 'metabotropic': 5407, 'simple': 5408, 'dep': 5409, 'ent': 5410, 'ind': 5411, 'purifie': 5412, '05': 5413, 'syn': 5414, 'pde': 5415, 'unstable': 5416, 'unless': 5417, 'fall': 5418, 'cep5': 5419, 'fivefold': 5420, 'pbx2': 5421, 'value': 5422, 'ith': 5423, 'submicromolar': 5424, 'haas': 5425, 'siepmann': 5426, 'htcf': 5427, 'ocessivity': 5428, 'gata': 5429, 'cla4': 5430, 'experimentally': 5431, 'clb2': 5432, 'onectin': 5433, '100x': 5434, 'reconstitution': 5435, 'pms': 5436, 'fibers': 5437, 'overlappi': 5438, 'aplysia': 5439, 'hdlg': 5440, 'kap220': 5441, 'if4f': 5442, 'ubf': 5443, 'rdna': 5444, 'metaphase': 5445, 'uence': 5446, 'rpa': 5447, 'cofa': 5448, 'alleviate': 5449, 'agulnik': 5450, 'chan': 5451, 'jaffe': 5452, 'capovilla': 5453, 'botas': 5454, 'mann': 5455, 'homeoprotein': 5456, '085': 5457, 'premixed': 5458, '10ã\\x97': 5459, 'immediately': 5460, 'except': 5461, 'ser45': 5462, 'close': 5463, 'genetically': 5464, 'val': 5465, 'reduces': 5466, 'fwd1': 5467, 'atpî³s': 5468, 'sullivan': 5469, 'dependant': 5470, 'phosphate': 5471, 'information': 5472, 'concerning': 5473, 'sustained': 5474, 'ischemia': 5475, 'vri': 5476, 'sp30': 5477, 'myocytes': 5478, 'lpha': 5479, 'pinpoint': 5480, 'technique': 5481, 'maps': 5482, 'sequen': 5483, 'pds1': 5484, 'gaga': 5485, 'engineered': 5486, 'bc': 5487, 'fg': 5488, '109': 5489, '126': 5490, 'development': 5491, 'fixed': 5492, 'laying': 5493, 'ngre': 5494, 'acs': 5495, 'gd': 5496, '3î²': 5497, 'giantin': 5498, 'pnpp': 5499, 'reached': 5500, 'stoichiometry': 5501, 'gst547c': 5502, 'tpa': 5503, '393': 5504, '738': 5505, '309': 5506, 'bag4': 5507, 'vldl': 5508, 'raised': 5509, 'temperatures': 5510, 'improper': 5511, 's223f': 5512, 'exceeded': 5513, 'reflected': 5514, 'augmentation': 5515, 'quantity': 5516, 'rpl23a': 5517, 'appeared': 5518, 'termina': 5519, 'radioactivity': 5520, 'trypsin': 5521, '86': 5522, '223': 5523, 'compromised': 5524, 'cr6': 5525, 'xpc': 5526, 'energetically': 5527, 'unfavorable': 5528, 'contributing': 5529, 'insertion': 5530, 'hrg': 5531, 'diminishes': 5532, 'ceptor': 5533, 'dr1': 5534, 'depicting': 5535, 'capping': 5536, 'quantified': 5537, 'au5': 5538, 'asp49': 5539, 'isosteric': 5540, 'asn': 5541, 'if2': 5542, 'ly341495': 5543, 'meisterernst': 5544, '88': 5545, 'interacti': 5546, '5beta': 5547, 'rab5gtp': 5548, 'inactivation': 5549, 'x1': 5550, 'psd95î²': 5551, 'mononucleosome': 5552, 'terminu': 5553, 'ralgds': 5554, 'precoupled': 5555, 'gluthathione': 5556, 'isolate': 5557, 'me': 5558, 'arrest': 5559, 'interfered': 5560, 'abu': 5561, 'shaar': 5562, 'berthelsen': 5563, 'ynactin': 5564, 'stretch': 5565, 'bilayer': 5566, 'anchor': 5567, 'rubrum': 5568, 'y235': 5569, 'm239': 5570, '69': 5571, 'nicotinamide': 5572, 'discrimination': 5573, 'ncs': 5574, '3210': 5575, 'bipar': 5576, 'androgen': 5577, 'ubx': 5578, \"tcf's\": 5579, 'fractionation': 5580, 'fractions': 5581, 'sf3a': 5582, 'sf3b': 5583, 'relati': 5584, 'contention': 5585, 'profile': 5586, 'immune': 5587, 'recovered': 5588, 's11': 5589, 'hmm': 5590, 'myosi': 5591, 'sliding': 5592, 'toy': 5593, 'precluded': 5594, 'determination': 5595, 'speci': 5596, 'lly': 5597, 'xen': 5598, 'genin': 5599, 'appendage': 5600, 'primordia': 5601, 'confocal': 5602, 'mosaic': 5603, 'filamentou': 5604, 'highlights': 5605, 'rpl': 5606, 'eluted': 5607, 'tris': 5608, 'nonreducing': 5609, 'alleviates': 5610, 'derepressed': 5611, 'ecq5': 5612, 'qe': 5613, 'needed': 5614, 'gtpgammas': 5615, 'msl2': 5616, 'chosen': 5617, 'flies': 5618, 'woolfson': 5619, 'alber': 5620, '96': 5621, '172': 5622, 'twoâ\\x80\\x90stranded': 5623, 'î±â\\x80\\x90helical': 5624, 'coiledâ\\x80\\x90coil': 5625, 'noncovalentl': 5626, 'thioester': 5627, 'isopeptide': 5628, 'bond': 5629, 'cortic': 5630, 'dyna': 5631, 'dbt': 5632, 'inducer': 5633, 'raising': 5634, 'trpm5': 5635, 'agonistic': 5636, 'igg3': 5637, 'apo1': 5638, 'trauth': 5639, 'yonehara': 5640, 'medi': 5641, 'empty': 5642, 'narrow': 5643, '204': 5644, 'dor': 5645, 'net1': 5646, 'incomplete': 5647, 'p50csk': 5648, 'fak1': 5649, 'ptk': 5650, 'spcdk9': 5651, 'pch1': 5652, 'mlc': 5653, 'myf': 5654, 'acetylases': 5655, 'relief': 5656, 'guk': 5657, 'maguk': 5658, 'synapsins': 5659, 'experimen': 5660, 'rbp26': 5661, 'vity': 5662, 'regulating': 5663, 'pause': 5664, 'gcn': 5665, 'p300deltasrc': 5666, 's6k': 5667, 'geldanamycin': 5668, 'cochaperone': 5669, '85': 5670, 'regî±': 5671, 'â\\x84«': 5672, 'donut': 5673, 'shaped': 5674, 'heptamer': 5675, 'knowlton': 5676, 'electron': 5677, 'microscopic': 5678, 'images': 5679, 'centered': 5680, 'initiated': 5681, \"gene's\": 5682, 'supersedes': 5683, 'colocalized': 5684, 'oux': 5685, 'k4': 5686, 'transducer': 5687, 'decided': 5688, 'suspended': 5689, 'sî\\x94ta': 5690, 'altogether': 5691, 'largely': 5692, 'ddp1': 5693, 'ssdna': 5694, 'behaves': 5695, 'regard': 5696, 'eac': 5697, 'autophosphorylation': 5698, 'absolute': 5699, 'partner': 5700, 'amphiphysin': 5701, 'bar': 5702, 'tubulation': 5703, 'noncontact': 5704, 'aggregated': 5705, '1234': 5706, 'indiscriminately': 5707, 'solid': 5708, 'organisms': 5709, 'med': 5710, 'rad3p': 5711, 'processivity': 5712, 'polymerases': 5713, 'cytoso': 5714, 'cassettes': 5715, 'trinucleotides': 5716, 'hydrolyze': 5717, 'tap': 5718, 'ksr': 5719, 'relocalized': 5720, 'michaudet': 5721, 'denouel': 5722, 'galyet': 5723, 'yuet': 5724, 'stewartet': 5725, 'attributable': 5726, 'rhp1': 5727, 'retinoid': 5728, 'pkm': 5729, '221': 5730, 'k221w': 5731, 'precisely': 5732, 'lrp6': 5733, '540': 5734, '514': 5735, 'transcript': 5736, 'dephosphorylates': 5737, 'exogenous': 5738, 'regular': 5739, 'appearance': 5740, 'crossbands': 5741, 'arrays': 5742, 'slanted': 5743, 'straight': 5744, 'random': 5745}\n"
     ]
    }
   ],
   "source": [
    "tokenizer = Tokenizer()\n",
    "tokenizer.fit_on_texts(vocab_txt)\n",
    "print(\"The document count\", tokenizer.document_count)\n",
    "print(\"The count of words\", tokenizer.word_counts)\n",
    "print(\"The word index\", tokenizer.word_index)"
   ]
  },
  {
   "cell_type": "code",
   "execution_count": 28,
   "metadata": {
    "id": "bNvR481KnDn6"
   },
   "outputs": [],
   "source": [
    "n_words = len(tokenizer.word_index.keys())"
   ]
  },
  {
   "cell_type": "code",
   "execution_count": 29,
   "metadata": {
    "colab": {
     "base_uri": "https://localhost:8080/"
    },
    "id": "hfh3-YBcnafm",
    "outputId": "fe38ca5d-8a2e-4401-e023-6c0053a843cc"
   },
   "outputs": [
    {
     "data": {
      "text/plain": [
       "5745"
      ]
     },
     "execution_count": 29,
     "metadata": {},
     "output_type": "execute_result"
    }
   ],
   "source": [
    "n_words"
   ]
  },
  {
   "cell_type": "code",
   "execution_count": 30,
   "metadata": {
    "colab": {
     "base_uri": "https://localhost:8080/"
    },
    "id": "ZbCH8eY4rWeA",
    "outputId": "38979b3e-da01-40b7-d920-459d212190f9"
   },
   "outputs": [
    {
     "data": {
      "text/plain": [
       "1886"
      ]
     },
     "execution_count": 30,
     "metadata": {},
     "output_type": "execute_result"
    }
   ],
   "source": [
    "len(train_texts)"
   ]
  },
  {
   "cell_type": "markdown",
   "metadata": {
    "id": "ficlztQjaUVa"
   },
   "source": [
    "###X & Y Prep"
   ]
  },
  {
   "cell_type": "code",
   "execution_count": 31,
   "metadata": {
    "id": "DP2TPmt4bjKd"
   },
   "outputs": [],
   "source": [
    "\n",
    "from keras.preprocessing.sequence import pad_sequences\n",
    "from keras.utils import to_categorical\n",
    "\n",
    "def getXYFromSentences(txts, lbls):\n",
    "  sequences = tokenizer.texts_to_sequences(txts)\n",
    "  X = pad_sequences(maxlen=max_len, sequences=sequences, padding=\"post\", truncating=\"post\")\n",
    "  # X = tokenizer.sequences_to_matrix(X)\n",
    "  y = np.array(lbls)\n",
    "  # y = np.array([to_categorical(i, num_classes=2) for i in y])\n",
    "  print(X.shape)\n",
    "  print(X[0:3])\n",
    "  print(y.shape)\n",
    "  print(y[0:3])\n",
    "  return X, y"
   ]
  },
  {
   "cell_type": "code",
   "execution_count": 32,
   "metadata": {
    "colab": {
     "base_uri": "https://localhost:8080/"
    },
    "id": "ZOBpJZHb3aYe",
    "outputId": "214d2867-2d21-4f68-a528-25dac32046dc"
   },
   "outputs": [
    {
     "name": "stdout",
     "output_type": "stream",
     "text": [
      "(1886, 128)\n",
      "[[   7    2  199    3    1   10  834 2158   12    4  164  402 1254 2690\n",
      "   469    5    1   10    4  276  242  203  318    0    0    0    0    0\n",
      "     0    0    0    0    0    0    0    0    0    0    0    0    0    0\n",
      "     0    0    0    0    0    0    0    0    0    0    0    0    0    0\n",
      "     0    0    0    0    0    0    0    0    0    0    0    0    0    0\n",
      "     0    0    0    0    0    0    0    0    0    0    0    0    0    0\n",
      "     0    0    0    0    0    0    0    0    0    0    0    0    0    0\n",
      "     0    0    0    0    0    0    0    0    0    0    0    0    0    0\n",
      "     0    0    0    0    0    0    0    0    0    0    0    0    0    0\n",
      "     0    0]\n",
      " [  34   58  835  256    8   19   31   11  747    4    6    3    1   81\n",
      "    16 2159  200   90   19   25  403    4   41  747    4    9  298  155\n",
      "   111  682    9 3848  176    1    8   11  204  205  277 3849  205 1468\n",
      "  3850    3 3851 3852   50    0    0    0    0    0    0    0    0    0\n",
      "     0    0    0    0    0    0    0    0    0    0    0    0    0    0\n",
      "     0    0    0    0    0    0    0    0    0    0    0    0    0    0\n",
      "     0    0    0    0    0    0    0    0    0    0    0    0    0    0\n",
      "     0    0    0    0    0    0    0    0    0    0    0    0    0    0\n",
      "     0    0    0    0    0    0    0    0    0    0    0    0    0    0\n",
      "     0    0]\n",
      " [ 278  306    1   29   12    4   37 1744  146    5    1 1469  229   16\n",
      "   748   30   99    9   66   67  319    1   11   22  264    0    0    0\n",
      "     0    0    0    0    0    0    0    0    0    0    0    0    0    0\n",
      "     0    0    0    0    0    0    0    0    0    0    0    0    0    0\n",
      "     0    0    0    0    0    0    0    0    0    0    0    0    0    0\n",
      "     0    0    0    0    0    0    0    0    0    0    0    0    0    0\n",
      "     0    0    0    0    0    0    0    0    0    0    0    0    0    0\n",
      "     0    0    0    0    0    0    0    0    0    0    0    0    0    0\n",
      "     0    0    0    0    0    0    0    0    0    0    0    0    0    0\n",
      "     0    0]]\n",
      "(1886,)\n",
      "[1 1 1]\n"
     ]
    }
   ],
   "source": [
    "X_train, y_train = getXYFromSentences(train_texts, train_labels)"
   ]
  },
  {
   "cell_type": "code",
   "execution_count": 33,
   "metadata": {
    "colab": {
     "base_uri": "https://localhost:8080/"
    },
    "id": "Uqx7WZ5Mlu1C",
    "outputId": "77d7ccbf-6e3d-4af5-bd2f-f21d09b1da79"
   },
   "outputs": [
    {
     "name": "stdout",
     "output_type": "stream",
     "text": [
      "(236, 128)\n",
      "[[ 140   43  403    8    2 3777   53 2079  998    6    3    1    5    1\n",
      "    19    4    9 5552    7    2  199    3  113    0    0    0    0    0\n",
      "     0    0    0    0    0    0    0    0    0    0    0    0    0    0\n",
      "     0    0    0    0    0    0    0    0    0    0    0    0    0    0\n",
      "     0    0    0    0    0    0    0    0    0    0    0    0    0    0\n",
      "     0    0    0    0    0    0    0    0    0    0    0    0    0    0\n",
      "     0    0    0    0    0    0    0    0    0    0    0    0    0    0\n",
      "     0    0    0    0    0    0    0    0    0    0    0    0    0    0\n",
      "     0    0    0    0    0    0    0    0    0    0    0    0    0    0\n",
      "     0    0]\n",
      " [  27  209 1728    2    1   52   21   46    2   35 5553    1    3 1712\n",
      "    40 3829    4 3830    9  565    8 1462 1768    6    4 2602   36 3831\n",
      "    15   14  107    0    0    0    0    0    0    0    0    0    0    0\n",
      "     0    0    0    0    0    0    0    0    0    0    0    0    0    0\n",
      "     0    0    0    0    0    0    0    0    0    0    0    0    0    0\n",
      "     0    0    0    0    0    0    0    0    0    0    0    0    0    0\n",
      "     0    0    0    0    0    0    0    0    0    0    0    0    0    0\n",
      "     0    0    0    0    0    0    0    0    0    0    0    0    0    0\n",
      "     0    0    0    0    0    0    0    0    0    0    0    0    0    0\n",
      "     0    0]\n",
      " [1665 1427 1632    6    3    1    1  142    0    0    0    0    0    0\n",
      "     0    0    0    0    0    0    0    0    0    0    0    0    0    0\n",
      "     0    0    0    0    0    0    0    0    0    0    0    0    0    0\n",
      "     0    0    0    0    0    0    0    0    0    0    0    0    0    0\n",
      "     0    0    0    0    0    0    0    0    0    0    0    0    0    0\n",
      "     0    0    0    0    0    0    0    0    0    0    0    0    0    0\n",
      "     0    0    0    0    0    0    0    0    0    0    0    0    0    0\n",
      "     0    0    0    0    0    0    0    0    0    0    0    0    0    0\n",
      "     0    0    0    0    0    0    0    0    0    0    0    0    0    0\n",
      "     0    0]]\n",
      "(236,)\n",
      "[1 1 1]\n"
     ]
    }
   ],
   "source": [
    "X_dev, y_dev = getXYFromSentences(dev_texts, dev_labels)"
   ]
  },
  {
   "cell_type": "code",
   "execution_count": 34,
   "metadata": {
    "colab": {
     "base_uri": "https://localhost:8080/"
    },
    "id": "vO2Ylt52cbpD",
    "outputId": "9d81e2b6-0d41-444c-acd9-d621910bc040"
   },
   "outputs": [
    {
     "name": "stdout",
     "output_type": "stream",
     "text": [
      "(236, 128)\n",
      "[[   2   92  137  273    8  276 5376  180  915    2    6    3    1    1\n",
      "  5377   18  449  105 5378    3 3598 5379   26  175   72 1179  397  181\n",
      "    24 2387    3 5380 5381  158 5382   15   14  101 5383 5384   15   14\n",
      "   107    0    0    0    0    0    0    0    0    0    0    0    0    0\n",
      "     0    0    0    0    0    0    0    0    0    0    0    0    0    0\n",
      "     0    0    0    0    0    0    0    0    0    0    0    0    0    0\n",
      "     0    0    0    0    0    0    0    0    0    0    0    0    0    0\n",
      "     0    0    0    0    0    0    0    0    0    0    0    0    0    0\n",
      "     0    0    0    0    0    0    0    0    0    0    0    0    0    0\n",
      "     0    0]\n",
      " [   7  192   34  120  436    8 1819  577   24    9   79  788 1325  115\n",
      "  1151 1031 1820   45    1    4   17    4    1   24  135   24  226   97\n",
      "   709   12    4  141  316    0    0    0    0    0    0    0    0    0\n",
      "     0    0    0    0    0    0    0    0    0    0    0    0    0    0\n",
      "     0    0    0    0    0    0    0    0    0    0    0    0    0    0\n",
      "     0    0    0    0    0    0    0    0    0    0    0    0    0    0\n",
      "     0    0    0    0    0    0    0    0    0    0    0    0    0    0\n",
      "     0    0    0    0    0    0    0    0    0    0    0    0    0    0\n",
      "     0    0    0    0    0    0    0    0    0    0    0    0    0    0\n",
      "     0    0]\n",
      " [  69  407    3    2    1    6   51    3    1  889    2   52   63  142\n",
      "     5  280   25    0    0    0    0    0    0    0    0    0    0    0\n",
      "     0    0    0    0    0    0    0    0    0    0    0    0    0    0\n",
      "     0    0    0    0    0    0    0    0    0    0    0    0    0    0\n",
      "     0    0    0    0    0    0    0    0    0    0    0    0    0    0\n",
      "     0    0    0    0    0    0    0    0    0    0    0    0    0    0\n",
      "     0    0    0    0    0    0    0    0    0    0    0    0    0    0\n",
      "     0    0    0    0    0    0    0    0    0    0    0    0    0    0\n",
      "     0    0    0    0    0    0    0    0    0    0    0    0    0    0\n",
      "     0    0]]\n",
      "(236,)\n",
      "[1 1 1]\n"
     ]
    }
   ],
   "source": [
    "X_test, y_test = getXYFromSentences(test_texts, test_labels)"
   ]
  },
  {
   "cell_type": "markdown",
   "metadata": {
    "id": "JmXgVQiFQVnN"
   },
   "source": [
    "##Setup the LSTM"
   ]
  },
  {
   "cell_type": "code",
   "execution_count": 35,
   "metadata": {
    "id": "ET2AHFutQNPY"
   },
   "outputs": [],
   "source": [
    "from keras import callbacks\n",
    "from keras.models import Model, Input, model_from_json\n",
    "from keras.layers import LSTM, Embedding, Dense, TimeDistributed, Dropout, Bidirectional\n",
    "from keras.optimizers import RMSprop"
   ]
  },
  {
   "cell_type": "code",
   "execution_count": 36,
   "metadata": {
    "id": "YHRrG7r7Qs-P"
   },
   "outputs": [],
   "source": [
    "def create_model():\n",
    "  input = Input(shape=(max_len,))\n",
    "  #in the line below --> laurance set the input_length = max_len-1 (NLP in TF Week4)\n",
    "  model = Embedding(input_dim=n_words, output_dim=50, input_length=max_len)(input)\n",
    "  model = Dropout(rate=0.1)(model)\n",
    "  model = Bidirectional(LSTM(units=100, return_sequences=False, recurrent_dropout=0.1))(model)\n",
    "  model = Dropout(rate=0.25)(model)\n",
    "  model = Dense(512, activation='relu')(model)  \n",
    "  model = Dropout(rate=0.25)(model)\n",
    "  out = Dense(1,  activation='sigmoid')(model)  # segmoid output layer (binary classification)\n",
    "  \n",
    "  return Model(input, out)"
   ]
  },
  {
   "cell_type": "code",
   "execution_count": 37,
   "metadata": {
    "colab": {
     "base_uri": "https://localhost:8080/"
    },
    "id": "v3oJQi__RZnw",
    "outputId": "c0c53f2a-22c9-4803-ffbf-37dd3154fcaf"
   },
   "outputs": [
    {
     "name": "stdout",
     "output_type": "stream",
     "text": [
      "WARNING:tensorflow:From /tensorflow-1.15.2/python3.7/tensorflow_core/python/ops/resource_variable_ops.py:1630: calling BaseResourceVariable.__init__ (from tensorflow.python.ops.resource_variable_ops) with constraint is deprecated and will be removed in a future version.\n",
      "Instructions for updating:\n",
      "If using Keras pass *_constraint arguments to layers.\n"
     ]
    }
   ],
   "source": [
    "model = create_model()\n",
    "#model = load_model()"
   ]
  },
  {
   "cell_type": "code",
   "execution_count": 38,
   "metadata": {
    "colab": {
     "base_uri": "https://localhost:8080/"
    },
    "id": "tmgovNJTbxBO",
    "outputId": "6e5402be-341a-4f26-d08f-59bd321cd460"
   },
   "outputs": [
    {
     "name": "stdout",
     "output_type": "stream",
     "text": [
      "Model: \"model_1\"\n",
      "_________________________________________________________________\n",
      "Layer (type)                 Output Shape              Param #   \n",
      "=================================================================\n",
      "input_1 (InputLayer)         (None, 128)               0         \n",
      "_________________________________________________________________\n",
      "embedding_1 (Embedding)      (None, 128, 50)           287250    \n",
      "_________________________________________________________________\n",
      "dropout_1 (Dropout)          (None, 128, 50)           0         \n",
      "_________________________________________________________________\n",
      "bidirectional_1 (Bidirection (None, 200)               120800    \n",
      "_________________________________________________________________\n",
      "dropout_2 (Dropout)          (None, 200)               0         \n",
      "_________________________________________________________________\n",
      "dense_1 (Dense)              (None, 512)               102912    \n",
      "_________________________________________________________________\n",
      "dropout_3 (Dropout)          (None, 512)               0         \n",
      "_________________________________________________________________\n",
      "dense_2 (Dense)              (None, 1)                 513       \n",
      "=================================================================\n",
      "Total params: 511,475\n",
      "Trainable params: 511,475\n",
      "Non-trainable params: 0\n",
      "_________________________________________________________________\n"
     ]
    }
   ],
   "source": [
    "model.summary()"
   ]
  },
  {
   "cell_type": "code",
   "execution_count": 39,
   "metadata": {
    "id": "eaCVxITis-M0"
   },
   "outputs": [],
   "source": [
    "from tensorflow.keras.losses import BinaryCrossentropy"
   ]
  },
  {
   "cell_type": "code",
   "execution_count": 40,
   "metadata": {
    "colab": {
     "base_uri": "https://localhost:8080/"
    },
    "id": "qqtT84Q3RvEa",
    "outputId": "75176ab3-37d3-4d71-9e79-d4c31c14c6ac"
   },
   "outputs": [
    {
     "name": "stdout",
     "output_type": "stream",
     "text": [
      "WARNING:tensorflow:From /tensorflow-1.15.2/python3.7/tensorflow_core/python/ops/nn_impl.py:183: where (from tensorflow.python.ops.array_ops) is deprecated and will be removed in a future version.\n",
      "Instructions for updating:\n",
      "Use tf.where in 2.0, which has the same broadcast rule as np.where\n"
     ]
    }
   ],
   "source": [
    "model.compile(optimizer=RMSprop(),loss=BinaryCrossentropy(reduction='sum_over_batch_size'), metrics=[\"accuracy\"])\n",
    "# model.compile(optimizer=RMSprop(),loss=BinaryCrossentropy(reduction='none'), metrics=[\"accuracy\"])\n",
    "# model.compile(optimizer=RMSprop(),loss=\"mse\", metrics=[\"accuracy\"])"
   ]
  },
  {
   "cell_type": "code",
   "execution_count": 41,
   "metadata": {
    "id": "Tuq9TL_hhba9"
   },
   "outputs": [],
   "source": [
    "class myCallback(callbacks.Callback):\n",
    "  def on_epoch_end(self, epoch, logs={}):\n",
    "    if(logs.get('accuracy')>=0.989):\n",
    "      print(\"\\nReached 98.9% accuracy so cancelling training!\")\n",
    "      self.model.stop_training = True\n",
    " "
   ]
  },
  {
   "cell_type": "code",
   "execution_count": 42,
   "metadata": {
    "colab": {
     "base_uri": "https://localhost:8080/"
    },
    "id": "87AaEwD8RyHe",
    "outputId": "f64ee80f-1f4a-47c5-c83e-455073781591"
   },
   "outputs": [
    {
     "name": "stdout",
     "output_type": "stream",
     "text": [
      "WARNING:tensorflow:From /tensorflow-1.15.2/python3.7/keras/backend/tensorflow_backend.py:422: The name tf.global_variables is deprecated. Please use tf.compat.v1.global_variables instead.\n",
      "\n",
      "Train on 1886 samples, validate on 236 samples\n",
      "Epoch 1/10\n",
      "1886/1886 [==============================] - 29s 15ms/step - loss: 0.2508 - accuracy: 0.9305 - val_loss: 0.1817 - val_accuracy: 0.9661\n",
      "Epoch 2/10\n",
      "1886/1886 [==============================] - 15s 8ms/step - loss: 0.1812 - accuracy: 0.9449 - val_loss: 0.1654 - val_accuracy: 0.9576\n",
      "Epoch 3/10\n",
      "1886/1886 [==============================] - 15s 8ms/step - loss: 0.1334 - accuracy: 0.9517 - val_loss: 0.1568 - val_accuracy: 0.9576\n",
      "Epoch 4/10\n",
      "1886/1886 [==============================] - 15s 8ms/step - loss: 0.1101 - accuracy: 0.9581 - val_loss: 0.1911 - val_accuracy: 0.9492\n",
      "Epoch 5/10\n",
      "1886/1886 [==============================] - 15s 8ms/step - loss: 0.0940 - accuracy: 0.9639 - val_loss: 0.1835 - val_accuracy: 0.9407\n",
      "Epoch 6/10\n",
      "1886/1886 [==============================] - 17s 9ms/step - loss: 0.0832 - accuracy: 0.9687 - val_loss: 0.2197 - val_accuracy: 0.9195\n",
      "Epoch 7/10\n",
      "1886/1886 [==============================] - 15s 8ms/step - loss: 0.0737 - accuracy: 0.9724 - val_loss: 0.2277 - val_accuracy: 0.9280\n",
      "Epoch 8/10\n",
      "1886/1886 [==============================] - 15s 8ms/step - loss: 0.0736 - accuracy: 0.9745 - val_loss: 0.2101 - val_accuracy: 0.9449\n",
      "Epoch 9/10\n",
      "1886/1886 [==============================] - 15s 8ms/step - loss: 0.0606 - accuracy: 0.9740 - val_loss: 0.2517 - val_accuracy: 0.9449\n",
      "Epoch 10/10\n",
      "1886/1886 [==============================] - 15s 8ms/step - loss: 0.0541 - accuracy: 0.9767 - val_loss: 0.2424 - val_accuracy: 0.9322\n"
     ]
    }
   ],
   "source": [
    "history = model.fit(X_train, y_train, validation_data=(X_dev, y_dev), shuffle=True, batch_size=32, epochs=10, verbose=1, callbacks=[myCallback()])"
   ]
  },
  {
   "cell_type": "code",
   "execution_count": 43,
   "metadata": {
    "colab": {
     "base_uri": "https://localhost:8080/"
    },
    "id": "9_9TMZn28J7f",
    "outputId": "b81e643f-68c7-4cd0-8881-a0b839421177"
   },
   "outputs": [
    {
     "name": "stdout",
     "output_type": "stream",
     "text": [
      "Saved model to disk\n"
     ]
    }
   ],
   "source": [
    "save_model(model)"
   ]
  },
  {
   "cell_type": "code",
   "execution_count": 44,
   "metadata": {
    "id": "-74jERJeS6QM"
   },
   "outputs": [],
   "source": [
    "hist = pd.DataFrame(history.history)"
   ]
  },
  {
   "cell_type": "code",
   "execution_count": 45,
   "metadata": {
    "id": "3-ERn4Rc9J4_"
   },
   "outputs": [],
   "source": [
    "saveDataFrameToCSV(hist, training_history_csv, append=True)\n",
    " "
   ]
  },
  {
   "cell_type": "code",
   "execution_count": 46,
   "metadata": {
    "colab": {
     "base_uri": "https://localhost:8080/",
     "height": 717
    },
    "id": "MwJX2aS2W8Tf",
    "outputId": "f421c822-d7ef-4f1b-f899-9946b63d4e35"
   },
   "outputs": [
    {
     "data": {
      "image/png": "[encoded data removed]",
      "text/plain": [
       "<Figure size 864x864 with 1 Axes>"
      ]
     },
     "metadata": {},
     "output_type": "display_data"
    }
   ],
   "source": [
    "plt.figure(figsize=(12,12))\n",
    "plt.plot(hist[\"accuracy\"], label=\"accuracy\")\n",
    "plt.plot(hist[\"val_accuracy\"], label=\"val_accuracy\")\n",
    "plt.title('Training and Validation Accuracy')\n",
    "plt.legend()\n",
    "plt.show()"
   ]
  },
  {
   "cell_type": "markdown",
   "metadata": {
    "id": "QZ9IBOOJjfcA"
   },
   "source": [
    "##Evaluation"
   ]
  },
  {
   "cell_type": "code",
   "execution_count": 47,
   "metadata": {
    "colab": {
     "base_uri": "https://localhost:8080/"
    },
    "id": "cBKRFu1dl2JD",
    "outputId": "0a4c0a4e-9ebe-4cbf-fd08-5071b327f1e1"
   },
   "outputs": [
    {
     "name": "stdout",
     "output_type": "stream",
     "text": [
      "236/236 [==============================] - 1s 4ms/step\n"
     ]
    },
    {
     "data": {
      "text/plain": [
       "[0.19645498936474956, 0.9491525292396545]"
      ]
     },
     "execution_count": 47,
     "metadata": {},
     "output_type": "execute_result"
    }
   ],
   "source": [
    "model.evaluate(x=X_test, y=y_test, batch_size=32, verbose=1)"
   ]
  },
  {
   "cell_type": "code",
   "execution_count": 48,
   "metadata": {
    "colab": {
     "base_uri": "https://localhost:8080/"
    },
    "id": "fumZ3CdQeEGM",
    "outputId": "598a6631-ede8-4cba-b827-e5ce99fb1653"
   },
   "outputs": [
    {
     "name": "stdout",
     "output_type": "stream",
     "text": [
      "236/236 [==============================] - 1s 5ms/step\n"
     ]
    }
   ],
   "source": [
    "test_pred = model.predict(X_test, verbose=1)"
   ]
  },
  {
   "cell_type": "code",
   "execution_count": 49,
   "metadata": {
    "id": "zEFnBWkieXLT"
   },
   "outputs": [],
   "source": [
    "pred_labels = [ 1 if t >= 0.5 else 0 for t in test_pred]"
   ]
  },
  {
   "cell_type": "code",
   "execution_count": 50,
   "metadata": {
    "colab": {
     "base_uri": "https://localhost:8080/"
    },
    "id": "NGAEJyuTwjQb",
    "outputId": "946ac12f-e3c5-4836-f703-2c23bbf2f7ee"
   },
   "outputs": [
    {
     "data": {
      "text/plain": [
       "array([[0.9999001 ],\n",
       "       [0.9999964 ],\n",
       "       [0.99713904],\n",
       "       [0.81548387],\n",
       "       [0.99672264],\n",
       "       [0.99897265],\n",
       "       [0.9999995 ],\n",
       "       [0.9107113 ],\n",
       "       [0.99998784],\n",
       "       [0.99996316]], dtype=float32)"
      ]
     },
     "execution_count": 50,
     "metadata": {},
     "output_type": "execute_result"
    }
   ],
   "source": [
    "test_pred[0:10]"
   ]
  },
  {
   "cell_type": "code",
   "execution_count": 51,
   "metadata": {
    "colab": {
     "base_uri": "https://localhost:8080/"
    },
    "id": "KQt2MDKLwmla",
    "outputId": "3d6da09d-7a4c-439c-8b09-7581e850ad61"
   },
   "outputs": [
    {
     "data": {
      "text/plain": [
       "[1, 1, 1, 1, 1, 1, 1, 1, 1, 1]"
      ]
     },
     "execution_count": 51,
     "metadata": {},
     "output_type": "execute_result"
    }
   ],
   "source": [
    "pred_labels[0:10]"
   ]
  },
  {
   "cell_type": "code",
   "execution_count": 52,
   "metadata": {
    "colab": {
     "base_uri": "https://localhost:8080/"
    },
    "id": "mt4P--j33UQu",
    "outputId": "8a945797-c1c1-4e03-90fe-47b824a05194"
   },
   "outputs": [
    {
     "data": {
      "text/plain": [
       "[1, 1, 1, 1, 1, 1, 1, 1, 1, 1]"
      ]
     },
     "execution_count": 52,
     "metadata": {},
     "output_type": "execute_result"
    }
   ],
   "source": [
    "test_labels[0:10]"
   ]
  },
  {
   "cell_type": "markdown",
   "metadata": {
    "id": "LhJVeLkyyqle"
   },
   "source": [
    "###Tailored Evaluation\n"
   ]
  },
  {
   "cell_type": "code",
   "execution_count": 53,
   "metadata": {
    "id": "t7_7c_lldqQC"
   },
   "outputs": [],
   "source": [
    "from classification_metrics import classification_report, replaceMultiple"
   ]
  },
  {
   "cell_type": "code",
   "execution_count": 54,
   "metadata": {
    "colab": {
     "base_uri": "https://localhost:8080/"
    },
    "id": "V7DB9mm5yCgL",
    "outputId": "c5e3d731-8909-4ae2-ec76-4b41b0ff4603"
   },
   "outputs": [
    {
     "name": "stdout",
     "output_type": "stream",
     "text": [
      "                        precision \t recall \t f1-score \t support\n",
      "\n",
      "                   0\t 0.43\t\t 0.60\t\t 0.50\t\t 10\t\n",
      "                   1\t 0.98\t\t 0.96\t\t 0.97\t\t 226\t\n",
      "\n",
      "\n",
      "macro avg           \t 0.71\t\t 0.78\t\t 0.74\t\t 236\t\n",
      "micro avg           \t 0.95\t\t 0.95\t\t 0.95\t\t 236\t\n",
      "\n"
     ]
    }
   ],
   "source": [
    "print(classification_report(test_labels, pred_labels))"
   ]
  },
  {
   "cell_type": "code",
   "execution_count": 54,
   "metadata": {
    "id": "uTPXtRpfygTs"
   },
   "outputs": [],
   "source": []
  }
 ],
 "metadata": {
  "accelerator": "GPU",
  "colab": {
   "collapsed_sections": [],
   "name": "BiLSTM_BioRelEx.ipynb",
   "provenance": []
  },
  "kernelspec": {
   "display_name": "Python 3",
   "language": "python",
   "name": "python3"
  },
  "language_info": {
   "codemirror_mode": {
    "name": "ipython",
    "version": 3
   },
   "file_extension": ".py",
   "mimetype": "text/x-python",
   "name": "python",
   "nbconvert_exporter": "python",
   "pygments_lexer": "ipython3",
   "version": "3.6.6"
  }
 },
 "nbformat": 4,
 "nbformat_minor": 1
}
