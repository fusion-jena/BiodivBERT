{
 "cells": [
  {
   "cell_type": "code",
   "execution_count": 1,
   "metadata": {
    "colab": {
     "base_uri": "https://localhost:8080/"
    },
    "executionInfo": {
     "elapsed": 411,
     "status": "ok",
     "timestamp": 1649935346510,
     "user": {
      "displayName": "Nora Youssef",
      "userId": "03639374922222745842"
     },
     "user_tz": -120
    },
    "id": "sbkgVkuDmTDZ",
    "outputId": "d82607cd-2c4e-4766-e16a-c554c2f56c61"
   },
   "outputs": [
    {
     "name": "stdout",
     "output_type": "stream",
     "text": [
      "TensorFlow 1.x selected.\n"
     ]
    }
   ],
   "source": [
    "%tensorflow_version 1.x"
   ]
  },
  {
   "cell_type": "code",
   "execution_count": 2,
   "metadata": {
    "colab": {
     "base_uri": "https://localhost:8080/"
    },
    "executionInfo": {
     "elapsed": 1664,
     "status": "ok",
     "timestamp": 1649935348172,
     "user": {
      "displayName": "Nora Youssef",
      "userId": "03639374922222745842"
     },
     "user_tz": -120
    },
    "id": "TNeeSq0SLU8A",
    "outputId": "939d51f3-9be2-4852-d787-4515dc4e61c0"
   },
   "outputs": [
    {
     "name": "stdout",
     "output_type": "stream",
     "text": [
      "Drive already mounted at /content/drive; to attempt to forcibly remount, call drive.mount(\"/content/drive\", force_remount=True).\n"
     ]
    }
   ],
   "source": [
    "# Load the Drive helper and mount\n",
    "from google.colab import drive\n",
    "drive.mount('/content/drive')"
   ]
  },
  {
   "cell_type": "code",
   "execution_count": 3,
   "metadata": {
    "colab": {
     "base_uri": "https://localhost:8080/"
    },
    "executionInfo": {
     "elapsed": 7,
     "status": "ok",
     "timestamp": 1649935348173,
     "user": {
      "displayName": "Nora Youssef",
      "userId": "03639374922222745842"
     },
     "user_tz": -120
    },
    "id": "qcsYD2yEMVkc",
    "outputId": "f13a284b-276b-4502-f39b-593c0f859f6f"
   },
   "outputs": [
    {
     "name": "stdout",
     "output_type": "stream",
     "text": [
      "/content/drive/My Drive/Colab Notebooks/BiodivBERT-RE\n"
     ]
    }
   ],
   "source": [
    "cd \"/content/drive/My Drive/Colab Notebooks/BiodivBERT-RE/\""
   ]
  },
  {
   "cell_type": "code",
   "execution_count": 4,
   "metadata": {
    "executionInfo": {
     "elapsed": 4,
     "status": "ok",
     "timestamp": 1649935348173,
     "user": {
      "displayName": "Nora Youssef",
      "userId": "03639374922222745842"
     },
     "user_tz": -120
    },
    "id": "R4YFOyhD8l_1"
   },
   "outputs": [],
   "source": [
    "import os"
   ]
  },
  {
   "cell_type": "code",
   "execution_count": 5,
   "metadata": {
    "colab": {
     "base_uri": "https://localhost:8080/"
    },
    "executionInfo": {
     "elapsed": 4,
     "status": "ok",
     "timestamp": 1649935348173,
     "user": {
      "displayName": "Nora Youssef",
      "userId": "03639374922222745842"
     },
     "user_tz": -120
    },
    "id": "awapx8haNr-U",
    "outputId": "07f4ad6e-a767-4bcc-8af8-f953c58cbb31"
   },
   "outputs": [
    {
     "name": "stdout",
     "output_type": "stream",
     "text": [
      "/content/drive/My Drive/Colab Notebooks/BiodivBERT-RE/datasets/BiodivRE\n"
     ]
    }
   ],
   "source": [
    "root_dir = \"/content/drive/My Drive/Colab Notebooks/BiodivBERT-RE/\"\n",
    "\n",
    "root_data_dir = os.path.join(root_dir, \"datasets\", \"BiodivRE\")\n",
    "print(root_data_dir)\n",
    "\n",
    "dataset = \"train\"\n",
    "csv_file_path = \"train.csv\"\n",
    "\n",
    "offline_model_file = os.path.join(root_dir, \"BiLSTM-BiodivRE-model\")\n",
    "training_history_csv = \"training_history.csv\""
   ]
  },
  {
   "cell_type": "markdown",
   "metadata": {
    "id": "eQFFmGZG-X05"
   },
   "source": [
    "##Util"
   ]
  },
  {
   "cell_type": "code",
   "execution_count": 6,
   "metadata": {
    "executionInfo": {
     "elapsed": 4,
     "status": "ok",
     "timestamp": 1649935348174,
     "user": {
      "displayName": "Nora Youssef",
      "userId": "03639374922222745842"
     },
     "user_tz": -120
    },
    "id": "8LihPGwb92iK"
   },
   "outputs": [],
   "source": [
    "def load_model():\n",
    "    json_file = open(offline_model_file+\".json\", 'r')\n",
    "    loaded_model_json = json_file.read()\n",
    "    json_file.close()\n",
    "    new_model = model_from_json(loaded_model_json)\n",
    "    # load weights into new model\n",
    "    new_model.load_weights(offline_model_file+\".h5\")\n",
    "    print(\"Loaded model from disk\")\n",
    "    return new_model"
   ]
  },
  {
   "cell_type": "code",
   "execution_count": 7,
   "metadata": {
    "executionInfo": {
     "elapsed": 4,
     "status": "ok",
     "timestamp": 1649935348174,
     "user": {
      "displayName": "Nora Youssef",
      "userId": "03639374922222745842"
     },
     "user_tz": -120
    },
    "id": "WaGNPxjM98Ds"
   },
   "outputs": [],
   "source": [
    "def save_model(model):\n",
    "    # serialize model to JSON\n",
    "    model_json = model.to_json()\n",
    "    \n",
    "    with open(offline_model_file+\".json\", \"w\") as json_file:\n",
    "        json_file.write(model_json)\n",
    "    # serialize weights to HDF5\n",
    "    model.save_weights(offline_model_file+\".h5\")\n",
    "    print(\"Saved model to disk\")"
   ]
  },
  {
   "cell_type": "code",
   "execution_count": 8,
   "metadata": {
    "executionInfo": {
     "elapsed": 4,
     "status": "ok",
     "timestamp": 1649935348174,
     "user": {
      "displayName": "Nora Youssef",
      "userId": "03639374922222745842"
     },
     "user_tz": -120
    },
    "id": "sF6IG8FM8WqT"
   },
   "outputs": [],
   "source": [
    "def saveDataFrameToCSV(pd1, csv_path, append):  \n",
    "  dataset_path = os.path.join(root_dir, csv_path)  \n",
    "  \n",
    "  if append:\n",
    "    with open(dataset_path, 'a+') as f:    \n",
    "      pd1.to_csv(dataset_path,  mode='a', index=False, header=False)    \n",
    "  else:\n",
    "    with open(dataset_path, 'a+') as f:    \n",
    "      pd1.to_csv(dataset_path,  mode='a', index=False, header=True)"
   ]
  },
  {
   "cell_type": "markdown",
   "metadata": {
    "id": "10yeK7623aaY"
   },
   "source": [
    "##Dataset Preprocessing\n"
   ]
  },
  {
   "cell_type": "code",
   "execution_count": 9,
   "metadata": {
    "executionInfo": {
     "elapsed": 488,
     "status": "ok",
     "timestamp": 1649935348659,
     "user": {
      "displayName": "Nora Youssef",
      "userId": "03639374922222745842"
     },
     "user_tz": -120
    },
    "id": "GT1NMGBw3aaU"
   },
   "outputs": [],
   "source": [
    "import os\n",
    "import pandas as pd\n",
    "import numpy as np"
   ]
  },
  {
   "cell_type": "code",
   "execution_count": 10,
   "metadata": {
    "executionInfo": {
     "elapsed": 17,
     "status": "ok",
     "timestamp": 1649935348659,
     "user": {
      "displayName": "Nora Youssef",
      "userId": "03639374922222745842"
     },
     "user_tz": -120
    },
    "id": "ybHlNSgxcwL1"
   },
   "outputs": [],
   "source": [
    "def loadData(csv_file_path, header=None, index_col=None):\n",
    "  dataset_path = os.path.join(root_data_dir, csv_file_path)\n",
    "  data = pd.read_csv(dataset_path, encoding=\"latin1\", sep=',', header=header, index_col=index_col, names=['Label', 'Sentence'])\n",
    "  data = data.fillna(method=\"ffill\")\n",
    "  return data"
   ]
  },
  {
   "cell_type": "code",
   "execution_count": 11,
   "metadata": {
    "executionInfo": {
     "elapsed": 17,
     "status": "ok",
     "timestamp": 1649935348659,
     "user": {
      "displayName": "Nora Youssef",
      "userId": "03639374922222745842"
     },
     "user_tz": -120
    },
    "id": "cTEqN_U_3aZ3"
   },
   "outputs": [],
   "source": [
    "data_train = loadData(csv_file_path='train.csv', header=None, index_col=None)"
   ]
  },
  {
   "cell_type": "code",
   "execution_count": 12,
   "metadata": {
    "colab": {
     "base_uri": "https://localhost:8080/",
     "height": 363
    },
    "executionInfo": {
     "elapsed": 18,
     "status": "ok",
     "timestamp": 1649935348660,
     "user": {
      "displayName": "Nora Youssef",
      "userId": "03639374922222745842"
     },
     "user_tz": -120
    },
    "id": "DdpwuNQtpOk0",
    "outputId": "245cceb0-93a0-43b8-9276-c7b106ec2d31"
   },
   "outputs": [
    {
     "data": {
      "text/html": [
       "\n",
       "  <div id=\"df-bfa276ca-c37b-45f6-af84-b189ad16de9f\">\n",
       "    <div class=\"colab-df-container\">\n",
       "      <div>\n",
       "<style scoped>\n",
       "    .dataframe tbody tr th:only-of-type {\n",
       "        vertical-align: middle;\n",
       "    }\n",
       "\n",
       "    .dataframe tbody tr th {\n",
       "        vertical-align: top;\n",
       "    }\n",
       "\n",
       "    .dataframe thead th {\n",
       "        text-align: right;\n",
       "    }\n",
       "</style>\n",
       "<table border=\"1\" class=\"dataframe\">\n",
       "  <thead>\n",
       "    <tr style=\"text-align: right;\">\n",
       "      <th></th>\n",
       "      <th>Label</th>\n",
       "      <th>Sentence</th>\n",
       "    </tr>\n",
       "  </thead>\n",
       "  <tbody>\n",
       "    <tr>\n",
       "      <th>0</th>\n",
       "      <td>0</td>\n",
       "      <td>( species : species ) The @QUALITY$ are based ...</td>\n",
       "    </tr>\n",
       "    <tr>\n",
       "      <th>1</th>\n",
       "      <td>1</td>\n",
       "      <td>Almost half of the threatened species assessed...</td>\n",
       "    </tr>\n",
       "    <tr>\n",
       "      <th>2</th>\n",
       "      <td>0</td>\n",
       "      <td>In 18 grazed and 21 improved fallows , we esti...</td>\n",
       "    </tr>\n",
       "    <tr>\n",
       "      <th>3</th>\n",
       "      <td>0</td>\n",
       "      <td>BEF research plot where the abundance of @ORGA...</td>\n",
       "    </tr>\n",
       "    <tr>\n",
       "      <th>4</th>\n",
       "      <td>0</td>\n",
       "      <td>Indicators : Access to clean fuels and technol...</td>\n",
       "    </tr>\n",
       "    <tr>\n",
       "      <th>5</th>\n",
       "      <td>0</td>\n",
       "      <td>We demonstrate that I. noli- tangere and I. te...</td>\n",
       "    </tr>\n",
       "    <tr>\n",
       "      <th>6</th>\n",
       "      <td>0</td>\n",
       "      <td>Although its marine biota can be considered re...</td>\n",
       "    </tr>\n",
       "    <tr>\n",
       "      <th>7</th>\n",
       "      <td>0</td>\n",
       "      <td>We draw on a spatially-replicated dataset on A...</td>\n",
       "    </tr>\n",
       "    <tr>\n",
       "      <th>8</th>\n",
       "      <td>0</td>\n",
       "      <td>Ways to quantify @PHENOMENA$ : rainfall amount...</td>\n",
       "    </tr>\n",
       "    <tr>\n",
       "      <th>9</th>\n",
       "      <td>0</td>\n",
       "      <td>In the light of the @QUALITY$ , it is of major...</td>\n",
       "    </tr>\n",
       "  </tbody>\n",
       "</table>\n",
       "</div>\n",
       "      <button class=\"colab-df-convert\" onclick=\"convertToInteractive('df-bfa276ca-c37b-45f6-af84-b189ad16de9f')\"\n",
       "              title=\"Convert this dataframe to an interactive table.\"\n",
       "              style=\"display:none;\">\n",
       "        \n",
       "  <svg xmlns=\"http://www.w3.org/2000/svg\" height=\"24px\"viewBox=\"0 0 24 24\"\n",
       "       width=\"24px\">\n",
       "    <path d=\"M0 0h24v24H0V0z\" fill=\"none\"/>\n",
       "    <path d=\"M18.56 5.44l.94 2.06.94-2.06 2.06-.94-2.06-.94-.94-2.06-.94 2.06-2.06.94zm-11 1L8.5 8.5l.94-2.06 2.06-.94-2.06-.94L8.5 2.5l-.94 2.06-2.06.94zm10 10l.94 2.06.94-2.06 2.06-.94-2.06-.94-.94-2.06-.94 2.06-2.06.94z\"/><path d=\"M17.41 7.96l-1.37-1.37c-.4-.4-.92-.59-1.43-.59-.52 0-1.04.2-1.43.59L10.3 9.45l-7.72 7.72c-.78.78-.78 2.05 0 2.83L4 21.41c.39.39.9.59 1.41.59.51 0 1.02-.2 1.41-.59l7.78-7.78 2.81-2.81c.8-.78.8-2.07 0-2.86zM5.41 20L4 18.59l7.72-7.72 1.47 1.35L5.41 20z\"/>\n",
       "  </svg>\n",
       "      </button>\n",
       "      \n",
       "  <style>\n",
       "    .colab-df-container {\n",
       "      display:flex;\n",
       "      flex-wrap:wrap;\n",
       "      gap: 12px;\n",
       "    }\n",
       "\n",
       "    .colab-df-convert {\n",
       "      background-color: #E8F0FE;\n",
       "      border: none;\n",
       "      border-radius: 50%;\n",
       "      cursor: pointer;\n",
       "      display: none;\n",
       "      fill: #1967D2;\n",
       "      height: 32px;\n",
       "      padding: 0 0 0 0;\n",
       "      width: 32px;\n",
       "    }\n",
       "\n",
       "    .colab-df-convert:hover {\n",
       "      background-color: #E2EBFA;\n",
       "      box-shadow: 0px 1px 2px rgba(60, 64, 67, 0.3), 0px 1px 3px 1px rgba(60, 64, 67, 0.15);\n",
       "      fill: #174EA6;\n",
       "    }\n",
       "\n",
       "    [theme=dark] .colab-df-convert {\n",
       "      background-color: #3B4455;\n",
       "      fill: #D2E3FC;\n",
       "    }\n",
       "\n",
       "    [theme=dark] .colab-df-convert:hover {\n",
       "      background-color: #434B5C;\n",
       "      box-shadow: 0px 1px 3px 1px rgba(0, 0, 0, 0.15);\n",
       "      filter: drop-shadow(0px 1px 2px rgba(0, 0, 0, 0.3));\n",
       "      fill: #FFFFFF;\n",
       "    }\n",
       "  </style>\n",
       "\n",
       "      <script>\n",
       "        const buttonEl =\n",
       "          document.querySelector('#df-bfa276ca-c37b-45f6-af84-b189ad16de9f button.colab-df-convert');\n",
       "        buttonEl.style.display =\n",
       "          google.colab.kernel.accessAllowed ? 'block' : 'none';\n",
       "\n",
       "        async function convertToInteractive(key) {\n",
       "          const element = document.querySelector('#df-bfa276ca-c37b-45f6-af84-b189ad16de9f');\n",
       "          const dataTable =\n",
       "            await google.colab.kernel.invokeFunction('convertToInteractive',\n",
       "                                                     [key], {});\n",
       "          if (!dataTable) return;\n",
       "\n",
       "          const docLinkHtml = 'Like what you see? Visit the ' +\n",
       "            '<a target=\"_blank\" href=https://colab.research.google.com/notebooks/data_table.ipynb>data table notebook</a>'\n",
       "            + ' to learn more about interactive tables.';\n",
       "          element.innerHTML = '';\n",
       "          dataTable['output_type'] = 'display_data';\n",
       "          await google.colab.output.renderOutput(dataTable, element);\n",
       "          const docLink = document.createElement('div');\n",
       "          docLink.innerHTML = docLinkHtml;\n",
       "          element.appendChild(docLink);\n",
       "        }\n",
       "      </script>\n",
       "    </div>\n",
       "  </div>\n",
       "  "
      ],
      "text/plain": [
       "   Label                                           Sentence\n",
       "0      0  ( species : species ) The @QUALITY$ are based ...\n",
       "1      1  Almost half of the threatened species assessed...\n",
       "2      0  In 18 grazed and 21 improved fallows , we esti...\n",
       "3      0  BEF research plot where the abundance of @ORGA...\n",
       "4      0  Indicators : Access to clean fuels and technol...\n",
       "5      0  We demonstrate that I. noli- tangere and I. te...\n",
       "6      0  Although its marine biota can be considered re...\n",
       "7      0  We draw on a spatially-replicated dataset on A...\n",
       "8      0  Ways to quantify @PHENOMENA$ : rainfall amount...\n",
       "9      0  In the light of the @QUALITY$ , it is of major..."
      ]
     },
     "execution_count": 12,
     "metadata": {},
     "output_type": "execute_result"
    }
   ],
   "source": [
    "data_train.head(10)"
   ]
  },
  {
   "cell_type": "code",
   "execution_count": 13,
   "metadata": {
    "executionInfo": {
     "elapsed": 17,
     "status": "ok",
     "timestamp": 1649935348660,
     "user": {
      "displayName": "Nora Youssef",
      "userId": "03639374922222745842"
     },
     "user_tz": -120
    },
    "id": "9IdHVyeXvDaX"
   },
   "outputs": [],
   "source": [
    "data_test = loadData(csv_file_path='test.csv', header=None, index_col=None)"
   ]
  },
  {
   "cell_type": "code",
   "execution_count": 14,
   "metadata": {
    "colab": {
     "base_uri": "https://localhost:8080/",
     "height": 363
    },
    "executionInfo": {
     "elapsed": 17,
     "status": "ok",
     "timestamp": 1649935348660,
     "user": {
      "displayName": "Nora Youssef",
      "userId": "03639374922222745842"
     },
     "user_tz": -120
    },
    "id": "6RoM6YevsjB1",
    "outputId": "b49ab9f2-4cfe-4cea-e2d5-35941d04fdb7"
   },
   "outputs": [
    {
     "data": {
      "text/html": [
       "\n",
       "  <div id=\"df-c286e889-8ceb-4525-95ea-79eb80fc9a38\">\n",
       "    <div class=\"colab-df-container\">\n",
       "      <div>\n",
       "<style scoped>\n",
       "    .dataframe tbody tr th:only-of-type {\n",
       "        vertical-align: middle;\n",
       "    }\n",
       "\n",
       "    .dataframe tbody tr th {\n",
       "        vertical-align: top;\n",
       "    }\n",
       "\n",
       "    .dataframe thead th {\n",
       "        text-align: right;\n",
       "    }\n",
       "</style>\n",
       "<table border=\"1\" class=\"dataframe\">\n",
       "  <thead>\n",
       "    <tr style=\"text-align: right;\">\n",
       "      <th></th>\n",
       "      <th>Label</th>\n",
       "      <th>Sentence</th>\n",
       "    </tr>\n",
       "  </thead>\n",
       "  <tbody>\n",
       "    <tr>\n",
       "      <th>0</th>\n",
       "      <td>1</td>\n",
       "      <td>( loss_f : average sandloss forest g m-2 -- --...</td>\n",
       "    </tr>\n",
       "    <tr>\n",
       "      <th>1</th>\n",
       "      <td>0</td>\n",
       "      <td>In a grassland biodiversity experiment , we ad...</td>\n",
       "    </tr>\n",
       "    <tr>\n",
       "      <th>2</th>\n",
       "      <td>0</td>\n",
       "      <td>Indicators : Access to clean fuels and technol...</td>\n",
       "    </tr>\n",
       "    <tr>\n",
       "      <th>3</th>\n",
       "      <td>1</td>\n",
       "      <td>The cbbL form IA and IC genes associated with ...</td>\n",
       "    </tr>\n",
       "    <tr>\n",
       "      <th>4</th>\n",
       "      <td>1</td>\n",
       "      <td>Microbial biomass and diversity increased in m...</td>\n",
       "    </tr>\n",
       "    <tr>\n",
       "      <th>5</th>\n",
       "      <td>0</td>\n",
       "      <td>DESCRIPTION Combined @ORGANISM$ Data SUMMARY T...</td>\n",
       "    </tr>\n",
       "    <tr>\n",
       "      <th>6</th>\n",
       "      <td>1</td>\n",
       "      <td>@QUALITY$ ( rare_fg_se ) , dimensionless rare_...</td>\n",
       "    </tr>\n",
       "    <tr>\n",
       "      <th>7</th>\n",
       "      <td>0</td>\n",
       "      <td>Indicators : Access to clean fuels and technol...</td>\n",
       "    </tr>\n",
       "    <tr>\n",
       "      <th>8</th>\n",
       "      <td>1</td>\n",
       "      <td>Our results show that existing @ENVIRONMENT$ i...</td>\n",
       "    </tr>\n",
       "    <tr>\n",
       "      <th>9</th>\n",
       "      <td>0</td>\n",
       "      <td>Indicators : Access to clean fuels and technol...</td>\n",
       "    </tr>\n",
       "  </tbody>\n",
       "</table>\n",
       "</div>\n",
       "      <button class=\"colab-df-convert\" onclick=\"convertToInteractive('df-c286e889-8ceb-4525-95ea-79eb80fc9a38')\"\n",
       "              title=\"Convert this dataframe to an interactive table.\"\n",
       "              style=\"display:none;\">\n",
       "        \n",
       "  <svg xmlns=\"http://www.w3.org/2000/svg\" height=\"24px\"viewBox=\"0 0 24 24\"\n",
       "       width=\"24px\">\n",
       "    <path d=\"M0 0h24v24H0V0z\" fill=\"none\"/>\n",
       "    <path d=\"M18.56 5.44l.94 2.06.94-2.06 2.06-.94-2.06-.94-.94-2.06-.94 2.06-2.06.94zm-11 1L8.5 8.5l.94-2.06 2.06-.94-2.06-.94L8.5 2.5l-.94 2.06-2.06.94zm10 10l.94 2.06.94-2.06 2.06-.94-2.06-.94-.94-2.06-.94 2.06-2.06.94z\"/><path d=\"M17.41 7.96l-1.37-1.37c-.4-.4-.92-.59-1.43-.59-.52 0-1.04.2-1.43.59L10.3 9.45l-7.72 7.72c-.78.78-.78 2.05 0 2.83L4 21.41c.39.39.9.59 1.41.59.51 0 1.02-.2 1.41-.59l7.78-7.78 2.81-2.81c.8-.78.8-2.07 0-2.86zM5.41 20L4 18.59l7.72-7.72 1.47 1.35L5.41 20z\"/>\n",
       "  </svg>\n",
       "      </button>\n",
       "      \n",
       "  <style>\n",
       "    .colab-df-container {\n",
       "      display:flex;\n",
       "      flex-wrap:wrap;\n",
       "      gap: 12px;\n",
       "    }\n",
       "\n",
       "    .colab-df-convert {\n",
       "      background-color: #E8F0FE;\n",
       "      border: none;\n",
       "      border-radius: 50%;\n",
       "      cursor: pointer;\n",
       "      display: none;\n",
       "      fill: #1967D2;\n",
       "      height: 32px;\n",
       "      padding: 0 0 0 0;\n",
       "      width: 32px;\n",
       "    }\n",
       "\n",
       "    .colab-df-convert:hover {\n",
       "      background-color: #E2EBFA;\n",
       "      box-shadow: 0px 1px 2px rgba(60, 64, 67, 0.3), 0px 1px 3px 1px rgba(60, 64, 67, 0.15);\n",
       "      fill: #174EA6;\n",
       "    }\n",
       "\n",
       "    [theme=dark] .colab-df-convert {\n",
       "      background-color: #3B4455;\n",
       "      fill: #D2E3FC;\n",
       "    }\n",
       "\n",
       "    [theme=dark] .colab-df-convert:hover {\n",
       "      background-color: #434B5C;\n",
       "      box-shadow: 0px 1px 3px 1px rgba(0, 0, 0, 0.15);\n",
       "      filter: drop-shadow(0px 1px 2px rgba(0, 0, 0, 0.3));\n",
       "      fill: #FFFFFF;\n",
       "    }\n",
       "  </style>\n",
       "\n",
       "      <script>\n",
       "        const buttonEl =\n",
       "          document.querySelector('#df-c286e889-8ceb-4525-95ea-79eb80fc9a38 button.colab-df-convert');\n",
       "        buttonEl.style.display =\n",
       "          google.colab.kernel.accessAllowed ? 'block' : 'none';\n",
       "\n",
       "        async function convertToInteractive(key) {\n",
       "          const element = document.querySelector('#df-c286e889-8ceb-4525-95ea-79eb80fc9a38');\n",
       "          const dataTable =\n",
       "            await google.colab.kernel.invokeFunction('convertToInteractive',\n",
       "                                                     [key], {});\n",
       "          if (!dataTable) return;\n",
       "\n",
       "          const docLinkHtml = 'Like what you see? Visit the ' +\n",
       "            '<a target=\"_blank\" href=https://colab.research.google.com/notebooks/data_table.ipynb>data table notebook</a>'\n",
       "            + ' to learn more about interactive tables.';\n",
       "          element.innerHTML = '';\n",
       "          dataTable['output_type'] = 'display_data';\n",
       "          await google.colab.output.renderOutput(dataTable, element);\n",
       "          const docLink = document.createElement('div');\n",
       "          docLink.innerHTML = docLinkHtml;\n",
       "          element.appendChild(docLink);\n",
       "        }\n",
       "      </script>\n",
       "    </div>\n",
       "  </div>\n",
       "  "
      ],
      "text/plain": [
       "   Label                                           Sentence\n",
       "0      1  ( loss_f : average sandloss forest g m-2 -- --...\n",
       "1      0  In a grassland biodiversity experiment , we ad...\n",
       "2      0  Indicators : Access to clean fuels and technol...\n",
       "3      1  The cbbL form IA and IC genes associated with ...\n",
       "4      1  Microbial biomass and diversity increased in m...\n",
       "5      0  DESCRIPTION Combined @ORGANISM$ Data SUMMARY T...\n",
       "6      1  @QUALITY$ ( rare_fg_se ) , dimensionless rare_...\n",
       "7      0  Indicators : Access to clean fuels and technol...\n",
       "8      1  Our results show that existing @ENVIRONMENT$ i...\n",
       "9      0  Indicators : Access to clean fuels and technol..."
      ]
     },
     "execution_count": 14,
     "metadata": {},
     "output_type": "execute_result"
    }
   ],
   "source": [
    "data_test.head(10)"
   ]
  },
  {
   "cell_type": "code",
   "execution_count": 15,
   "metadata": {
    "executionInfo": {
     "elapsed": 16,
     "status": "ok",
     "timestamp": 1649935348660,
     "user": {
      "displayName": "Nora Youssef",
      "userId": "03639374922222745842"
     },
     "user_tz": -120
    },
    "id": "hgCqXHBUdeYM"
   },
   "outputs": [],
   "source": [
    "data_dev = loadData(csv_file_path='dev.csv', header=None, index_col=None)"
   ]
  },
  {
   "cell_type": "code",
   "execution_count": 16,
   "metadata": {
    "colab": {
     "base_uri": "https://localhost:8080/",
     "height": 363
    },
    "executionInfo": {
     "elapsed": 17,
     "status": "ok",
     "timestamp": 1649935348661,
     "user": {
      "displayName": "Nora Youssef",
      "userId": "03639374922222745842"
     },
     "user_tz": -120
    },
    "id": "ShhhNZU_de6T",
    "outputId": "19316479-3e8a-4e56-eb87-723c89d71a1c"
   },
   "outputs": [
    {
     "data": {
      "text/html": [
       "\n",
       "  <div id=\"df-8f0d47c0-0297-43c3-8ea9-7fa8f7453cd8\">\n",
       "    <div class=\"colab-df-container\">\n",
       "      <div>\n",
       "<style scoped>\n",
       "    .dataframe tbody tr th:only-of-type {\n",
       "        vertical-align: middle;\n",
       "    }\n",
       "\n",
       "    .dataframe tbody tr th {\n",
       "        vertical-align: top;\n",
       "    }\n",
       "\n",
       "    .dataframe thead th {\n",
       "        text-align: right;\n",
       "    }\n",
       "</style>\n",
       "<table border=\"1\" class=\"dataframe\">\n",
       "  <thead>\n",
       "    <tr style=\"text-align: right;\">\n",
       "      <th></th>\n",
       "      <th>Label</th>\n",
       "      <th>Sentence</th>\n",
       "    </tr>\n",
       "  </thead>\n",
       "  <tbody>\n",
       "    <tr>\n",
       "      <th>0</th>\n",
       "      <td>1</td>\n",
       "      <td>We hypothesized that ( i ) the food choice of ...</td>\n",
       "    </tr>\n",
       "    <tr>\n",
       "      <th>1</th>\n",
       "      <td>0</td>\n",
       "      <td>Ways to quantify precipitation : rainfall amou...</td>\n",
       "    </tr>\n",
       "    <tr>\n",
       "      <th>2</th>\n",
       "      <td>0</td>\n",
       "      <td>Potential areas for @PHENOMENA$ almost double ...</td>\n",
       "    </tr>\n",
       "    <tr>\n",
       "      <th>3</th>\n",
       "      <td>1</td>\n",
       "      <td>( CSP14 : BEF research plot where the @QUALITY...</td>\n",
       "    </tr>\n",
       "    <tr>\n",
       "      <th>4</th>\n",
       "      <td>1</td>\n",
       "      <td>-- - Crown length is calculated as the total t...</td>\n",
       "    </tr>\n",
       "    <tr>\n",
       "      <th>5</th>\n",
       "      <td>0</td>\n",
       "      <td>Spatiotemporal modulation of biodiversity in a...</td>\n",
       "    </tr>\n",
       "    <tr>\n",
       "      <th>6</th>\n",
       "      <td>0</td>\n",
       "      <td>Ways to quantify precipitation : rainfall amou...</td>\n",
       "    </tr>\n",
       "    <tr>\n",
       "      <th>7</th>\n",
       "      <td>0</td>\n",
       "      <td>( Age : the @QUALITY$ class assigned at the ti...</td>\n",
       "    </tr>\n",
       "    <tr>\n",
       "      <th>8</th>\n",
       "      <td>1</td>\n",
       "      <td>This system is an important model for understa...</td>\n",
       "    </tr>\n",
       "    <tr>\n",
       "      <th>9</th>\n",
       "      <td>0</td>\n",
       "      <td>Ways to quantify @PHENOMENA$ : rainfall amount...</td>\n",
       "    </tr>\n",
       "  </tbody>\n",
       "</table>\n",
       "</div>\n",
       "      <button class=\"colab-df-convert\" onclick=\"convertToInteractive('df-8f0d47c0-0297-43c3-8ea9-7fa8f7453cd8')\"\n",
       "              title=\"Convert this dataframe to an interactive table.\"\n",
       "              style=\"display:none;\">\n",
       "        \n",
       "  <svg xmlns=\"http://www.w3.org/2000/svg\" height=\"24px\"viewBox=\"0 0 24 24\"\n",
       "       width=\"24px\">\n",
       "    <path d=\"M0 0h24v24H0V0z\" fill=\"none\"/>\n",
       "    <path d=\"M18.56 5.44l.94 2.06.94-2.06 2.06-.94-2.06-.94-.94-2.06-.94 2.06-2.06.94zm-11 1L8.5 8.5l.94-2.06 2.06-.94-2.06-.94L8.5 2.5l-.94 2.06-2.06.94zm10 10l.94 2.06.94-2.06 2.06-.94-2.06-.94-.94-2.06-.94 2.06-2.06.94z\"/><path d=\"M17.41 7.96l-1.37-1.37c-.4-.4-.92-.59-1.43-.59-.52 0-1.04.2-1.43.59L10.3 9.45l-7.72 7.72c-.78.78-.78 2.05 0 2.83L4 21.41c.39.39.9.59 1.41.59.51 0 1.02-.2 1.41-.59l7.78-7.78 2.81-2.81c.8-.78.8-2.07 0-2.86zM5.41 20L4 18.59l7.72-7.72 1.47 1.35L5.41 20z\"/>\n",
       "  </svg>\n",
       "      </button>\n",
       "      \n",
       "  <style>\n",
       "    .colab-df-container {\n",
       "      display:flex;\n",
       "      flex-wrap:wrap;\n",
       "      gap: 12px;\n",
       "    }\n",
       "\n",
       "    .colab-df-convert {\n",
       "      background-color: #E8F0FE;\n",
       "      border: none;\n",
       "      border-radius: 50%;\n",
       "      cursor: pointer;\n",
       "      display: none;\n",
       "      fill: #1967D2;\n",
       "      height: 32px;\n",
       "      padding: 0 0 0 0;\n",
       "      width: 32px;\n",
       "    }\n",
       "\n",
       "    .colab-df-convert:hover {\n",
       "      background-color: #E2EBFA;\n",
       "      box-shadow: 0px 1px 2px rgba(60, 64, 67, 0.3), 0px 1px 3px 1px rgba(60, 64, 67, 0.15);\n",
       "      fill: #174EA6;\n",
       "    }\n",
       "\n",
       "    [theme=dark] .colab-df-convert {\n",
       "      background-color: #3B4455;\n",
       "      fill: #D2E3FC;\n",
       "    }\n",
       "\n",
       "    [theme=dark] .colab-df-convert:hover {\n",
       "      background-color: #434B5C;\n",
       "      box-shadow: 0px 1px 3px 1px rgba(0, 0, 0, 0.15);\n",
       "      filter: drop-shadow(0px 1px 2px rgba(0, 0, 0, 0.3));\n",
       "      fill: #FFFFFF;\n",
       "    }\n",
       "  </style>\n",
       "\n",
       "      <script>\n",
       "        const buttonEl =\n",
       "          document.querySelector('#df-8f0d47c0-0297-43c3-8ea9-7fa8f7453cd8 button.colab-df-convert');\n",
       "        buttonEl.style.display =\n",
       "          google.colab.kernel.accessAllowed ? 'block' : 'none';\n",
       "\n",
       "        async function convertToInteractive(key) {\n",
       "          const element = document.querySelector('#df-8f0d47c0-0297-43c3-8ea9-7fa8f7453cd8');\n",
       "          const dataTable =\n",
       "            await google.colab.kernel.invokeFunction('convertToInteractive',\n",
       "                                                     [key], {});\n",
       "          if (!dataTable) return;\n",
       "\n",
       "          const docLinkHtml = 'Like what you see? Visit the ' +\n",
       "            '<a target=\"_blank\" href=https://colab.research.google.com/notebooks/data_table.ipynb>data table notebook</a>'\n",
       "            + ' to learn more about interactive tables.';\n",
       "          element.innerHTML = '';\n",
       "          dataTable['output_type'] = 'display_data';\n",
       "          await google.colab.output.renderOutput(dataTable, element);\n",
       "          const docLink = document.createElement('div');\n",
       "          docLink.innerHTML = docLinkHtml;\n",
       "          element.appendChild(docLink);\n",
       "        }\n",
       "      </script>\n",
       "    </div>\n",
       "  </div>\n",
       "  "
      ],
      "text/plain": [
       "   Label                                           Sentence\n",
       "0      1  We hypothesized that ( i ) the food choice of ...\n",
       "1      0  Ways to quantify precipitation : rainfall amou...\n",
       "2      0  Potential areas for @PHENOMENA$ almost double ...\n",
       "3      1  ( CSP14 : BEF research plot where the @QUALITY...\n",
       "4      1  -- - Crown length is calculated as the total t...\n",
       "5      0  Spatiotemporal modulation of biodiversity in a...\n",
       "6      0  Ways to quantify precipitation : rainfall amou...\n",
       "7      0  ( Age : the @QUALITY$ class assigned at the ti...\n",
       "8      1  This system is an important model for understa...\n",
       "9      0  Ways to quantify @PHENOMENA$ : rainfall amount..."
      ]
     },
     "execution_count": 16,
     "metadata": {},
     "output_type": "execute_result"
    }
   ],
   "source": [
    "data_dev.head(10)"
   ]
  },
  {
   "cell_type": "code",
   "execution_count": 17,
   "metadata": {
    "colab": {
     "base_uri": "https://localhost:8080/"
    },
    "executionInfo": {
     "elapsed": 17,
     "status": "ok",
     "timestamp": 1649935348661,
     "user": {
      "displayName": "Nora Youssef",
      "userId": "03639374922222745842"
     },
     "user_tz": -120
    },
    "id": "zNw-zJSNdgsk",
    "outputId": "5ab37671-4cb4-42ac-f1ce-1529f20d137b"
   },
   "outputs": [
    {
     "name": "stdout",
     "output_type": "stream",
     "text": [
      "3200 400 400\n"
     ]
    }
   ],
   "source": [
    "print(len(data_train), len(data_test), len(data_dev))"
   ]
  },
  {
   "cell_type": "markdown",
   "metadata": {
    "id": "zJPbPw-qqRn2"
   },
   "source": [
    "###Sentences "
   ]
  },
  {
   "cell_type": "code",
   "execution_count": 18,
   "metadata": {
    "executionInfo": {
     "elapsed": 9,
     "status": "ok",
     "timestamp": 1649935348661,
     "user": {
      "displayName": "Nora Youssef",
      "userId": "03639374922222745842"
     },
     "user_tz": -120
    },
    "id": "VgntHfAo3aZy"
   },
   "outputs": [],
   "source": [
    "train_texts = data_train[data_train.columns[1]].to_list()\n",
    "train_labels = data_train[data_train.columns[0]].to_list()"
   ]
  },
  {
   "cell_type": "code",
   "execution_count": 19,
   "metadata": {
    "executionInfo": {
     "elapsed": 10,
     "status": "ok",
     "timestamp": 1649935348661,
     "user": {
      "displayName": "Nora Youssef",
      "userId": "03639374922222745842"
     },
     "user_tz": -120
    },
    "id": "zcBRLeDcc1qo"
   },
   "outputs": [],
   "source": [
    "test_texts = data_test[data_test.columns[1]].to_list()\n",
    "test_labels = data_test[data_test.columns[0]].to_list()"
   ]
  },
  {
   "cell_type": "code",
   "execution_count": 20,
   "metadata": {
    "executionInfo": {
     "elapsed": 9,
     "status": "ok",
     "timestamp": 1649935348662,
     "user": {
      "displayName": "Nora Youssef",
      "userId": "03639374922222745842"
     },
     "user_tz": -120
    },
    "id": "o4v0rMfxd9Dl"
   },
   "outputs": [],
   "source": [
    "dev_texts = data_dev[data_dev.columns[1]].to_list()\n",
    "dev_labels = data_dev[data_dev.columns[0]].to_list()"
   ]
  },
  {
   "cell_type": "markdown",
   "metadata": {
    "id": "rxatmEuRqW1M"
   },
   "source": [
    "####Exploration"
   ]
  },
  {
   "cell_type": "code",
   "execution_count": 21,
   "metadata": {
    "executionInfo": {
     "elapsed": 9,
     "status": "ok",
     "timestamp": 1649935348662,
     "user": {
      "displayName": "Nora Youssef",
      "userId": "03639374922222745842"
     },
     "user_tz": -120
    },
    "id": "8xjS_lpd3aZI"
   },
   "outputs": [],
   "source": [
    "import matplotlib.pyplot as plt\n",
    "plt.style.use(\"ggplot\")"
   ]
  },
  {
   "cell_type": "code",
   "execution_count": 22,
   "metadata": {
    "colab": {
     "base_uri": "https://localhost:8080/",
     "height": 265
    },
    "executionInfo": {
     "elapsed": 289,
     "status": "ok",
     "timestamp": 1649935348942,
     "user": {
      "displayName": "Nora Youssef",
      "userId": "03639374922222745842"
     },
     "user_tz": -120
    },
    "id": "yXMq0bHN3aZB",
    "outputId": "630a0c2d-821b-443d-9ee8-564f328f06e2"
   },
   "outputs": [
    {
     "data": {
      "image/png": "[encoded data removed]",
      "text/plain": [
       "<Figure size 432x288 with 1 Axes>"
      ]
     },
     "metadata": {},
     "output_type": "display_data"
    }
   ],
   "source": [
    "plt.hist([len(s) for s in train_texts], bins=5)\n",
    "plt.show()"
   ]
  },
  {
   "cell_type": "code",
   "execution_count": 23,
   "metadata": {
    "colab": {
     "base_uri": "https://localhost:8080/"
    },
    "executionInfo": {
     "elapsed": 11,
     "status": "ok",
     "timestamp": 1649935348943,
     "user": {
      "displayName": "Nora Youssef",
      "userId": "03639374922222745842"
     },
     "user_tz": -120
    },
    "id": "1-aS91hTKB5i",
    "outputId": "7bd76160-fac1-4e75-ba23-ec3d847b026d"
   },
   "outputs": [
    {
     "data": {
      "text/plain": [
       "3442"
      ]
     },
     "execution_count": 23,
     "metadata": {},
     "output_type": "execute_result"
    }
   ],
   "source": [
    "max([len(s) for s in train_texts])"
   ]
  },
  {
   "cell_type": "code",
   "execution_count": 24,
   "metadata": {
    "executionInfo": {
     "elapsed": 6,
     "status": "ok",
     "timestamp": 1649935348943,
     "user": {
      "displayName": "Nora Youssef",
      "userId": "03639374922222745842"
     },
     "user_tz": -120
    },
    "id": "FBQLnJyY3aY7"
   },
   "outputs": [],
   "source": [
    "max_len = 128 #selected value outisde the histogram"
   ]
  },
  {
   "cell_type": "code",
   "execution_count": 25,
   "metadata": {
    "colab": {
     "base_uri": "https://localhost:8080/"
    },
    "executionInfo": {
     "elapsed": 6,
     "status": "ok",
     "timestamp": 1649935348943,
     "user": {
      "displayName": "Nora Youssef",
      "userId": "03639374922222745842"
     },
     "user_tz": -120
    },
    "id": "UQFdVv4qnL0u",
    "outputId": "3a569bd3-3196-44db-d6e1-5ee7df664492"
   },
   "outputs": [
    {
     "name": "stdout",
     "output_type": "stream",
     "text": [
      "3200\n",
      "3600\n",
      "4000\n"
     ]
    }
   ],
   "source": [
    "vocab_txt = []\n",
    "vocab_txt.extend(train_texts)\n",
    "print(len(vocab_txt))\n",
    "vocab_txt.extend(test_texts)\n",
    "print(len(vocab_txt))\n",
    "vocab_txt.extend(dev_texts)\n",
    "print(len(vocab_txt))"
   ]
  },
  {
   "cell_type": "code",
   "execution_count": 26,
   "metadata": {
    "colab": {
     "base_uri": "https://localhost:8080/"
    },
    "executionInfo": {
     "elapsed": 1807,
     "status": "ok",
     "timestamp": 1649935350746,
     "user": {
      "displayName": "Nora Youssef",
      "userId": "03639374922222745842"
     },
     "user_tz": -120
    },
    "id": "4YrK2TwTrAQp",
    "outputId": "77b7ed47-c885-42ff-bdec-357ef5857954"
   },
   "outputs": [
    {
     "name": "stderr",
     "output_type": "stream",
     "text": [
      "Using TensorFlow backend.\n"
     ]
    }
   ],
   "source": [
    "from keras.preprocessing.text import Tokenizer"
   ]
  },
  {
   "cell_type": "code",
   "execution_count": 27,
   "metadata": {
    "colab": {
     "base_uri": "https://localhost:8080/"
    },
    "executionInfo": {
     "elapsed": 689,
     "status": "ok",
     "timestamp": 1649935351433,
     "user": {
      "displayName": "Nora Youssef",
      "userId": "03639374922222745842"
     },
     "user_tz": -120
    },
    "id": "3jdiCEOBnJA1",
    "outputId": "f29be87f-188a-44db-a18a-95e92129981a"
   },
   "outputs": [
    {
     "name": "stdout",
     "output_type": "stream",
     "text": [
      "The document count 4000\n",
      "The count of words OrderedDict([('species', 2508), ('the', 10089), ('quality', 1979), ('are', 439), ('based', 198), ('on', 1072), ('flora', 59), ('of', 7396), ('location', 335), ('china', 284), ('identified', 58), ('by', 4375), ('teng', 46), ('fang', 46), ('and', 5708), ('verified', 46), ('helge', 98), ('bruelheide', 152), ('trees', 706), ('alexandra', 57), ('erfmeier', 64), ('herbs', 44), ('almost', 10), ('half', 44), ('threatened', 19), ('assessed', 23), ('were', 1157), ('considered', 227), ('vulnerable', 19), ('to', 3686), ('impacts', 128), ('phenomena', 1014), ('organism', 1909), ('being', 38), ('most', 111), ('group', 79), ('followed', 30), ('plants', 65), ('reptiles', 7), ('mammals', 12), ('birds', 11), ('in', 4927), ('18', 32), ('grazed', 24), ('21', 19), ('improved', 19), ('fallows', 43), ('we', 457), ('estimated', 112), ('quantified', 26), ('soil', 851), ('organic', 55), ('carbon', 321), ('base', 48), ('cations', 18), ('sand', 140), ('content', 108), ('bef', 234), ('research', 97), ('plot', 287), ('where', 1494), ('abundance', 388), ('x', 249), ('is', 2649), ('csp05', 9), ('number', 1311), ('individuals', 358), ('determined', 151), ('for', 2388), ('respective', 159), ('category', 102), ('indicators', 1151), ('access', 499), ('clean', 175), ('fuels', 174), ('technologies', 175), ('cooking', 175), ('electricity', 1009), ('adjusted', 408), ('net', 358), ('savings', 411), ('agricultural', 753), ('land', 2234), ('methane', 896), ('emissions', 4398), ('nitrous', 679), ('oxide', 679), ('annual', 243), ('freshwater', 630), ('withdrawals', 175), ('aquaculture', 167), ('production', 1219), ('arable', 278), ('environment', 3001), ('average', 1483), ('precipitation', 939), ('depth', 372), ('bird', 274), ('co2', 1953), ('from', 2851), ('heat', 170), ('gaseous', 232), ('fuel', 688), ('consumption', 957), ('liquid', 241), ('manufacturing', 175), ('industries', 175), ('construction', 196), ('other', 902), ('sectors', 175), ('residential', 177), ('buildings', 175), ('commercial', 178), ('public', 239), ('services', 1130), ('solid', 231), ('transport', 191), ('intensity', 1728), ('capture', 241), ('fisheries', 464), ('coal', 250), ('rents', 1387), ('disaster', 150), ('risk', 169), ('reduction', 159), ('progress', 150), ('score', 192), ('droughts', 175), ('oil', 405), ('renewable', 1088), ('sources', 187), ('energy', 1395), ('level', 212), ('primary', 216), ('related', 270), ('fish', 302), ('forest', 661), ('area', 2138), ('ghg', 174), ('removals', 175), ('lucf', 174), ('hfc', 168), ('gas', 1064), ('elevation', 1389), ('below', 1523), ('5', 1770), ('meters', 1382), ('mammal', 228), ('marine', 534), ('protected', 707), ('areas', 1431), ('sector', 536), ('mineral', 235), ('mortality', 554), ('rate', 541), ('attributed', 522), ('household', 174), ('ambient', 174), ('air', 485), ('pollution', 407), ('unintentional', 174), ('poisoning', 174), ('unsafe', 174), ('water', 1177), ('natural', 530), ('greenhouse', 336), ('pfc', 174), ('pm2', 231), ('people', 1308), ('practicing', 231), ('open', 2031), ('defecation', 231), ('using', 1138), ('at', 1628), ('least', 472), ('basic', 631), ('drinking', 463), ('sanitation', 462), ('safely', 462), ('managed', 474), ('with', 1187), ('handwashing', 149), ('facilities', 149), ('including', 248), ('soap', 149), ('plant', 716), ('population', 879), ('living', 871), ('slums', 149), ('output', 234), ('internal', 461), ('resources', 709), ('per', 392), ('capita', 231), ('rural', 692), ('sf6', 172), ('surface', 281), ('terrestrial', 482), ('total', 932), ('urban', 799), ('productivity', 372), ('methodology', 239), ('registry', 230), ('source', 304), ('last', 252), ('updated', 249), ('license', 213), ('creative', 213), ('commons', 213), ('attribution', 214), ('international', 182), ('cc', 213), ('india', 761), ('1', 1401), ('country', 1102), ('name', 1587), ('string', 2787), ('iso3', 540), ('year', 740), ('gyear', 362), ('indicator', 1113), ('code', 548), ('value', 676), ('decimal', 527), ('data', 1287), ('csv', 1539), ('original', 1274), ('text', 321), ('375066', 149), ('hxl', 180), ('demonstrate', 25), ('that', 698), ('i', 165), ('noli', 22), ('tangere', 22), ('textori', 22), ('share', 17), ('same', 50), ('pollination', 35), ('niche', 32), ('e', 122), ('flowering', 12), ('pollinator', 27), ('fauna', 33), ('position', 181), ('pollen', 21), ('s', 299), ('body', 17), ('although', 20), ('its', 68), ('biota', 16), ('can', 290), ('be', 488), ('relatively', 26), ('well', 97), ('known', 16), ('within', 435), ('asian', 3), ('pacific', 12), ('region', 51), ('considering', 7), ('vast', 6), ('different', 199), ('environments', 7), ('such', 114), ('as', 936), ('trenches', 3), ('ice', 85), ('bound', 18), ('waters', 17), ('seeps', 5), ('hydrothermal', 2), ('vents', 3), ('much', 24), ('work', 4), ('remains', 18), ('done', 11), ('draw', 9), ('a', 2229), ('spatially', 18), ('replicated', 9), ('dataset', 188), ('atlantic', 21), ('small', 28), ('consisting', 17), ('16', 15), ('sampling', 51), ('sites', 584), ('divided', 41), ('between', 200), ('forests', 85), ('matrix', 9), ('each', 116), ('five', 847), ('3600', 9), ('ha', 19), ('landscapes', 26), ('varying', 15), ('45', 10), ('cover', 60), ('an', 283), ('priori', 9), ('classification', 47), ('into', 89), ('habitat', 116), ('requirement', 9), ('categories', 22), ('specialists', 22), ('generalists', 11), ('ways', 308), ('quantify', 312), ('rainfall', 2733), ('amount', 1066), ('collecting', 741), ('bottle', 719), ('mmmeasured', 912), ('field', 1560), ('vaisala', 2870), ('sensor', 1402), ('mm', 1514), ('hmeasured', 1216), ('peak', 835), ('highest', 437), ('minute', 414), ('intensities', 393), ('measured', 1193), ('tipping', 2161), ('bucket', 2161), ('rain', 1066), ('gauge', 1035), ('am', 125), ('t', 316), ('millimeter', 182), ('climate', 361), ('station', 269), ('or', 999), ('locally', 263), ('light', 17), ('it', 194), ('major', 32), ('importance', 34), ('not', 288), ('only', 113), ('conserve', 6), ('but', 342), ('also', 559), ('restore', 9), ('ecosystems', 134), ('earthworms', 110), ('serve', 11), ('important', 133), ('ecosystem', 190), ('engineers', 65), ('making', 21), ('up', 49), ('majority', 12), ('faunal', 6), ('biomass', 331), ('microbial', 65), ('affects', 21), ('innate', 7), ('immunity', 7), ('two', 95), ('closely', 16), ('earthworm', 41), ('eisenia', 14), ('andrei', 10), ('fetida', 7), ('survival', 31), ('depends', 86), ('their', 144), ('ability', 39), ('recognize', 7), ('eliminate', 7), ('potential', 177), ('four', 50), ('functions', 67), ('wood', 161), ('steady', 7), ('infiltration', 26), ('rates', 69), ('linked', 17), ('focal', 133), ('service', 20), ('multi', 37), ('functionality', 26), ('proportion', 34), ('above', 161), ('maximum', 78), ('2', 459), ('mean', 643), ('percentage', 39), ('excess', 20), ('function', 23), ('values', 93), ('whether', 42), ('diversity', 625), ('environmental', 52), ('favorability', 17), ('better', 18), ('predicted', 34), ('genomic', 6), ('physiological', 16), ('characterization', 6), ('dominant', 25), ('fungus', 28), ('garden', 36), ('microbiome', 31), ('provides', 14), ('evidence', 10), ('degrade', 12), ('cellulose', 7), ('this', 921), ('study', 503), ('track', 13), ('polymers', 11), ('leaf', 851), ('cutter', 37), ('ant', 24), ('gardens', 10), ('characterize', 13), ('community', 1550), ('potentially', 39), ('mediating', 11), ('process', 57), ('decomposition', 40), ('via', 21), ('changes', 127), ('aboveground', 165), ('arthropods', 49), ('loss', 221), ('influences', 21), ('essential', 30), ('processes', 95), ('have', 225), ('cascading', 16), ('effects', 265), ('arthropod', 19), ('communities', 179), ('adjacent', 28), ('trophic', 54), ('levels', 112), ('6', 360), ('digit', 265), ('metal', 1009), ('tags', 1149), ('starting', 263), ('3', 577), ('used', 685), ('woody', 680), ('debris', 843), ('items', 290), ('reference', 454), ('file', 247), ('linking', 216), ('tree', 2104), ('individual', 424), ('called', 210), ('stem', 302), ('list', 451), ('comparative', 300), ('csps', 332), ('silver', 191), ('id', 464), ('given', 557), ('martin', 315), ('case', 206), ('was', 418), ('alive', 133), ('dead', 197), ('anjacsp', 126), ('tag', 610), ('datagroup', 824), ('description', 715), ('csp', 751), ('marked', 237), ('mostly', 247), ('additional', 316), ('bee', 17), ('did', 35), ('differ', 21), ('richness', 361), ('higher', 170), ('than', 202), ('h', 146), ('hour', 106), ('extrafloral', 29), ('nectaries', 29), ('efn', 91), ('common', 67), ('tropical', 98), ('subtropical', 24), ('presence', 51), ('may', 234), ('influence', 98), ('attenuates', 4), ('positive', 32), ('relationship', 132), ('mutualistic', 5), ('antã\\x83â¢ã¢â\\x80\\x9aâ¬ã¢â\\x82¬å\\x93hemipteran', 3), ('interactions', 58), ('chewer', 4), ('herbivory', 57), ('proceedings', 4), ('b', 141), ('2017', 20), ('across', 126), ('complexity', 30), ('these', 123), ('poorly', 22), ('explored', 29), ('ph', 368), ('matter', 969), ('current', 89), ('percent', 39), ('consumed', 28), ('slugs', 28), ('40', 38), ('lower', 86), ('containing', 58), ('12', 82), ('three', 113), ('increased', 99), ('slug', 33), ('ã\\x83â\\x80\\x94', 1), ('combination', 45), ('grown', 8), ('plots', 179), ('either', 23), ('established', 17), ('shadow', 8), (\"light'\", 1), ('treatment', 6), ('replicates', 1), ('mapping', 61), ('drivers', 8), ('change', 104), ('vulnerability', 20), ('australia', 15), ('effective', 15), ('conservation', 96), ('management', 62), ('adaptation', 4), ('rests', 4), ('understanding', 87), ('factors', 31), ('driving', 10), ('explicit', 9), ('manner', 4), ('so', 31), ('direct', 10), ('ground', 211), ('action', 37), ('conclusions', 17), ('our', 96), ('suggest', 21), ('bootless', 17), ('bay', 9), ('papua', 18), ('new', 46), ('guinea', 26), ('while', 79), ('diverse', 57), ('absolute', 14), ('terms', 10), ('has', 105), ('biodiversity', 980), ('compared', 15), ('shallow', 5), ('zambia', 11), ('presents', 27), ('acute', 11), ('example', 53), ('challenge', 18), ('expected', 37), ('tripling', 11), ('2050', 20), ('good', 31), ('expand', 11), ('maize', 8), ('soya', 7), ('bean', 7), ('large', 108), ('undisturbed', 27), ('miombo', 11), ('associated', 83), ('types', 32), ('high', 121), ('16s', 8), ('rrna', 12), ('gene', 1), ('pcr', 1), ('trflp', 1), ('investigate', 16), ('various', 21), ('segments', 1), ('gastrointestinal', 1), ('tract', 14), ('dice', 1), ('similarity', 19), ('indices', 68), ('calculated', 87), ('compare', 24), ('samples', 89), ('hypothesized', 18), ('interact', 8), ('affect', 43), ('benthic', 28), ('nutrient', 78), ('regeneration', 13), ('dissolved', 27), ('din', 8), ('phosphorus', 93), ('tdp', 8), ('consequently', 8), ('bacterioplankton', 6), ('bp', 16), ('complementarity', 26), ('will', 51), ('stronger', 11), ('because', 131), ('former', 34), ('represents', 21), ('more', 74), ('integrative', 12), ('mediated', 20), ('multivariate', 12), ('otu', 38), ('97', 15), ('sequence', 31), ('clustering', 11), ('taxonomy', 14), ('genus', 52), ('taxonomic', 113), ('assignment', 24), ('conatins', 17), ('information', 138), ('under', 106), ('corrected', 50), ('item', 76), ('cwd', 110), ('scientific', 80), ('dimensionless', 1019), ('fullnames', 34), ('instance', 9), ('invasion', 13), ('invertebrate', 16), ('engineer', 9), ('previously', 18), ('free', 25), ('alters', 15), ('global', 101), ('unique', 14), ('identifier', 56), ('fullname', 23), ('contains', 21), ('about', 32), ('requests', 3), ('assistance', 3), ('relocation', 3), ('rescue', 14), ('completed', 9), ('rangers', 1), ('8', 40), ('2020', 29), ('encouraged', 1), ('york', 3), ('city', 4), ('stocks', 87), ('groups', 66), ('eight', 43), ('14', 27), ('representative', 62), ('sulawesi', 12), ('indonesia', 14), ('ranging', 12), ('rainforest', 11), ('cacao', 12), ('agroforests', 12), ('replaced', 14), ('combined', 29), ('summary', 36), ('set', 417), ('absence', 6), ('collected', 113), ('wadeable', 5), ('stream', 6), ('along', 12), ('chemistry', 62), ('specifically', 10), ('specific', 134), ('conductivity', 62), ('some', 28), ('variables', 25), ('analysis', 200), ('spatial', 40), ('arrangement', 6), ('aggregated', 9), ('vs', 33), ('dispersed', 6), ('had', 44), ('no', 110), ('effect', 38), ('limited', 28), ('hindered', 6), ('capacity', 43), ('identify', 9), ('responses', 15), ('tagmba', 134), ('reading', 10), ('complex', 34), ('skipper', 9), ('butterfly', 8), ('one', 110), ('background', 184), ('intense', 10), ('30', 24), ('ongoing', 10), ('inventory', 461), ('lepidoptera', 10), ('together', 30), ('food', 55), ('parasitoids', 10), ('centered', 10), ('rearing', 10), ('wild', 11), ('caught', 10), ('caterpillars', 113), ('120', 10), ('000', 29), ('hectares', 82), ('dry', 110), ('cloud', 12), ('de', 10), ('conservacion', 10), ('guanacaste', 10), ('acg', 11), ('northwestern', 6), ('costa', 6), ('rica', 6), ('sc', 19), ('n', 353), ('splash', 35), ('cups', 36), ('specified', 9), ('event', 143), ('deriving', 34), ('f', 16), ('gramspersquaremeter', 8), ('kinetic', 68), ('derived', 260), ('out', 42), ('splashcups', 60), ('damaged', 5), ('60', 10), ('less', 43), ('leaves', 60), ('when', 73), ('present', 109), ('regardless', 5), ('adding', 15), ('cropland', 15), ('grazing', 56), ('fishing', 17), ('built', 15), ('footprints', 15), ('qscore', 31), ('scoring', 15), ('system', 54), ('show', 58), ('which', 160), ('comprised', 15), ('components', 28), ('timeline', 15), ('excluding', 19), ('latest', 30), ('denoted', 30), ('letter', 15), ('d', 36), ('secondly', 4), ('analyze', 6), ('immunological', 4), ('profile', 32), ('both', 59), ('activity', 6), ('expression', 7), ('lysozyme', 4), ('pattern', 12), ('recognition', 4), ('protein', 2), ('ccf', 4), ('hemolytic', 4), ('fetidin', 4), ('lysenins', 4), ('been', 96), ('recent', 41), ('interest', 26), ('cellulosic', 21), ('how', 101), ('scale', 67), ('rapid', 31), ('occurs', 23), ('highly', 36), ('evolved', 29), ('insect', 41), ('herbivore', 47), ('particular', 60), ('relevance', 21), ('bioenergy', 20), ('anja', 112), ('christian', 132), ('standing', 95), ('snagcsp', 57), ('entry', 29), ('range', 15), ('dissimilarity', 6), ('traits', 180), ('explanatory', 43), ('family', 84), ('response', 239), ('variable', 27), ('break', 31), ('taxon', 123), ('find', 121), ('keywords', 114), ('here', 191), ('spec', 13), ('fam', 8), ('fix', 6), ('int', 117), ('rand', 12), ('mixed', 7), ('m', 212), ('res', 4), ('headers', 121), ('columns', 503), ('permission', 59), ('granted', 59), ('anybody', 59), ('use', 284), ('publish', 59), ('all', 167), ('freely', 59), ('review', 7), ('discusses', 2), ('advances', 10), ('what', 10), ('causes', 13), ('variations', 15), ('relative', 152), ('intestinal', 41), ('ii', 58), ('clinical', 2), ('consequences', 55), ('iii', 54), ('perspectives', 13), ('maintaining', 2), ('markers', 2), ('low', 55), ('sboth', 2), ('central', 106), ('performed', 5), ('extensive', 6), ('survey', 8), ('gnnr', 4), ('2008', 63), ('nitrogen', 197), ('concentrations', 74), ('focus', 18), ('silts', 3), ('referred', 5), ('peat', 6), ('hand', 19), ('text48', 9), ('features', 18), ('sediment', 7), ('constituents', 8), ('texture', 9), ('fine', 17), ('properties', 70), ('according', 74), ('eckelmann', 20), ('w', 41), ('sponagel', 20), ('grottenthaler', 20), ('hartmann', 20), ('j', 52), ('k', 117), ('hartwich', 20), ('r', 41), ('janetzko', 20), ('p', 234), ('traidl', 20), ('2005', 20), ('decomposer', 31), ('stability', 38), ('differed', 5), ('composition', 1077), ('implicating', 5), ('human', 41), ('induced', 22), ('might', 13), ('unpredictable', 5), ('mankind', 5), ('relies', 5), ('pervasive', 7), ('defaunation', 7), ('remnants', 14), ('hotspot', 20), ('deforestation', 8), ('fragmentation', 16), ('among', 128), ('issues', 7), ('worldwide', 31), ('yet', 14), ('local', 56), ('extinctions', 9), ('millions', 8), ('populations', 24), ('stranded', 7), ('unprotected', 8), ('remain', 10), ('explained', 29), ('meta', 30), ('shows', 21), ('significant', 34), ('decline', 18), ('invertebrates', 12), ('anecic', 9), ('endogeic', 9), ('causing', 9), ('strongest', 10), ('geological', 15), ('surv', 13), ('8fefeaa1', 13), ('0632', 13), ('46ac', 13), ('bbc0', 13), ('6f03393f360c', 13), ('gsi', 27), ('gemas', 69), ('european', 72), ('geochemical', 126), ('agriculture', 9), ('ap', 14), ('grassland', 55), ('gr', 30), ('soils', 66), ('34', 14), ('countries', 23), ('like', 3), ('dispersal', 7), ('rarely', 5), ('incorporated', 2), ('restricting', 2), ('informative', 2), ('resulting', 23), ('predictions', 18), ('considerably', 2), ('v', 283), ('native', 50), ('propagation', 17), ('laysan', 15), ('island', 16), ('papahanaumokuakea', 16), ('national', 48), ('monument', 16), ('title', 32), ('final', 41), ('report', 8), ('documents', 80), ('methods', 36), ('results', 65), ('objectives', 21), ('project', 10), ('funded', 8), ('monitoring', 48), ('initiative', 8), ('fy', 8), ('2012', 76), ('hemiptera', 2), ('4', 121), ('download', 112), ('json', 224), ('integer', 544), ('parentlayerid', 84), ('defaultvisibility', 84), ('boolean', 266), ('sublayerids', 84), ('minscale', 84), ('maxscale', 84), ('application', 228), ('50778', 28), ('wms', 56), ('getcapabilities', 56), ('html', 148), ('338470', 28), ('groundwater', 51), ('chemical', 98), ('continental', 38), ('science', 96), ('egdi', 28), ('europe', 29), ('forensic', 28), ('geology', 28), ('geoscientificinformation', 28), ('heavy', 20), ('metals', 20), ('ireland', 30), ('lithosphere', 28), ('micka', 28), ('pedosphere', 28), ('toxic', 30), ('element', 56), ('trace', 28), ('geographic', 37), ('if', 129), ('top', 28), ('then', 61), ('cm', 63), ('diameter', 780), ('bd', 24), ('dbh', 454), ('breast', 331), ('height', 730), ('preferably', 11), ('tape', 254), ('commands', 58), ('taxo', 58), ('divc', 58), ('observed', 56), ('otus', 76), ('ptp', 15), ('method', 28), ('estimator', 21), ('ri06', 11), ('thoughfall', 7), ('throughfall', 52), ('bottles', 22), ('real', 799), ('creating', 8), ('genuine', 5), ('evolutionary', 23), ('ecology', 55), ('links', 37), ('evolution', 8), ('dynamics', 33), ('overall', 37), ('functioning', 75), ('would', 68), ('give', 11), ('impetus', 5), ('needed', 7), ('unification', 5), ('ecological', 67), ('disciplines', 5), ('main', 437), ('experiment', 517), ('biological', 22), ('crusts', 9), ('runoff', 18), ('bryophyte', 5), ('datasets', 34), ('510', 4), ('ascii', 32), ('column', 495), ('tagafcw', 83), ('except', 5), ('bacteria', 59), ('displayed', 5), ('decreasing', 7), ('increasing', 57), ('extent', 10), ('component', 14), ('ants', 32), ('maintain', 10), ('external', 9), ('degrading', 29), ('likely', 35), ('key', 25), ('step', 10), ('establishment', 12), ('widespread', 16), ('herbivores', 32), ('neotropics', 9), ('helper', 913), ('comment', 178), ('karin', 52), ('understand', 385), ('whole', 51), ('row', 29), ('meandbh', 48), ('centimeter', 26), ('merging', 26), ('extrapolated', 117), ('dbhpostmean', 92), ('instrumentation', 194), ('calliper', 241), ('meangr10', 48), ('indicating', 69), ('greater', 99), ('10cm', 52), ('should', 68), ('volume', 150), ('estimation', 54), ('outer', 31), ('subplots', 26), ('meansm10cn', 48), ('smaller', 26), ('thus', 39), ('schould', 26), ('subplothelper', 26), ('storm', 70), ('pathogens', 20), ('driver', 6), ('fungal', 135), ('c', 311), ('estimate', 83), ('turnover', 15), ('depending', 15), ('positioning', 12), ('indirect', 23), ('balance', 19), ('approach', 35), ('calculate', 49), ('deadwood', 32), ('input', 23), ('floor', 23), ('combining', 17), ('chronosequence', 10), ('increment', 10), ('top5', 91), ('pddl', 19), ('downtown', 425), ('2013', 432), ('objectid', 102), ('address', 106), ('com', 123), ('condition', 190), ('type', 140), ('park', 158), ('y', 102), ('geom', 57), ('cpg', 51), ('plain', 41), ('dbf', 84), ('2663093', 17), ('prj', 57), ('583', 17), ('sbn', 51), ('shapefile', 72), ('70604', 17), ('sbx', 51), ('4380', 17), ('shp', 91), ('204360', 17), ('xml', 148), ('107387', 17), ('shx', 57), ('58460', 17), ('1137225', 17), ('6061558', 17), ('business', 17), ('district', 45), ('cbd', 17), ('arborist', 19), ('locations', 25), ('maps', 21), ('make', 2), ('density', 119), ('distance', 69), ('dependence', 5), ('means', 49), ('reciprocal', 4), ('seedling', 30), ('transplant', 2), ('sensitivities', 16), ('snow', 21), ('trait', 175), ('likelihood', 32), ('subject', 16), ('size', 146), ('logistic', 16), ('regression', 16), ('snag', 33), ('requires', 18), ('re', 16), ('down', 16), ('slope', 37), ('pieces', 25), ('iv', 28), ('time', 168), ('takes', 16), ('collapse', 16), ('touch', 16), ('asset', 38), ('skizze', 16), ('pdf', 100), ('sketch', 16), ('objects', 16), ('selected', 24), ('sp10', 16), ('protocol', 34), ('gutianshan', 75), ('af', 34), ('20081215', 16), ('kn', 52), ('doc', 16), ('included', 29), ('objective', 26), ('allometries', 53), ('downed', 25), ('establish', 18), ('coarse', 29), ('remaining', 18), ('intems', 16), ('0', 112), ('00', 72), ('utc', 36), ('2009', 25), ('reserve', 29), ('autumn', 3), ('following', 17), ('surveys', 8), ('nature', 33), (\"29ã\\x83â\\x80\\x9aã\\x82â°08'\", 96), ('29ã\\x83â\\x80\\x9aã\\x82â°17', 14), (\"118ã\\x83â\\x80\\x9aã\\x82â°02'\", 14), ('118ã\\x83â\\x80\\x9aã\\x82â°11', 14), ('center', 9), ('assess', 31), ('snowbreak', 18), ('mind', 44), ('there', 49), ('extra', 5), ('parts', 27), ('labelled', 6), ('extrapolation', 43), ('mass', 26), ('historical', 9), ('patterns', 55), ('endangerment', 8), ('resource', 72), ('regions', 31), ('fraction', 10), ('available', 36), ('withdrawn', 13), ('hydropower', 9), ('correlated', 18), ('probabilities', 8), ('imperilment', 9), ('choice', 12), ('altered', 8), ('growth', 120), ('affected', 34), ('those', 29), ('fewer', 7), ('readily', 7), ('utilization', 7), ('pronounced', 7), ('27', 23), ('taken', 13), ('increments', 21), ('117', 82), ('8998', 82), ('118', 82), ('1483', 82), ('29', 167), ('2852', 82), ('10178', 82), ('organisms', 41), ('tscholten', 18), ('pkuehn', 18), ('cgeissler', 14), ('cns', 20), ('analyses', 59), ('laboratory', 24), ('support', 37), ('upwards', 5), ('third', 8), ('coral', 21), ('substantial', 8), ('reproductive', 42), ('allocation', 44), ('directly', 20), ('empirical', 10), ('investigations', 3), ('seamounts', 7), ('similar', 31), ('metrics', 11), ('beta', 9), ('evenness', 6), ('ranges', 24), ('often', 46), ('focuses', 3), ('variation', 38), ('assessing', 21), ('web', 27), ('context', 26), ('provide', 37), ('further', 19), ('insight', 10), ('elucidate', 13), ('mechanisms', 8), ('underpinning', 3), ('self', 35), ('label', 32), ('itself', 10), ('belongs', 10), ('indicated', 15), ('neighbour', 61), ('neigh', 66), ('dist', 25), ('meter', 28), ('locate', 5), ('every', 5), ('tagged', 13), ('piece', 6), ('standardised', 67), ('evapotranspiration', 28), ('index', 105), ('month', 20), ('timescale', 17), ('see', 27), ('fichtner', 19), ('et', 53), ('al', 94), ('reconciling', 3), ('transformation', 7), ('frontier', 3), ('dominance', 8), ('extinction', 26), ('resistance', 14), ('determine', 19), ('multiple', 36), ('coastal', 68), ('cycling', 13), ('could', 42), ('deteriorating', 8), ('result', 16), ('gross', 7), ('salt', 8), ('marsh', 7), ('assemblage', 35), ('intertidal', 14), ('macroalgae', 14), ('clearance', 12), ('microalgae', 7), ('sessile', 7), ('suspension', 7), ('feeding', 11), ('uptake', 8), ('ranger', 123), ('animal', 164), ('date', 241), ('initial', 37), ('call', 66), ('datetime', 44), ('borough', 33), ('property', 33), ('status', 33), ('duration', 51), ('age', 67), ('class', 139), ('311sr', 33), ('animals', 46), ('pep', 33), ('monitored', 33), ('rehabilitator', 33), ('hours', 33), ('spent', 33), ('police', 33), ('esu', 33), ('acc', 33), ('intake', 33), ('97827', 11), ('wildlife', 20), ('raccoon', 10), ('deer', 10), ('hawk', 10), ('chicken', 10), ('rooster', 10), ('dog', 10), ('cat', 10), ('squirrel', 10), ('frequently', 16), ('metric', 1), ('prioritization', 19), ('extirpation', 1), ('evaluate', 2), ('ionic', 1), ('tolerance', 16), ('aluminium', 38), ('cadmium', 41), ('calcium', 75), ('chrome', 38), ('cobalt', 38), ('copper', 38), ('iron', 37), ('kalium', 37), ('ldmc', 132), ('lead', 57), ('magnesium', 38), ('manganese', 38), ('nickel', 38), ('polyphenols', 38), ('sample', 272), ('identity', 69), ('shrub', 284), ('sla', 134), ('stomata', 119), ('strontium', 37), ('sulfur', 37), ('tannin', 119), ('zinc', 35), ('samplecode', 42), ('collector', 44), ('exp', 159), ('site', 115), ('vicinity', 39), ('fresh', 49), ('weight', 99), ('la', 96), ('cn', 92), ('mg', 118), ('ca', 95), ('ca2', 39), ('fe', 42), ('k2', 39), ('mg2', 39), ('mn', 42), ('na', 96), ('zn', 39), ('co', 57), ('cu', 39), ('pb', 39), ('sr', 39), ('cr', 61), ('ni', 39), ('cd214', 39), ('cd228', 39), ('length', 128), ('width', 43), ('phenolics', 45), ('prof', 66), ('david', 44), ('eichenberg', 52), ('wenzel', 40), ('krã\\x83æ\\x92ã\\x82â¶ber', 90), ('bã\\x83æ\\x92ã\\x82â¶hnke', 40), ('ristok', 43), ('experimantal', 39), ('plantations', 55), ('29ã\\x83â\\x80\\x9aã\\x82â°11', 82), (\"117ã\\x83â\\x80\\x9aã\\x82â°90'\", 82), ('117ã\\x83â\\x80\\x9aã\\x82â°93', 82), ('planted', 117), ('deichenberg', 39), ('hbruelheide', 41), ('wkroeber', 39), ('mboehnke', 39), ('chemicals', 80), ('experimental', 60), ('secondary', 59), ('compound', 50), ('phenolic', 38), ('nz', 10), ('waikato', 25), ('0808cb5e', 5), ('1fc2', 5), ('4be7', 5), ('b92e', 5), ('2e8a7e548fdb', 5), ('however', 16), ('currently', 4), ('lack', 4), ('predict', 65), ('realistic', 1), ('analyse', 8), ('distributional', 2), ('115', 2), ('extant', 3), ('pinnipeds', 2), ('cetaceans', 2), ('greenland', 158), ('211273', 31), ('tillers', 2), ('mesocosms', 6), ('little', 16), ('influenced', 4), ('since', 74), ('threat', 20), ('though', 8), ('impending', 5), ('quantifiy', 5), ('pollinators', 10), ('crucial', 21), ('defined', 19), ('priorities', 6), ('inhabiting', 3), ('overcome', 3), ('distribution', 105), ('imperiled', 3), ('freiburg', 3), ('germany', 47), ('en', 49), ('us', 81), ('situ', 6), ('mpb', 4), ('mediates', 3), ('transitional', 3), ('heterotrophic', 3), ('autotrophic', 2), ('generated', 2), ('checklist', 3), ('488', 1), ('72', 4), ('families', 6), ('found', 75), ('during', 43), ('week', 1), ('effort', 1), ('stewardship', 3), ('anthropocene', 4), ('require', 7), ('integrated', 5), ('frameworks', 3), ('observing', 6), ('modeling', 6), ('forecasting', 3), ('forms', 6), ('anthropogenic', 29), ('regional', 25), ('landscape', 26), ('scales', 26), ('towards', 3), ('conserving', 3), ('novel', 8), ('created', 3), ('sustained', 3), ('addition', 39), ('compost', 9), ('culture', 12), ('ptb', 4), ('experimentally', 7), ('proved', 5), ('effectively', 5), ('decrease', 15), ('tce', 5), ('broken', 19), ('point', 68), ('extracted', 1), ('comments', 17), ('dimensions', 10), ('fundamental', 6), ('achieve', 10), ('security', 5), ('problems', 5), ('acidification', 5), ('exacerbated', 5), ('poor', 16), ('habitats', 62), ('visitors', 21), ('foraged', 2), ('generality', 2), ('visited', 2), ('specialization', 13), ('possibly', 7), ('driven', 12), ('investigated', 14), ('non', 29), ('bioturbator', 13), ('vary', 15), ('functional', 195), ('phylogenetic', 366), ('phylo', 54), ('div', 106), ('rao', 72), ('cwm', 702), ('weighted', 470), ('ratio', 141), ('leaftough', 54), ('toughness', 46), ('treevol', 54), ('potassium', 48), ('magnesia', 34), ('sodium', 34), ('yes', 39), ('55', 29), ('relationships', 46), ('predictors', 15), ('analyzed', 12), ('individually', 4), ('predictor', 2), ('dwh', 22), ('nrda', 22), ('deposition', 25), ('carcasses', 19), ('walkable', 21), ('marshes', 19), ('beaches', 16), ('deepwater', 13), ('horizon', 72), ('24', 15), ('carcass', 11), ('climatic', 33), ('conditions', 163), ('characteristic', 4), ('temperature', 66), ('15', 11), ('1ã\\x83â\\x80\\x9aã\\x82â°c', 8), ('january', 3), ('minimum', 4), ('temperatures', 9), ('8ã\\x83â\\x80\\x9aã\\x82â°c', 4), ('july', 4), ('38', 8), ('accumulated', 4), ('sum', 27), ('ã\\x83â¢ã¢â\\x82¬â°ã\\x82â¥', 4), ('5ã\\x83â\\x80\\x9aã\\x82â°c', 4), ('5221', 5), ('degree', 13), ('days', 4), ('error', 102), ('crashed', 2), ('fallen', 15), ('elemental', 24), ('stoichiometry', 37), ('tissue', 20), ('ratios', 26), ('jena', 22), ('tracked', 3), ('forested', 1), ('became', 10), ('urbanized', 3), ('through', 50), ('examined', 30), ('points', 32), ('before', 9), ('after', 32), ('hi', 30), ('canopy', 35), ('target', 142), ('layer', 51), ('spots', 13), ('simultaneous', 10), ('estimates', 24), ('researchers', 9), ('contents', 17), ('sulphur', 37), ('h2o', 142), ('six', 14), ('natrium', 38), ('already', 12), ('sugar', 14), ('metagenomics', 21), ('genome', 21), ('sequencing', 26), ('reveal', 21), ('composed', 21), ('float', 6), ('buoyancy', 21), ('stratiotes', 6), ('aloides', 8), ('structural', 14), ('formed', 6), ('dense', 13), ('floating', 3), ('stands', 5), ('generates', 3), ('hotspots', 12), ('wetlands', 2), ('32', 31), ('fertilization', 19), ('goal', 29), ('valid', 36), ('calculation', 18), ('stumps', 9), ('round', 9), ('hallow', 9), ('missingwoody', 9), ('crown', 250), ('origin', 33), ('inorganic', 6), ('contrast', 9), ('sharp', 3), ('reduced', 22), ('deep', 26), ('sea', 26), ('eastern', 19), ('western', 27), ('basins', 8), ('mediterranean', 7), ('similarly', 14), ('order', 12), ('numbers', 27), ('litter', 32), ('thrips', 7), ('tropic', 3), ('subtropics', 10), ('25', 48), ('05', 4), ('soc', 24), ('son', 23), ('lab', 46), ('num', 94), ('lb', 48), ('kcl', 143), ('minus', 31), ('bifurcation', 47), ('ad', 10), ('displacement', 13), ('architecture', 28), ('radii', 24), ('subcardinal', 29), ('directions', 31), ('mirror', 37), ('csp09', 9), ('identification', 14), ('hot', 16), ('highlighted', 13), ('shelves', 4), ('strait', 4), ('gibraltar', 4), ('alboran', 3), ('adriatic', 4), ('aegean', 2), ('endangered', 22), ('growing', 20), ('densities', 16), ('intensified', 17), ('invasive', 57), ('threaten', 17), ('refuge', 19), ('tibetan', 22), ('alpine', 22), ('meadow', 22), ('csp13', 9), ('globally', 24), ('trade', 50), ('offs', 12), ('allocating', 5), ('funds', 5), ('protect', 10), ('cost', 5), ('spending', 5), ('redd', 11), ('few', 14), ('vertebrates', 4), ('negative', 10), ('sexual', 5), ('interference', 2), ('improper', 2), ('heterospecific', 11), ('transfer', 2), ('recently', 9), ('reported', 9), ('demonstrating', 2), ('competition', 56), ('weather', 107), ('intermountain', 47), ('west', 50), ('moisture', 36), ('characterizing', 51), ('favorable', 51), ('fungi', 166), ('decreased', 22), ('7ã\\x83â\\x82ã\\x82â±0', 6), ('undergoing', 6), ('5ã\\x83â\\x82ã\\x82â±1', 6), ('amphibians', 8), ('confirm', 6), ('losses', 22), ('earth', 71), ('model', 46), ('indicate', 36), ('invasions', 17), ('tend', 7), ('exceed', 6), ('nnr', 27), ('approximately', 14), ('81', 23), ('km2', 18), ('initially', 10), ('1975', 7), ('2001', 9), ('vegetated', 19), ('bare', 99), ('consist', 7), ('pe', 8), ('flask', 8), ('carrier', 10), ('attached', 4), ('biotic', 12), ('upper', 7), ('abiotic', 15), ('inclination', 17), ('aspect', 7), ('biofuels', 13), ('degradation', 25), ('selection', 13), ('competitors', 27), ('neighbours', 71), ('radius', 18), ('jan', 23), ('said', 10), ('consists', 8), ('around', 30), ('located', 20), ('portal', 9), ('horizons', 4), ('authored', 2), ('sp6', 3), ('assigned', 3), ('xls', 19), ('cateogories', 1), ('counted', 10), ('subplot', 19), ('contributing', 13), ('measuring', 22), ('upright', 7), ('sands', 1), ('g', 71), ('azimuth', 42), ('magnetic', 29), ('knowledge', 14), ('relates', 8), ('maintenance', 3), ('gains', 12), ('synonyms', 17), ('names', 9), ('allow', 1), ('interests', 1), ('compromises', 4), ('users', 1), ('apply', 3), ('examine', 6), ('subjective', 1), ('preferences', 1), ('costs', 14), ('woodland', 21), ('conversion', 37), ('positively', 30), ('negatively', 12), ('occur', 15), ('reliability', 12), ('shoot', 21), ('root', 21), ('removed', 7), ('subtractive', 7), ('fashion', 7), ('allowed', 7), ('removal', 10), ('stage', 13), ('disassembly', 6), ('hemicelluloses', 8), ('degraded', 8), ('unknown', 9), ('especially', 9), ('greatest', 27), ('consumptive', 20), ('hydroelectric', 17), ('reservoirs', 12), ('irrigation', 14), ('biofuel', 16), ('feedstocks', 20), ('generation', 20), ('radial', 1), ('encourages', 1), ('role', 40), ('evaporation', 14), ('lies', 6), ('south', 20), ('port', 6), ('moresby', 6), ('capital', 6), ('experiences', 6), ('any', 13), ('policies', 13), ('promote', 5), ('efficiency', 18), ('electric', 5), ('reduce', 20), ('manipulated', 6), ('27ã\\x83â¢ã¢â\\x82â¬ã¢â\\x80â\\x9c36', 5), ('m3gjã\\x83â¢ã\\x8bâ\\x86ã¢â\\x80â\\x991', 20), ('1ã\\x83â¢ã¢â\\x82â¬ã¢â\\x80â\\x9c0', 5), ('withdrawal', 7), ('manipulation', 8), ('4ã\\x83â¢ã¢â\\x82â¬ã¢â\\x80â\\x9c0', 5), ('7', 44), ('2ã\\x83â¢ã¢â\\x82â¬ã¢â\\x80â\\x9c0', 5), ('21332', 8), ('lã\\x83æ\\x92ã\\x82â¼neburg', 7), ('49', 15), ('4131', 8), ('677', 8), ('2960', 8), ('peters', 12), ('retention', 32), ('cuts', 32), ('supported', 22), ('clearcuts', 26), ('filled', 30), ('erosivity', 22), ('southeast', 17), ('summer', 19), ('2010', 36), ('visiting', 41), ('mstaab', 15), ('aklein', 15), ('jpeters', 15), ('season', 21), ('temperate', 12), ('paradigmatic', 2), ('tribe', 15), ('attini', 2), ('uses', 29), ('cultivate', 2), ('specialized', 13), ('crops', 6), ('sensitivity', 3), ('yield', 8), ('comparison', 15), ('intestine', 26), ('feces', 8), ('healthy', 13), ('horses', 10), ('terminal', 13), ('restriction', 13), ('fragment', 13), ('equine', 13), ('affecting', 8), ('guide', 2), ('policy', 16), ('actions', 3), ('conclusion', 9), ('unfavorable', 10), ('limitations', 9), ('organ', 7), ('performance', 17), ('tolerances', 8), ('availability', 24), ('revealing', 27), ('hidden', 8), ('roles', 8), ('structuring', 17), ('becoming', 8), ('classifying', 17), ('ecologically', 8), ('reach', 1), ('equivalence', 1), ('fertility', 2), ('zealand', 5), ('vegetation', 116), ('2002', 50), ('lcdb2', 15), ('lcdb1', 15), ('gen', 15), ('veg', 42), ('wetland', 19), ('minor', 45), ('clsa', 15), ('clsb', 15), ('clsc', 15), ('uncertain1', 15), ('uncertain2', 15), ('cor', 45), ('wetld', 15), ('photo', 90), ('photo1', 15), ('east1', 15), ('nth1', 15), ('photo2', 15), ('east2', 15), ('nth2', 15), ('3102121', 5), ('bioveg2002', 10), ('read', 10), ('me', 14), ('txt', 15), ('1609', 7), ('bioveg', 30), ('gis', 32), ('zip', 60), ('26642309', 5), ('22189678', 5), ('11987022', 5), ('dune', 4), ('o', 15), ('sandloss', 17), ('19', 16), ('23', 13), ('72070', 13), ('tã\\x83æ\\x92ã\\x82â¼bingen', 35), ('2981918', 13), ('thomas', 13), ('scholten', 28), ('geiã\\x83æ\\x92ã\\x85â¸ler', 17), ('uni', 14), ('spring', 19), ('chlamydia', 10), ('caviae', 8), ('infection', 9), ('pig', 8), ('vaginal', 12), ('microbiota', 20), ('humans', 4), ('thought', 5), ('first', 87), ('line', 5), ('defense', 4), ('again', 4), ('trachomatis', 4), ('characterising', 4), ('predicting', 13), ('planning', 15), ('systems', 32), ('increasingly', 5), ('activities', 20), ('extending', 4), ('wind', 212), ('speed', 177), ('meterspersecond', 22), ('pwind', 35), ('13', 14), ('lã\\x83æ\\x92ã\\x86â\\x80\\x99ã\\x83â\\x80\\x9aã\\x82â¼neburg', 1), ('belowground', 26), ('infestation', 8), ('showing', 13), ('link', 12), ('multiyear', 12), ('losing', 11), ('reliable', 12), ('forage', 21), ('herbivorous', 13), ('consumers', 26), ('par', 19), ('produced', 3), ('emergent', 5), ('even', 7), ('abundant', 3), ('pools', 22), ('recover', 8), ('quickly', 5), ('lying', 7), ('standard', 47), ('rarefaction', 12), ('shannon', 22), ('changed', 4), ('over', 49), ('spatiotemporal', 5), ('modulation', 5), ('synthetic', 7), ('measures', 42), ('persistence', 13), ('ages', 8), ('mature', 7), ('stand', 18), ('seasonally', 7), ('basal', 194), ('simpson', 10), ('measurements', 58), ('nearby', 16), ('stations', 10), ('obtained', 10), ('unlikely', 10), ('optimal', 25), ('outperform', 10), ('assemblages', 21), ('storage', 24), ('control', 18), ('flows', 10), ('aim', 16), ('conduct', 8), ('targeted', 5), ('metagenomic', 5), ('amoebae', 3), ('network', 13), ('fla', 3), ('strains', 2), ('limitation', 8), ('future', 25), ('throughout', 10), ('history', 13), ('drought', 54), ('shade', 8), ('scarcity', 8), ('nutrients', 4), ('structured', 8), ('comprises', 8), ('portion', 20), ('broad', 7), ('leaved', 5), ('advanced', 7), ('successional', 39), ('stages', 10), ('hu', 5), ('yu', 8), ('beginning', 5), ('1990ies', 5), ('young', 6), ('conifer', 12), ('mainly', 17), ('cunninghamia', 3), ('lanceolata', 3), ('general', 12), ('synonym', 19), ('ipni', 24), ('identifiery', 9), ('resembling', 9), ('epiteth', 8), ('do', 15), ('gbif', 8), ('author', 25), ('fullauthor', 10), ('importantly', 3), ('indirectly', 4), ('sheds', 3), ('declines', 3), ('dependencies', 3), ('caterpillar', 11), ('hill', 22), ('pd', 72), ('boot', 81), ('bootstrapped', 54), ('mpd', 72), ('mntd', 72), ('nearest', 18), ('design', 47), ('func', 18), ('basis', 25), ('quantifying', 24), ('hence', 6), ('conventional', 12), ('curves', 4), ('provided', 55), ('optimistic', 4), ('fragments', 6), ('lost', 58), ('faster', 4), ('alone', 4), ('others', 5), ('caused', 8), ('long', 14), ('term', 2), ('obtain', 3), ('lowest', 7), ('branch', 11), ('branches', 18), ('off', 4), ('epicormics', 3), ('springs', 3), ('direction', 12), ('boundary', 23), ('csa', 17), ('wikipedia', 35), ('typically', 49), ('geotechnical', 26), ('classify', 26), ('engineering', 24), ('they', 46), ('relate', 29), ('foundation', 26), ('building', 26), ('material', 28), ('abun', 8), ('count', 90), ('counting', 14), ('short', 5), ('november', 7), ('december', 7), ('warm', 9), ('summers', 5), ('fig', 14), ('incompatibility', 6), ('edible', 8), ('medicinal', 8), ('southwestern', 7), ('members', 6), ('basidiomycota', 6), ('dominated', 16), ('22', 9), ('putative', 6), ('ectomycorrhizal', 5), ('russulaceae', 5), ('thelephoraceae', 5), ('taxa', 20), ('snags', 30), ('posterior', 76), ('dbhpostsd', 66), ('uncertainty', 38), ('deviation', 42), ('stemsgreq10', 66), ('probability', 23), ('considerd', 19), ('equal', 21), ('10', 44), ('csp11', 9), ('quantitative', 15), ('synthesis', 9), ('430', 5), ('observations', 6), ('independent', 18), ('studies', 29), ('asses', 2), ('occurrence', 2), ('records', 6), ('facility', 2), ('networked', 2), ('census', 102), ('america', 3), ('fertile', 2), ('considers', 9), ('patch', 18), ('immigration', 5), ('recovery', 15), ('upon', 9), ('pool', 12), ('300ft', 7), ('inland', 6), ('bodies', 6), ('acres', 14), ('space', 13), ('shoreline', 5), ('vertex', 12), ('forester', 12), ('dung', 12), ('beetles', 3), ('significantly', 28), ('logged', 8), ('dried', 66), ('sieved', 66), ('2mm', 66), ('solutionh20', 39), ('solution', 10), ('acidity', 110), ('differentiation', 4), ('libshuff', 3), ('001', 3), ('unifrac', 3), ('shan06', 10), ('suggests', 13), ('splits', 1), ('grow', 5), ('serves', 4), ('additionally', 1), ('ensure', 3), ('pressure', 1), ('arising', 1), ('insertion', 1), ('cup', 13), ('does', 7), ('designed', 2), ('explore', 8), ('targeting', 2), ('expansion', 7), ('quantitatively', 2), ('competing', 2), ('economic', 6), ('converted', 2), ('transportation', 10), ('reached', 1), ('critical', 15), ('state', 13), ('consistent', 17), ('trend', 10), ('abundances', 14), ('transitions', 17), ('later', 10), ('worst', 2), ('best', 12), ('scenarios', 9), ('required', 6), ('sustain', 9), ('threshold', 16), ('restricted', 2), ('distributions', 10), ('dependent', 31), ('prevalent', 12), ('true', 3), ('details', 13), ('janzen', 16), ('connell', 16), ('samplenr', 8), ('seedlingnr', 8), ('splitplot', 8), ('indnr', 1), ('record', 9), ('ptag', 7), ('home', 20), ('liv', 5), ('dam', 5), ('damage', 6), ('pro', 5), ('lai', 18), ('northness', 1), ('markus', 15), ('ger', 5), ('coexistence', 15), ('partitioning', 15), ('hypothesis', 20), ('alternative', 15), ('assumed', 15), ('mechanism', 19), ('explaining', 19), ('cite', 14), ('follows', 14), ('kã\\x83æ\\x92ã\\x82â¼hn', 9), ('2011', 9), ('horizonswise', 9), ('profiles', 8), ('gain', 30), ('recalcitrant', 13), ('cell', 15), ('walls', 16), ('symbiotic', 13), ('associations', 14), ('lignocellulolytic', 13), ('microbes', 32), ('parameters', 12), ('heigth', 2), ('bifurcatin', 2), ('incorporate', 4), ('remotely', 3), ('sensed', 2), ('groupsã\\x83æ\\x92ã\\x82â¢ã\\x83â¢ã¢â\\x82¬å¡ã\\x82â¬ã\\x83â¢ã¢â\\x80\\x9aâ¬ã\\x82â\\x9dinvertebrates', 1), ('herptiles', 4), ('birdsã\\x83æ\\x92ã\\x82â¢ã\\x83â¢ã¢â\\x82¬å¡ã\\x82â¬ã\\x83â¢ã¢â\\x80\\x9aâ¬ã\\x82â\\x9drespond', 1), ('sub', 12), ('medium', 5), ('630', 5), ('200ã\\x83å½ã\\x82â¼m', 5), ('sieves', 9), ('kã\\x83æ\\x92ã\\x82â¶hn', 8), ('pipette', 9), ('drying', 10), ('oven', 9), ('grain', 36), ('fsa', 17), ('habit', 8), ('fct', 16), ('deciduous', 13), ('evergreen', 12), ('modern', 4), ('clades', 4), ('document', 7), ('speciation', 4), ('vicariance', 6), ('frequencies', 2), ('goals', 5), ('marxan', 3), ('software', 2), ('abrupt', 3), ('clay', 24), ('silt', 25), ('msa', 9), ('vfsa', 9), ('csi', 9), ('msi', 9), ('fsi', 11), ('beds', 8), ('malaria', 22), ('transmission', 15), ('conducive', 11), ('vectors', 8), ('incremental', 20), ('opposed', 23), ('differen', 12), ('fundamentally', 2), ('insights', 4), ('chemolithoautotrophic', 30), ('photoautotrophic', 2), ('bacterial', 25), ('biochemical', 2), ('barren', 10), ('saline', 20), ('originatescsp', 3), ('rd', 9), ('variety', 4), ('reflecting', 5), ('positions', 14), ('relation', 11), ('evaluated', 14), ('predictability', 9), ('differences', 17), ('survive', 13), ('nadrowski', 12), ('vmueller', 2), ('appetite', 14), ('aquarium', 25), ('imported', 16), ('united', 34), ('states', 40), ('crossroads', 14), ('forced', 15), ('threats', 30), ('stressors', 14), ('weakened', 14), ('u', 14), ('world', 19), ('overexploitation', 12), ('development', 21), ('shipping', 11), ('rising', 26), ('dioxide', 10), ('ocean', 19), ('shifting', 11), ('currents', 11), ('hypoxic', 11), ('anoxic', 14), ('harmful', 11), ('algal', 11), ('blooms', 11), ('indicates', 2), ('accounting', 2), ('heterogeneity', 8), ('still', 8), ('explain', 14), ('proportions', 8), ('pilot', 12), ('11', 10), ('implemented', 3), ('fluxes', 7), ('operational', 35), ('units', 4), ('phylogeny', 16), ('unit', 89), ('definition', 27), ('dna', 24), ('seek', 3), ('52', 2), ('differently', 2), ('spanning', 2), ('latitudinal', 3), ('gradient', 9), ('psi50', 77), ('mpa', 25), ('50', 101), ('xylem', 50), ('hydraulic', 50), ('zhang', 50), ('ehmig', 50), ('2014', 108), ('plos', 50), ('9', 59), ('e109211', 50), ('measurement', 114), ('sawp', 77), ('awp', 150), ('interval', 51), ('devided', 50), ('quantile', 50), ('neighbourhood', 103), ('diverstiy', 50), ('nci', 77), ('cm2', 25), ('surrounding', 51), ('closest', 52), ('nb', 56), ('took', 3), ('account', 3), ('experienced', 3), ('56', 3), ('decades', 18), ('andean', 5), ('timberline', 5), ('migration', 10), ('implications', 14), ('21st', 6), ('century', 6), ('decreases', 6), ('montane', 5), ('andes', 5), ('bde', 4), ('209', 4), ('whereas', 4), ('ryegrass', 1), ('disentangle', 10), ('underpin', 10), ('biodiversityã\\x83â¢ã¢â\\x80\\x9aâ¬ã¢â\\x82¬å\\x93ecosystem', 10), ('doi', 4), ('gov', 4), ('28588f12', 1), ('2da2', 1), ('42ab', 1), ('af85', 1), ('afd44ea5c90b', 1), ('offshore', 9), ('santa', 3), ('cruz', 3), ('california', 9), ('part', 15), ('ds', 3), ('781', 3), ('map', 12), ('seafloor', 2), ('resulted', 8), ('parasite', 4), ('trajectory', 2), ('parasites', 2), ('sensitive', 2), ('ball', 14), ('mill', 14), ('vario', 14), ('el', 14), ('elementar', 24), ('150', 8), ('geoecology', 6), ('colonization', 12), ('multidrug', 10), ('resistant', 10), ('enterobacteria', 9), ('hosts', 10), ('1013', 10), ('1014', 10), ('full', 14), ('budget', 5), ('bio', 13), ('root45', 5), ('headline', 8), ('2006', 50), ('referring', 1), ('straight', 3), ('227ã\\x83â¢ã¢â\\x82â¬ã¢â\\x80â\\x9c362', 3), ('haã\\x83â¢ã\\x8bâ\\x86ã¢â\\x80â\\x991', 6), ('82ã\\x83â¢ã¢â\\x82â¬ã¢â\\x80â\\x9c211', 3), ('showed', 15), ('led', 11), ('hosted', 12), ('elevated', 13), ('leading', 13), ('lookup', 15), ('look', 4), ('files', 13), ('ectomycorrhiza', 3), ('saprophytes', 3), ('crowns', 17), ('etc', 17), ('csp12', 9), ('csp06', 9), ('clays', 3), ('switched', 2), ('hco3', 5), ('formation', 4), ('impaired', 2), ('very', 16), ('125', 2), ('63ã\\x83å½ã\\x82â¼m', 1), ('51', 3), ('palm', 5), ('64', 3), ('1250', 3), ('m2', 10), ('wiener', 3), ('physico', 8), ('characteristics', 45), ('cbbl', 15), ('rdna', 19), ('marker', 7), ('genes', 21), ('developed', 5), ('integrating', 6), ('ultimately', 3), ('influencing', 3), ('cutan', 5), ('feat44', 5), ('cutanic', 3), ('generally', 2), ('avoided', 6), ('nn', 1), ('noted', 1), ('molecular', 16), ('gujarat', 14), ('harbour', 11), ('obligate', 14), ('facultative', 15), ('contribute', 22), ('raindrops', 25), ('random', 16), ('tã\\x83æ\\x92ã\\x86â\\x80\\x99ã\\x83â\\x80\\x9aã\\x82â¼bingen', 9), ('geiã\\x83æ\\x92ã\\x86â\\x80\\x99ã\\x83â\\x80¦ã\\x82â¸ler', 2), ('humid', 7), ('test', 17), ('contributions', 9), ('surrogate', 5), ('contribution', 16), ('end', 24), ('bo', 24), ('copied', 48), ('overview', 52), ('va', 24), ('tb', 24), ('splashcup', 12), ('scb', 16), ('installed', 8), ('life', 31), ('object', 29), ('baruffol', 12), ('aspects', 10), ('structure', 45), ('speciesã\\x83â¢ã¢â\\x82â¬ã¢â\\x80â\\x9carea', 5), ('sar', 5), ('contemporary', 5), ('vascular', 6), ('models', 20), ('exotics', 5), ('introduction', 14), ('domesticates', 5), ('ornamental', 5), ('exotic', 6), ('convert', 3), ('permit', 3), ('savannah', 2), ('extrapolate', 4), ('inherent', 3), ('approaches', 5), ('faceted', 3), ('dynamic', 5), ('hierarchical', 3), ('act', 9), ('facets', 7), ('hierarchy', 7), ('organization', 3), ('vegan', 1), ('package', 1), ('exceeded', 1), ('1m', 4), ('csp01', 5), ('inventories', 1), ('predicated', 1), ('clearly', 2), ('targets', 3), ('profound', 2), ('phylotypes', 4), ('mitigate', 6), ('detrimental', 4), ('gram', 15), ('red', 15), ('mould', 9), ('termites', 9), ('rownr', 14), ('start', 9), ('plotignore', 9), ('working', 9), ('protoc', 18), ('sur', 27), ('meas', 18), ('entered', 27), ('page', 9), ('idaddon', 9), ('specunpolished', 15), ('stemscnsm10', 9), ('dbase', 9), ('remark', 27), ('dtop', 18), ('len', 18), ('rem', 18), ('hei', 9), ('diam', 9), ('azimut', 9), ('pos', 27), ('cw', 9), ('mc', 9), ('dc', 13), ('ter', 19), ('rot', 9), ('vol', 9), ('factor', 14), ('allometrie', 9), ('subset', 12), ('produces', 10), ('anti', 10), ('products', 10), ('ribosomal', 7), ('peptides', 7), ('terpenoids', 7), ('heterocylic', 6), ('nitrogenous', 6), ('compounds', 15), ('bacteriocins', 8), ('lytic', 8), ('enzymes', 12), ('come', 8), ('happen', 3), ('landslides', 2), ('fire', 2), ('highlight', 2), ('need', 6), ('assist', 1), ('agro', 1), ('developing', 2), ('adaptive', 1), ('officially', 6), ('designated', 6), ('riparian', 13), ('reserves', 23), ('237', 1), ('freeformats', 7), ('213', 6), ('sp11', 5), ('20csp', 2), ('20herblayer', 3), ('20species', 2), ('20cover', 2), ('sb', 4), ('33e', 3), ('09', 7), ('herblayer', 3), ('old', 4), ('workbook', 1), ('format', 1), ('vnd', 17), ('ms', 5), ('excel', 7), ('218', 1), ('20specieslist', 1), ('20sp11', 1), ('specieslist', 1), ('cross', 1), ('table', 3), ('listing', 1), ('herb', 4), ('propose', 5), ('occupy', 1), ('tradeoffs', 3), ('lager', 1), ('wawo', 4), ('worms', 6), ('polychaeta', 2), ('annelida', 9), ('ambonese', 2), ('maluku', 2), ('aims', 3), ('macronutrient', 2), ('csp03', 9), ('slower', 5), ('therefore', 13), ('include', 9), ('impact', 44), ('designing', 3), ('strategies', 7), ('implementing', 3), ('underpinned', 1), ('strong', 7), ('illustrating', 2), ('dir', 20), ('quad', 13), ('ext', 18), ('labels', 18), ('series', 26), ('st', 27), ('dev', 19), ('so4', 9), (\"29o8'18\", 26), ('ã\\x83â¢ã¢â\\x80\\x9aâ¬ã¢â\\x82¬å\\x93', 22), (\"29o17'29\", 26), (\"118o2'14\", 26), (\"118o11'12\", 26), ('zhejiang', 3), ('province', 3), ('having', 13), ('30x30m', 14), ('addressed', 20), ('topic', 6), ('detailed', 6), ('twelve', 6), ('529', 6), ('31', 10), ('east', 11), ('4ã\\x83â¢ã¢â\\x80\\x9aâ¬ã¢â\\x82¬å\\x939', 6), ('years', 11), ('planting', 23), ('gap', 17), ('relevant', 4), ('mechanistic', 4), ('against', 6), ('demand', 14), ('depend', 14), ('coming', 13), ('changing', 13), ('mix', 15), ('increase', 48), ('metagenome', 14), ('niches', 1), ('poses', 2), ('promoted', 1), ('controlling', 1), ('disease', 1), ('flower', 10), ('visitation', 3), ('networks', 7), ('36', 3), ('csp10', 9), ('erode', 2), ('improves', 8), ('agroecosystems', 6), ('servicesã\\x83â¢ã¢â\\x82â¬ã¢â\\x80â\\x9dproduction', 4), ('elements', 9), ('formationã\\x83â¢ã¢â\\x82â¬ã¢â\\x80â\\x9din', 8), ('smallholder', 14), ('kenya', 11), ('windthrows', 2), ('plfa', 13), ('lipids', 4), ('impacted', 8), ('varies', 3), ('markedly', 3), ('continent', 7), ('genetic', 10), ('reliance', 5), ('regimes', 3), ('northern', 4), ('rampant', 1), ('exhibit', 1), ('shutdown', 2), ('outcome', 1), ('crisis', 2), ('csp04', 9), ('bioturbation', 9), ('must', 1), ('interactively', 1), ('silverid', 12), ('effectiveness', 7), ('chilean', 5), ('planned', 5), ('extensions', 5), ('representing', 9), ('improving', 1), ('strategy', 1), ('form', 14), ('ia', 7), ('ic', 7), ('fixation', 10), ('metabolic', 9), ('chemolithoautotrophs', 12), ('load', 7), ('transferring', 5), ('just', 13), ('maximizing', 9), ('equally', 5), ('protection', 14), ('47', 5), ('manipulate', 2), ('frequent', 4), ('emerging', 2), ('enhances', 2), ('integrate', 3), ('early', 5), ('existing', 5), ('single', 7), ('assessment', 15), ('confirms', 3), ('significance', 5), ('exclusive', 5), ('polyketides', 7), ('volatile', 7), ('polymorphism', 8), ('enhance', 7), ('grasslands', 7), ('ke', 1), ('1185', 1), ('rad', 18), ('primacy', 4), ('depended', 4), ('testing', 10), ('congruent', 4), ('complementary', 7), ('legume', 4), ('derive', 3), ('austin', 1), ('decision', 4), ('tool', 1), ('locating', 1), ('october', 2), ('march', 1), ('proposed', 6), ('priority', 7), ('representation', 16), ('sufficiently', 1), ('attain', 1), ('coverage', 1), ('exposed', 2), ('shaping', 2), ('meteorology', 10), ('57', 10), ('1ã\\x83â¢ã¢â\\x80\\x9aâ¬ã¢â\\x82¬å\\x9312', 10), ('projected', 24), ('sided', 13), ('accordance', 10), ('needle', 15), ('captured', 9), ('parallel', 7), ('metadata', 3), ('databases', 1), ('geographical', 1), ('isolation', 1), ('accessed', 4), ('url', 4), ('gvonoheimb', 6), ('cwirth', 2), ('experiments', 4), ('fruit', 4), ('farming', 5), ('chambers', 4), ('facilitate', 6), ('estuary', 41), ('washington', 35), ('elwha', 46), ('river', 33), ('release', 13), ('2007', 63), ('usgs', 16), ('predominantly', 13), ('biologists', 13), ('klallam', 13), ('participants', 4), ('wanted', 4), ('covering', 4), ('entire', 6), ('territory', 4), ('focusing', 12), ('hypotheses', 11), ('allocated', 10), ('poorter', 10), ('longevity', 8), ('deng', 10), ('morphology', 17), ('simple', 10), ('needles', 10), ('employ', 8), ('extensification', 8), ('ã\\x83â¢ã¢â\\x80â\\xa0ã¢â\\x80â\\x99', 24), ('tillage', 18), ('wooded', 7), ('functionally', 8), ('restoration', 6), ('nearly', 3), ('contain', 11), ('80', 4), ('great', 21), ('rich', 12), ('agroforestry', 6), ('suggesting', 15), ('optimally', 5), ('agroforest', 3), ('place', 11), ('summarized', 5), ('health', 16), ('safety', 2), ('justice', 2), ('places', 2), ('replenishment', 2), ('apparent', 1), ('enhancement', 8), ('segment', 1), ('north', 13), ('mid', 5), ('ridge', 7), ('mar', 9), ('sonar', 1), ('corers', 1), ('trawls', 1), ('traps', 11), ('operated', 1), ('vehicle', 1), ('archaea', 3), ('reductions', 7), ('strength', 7), ('interspecific', 6), ('enhanced', 8), ('disappear', 6), ('become', 13), ('extinct', 6), ('classes', 15), ('viii', 12), ('figure', 32), ('tyoe', 12), ('datasheet', 12), ('stock', 16), ('fenced', 192), ('33792', 4), ('md', 45), ('markdown', 15), ('334', 4), ('subdivision', 8), ('xlsx', 38), ('openxmlformats', 12), ('officedocument', 12), ('spreadsheetml', 12), ('sheet', 12), ('10631', 4), ('38233', 4), ('waterways', 8), ('16425', 4), ('rock', 16), ('artefacts49', 10), ('artefacts', 3), ('resolution', 2), ('reveals', 2), ('hiv', 2), ('quasispecies', 2), ('host', 7), ('taxonomically', 5), ('electrodes', 16), ('sentix', 16), ('wtw', 16), ('solutionkcl', 16), ('concentration', 10), ('analyzer', 5), ('combustion', 5), ('thermal', 5), ('detection', 5), ('analyser', 5), ('varioel', 5), ('162', 5), ('challenges', 4), ('resolved', 4), ('hierarchically', 4), ('recruitment', 4), ('structures', 4), ('stress', 4), ('traced', 4), ('fc', 4), ('path', 12), ('hypothesised', 8), ('photosynthesis', 12), ('controlled', 8), ('irrespective', 4), ('regulations', 4), ('relating', 4), ('crassostrea', 2), ('gigas', 2), ('prevent', 4), ('ostreid', 4), ('herpesvirus', 4), ('certain', 12), ('kingdom', 2), ('phylum', 7), ('decided', 2), ('differential', 2), ('preconditions', 2), ('characterise', 2), ('competitive', 9), ('power', 4), ('csp15', 9), ('metre', 1), ('affiliation', 10), ('tensile', 2), ('penetration', 2), ('werner', 1), ('hã\\x83æ\\x92ã\\x82â¤rdtle', 2), ('goddert', 2), ('von', 5), ('oheimb', 5), ('anne', 1), ('lang', 2), ('mesocosm', 8), ('fd', 1), ('petchey', 1), ('gaston', 1), ('database', 4), ('seven', 6), ('scrutinized', 2), ('846', 2), ('person', 2), ('occupancy', 4), ('196', 2), ('patches', 5), ('252', 2), ('669', 2), ('pinus', 3), ('massoniana', 3), ('un', 15), ('harvested', 15), ('juvenile', 2), ('pyrotags', 11), ('397', 8), ('carbohydrate', 2), ('enzyme', 2), ('metagenomes', 2), ('bovine', 2), ('rumen', 2), ('convergence', 2), ('institute', 14), ('botany', 11), ('geobotany', 11), ('botanical', 4), ('luther', 11), ('university', 14), ('halle', 25), ('saale', 6), ('0345', 11), ('26230', 11), ('704', 6), ('404', 6), ('accounts', 7), ('44', 6), ('800ã\\x83â¢ã¢â\\x82â¬ã¢â\\x80â\\x9c3500', 6), ('soft', 6), ('substrate', 6), ('95', 6), ('flat', 6), ('terraces', 7), ('intervening', 6), ('slopes', 10), ('side', 7), ('axis', 6), ('cultured', 3), ('continuous', 7), ('humidity', 8), ('digits', 7), ('front', 4), ('moved', 3), ('varied', 6), ('greatly', 4), ('probably', 2), ('lipid', 5), ('tesfaye', 1), ('wubet', 1), ('helmholtz', 3), ('centre', 7), ('ufz', 3), ('leipzig', 13), ('department', 3), ('theodor', 3), ('lieser', 3), ('straã\\x83æ\\x92ã\\x86â\\x80\\x99ã\\x83â\\x80¦ã\\x82â¸e', 3), ('6120', 3), ('345', 3), ('558', 3), ('5204', 1), ('franã\\x83æ\\x92ã\\x86â\\x80\\x99ã\\x83â\\x80\\x9aã\\x82â§ois', 1), ('buscot', 2), ('jessica', 1), ('gutknecht', 1), ('5255', 1), ('ting', 1), ('wu', 1), ('2ã\\x83å½ã\\x82â¼m', 7), ('minimizes', 3), ('disperse', 3), ('suitability', 3), ('disturbances', 5), ('reducing', 3), ('reefs', 5), ('ogl', 9), ('d2soil', 36), ('easting', 27), ('northing', 27), ('rel', 27), ('altitude', 20), ('geo', 49), ('e4cf73b0', 90), ('eef6', 90), ('4118', 90), ('a018', 90), ('40eb374f5de7', 90), ('readme', 18), ('4101', 9), ('supporting', 73), ('8100', 9), ('mike', 36), ('hornung', 36), ('phd', 36), ('volume1', 18), ('7867010', 9), ('volume2', 18), ('13541729', 9), ('rtf', 36), ('142944', 9), ('172', 9), ('cascade', 1), ('predators', 6), ('ã\\x83â¢ã¢â\\x82â¬ã¢â\\x80â\\x9d', 2), ('larvae', 10), ('preying', 1), ('bactivorous', 1), ('protozoa', 2), (\"29ã\\x83æ\\x92ã¢â\\x82¬å¡ã\\x83â\\x80\\x9aã\\x82â°08'\", 4), ('29ã\\x83æ\\x92ã¢â\\x82¬å¡ã\\x83â\\x80\\x9aã\\x82â°11', 4), (\"117ã\\x83æ\\x92ã¢â\\x82¬å¡ã\\x83â\\x80\\x9aã\\x82â°90'\", 4), ('117ã\\x83æ\\x92ã¢â\\x82¬å¡ã\\x83â\\x80\\x9aã\\x82â°93', 4), ('sseitz', 6), ('shelf', 4), ('play', 13), ('vital', 5), ('seminal', 4), ('andrã\\x83â\\x83ã\\x82â©n', 4), ('existence', 6), ('remnant', 4), ('connectivity', 4), ('eroded', 4), ('chargo', 2), ('chargo51', 3), ('bodenkundliche', 8), ('kartieranleitung', 16), ('parent', 5), ('material53', 4), ('underwater', 6), ('another', 1), ('distinction', 1), ('microbiology', 1), ('identifying', 1), ('massively', 11), ('includes', 5), ('despite', 3), ('fact', 3), ('mainstay', 3), ('robust', 3), ('evaluation', 5), ('strongly', 7), ('mdre', 8), ('substantially', 4), ('antibiotic', 2), ('exposure', 2), ('steffen', 3), ('seitz', 3), ('geographisches', 3), ('institut', 3), ('07071', 3), ('74081', 3), ('bscs', 5), ('sampled', 6), ('restoring', 3), ('forward', 11), ('projections', 9), ('intermediate', 10), ('intergovernmental', 9), ('panel', 11), ('ipcc', 9), ('scenario', 10), ('until', 11), ('moderate', 9), ('farmland', 13), ('andã¢â\\x82¬â\\x80\\x9dwithin', 2), ('mammalsã¢â\\x82¬â\\x80\\x9dbetween', 2), ('narrow', 2), ('ranged', 4), ('wide', 3), ('sequences', 2), ('taxonimic', 1), ('datsets', 1), ('warming', 17), ('destroyed', 5), ('considerable', 5), ('contributed', 7), ('proportional', 13), ('homogeneous', 5), ('difference', 7), ('rarer', 5), ('meanwhile', 3), ('intoxication', 1), ('studied', 5), ('brazilian', 1), ('thermoelectric', 1), ('cooling', 2), ('epa', 1), ('rules', 1), ('recirculating', 1), ('441', 1), ('mm3', 8), ('20', 19), ('300', 1), ('futures', 8), ('metabolism', 6), ('estuarine', 8), ('anthropogenically', 8), ('atmospheric', 6), ('managing', 9), ('csp14', 9), ('3ã\\x83å½ã\\x82â¼m', 1), ('salinity', 5), ('gaps', 8), ('surfaces', 7), ('speciescode', 7), ('acquired', 3), ('advantage', 6), ('brood', 3), ('mutualisms', 6), ('adults', 7), ('seed', 4), ('influential', 6), ('coevolutionary', 6), ('biology', 8), ('grains', 5), ('conducted', 22), ('added', 11), ('lumbricidae', 7), ('spp', 7), ('superba', 7), ('gardn', 2), ('insects', 10), ('micro', 6), ('consisted', 4), ('plastic', 6), ('550', 4), ('ml', 8), ('sunk', 4), ('preserving', 4), ('ethanol', 3), ('glycerol', 3), ('acetic', 3), ('acid', 5), ('drops', 4), ('detergent', 4), ('trapping', 4), ('csp02', 9), ('3ã\\x83â\\x82ã\\x82â±1', 1), ('detected', 4), ('prior', 3), ('exceptionally', 5), ('vertebrate', 6), ('providing', 10), ('mobile', 2), ('generalist', 10), ('csp07', 9), ('prokaryotes', 3), ('foraminifera', 3), ('meiofauna', 3), ('macrofauna', 3), ('megafauna', 3), ('200', 5), ('canyons', 3), ('cold', 3), ('corals', 6), ('hypersaline', 3), ('longitudinal', 3), ('bathymetric', 3), ('government', 6), ('works', 3), ('domain', 3), ('isobioclimate', 16), ('1km', 24), ('dd83', 24), ('img', 20), ('vat', 8), ('green', 11), ('blue', 6), ('opacity', 6), ('49486360', 2), ('309', 2), ('erdas', 8), ('hfa', 8), ('21365980', 2), ('13666', 2), ('rrd', 12), ('2004825', 2), ('lithology', 10), ('18698983', 2), ('1733048', 2), ('geoss', 2), ('thickness', 3), ('honey', 7), ('bees', 4), ('adult', 12), ('egg', 5), ('corbicular', 5), ('bread', 5), ('comb', 5), ('hive', 5), ('sp', 137), ('encoding', 4), ('attractive', 4), ('versatile', 4), ('michael', 1), ('staab', 9), ('chair', 1), ('tennenbacher', 1), ('str', 1), ('determining', 6), ('simply', 6), ('complete', 7), ('picture', 6), ('possible', 6), ('write', 2), ('ã\\x83æ\\x92ã\\x82â¯ã\\x83â\\x80\\x9aã\\x82â¿ã\\x83â\\x80\\x9aã\\x82â½', 1), ('sepecies', 4), ('unpolishedhelper', 4), ('spei', 23), ('oct', 10), ('abgd', 17), ('breaking', 4), ('colonisation', 2), ('collect', 2), ('stratified', 2), ('consult', 2), ('horticultural', 2), ('outplant', 2), ('propagate', 2), ('hawaiian', 2), ('cyperus', 2), ('pennatiformes', 2), ('chenopodium', 2), ('oahuense', 2), ('santalum', 2), ('ellipticum', 2), ('recommended', 2), ('horticulturist', 2), ('recommendations', 2), ('logs', 2), ('without', 6), ('visible', 2), ('largest', 7), ('circumference', 2), ('ancestral', 3), ('allopatric', 1), ('passively', 1), ('subpopulations', 1), ('diverge', 1), ('daughter', 1), ('actively', 1), ('migrates', 1), ('diverges', 1), ('retained', 5), ('occupancies', 3), ('contracted', 3), ('0ã\\x83â¢ã¢â\\x82â¬ã¢â\\x80â\\x9c14', 3), ('bodied', 2), ('extirpated', 3), ('stratum', 1), ('50cm', 1), ('thick', 1), ('layers', 24), ('economically', 3), ('traditionally', 3), ('shown', 18), ('alterations', 2), ('far', 4), ('reaching', 2), ('initiatives', 6), ('incentives', 5), ('migrate', 2), ('ecotones', 2), ('hard', 2), ('barriers', 2), ('migrations', 3), ('ecotone', 4), ('rare', 50), ('fg', 21), ('discriminate', 6), ('linkages', 9), ('broadly', 8), ('investigating', 6), ('behaviour', 3), ('unclear', 3), ('underlie', 1), ('assessments', 14), ('frequency', 12), ('severity', 11), ('due', 24), ('extensively', 11), ('scalar', 11), ('standardized', 11), ('larger', 7), ('fishes', 16), ('indo', 6), ('ppm', 2), ('bicar', 2), ('monocultures', 6), ('ten', 3), ('respectively', 9), ('juveniles', 3), ('own', 9), ('away', 9), ('thereby', 4), ('requirements', 10), ('selective', 10), ('pressures', 14), ('imposed', 10), ('pathogenic', 10), ('concentrated', 1), ('macroinvertebrate', 2), ('destructive', 4), ('barcoding', 4), ('preservative', 5), ('socioeconomically', 3), ('colonizing', 1), ('1638', 2), ('pelagic', 8), ('plus', 6), ('constant', 6), ('regime', 18), ('3397', 3), ('gradients', 3), ('period', 7), ('systematic', 9), ('investigation', 2), ('multifunctionality', 4), ('comprehensive', 6), ('94', 2), ('manipulations', 2), ('1ã\\x83â¢ã\\x8bâ\\x86ã\\x82â¶1', 5), ('contrasting', 7), ('ascomycota', 5), ('disturbance', 5), ('commonly', 3), ('introduced', 7), ('usa', 1), ('uncommon', 3), ('continue', 2), ('jeopardizes', 2), ('independently', 1), ('interrelationships', 1), ('rainevent', 6), ('determinig', 6), ('events', 18), ('sparse', 3), ('settings', 3), ('ridges', 1), ('perceived', 2), ('capable', 4), ('applied', 4), ('ecuador', 8), ('se', 29), ('contained', 2), ('yielding', 2), ('japanese', 7), ('compiled', 2), ('described', 6), ('japan', 2), ('endemic', 4), ('undescribed', 2), ('experts', 2), ('guides', 2), ('consideration', 2), ('physical', 12), ('carried', 1), ('albertine', 2), ('rift', 2), ('africa', 12), ('faction', 3), ('horizonwise', 6), ('horizontal', 3), ('monetary', 5), ('amounts', 5), ('recreational', 5), ('willing', 5), ('pay', 5), ('increases', 12), ('aquatic', 9), ('macroinvertebrates', 5), ('psychological', 5), ('inexpensive', 1), ('ngs', 2), ('useful', 7), ('adapting', 1), ('steps', 1), ('findings', 6), ('strategic', 1), ('framework', 2), ('incorporating', 1), ('exploring', 1), ('provision', 5), ('hdx', 6), ('61fb8604', 2), ('404e', 2), ('93da', 2), ('a7286d669836', 2), ('bank', 3), ('consolidated', 3), ('approximate', 1), ('represent', 6), ('appropriately', 2), ('help', 6), ('alternatives', 2), ('infrastructure', 5), ('helping', 2), ('rapidly', 5), ('transforming', 2), ('savannahs', 2), ('article', 4), ('themed', 2), ('issue', 4), ('grassy', 1), ('biomes', 1), ('82', 1), ('stems', 6), ('deviate', 2), ('vertical', 2), ('stature', 2), ('bendiness', 1), ('involving', 2), ('leaning', 2), ('latter', 2), ('bent', 3), ('curved', 2), ('schamp', 2), ('caco3', 1), ('predation', 3), ('corridors', 1), ('suitable', 1), ('microaggregate', 9), ('smooth', 3), ('phototrophic', 4), ('nrr', 2), ('occurred', 2), ('leap', 2), ('1950s', 2), ('weak', 12), ('mixing', 6), ('homogenize', 6), ('interior', 2), ('passive', 5), ('succession', 7), ('slow', 5), ('prerequisite', 1), ('preservation', 3), ('baseline', 1), ('measure', 3), ('documented', 3), ('nfa', 3), ('2018', 3), ('edition', 3), ('gfn', 2), ('concordance', 2), ('5699', 1), ('7132699', 1), ('planet', 1), ('sustainability', 1), ('110', 2), ('times', 2), ('barrier', 3), ('untested', 2), ('french', 2), ('polynesia', 2), ('r2', 2), ('93', 2), ('89', 2), ('87', 2), ('85', 2), ('attributes', 7), ('raindrop', 2), ('camp', 2), ('begin', 2), ('892f72f8', 1), ('29b5', 1), ('451e', 1), ('8d27', 1), ('7b89d1c45f63', 1), ('prioritize', 6), ('efforts', 9), ('aside', 4), ('2015', 15), ('defence', 5), ('journal', 5), ('botanik', 5), ('oliver', 4), ('purschke', 4), ('german', 4), ('idiv', 4), ('deutscher', 4), ('platz', 4), ('5e', 4), ('341', 4), ('33121', 4), ('fabaceae', 1), ('peter', 2), ('geography', 2), ('eberhard', 2), ('karls', 2), ('b32', 1), ('indiciating', 1), ('gives', 2), ('xxyy', 2), ('csp16', 7), ('multitrophic', 5), ('leaving', 4), ('uncertain', 4), ('yeasts', 3), ('simultaneously', 1), ('fallow', 1), ('bottom', 9), ('mediate', 4), ('tests', 4), ('focused', 4), ('attention', 4), ('ba15', 2), ('breastheight', 1), ('summed', 1), ('made', 11), ('regarding', 7), ('reef', 5), ('separate', 2), ('asymmetry', 2), ('recorded', 2), ('h20', 5), ('lands', 2), ('intraspecific', 4), ('490', 1), ('erosion', 1), ('relevancy', 5), ('excission', 1), ('metabolites', 7), ('involved', 6), ('normal', 3), ('reproduction', 4), ('significasitesntly', 7), ('cavitation', 1), ('benefitted', 1), ('neighbourhoods', 1), ('particularly', 1), ('facilitated', 1), ('interbasinal', 1), ('broadleaf', 6), ('canopies', 6), ('collection', 5), ('special', 5), ('regard', 8), ('204', 1), ('schima', 4), ('quercus', 4), ('serrata', 5), ('castanopsis', 4), ('eyrei', 5), ('castanea', 4), ('henryi', 5), ('whaerdtle', 4), ('alang', 2), ('industrial', 1), ('forestry', 6), ('leads', 1), ('simplified', 1), ('guilt', 4), ('pitfall', 5), ('trap', 4), ('tax', 4), ('subfamily', 4), ('interested', 4), ('publication', 7), ('properly', 7), ('cited', 7), ('schuldt', 4), ('assmann', 4), ('klein', 8), ('addresses', 2), ('hypsometer', 2), ('haglã\\x83æ\\x92ã\\x82â¶f', 2), ('september', 2), ('59', 1), ('now', 1), ('lpj', 6), ('guess', 6), ('parametrized', 3), ('creates', 3), ('assembly', 3), ('conclude', 2), ('lesser', 2), ('specimen', 12), ('implies', 2), ('ecol', 1), ('unravel', 2), ('drive', 2), ('oysters', 2), ('raise', 4), ('manage', 4), ('regulation', 4), ('flow', 5), ('forecast', 3), ('unknowable', 1), ('biome', 1), ('biosphere', 1), ('scant', 1), ('outcomes', 1), ('ra', 13), ('sra', 10), ('fertilized', 8), ('wirth', 11), ('pupae', 3), ('repeated', 3), ('simulate', 3), ('distances', 2), ('dominate', 1), ('pollinated', 1), ('cases', 1), ('extreme', 3), ('notably', 1), ('evolutions', 1), ('deception', 1), ('orchidaceae', 1), ('hydraulically', 2), ('connected', 2), ('cotton', 2), ('wick', 2), ('poesen', 2), ('savat', 2), ('1981', 2), ('import', 2), ('entering', 2), ('detail', 2), ('discuss', 2), ('visitor', 2), ('posit', 4), ('severe', 4), ('ny', 2), ('fuhs', 2), ('xmg2', 2), ('tannic', 2), ('equivalent', 3), ('conspicuous', 1), ('seeds', 3), ('plug', 3), ('create', 3), ('chalk', 3), ('winklebury', 6), ('tested', 11), ('kã\\x83æ\\x92ã\\x86â\\x80\\x99ã\\x83â\\x80\\x9aã\\x82â¼hn', 3), ('liming', 5), ('wading', 1), ('upland', 1), ('late', 3), ('devonian', 3), ('diametrically', 1), ('geologic', 1), ('intervals', 1), ('vicariant', 1), ('attributable', 1), ('causal', 1), ('wasdefined', 2), ('themeanheight', 4), ('biroi', 3), ('alticinae', 6), ('diptera', 72), ('ochetellus', 3), ('glaber', 3), ('monomorium', 3), ('chinense', 3), ('chrysomelidae', 12), ('lepisiota', 3), ('opaca', 3), ('halictinae', 9), ('nylanderia', 3), ('bourbonica', 3), ('salticidae', 9), ('coleoptera', 3), ('polyrhachis', 3), ('dives', 3), ('theridiidae', 3), ('elateridae', 3), ('coccinellidae', 3), ('dilobocondyla', 3), ('fouqueti', 3), ('17', 7), ('26', 6), ('braconidae', 6), ('mutillidae', 3), ('campsosternus', 3), ('auratus', 3), ('bruchidae', 2), ('methorst', 4), ('blã\\x83æ\\x92ã\\x86â\\x80\\x99ã\\x83â\\x80\\x9aã\\x82â¼thgen', 2), ('2016', 10), ('nectar', 4), ('trophobiosis', 1), ('recruits', 3), ('lifeform', 3), ('csp08', 9), ('csp17', 3), ('csp18', 3), ('csp19', 3), ('csp20', 3), ('csp21', 3), ('csp22', 3), ('csp23', 3), ('csp24', 3), ('csp25', 3), ('csp26', 3), ('csp27', 3), ('cause', 5), ('controversy', 1), ('literature', 3), ('respond', 1), ('3ã\\x83æ\\x92ã\\x85â½ã\\x83â\\x80\\x9aã\\x82â¼m', 1), ('kã\\x83æ\\x92ã\\x86â\\x80\\x99ã\\x83â\\x80\\x9aã\\x82â¶hn', 1), ('webs', 1), ('quasi', 1), ('linear', 1), ('reduces', 1), ('58', 1), ('rainfalls', 4), ('eutrophication', 2), ('alien', 2), ('rockmaterial', 1), ('trophobioses', 3), ('stored', 1), ('99', 1), ('ith', 3), ('afichtner', 2), ('aschuldt', 2), ('matkunz', 2), ('florians', 2), ('analysed', 1), ('pyrotag', 1), ('primer', 1), ('pair', 1), ('its1f', 1), ('its4', 1), ('feasibility', 1), ('revealed', 4), ('many', 4), ('encode', 3), ('seine', 2), ('bag', 4), ('mesh', 2), ('35', 2), ('75', 2), ('wings', 2), ('toward', 7), ('export', 20), ('6782abdc', 20), ('a810', 20), ('49f0', 20), ('a994', 20), ('f870b95438cf', 20), ('qual', 24), ('ej', 12), ('geoid10', 12), ('preserve', 12), ('replenish', 12), ('shape', 25), ('leng', 12), ('uhi', 12), ('174849', 2), ('212', 2), ('667044', 2), ('1700', 2), ('1611823', 2), ('1783966', 2), ('master', 2), ('plan', 2), ('125ã\\x83å½ã\\x82â¼m', 1), ('benefit', 2), ('win', 4), ('fatal', 3), ('attraction', 3), ('spotlight', 3), ('exploitation', 3), ('associate', 3), ('rarity', 3), ('incentive', 3), ('exploit', 3), ('feedback', 7), ('loop', 3), ('expert', 1), ('opinions', 1), ('update', 2), ('publicly', 1), ('revise', 1), ('several', 5), ('lists', 1), ('able', 1), ('trichloroethylene', 1), ('perchloroethylene', 2), ('pce', 1), ('geiã\\x83å¸ler', 5), ('kã\\x83â¼hn', 5), ('live', 1), ('sorted', 1), ('bulk', 1), ('grasses', 1), ('leguminous', 2), ('forbs', 2), ('legumes', 2), ('decomposing', 4), ('reflect', 6), ('correlation', 2), ('coefficients', 2), ('speis', 2), ('ndvi', 2), ('anomalies', 2), ('88', 2), ('28', 2), ('biodiverse', 4), ('transferred', 2), ('liter', 2), ('buckets', 2), ('aerated', 2), ('released', 2), ('feat46', 4), ('feature', 1), ('clonal', 2), ('second', 3), ('lots', 2), ('neighboring', 2), ('pesticide', 2), ('inputs', 2), ('infected', 6), ('mock', 2), ('behind', 3), ('stratigraphically', 1), ('constrained', 1), ('mode', 1), ('cladogenetic', 1), ('phyla', 1), ('arthropoda', 1), ('brachiopoda', 1), ('bathyal', 3), ('complementing', 3), ('insufficient', 3), ('urbanization', 6), ('permanent', 3), ('wittenberg', 6), ('kirchtor', 6), ('6108', 6), ('08', 10), ('tot', 13), ('bifurcat', 10), ('incl', 16), ('ã\\x83æ\\x92ã¢â\\x82¬å¡ã\\x83â\\x80\\x9aã\\x82â°', 2), ('tapinoma', 2), ('melanocephalum', 2), ('ethnobotany', 3), ('sarma', 7), ('turkey', 5), ('balkans', 3), ('cooked', 3), ('rolled', 3), ('filling', 3), ('rice', 2), ('vegetables', 2), ('seasoning', 3), ('ã\\x83â¢ã¢â\\x82â¬ã¢â\\x80â\\x9c', 3), ('feasting', 3), ('dishes', 3), ('middle', 5), ('cuisines', 4), ('incident', 2), ('940', 2), ('puget', 2), ('sound', 2), ('beach', 1), ('seining', 2), ('simenstad', 2), ('1991', 2), ('royal', 2), ('jelly', 2), ('responsible', 1), ('makers', 2), ('know', 2), ('prey', 1), ('biofilms', 1), ('previous', 1), ('beetle', 7), ('harvest', 3), ('enough', 2), ('diminish', 2), ('speciesspecific', 3), ('fixed', 3), ('declining', 3), ('unclassified', 5), ('art', 1), ('evaluating', 1), ('detecting', 1), ('trends', 4), ('employed', 1), ('guidelines', 1), ('comparisons', 3), ('herbarium', 4), ('museum', 2), ('stuttgart', 1), ('stu', 2), ('nectarivores', 2), ('consequence', 2), ('discussions', 2), ('hucname', 3), ('ecoregl3', 3), ('lat', 3), ('dd', 6), ('lon', 3), ('huc', 3), ('bighuc', 3), ('phstvl', 3), ('cond', 3), ('tp', 3), ('no3', 3), ('cl', 3), ('alk', 3), ('temp', 3), ('rbpscore', 3), ('abund', 3), ('sumcount', 3), ('numspec', 3), ('nsbent', 6), ('inv', 18), ('nontol', 9), ('nsintol', 3), ('pintol', 3), ('pbent', 6), ('ws', 3), ('lwskm2', 3), ('abent', 6), ('aintol', 3), ('ns', 3), ('darscumad', 9), ('ab', 3), ('lcond', 3), ('so4hco3', 3), ('totcount', 3), ('hardness', 3), ('fecal', 3), ('coliform', 3), ('xembed', 3), ('pct', 3), ('safn', 3), ('visit', 3), ('tn', 3), ('yearmonth', 3), ('gyearmonth', 2), ('12742122', 1), ('15258', 1), ('numerous', 2), ('turn', 2), ('examples', 1), ('axonomy', 2), ('indiv', 2), ('xinganshan', 2), ('consensus', 1), ('forecasted', 1), ('shifts', 2), ('culminate', 1), ('2080', 1), ('furthermore', 1), ('push', 1), ('filter', 1), ('specialist', 1), ('resilience', 2), ('confined', 1), ('neglect', 2), ('needs', 2), ('instrument', 2), ('nations', 4), ('convention', 3), ('explains', 1), ('guilds', 1), ('whereby', 1), ('heavily', 7), ('zoo', 5), ('lifespans', 4), ('expectancy', 5), ('sex', 2), ('median', 2), ('expectancies', 2), ('ex', 2), ('330', 2), ('abstract', 4), ('hundreds', 4), ('carefully', 3), ('vetted', 3), ('studbook', 3), ('american', 2), ('zoos', 1), ('aquariums', 3), ('deposited', 5), ('stigmas', 5), ('situated', 5), ('flowers', 6), ('depressed', 5), ('oceanic', 1), ('bathypelagic', 1), ('otherwise', 2), ('unable', 2), ('biodegradation', 1), ('tri', 1), ('sewage', 1), ('consortium', 1), ('going', 3), ('700ã\\x83â¢ã¢â\\x82â¬ã¢â\\x80â\\x9c46', 3), ('400', 6), ('000ã\\x83â¢ã¢â\\x82â¬ã¢â\\x80â\\x9c58', 3), ('2035', 3), ('savannas', 1), ('finding', 1), ('constraints', 2), ('rather', 2), ('summarize', 1), ('topographical', 1), ('entomological', 1), ('parasitological', 1), ('socio', 3), ('epiphyte', 3), ('decay', 6), ('joint', 1), ('optimized', 1), ('136', 1), ('reasearch', 3), ('remarkably', 2), ('neotropical', 3), ('ã\\x83å½ã\\x82â¼m', 1), ('particle', 2), ('inserted', 1), ('projects', 2), ('faced', 1), ('retain', 1), ('longer', 1), ('occured', 1), ('synoptic', 2), ('generate', 2), ('mm2', 2), ('entity', 1), ('invested', 1), ('groupsã\\x83â¢ã¢â\\x80\\x9aâ¬ã¢â\\x82¬â\\x9dinvertebrates', 1), ('birdsã\\x83â¢ã¢â\\x80\\x9aâ¬ã¢â\\x82¬â\\x9drespond', 1), ('055f3bf9', 2), ('d77d', 2), ('48f2', 2), ('b504', 2), ('cbbfdb5a394b', 2), ('pigeon', 6), ('perceptions', 2), ('addressing', 1), ('dual', 1), ('poverty', 1), ('alleviation', 1), ('densely', 1), ('populated', 1), ('develop', 1), ('appropriate', 1), ('anticipate', 2), ('interpreted', 1), ('adapted', 1), ('residents', 1), ('hoverfly', 6), ('footprint', 1), ('tracks', 1), ('sole', 1), ('facilitating', 1), ('necessary', 3), ('facilitator', 1), ('identical', 3), ('undisturbedã¯â¿â½', 1), ('begun', 1), ('drastically', 1), ('alter', 1), ('prevalence', 1), ('untold', 1), ('accommodating', 1), ('uncertainties', 1), ('plans', 1), ('necessity', 4), ('holistic', 4), ('grass', 2), ('171', 3), ('campaign', 15), ('sequential', 6), ('measring', 6), ('323', 1), ('unabiguous', 3), ('refers', 3), ('characters', 2), ('allowing', 2), ('biased', 6), ('southern', 8), ('chile', 8), ('extents', 6), ('agents', 2), ('leave', 1), ('sep', 4), ('quantity', 1), ('characterizes', 1), ('heightwasdefined', 2), ('transformed', 2), ('beers', 2), ('blã\\x83æ\\x92ã\\x82â¼thgen', 2), ('fa50d8a7', 1), ('6248', 1), ('4e11', 1), ('a752', 1), ('1c99ea1875a3', 1), ('horizon31', 3), ('circular', 2), ('determination', 2), ('applications', 3), ('demonstrates', 3), ('retaining', 3), ('calculations', 2), ('figured', 2), ('silk', 4), ('prevents', 4), ('guarantees', 6), ('vice', 4), ('versa', 4), ('neither', 3), ('suppressive', 3), ('nor', 3), ('composts', 3), ('zopfiella', 3), ('massive', 1), ('subterranean', 1), ('workers', 1), ('kilograms', 1), ('206', 2), ('describes', 3), ('listed', 1), ('occurring', 2), ('ranked', 1), ('decomposers', 1), ('multiplied', 2), ('get', 4), ('70', 1), ('4000', 1), ('assumption', 1), ('equilibrium', 2), ('revisit', 1), ('take', 1), ('progression', 1), ('log', 2), ('something', 1), ('decayed', 1), ('months', 1), ('127', 1), ('seedlings', 8), ('monoculture', 7), ('intra', 1), ('amoebal', 1), ('giving', 2), ('rough', 2), ('quick', 2), ('african', 1), ('coast', 1), ('temporal', 2), ('examination', 1), ('implicate', 1), ('envrionment', 2), ('sabine', 1), ('missing', 2), ('twubet', 2), ('fbuscot', 2), ('ywu', 2), ('stable', 1), ('explanations', 3), ('variance', 3), ('statistical', 3), ('averaging', 3), ('optimization', 3), ('converging', 3), ('southwest', 1), ('australian', 1), ('ancient', 1), ('relief', 1), ('edaphically', 1), ('hypothesize', 2), ('extraction', 2), ('verena', 1), ('mã\\x83æ\\x92ã\\x82â¼ller', 1), ('principal', 1), ('barcoded', 1), ('ontario', 1), ('guelph', 1), ('canada', 1), ('correlating', 1), ('coi', 1), ('barcode', 2), ('traditional', 1), ('facies', 1), ('genitalia', 1), ('microlocation', 1), ('yunnan', 3), ('mega', 1), ('lingcod', 1), ('coupled', 1), ('concern', 1), ('evidenced', 1), ('180', 1), ('endemism', 1), ('minimize', 1), ('gravels', 1), ('unified', 1), ('uscs', 1), ('drainage', 3), ('expressed', 1), ('equivalents', 1), ('describe', 1), ('maximized', 1), ('patient', 6), ('suggested', 1), ('formal', 1), ('preliminary', 1), ('confers', 1), ('movement', 1), ('minimizing', 1), ('inbreeding', 1), ('naturally', 1), ('fragmented', 1), ('photospectrometer', 1), ('1205', 1), ('581', 2), ('jecol', 8), ('tre', 4), ('44e', 4), ('octet', 1), ('582', 2), ('cophenetic', 4), ('datagov', 1), ('uk', 4), ('7e7d528f', 1), ('6c06', 1), ('4f68', 1), ('aecc', 1), ('aec382244f1e', 1), ('ammonium', 1), ('nitrification', 1), ('mineralisation', 1), ('tension', 1), ('3cm2', 1), ('lives', 1), ('assembled', 1), ('hydrobia', 1), ('ulvae', 1), ('corophium', 1), ('volutator', 1), ('hediste', 1), ('diversicolor', 1), ('multispecies', 1), ('combinations', 1), ('2000', 1), ('630ã\\x83å½ã\\x82â¼m', 1), ('vent', 2), ('accumulate', 2), ('watson', 3), ('1947', 3), ('spaces', 2), ('recording', 3), ('moving', 2), ('beyond', 2), ('neutral', 2), ('theory', 4), ('challenging', 2), ('question', 2), ('580', 1), ('corners', 1), ('distinct', 2), ('cultural', 2), ('beliefs', 2), ('practices', 2), ('steep', 6), ('terrain', 4), ('multilayer', 4), ('difficult', 4), ('topography', 4), ('azi', 12), ('grad', 8), ('ci', 12), ('loc', 12), ('asp', 8), ('rat', 4), ('pl', 8), ('largely', 1), ('continues', 2), ('problem', 2), ('100', 2), ('primarily', 2), ('minced', 2), ('meat', 2), ('surficial', 3), ('randomly', 2), ('visually', 2), ('inspected', 2), ('fusarium', 1), ('harbor', 1), ('tribes', 1), ('course', 2), ('debate', 2), ('sierra', 2), ('leonean', 2), ('removes', 1), ('modulating', 1), ('next', 1), ('ao1', 6), ('g1', 2), ('pilot1', 2), ('belong', 2), ('approx', 1), (\"29ã\\x83æ\\x92ã¢â\\x82¬å¡ã\\x83â\\x80\\x9aã\\x82â°06'20\", 2), (\"117ã\\x83æ\\x92ã¢â\\x82¬å¡ã\\x83â\\x80\\x9aã\\x82â°55'12\", 2), ('basin', 1), ('spot', 1), ('supposed', 1), ('impoverished', 1), ('yielded', 1), ('precise', 1), ('reproducible', 1), ('subdivided', 1), ('split', 1), ('combine', 3), ('check', 3), ('corresponding', 3), ('ids', 3), ('unusually', 2), ('normalized', 2), ('pitcher', 1), ('sarracenia', 1), ('purpurea', 1), ('interaction', 3), ('ã\\x83â¯ã\\x82â¿ã\\x82â½', 1), ('accessible', 1), ('hunters', 1), ('edge', 1), ('severely', 2), ('diminishing', 1), ('predictive', 1), ('ã\\x83â¢ã\\x8bâ\\x86ã\\x82â¼9', 1), ('metasheet', 1), ('z1', 1), ('treeandshrubspecies', 1), ('lsid', 1), ('accompanied', 1), ('threatening', 1), ('limit', 1), ('cope', 1), ('moreover', 1), ('colocasia', 1), ('esculenta', 1), ('phytolacca', 2), ('americana', 2), ('macedonia', 2), ('folk', 1), ('undisturbedã\\x83â¯ã\\x82â¿ã\\x82â½', 1), ('antimicrobial', 3), ('proteins', 3), ('chaoyang', 1), ('beijing', 1), ('008610', 1), ('64807085', 1), ('view', 2), ('click', 2), ('behaviors', 2), ('political', 2), ('imports', 2), ('invoices', 2), ('routinely', 2), ('dramatic', 2), ('recipient', 2), ('q', 1), ('medicinally', 1), ('10ã\\x83â¢ã¢â\\x80\\x9aâ¬ã¢â\\x82¬å\\x9340', 1), ('yrs', 3), ('40ã\\x83â¢ã¢â\\x80\\x9aâ¬ã¢â\\x82¬å\\x9380', 1), ('microalgal', 1), ('microphytobenthos', 1), ('autochthonous', 1), ('proxy', 1), ('ã\\x83æ\\x92ã\\x82â¢ã\\x83â¢ã¢â\\x82¬å¡ã\\x82â¬ã\\x83â¢ã¢â\\x80\\x9aâ¬ã\\x85â\\x80\\x9c', 4), ('hemipteran', 1), ('mutualism', 1), ('antã\\x83æ\\x92ã\\x82â¢ã\\x83â¢ã¢â\\x82¬å¡ã\\x82â¬ã\\x83â¢ã¢â\\x80\\x9aâ¬ã\\x85â\\x80\\x9chemipteran', 1), ('attempt', 1), ('modelled', 1), ('scenarioã\\x83â¯ã\\x82â¿ã\\x82â½', 1), ('compensatory', 1), ('grew', 1), ('taller', 1), ('unlike', 1), ('holobee', 2), ('redundancy', 1), ('mop', 1), ('archive', 1), ('double', 1), ('posing', 1), ('scenariosã\\x83â¯ã\\x82â¿ã\\x82â½', 1), ('resilient', 1), ('offset', 1), ('pose', 2), ('serious', 2), ('prevailing', 2), ('marginally', 2), ('usable', 2), ('intact', 2), ('preserved', 2), ('498', 1), ('coordinates', 1), ('inside', 2), ('suffer', 1), ('col32', 2), ('maintains', 1), ('distantly', 1), ('agroecosystem', 1), ('yrã\\x83â¢ã\\x8bâ\\x86ã¢â\\x80â\\x991', 2), ('5ã\\x83â¢ã¢â\\x82â¬ã¢â\\x80â\\x9c2', 1), ('stay', 1), ('2100', 1), ('63', 1), ('20ã\\x83å½ã\\x82â¼m', 1), ('underestimated', 1), ('portions', 1), ('preparations', 1), ('lightly', 1), ('potato', 1), ('ne', 1), ('albania', 1), ('arum', 1), ('convolvulus', 1), ('smilax', 1), ('tussilago', 1), ('farfara', 1), ('recovered', 1), ('rank', 1), ('highlights', 1), ('understood', 1), ('overlaying', 1), ('validated', 1), ('sightings', 1), ('dedicated', 1), ('northeast', 1), ('breeding', 1), ('domesticated', 1), ('relatives', 1), ('asked', 1), ('questions', 1), ('goes', 1), ('disadvantages', 1), ('exclusion', 1), ('size55', 1), ('stratigraphy56', 2), ('dwelling', 4), ('lived', 2), ('latitude', 1), ('volant', 1), ('replicate', 1), ('brazil', 1), ('evident', 1), ('opportunities', 1), ('enhancing', 1), ('chinese', 1), ('encourage', 1), ('active', 1), ('materials', 2), ('conterminous', 1), ('soller', 1), ('reheis', 1), ('2004', 1), ('superoxide', 1), ('dismutase', 1), ('catalase', 1), ('malondialdehyde', 1)])\n",
      "The word index {'the': 1, 'of': 2, 'and': 3, 'in': 4, 'emissions': 5, 'by': 6, 'to': 7, 'environment': 8, 'vaisala': 9, 'from': 10, 'string': 11, 'rainfall': 12, 'is': 13, 'species': 14, 'for': 15, 'land': 16, 'a': 17, 'tipping': 18, 'bucket': 19, 'area': 20, 'tree': 21, 'open': 22, 'quality': 23, 'co2': 24, 'organism': 25, '5': 26, 'intensity': 27, 'at': 28, 'name': 29, 'field': 30, 'community': 31, 'csv': 32, 'below': 33, 'mm': 34, 'where': 35, 'average': 36, 'areas': 37, 'sensor': 38, '1': 39, 'energy': 40, 'elevation': 41, 'rents': 42, 'meters': 43, 'number': 44, 'people': 45, 'data': 46, 'original': 47, 'production': 48, 'hmeasured': 49, 'measured': 50, 'with': 51, 'water': 52, 'were': 53, 'indicators': 54, 'tags': 55, 'using': 56, 'services': 57, 'indicator': 58, 'country': 59, 'renewable': 60, 'composition': 61, 'on': 62, 'amount': 63, 'rain': 64, 'gas': 65, 'gauge': 66, 'dimensionless': 67, 'phenomena': 68, 'electricity': 69, 'metal': 70, 'or': 71, 'biodiversity': 72, 'matter': 73, 'consumption': 74, 'precipitation': 75, 'as': 76, 'total': 77, 'this': 78, 'helper': 79, 'mmmeasured': 80, 'other': 81, 'methane': 82, 'population': 83, 'living': 84, 'soil': 85, 'leaf': 86, 'five': 87, 'debris': 88, 'peak': 89, 'datagroup': 90, 'urban': 91, 'real': 92, 'diameter': 93, 'india': 94, 'agricultural': 95, 'csp': 96, 'collecting': 97, 'year': 98, 'height': 99, 'bottle': 100, 'plant': 101, 'description': 102, 'resources': 103, 'protected': 104, 'trees': 105, 'cwm': 106, 'that': 107, 'rural': 108, 'fuel': 109, 'used': 110, 'woody': 111, 'nitrous': 112, 'oxide': 113, 'value': 114, 'forest': 115, 'mean': 116, 'basic': 117, 'freshwater': 118, 'diversity': 119, 'tag': 120, 'sites': 121, '3': 122, 'also': 123, 'given': 124, 'mortality': 125, 'code': 126, 'integer': 127, 'rate': 128, 'iso3': 129, 'sector': 130, 'marine': 131, 'natural': 132, 'decimal': 133, 'attributed': 134, 'experiment': 135, 'study': 136, 'columns': 137, 'access': 138, 'column': 139, 'be': 140, 'air': 141, 'terrestrial': 142, 'managed': 143, 'least': 144, 'weighted': 145, 'fisheries': 146, 'id': 147, 'drinking': 148, 'sanitation': 149, 'safely': 150, 'internal': 151, 'inventory': 152, '2': 153, 'we': 154, 'reference': 155, 'dbh': 156, 'list': 157, 'are': 158, 'highest': 159, 'main': 160, 'within': 161, '2013': 162, 'downtown': 163, 'individual': 164, 'was': 165, 'set': 166, 'minute': 167, 'savings': 168, 'adjusted': 169, 'pollution': 170, 'oil': 171, 'intensities': 172, 'per': 173, 'abundance': 174, 'understand': 175, 'depth': 176, 'productivity': 177, 'ph': 178, 'phylogenetic': 179, 'gyear': 180, 'climate': 181, 'richness': 182, '6': 183, 'individuals': 184, 'net': 185, 'n': 186, 'but': 187, 'greenhouse': 188, 'location': 189, 'csps': 190, 'biomass': 191, 'breast': 192, 'carbon': 193, 'text': 194, 't': 195, 'additional': 196, 'martin': 197, 'quantify': 198, 'c': 199, 'ways': 200, 'source': 201, 'fish': 202, 'stem': 203, 'comparative': 204, 's': 205, 'can': 206, 'items': 207, 'not': 208, 'plot': 209, 'china': 210, 'use': 211, 'shrub': 212, 'an': 213, 'v': 214, 'surface': 215, 'arable': 216, 'bird': 217, 'sample': 218, 'related': 219, 'station': 220, 'boolean': 221, 'effects': 222, 'digit': 223, 'locally': 224, 'starting': 225, 'derived': 226, 'tape': 227, 'last': 228, 'coal': 229, 'crown': 230, 'x': 231, 'updated': 232, 'including': 233, 'file': 234, 'mostly': 235, 'annual': 236, 'liquid': 237, 'capture': 238, 'calliper': 239, 'date': 240, 'public': 241, 'methodology': 242, 'response': 243, 'marked': 244, 'mineral': 245, 'bef': 246, 'output': 247, 'may': 248, 'p': 249, 'gaseous': 250, 'solid': 251, 'pm2': 252, 'practicing': 253, 'defecation': 254, 'capita': 255, 'registry': 256, 'mammal': 257, 'application': 258, 'considered': 259, 'have': 260, 'json': 261, 'loss': 262, 'primary': 263, 'linking': 264, 'attribution': 265, 'license': 266, 'creative': 267, 'commons': 268, 'cc': 269, 'level': 270, 'm': 271, 'wind': 272, 'ground': 273, 'called': 274, 'case': 275, 'than': 276, 'between': 277, 'analysis': 278, 'different': 279, 'based': 280, 'dead': 281, 'nitrogen': 282, 'construction': 283, 'functional': 284, 'it': 285, 'instrumentation': 286, 'basal': 287, 'score': 288, 'fenced': 289, 'transport': 290, 'silver': 291, 'here': 292, 'ecosystem': 293, 'condition': 294, 'dataset': 295, 'sources': 296, 'background': 297, 'international': 298, 'millimeter': 299, 'position': 300, 'hxl': 301, 'traits': 302, 'communities': 303, 'plots': 304, 'commercial': 305, 'comment': 306, 'residential': 307, 'potential': 308, 'speed': 309, 'clean': 310, 'technologies': 311, 'cooking': 312, 'withdrawals': 313, 'manufacturing': 314, 'industries': 315, 'sectors': 316, 'buildings': 317, 'droughts': 318, 'removals': 319, 'trait': 320, 'fuels': 321, 'ghg': 322, 'lucf': 323, 'household': 324, 'ambient': 325, 'unintentional': 326, 'poisoning': 327, 'unsafe': 328, 'pfc': 329, 'sf6': 330, 'heat': 331, 'higher': 332, 'risk': 333, 'hfc': 334, 'time': 335, 'aquaculture': 336, 'all': 337, '29': 338, 'fungi': 339, 'i': 340, 'aboveground': 341, 'animal': 342, 'conditions': 343, 'wood': 344, 'above': 345, 'which': 346, 'respective': 347, 'reduction': 348, 'exp': 349, 'park': 350, 'greenland': 351, 'bruelheide': 352, 'relative': 353, 'determined': 354, 'disaster': 355, 'progress': 356, 'volume': 357, 'awp': 358, 'handwashing': 359, 'facilities': 360, 'soap': 361, 'slums': 362, '375066': 363, 'html': 364, 'xml': 365, 'h': 366, 'size': 367, 'their': 368, 'event': 369, 'kcl': 370, 'target': 371, 'h2o': 372, 'b': 373, 'ratio': 374, 'sand': 375, 'type': 376, 'class': 377, 'information': 378, 'sp': 379, 'fungal': 380, 'ecosystems': 381, 'specific': 382, 'tagmba': 383, 'sla': 384, 'important': 385, 'focal': 386, 'alive': 387, 'relationship': 388, 'christian': 389, 'ldmc': 390, 'because': 391, 'if': 392, 'impacts': 393, 'among': 394, 'length': 395, 'changes': 396, 'anjacsp': 397, 'across': 398, 'geochemical': 399, 'am': 400, 'these': 401, 'taxon': 402, 'com': 403, 'ranger': 404, 'e': 405, 'high': 406, 'find': 407, 'headers': 408, '4': 409, 'growth': 410, 'density': 411, 'stomata': 412, 'tannin': 413, 'mg': 414, 'int': 415, 'k': 416, 'extrapolated': 417, 'planted': 418, 'each': 419, 'habitat': 420, 'vegetation': 421, 'site': 422, 'such': 423, 'keywords': 424, 'measurement': 425, 'only': 426, 'three': 427, 'taxonomic': 428, 'collected': 429, 'caterpillars': 430, 'estimated': 431, 'levels': 432, 'anja': 433, 'download': 434, '0': 435, 'most': 436, 'earthworms': 437, 'cwd': 438, 'no': 439, 'one': 440, 'dry': 441, 'acidity': 442, 'present': 443, 'content': 444, 'large': 445, '2014': 446, 'weather': 447, 'hour': 448, 'under': 449, 'central': 450, 'address': 451, 'div': 452, 'has': 453, 'index': 454, 'distribution': 455, 'change': 456, 'neighbourhood': 457, 'category': 458, 'objectid': 459, 'y': 460, 'error': 461, 'census': 462, 'global': 463, 'how': 464, '50': 465, 'pdf': 466, 'increased': 467, 'greater': 468, 'weight': 469, 'bare': 470, 'helge': 471, 'tropical': 472, 'influence': 473, 'chemical': 474, 'research': 475, 'well': 476, 'conservation': 477, 'our': 478, 'been': 479, 'science': 480, \"29ã\\x83â\\x80\\x9aã\\x82â°08'\": 481, 'la': 482, 'na': 483, 'two': 484, 'processes': 485, 'standing': 486, 'ca': 487, 'al': 488, 'num': 489, 'values': 490, 'phosphorus': 491, 'dbhpostmean': 492, 'cn': 493, 'efn': 494, 'top5': 495, 'shp': 496, 'krã\\x83æ\\x92ã\\x82â¶ber': 497, 'photo': 498, 'count': 499, 'e4cf73b0': 500, 'eef6': 501, '4118': 502, 'a018': 503, '40eb374f5de7': 504, 'into': 505, 'current': 506, 'samples': 507, 'unit': 508, 'understanding': 509, 'calculated': 510, 'stocks': 511, 'first': 512, 'depends': 513, 'lower': 514, 'ice': 515, 'forests': 516, 'family': 517, 'parentlayerid': 518, 'defaultvisibility': 519, 'sublayerids': 520, 'minscale': 521, 'maxscale': 522, 'dbf': 523, 'associated': 524, 'tagafcw': 525, 'estimate': 526, '12': 527, 'hectares': 528, '117': 529, '8998': 530, '118': 531, '1483': 532, '2852': 533, '10178': 534, '29ã\\x83â\\x80\\x9aã\\x82â°11': 535, \"117ã\\x83â\\x80\\x9aã\\x82â°90'\": 536, '117ã\\x83â\\x80\\x9aã\\x82â°93': 537, 'us': 538, 'boot': 539, 'scientific': 540, 'documents': 541, 'chemicals': 542, 'group': 543, 'while': 544, 'maximum': 545, 'nutrient': 546, 'psi50': 547, 'sawp': 548, 'nci': 549, 'item': 550, '2012': 551, 'otus': 552, 'posterior': 553, 'functioning': 554, 'gutianshan': 555, 'calcium': 556, 'found': 557, 'more': 558, 'concentrations': 559, 'according': 560, 'since': 561, 'when': 562, 'supporting': 563, 'european': 564, 'shapefile': 565, '00': 566, 'resource': 567, 'rao': 568, 'horizon': 569, 'pd': 570, 'mpd': 571, 'mntd': 572, 'diptera': 573, 'earth': 574, 'neighbours': 575, 'g': 576, 'properties': 577, 'storm': 578, 'rates': 579, 'gemas': 580, 'indicating': 581, 'distance': 582, 'identity': 583, 'its': 584, 'indices': 585, 'kinetic': 586, 'would': 587, 'should': 588, 'coastal': 589, 'point': 590, 'functions': 591, 'common': 592, 'scale': 593, 'ecological': 594, 'standardised': 595, 'age': 596, 'groups': 597, 'soils': 598, 'neigh': 599, 'call': 600, 'prof': 601, 'temperature': 602, 'dbhpostsd': 603, 'stemsgreq10': 604, 'dried': 605, 'sieved': 606, '2mm': 607, 'plants': 608, 'engineers': 609, 'microbial': 610, 'results': 611, 'predict': 612, 'erfmeier': 613, '2008': 614, 'cm': 615, '2007': 616, 'management': 617, 'representative': 618, 'chemistry': 619, 'conductivity': 620, 'habitats': 621, 'mapping': 622, 'then': 623, 'neighbour': 624, 'cr': 625, 'cover': 626, 'splashcups': 627, 'leaves': 628, 'particular': 629, 'experimental': 630, 'zip': 631, 'flora': 632, 'both': 633, 'permission': 634, 'granted': 635, 'anybody': 636, 'publish': 637, 'freely': 638, 'bacteria': 639, 'analyses': 640, 'secondary': 641, '9': 642, 'identified': 643, 'interactions': 644, 'containing': 645, 'show': 646, 'ii': 647, 'commands': 648, 'taxo': 649, 'divc': 650, 'measurements': 651, 'lost': 652, 'alexandra': 653, 'process': 654, 'herbivory': 655, 'diverse': 656, 'snagcsp': 657, 'increasing': 658, 'geom': 659, 'prj': 660, 'shx': 661, 'lead': 662, 'co': 663, 'invasive': 664, 'identifier': 665, 'grazing': 666, 'local': 667, 'wms': 668, 'getcapabilities': 669, 'element': 670, 'observed': 671, 'competition': 672, 'nb': 673, 'organic': 674, 'food': 675, 'consequences': 676, 'low': 677, 'grassland': 678, 'ecology': 679, 'patterns': 680, 'plantations': 681, 'provided': 682, 'trophic': 683, 'system': 684, 'iii': 685, 'estimation': 686, 'phylo': 687, 'leaftough': 688, 'treevol': 689, 'drought': 690, 'bootstrapped': 691, 'example': 692, 'allometries': 693, 'et': 694, 'environmental': 695, 'genus': 696, 'j': 697, 'throughfall': 698, 'karin': 699, '10cm': 700, 'kn': 701, 'eichenberg': 702, 'closest': 703, 'overview': 704, 'region': 705, 'sampling': 706, 'presence': 707, 'will': 708, 'groundwater': 709, 'whole': 710, 'cpg': 711, 'sbn': 712, 'sbx': 713, 'duration': 714, 'layer': 715, 'characterizing': 716, 'favorable': 717, 'interval': 718, 'surrounding': 719, 'same': 720, 'four': 721, 'corrected': 722, 'native': 723, 'compound': 724, 'through': 725, 'trade': 726, 'west': 727, '2002': 728, 'xylem': 729, 'hydraulic': 730, 'zhang': 731, 'ehmig': 732, 'plos': 733, 'e109211': 734, 'devided': 735, 'quantile': 736, 'diverstiy': 737, '2006': 738, 'rare': 739, 'up': 740, 'arthropods': 741, 'calculate': 742, 'means': 743, 'there': 744, 'fresh': 745, 'en': 746, 'over': 747, 'typically': 748, 'geo': 749, 'base': 750, 'national': 751, 'monitoring': 752, 'meandbh': 753, 'meangr10': 754, 'meansm10cn': 755, 'potassium': 756, '25': 757, 'lb': 758, 'copied': 759, 'increase': 760, 'classification': 761, 'herbivore': 762, 'germany': 763, 'bifurcation': 764, 'intermountain': 765, 'standard': 766, 'design': 767, 'teng': 768, 'fang': 769, 'verified': 770, 'new': 771, 'often': 772, 'animals': 773, 'toughness': 774, 'relationships': 775, 'lab': 776, 'model': 777, 'they': 778, 'elwha': 779, 'combination': 780, 'district': 781, 'phenolics': 782, 'minor': 783, 'cor': 784, 'characteristics': 785, 'structure': 786, 'md': 787, 'herbs': 788, 'half': 789, 'had': 790, 'mind': 791, 'allocation': 792, 'datetime': 793, 'collector': 794, 'david': 795, '7': 796, '10': 797, 'impact': 798, 'fallows': 799, 'affect': 800, 'eight': 801, 'capacity': 802, 'less': 803, 'explanatory': 804, 'extrapolation': 805, 'width': 806, 'ristok': 807, 'during': 808, 'whether': 809, 'out': 810, 'reproductive': 811, 'could': 812, 'samplecode': 813, 'fe': 814, 'mn': 815, 'azimuth': 816, 'veg': 817, 'measures': 818, 'deviation': 819, 'divided': 820, 'earthworm': 821, 'recent': 822, 'insect': 823, 'intestinal': 824, 'w': 825, 'r': 826, 'human': 827, 'final': 828, 'plain': 829, 'organisms': 830, 'cadmium': 831, 'hbruelheide': 832, 'visiting': 833, 'estuary': 834, 'decomposition': 835, '8': 836, 'spatial': 837, 'wenzel': 838, 'bã\\x83æ\\x92ã\\x82â¶hnke': 839, 'role': 840, 'states': 841, 'ability': 842, 'percentage': 843, 'potentially': 844, 'percent': 845, 'thus': 846, 'vicinity': 847, 'ca2': 848, 'k2': 849, 'mg2': 850, 'zn': 851, 'cu': 852, 'pb': 853, 'sr': 854, 'ni': 855, 'cd214': 856, 'cd228': 857, 'experimantal': 858, 'deichenberg': 859, 'wkroeber': 860, 'mboehnke': 861, 'addition': 862, 'yes': 863, 'successional': 864, 'solutionh20': 865, 'being': 866, '40': 867, 'otu': 868, 'effect': 869, 'stability': 870, 'continental': 871, 'asset': 872, 'variation': 873, 'aluminium': 874, 'chrome': 875, 'cobalt': 876, 'copper': 877, 'magnesium': 878, 'manganese': 879, 'nickel': 880, 'polyphenols': 881, 'phenolic': 882, 'natrium': 883, 'uncertainty': 884, 'xlsx': 885, 'multi': 886, 'cutter': 887, 'action': 888, 'expected': 889, 'geographic': 890, 'links': 891, 'overall': 892, 'slope': 893, 'support': 894, 'provide': 895, 'initial': 896, 'iron': 897, 'kalium': 898, 'strontium': 899, 'sulfur': 900, 'stoichiometry': 901, 'sulphur': 902, 'mirror': 903, 'conversion': 904, 'garden': 905, 'summary': 906, 'cups': 907, 'd': 908, 'highly': 909, 'methods': 910, 'utc': 911, 'available': 912, 'multiple': 913, 'valid': 914, 'moisture': 915, 'indicate': 916, '2010': 917, 'grain': 918, 'd2soil': 919, 'mike': 920, 'hornung': 921, 'phd': 922, 'rtf': 923, 'pollination': 924, 'did': 925, 'splash': 926, 'likely': 927, 'approach': 928, 'self': 929, 'assemblage': 930, 'zinc': 931, 'canopy': 932, 'tã\\x83æ\\x92ã\\x82â¼bingen': 933, 'pwind': 934, 'wikipedia': 935, 'operational': 936, 'washington': 937, 'importance': 938, 'proportion': 939, 'predicted': 940, 'former': 941, 'fullnames': 942, 'complex': 943, 'deriving': 944, 'significant': 945, 'datasets': 946, 'protocol': 947, 'af': 948, 'affected': 949, 'magnesia': 950, 'sodium': 951, 'united': 952, 'fauna': 953, 'slug': 954, 'vs': 955, 'dynamics': 956, 'snag': 957, 'nature': 958, 'borough': 959, 'property': 960, 'status': 961, '311sr': 962, 'pep': 963, 'monitored': 964, 'rehabilitator': 965, 'hours': 966, 'spent': 967, 'police': 968, 'esu': 969, 'acc': 970, 'intake': 971, 'climatic': 972, 'origin': 973, 'river': 974, '18': 975, 'niche': 976, 'major': 977, 'positive': 978, 'types': 979, 'about': 980, 'profile': 981, 'title': 982, 'ascii': 983, 'ants': 984, 'herbivores': 985, 'deadwood': 986, 'likelihood': 987, 'label': 988, 'points': 989, 'after': 990, 'litter': 991, 'retention': 992, 'cuts': 993, 'gis': 994, 'systems': 995, 'microbes': 996, 'figure': 997, 'survival': 998, 'microbiome': 999, 'factors': 1000, 'so': 1001, 'good': 1002, 'sequence': 1003, 'qscore': 1004, 'rapid': 1005, 'break': 1006, 'decomposer': 1007, 'worldwide': 1008, 'outer': 1009, 'assess': 1010, 'regions': 1011, 'similar': 1012, '211273': 1013, '32': 1014, 'minus': 1015, 'directions': 1016, 'dependent': 1017, 'life': 1018, 'followed': 1019, 'essential': 1020, 'complexity': 1021, 'together': 1022, 'latest': 1023, 'denoted': 1024, 'meta': 1025, 'gr': 1026, 'ireland': 1027, 'toxic': 1028, 'seedling': 1029, 'examined': 1030, 'hi': 1031, 'around': 1032, 'positively': 1033, 'filled': 1034, 'bioveg': 1035, 'snags': 1036, 'gain': 1037, 'chemolithoautotrophic': 1038, 'threats': 1039, 'extrafloral': 1040, 'nectaries': 1041, 'explored': 1042, '2020': 1043, 'combined': 1044, '000': 1045, 'evolved': 1046, 'entry': 1047, 'explained': 1048, 'europe': 1049, 'degrading': 1050, 'row': 1051, 'included': 1052, 'coarse': 1053, 'reserve': 1054, 'those': 1055, 'anthropogenic': 1056, 'non': 1057, '55': 1058, 'goal': 1059, 'subcardinal': 1060, 'magnetic': 1061, 'uses': 1062, 'relate': 1063, 'studies': 1064, 'object': 1065, 'se': 1066, 'small': 1067, 'fungus': 1068, 'adjacent': 1069, 'consumed': 1070, 'slugs': 1071, 'benthic': 1072, 'some': 1073, 'limited': 1074, 'components': 1075, '50778': 1076, '338470': 1077, 'egdi': 1078, 'forensic': 1079, 'geology': 1080, 'geoscientificinformation': 1081, 'lithosphere': 1082, 'micka': 1083, 'pedosphere': 1084, 'trace': 1085, 'top': 1086, 'method': 1087, 'iv': 1088, 'meter': 1089, 'evapotranspiration': 1090, 'architecture': 1091, 'scholten': 1092, 'material': 1093, 'significantly': 1094, 'pollinator': 1095, 'presents': 1096, 'undisturbed': 1097, 'dissolved': 1098, '14': 1099, 'variable': 1100, 'gsi': 1101, 'parts': 1102, 'web': 1103, 'see': 1104, 'sum': 1105, 'western': 1106, 'numbers': 1107, 'nnr': 1108, 'competitors': 1109, 'greatest': 1110, 'revealing': 1111, 'definition': 1112, 'sur': 1113, 'entered': 1114, 'remark': 1115, 'pos': 1116, 'st': 1117, 'easting': 1118, 'northing': 1119, 'rel': 1120, 'quantified': 1121, 'relatively': 1122, 'landscapes': 1123, 'infiltration': 1124, 'functionality': 1125, 'guinea': 1126, 'complementarity': 1127, 'interest': 1128, 'centimeter': 1129, 'merging': 1130, 'subplots': 1131, 'smaller': 1132, 'schould': 1133, 'subplothelper': 1134, 'objective': 1135, 'mass': 1136, 'context': 1137, 'extinction': 1138, 'landscape': 1139, 'scales': 1140, 'ratios': 1141, 'sequencing': 1142, 'deep': 1143, 'sea': 1144, 'clearcuts': 1145, 'intestine': 1146, 'belowground': 1147, 'consumers': 1148, 'geotechnical': 1149, 'classify': 1150, 'foundation': 1151, 'building': 1152, 'rising': 1153, 'series': 1154, \"29o8'18\": 1155, \"29o17'29\": 1156, \"118o2'14\": 1157, \"118o11'12\": 1158, 'demonstrate': 1159, 'dominant': 1160, 'free': 1161, 'variables': 1162, 'key': 1163, 'locations': 1164, 'pieces': 1165, 'downed': 1166, '2009': 1167, 'dist': 1168, 'waikato': 1169, 'regional': 1170, 'deposition': 1171, 'degradation': 1172, 'optimal': 1173, 'future': 1174, 'author': 1175, 'basis': 1176, 'silt': 1177, 'bacterial': 1178, 'aquarium': 1179, 'mpa': 1180, 'cm2': 1181, 'raindrops': 1182, 'halle': 1183, 'shape': 1184, 'grazed': 1185, 'much': 1186, 'ant': 1187, 'subtropical': 1188, 'compare': 1189, 'assignment': 1190, '30': 1191, 'populations': 1192, 'bd': 1193, 'selected': 1194, 'laboratory': 1195, 'ranges': 1196, 'elemental': 1197, 'estimates': 1198, 'soc': 1199, 'radii': 1200, 'globally': 1201, 'availability': 1202, 'storage': 1203, 'ipni': 1204, 'quantifying': 1205, 'engineering': 1206, 'clay': 1207, 'dna': 1208, 'elementar': 1209, 'end': 1210, 'bo': 1211, 'va': 1212, 'tb': 1213, 'projected': 1214, 'ã\\x83â¢ã¢â\\x80â\\xa0ã¢â\\x80â\\x99': 1215, '1km': 1216, 'dd83': 1217, 'layers': 1218, 'due': 1219, 'qual': 1220, 'assessed': 1221, 'function': 1222, 'either': 1223, 'fullname': 1224, 'occurs': 1225, 'countries': 1226, 'resulting': 1227, 'evolutionary': 1228, 'indirect': 1229, 'input': 1230, 'floor': 1231, '27': 1232, 'son': 1233, '81': 1234, 'jan': 1235, 'boundary': 1236, 'probability': 1237, 'opposed': 1238, 'reserves': 1239, 'planting': 1240, 'spei': 1241, 'noli': 1242, 'tangere': 1243, 'textori': 1244, 'categories': 1245, 'specialists': 1246, 'poorly': 1247, 'induced': 1248, 'bottles': 1249, 'biological': 1250, 'dwh': 1251, 'nrda': 1252, 'jena': 1253, 'reduced': 1254, 'endangered': 1255, 'tibetan': 1256, 'alpine': 1257, 'meadow': 1258, 'decreased': 1259, 'losses': 1260, 'measuring': 1261, 'supported': 1262, 'erosivity': 1263, 'meterspersecond': 1264, 'pools': 1265, 'shannon': 1266, 'hill': 1267, 'malaria': 1268, 'contribute': 1269, 'ã\\x83â¢ã¢â\\x80\\x9aâ¬ã¢â\\x82¬å\\x93': 1270, 'conducted': 1271, 'pollen': 1272, 'atlantic': 1273, 'making': 1274, 'affects': 1275, 'via': 1276, 'influences': 1277, 'differ': 1278, 'suggest': 1279, 'various': 1280, 'represents': 1281, 'contains': 1282, 'cellulosic': 1283, 'relevance': 1284, 'shows': 1285, 'objectives': 1286, 'estimator': 1287, 'maps': 1288, 'snow': 1289, 'increments': 1290, 'coral': 1291, 'assessing': 1292, 'crucial': 1293, 'visitors': 1294, 'walkable': 1295, 'metagenomics': 1296, 'genome': 1297, 'reveal': 1298, 'composed': 1299, 'buoyancy': 1300, 'woodland': 1301, 'shoot': 1302, 'root': 1303, 'season': 1304, 'forage': 1305, 'assemblages': 1306, 'equal': 1307, 'development': 1308, 'genes': 1309, 'great': 1310, 'fg': 1311, 'although': 1312, 'service': 1313, 'excess': 1314, '2017': 1315, 'vulnerability': 1316, '2050': 1317, 'mediated': 1318, 'bioenergy': 1319, 'eckelmann': 1320, 'sponagel': 1321, 'grottenthaler': 1322, 'hartmann': 1323, 'hartwich': 1324, 'janetzko': 1325, 'traidl': 1326, '2005': 1327, 'hotspot': 1328, 'heavy': 1329, 'metals': 1330, 'pathogens': 1331, 'cns': 1332, 'directly': 1333, 'month': 1334, 'wildlife': 1335, 'threat': 1336, 'tissue': 1337, 'growing': 1338, 'located': 1339, 'consumptive': 1340, 'feedstocks': 1341, 'generation': 1342, 'south': 1343, 'reduce': 1344, 'm3gjã\\x83â¢ã\\x8bâ\\x86ã¢â\\x80â\\x991': 1345, 'microbiota': 1346, 'activities': 1347, 'portion': 1348, 'taxa': 1349, 'home': 1350, 'hypothesis': 1351, 'incremental': 1352, 'saline': 1353, 'models': 1354, 'dir': 1355, 'addressed': 1356, 'altitude': 1357, 'img': 1358, 'export': 1359, '6782abdc': 1360, 'a810': 1361, '49f0': 1362, 'a994': 1363, 'f870b95438cf': 1364, 'threatened': 1365, 'vulnerable': 1366, '21': 1367, 'improved': 1368, 'ha': 1369, 'arthropod': 1370, 'similarity': 1371, 'sc': 1372, 'excluding': 1373, 'hand': 1374, 'balance': 1375, 'pddl': 1376, 'arborist': 1377, 'further': 1378, 'fichtner': 1379, 'determine': 1380, 'prioritization': 1381, 'defined': 1382, 'broken': 1383, 'carcasses': 1384, 'marshes': 1385, 'fertilization': 1386, 'eastern': 1387, 'refuge': 1388, 'vegetated': 1389, 'xls': 1390, 'subplot': 1391, 'summer': 1392, 'wetland': 1393, 'spring': 1394, 'par': 1395, 'synonym': 1396, 'considerd': 1397, 'mechanism': 1398, 'explaining': 1399, 'world': 1400, 'ocean': 1401, 'rdna': 1402, 'ter': 1403, 'dev': 1404, '20': 1405, 'cations': 1406, 'bound': 1407, 'remains': 1408, 'spatially': 1409, 'better': 1410, 'papua': 1411, 'challenge': 1412, 'hypothesized': 1413, 'previously': 1414, 'focus': 1415, 'features': 1416, 'decline': 1417, 'predictions': 1418, 'runoff': 1419, 'requires': 1420, 'establish': 1421, 'remaining': 1422, 'snowbreak': 1423, 'correlated': 1424, 'tscholten': 1425, 'pkuehn': 1426, 'calculation': 1427, 'km2': 1428, 'radius': 1429, 'efficiency': 1430, 'stand': 1431, 'control': 1432, 'nearest': 1433, 'func': 1434, 'branches': 1435, 'independent': 1436, 'patch': 1437, 'lai': 1438, 'decades': 1439, 'protoc': 1440, 'meas': 1441, 'dtop': 1442, 'len': 1443, 'rem': 1444, 'ext': 1445, 'labels': 1446, 'rad': 1447, 'tillage': 1448, 'readme': 1449, 'volume1': 1450, 'volume2': 1451, 'shown': 1452, 'regime': 1453, 'events': 1454, 'inv': 1455, 'share': 1456, 'body': 1457, 'waters': 1458, 'consisting': 1459, 'light': 1460, 'linked': 1461, 'favorability': 1462, 'bee': 1463, 'established': 1464, 'conclusions': 1465, 'bootless': 1466, 'conatins': 1467, 'fishing': 1468, 'fine': 1469, 'propagation': 1470, 'combining': 1471, '2663093': 1472, '583': 1473, '70604': 1474, '4380': 1475, '204360': 1476, '107387': 1477, '58460': 1478, '1137225': 1479, '6061558': 1480, 'business': 1481, 'cbd': 1482, 'following': 1483, 'timescale': 1484, 'comments': 1485, 'contents': 1486, 'intensified': 1487, 'threaten': 1488, 'invasions': 1489, 'inclination': 1490, 'synonyms': 1491, 'hydroelectric': 1492, 'southeast': 1493, 'performance': 1494, 'structuring': 1495, 'classifying': 1496, 'sandloss': 1497, 'geiã\\x83æ\\x92ã\\x85â¸ler': 1498, 'mainly': 1499, 'csa': 1500, 'consistent': 1501, 'transitions': 1502, 'fsa': 1503, 'differences': 1504, 'crowns': 1505, 'etc': 1506, 'test': 1507, 'vnd': 1508, 'gap': 1509, 'morphology': 1510, 'warming': 1511, 'abgd': 1512, 'biota': 1513, 'known': 1514, 'closely': 1515, 'physiological': 1516, 'cascading': 1517, 'investigate': 1518, 'bp': 1519, 'invertebrate': 1520, 'f': 1521, 'fragmentation': 1522, 'island': 1523, 'papahanaumokuakea': 1524, 'monument': 1525, 'widespread': 1526, 'sensitivities': 1527, 'subject': 1528, 'logistic': 1529, 'regression': 1530, 're': 1531, 'down': 1532, 'takes': 1533, 'collapse': 1534, 'touch': 1535, 'skizze': 1536, 'sketch': 1537, 'objects': 1538, 'sp10': 1539, '20081215': 1540, 'doc': 1541, 'intems': 1542, 'result': 1543, 'frequently': 1544, 'tolerance': 1545, 'however': 1546, 'little': 1547, 'poor': 1548, 'beaches': 1549, 'hot': 1550, 'densities': 1551, 'biofuel': 1552, 'policy': 1553, '19': 1554, 'nearby': 1555, 'aim': 1556, 'dominated': 1557, 'threshold': 1558, 'janzen': 1559, 'connell': 1560, 'walls': 1561, 'fct': 1562, 'imported': 1563, 'phylogeny': 1564, 'very': 1565, 'molecular': 1566, 'random': 1567, 'contribution': 1568, 'scb': 1569, 'representation': 1570, 'usgs': 1571, 'health': 1572, 'stock': 1573, 'rock': 1574, 'electrodes': 1575, 'sentix': 1576, 'wtw': 1577, 'solutionkcl': 1578, 'kartieranleitung': 1579, 'isobioclimate': 1580, 'fishes': 1581, 'incl': 1582, '16': 1583, 'varying': 1584, 'australia': 1585, 'effective': 1586, 'compared': 1587, '97': 1588, 'alters': 1589, 'responses': 1590, 'adding': 1591, 'cropland': 1592, 'built': 1593, 'footprints': 1594, 'scoring': 1595, 'comprised': 1596, 'timeline': 1597, 'letter': 1598, 'range': 1599, 'variations': 1600, 'geological': 1601, 'laysan': 1602, 'ptp': 1603, 'turnover': 1604, 'depending': 1605, 'indicated': 1606, 'decrease': 1607, 'vary': 1608, 'predictors': 1609, '24': 1610, 'fallen': 1611, 'abiotic': 1612, 'occur': 1613, '49': 1614, 'mstaab': 1615, 'aklein': 1616, 'jpeters': 1617, 'tribe': 1618, 'comparison': 1619, 'lcdb2': 1620, 'lcdb1': 1621, 'gen': 1622, 'clsa': 1623, 'clsb': 1624, 'clsc': 1625, 'uncertain1': 1626, 'uncertain2': 1627, 'wetld': 1628, 'photo1': 1629, 'east1': 1630, 'nth1': 1631, 'photo2': 1632, 'east2': 1633, 'nth2': 1634, 'txt': 1635, 'o': 1636, 'planning': 1637, 'do': 1638, 'quantitative': 1639, 'recovery': 1640, 'critical': 1641, 'markus': 1642, 'coexistence': 1643, 'partitioning': 1644, 'alternative': 1645, 'assumed': 1646, 'cell': 1647, 'transmission': 1648, 'forced': 1649, 'part': 1650, 'showed': 1651, 'lookup': 1652, 'cbbl': 1653, 'facultative': 1654, 'gram': 1655, 'red': 1656, 'specunpolished': 1657, 'compounds': 1658, 'mix': 1659, 'assessment': 1660, 'needle': 1661, 'suggesting': 1662, 'classes': 1663, 'markdown': 1664, 'un': 1665, 'harvested': 1666, '2015': 1667, 'campaign': 1668, 'eisenia': 1669, 'provides': 1670, 'absolute': 1671, 'tract': 1672, 'taxonomy': 1673, 'unique': 1674, 'rescue': 1675, 'indonesia': 1676, 'replaced': 1677, 'remnants': 1678, 'yet': 1679, 'ap': 1680, '34': 1681, 'component': 1682, '29ã\\x83â\\x80\\x9aã\\x82â°17': 1683, \"118ã\\x83â\\x80\\x9aã\\x82â°02'\": 1684, '118ã\\x83â\\x80\\x9aã\\x82â°11': 1685, 'cgeissler': 1686, 'resistance': 1687, 'intertidal': 1688, 'macroalgae': 1689, 'investigated': 1690, 'six': 1691, 'sugar': 1692, 'structural': 1693, 'similarly': 1694, 'identification': 1695, 'few': 1696, 'approximately': 1697, 'knowledge': 1698, 'costs': 1699, 'irrigation': 1700, 'evaporation': 1701, 'me': 1702, 'uni': 1703, '13': 1704, 'long': 1705, 'counting': 1706, 'fig': 1707, 'acres': 1708, 'abundances': 1709, 'cite': 1710, 'follows': 1711, 'associations': 1712, 'positions': 1713, 'evaluated': 1714, 'appetite': 1715, 'crossroads': 1716, 'stressors': 1717, 'weakened': 1718, 'u': 1719, 'anoxic': 1720, 'explain': 1721, 'implications': 1722, 'ball': 1723, 'mill': 1724, 'vario': 1725, 'el': 1726, 'full': 1727, 'gujarat': 1728, 'obligate': 1729, 'introduction': 1730, 'rownr': 1731, 'factor': 1732, '30x30m': 1733, 'demand': 1734, 'depend': 1735, 'metagenome': 1736, 'smallholder': 1737, 'form': 1738, 'protection': 1739, 'institute': 1740, 'university': 1741, 'assessments': 1742, 'pressures': 1743, 'track': 1744, 'characterize': 1745, 'regeneration': 1746, 'invasion': 1747, 'spec': 1748, 'causes': 1749, 'perspectives': 1750, 'might': 1751, 'surv': 1752, '8fefeaa1': 1753, '0632': 1754, '46ac': 1755, 'bbc0': 1756, '6f03393f360c': 1757, 'withdrawn': 1758, 'taken': 1759, 'elucidate': 1760, 'tagged': 1761, 'cycling': 1762, 'specialization': 1763, 'bioturbator': 1764, 'deepwater': 1765, 'degree': 1766, 'spots': 1767, 'dense': 1768, 'displacement': 1769, 'highlighted': 1770, 'biofuels': 1771, 'selection': 1772, 'contributing': 1773, 'stage': 1774, 'any': 1775, 'policies': 1776, 'specialized': 1777, 'healthy': 1778, 'terminal': 1779, 'restriction': 1780, 'fragment': 1781, 'equine': 1782, '23': 1783, '72070': 1784, '2981918': 1785, 'thomas': 1786, 'predicting': 1787, 'showing': 1788, 'herbivorous': 1789, 'persistence': 1790, 'network': 1791, 'history': 1792, 'space': 1793, 'suggests': 1794, 'cup': 1795, 'state': 1796, 'details': 1797, 'recalcitrant': 1798, 'symbiotic': 1799, 'lignocellulolytic': 1800, 'deciduous': 1801, 'survive': 1802, 'bio': 1803, 'elevated': 1804, 'leading': 1805, 'files': 1806, 'dc': 1807, 'riparian': 1808, 'therefore': 1809, 'quad': 1810, 'having': 1811, 'coming': 1812, 'changing': 1813, 'plfa': 1814, 'just': 1815, 'sided': 1816, 'release': 1817, 'predominantly': 1818, 'biologists': 1819, 'klallam': 1820, 'north': 1821, 'become': 1822, 'leipzig': 1823, 'play': 1824, 'farmland': 1825, 'proportional': 1826, 'ra': 1827, 'tot': 1828, 'mammals': 1829, 'flowering': 1830, 'pacific': 1831, 'majority': 1832, 'degrade': 1833, 'rrna': 1834, 'integrative': 1835, 'multivariate': 1836, 'sulawesi': 1837, 'ranging': 1838, 'cacao': 1839, 'agroforests': 1840, 'along': 1841, 'cloud': 1842, 'pattern': 1843, 'rand': 1844, 'invertebrates': 1845, 'establishment': 1846, 'positioning': 1847, 'choice': 1848, 'clearance': 1849, 'culture': 1850, 'driven': 1851, 'analyzed': 1852, 'already': 1853, 'hotspots': 1854, 'order': 1855, 'offs': 1856, 'biotic': 1857, 'gains': 1858, 'negatively': 1859, 'reliability': 1860, 'reservoirs': 1861, 'peters': 1862, 'temperate': 1863, 'vaginal': 1864, 'link': 1865, 'multiyear': 1866, 'reliable': 1867, 'rarefaction': 1868, 'conifer': 1869, 'general': 1870, 'conventional': 1871, 'direction': 1872, 'pool': 1873, 'vertex': 1874, 'forester': 1875, 'dung': 1876, 'best': 1877, 'prevalent': 1878, 'parameters': 1879, 'sub': 1880, 'evergreen': 1881, 'differen': 1882, 'nadrowski': 1883, 'overexploitation': 1884, 'pilot': 1885, 'map': 1886, 'colonization': 1887, 'hosted': 1888, 'splashcup': 1889, 'baruffol': 1890, 'subset': 1891, 'enzymes': 1892, 'silverid': 1893, 'chemolithoautotrophs': 1894, 'focusing': 1895, 'rich': 1896, 'viii': 1897, 'tyoe': 1898, 'datasheet': 1899, 'openxmlformats': 1900, 'officedocument': 1901, 'spreadsheetml': 1902, 'sheet': 1903, 'path': 1904, 'photosynthesis': 1905, 'certain': 1906, 'rrd': 1907, 'adult': 1908, 'frequency': 1909, 'physical': 1910, 'africa': 1911, 'increases': 1912, 'weak': 1913, 'specimen': 1914, 'chrysomelidae': 1915, 'ej': 1916, 'geoid10': 1917, 'preserve': 1918, 'replenish': 1919, 'leng': 1920, 'uhi': 1921, 'azi': 1922, 'ci': 1923, 'loc': 1924, 'birds': 1925, 'done': 1926, 'generalists': 1927, 'serve': 1928, 'polymers': 1929, 'mediating': 1930, 'zambia': 1931, 'acute': 1932, 'tripling': 1933, 'expand': 1934, 'miombo': 1935, 'stronger': 1936, 'clustering': 1937, 'rainforest': 1938, 'wild': 1939, 'acg': 1940, 'preferably': 1941, 'ri06': 1942, 'give': 1943, 'metrics': 1944, 'feeding': 1945, '97827': 1946, 'carcass': 1947, '15': 1948, 'redd': 1949, 'heterospecific': 1950, 'losing': 1951, 'caterpillar': 1952, 'branch': 1953, 'fsi': 1954, 'conducive': 1955, 'relation': 1956, 'shipping': 1957, 'shifting': 1958, 'currents': 1959, 'hypoxic': 1960, 'harmful': 1961, 'algal': 1962, 'blooms': 1963, 'led': 1964, 'harbour': 1965, 'east': 1966, 'years': 1967, 'kenya': 1968, 'hypotheses': 1969, 'contain': 1970, 'place': 1971, 'traps': 1972, 'pyrotags': 1973, 'botany': 1974, 'geobotany': 1975, 'luther': 1976, '0345': 1977, '26230': 1978, 'massively': 1979, 'forward': 1980, 'panel': 1981, 'until': 1982, 'added': 1983, 'green': 1984, 'severity': 1985, 'extensively': 1986, 'scalar': 1987, 'standardized': 1988, 'made': 1989, 'wirth': 1990, 'tested': 1991, 'almost': 1992, '45': 1993, 'andrei': 1994, 'evidence': 1995, 'gardens': 1996, 'driving': 1997, 'direct': 1998, 'terms': 1999, 'specifically': 2000, 'reading': 2001, 'intense': 2002, 'ongoing': 2003, 'lepidoptera': 2004, 'parasitoids': 2005, 'centered': 2006, 'rearing': 2007, 'caught': 2008, '120': 2009, 'de': 2010, 'conservacion': 2011, 'guanacaste': 2012, '60': 2013, 'advances': 2014, 'what': 2015, 'remain': 2016, 'strongest': 2017, 'project': 2018, 'extent': 2019, 'maintain': 2020, 'step': 2021, 'chronosequence': 2022, 'increment': 2023, 'fraction': 2024, 'empirical': 2025, 'insight': 2026, 'itself': 2027, 'belongs': 2028, 'raccoon': 2029, 'deer': 2030, 'hawk': 2031, 'chicken': 2032, 'rooster': 2033, 'dog': 2034, 'cat': 2035, 'squirrel': 2036, 'nz': 2037, 'pollinators': 2038, 'dimensions': 2039, 'achieve': 2040, 'became': 2041, 'simultaneous': 2042, 'subtropics': 2043, 'ad': 2044, 'protect': 2045, 'negative': 2046, 'initially': 2047, 'carrier': 2048, 'said': 2049, 'counted': 2050, 'removal': 2051, 'horses': 2052, 'unfavorable': 2053, 'bioveg2002': 2054, 'read': 2055, 'chlamydia': 2056, 'simpson': 2057, 'stations': 2058, 'obtained': 2059, 'unlikely': 2060, 'outperform': 2061, 'flows': 2062, 'throughout': 2063, 'stages': 2064, 'fullauthor': 2065, 'solution': 2066, 'shan06': 2067, 'transportation': 2068, 'trend': 2069, 'later': 2070, 'distributions': 2071, 'drying': 2072, 'barren': 2073, 'dioxide': 2074, '11': 2075, 'migration': 2076, 'disentangle': 2077, 'underpin': 2078, 'biodiversityã\\x83â¢ã¢â\\x80\\x9aâ¬ã¢â\\x82¬å\\x93ecosystem': 2079, 'multidrug': 2080, 'resistant': 2081, 'hosts': 2082, '1013': 2083, '1014': 2084, 'm2': 2085, 'aspects': 2086, 'produces': 2087, 'anti': 2088, 'products': 2089, '31': 2090, 'flower': 2091, 'genetic': 2092, 'fixation': 2093, 'testing': 2094, 'meteorology': 2095, '57': 2096, '1ã\\x83â¢ã¢â\\x80\\x9aâ¬ã¢â\\x82¬å\\x9312': 2097, 'accordance': 2098, 'allocated': 2099, 'poorter': 2100, 'deng': 2101, 'simple': 2102, 'needles': 2103, 'artefacts49': 2104, 'concentration': 2105, 'affiliation': 2106, 'slopes': 2107, 'larvae': 2108, 'intermediate': 2109, 'scenario': 2110, 'insects': 2111, 'providing': 2112, 'generalist': 2113, 'lithology': 2114, 'oct': 2115, 'requirements': 2116, 'selective': 2117, 'imposed': 2118, 'pathogenic': 2119, 'sra': 2120, '2016': 2121, '08': 2122, 'bifurcat': 2123, 'csp05': 2124, 'draw': 2125, 'replicated': 2126, 'matrix': 2127, '3600': 2128, 'priori': 2129, 'requirement': 2130, 'restore': 2131, 'explicit': 2132, 'bay': 2133, 'instance': 2134, 'engineer': 2135, 'completed': 2136, 'aggregated': 2137, 'identify': 2138, 'skipper': 2139, 'specified': 2140, 'text48': 2141, 'texture': 2142, 'extinctions': 2143, 'anecic': 2144, 'endogeic': 2145, 'causing': 2146, 'agriculture': 2147, 'crusts': 2148, 'external': 2149, 'neotropics': 2150, 'center': 2151, 'historical': 2152, 'hydropower': 2153, 'imperilment': 2154, 'beta': 2155, 'compost': 2156, 'temperatures': 2157, 'before': 2158, 'researchers': 2159, 'stumps': 2160, 'round': 2161, 'hallow': 2162, 'missingwoody': 2163, 'contrast': 2164, 'csp09': 2165, 'csp13': 2166, 'recently': 2167, 'reported': 2168, '2001': 2169, 'portal': 2170, 'names': 2171, 'unknown': 2172, 'especially': 2173, 'conclusion': 2174, 'limitations': 2175, 'infection': 2176, 'identifiery': 2177, 'resembling': 2178, 'warm': 2179, '22': 2180, 'csp11': 2181, 'synthesis': 2182, 'considers': 2183, 'upon': 2184, 'scenarios': 2185, 'sustain': 2186, 'record': 2187, 'kã\\x83æ\\x92ã\\x82â¼hn': 2188, '2011': 2189, 'horizonswise': 2190, 'sieves': 2191, 'pipette': 2192, 'oven': 2193, 'msa': 2194, 'vfsa': 2195, 'csi': 2196, 'msi': 2197, 'rd': 2198, 'predictability': 2199, 'gradient': 2200, 'offshore': 2201, 'california': 2202, 'enterobacteria': 2203, 'csp12': 2204, 'csp06': 2205, 'tã\\x83æ\\x92ã\\x86â\\x80\\x99ã\\x83â\\x80\\x9aã\\x82â¼bingen': 2206, 'contributions': 2207, 'act': 2208, 'mould': 2209, 'termites': 2210, 'start': 2211, 'plotignore': 2212, 'working': 2213, 'page': 2214, 'idaddon': 2215, 'stemscnsm10': 2216, 'dbase': 2217, 'hei': 2218, 'diam': 2219, 'azimut': 2220, 'cw': 2221, 'mc': 2222, 'rot': 2223, 'vol': 2224, 'allometrie': 2225, 'annelida': 2226, 'csp03': 2227, 'include': 2228, 'so4': 2229, 'csp10': 2230, 'elements': 2231, 'csp04': 2232, 'bioturbation': 2233, 'representing': 2234, 'metabolic': 2235, 'maximizing': 2236, 'captured': 2237, 'mar': 2238, 'competitive': 2239, 'csp15': 2240, 'ogl': 2241, '4101': 2242, '8100': 2243, '7867010': 2244, '13541729': 2245, '142944': 2246, '172': 2247, 'projections': 2248, 'intergovernmental': 2249, 'ipcc': 2250, 'moderate': 2251, 'managing': 2252, 'csp14': 2253, 'csp02': 2254, 'csp07': 2255, 'staab': 2256, 'linkages': 2257, 'respectively': 2258, 'own': 2259, 'away': 2260, 'systematic': 2261, 'aquatic': 2262, 'microaggregate': 2263, 'efforts': 2264, 'bottom': 2265, 'halictinae': 2266, 'salticidae': 2267, 'csp08': 2268, 'nontol': 2269, 'darscumad': 2270, 'grown': 2271, 'shadow': 2272, 'drivers': 2273, 'maize': 2274, '16s': 2275, 'interact': 2276, 'din': 2277, 'tdp': 2278, 'consequently': 2279, 'butterfly': 2280, 'gramspersquaremeter': 2281, 'fam': 2282, 'survey': 2283, 'constituents': 2284, 'deforestation': 2285, 'millions': 2286, 'unprotected': 2287, 'report': 2288, 'funded': 2289, 'initiative': 2290, 'fy': 2291, 'creating': 2292, 'evolution': 2293, 'surveys': 2294, 'endangerment': 2295, 'probabilities': 2296, 'altered': 2297, 'third': 2298, 'substantial': 2299, 'mechanisms': 2300, 'dominance': 2301, 'deteriorating': 2302, 'salt': 2303, 'uptake': 2304, 'analyse': 2305, 'though': 2306, 'novel': 2307, '1ã\\x83â\\x80\\x9aã\\x82â°c': 2308, '38': 2309, 'aloides': 2310, 'basins': 2311, 'amphibians': 2312, 'pe': 2313, 'flask': 2314, 'consists': 2315, 'relates': 2316, 'hemicelluloses': 2317, 'degraded': 2318, 'manipulation': 2319, '21332': 2320, '4131': 2321, '677': 2322, '2960': 2323, 'yield': 2324, 'feces': 2325, 'affecting': 2326, 'tolerances': 2327, 'hidden': 2328, 'roles': 2329, 'becoming': 2330, 'ecologically': 2331, 'caviae': 2332, 'pig': 2333, 'infestation': 2334, 'recover': 2335, 'ages': 2336, 'conduct': 2337, 'limitation': 2338, 'shade': 2339, 'scarcity': 2340, 'structured': 2341, 'comprises': 2342, 'yu': 2343, 'epiteth': 2344, 'gbif': 2345, 'caused': 2346, 'abun': 2347, 'edible': 2348, 'medicinal': 2349, 'logged': 2350, 'explore': 2351, 'samplenr': 2352, 'seedlingnr': 2353, 'splitplot': 2354, 'profiles': 2355, 'kã\\x83æ\\x92ã\\x82â¶hn': 2356, 'habit': 2357, 'beds': 2358, 'vectors': 2359, 'heterogeneity': 2360, 'still': 2361, 'proportions': 2362, 'resulted': 2363, '150': 2364, 'headline': 2365, 'physico': 2366, 'installed': 2367, 'bacteriocins': 2368, 'lytic': 2369, 'come': 2370, 'improves': 2371, 'formationã\\x83â¢ã¢â\\x82â¬ã¢â\\x80â\\x9din': 2372, 'impacted': 2373, 'polymorphism': 2374, 'longevity': 2375, 'employ': 2376, 'extensification': 2377, 'functionally': 2378, 'enhancement': 2379, 'enhanced': 2380, 'subdivision': 2381, 'waterways': 2382, 'hypothesised': 2383, 'controlled': 2384, 'mesocosm': 2385, '397': 2386, 'humidity': 2387, 'bodenkundliche': 2388, 'mdre': 2389, 'mm3': 2390, 'futures': 2391, 'estuarine': 2392, 'anthropogenically': 2393, 'gaps': 2394, 'biology': 2395, 'ml': 2396, 'vat': 2397, 'erdas': 2398, 'hfa': 2399, 'broadly': 2400, 'pelagic': 2401, 'ecuador': 2402, 'regard': 2403, 'klein': 2404, 'fertilized': 2405, 'southern': 2406, 'chile': 2407, 'seedlings': 2408, 'jecol': 2409, 'grad': 2410, 'asp': 2411, 'pl': 2412, 'reptiles': 2413, 'considering': 2414, 'environments': 2415, 'innate': 2416, 'immunity': 2417, 'fetida': 2418, 'recognize': 2419, 'eliminate': 2420, 'steady': 2421, 'cellulose': 2422, 'soya': 2423, 'bean': 2424, 'expression': 2425, 'mixed': 2426, 'review': 2427, 'sediment': 2428, 'pervasive': 2429, 'defaunation': 2430, 'issues': 2431, 'stranded': 2432, 'dispersal': 2433, 'thoughfall': 2434, 'needed': 2435, 'decreasing': 2436, 'fewer': 2437, 'readily': 2438, 'utilization': 2439, 'pronounced': 2440, 'seamounts': 2441, 'transformation': 2442, 'gross': 2443, 'marsh': 2444, 'microalgae': 2445, 'sessile': 2446, 'suspension': 2447, 'require': 2448, 'experimentally': 2449, 'possibly': 2450, 'mediterranean': 2451, 'thrips': 2452, 'tend': 2453, '1975': 2454, 'consist': 2455, 'upper': 2456, 'aspect': 2457, 'upright': 2458, 'removed': 2459, 'subtractive': 2460, 'fashion': 2461, 'allowed': 2462, 'withdrawal': 2463, 'lã\\x83æ\\x92ã\\x82â¼neburg': 2464, 'organ': 2465, '1609': 2466, 'even': 2467, 'lying': 2468, 'synthetic': 2469, 'mature': 2470, 'seasonally': 2471, 'broad': 2472, 'advanced': 2473, 'lowest': 2474, 'november': 2475, 'december': 2476, 'southwestern': 2477, '300ft': 2478, 'does': 2479, 'expansion': 2480, 'ptag': 2481, 'document': 2482, 'fluxes': 2483, 'marker': 2484, 'humid': 2485, 'facets': 2486, 'hierarchy': 2487, 'ribosomal': 2488, 'peptides': 2489, 'terpenoids': 2490, 'freeformats': 2491, '09': 2492, 'excel': 2493, 'strategies': 2494, 'strong': 2495, 'networks': 2496, 'continent': 2497, 'effectiveness': 2498, 'ia': 2499, 'ic': 2500, 'load': 2501, 'single': 2502, 'polyketides': 2503, 'volatile': 2504, 'enhance': 2505, 'grasslands': 2506, 'complementary': 2507, 'priority': 2508, 'parallel': 2509, 'wooded': 2510, 'ridge': 2511, 'reductions': 2512, 'strength': 2513, 'host': 2514, 'phylum': 2515, 'accounts': 2516, 'terraces': 2517, 'side': 2518, 'continuous': 2519, 'digits': 2520, 'centre': 2521, '2ã\\x83å½ã\\x82â¼m': 2522, 'strongly': 2523, 'contributed': 2524, 'difference': 2525, 'surfaces': 2526, 'speciescode': 2527, 'adults': 2528, 'lumbricidae': 2529, 'spp': 2530, 'superba': 2531, 'honey': 2532, 'complete': 2533, 'largest': 2534, 'larger': 2535, 'period': 2536, 'contrasting': 2537, 'introduced': 2538, 'japanese': 2539, 'useful': 2540, 'succession': 2541, 'attributes': 2542, 'csp16': 2543, 'regarding': 2544, 'metabolites': 2545, 'significasitesntly': 2546, 'publication': 2547, 'properly': 2548, 'cited': 2549, '17': 2550, 'toward': 2551, 'feedback': 2552, 'sarma': 2553, 'beetle': 2554, 'heavily': 2555, 'monoculture': 2556, 'vast': 2557, 'conserve': 2558, 'faunal': 2559, 'genomic': 2560, 'characterization': 2561, 'treatment': 2562, 'bacterioplankton': 2563, 'absence': 2564, 'stream': 2565, 'arrangement': 2566, 'dispersed': 2567, 'hindered': 2568, 'northwestern': 2569, 'costa': 2570, 'rica': 2571, 'analyze': 2572, 'activity': 2573, 'dissimilarity': 2574, 'fix': 2575, 'extensive': 2576, 'peat': 2577, 'driver': 2578, 'labelled': 2579, 'evenness': 2580, 'piece': 2581, 'mesocosms': 2582, 'priorities': 2583, 'situ': 2584, 'families': 2585, 'observing': 2586, 'modeling': 2587, 'forms': 2588, 'fundamental': 2589, 'float': 2590, 'stratiotes': 2591, 'formed': 2592, 'inorganic': 2593, '7ã\\x83â\\x82ã\\x82â±0': 2594, 'undergoing': 2595, '5ã\\x83â\\x82ã\\x82â±1': 2596, 'confirm': 2597, 'exceed': 2598, 'examine': 2599, 'disassembly': 2600, 'lies': 2601, 'port': 2602, 'moresby': 2603, 'capital': 2604, 'experiences': 2605, 'manipulated': 2606, 'crops': 2607, 'young': 2608, 'hence': 2609, 'fragments': 2610, 'incompatibility': 2611, 'members': 2612, 'basidiomycota': 2613, 'putative': 2614, 'observations': 2615, 'records': 2616, 'inland': 2617, 'bodies': 2618, 'economic': 2619, 'required': 2620, 'damage': 2621, 'vicariance': 2622, '21st': 2623, 'century': 2624, 'decreases': 2625, 'geoecology': 2626, 'haã\\x83â¢ã\\x8bâ\\x86ã¢â\\x80â\\x991': 2627, 'integrating': 2628, 'avoided': 2629, 'vascular': 2630, 'exotic': 2631, 'mitigate': 2632, 'heterocylic': 2633, 'nitrogenous': 2634, 'need': 2635, 'officially': 2636, 'designated': 2637, '213': 2638, 'worms': 2639, 'topic': 2640, 'detailed': 2641, 'twelve': 2642, '529': 2643, '4ã\\x83â¢ã¢â\\x80\\x9aâ¬ã¢â\\x82¬å\\x939': 2644, 'against': 2645, 'agroecosystems': 2646, 'proposed': 2647, 'gvonoheimb': 2648, 'facilitate': 2649, 'entire': 2650, 'restoration': 2651, 'agroforestry': 2652, 'interspecific': 2653, 'disappear': 2654, 'extinct': 2655, 'seven': 2656, 'saale': 2657, '704': 2658, '404': 2659, '44': 2660, '800ã\\x83â¢ã¢â\\x82â¬ã¢â\\x80â\\x9c3500': 2661, 'soft': 2662, 'substrate': 2663, '95': 2664, 'flat': 2665, 'intervening': 2666, 'axis': 2667, 'varied': 2668, 'predators': 2669, 'sseitz': 2670, 'existence': 2671, 'underwater': 2672, 'sampled': 2673, 'metabolism': 2674, 'atmospheric': 2675, 'advantage': 2676, 'mutualisms': 2677, 'influential': 2678, 'coevolutionary': 2679, 'micro': 2680, 'plastic': 2681, 'vertebrate': 2682, 'corals': 2683, 'government': 2684, 'blue': 2685, 'opacity': 2686, 'determining': 2687, 'simply': 2688, 'picture': 2689, 'possible': 2690, 'without': 2691, 'initiatives': 2692, 'discriminate': 2693, 'investigating': 2694, 'indo': 2695, 'monocultures': 2696, 'plus': 2697, 'constant': 2698, 'comprehensive': 2699, 'rainevent': 2700, 'determinig': 2701, 'described': 2702, 'horizonwise': 2703, 'findings': 2704, 'hdx': 2705, 'represent': 2706, 'help': 2707, 'stems': 2708, 'mixing': 2709, 'homogenize': 2710, 'prioritize': 2711, 'involved': 2712, 'broadleaf': 2713, 'canopies': 2714, 'forestry': 2715, 'lpj': 2716, 'guess': 2717, 'winklebury': 2718, 'alticinae': 2719, '26': 2720, 'braconidae': 2721, 'reflect': 2722, 'infected': 2723, 'urbanization': 2724, 'wittenberg': 2725, 'kirchtor': 2726, '6108': 2727, 'dd': 2728, 'nsbent': 2729, 'pbent': 2730, 'abent': 2731, 'flowers': 2732, '400': 2733, 'decay': 2734, 'pigeon': 2735, 'hoverfly': 2736, 'sequential': 2737, 'measring': 2738, 'biased': 2739, 'extents': 2740, 'guarantees': 2741, 'patient': 2742, 'steep': 2743, 'ao1': 2744, 'seeps': 2745, 'mutualistic': 2746, 'shallow': 2747, 'wadeable': 2748, 'damaged': 2749, 'regardless': 2750, 'performed': 2751, 'referred': 2752, 'differed': 2753, 'implicating': 2754, 'unpredictable': 2755, 'mankind': 2756, 'relies': 2757, 'rarely': 2758, 'genuine': 2759, 'impetus': 2760, 'unification': 2761, 'disciplines': 2762, 'bryophyte': 2763, 'except': 2764, 'displayed': 2765, 'dependence': 2766, 'extra': 2767, 'upwards': 2768, 'locate': 2769, 'every': 2770, '0808cb5e': 2771, '1fc2': 2772, '4be7': 2773, 'b92e': 2774, '2e8a7e548fdb': 2775, 'impending': 2776, 'quantifiy': 2777, 'integrated': 2778, 'proved': 2779, 'effectively': 2780, 'tce': 2781, 'security': 2782, 'problems': 2783, 'acidification': 2784, 'exacerbated': 2785, '5221': 2786, 'stands': 2787, 'allocating': 2788, 'funds': 2789, 'cost': 2790, 'spending': 2791, 'sexual': 2792, 'promote': 2793, 'electric': 2794, '27ã\\x83â¢ã¢â\\x82â¬ã¢â\\x80â\\x9c36': 2795, '1ã\\x83â¢ã¢â\\x82â¬ã¢â\\x80â\\x9c0': 2796, '4ã\\x83â¢ã¢â\\x82â¬ã¢â\\x80â\\x9c0': 2797, '2ã\\x83â¢ã¢â\\x82â¬ã¢â\\x80â\\x9c0': 2798, 'zealand': 2799, '3102121': 2800, '26642309': 2801, '22189678': 2802, '11987022': 2803, 'thought': 2804, 'line': 2805, 'increasingly': 2806, 'emergent': 2807, 'quickly': 2808, 'spatiotemporal': 2809, 'modulation': 2810, 'targeted': 2811, 'metagenomic': 2812, 'leaved': 2813, 'hu': 2814, 'beginning': 2815, '1990ies': 2816, 'others': 2817, 'short': 2818, 'summers': 2819, 'ectomycorrhizal': 2820, 'russulaceae': 2821, 'thelephoraceae': 2822, '430': 2823, 'immigration': 2824, 'shoreline': 2825, 'grow': 2826, 'liv': 2827, 'dam': 2828, 'pro': 2829, 'ger': 2830, 'medium': 2831, '630': 2832, '200ã\\x83å½ã\\x82â¼m': 2833, 'goals': 2834, 'reflecting': 2835, 'andean': 2836, 'timberline': 2837, 'montane': 2838, 'andes': 2839, 'budget': 2840, 'root45': 2841, 'hco3': 2842, 'palm': 2843, 'developed': 2844, 'cutan': 2845, 'feat44': 2846, 'surrogate': 2847, 'speciesã\\x83â¢ã¢â\\x82â¬ã¢â\\x80â\\x9carea': 2848, 'sar': 2849, 'contemporary': 2850, 'exotics': 2851, 'domesticates': 2852, 'ornamental': 2853, 'approaches': 2854, 'dynamic': 2855, 'csp01': 2856, 'sp11': 2857, 'ms': 2858, 'propose': 2859, 'slower': 2860, 'reliance': 2861, 'chilean': 2862, 'planned': 2863, 'extensions': 2864, 'transferring': 2865, 'equally': 2866, '47': 2867, 'early': 2868, 'existing': 2869, 'significance': 2870, 'exclusive': 2871, 'farming': 2872, 'optimally': 2873, 'summarized': 2874, 'mid': 2875, 'taxonomically': 2876, 'analyzer': 2877, 'combustion': 2878, 'thermal': 2879, 'detection': 2880, 'analyser': 2881, 'varioel': 2882, '162': 2883, 'von': 2884, 'oheimb': 2885, 'patches': 2886, 'lipid': 2887, 'disturbances': 2888, 'reefs': 2889, 'vital': 2890, 'parent': 2891, 'includes': 2892, 'evaluation': 2893, 'bscs': 2894, 'destroyed': 2895, 'considerable': 2896, 'homogeneous': 2897, 'rarer': 2898, 'studied': 2899, 'salinity': 2900, 'grains': 2901, 'acid': 2902, 'exceptionally': 2903, '200': 2904, 'egg': 2905, 'corbicular': 2906, 'bread': 2907, 'comb': 2908, 'hive': 2909, 'retained': 2910, 'incentives': 2911, 'preservative': 2912, '1ã\\x83â¢ã\\x8bâ\\x86ã\\x82â¶1': 2913, 'ascomycota': 2914, 'disturbance': 2915, 'monetary': 2916, 'amounts': 2917, 'recreational': 2918, 'willing': 2919, 'pay': 2920, 'macroinvertebrates': 2921, 'psychological': 2922, 'provision': 2923, 'infrastructure': 2924, 'rapidly': 2925, 'passive': 2926, 'slow': 2927, 'defence': 2928, 'journal': 2929, 'botanik': 2930, 'multitrophic': 2931, 'reef': 2932, 'h20': 2933, 'relevancy': 2934, 'collection': 2935, 'special': 2936, 'serrata': 2937, 'eyrei': 2938, 'henryi': 2939, 'pitfall': 2940, 'flow': 2941, 'liming': 2942, 'cause': 2943, 'several': 2944, 'geiã\\x83å¸ler': 2945, 'kã\\x83â¼hn': 2946, 'turkey': 2947, 'middle': 2948, 'unclassified': 2949, 'zoo': 2950, 'expectancy': 2951, 'deposited': 2952, 'stigmas': 2953, 'situated': 2954, 'depressed': 2955, 'work': 2956, 'attenuates': 2957, 'chewer': 2958, 'proceedings': 2959, 'adaptation': 2960, 'rests': 2961, 'manner': 2962, 'city': 2963, 'secondly': 2964, 'immunological': 2965, 'lysozyme': 2966, 'recognition': 2967, 'ccf': 2968, 'hemolytic': 2969, 'fetidin': 2970, 'lysenins': 2971, 'res': 2972, 'gnnr': 2973, '510': 2974, 'reciprocal': 2975, 'currently': 2976, 'lack': 2977, 'influenced': 2978, 'mpb': 2979, '72': 2980, 'anthropocene': 2981, 'ptb': 2982, 'individually': 2983, 'characteristic': 2984, 'minimum': 2985, '8ã\\x83â\\x80\\x9aã\\x82â°c': 2986, 'july': 2987, 'accumulated': 2988, 'ã\\x83â¢ã¢â\\x82¬â°ã\\x82â¥': 2989, '5ã\\x83â\\x80\\x9aã\\x82â°c': 2990, 'days': 2991, '05': 2992, 'shelves': 2993, 'strait': 2994, 'gibraltar': 2995, 'adriatic': 2996, 'vertebrates': 2997, 'attached': 2998, 'horizons': 2999, 'compromises': 3000, 'dune': 3001, 'humans': 3002, 'defense': 3003, 'again': 3004, 'trachomatis': 3005, 'characterising': 3006, 'extending': 3007, 'changed': 3008, 'nutrients': 3009, 'indirectly': 3010, 'curves': 3011, 'optimistic': 3012, 'faster': 3013, 'alone': 3014, 'off': 3015, 'differentiation': 3016, 'serves': 3017, 'incorporate': 3018, 'herptiles': 3019, 'modern': 3020, 'clades': 3021, 'speciation': 3022, 'insights': 3023, 'variety': 3024, 'units': 3025, 'bde': 3026, '209': 3027, 'whereas': 3028, 'doi': 3029, 'gov': 3030, 'parasite': 3031, 'look': 3032, 'formation': 3033, 'extrapolate': 3034, '1m': 3035, 'phylotypes': 3036, 'detrimental': 3037, 'sb': 3038, 'old': 3039, 'herb': 3040, 'wawo': 3041, 'relevant': 3042, 'mechanistic': 3043, 'servicesã\\x83â¢ã¢â\\x82â¬ã¢â\\x80â\\x9dproduction': 3044, 'lipids': 3045, 'northern': 3046, 'frequent': 3047, 'primacy': 3048, 'depended': 3049, 'congruent': 3050, 'legume': 3051, 'decision': 3052, 'accessed': 3053, 'url': 3054, 'experiments': 3055, 'fruit': 3056, 'chambers': 3057, 'participants': 3058, 'wanted': 3059, 'covering': 3060, 'territory': 3061, '80': 3062, '33792': 3063, '334': 3064, '10631': 3065, '38233': 3066, '16425': 3067, 'challenges': 3068, 'resolved': 3069, 'hierarchically': 3070, 'recruitment': 3071, 'structures': 3072, 'stress': 3073, 'traced': 3074, 'fc': 3075, 'irrespective': 3076, 'regulations': 3077, 'relating': 3078, 'prevent': 3079, 'ostreid': 3080, 'herpesvirus': 3081, 'power': 3082, 'database': 3083, 'occupancy': 3084, 'botanical': 3085, 'front': 3086, 'greatly': 3087, \"29ã\\x83æ\\x92ã¢â\\x82¬å¡ã\\x83â\\x80\\x9aã\\x82â°08'\": 3088, '29ã\\x83æ\\x92ã¢â\\x82¬å¡ã\\x83â\\x80\\x9aã\\x82â°11': 3089, \"117ã\\x83æ\\x92ã¢â\\x82¬å¡ã\\x83â\\x80\\x9aã\\x82â°90'\": 3090, '117ã\\x83æ\\x92ã¢â\\x82¬å¡ã\\x83â\\x80\\x9aã\\x82â°93': 3091, 'shelf': 3092, 'seminal': 3093, 'andrã\\x83â\\x83ã\\x82â©n': 3094, 'remnant': 3095, 'connectivity': 3096, 'eroded': 3097, 'material53': 3098, 'substantially': 3099, 'ranged': 3100, 'seed': 3101, 'consisted': 3102, '550': 3103, 'sunk': 3104, 'preserving': 3105, 'drops': 3106, 'detergent': 3107, 'trapping': 3108, 'detected': 3109, 'bees': 3110, 'encoding': 3111, 'attractive': 3112, 'versatile': 3113, 'sepecies': 3114, 'unpolishedhelper': 3115, 'breaking': 3116, 'far': 3117, 'ecotone': 3118, 'thereby': 3119, 'destructive': 3120, 'barcoding': 3121, 'multifunctionality': 3122, 'capable': 3123, 'applied': 3124, 'endemic': 3125, 'article': 3126, 'issue': 3127, 'phototrophic': 3128, 'aside': 3129, 'oliver': 3130, 'purschke': 3131, 'german': 3132, 'idiv': 3133, 'deutscher': 3134, 'platz': 3135, '5e': 3136, '341': 3137, '33121': 3138, 'leaving': 3139, 'uncertain': 3140, 'mediate': 3141, 'tests': 3142, 'focused': 3143, 'attention': 3144, 'intraspecific': 3145, 'reproduction': 3146, 'schima': 3147, 'quercus': 3148, 'castanopsis': 3149, 'castanea': 3150, 'whaerdtle': 3151, 'guilt': 3152, 'trap': 3153, 'tax': 3154, 'subfamily': 3155, 'interested': 3156, 'schuldt': 3157, 'assmann': 3158, 'raise': 3159, 'manage': 3160, 'regulation': 3161, 'posit': 3162, 'severe': 3163, 'themeanheight': 3164, 'methorst': 3165, 'nectar': 3166, 'rainfalls': 3167, 'revealed': 3168, 'many': 3169, 'bag': 3170, 'win': 3171, 'decomposing': 3172, 'biodiverse': 3173, 'feat46': 3174, 'cuisines': 3175, 'trends': 3176, 'herbarium': 3177, 'nations': 3178, 'lifespans': 3179, 'abstract': 3180, 'hundreds': 3181, 'necessity': 3182, 'holistic': 3183, 'sep': 3184, 'silk': 3185, 'prevents': 3186, 'vice': 3187, 'versa': 3188, 'get': 3189, 'tre': 3190, '44e': 3191, 'cophenetic': 3192, 'uk': 3193, 'theory': 3194, 'terrain': 3195, 'multilayer': 3196, 'difficult': 3197, 'topography': 3198, 'rat': 3199, 'ã\\x83æ\\x92ã\\x82â¢ã\\x83â¢ã¢â\\x82¬å¡ã\\x82â¬ã\\x83â¢ã¢â\\x80\\x9aâ¬ã\\x85â\\x80\\x9c': 3200, 'dwelling': 3201, 'asian': 3202, 'trenches': 3203, 'vents': 3204, 'antã\\x83â¢ã¢â\\x80\\x9aâ¬ã¢â\\x82¬å\\x93hemipteran': 3205, 'requests': 3206, 'assistance': 3207, 'relocation': 3208, 'york': 3209, 'silts': 3210, 'like': 3211, 'autumn': 3212, 'investigations': 3213, 'focuses': 3214, 'underpinning': 3215, 'reconciling': 3216, 'frontier': 3217, 'extant': 3218, 'inhabiting': 3219, 'overcome': 3220, 'imperiled': 3221, 'freiburg': 3222, 'mediates': 3223, 'transitional': 3224, 'heterotrophic': 3225, 'checklist': 3226, 'stewardship': 3227, 'frameworks': 3228, 'forecasting': 3229, 'towards': 3230, 'conserving': 3231, 'created': 3232, 'sustained': 3233, 'january': 3234, 'tracked': 3235, 'urbanized': 3236, 'floating': 3237, 'generates': 3238, 'sharp': 3239, 'tropic': 3240, 'alboran': 3241, 'sp6': 3242, 'assigned': 3243, 'maintenance': 3244, 'apply': 3245, 'sensitivity': 3246, 'actions': 3247, 'produced': 3248, 'abundant': 3249, 'amoebae': 3250, 'fla': 3251, 'cunninghamia': 3252, 'lanceolata': 3253, 'importantly': 3254, 'sheds': 3255, 'declines': 3256, 'dependencies': 3257, 'obtain': 3258, 'epicormics': 3259, 'springs': 3260, 'america': 3261, 'beetles': 3262, 'libshuff': 3263, '001': 3264, 'unifrac': 3265, 'ensure': 3266, 'true': 3267, 'remotely': 3268, 'marxan': 3269, 'abrupt': 3270, 'originatescsp': 3271, 'implemented': 3272, 'seek': 3273, 'latitudinal': 3274, 'took': 3275, 'account': 3276, 'experienced': 3277, '56': 3278, 'santa': 3279, 'cruz': 3280, 'ds': 3281, '781': 3282, 'straight': 3283, '227ã\\x83â¢ã¢â\\x82â¬ã¢â\\x80â\\x9c362': 3284, '82ã\\x83â¢ã¢â\\x82â¬ã¢â\\x80â\\x9c211': 3285, 'ectomycorrhiza': 3286, 'saprophytes': 3287, 'clays': 3288, '51': 3289, '64': 3290, '1250': 3291, 'wiener': 3292, 'ultimately': 3293, 'influencing': 3294, 'cutanic': 3295, 'convert': 3296, 'permit': 3297, 'inherent': 3298, 'faceted': 3299, 'hierarchical': 3300, 'organization': 3301, 'targets': 3302, 'happen': 3303, '20herblayer': 3304, '33e': 3305, 'herblayer': 3306, 'table': 3307, 'tradeoffs': 3308, 'aims': 3309, 'designing': 3310, 'implementing': 3311, 'zhejiang': 3312, 'province': 3313, 'visitation': 3314, '36': 3315, 'varies': 3316, 'markedly': 3317, 'regimes': 3318, 'integrate': 3319, 'confirms': 3320, 'derive': 3321, 'metadata': 3322, 'nearly': 3323, 'agroforest': 3324, 'archaea': 3325, 'artefacts': 3326, 'pinus': 3327, 'massoniana': 3328, 'cultured': 3329, 'moved': 3330, 'helmholtz': 3331, 'ufz': 3332, 'department': 3333, 'theodor': 3334, 'lieser': 3335, 'straã\\x83æ\\x92ã\\x86â\\x80\\x99ã\\x83â\\x80¦ã\\x82â¸e': 3336, '6120': 3337, '345': 3338, '558': 3339, 'minimizes': 3340, 'disperse': 3341, 'suitability': 3342, 'reducing': 3343, 'chargo51': 3344, 'despite': 3345, 'fact': 3346, 'mainstay': 3347, 'robust': 3348, 'steffen': 3349, 'seitz': 3350, 'geographisches': 3351, 'institut': 3352, '07071': 3353, '74081': 3354, 'restoring': 3355, 'wide': 3356, 'meanwhile': 3357, 'acquired': 3358, 'brood': 3359, 'ethanol': 3360, 'glycerol': 3361, 'acetic': 3362, 'prior': 3363, 'prokaryotes': 3364, 'foraminifera': 3365, 'meiofauna': 3366, 'macrofauna': 3367, 'megafauna': 3368, 'canyons': 3369, 'cold': 3370, 'hypersaline': 3371, 'longitudinal': 3372, 'bathymetric': 3373, 'works': 3374, 'domain': 3375, 'thickness': 3376, 'ancestral': 3377, 'occupancies': 3378, 'contracted': 3379, '0ã\\x83â¢ã¢â\\x82â¬ã¢â\\x80â\\x9c14': 3380, 'extirpated': 3381, 'economically': 3382, 'traditionally': 3383, 'migrations': 3384, 'behaviour': 3385, 'unclear': 3386, 'ten': 3387, 'juveniles': 3388, 'socioeconomically': 3389, '3397': 3390, 'gradients': 3391, 'commonly': 3392, 'uncommon': 3393, 'sparse': 3394, 'settings': 3395, 'faction': 3396, 'horizontal': 3397, 'bank': 3398, 'consolidated': 3399, 'bent': 3400, 'predation': 3401, 'smooth': 3402, 'preservation': 3403, 'measure': 3404, 'documented': 3405, 'nfa': 3406, '2018': 3407, 'edition': 3408, 'barrier': 3409, 'yeasts': 3410, 'normal': 3411, 'parametrized': 3412, 'creates': 3413, 'assembly': 3414, 'forecast': 3415, 'pupae': 3416, 'repeated': 3417, 'simulate': 3418, 'extreme': 3419, 'equivalent': 3420, 'seeds': 3421, 'plug': 3422, 'create': 3423, 'chalk': 3424, 'kã\\x83æ\\x92ã\\x86â\\x80\\x99ã\\x83â\\x80\\x9aã\\x82â¼hn': 3425, 'late': 3426, 'devonian': 3427, 'biroi': 3428, 'ochetellus': 3429, 'glaber': 3430, 'monomorium': 3431, 'chinense': 3432, 'lepisiota': 3433, 'opaca': 3434, 'nylanderia': 3435, 'bourbonica': 3436, 'coleoptera': 3437, 'polyrhachis': 3438, 'dives': 3439, 'theridiidae': 3440, 'elateridae': 3441, 'coccinellidae': 3442, 'dilobocondyla': 3443, 'fouqueti': 3444, 'mutillidae': 3445, 'campsosternus': 3446, 'auratus': 3447, 'recruits': 3448, 'lifeform': 3449, 'csp17': 3450, 'csp18': 3451, 'csp19': 3452, 'csp20': 3453, 'csp21': 3454, 'csp22': 3455, 'csp23': 3456, 'csp24': 3457, 'csp25': 3458, 'csp26': 3459, 'csp27': 3460, 'literature': 3461, 'trophobioses': 3462, 'ith': 3463, 'encode': 3464, 'fatal': 3465, 'attraction': 3466, 'spotlight': 3467, 'exploitation': 3468, 'associate': 3469, 'rarity': 3470, 'incentive': 3471, 'exploit': 3472, 'loop': 3473, 'second': 3474, 'behind': 3475, 'bathyal': 3476, 'complementing': 3477, 'insufficient': 3478, 'permanent': 3479, 'ethnobotany': 3480, 'balkans': 3481, 'cooked': 3482, 'rolled': 3483, 'filling': 3484, 'seasoning': 3485, 'ã\\x83â¢ã¢â\\x82â¬ã¢â\\x80â\\x9c': 3486, 'feasting': 3487, 'dishes': 3488, 'harvest': 3489, 'speciesspecific': 3490, 'fixed': 3491, 'declining': 3492, 'comparisons': 3493, 'hucname': 3494, 'ecoregl3': 3495, 'lat': 3496, 'lon': 3497, 'huc': 3498, 'bighuc': 3499, 'phstvl': 3500, 'cond': 3501, 'tp': 3502, 'no3': 3503, 'cl': 3504, 'alk': 3505, 'temp': 3506, 'rbpscore': 3507, 'abund': 3508, 'sumcount': 3509, 'numspec': 3510, 'nsintol': 3511, 'pintol': 3512, 'ws': 3513, 'lwskm2': 3514, 'aintol': 3515, 'ns': 3516, 'ab': 3517, 'lcond': 3518, 'so4hco3': 3519, 'totcount': 3520, 'hardness': 3521, 'fecal': 3522, 'coliform': 3523, 'xembed': 3524, 'pct': 3525, 'safn': 3526, 'visit': 3527, 'tn': 3528, 'yearmonth': 3529, 'convention': 3530, 'carefully': 3531, 'vetted': 3532, 'studbook': 3533, 'aquariums': 3534, 'going': 3535, '700ã\\x83â¢ã¢â\\x82â¬ã¢â\\x80â\\x9c46': 3536, '000ã\\x83â¢ã¢â\\x82â¬ã¢â\\x80â\\x9c58': 3537, '2035': 3538, 'socio': 3539, 'epiphyte': 3540, 'reasearch': 3541, 'neotropical': 3542, 'necessary': 3543, 'identical': 3544, '171': 3545, 'unabiguous': 3546, 'refers': 3547, 'horizon31': 3548, 'applications': 3549, 'demonstrates': 3550, 'retaining': 3551, 'neither': 3552, 'suppressive': 3553, 'nor': 3554, 'composts': 3555, 'zopfiella': 3556, 'describes': 3557, 'explanations': 3558, 'variance': 3559, 'statistical': 3560, 'averaging': 3561, 'optimization': 3562, 'converging': 3563, 'yunnan': 3564, 'drainage': 3565, 'watson': 3566, '1947': 3567, 'recording': 3568, 'surficial': 3569, 'combine': 3570, 'check': 3571, 'corresponding': 3572, 'ids': 3573, 'interaction': 3574, 'antimicrobial': 3575, 'proteins': 3576, 'yrs': 3577, 'hydrothermal': 3578, 'protein': 3579, 'discusses': 3580, 'clinical': 3581, 'maintaining': 3582, 'markers': 3583, 'sboth': 3584, 'incorporated': 3585, 'restricting': 3586, 'informative': 3587, 'considerably': 3588, 'hemiptera': 3589, 'make': 3590, 'transplant': 3591, 'evaluate': 3592, 'distributional': 3593, '115': 3594, 'pinnipeds': 3595, 'cetaceans': 3596, 'tillers': 3597, 'autotrophic': 3598, 'generated': 3599, 'foraged': 3600, 'generality': 3601, 'visited': 3602, 'predictor': 3603, 'crashed': 3604, 'wetlands': 3605, 'aegean': 3606, 'interference': 3607, 'improper': 3608, 'transfer': 3609, 'demonstrating': 3610, 'authored': 3611, 'paradigmatic': 3612, 'attini': 3613, 'cultivate': 3614, 'guide': 3615, 'fertility': 3616, 'strains': 3617, 'term': 3618, 'asses': 3619, 'occurrence': 3620, 'facility': 3621, 'networked': 3622, 'fertile': 3623, 'designed': 3624, 'targeting': 3625, 'quantitatively': 3626, 'competing': 3627, 'converted': 3628, 'worst': 3629, 'restricted': 3630, 'heigth': 3631, 'bifurcatin': 3632, 'sensed': 3633, 'frequencies': 3634, 'software': 3635, 'fundamentally': 3636, 'photoautotrophic': 3637, 'biochemical': 3638, 'vmueller': 3639, 'indicates': 3640, 'accounting': 3641, '52': 3642, 'differently': 3643, 'spanning': 3644, 'seafloor': 3645, 'trajectory': 3646, 'parasites': 3647, 'sensitive': 3648, 'switched': 3649, 'impaired': 3650, '125': 3651, 'generally': 3652, 'geiã\\x83æ\\x92ã\\x86â\\x80\\x99ã\\x83â\\x80¦ã\\x82â¸ler': 3653, 'savannah': 3654, 'clearly': 3655, 'profound': 3656, 'landslides': 3657, 'fire': 3658, 'highlight': 3659, 'developing': 3660, '20csp': 3661, '20species': 3662, '20cover': 3663, 'polychaeta': 3664, 'ambonese': 3665, 'maluku': 3666, 'macronutrient': 3667, 'illustrating': 3668, 'poses': 3669, 'erode': 3670, 'windthrows': 3671, 'shutdown': 3672, 'crisis': 3673, 'manipulate': 3674, 'emerging': 3675, 'enhances': 3676, 'october': 3677, 'exposed': 3678, 'shaping': 3679, 'cwirth': 3680, 'safety': 3681, 'justice': 3682, 'places': 3683, 'replenishment': 3684, 'resolution': 3685, 'reveals': 3686, 'hiv': 3687, 'quasispecies': 3688, 'crassostrea': 3689, 'gigas': 3690, 'kingdom': 3691, 'decided': 3692, 'differential': 3693, 'preconditions': 3694, 'characterise': 3695, 'tensile': 3696, 'penetration': 3697, 'hã\\x83æ\\x92ã\\x82â¤rdtle': 3698, 'goddert': 3699, 'lang': 3700, 'scrutinized': 3701, '846': 3702, 'person': 3703, '196': 3704, '252': 3705, '669': 3706, 'juvenile': 3707, 'carbohydrate': 3708, 'enzyme': 3709, 'metagenomes': 3710, 'bovine': 3711, 'rumen': 3712, 'convergence': 3713, 'probably': 3714, 'buscot': 3715, 'ã\\x83â¢ã¢â\\x82â¬ã¢â\\x80â\\x9d': 3716, 'protozoa': 3717, 'chargo': 3718, 'antibiotic': 3719, 'exposure': 3720, 'andã¢â\\x82¬â\\x80\\x9dwithin': 3721, 'mammalsã¢â\\x82¬â\\x80\\x9dbetween': 3722, 'narrow': 3723, 'sequences': 3724, 'cooling': 3725, 'gardn': 3726, 'mobile': 3727, '49486360': 3728, '309': 3729, '21365980': 3730, '13666': 3731, '2004825': 3732, '18698983': 3733, '1733048': 3734, 'geoss': 3735, 'write': 3736, 'colonisation': 3737, 'collect': 3738, 'stratified': 3739, 'consult': 3740, 'horticultural': 3741, 'outplant': 3742, 'propagate': 3743, 'hawaiian': 3744, 'cyperus': 3745, 'pennatiformes': 3746, 'chenopodium': 3747, 'oahuense': 3748, 'santalum': 3749, 'ellipticum': 3750, 'recommended': 3751, 'horticulturist': 3752, 'recommendations': 3753, 'logs': 3754, 'visible': 3755, 'circumference': 3756, 'bodied': 3757, 'alterations': 3758, 'reaching': 3759, 'migrate': 3760, 'ecotones': 3761, 'hard': 3762, 'barriers': 3763, 'ppm': 3764, 'bicar': 3765, 'macroinvertebrate': 3766, '1638': 3767, 'investigation': 3768, '94': 3769, 'manipulations': 3770, 'continue': 3771, 'jeopardizes': 3772, 'perceived': 3773, 'contained': 3774, 'yielding': 3775, 'compiled': 3776, 'japan': 3777, 'undescribed': 3778, 'experts': 3779, 'guides': 3780, 'consideration': 3781, 'albertine': 3782, 'rift': 3783, 'ngs': 3784, 'framework': 3785, '61fb8604': 3786, '404e': 3787, '93da': 3788, 'a7286d669836': 3789, 'appropriately': 3790, 'alternatives': 3791, 'helping': 3792, 'transforming': 3793, 'savannahs': 3794, 'themed': 3795, 'deviate': 3796, 'vertical': 3797, 'stature': 3798, 'involving': 3799, 'leaning': 3800, 'latter': 3801, 'curved': 3802, 'schamp': 3803, 'nrr': 3804, 'occurred': 3805, 'leap': 3806, '1950s': 3807, 'interior': 3808, 'gfn': 3809, 'concordance': 3810, '110': 3811, 'times': 3812, 'untested': 3813, 'french': 3814, 'polynesia': 3815, 'r2': 3816, '93': 3817, '89': 3818, '87': 3819, '85': 3820, 'raindrop': 3821, 'camp': 3822, 'begin': 3823, 'peter': 3824, 'geography': 3825, 'eberhard': 3826, 'karls': 3827, 'gives': 3828, 'xxyy': 3829, 'ba15': 3830, 'separate': 3831, 'asymmetry': 3832, 'recorded': 3833, 'lands': 3834, 'alang': 3835, 'addresses': 3836, 'hypsometer': 3837, 'haglã\\x83æ\\x92ã\\x82â¶f': 3838, 'september': 3839, 'conclude': 3840, 'lesser': 3841, 'implies': 3842, 'unravel': 3843, 'drive': 3844, 'oysters': 3845, 'distances': 3846, 'hydraulically': 3847, 'connected': 3848, 'cotton': 3849, 'wick': 3850, 'poesen': 3851, 'savat': 3852, '1981': 3853, 'import': 3854, 'entering': 3855, 'detail': 3856, 'discuss': 3857, 'visitor': 3858, 'ny': 3859, 'fuhs': 3860, 'xmg2': 3861, 'tannic': 3862, 'wasdefined': 3863, 'bruchidae': 3864, 'blã\\x83æ\\x92ã\\x86â\\x80\\x99ã\\x83â\\x80\\x9aã\\x82â¼thgen': 3865, 'eutrophication': 3866, 'alien': 3867, 'afichtner': 3868, 'aschuldt': 3869, 'matkunz': 3870, 'florians': 3871, 'seine': 3872, 'mesh': 3873, '35': 3874, '75': 3875, 'wings': 3876, '174849': 3877, '212': 3878, '667044': 3879, '1700': 3880, '1611823': 3881, '1783966': 3882, 'master': 3883, 'plan': 3884, 'benefit': 3885, 'update': 3886, 'perchloroethylene': 3887, 'leguminous': 3888, 'forbs': 3889, 'legumes': 3890, 'correlation': 3891, 'coefficients': 3892, 'speis': 3893, 'ndvi': 3894, 'anomalies': 3895, '88': 3896, '28': 3897, 'transferred': 3898, 'liter': 3899, 'buckets': 3900, 'aerated': 3901, 'released': 3902, 'clonal': 3903, 'lots': 3904, 'neighboring': 3905, 'pesticide': 3906, 'inputs': 3907, 'mock': 3908, 'ã\\x83æ\\x92ã¢â\\x82¬å¡ã\\x83â\\x80\\x9aã\\x82â°': 3909, 'tapinoma': 3910, 'melanocephalum': 3911, 'rice': 3912, 'vegetables': 3913, 'incident': 3914, '940': 3915, 'puget': 3916, 'sound': 3917, 'seining': 3918, 'simenstad': 3919, '1991': 3920, 'royal': 3921, 'jelly': 3922, 'makers': 3923, 'know': 3924, 'enough': 3925, 'diminish': 3926, 'museum': 3927, 'stu': 3928, 'nectarivores': 3929, 'consequence': 3930, 'discussions': 3931, 'gyearmonth': 3932, 'numerous': 3933, 'turn': 3934, 'axonomy': 3935, 'indiv': 3936, 'xinganshan': 3937, 'shifts': 3938, 'resilience': 3939, 'neglect': 3940, 'needs': 3941, 'instrument': 3942, 'sex': 3943, 'median': 3944, 'expectancies': 3945, 'ex': 3946, '330': 3947, 'american': 3948, 'otherwise': 3949, 'unable': 3950, 'constraints': 3951, 'rather': 3952, 'remarkably': 3953, 'particle': 3954, 'projects': 3955, 'synoptic': 3956, 'generate': 3957, 'mm2': 3958, '055f3bf9': 3959, 'd77d': 3960, '48f2': 3961, 'b504': 3962, 'cbbfdb5a394b': 3963, 'perceptions': 3964, 'anticipate': 3965, 'grass': 3966, 'characters': 3967, 'allowing': 3968, 'agents': 3969, 'heightwasdefined': 3970, 'transformed': 3971, 'beers': 3972, 'blã\\x83æ\\x92ã\\x82â¼thgen': 3973, 'circular': 3974, 'determination': 3975, 'calculations': 3976, 'figured': 3977, '206': 3978, 'occurring': 3979, 'multiplied': 3980, 'equilibrium': 3981, 'log': 3982, 'giving': 3983, 'rough': 3984, 'quick': 3985, 'temporal': 3986, 'envrionment': 3987, 'missing': 3988, 'twubet': 3989, 'fbuscot': 3990, 'ywu': 3991, 'hypothesize': 3992, 'extraction': 3993, 'barcode': 3994, '581': 3995, '582': 3996, 'vent': 3997, 'accumulate': 3998, 'spaces': 3999, 'moving': 4000, 'beyond': 4001, 'neutral': 4002, 'challenging': 4003, 'question': 4004, 'distinct': 4005, 'cultural': 4006, 'beliefs': 4007, 'practices': 4008, 'continues': 4009, 'problem': 4010, '100': 4011, 'primarily': 4012, 'minced': 4013, 'meat': 4014, 'randomly': 4015, 'visually': 4016, 'inspected': 4017, 'course': 4018, 'debate': 4019, 'sierra': 4020, 'leonean': 4021, 'g1': 4022, 'pilot1': 4023, 'belong': 4024, \"29ã\\x83æ\\x92ã¢â\\x82¬å¡ã\\x83â\\x80\\x9aã\\x82â°06'20\": 4025, \"117ã\\x83æ\\x92ã¢â\\x82¬å¡ã\\x83â\\x80\\x9aã\\x82â°55'12\": 4026, 'unusually': 4027, 'normalized': 4028, 'severely': 4029, 'phytolacca': 4030, 'americana': 4031, 'macedonia': 4032, 'view': 4033, 'click': 4034, 'behaviors': 4035, 'political': 4036, 'imports': 4037, 'invoices': 4038, 'routinely': 4039, 'dramatic': 4040, 'recipient': 4041, 'holobee': 4042, 'pose': 4043, 'serious': 4044, 'prevailing': 4045, 'marginally': 4046, 'usable': 4047, 'intact': 4048, 'preserved': 4049, 'inside': 4050, 'col32': 4051, 'yrã\\x83â¢ã\\x8bâ\\x86ã¢â\\x80â\\x991': 4052, 'stratigraphy56': 4053, 'lived': 4054, 'materials': 4055, 'ã\\x83â\\x80\\x94': 4056, \"light'\": 4057, 'replicates': 4058, 'gene': 4059, 'pcr': 4060, 'trflp': 4061, 'segments': 4062, 'gastrointestinal': 4063, 'dice': 4064, 'rangers': 4065, 'encouraged': 4066, 'metric': 4067, 'extirpation': 4068, 'ionic': 4069, 'realistic': 4070, '488': 4071, 'week': 4072, 'effort': 4073, 'extracted': 4074, 'forested': 4075, 'cateogories': 4076, 'sands': 4077, 'allow': 4078, 'interests': 4079, 'users': 4080, 'subjective': 4081, 'preferences': 4082, 'radial': 4083, 'encourages': 4084, 'reach': 4085, 'equivalence': 4086, 'lã\\x83æ\\x92ã\\x86â\\x80\\x99ã\\x83â\\x80\\x9aã\\x82â¼neburg': 4087, 'splits': 4088, 'additionally': 4089, 'pressure': 4090, 'arising': 4091, 'insertion': 4092, 'reached': 4093, 'indnr': 4094, 'northness': 4095, 'groupsã\\x83æ\\x92ã\\x82â¢ã\\x83â¢ã¢â\\x82¬å¡ã\\x82â¬ã\\x83â¢ã¢â\\x80\\x9aâ¬ã\\x82â\\x9dinvertebrates': 4096, 'birdsã\\x83æ\\x92ã\\x82â¢ã\\x83â¢ã¢â\\x82¬å¡ã\\x82â¬ã\\x83â¢ã¢â\\x80\\x9aâ¬ã\\x82â\\x9drespond': 4097, 'ryegrass': 4098, '28588f12': 4099, '2da2': 4100, '42ab': 4101, 'af85': 4102, 'afd44ea5c90b': 4103, 'referring': 4104, '63ã\\x83å½ã\\x82â¼m': 4105, 'nn': 4106, 'noted': 4107, 'vegan': 4108, 'package': 4109, 'exceeded': 4110, 'inventories': 4111, 'predicated': 4112, 'assist': 4113, 'agro': 4114, 'adaptive': 4115, '237': 4116, 'workbook': 4117, 'format': 4118, '218': 4119, '20specieslist': 4120, '20sp11': 4121, 'specieslist': 4122, 'cross': 4123, 'listing': 4124, 'occupy': 4125, 'lager': 4126, 'underpinned': 4127, 'niches': 4128, 'promoted': 4129, 'controlling': 4130, 'disease': 4131, 'rampant': 4132, 'exhibit': 4133, 'outcome': 4134, 'must': 4135, 'interactively': 4136, 'improving': 4137, 'strategy': 4138, 'ke': 4139, '1185': 4140, 'austin': 4141, 'tool': 4142, 'locating': 4143, 'march': 4144, 'sufficiently': 4145, 'attain': 4146, 'coverage': 4147, 'databases': 4148, 'geographical': 4149, 'isolation': 4150, 'apparent': 4151, 'segment': 4152, 'sonar': 4153, 'corers': 4154, 'trawls': 4155, 'operated': 4156, 'vehicle': 4157, 'metre': 4158, 'werner': 4159, 'anne': 4160, 'fd': 4161, 'petchey': 4162, 'gaston': 4163, 'tesfaye': 4164, 'wubet': 4165, '5204': 4166, 'franã\\x83æ\\x92ã\\x86â\\x80\\x99ã\\x83â\\x80\\x9aã\\x82â§ois': 4167, 'jessica': 4168, 'gutknecht': 4169, '5255': 4170, 'ting': 4171, 'wu': 4172, 'cascade': 4173, 'preying': 4174, 'bactivorous': 4175, 'another': 4176, 'distinction': 4177, 'microbiology': 4178, 'identifying': 4179, 'taxonimic': 4180, 'datsets': 4181, 'intoxication': 4182, 'brazilian': 4183, 'thermoelectric': 4184, 'epa': 4185, 'rules': 4186, 'recirculating': 4187, '441': 4188, '300': 4189, '3ã\\x83å½ã\\x82â¼m': 4190, '3ã\\x83â\\x82ã\\x82â±1': 4191, 'michael': 4192, 'chair': 4193, 'tennenbacher': 4194, 'str': 4195, 'ã\\x83æ\\x92ã\\x82â¯ã\\x83â\\x80\\x9aã\\x82â¿ã\\x83â\\x80\\x9aã\\x82â½': 4196, 'allopatric': 4197, 'passively': 4198, 'subpopulations': 4199, 'diverge': 4200, 'daughter': 4201, 'actively': 4202, 'migrates': 4203, 'diverges': 4204, 'stratum': 4205, '50cm': 4206, 'thick': 4207, 'underlie': 4208, 'concentrated': 4209, 'colonizing': 4210, 'usa': 4211, 'independently': 4212, 'interrelationships': 4213, 'ridges': 4214, 'carried': 4215, 'inexpensive': 4216, 'adapting': 4217, 'steps': 4218, 'strategic': 4219, 'incorporating': 4220, 'exploring': 4221, 'approximate': 4222, 'grassy': 4223, 'biomes': 4224, '82': 4225, 'bendiness': 4226, 'caco3': 4227, 'corridors': 4228, 'suitable': 4229, 'prerequisite': 4230, 'baseline': 4231, '5699': 4232, '7132699': 4233, 'planet': 4234, 'sustainability': 4235, '892f72f8': 4236, '29b5': 4237, '451e': 4238, '8d27': 4239, '7b89d1c45f63': 4240, 'fabaceae': 4241, 'b32': 4242, 'indiciating': 4243, 'simultaneously': 4244, 'fallow': 4245, 'breastheight': 4246, 'summed': 4247, '490': 4248, 'erosion': 4249, 'excission': 4250, 'cavitation': 4251, 'benefitted': 4252, 'neighbourhoods': 4253, 'particularly': 4254, 'facilitated': 4255, 'interbasinal': 4256, '204': 4257, 'industrial': 4258, 'leads': 4259, 'simplified': 4260, '59': 4261, 'now': 4262, 'ecol': 4263, 'unknowable': 4264, 'biome': 4265, 'biosphere': 4266, 'scant': 4267, 'outcomes': 4268, 'dominate': 4269, 'pollinated': 4270, 'cases': 4271, 'notably': 4272, 'evolutions': 4273, 'deception': 4274, 'orchidaceae': 4275, 'conspicuous': 4276, 'wading': 4277, 'upland': 4278, 'diametrically': 4279, 'geologic': 4280, 'intervals': 4281, 'vicariant': 4282, 'attributable': 4283, 'causal': 4284, 'trophobiosis': 4285, 'controversy': 4286, 'respond': 4287, '3ã\\x83æ\\x92ã\\x85â½ã\\x83â\\x80\\x9aã\\x82â¼m': 4288, 'kã\\x83æ\\x92ã\\x86â\\x80\\x99ã\\x83â\\x80\\x9aã\\x82â¶hn': 4289, 'webs': 4290, 'quasi': 4291, 'linear': 4292, 'reduces': 4293, '58': 4294, 'rockmaterial': 4295, 'stored': 4296, '99': 4297, 'analysed': 4298, 'pyrotag': 4299, 'primer': 4300, 'pair': 4301, 'its1f': 4302, 'its4': 4303, 'feasibility': 4304, '125ã\\x83å½ã\\x82â¼m': 4305, 'expert': 4306, 'opinions': 4307, 'publicly': 4308, 'revise': 4309, 'lists': 4310, 'able': 4311, 'trichloroethylene': 4312, 'pce': 4313, 'live': 4314, 'sorted': 4315, 'bulk': 4316, 'grasses': 4317, 'feature': 4318, 'stratigraphically': 4319, 'constrained': 4320, 'mode': 4321, 'cladogenetic': 4322, 'phyla': 4323, 'arthropoda': 4324, 'brachiopoda': 4325, 'beach': 4326, 'responsible': 4327, 'prey': 4328, 'biofilms': 4329, 'previous': 4330, 'art': 4331, 'evaluating': 4332, 'detecting': 4333, 'employed': 4334, 'guidelines': 4335, 'stuttgart': 4336, '12742122': 4337, '15258': 4338, 'examples': 4339, 'consensus': 4340, 'forecasted': 4341, 'culminate': 4342, '2080': 4343, 'furthermore': 4344, 'push': 4345, 'filter': 4346, 'specialist': 4347, 'confined': 4348, 'explains': 4349, 'guilds': 4350, 'whereby': 4351, 'zoos': 4352, 'oceanic': 4353, 'bathypelagic': 4354, 'biodegradation': 4355, 'tri': 4356, 'sewage': 4357, 'consortium': 4358, 'savannas': 4359, 'finding': 4360, 'summarize': 4361, 'topographical': 4362, 'entomological': 4363, 'parasitological': 4364, 'joint': 4365, 'optimized': 4366, '136': 4367, 'ã\\x83å½ã\\x82â¼m': 4368, 'inserted': 4369, 'faced': 4370, 'retain': 4371, 'longer': 4372, 'occured': 4373, 'entity': 4374, 'invested': 4375, 'groupsã\\x83â¢ã¢â\\x80\\x9aâ¬ã¢â\\x82¬â\\x9dinvertebrates': 4376, 'birdsã\\x83â¢ã¢â\\x80\\x9aâ¬ã¢â\\x82¬â\\x9drespond': 4377, 'addressing': 4378, 'dual': 4379, 'poverty': 4380, 'alleviation': 4381, 'densely': 4382, 'populated': 4383, 'develop': 4384, 'appropriate': 4385, 'interpreted': 4386, 'adapted': 4387, 'residents': 4388, 'footprint': 4389, 'tracks': 4390, 'sole': 4391, 'facilitating': 4392, 'facilitator': 4393, 'undisturbedã¯â¿â½': 4394, 'begun': 4395, 'drastically': 4396, 'alter': 4397, 'prevalence': 4398, 'untold': 4399, 'accommodating': 4400, 'uncertainties': 4401, 'plans': 4402, '323': 4403, 'leave': 4404, 'quantity': 4405, 'characterizes': 4406, 'fa50d8a7': 4407, '6248': 4408, '4e11': 4409, 'a752': 4410, '1c99ea1875a3': 4411, 'massive': 4412, 'subterranean': 4413, 'workers': 4414, 'kilograms': 4415, 'listed': 4416, 'ranked': 4417, 'decomposers': 4418, '70': 4419, '4000': 4420, 'assumption': 4421, 'revisit': 4422, 'take': 4423, 'progression': 4424, 'something': 4425, 'decayed': 4426, 'months': 4427, '127': 4428, 'intra': 4429, 'amoebal': 4430, 'african': 4431, 'coast': 4432, 'examination': 4433, 'implicate': 4434, 'sabine': 4435, 'stable': 4436, 'southwest': 4437, 'australian': 4438, 'ancient': 4439, 'relief': 4440, 'edaphically': 4441, 'verena': 4442, 'mã\\x83æ\\x92ã\\x82â¼ller': 4443, 'principal': 4444, 'barcoded': 4445, 'ontario': 4446, 'guelph': 4447, 'canada': 4448, 'correlating': 4449, 'coi': 4450, 'traditional': 4451, 'facies': 4452, 'genitalia': 4453, 'microlocation': 4454, 'mega': 4455, 'lingcod': 4456, 'coupled': 4457, 'concern': 4458, 'evidenced': 4459, '180': 4460, 'endemism': 4461, 'minimize': 4462, 'gravels': 4463, 'unified': 4464, 'uscs': 4465, 'expressed': 4466, 'equivalents': 4467, 'describe': 4468, 'maximized': 4469, 'suggested': 4470, 'formal': 4471, 'preliminary': 4472, 'confers': 4473, 'movement': 4474, 'minimizing': 4475, 'inbreeding': 4476, 'naturally': 4477, 'fragmented': 4478, 'photospectrometer': 4479, '1205': 4480, 'octet': 4481, 'datagov': 4482, '7e7d528f': 4483, '6c06': 4484, '4f68': 4485, 'aecc': 4486, 'aec382244f1e': 4487, 'ammonium': 4488, 'nitrification': 4489, 'mineralisation': 4490, 'tension': 4491, '3cm2': 4492, 'lives': 4493, 'assembled': 4494, 'hydrobia': 4495, 'ulvae': 4496, 'corophium': 4497, 'volutator': 4498, 'hediste': 4499, 'diversicolor': 4500, 'multispecies': 4501, 'combinations': 4502, '2000': 4503, '630ã\\x83å½ã\\x82â¼m': 4504, '580': 4505, 'corners': 4506, 'largely': 4507, 'fusarium': 4508, 'harbor': 4509, 'tribes': 4510, 'removes': 4511, 'modulating': 4512, 'next': 4513, 'approx': 4514, 'basin': 4515, 'spot': 4516, 'supposed': 4517, 'impoverished': 4518, 'yielded': 4519, 'precise': 4520, 'reproducible': 4521, 'subdivided': 4522, 'split': 4523, 'pitcher': 4524, 'sarracenia': 4525, 'purpurea': 4526, 'ã\\x83â¯ã\\x82â¿ã\\x82â½': 4527, 'accessible': 4528, 'hunters': 4529, 'edge': 4530, 'diminishing': 4531, 'predictive': 4532, 'ã\\x83â¢ã\\x8bâ\\x86ã\\x82â¼9': 4533, 'metasheet': 4534, 'z1': 4535, 'treeandshrubspecies': 4536, 'lsid': 4537, 'accompanied': 4538, 'threatening': 4539, 'limit': 4540, 'cope': 4541, 'moreover': 4542, 'colocasia': 4543, 'esculenta': 4544, 'folk': 4545, 'undisturbedã\\x83â¯ã\\x82â¿ã\\x82â½': 4546, 'chaoyang': 4547, 'beijing': 4548, '008610': 4549, '64807085': 4550, 'q': 4551, 'medicinally': 4552, '10ã\\x83â¢ã¢â\\x80\\x9aâ¬ã¢â\\x82¬å\\x9340': 4553, '40ã\\x83â¢ã¢â\\x80\\x9aâ¬ã¢â\\x82¬å\\x9380': 4554, 'microalgal': 4555, 'microphytobenthos': 4556, 'autochthonous': 4557, 'proxy': 4558, 'hemipteran': 4559, 'mutualism': 4560, 'antã\\x83æ\\x92ã\\x82â¢ã\\x83â¢ã¢â\\x82¬å¡ã\\x82â¬ã\\x83â¢ã¢â\\x80\\x9aâ¬ã\\x85â\\x80\\x9chemipteran': 4561, 'attempt': 4562, 'modelled': 4563, 'scenarioã\\x83â¯ã\\x82â¿ã\\x82â½': 4564, 'compensatory': 4565, 'grew': 4566, 'taller': 4567, 'unlike': 4568, 'redundancy': 4569, 'mop': 4570, 'archive': 4571, 'double': 4572, 'posing': 4573, 'scenariosã\\x83â¯ã\\x82â¿ã\\x82â½': 4574, 'resilient': 4575, 'offset': 4576, '498': 4577, 'coordinates': 4578, 'suffer': 4579, 'maintains': 4580, 'distantly': 4581, 'agroecosystem': 4582, '5ã\\x83â¢ã¢â\\x82â¬ã¢â\\x80â\\x9c2': 4583, 'stay': 4584, '2100': 4585, '63': 4586, '20ã\\x83å½ã\\x82â¼m': 4587, 'underestimated': 4588, 'portions': 4589, 'preparations': 4590, 'lightly': 4591, 'potato': 4592, 'ne': 4593, 'albania': 4594, 'arum': 4595, 'convolvulus': 4596, 'smilax': 4597, 'tussilago': 4598, 'farfara': 4599, 'recovered': 4600, 'rank': 4601, 'highlights': 4602, 'understood': 4603, 'overlaying': 4604, 'validated': 4605, 'sightings': 4606, 'dedicated': 4607, 'northeast': 4608, 'breeding': 4609, 'domesticated': 4610, 'relatives': 4611, 'asked': 4612, 'questions': 4613, 'goes': 4614, 'disadvantages': 4615, 'exclusion': 4616, 'size55': 4617, 'latitude': 4618, 'volant': 4619, 'replicate': 4620, 'brazil': 4621, 'evident': 4622, 'opportunities': 4623, 'enhancing': 4624, 'chinese': 4625, 'encourage': 4626, 'active': 4627, 'conterminous': 4628, 'soller': 4629, 'reheis': 4630, '2004': 4631, 'superoxide': 4632, 'dismutase': 4633, 'catalase': 4634, 'malondialdehyde': 4635}\n"
     ]
    }
   ],
   "source": [
    "tokenizer = Tokenizer()\n",
    "tokenizer.fit_on_texts(vocab_txt)\n",
    "print(\"The document count\", tokenizer.document_count)\n",
    "print(\"The count of words\", tokenizer.word_counts)\n",
    "print(\"The word index\", tokenizer.word_index)"
   ]
  },
  {
   "cell_type": "code",
   "execution_count": 28,
   "metadata": {
    "executionInfo": {
     "elapsed": 30,
     "status": "ok",
     "timestamp": 1649935351433,
     "user": {
      "displayName": "Nora Youssef",
      "userId": "03639374922222745842"
     },
     "user_tz": -120
    },
    "id": "bNvR481KnDn6"
   },
   "outputs": [],
   "source": [
    "n_words = len(tokenizer.word_index.keys())"
   ]
  },
  {
   "cell_type": "code",
   "execution_count": 29,
   "metadata": {
    "colab": {
     "base_uri": "https://localhost:8080/"
    },
    "executionInfo": {
     "elapsed": 31,
     "status": "ok",
     "timestamp": 1649935351434,
     "user": {
      "displayName": "Nora Youssef",
      "userId": "03639374922222745842"
     },
     "user_tz": -120
    },
    "id": "hfh3-YBcnafm",
    "outputId": "e96af26b-cf9c-42f2-c2b8-c63609f70cdf"
   },
   "outputs": [
    {
     "data": {
      "text/plain": [
       "4635"
      ]
     },
     "execution_count": 29,
     "metadata": {},
     "output_type": "execute_result"
    }
   ],
   "source": [
    "n_words"
   ]
  },
  {
   "cell_type": "code",
   "execution_count": 30,
   "metadata": {
    "colab": {
     "base_uri": "https://localhost:8080/"
    },
    "executionInfo": {
     "elapsed": 5,
     "status": "ok",
     "timestamp": 1649935351434,
     "user": {
      "displayName": "Nora Youssef",
      "userId": "03639374922222745842"
     },
     "user_tz": -120
    },
    "id": "ZbCH8eY4rWeA",
    "outputId": "b0344128-b488-437e-fbd9-c1c77975db6e"
   },
   "outputs": [
    {
     "data": {
      "text/plain": [
       "3200"
      ]
     },
     "execution_count": 30,
     "metadata": {},
     "output_type": "execute_result"
    }
   ],
   "source": [
    "len(train_texts)"
   ]
  },
  {
   "cell_type": "markdown",
   "metadata": {
    "id": "ficlztQjaUVa"
   },
   "source": [
    "###X & Y Prep"
   ]
  },
  {
   "cell_type": "code",
   "execution_count": 31,
   "metadata": {
    "executionInfo": {
     "elapsed": 3,
     "status": "ok",
     "timestamp": 1649935351434,
     "user": {
      "displayName": "Nora Youssef",
      "userId": "03639374922222745842"
     },
     "user_tz": -120
    },
    "id": "DP2TPmt4bjKd"
   },
   "outputs": [],
   "source": [
    "\n",
    "from keras.preprocessing.sequence import pad_sequences\n",
    "from keras.utils import to_categorical\n",
    "\n",
    "def getXYFromSentences(txts, lbls):\n",
    "  sequences = tokenizer.texts_to_sequences(txts)\n",
    "  X = pad_sequences(maxlen=max_len, sequences=sequences, padding=\"post\", truncating=\"post\")\n",
    "  # X = tokenizer.sequences_to_matrix(X)\n",
    "  y = np.array(lbls)\n",
    "  # y = np.array([to_categorical(i, num_classes=2) for i in y])\n",
    "  print(X.shape)\n",
    "  print(X[0:3])\n",
    "  print(y.shape)\n",
    "  print(y[0:3])\n",
    "  return X, y"
   ]
  },
  {
   "cell_type": "code",
   "execution_count": 32,
   "metadata": {
    "colab": {
     "base_uri": "https://localhost:8080/"
    },
    "executionInfo": {
     "elapsed": 338,
     "status": "ok",
     "timestamp": 1649935351769,
     "user": {
      "displayName": "Nora Youssef",
      "userId": "03639374922222745842"
     },
     "user_tz": -120
    },
    "id": "ZOBpJZHb3aYe",
    "outputId": "f94ed76a-4107-4e0a-d523-434350aeb86b"
   },
   "outputs": [
    {
     "name": "stdout",
     "output_type": "stream",
     "text": [
      "(3200, 128)\n",
      "[[  14   14    1   23  158  280   62    1  632    2  189  210  643    6\n",
      "   768  769    3  770    6  471  352  105    3  653  613  788    0    0\n",
      "     0    0    0    0    0    0    0    0    0    0    0    0    0    0\n",
      "     0    0    0    0    0    0    0    0    0    0    0    0    0    0\n",
      "     0    0    0    0    0    0    0    0    0    0    0    0    0    0\n",
      "     0    0    0    0    0    0    0    0    0    0    0    0    0    0\n",
      "     0    0    0    0    0    0    0    0    0    0    0    0    0    0\n",
      "     0    0    0    0    0    0    0    0    0    0    0    0    0    0\n",
      "     0    0    0    0    0    0    0    0    0    0    0    0    0    0\n",
      "     0    0]\n",
      " [1992  789    2    1 1365   14 1221   53  259 1366    7    1  393    2\n",
      "    68   25  866    1  436 1366  543 1019    6  608 2413 1829    3 1925\n",
      "     0    0    0    0    0    0    0    0    0    0    0    0    0    0\n",
      "     0    0    0    0    0    0    0    0    0    0    0    0    0    0\n",
      "     0    0    0    0    0    0    0    0    0    0    0    0    0    0\n",
      "     0    0    0    0    0    0    0    0    0    0    0    0    0    0\n",
      "     0    0    0    0    0    0    0    0    0    0    0    0    0    0\n",
      "     0    0    0    0    0    0    0    0    0    0    0    0    0    0\n",
      "     0    0    0    0    0    0    0    0    0    0    0    0    0    0\n",
      "     0    0]\n",
      " [   4  975 1185    3 1367 1368  799  154  431   23    3 1121   85  674\n",
      "   193   85  750 1406  375  444    3   23    0    0    0    0    0    0\n",
      "     0    0    0    0    0    0    0    0    0    0    0    0    0    0\n",
      "     0    0    0    0    0    0    0    0    0    0    0    0    0    0\n",
      "     0    0    0    0    0    0    0    0    0    0    0    0    0    0\n",
      "     0    0    0    0    0    0    0    0    0    0    0    0    0    0\n",
      "     0    0    0    0    0    0    0    0    0    0    0    0    0    0\n",
      "     0    0    0    0    0    0    0    0    0    0    0    0    0    0\n",
      "     0    0    0    0    0    0    0    0    0    0    0    0    0    0\n",
      "     0    0]]\n",
      "(3200,)\n",
      "[0 1 0]\n"
     ]
    }
   ],
   "source": [
    "X_train, y_train = getXYFromSentences(train_texts, train_labels)"
   ]
  },
  {
   "cell_type": "code",
   "execution_count": 33,
   "metadata": {
    "colab": {
     "base_uri": "https://localhost:8080/"
    },
    "executionInfo": {
     "elapsed": 7,
     "status": "ok",
     "timestamp": 1649935351769,
     "user": {
      "displayName": "Nora Youssef",
      "userId": "03639374922222745842"
     },
     "user_tz": -120
    },
    "id": "Uqx7WZ5Mlu1C",
    "outputId": "820645a3-85b6-4f53-f964-72fa13e5e432"
   },
   "outputs": [
    {
     "name": "stdout",
     "output_type": "stream",
     "text": [
      "(400, 128)\n",
      "[[ 154 1413  107  340    1  675 1848    2 1071  587  140 2297    6  437\n",
      "   437  382  222   62    1  410    3  546  444    2  101   14  647  954\n",
      "   655  708  140  803  949    6   25    4    8  645  558  101   14  276\n",
      "     4 1055   51 2437  101   14  391    2   17  558 2438 2439    2  101\n",
      "   103 1274    1  393    2  437  803 2440    0    0    0    0    0    0\n",
      "     0    0    0    0    0    0    0    0    0    0    0    0    0    0\n",
      "     0    0    0    0    0    0    0    0    0    0    0    0    0    0\n",
      "     0    0    0    0    0    0    0    0    0    0    0    0    0    0\n",
      "     0    0    0    0    0    0    0    0    0    0    0    0    0    0\n",
      "     0    0]\n",
      " [ 200    7  198   75   12   63   22   30   97  100   80    6   17   12\n",
      "    97  100   12   63   22   30    9   80    6    1    9   38   36   12\n",
      "    27   22   30    9   34   49    6    1    9   38   89   12   27   22\n",
      "    30    9   34   49    6    1    9   38   36    2    1   87  159   87\n",
      "   167  172   22   30    9   50    6    1    9   38   12   63   18   19\n",
      "    80    6    1   18   19   64   66   36   12   27   18   19   34   49\n",
      "     6    1   18   19   64   66   89   12   27   18   19   34   49    6\n",
      "     1   18   19   64   66   12   63   22    8   97  100   34   12   63\n",
      "    97  100   50    6   17   12   97  100   68  400  214  299  173  448\n",
      "   400  214]\n",
      " [ 308   37   15   68 1992 4572    1  215   23    2 2976  104   37    0\n",
      "     0    0    0    0    0    0    0    0    0    0    0    0    0    0\n",
      "     0    0    0    0    0    0    0    0    0    0    0    0    0    0\n",
      "     0    0    0    0    0    0    0    0    0    0    0    0    0    0\n",
      "     0    0    0    0    0    0    0    0    0    0    0    0    0    0\n",
      "     0    0    0    0    0    0    0    0    0    0    0    0    0    0\n",
      "     0    0    0    0    0    0    0    0    0    0    0    0    0    0\n",
      "     0    0    0    0    0    0    0    0    0    0    0    0    0    0\n",
      "     0    0    0    0    0    0    0    0    0    0    0    0    0    0\n",
      "     0    0]]\n",
      "(400,)\n",
      "[1 0 0]\n"
     ]
    }
   ],
   "source": [
    "X_dev, y_dev = getXYFromSentences(dev_texts, dev_labels)"
   ]
  },
  {
   "cell_type": "code",
   "execution_count": 34,
   "metadata": {
    "colab": {
     "base_uri": "https://localhost:8080/"
    },
    "executionInfo": {
     "elapsed": 5,
     "status": "ok",
     "timestamp": 1649935351769,
     "user": {
      "displayName": "Nora Youssef",
      "userId": "03639374922222745842"
     },
     "user_tz": -120
    },
    "id": "vO2Ylt52cbpD",
    "outputId": "fd4c8422-1e7a-4e98-98c1-e07bc02a1266"
   },
   "outputs": [
    {
     "name": "stdout",
     "output_type": "stream",
     "text": [
      "(400, 128)\n",
      "[[ 262 1521   36 1497  115  576  271  153   92  944  586   40   10   68\n",
      "    23   13  226   10  375  262  810    2  627    0    0    0    0    0\n",
      "     0    0    0    0    0    0    0    0    0    0    0    0    0    0\n",
      "     0    0    0    0    0    0    0    0    0    0    0    0    0    0\n",
      "     0    0    0    0    0    0    0    0    0    0    0    0    0    0\n",
      "     0    0    0    0    0    0    0    0    0    0    0    0    0    0\n",
      "     0    0    0    0    0    0    0    0    0    0    0    0    0    0\n",
      "     0    0    0    0    0    0    0    0    0    0    0    0    0    0\n",
      "     0    0    0    0    0    0    0    0    0    0    0    0    0    0\n",
      "     0    0]\n",
      " [   4   17  678   72  135  154 1356   78 1509    6 1292  341 1007    3\n",
      "   762    8    3  264  368  174    3  119    7  579    2   68    3  655\n",
      "     0    0    0    0    0    0    0    0    0    0    0    0    0    0\n",
      "     0    0    0    0    0    0    0    0    0    0    0    0    0    0\n",
      "     0    0    0    0    0    0    0    0    0    0    0    0    0    0\n",
      "     0    0    0    0    0    0    0    0    0    0    0    0    0    0\n",
      "     0    0    0    0    0    0    0    0    0    0    0    0    0    0\n",
      "     0    0    0    0    0    0    0    0    0    0    0    0    0    0\n",
      "     0    0    0    0    0    0    0    0    0    0    0    0    0    0\n",
      "     0    0]\n",
      " [  54  138    7  310  321    3  311   15  312  138    7   69  169  185\n",
      "   168  169  168   95   16   95   82    5   95  112  113    5  236    8\n",
      "   313  336   48  216   16   36   75    4  176   25   14   24    5   24\n",
      "     5   10   69    3  331   48   24    5   10  250  109   74   24    5\n",
      "    10  237  109   74   24    5   10  314  315    3  283   24    5   10\n",
      "    81  316   24    5   10  307  317    3  305    3  241   57   24    5\n",
      "    10  251  109   74   24    5   10  290   24   27  238  146   48  229\n",
      "    42  355  333  348  356  288  318   69   48   10  171   69   48   10\n",
      "    60  296   40   27  270    2  263   40   40  219   82    5  202   14\n",
      "   115   20]]\n",
      "(400,)\n",
      "[1 0 0]\n"
     ]
    }
   ],
   "source": [
    "X_test, y_test = getXYFromSentences(test_texts, test_labels)"
   ]
  },
  {
   "cell_type": "markdown",
   "metadata": {
    "id": "JmXgVQiFQVnN"
   },
   "source": [
    "##Setup the LSTM"
   ]
  },
  {
   "cell_type": "code",
   "execution_count": 35,
   "metadata": {
    "executionInfo": {
     "elapsed": 3,
     "status": "ok",
     "timestamp": 1649935351769,
     "user": {
      "displayName": "Nora Youssef",
      "userId": "03639374922222745842"
     },
     "user_tz": -120
    },
    "id": "ET2AHFutQNPY"
   },
   "outputs": [],
   "source": [
    "from keras import callbacks\n",
    "from keras.models import Model, Input, model_from_json\n",
    "from keras.layers import LSTM, Embedding, Dense, TimeDistributed, Dropout, Bidirectional\n",
    "from keras.optimizers import RMSprop"
   ]
  },
  {
   "cell_type": "code",
   "execution_count": 36,
   "metadata": {
    "executionInfo": {
     "elapsed": 3,
     "status": "ok",
     "timestamp": 1649935351769,
     "user": {
      "displayName": "Nora Youssef",
      "userId": "03639374922222745842"
     },
     "user_tz": -120
    },
    "id": "YHRrG7r7Qs-P"
   },
   "outputs": [],
   "source": [
    "def create_model():\n",
    "  input = Input(shape=(max_len,))\n",
    "  #in the line below --> laurance set the input_length = max_len-1 (NLP in TF Week4)\n",
    "  model = Embedding(input_dim=n_words, output_dim=50, input_length=max_len)(input)\n",
    "  model = Dropout(rate=0.1)(model)\n",
    "  model = Bidirectional(LSTM(units=100, return_sequences=False, recurrent_dropout=0.1))(model)\n",
    "  model = Dropout(rate=0.25)(model)\n",
    "  model = Dense(512, activation='relu')(model)  \n",
    "  model = Dropout(rate=0.25)(model)\n",
    "  out = Dense(1,  activation='sigmoid')(model)  # segmoid output layer (binary classification)\n",
    "  \n",
    "  return Model(input, out)"
   ]
  },
  {
   "cell_type": "code",
   "execution_count": 37,
   "metadata": {
    "colab": {
     "base_uri": "https://localhost:8080/"
    },
    "executionInfo": {
     "elapsed": 1124,
     "status": "ok",
     "timestamp": 1649935352890,
     "user": {
      "displayName": "Nora Youssef",
      "userId": "03639374922222745842"
     },
     "user_tz": -120
    },
    "id": "v3oJQi__RZnw",
    "outputId": "2aa512db-e940-4839-84c8-61cd5179bc8f"
   },
   "outputs": [
    {
     "name": "stdout",
     "output_type": "stream",
     "text": [
      "WARNING:tensorflow:From /tensorflow-1.15.2/python3.7/tensorflow_core/python/ops/resource_variable_ops.py:1630: calling BaseResourceVariable.__init__ (from tensorflow.python.ops.resource_variable_ops) with constraint is deprecated and will be removed in a future version.\n",
      "Instructions for updating:\n",
      "If using Keras pass *_constraint arguments to layers.\n"
     ]
    }
   ],
   "source": [
    "model = create_model()\n",
    "#model = load_model()"
   ]
  },
  {
   "cell_type": "code",
   "execution_count": 38,
   "metadata": {
    "colab": {
     "base_uri": "https://localhost:8080/"
    },
    "executionInfo": {
     "elapsed": 4,
     "status": "ok",
     "timestamp": 1649935352890,
     "user": {
      "displayName": "Nora Youssef",
      "userId": "03639374922222745842"
     },
     "user_tz": -120
    },
    "id": "tmgovNJTbxBO",
    "outputId": "9d0bb944-b776-4824-a6c8-30252c1355ef"
   },
   "outputs": [
    {
     "name": "stdout",
     "output_type": "stream",
     "text": [
      "Model: \"model_1\"\n",
      "_________________________________________________________________\n",
      "Layer (type)                 Output Shape              Param #   \n",
      "=================================================================\n",
      "input_1 (InputLayer)         (None, 128)               0         \n",
      "_________________________________________________________________\n",
      "embedding_1 (Embedding)      (None, 128, 50)           231750    \n",
      "_________________________________________________________________\n",
      "dropout_1 (Dropout)          (None, 128, 50)           0         \n",
      "_________________________________________________________________\n",
      "bidirectional_1 (Bidirection (None, 200)               120800    \n",
      "_________________________________________________________________\n",
      "dropout_2 (Dropout)          (None, 200)               0         \n",
      "_________________________________________________________________\n",
      "dense_1 (Dense)              (None, 512)               102912    \n",
      "_________________________________________________________________\n",
      "dropout_3 (Dropout)          (None, 512)               0         \n",
      "_________________________________________________________________\n",
      "dense_2 (Dense)              (None, 1)                 513       \n",
      "=================================================================\n",
      "Total params: 455,975\n",
      "Trainable params: 455,975\n",
      "Non-trainable params: 0\n",
      "_________________________________________________________________\n"
     ]
    }
   ],
   "source": [
    "model.summary()"
   ]
  },
  {
   "cell_type": "code",
   "execution_count": 39,
   "metadata": {
    "executionInfo": {
     "elapsed": 3,
     "status": "ok",
     "timestamp": 1649935352891,
     "user": {
      "displayName": "Nora Youssef",
      "userId": "03639374922222745842"
     },
     "user_tz": -120
    },
    "id": "eaCVxITis-M0"
   },
   "outputs": [],
   "source": [
    "from tensorflow.keras.losses import BinaryCrossentropy"
   ]
  },
  {
   "cell_type": "code",
   "execution_count": 40,
   "metadata": {
    "executionInfo": {
     "elapsed": 3,
     "status": "ok",
     "timestamp": 1649935352891,
     "user": {
      "displayName": "Nora Youssef",
      "userId": "03639374922222745842"
     },
     "user_tz": -120
    },
    "id": "qqtT84Q3RvEa"
   },
   "outputs": [],
   "source": [
    "# model.compile(optimizer=RMSprop(),loss=BinaryCrossentropy(reduction='sum_over_batch_size'), metrics=[\"accuracy\"])\n",
    "# model.compile(optimizer=RMSprop(),loss=BinaryCrossentropy(reduction='none'), metrics=[\"accuracy\"])\n",
    "model.compile(optimizer=RMSprop(),loss=\"mse\", metrics=[\"accuracy\"])"
   ]
  },
  {
   "cell_type": "code",
   "execution_count": 41,
   "metadata": {
    "executionInfo": {
     "elapsed": 3,
     "status": "ok",
     "timestamp": 1649935352891,
     "user": {
      "displayName": "Nora Youssef",
      "userId": "03639374922222745842"
     },
     "user_tz": -120
    },
    "id": "Tuq9TL_hhba9"
   },
   "outputs": [],
   "source": [
    "class myCallback(callbacks.Callback):\n",
    "  def on_epoch_end(self, epoch, logs={}):\n",
    "    if(logs.get('accuracy')>=0.989):\n",
    "      print(\"\\nReached 98.9% accuracy so cancelling training!\")\n",
    "      self.model.stop_training = True\n",
    " "
   ]
  },
  {
   "cell_type": "code",
   "execution_count": 42,
   "metadata": {
    "colab": {
     "base_uri": "https://localhost:8080/"
    },
    "executionInfo": {
     "elapsed": 194705,
     "status": "ok",
     "timestamp": 1649935547593,
     "user": {
      "displayName": "Nora Youssef",
      "userId": "03639374922222745842"
     },
     "user_tz": -120
    },
    "id": "87AaEwD8RyHe",
    "outputId": "3f910aa5-ccd4-4128-b146-f048321f1def"
   },
   "outputs": [
    {
     "name": "stdout",
     "output_type": "stream",
     "text": [
      "WARNING:tensorflow:From /tensorflow-1.15.2/python3.7/keras/backend/tensorflow_backend.py:422: The name tf.global_variables is deprecated. Please use tf.compat.v1.global_variables instead.\n",
      "\n",
      "Train on 3200 samples, validate on 400 samples\n",
      "Epoch 1/10\n",
      "3200/3200 [==============================] - 28s 9ms/step - loss: 0.1922 - accuracy: 0.6944 - val_loss: 0.1843 - val_accuracy: 0.7025\n",
      "Epoch 2/10\n",
      "3200/3200 [==============================] - 18s 6ms/step - loss: 0.1613 - accuracy: 0.7613 - val_loss: 0.1789 - val_accuracy: 0.7175\n",
      "Epoch 3/10\n",
      "3200/3200 [==============================] - 18s 6ms/step - loss: 0.1469 - accuracy: 0.7912 - val_loss: 0.1772 - val_accuracy: 0.7200\n",
      "Epoch 4/10\n",
      "3200/3200 [==============================] - 18s 6ms/step - loss: 0.1394 - accuracy: 0.8047 - val_loss: 0.1843 - val_accuracy: 0.7175\n",
      "Epoch 5/10\n",
      "3200/3200 [==============================] - 20s 6ms/step - loss: 0.1326 - accuracy: 0.8181 - val_loss: 0.1906 - val_accuracy: 0.7325\n",
      "Epoch 6/10\n",
      "3200/3200 [==============================] - 18s 6ms/step - loss: 0.1279 - accuracy: 0.8263 - val_loss: 0.1788 - val_accuracy: 0.7350\n",
      "Epoch 7/10\n",
      "3200/3200 [==============================] - 18s 6ms/step - loss: 0.1253 - accuracy: 0.8278 - val_loss: 0.1908 - val_accuracy: 0.7400\n",
      "Epoch 8/10\n",
      "3200/3200 [==============================] - 18s 6ms/step - loss: 0.1208 - accuracy: 0.8306 - val_loss: 0.1825 - val_accuracy: 0.7325\n",
      "Epoch 9/10\n",
      "3200/3200 [==============================] - 18s 6ms/step - loss: 0.1187 - accuracy: 0.8375 - val_loss: 0.1896 - val_accuracy: 0.7350\n",
      "Epoch 10/10\n",
      "3200/3200 [==============================] - 18s 6ms/step - loss: 0.1152 - accuracy: 0.8434 - val_loss: 0.1837 - val_accuracy: 0.7350\n"
     ]
    }
   ],
   "source": [
    "history = model.fit(X_train, y_train, validation_data=(X_dev, y_dev), shuffle=True, batch_size=32, epochs=10, verbose=1, callbacks=[myCallback()])"
   ]
  },
  {
   "cell_type": "code",
   "execution_count": 43,
   "metadata": {
    "colab": {
     "base_uri": "https://localhost:8080/"
    },
    "executionInfo": {
     "elapsed": 10,
     "status": "ok",
     "timestamp": 1649935547594,
     "user": {
      "displayName": "Nora Youssef",
      "userId": "03639374922222745842"
     },
     "user_tz": -120
    },
    "id": "9_9TMZn28J7f",
    "outputId": "78100c69-6b81-4b1d-8b90-bce0e951a643"
   },
   "outputs": [
    {
     "name": "stdout",
     "output_type": "stream",
     "text": [
      "Saved model to disk\n"
     ]
    }
   ],
   "source": [
    "save_model(model)"
   ]
  },
  {
   "cell_type": "code",
   "execution_count": 44,
   "metadata": {
    "executionInfo": {
     "elapsed": 9,
     "status": "ok",
     "timestamp": 1649935547594,
     "user": {
      "displayName": "Nora Youssef",
      "userId": "03639374922222745842"
     },
     "user_tz": -120
    },
    "id": "-74jERJeS6QM"
   },
   "outputs": [],
   "source": [
    "hist = pd.DataFrame(history.history)"
   ]
  },
  {
   "cell_type": "code",
   "execution_count": 45,
   "metadata": {
    "executionInfo": {
     "elapsed": 9,
     "status": "ok",
     "timestamp": 1649935547594,
     "user": {
      "displayName": "Nora Youssef",
      "userId": "03639374922222745842"
     },
     "user_tz": -120
    },
    "id": "3-ERn4Rc9J4_"
   },
   "outputs": [],
   "source": [
    "saveDataFrameToCSV(hist, training_history_csv, append=True)\n",
    " "
   ]
  },
  {
   "cell_type": "code",
   "execution_count": 46,
   "metadata": {
    "colab": {
     "base_uri": "https://localhost:8080/",
     "height": 717
    },
    "executionInfo": {
     "elapsed": 510,
     "status": "ok",
     "timestamp": 1649935548096,
     "user": {
      "displayName": "Nora Youssef",
      "userId": "03639374922222745842"
     },
     "user_tz": -120
    },
    "id": "MwJX2aS2W8Tf",
    "outputId": "b9f2d9e0-81a2-42e5-a876-34b40aee5ced"
   },
   "outputs": [
    {
     "data": {
      "image/png": "[encoded data removed]",
      "text/plain": [
       "<Figure size 864x864 with 1 Axes>"
      ]
     },
     "metadata": {},
     "output_type": "display_data"
    }
   ],
   "source": [
    "plt.figure(figsize=(12,12))\n",
    "plt.plot(hist[\"accuracy\"], label=\"accuracy\")\n",
    "plt.plot(hist[\"val_accuracy\"], label=\"val_accuracy\")\n",
    "plt.title('Training and Validation Accuracy')\n",
    "plt.legend()\n",
    "plt.show()"
   ]
  },
  {
   "cell_type": "markdown",
   "metadata": {
    "id": "QZ9IBOOJjfcA"
   },
   "source": [
    "##Evaluation"
   ]
  },
  {
   "cell_type": "code",
   "execution_count": 47,
   "metadata": {
    "colab": {
     "base_uri": "https://localhost:8080/"
    },
    "executionInfo": {
     "elapsed": 749,
     "status": "ok",
     "timestamp": 1649935548840,
     "user": {
      "displayName": "Nora Youssef",
      "userId": "03639374922222745842"
     },
     "user_tz": -120
    },
    "id": "cBKRFu1dl2JD",
    "outputId": "8e4e6443-b850-4c32-daa7-c751b3132329"
   },
   "outputs": [
    {
     "name": "stdout",
     "output_type": "stream",
     "text": [
      "400/400 [==============================] - 1s 3ms/step\n"
     ]
    },
    {
     "data": {
      "text/plain": [
       "[0.18785788476467133, 0.7099999785423279]"
      ]
     },
     "execution_count": 47,
     "metadata": {},
     "output_type": "execute_result"
    }
   ],
   "source": [
    "model.evaluate(x=X_test, y=y_test, batch_size=32, verbose=1)"
   ]
  },
  {
   "cell_type": "code",
   "execution_count": 48,
   "metadata": {
    "colab": {
     "base_uri": "https://localhost:8080/"
    },
    "executionInfo": {
     "elapsed": 1136,
     "status": "ok",
     "timestamp": 1649935549975,
     "user": {
      "displayName": "Nora Youssef",
      "userId": "03639374922222745842"
     },
     "user_tz": -120
    },
    "id": "fumZ3CdQeEGM",
    "outputId": "19a6277a-1408-404e-cc9e-728d0605f87e"
   },
   "outputs": [
    {
     "name": "stdout",
     "output_type": "stream",
     "text": [
      "400/400 [==============================] - 1s 3ms/step\n"
     ]
    }
   ],
   "source": [
    "test_pred = model.predict(X_test, verbose=1)"
   ]
  },
  {
   "cell_type": "code",
   "execution_count": 49,
   "metadata": {
    "executionInfo": {
     "elapsed": 8,
     "status": "ok",
     "timestamp": 1649935549975,
     "user": {
      "displayName": "Nora Youssef",
      "userId": "03639374922222745842"
     },
     "user_tz": -120
    },
    "id": "zEFnBWkieXLT"
   },
   "outputs": [],
   "source": [
    "pred_labels = [ 1 if t >= 0.5 else 0 for t in test_pred]"
   ]
  },
  {
   "cell_type": "code",
   "execution_count": 50,
   "metadata": {
    "colab": {
     "base_uri": "https://localhost:8080/"
    },
    "executionInfo": {
     "elapsed": 7,
     "status": "ok",
     "timestamp": 1649935549975,
     "user": {
      "displayName": "Nora Youssef",
      "userId": "03639374922222745842"
     },
     "user_tz": -120
    },
    "id": "NGAEJyuTwjQb",
    "outputId": "8438ed67-ac20-4223-a89e-3176dea5086b"
   },
   "outputs": [
    {
     "data": {
      "text/plain": [
       "array([[0.07258424],\n",
       "       [0.7821852 ],\n",
       "       [0.0103775 ],\n",
       "       [0.20900315],\n",
       "       [0.79075307],\n",
       "       [0.07936412],\n",
       "       [0.9746233 ],\n",
       "       [0.01065359],\n",
       "       [0.27406138],\n",
       "       [0.00819126]], dtype=float32)"
      ]
     },
     "execution_count": 50,
     "metadata": {},
     "output_type": "execute_result"
    }
   ],
   "source": [
    "test_pred[0:10]"
   ]
  },
  {
   "cell_type": "code",
   "execution_count": 51,
   "metadata": {
    "colab": {
     "base_uri": "https://localhost:8080/"
    },
    "executionInfo": {
     "elapsed": 5,
     "status": "ok",
     "timestamp": 1649935549975,
     "user": {
      "displayName": "Nora Youssef",
      "userId": "03639374922222745842"
     },
     "user_tz": -120
    },
    "id": "KQt2MDKLwmla",
    "outputId": "f7294382-ccc9-4345-affc-d5f57c16b887"
   },
   "outputs": [
    {
     "data": {
      "text/plain": [
       "[0, 1, 0, 0, 1, 0, 1, 0, 0, 0]"
      ]
     },
     "execution_count": 51,
     "metadata": {},
     "output_type": "execute_result"
    }
   ],
   "source": [
    "pred_labels[0:10]"
   ]
  },
  {
   "cell_type": "markdown",
   "metadata": {
    "id": "LhJVeLkyyqle"
   },
   "source": [
    "###Tailored Evaluation\n"
   ]
  },
  {
   "cell_type": "code",
   "execution_count": 52,
   "metadata": {
    "executionInfo": {
     "elapsed": 5,
     "status": "ok",
     "timestamp": 1649935549976,
     "user": {
      "displayName": "Nora Youssef",
      "userId": "03639374922222745842"
     },
     "user_tz": -120
    },
    "id": "t7_7c_lldqQC"
   },
   "outputs": [],
   "source": [
    "from classification_metrics import classification_report, replaceMultiple"
   ]
  },
  {
   "cell_type": "code",
   "execution_count": 53,
   "metadata": {
    "colab": {
     "base_uri": "https://localhost:8080/"
    },
    "executionInfo": {
     "elapsed": 5,
     "status": "ok",
     "timestamp": 1649935549976,
     "user": {
      "displayName": "Nora Youssef",
      "userId": "03639374922222745842"
     },
     "user_tz": -120
    },
    "id": "V7DB9mm5yCgL",
    "outputId": "7553a83a-98da-4f9e-a99e-04c93f9d7cc6"
   },
   "outputs": [
    {
     "name": "stdout",
     "output_type": "stream",
     "text": [
      "                        precision \t recall \t f1-score \t support\n",
      "\n",
      "                   0\t 0.76\t\t 0.79\t\t 0.78\t\t 258\t\n",
      "                   1\t 0.60\t\t 0.56\t\t 0.58\t\t 142\t\n",
      "\n",
      "\n",
      "macro avg           \t 0.68\t\t 0.68\t\t 0.68\t\t 400\t\n",
      "micro avg           \t 0.71\t\t 0.71\t\t 0.71\t\t 400\t\n",
      "\n"
     ]
    }
   ],
   "source": [
    "print(classification_report(test_labels, pred_labels))"
   ]
  },
  {
   "cell_type": "code",
   "execution_count": 53,
   "metadata": {
    "executionInfo": {
     "elapsed": 3,
     "status": "ok",
     "timestamp": 1649935549976,
     "user": {
      "displayName": "Nora Youssef",
      "userId": "03639374922222745842"
     },
     "user_tz": -120
    },
    "id": "uTPXtRpfygTs"
   },
   "outputs": [],
   "source": []
  }
 ],
 "metadata": {
  "accelerator": "GPU",
  "colab": {
   "collapsed_sections": [],
   "name": "BiLSTM_BiodivRE.ipynb",
   "provenance": []
  },
  "kernelspec": {
   "display_name": "Python 3",
   "language": "python",
   "name": "python3"
  },
  "language_info": {
   "codemirror_mode": {
    "name": "ipython",
    "version": 3
   },
   "file_extension": ".py",
   "mimetype": "text/x-python",
   "name": "python",
   "nbconvert_exporter": "python",
   "pygments_lexer": "ipython3",
   "version": "3.6.6"
  }
 },
 "nbformat": 4,
 "nbformat_minor": 1
}
