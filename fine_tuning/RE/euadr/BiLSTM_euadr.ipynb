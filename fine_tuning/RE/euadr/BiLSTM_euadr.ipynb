{
 "cells": [
  {
   "cell_type": "code",
   "execution_count": 1,
   "metadata": {
    "colab": {
     "base_uri": "https://localhost:8080/"
    },
    "id": "sbkgVkuDmTDZ",
    "outputId": "2beea94e-c2ce-4070-8086-da9263a94cd8"
   },
   "outputs": [
    {
     "name": "stdout",
     "output_type": "stream",
     "text": [
      "TensorFlow 1.x selected.\n"
     ]
    }
   ],
   "source": [
    "%tensorflow_version 1.x"
   ]
  },
  {
   "cell_type": "code",
   "execution_count": 2,
   "metadata": {
    "colab": {
     "base_uri": "https://localhost:8080/"
    },
    "id": "TNeeSq0SLU8A",
    "outputId": "8cc4908b-61ab-4f06-8217-bb73f4e945a3"
   },
   "outputs": [
    {
     "name": "stdout",
     "output_type": "stream",
     "text": [
      "Mounted at /content/drive\n"
     ]
    }
   ],
   "source": [
    "# Load the Drive helper and mount\n",
    "from google.colab import drive\n",
    "drive.mount('/content/drive')"
   ]
  },
  {
   "cell_type": "code",
   "execution_count": 3,
   "metadata": {
    "colab": {
     "base_uri": "https://localhost:8080/"
    },
    "id": "qcsYD2yEMVkc",
    "outputId": "94dd585d-0943-4a8d-df7f-2c0e047b65f1"
   },
   "outputs": [
    {
     "name": "stdout",
     "output_type": "stream",
     "text": [
      "/content/drive/MyDrive/Colab Notebooks/BiodivBERT-RE\n"
     ]
    }
   ],
   "source": [
    "cd \"/content/drive/My Drive/Colab Notebooks/BiodivBERT-RE/\""
   ]
  },
  {
   "cell_type": "code",
   "execution_count": 4,
   "metadata": {
    "id": "R4YFOyhD8l_1"
   },
   "outputs": [],
   "source": [
    "import os"
   ]
  },
  {
   "cell_type": "code",
   "execution_count": 5,
   "metadata": {
    "colab": {
     "base_uri": "https://localhost:8080/"
    },
    "id": "awapx8haNr-U",
    "outputId": "257cada6-8e08-4bcf-919e-01143b05e338"
   },
   "outputs": [
    {
     "name": "stdout",
     "output_type": "stream",
     "text": [
      "/content/drive/My Drive/Colab Notebooks/BiodivBERT-RE/datasets/euadr\n"
     ]
    }
   ],
   "source": [
    "root_dir = \"/content/drive/My Drive/Colab Notebooks/BiodivBERT-RE/\"\n",
    "\n",
    "root_data_dir = os.path.join(root_dir, \"datasets\", \"euadr\")\n",
    "print(root_data_dir)\n",
    "\n",
    "dataset = \"train\"\n",
    "csv_file_path = \"train.csv\"\n",
    "\n",
    "offline_model_file = os.path.join(root_dir, \"BiLSTM-euadr-model\")\n",
    "training_history_csv = \"training_history.csv\""
   ]
  },
  {
   "cell_type": "markdown",
   "metadata": {
    "id": "eQFFmGZG-X05"
   },
   "source": [
    "## Util"
   ]
  },
  {
   "cell_type": "code",
   "execution_count": 6,
   "metadata": {
    "id": "8LihPGwb92iK"
   },
   "outputs": [],
   "source": [
    "def load_model():\n",
    "    json_file = open(offline_model_file+\".json\", 'r')\n",
    "    loaded_model_json = json_file.read()\n",
    "    json_file.close()\n",
    "    new_model = model_from_json(loaded_model_json)\n",
    "    # load weights into new model\n",
    "    new_model.load_weights(offline_model_file+\".h5\")\n",
    "    print(\"Loaded model from disk\")\n",
    "    return new_model"
   ]
  },
  {
   "cell_type": "code",
   "execution_count": 7,
   "metadata": {
    "id": "WaGNPxjM98Ds"
   },
   "outputs": [],
   "source": [
    "def save_model(model):\n",
    "    # serialize model to JSON\n",
    "    model_json = model.to_json()\n",
    "    \n",
    "    with open(offline_model_file+\".json\", \"w\") as json_file:\n",
    "        json_file.write(model_json)\n",
    "    # serialize weights to HDF5\n",
    "    model.save_weights(offline_model_file+\".h5\")\n",
    "    print(\"Saved model to disk\")"
   ]
  },
  {
   "cell_type": "code",
   "execution_count": 8,
   "metadata": {
    "id": "sF6IG8FM8WqT"
   },
   "outputs": [],
   "source": [
    "def saveDataFrameToCSV(pd1, csv_path, append):  \n",
    "  dataset_path = os.path.join(root_dir, csv_path)  \n",
    "  \n",
    "  if append:\n",
    "    with open(dataset_path, 'a+') as f:    \n",
    "      pd1.to_csv(dataset_path,  mode='a', index=False, header=False)    \n",
    "  else:\n",
    "    with open(dataset_path, 'a+') as f:    \n",
    "      pd1.to_csv(dataset_path,  mode='a', index=False, header=True)"
   ]
  },
  {
   "cell_type": "markdown",
   "metadata": {
    "id": "10yeK7623aaY"
   },
   "source": [
    "## Dataset Preprocessing\n"
   ]
  },
  {
   "cell_type": "code",
   "execution_count": 9,
   "metadata": {
    "id": "GT1NMGBw3aaU"
   },
   "outputs": [],
   "source": [
    "import os\n",
    "import pandas as pd\n",
    "import numpy as np"
   ]
  },
  {
   "cell_type": "code",
   "execution_count": 10,
   "metadata": {
    "id": "ybHlNSgxcwL1"
   },
   "outputs": [],
   "source": [
    "def loadData(csv_file_path, header=None, index_col=None):\n",
    "  dataset_path = os.path.join(root_data_dir, csv_file_path)\n",
    "  data = pd.read_csv(dataset_path, encoding=\"latin1\", sep=',', header=header, index_col=index_col)\n",
    "  data = data.fillna(method=\"ffill\")\n",
    "  return data"
   ]
  },
  {
   "cell_type": "code",
   "execution_count": 11,
   "metadata": {
    "id": "cTEqN_U_3aZ3"
   },
   "outputs": [],
   "source": [
    "data_train = loadData(csv_file_path='train.csv', header=0, index_col=None)"
   ]
  },
  {
   "cell_type": "code",
   "execution_count": 12,
   "metadata": {
    "colab": {
     "base_uri": "https://localhost:8080/",
     "height": 363
    },
    "id": "DdpwuNQtpOk0",
    "outputId": "575b67b3-5a46-41df-cd3c-41f6d3800c16"
   },
   "outputs": [
    {
     "data": {
      "text/html": [
       "\n",
       "  <div id=\"df-2af50756-c042-4f0f-a774-bd503adabf4a\">\n",
       "    <div class=\"colab-df-container\">\n",
       "      <div>\n",
       "<style scoped>\n",
       "    .dataframe tbody tr th:only-of-type {\n",
       "        vertical-align: middle;\n",
       "    }\n",
       "\n",
       "    .dataframe tbody tr th {\n",
       "        vertical-align: top;\n",
       "    }\n",
       "\n",
       "    .dataframe thead th {\n",
       "        text-align: right;\n",
       "    }\n",
       "</style>\n",
       "<table border=\"1\" class=\"dataframe\">\n",
       "  <thead>\n",
       "    <tr style=\"text-align: right;\">\n",
       "      <th></th>\n",
       "      <th>sentence</th>\n",
       "      <th>label</th>\n",
       "    </tr>\n",
       "  </thead>\n",
       "  <tbody>\n",
       "    <tr>\n",
       "      <th>0</th>\n",
       "      <td>In humans, loss-of-function of the cilia-centr...</td>\n",
       "      <td>1</td>\n",
       "    </tr>\n",
       "    <tr>\n",
       "      <th>1</th>\n",
       "      <td>Toll-like receptor-induced @GENE$ secretion is...</td>\n",
       "      <td>1</td>\n",
       "    </tr>\n",
       "    <tr>\n",
       "      <th>2</th>\n",
       "      <td>In summary, we observed associations between @...</td>\n",
       "      <td>1</td>\n",
       "    </tr>\n",
       "    <tr>\n",
       "      <th>3</th>\n",
       "      <td>A recent study demonstrated the association of...</td>\n",
       "      <td>1</td>\n",
       "    </tr>\n",
       "    <tr>\n",
       "      <th>4</th>\n",
       "      <td>Based on @GENE$ analyses, 41 @DISEASE$ patient...</td>\n",
       "      <td>0</td>\n",
       "    </tr>\n",
       "    <tr>\n",
       "      <th>5</th>\n",
       "      <td>To study the (functional) relevance of single ...</td>\n",
       "      <td>0</td>\n",
       "    </tr>\n",
       "    <tr>\n",
       "      <th>6</th>\n",
       "      <td>Single nucleotide polymorphisms (SNPs) in the ...</td>\n",
       "      <td>1</td>\n",
       "    </tr>\n",
       "    <tr>\n",
       "      <th>7</th>\n",
       "      <td>The TIMP-1 genotype TT in women and T in men a...</td>\n",
       "      <td>1</td>\n",
       "    </tr>\n",
       "    <tr>\n",
       "      <th>8</th>\n",
       "      <td>Association between donor @GENE$ and graft sur...</td>\n",
       "      <td>1</td>\n",
       "    </tr>\n",
       "    <tr>\n",
       "      <th>9</th>\n",
       "      <td>For the remaining markers, a susceptibility ro...</td>\n",
       "      <td>0</td>\n",
       "    </tr>\n",
       "  </tbody>\n",
       "</table>\n",
       "</div>\n",
       "      <button class=\"colab-df-convert\" onclick=\"convertToInteractive('df-2af50756-c042-4f0f-a774-bd503adabf4a')\"\n",
       "              title=\"Convert this dataframe to an interactive table.\"\n",
       "              style=\"display:none;\">\n",
       "        \n",
       "  <svg xmlns=\"http://www.w3.org/2000/svg\" height=\"24px\"viewBox=\"0 0 24 24\"\n",
       "       width=\"24px\">\n",
       "    <path d=\"M0 0h24v24H0V0z\" fill=\"none\"/>\n",
       "    <path d=\"M18.56 5.44l.94 2.06.94-2.06 2.06-.94-2.06-.94-.94-2.06-.94 2.06-2.06.94zm-11 1L8.5 8.5l.94-2.06 2.06-.94-2.06-.94L8.5 2.5l-.94 2.06-2.06.94zm10 10l.94 2.06.94-2.06 2.06-.94-2.06-.94-.94-2.06-.94 2.06-2.06.94z\"/><path d=\"M17.41 7.96l-1.37-1.37c-.4-.4-.92-.59-1.43-.59-.52 0-1.04.2-1.43.59L10.3 9.45l-7.72 7.72c-.78.78-.78 2.05 0 2.83L4 21.41c.39.39.9.59 1.41.59.51 0 1.02-.2 1.41-.59l7.78-7.78 2.81-2.81c.8-.78.8-2.07 0-2.86zM5.41 20L4 18.59l7.72-7.72 1.47 1.35L5.41 20z\"/>\n",
       "  </svg>\n",
       "      </button>\n",
       "      \n",
       "  <style>\n",
       "    .colab-df-container {\n",
       "      display:flex;\n",
       "      flex-wrap:wrap;\n",
       "      gap: 12px;\n",
       "    }\n",
       "\n",
       "    .colab-df-convert {\n",
       "      background-color: #E8F0FE;\n",
       "      border: none;\n",
       "      border-radius: 50%;\n",
       "      cursor: pointer;\n",
       "      display: none;\n",
       "      fill: #1967D2;\n",
       "      height: 32px;\n",
       "      padding: 0 0 0 0;\n",
       "      width: 32px;\n",
       "    }\n",
       "\n",
       "    .colab-df-convert:hover {\n",
       "      background-color: #E2EBFA;\n",
       "      box-shadow: 0px 1px 2px rgba(60, 64, 67, 0.3), 0px 1px 3px 1px rgba(60, 64, 67, 0.15);\n",
       "      fill: #174EA6;\n",
       "    }\n",
       "\n",
       "    [theme=dark] .colab-df-convert {\n",
       "      background-color: #3B4455;\n",
       "      fill: #D2E3FC;\n",
       "    }\n",
       "\n",
       "    [theme=dark] .colab-df-convert:hover {\n",
       "      background-color: #434B5C;\n",
       "      box-shadow: 0px 1px 3px 1px rgba(0, 0, 0, 0.15);\n",
       "      filter: drop-shadow(0px 1px 2px rgba(0, 0, 0, 0.3));\n",
       "      fill: #FFFFFF;\n",
       "    }\n",
       "  </style>\n",
       "\n",
       "      <script>\n",
       "        const buttonEl =\n",
       "          document.querySelector('#df-2af50756-c042-4f0f-a774-bd503adabf4a button.colab-df-convert');\n",
       "        buttonEl.style.display =\n",
       "          google.colab.kernel.accessAllowed ? 'block' : 'none';\n",
       "\n",
       "        async function convertToInteractive(key) {\n",
       "          const element = document.querySelector('#df-2af50756-c042-4f0f-a774-bd503adabf4a');\n",
       "          const dataTable =\n",
       "            await google.colab.kernel.invokeFunction('convertToInteractive',\n",
       "                                                     [key], {});\n",
       "          if (!dataTable) return;\n",
       "\n",
       "          const docLinkHtml = 'Like what you see? Visit the ' +\n",
       "            '<a target=\"_blank\" href=https://colab.research.google.com/notebooks/data_table.ipynb>data table notebook</a>'\n",
       "            + ' to learn more about interactive tables.';\n",
       "          element.innerHTML = '';\n",
       "          dataTable['output_type'] = 'display_data';\n",
       "          await google.colab.output.renderOutput(dataTable, element);\n",
       "          const docLink = document.createElement('div');\n",
       "          docLink.innerHTML = docLinkHtml;\n",
       "          element.appendChild(docLink);\n",
       "        }\n",
       "      </script>\n",
       "    </div>\n",
       "  </div>\n",
       "  "
      ],
      "text/plain": [
       "                                            sentence  label\n",
       "0  In humans, loss-of-function of the cilia-centr...      1\n",
       "1  Toll-like receptor-induced @GENE$ secretion is...      1\n",
       "2  In summary, we observed associations between @...      1\n",
       "3  A recent study demonstrated the association of...      1\n",
       "4  Based on @GENE$ analyses, 41 @DISEASE$ patient...      0\n",
       "5  To study the (functional) relevance of single ...      0\n",
       "6  Single nucleotide polymorphisms (SNPs) in the ...      1\n",
       "7  The TIMP-1 genotype TT in women and T in men a...      1\n",
       "8  Association between donor @GENE$ and graft sur...      1\n",
       "9  For the remaining markers, a susceptibility ro...      0"
      ]
     },
     "execution_count": 12,
     "metadata": {},
     "output_type": "execute_result"
    }
   ],
   "source": [
    "data_train.head(10)"
   ]
  },
  {
   "cell_type": "code",
   "execution_count": 13,
   "metadata": {
    "id": "9IdHVyeXvDaX"
   },
   "outputs": [],
   "source": [
    "data_test = loadData(csv_file_path='test.csv', header=0, index_col=None)"
   ]
  },
  {
   "cell_type": "code",
   "execution_count": 14,
   "metadata": {
    "colab": {
     "base_uri": "https://localhost:8080/",
     "height": 363
    },
    "id": "6RoM6YevsjB1",
    "outputId": "b79d252a-d8c3-49e6-aef8-30e9a035b5d0"
   },
   "outputs": [
    {
     "data": {
      "text/html": [
       "\n",
       "  <div id=\"df-b3c0a060-210f-43fa-b1ac-3a741197a2d8\">\n",
       "    <div class=\"colab-df-container\">\n",
       "      <div>\n",
       "<style scoped>\n",
       "    .dataframe tbody tr th:only-of-type {\n",
       "        vertical-align: middle;\n",
       "    }\n",
       "\n",
       "    .dataframe tbody tr th {\n",
       "        vertical-align: top;\n",
       "    }\n",
       "\n",
       "    .dataframe thead th {\n",
       "        text-align: right;\n",
       "    }\n",
       "</style>\n",
       "<table border=\"1\" class=\"dataframe\">\n",
       "  <thead>\n",
       "    <tr style=\"text-align: right;\">\n",
       "      <th></th>\n",
       "      <th>sentence</th>\n",
       "      <th>label</th>\n",
       "    </tr>\n",
       "  </thead>\n",
       "  <tbody>\n",
       "    <tr>\n",
       "      <th>0</th>\n",
       "      <td>@GENE$ is a calcification inhibitor and correl...</td>\n",
       "      <td>1</td>\n",
       "    </tr>\n",
       "    <tr>\n",
       "      <th>1</th>\n",
       "      <td>Individual LOXL1 SNPs, @GENE$, rs3825942, and ...</td>\n",
       "      <td>1</td>\n",
       "    </tr>\n",
       "    <tr>\n",
       "      <th>2</th>\n",
       "      <td>Two hundred and twenty-three incident @DISEASE...</td>\n",
       "      <td>0</td>\n",
       "    </tr>\n",
       "    <tr>\n",
       "      <th>3</th>\n",
       "      <td>VEGF was expressed in 60% and @GENE$ in 39% of...</td>\n",
       "      <td>1</td>\n",
       "    </tr>\n",
       "    <tr>\n",
       "      <th>4</th>\n",
       "      <td>@DISEASE$ is associated with decreased express...</td>\n",
       "      <td>1</td>\n",
       "    </tr>\n",
       "    <tr>\n",
       "      <th>5</th>\n",
       "      <td>We observed that the @GENE$ allele is associat...</td>\n",
       "      <td>1</td>\n",
       "    </tr>\n",
       "    <tr>\n",
       "      <th>6</th>\n",
       "      <td>@GENE$ contribute to the development of @DISEA...</td>\n",
       "      <td>1</td>\n",
       "    </tr>\n",
       "    <tr>\n",
       "      <th>7</th>\n",
       "      <td>Our previous study demonstrated that expressio...</td>\n",
       "      <td>1</td>\n",
       "    </tr>\n",
       "    <tr>\n",
       "      <th>8</th>\n",
       "      <td>Recently, mutations have been identified in th...</td>\n",
       "      <td>0</td>\n",
       "    </tr>\n",
       "    <tr>\n",
       "      <th>9</th>\n",
       "      <td>We genotyped the four single-nucleotide polymo...</td>\n",
       "      <td>0</td>\n",
       "    </tr>\n",
       "  </tbody>\n",
       "</table>\n",
       "</div>\n",
       "      <button class=\"colab-df-convert\" onclick=\"convertToInteractive('df-b3c0a060-210f-43fa-b1ac-3a741197a2d8')\"\n",
       "              title=\"Convert this dataframe to an interactive table.\"\n",
       "              style=\"display:none;\">\n",
       "        \n",
       "  <svg xmlns=\"http://www.w3.org/2000/svg\" height=\"24px\"viewBox=\"0 0 24 24\"\n",
       "       width=\"24px\">\n",
       "    <path d=\"M0 0h24v24H0V0z\" fill=\"none\"/>\n",
       "    <path d=\"M18.56 5.44l.94 2.06.94-2.06 2.06-.94-2.06-.94-.94-2.06-.94 2.06-2.06.94zm-11 1L8.5 8.5l.94-2.06 2.06-.94-2.06-.94L8.5 2.5l-.94 2.06-2.06.94zm10 10l.94 2.06.94-2.06 2.06-.94-2.06-.94-.94-2.06-.94 2.06-2.06.94z\"/><path d=\"M17.41 7.96l-1.37-1.37c-.4-.4-.92-.59-1.43-.59-.52 0-1.04.2-1.43.59L10.3 9.45l-7.72 7.72c-.78.78-.78 2.05 0 2.83L4 21.41c.39.39.9.59 1.41.59.51 0 1.02-.2 1.41-.59l7.78-7.78 2.81-2.81c.8-.78.8-2.07 0-2.86zM5.41 20L4 18.59l7.72-7.72 1.47 1.35L5.41 20z\"/>\n",
       "  </svg>\n",
       "      </button>\n",
       "      \n",
       "  <style>\n",
       "    .colab-df-container {\n",
       "      display:flex;\n",
       "      flex-wrap:wrap;\n",
       "      gap: 12px;\n",
       "    }\n",
       "\n",
       "    .colab-df-convert {\n",
       "      background-color: #E8F0FE;\n",
       "      border: none;\n",
       "      border-radius: 50%;\n",
       "      cursor: pointer;\n",
       "      display: none;\n",
       "      fill: #1967D2;\n",
       "      height: 32px;\n",
       "      padding: 0 0 0 0;\n",
       "      width: 32px;\n",
       "    }\n",
       "\n",
       "    .colab-df-convert:hover {\n",
       "      background-color: #E2EBFA;\n",
       "      box-shadow: 0px 1px 2px rgba(60, 64, 67, 0.3), 0px 1px 3px 1px rgba(60, 64, 67, 0.15);\n",
       "      fill: #174EA6;\n",
       "    }\n",
       "\n",
       "    [theme=dark] .colab-df-convert {\n",
       "      background-color: #3B4455;\n",
       "      fill: #D2E3FC;\n",
       "    }\n",
       "\n",
       "    [theme=dark] .colab-df-convert:hover {\n",
       "      background-color: #434B5C;\n",
       "      box-shadow: 0px 1px 3px 1px rgba(0, 0, 0, 0.15);\n",
       "      filter: drop-shadow(0px 1px 2px rgba(0, 0, 0, 0.3));\n",
       "      fill: #FFFFFF;\n",
       "    }\n",
       "  </style>\n",
       "\n",
       "      <script>\n",
       "        const buttonEl =\n",
       "          document.querySelector('#df-b3c0a060-210f-43fa-b1ac-3a741197a2d8 button.colab-df-convert');\n",
       "        buttonEl.style.display =\n",
       "          google.colab.kernel.accessAllowed ? 'block' : 'none';\n",
       "\n",
       "        async function convertToInteractive(key) {\n",
       "          const element = document.querySelector('#df-b3c0a060-210f-43fa-b1ac-3a741197a2d8');\n",
       "          const dataTable =\n",
       "            await google.colab.kernel.invokeFunction('convertToInteractive',\n",
       "                                                     [key], {});\n",
       "          if (!dataTable) return;\n",
       "\n",
       "          const docLinkHtml = 'Like what you see? Visit the ' +\n",
       "            '<a target=\"_blank\" href=https://colab.research.google.com/notebooks/data_table.ipynb>data table notebook</a>'\n",
       "            + ' to learn more about interactive tables.';\n",
       "          element.innerHTML = '';\n",
       "          dataTable['output_type'] = 'display_data';\n",
       "          await google.colab.output.renderOutput(dataTable, element);\n",
       "          const docLink = document.createElement('div');\n",
       "          docLink.innerHTML = docLinkHtml;\n",
       "          element.appendChild(docLink);\n",
       "        }\n",
       "      </script>\n",
       "    </div>\n",
       "  </div>\n",
       "  "
      ],
      "text/plain": [
       "                                            sentence  label\n",
       "0  @GENE$ is a calcification inhibitor and correl...      1\n",
       "1  Individual LOXL1 SNPs, @GENE$, rs3825942, and ...      1\n",
       "2  Two hundred and twenty-three incident @DISEASE...      0\n",
       "3  VEGF was expressed in 60% and @GENE$ in 39% of...      1\n",
       "4  @DISEASE$ is associated with decreased express...      1\n",
       "5  We observed that the @GENE$ allele is associat...      1\n",
       "6  @GENE$ contribute to the development of @DISEA...      1\n",
       "7  Our previous study demonstrated that expressio...      1\n",
       "8  Recently, mutations have been identified in th...      0\n",
       "9  We genotyped the four single-nucleotide polymo...      0"
      ]
     },
     "execution_count": 14,
     "metadata": {},
     "output_type": "execute_result"
    }
   ],
   "source": [
    "data_test.head(10)"
   ]
  },
  {
   "cell_type": "code",
   "execution_count": 15,
   "metadata": {
    "id": "hgCqXHBUdeYM"
   },
   "outputs": [],
   "source": [
    "data_dev = loadData(csv_file_path='dev.csv', header=0, index_col=None)"
   ]
  },
  {
   "cell_type": "code",
   "execution_count": 16,
   "metadata": {
    "colab": {
     "base_uri": "https://localhost:8080/",
     "height": 363
    },
    "id": "ShhhNZU_de6T",
    "outputId": "d3bef9a8-a848-46af-add0-fb97c19ef229"
   },
   "outputs": [
    {
     "data": {
      "text/html": [
       "\n",
       "  <div id=\"df-c74a9d78-c71f-4396-bd4d-f0355adcd552\">\n",
       "    <div class=\"colab-df-container\">\n",
       "      <div>\n",
       "<style scoped>\n",
       "    .dataframe tbody tr th:only-of-type {\n",
       "        vertical-align: middle;\n",
       "    }\n",
       "\n",
       "    .dataframe tbody tr th {\n",
       "        vertical-align: top;\n",
       "    }\n",
       "\n",
       "    .dataframe thead th {\n",
       "        text-align: right;\n",
       "    }\n",
       "</style>\n",
       "<table border=\"1\" class=\"dataframe\">\n",
       "  <thead>\n",
       "    <tr style=\"text-align: right;\">\n",
       "      <th></th>\n",
       "      <th>sentence</th>\n",
       "      <th>label</th>\n",
       "    </tr>\n",
       "  </thead>\n",
       "  <tbody>\n",
       "    <tr>\n",
       "      <th>0</th>\n",
       "      <td>On multivariate analysis the @GENE$ (OR 8.205,...</td>\n",
       "      <td>1</td>\n",
       "    </tr>\n",
       "    <tr>\n",
       "      <th>1</th>\n",
       "      <td>Overall and relapse-free survival in @DISEASE$...</td>\n",
       "      <td>1</td>\n",
       "    </tr>\n",
       "    <tr>\n",
       "      <th>2</th>\n",
       "      <td>The HBS1L-MYB intergenic region on chromosome ...</td>\n",
       "      <td>0</td>\n",
       "    </tr>\n",
       "    <tr>\n",
       "      <th>3</th>\n",
       "      <td>The @GENE$ SNP could be considered as a geneti...</td>\n",
       "      <td>0</td>\n",
       "    </tr>\n",
       "    <tr>\n",
       "      <th>4</th>\n",
       "      <td>Lysophosphatidic acid facilitates proliferatio...</td>\n",
       "      <td>0</td>\n",
       "    </tr>\n",
       "    <tr>\n",
       "      <th>5</th>\n",
       "      <td>Fetal haemoglobin (@GENE$) level modifies the ...</td>\n",
       "      <td>1</td>\n",
       "    </tr>\n",
       "    <tr>\n",
       "      <th>6</th>\n",
       "      <td>@GENE$ (HbF) level modifies the clinical sever...</td>\n",
       "      <td>1</td>\n",
       "    </tr>\n",
       "    <tr>\n",
       "      <th>7</th>\n",
       "      <td>Cutting edge: A common polymorphism impairs ce...</td>\n",
       "      <td>1</td>\n",
       "    </tr>\n",
       "    <tr>\n",
       "      <th>8</th>\n",
       "      <td>The @GENE$ polymorphism of COL1A2 could be a g...</td>\n",
       "      <td>1</td>\n",
       "    </tr>\n",
       "    <tr>\n",
       "      <th>9</th>\n",
       "      <td>Overall and relapse-free survival in oropharyn...</td>\n",
       "      <td>1</td>\n",
       "    </tr>\n",
       "  </tbody>\n",
       "</table>\n",
       "</div>\n",
       "      <button class=\"colab-df-convert\" onclick=\"convertToInteractive('df-c74a9d78-c71f-4396-bd4d-f0355adcd552')\"\n",
       "              title=\"Convert this dataframe to an interactive table.\"\n",
       "              style=\"display:none;\">\n",
       "        \n",
       "  <svg xmlns=\"http://www.w3.org/2000/svg\" height=\"24px\"viewBox=\"0 0 24 24\"\n",
       "       width=\"24px\">\n",
       "    <path d=\"M0 0h24v24H0V0z\" fill=\"none\"/>\n",
       "    <path d=\"M18.56 5.44l.94 2.06.94-2.06 2.06-.94-2.06-.94-.94-2.06-.94 2.06-2.06.94zm-11 1L8.5 8.5l.94-2.06 2.06-.94-2.06-.94L8.5 2.5l-.94 2.06-2.06.94zm10 10l.94 2.06.94-2.06 2.06-.94-2.06-.94-.94-2.06-.94 2.06-2.06.94z\"/><path d=\"M17.41 7.96l-1.37-1.37c-.4-.4-.92-.59-1.43-.59-.52 0-1.04.2-1.43.59L10.3 9.45l-7.72 7.72c-.78.78-.78 2.05 0 2.83L4 21.41c.39.39.9.59 1.41.59.51 0 1.02-.2 1.41-.59l7.78-7.78 2.81-2.81c.8-.78.8-2.07 0-2.86zM5.41 20L4 18.59l7.72-7.72 1.47 1.35L5.41 20z\"/>\n",
       "  </svg>\n",
       "      </button>\n",
       "      \n",
       "  <style>\n",
       "    .colab-df-container {\n",
       "      display:flex;\n",
       "      flex-wrap:wrap;\n",
       "      gap: 12px;\n",
       "    }\n",
       "\n",
       "    .colab-df-convert {\n",
       "      background-color: #E8F0FE;\n",
       "      border: none;\n",
       "      border-radius: 50%;\n",
       "      cursor: pointer;\n",
       "      display: none;\n",
       "      fill: #1967D2;\n",
       "      height: 32px;\n",
       "      padding: 0 0 0 0;\n",
       "      width: 32px;\n",
       "    }\n",
       "\n",
       "    .colab-df-convert:hover {\n",
       "      background-color: #E2EBFA;\n",
       "      box-shadow: 0px 1px 2px rgba(60, 64, 67, 0.3), 0px 1px 3px 1px rgba(60, 64, 67, 0.15);\n",
       "      fill: #174EA6;\n",
       "    }\n",
       "\n",
       "    [theme=dark] .colab-df-convert {\n",
       "      background-color: #3B4455;\n",
       "      fill: #D2E3FC;\n",
       "    }\n",
       "\n",
       "    [theme=dark] .colab-df-convert:hover {\n",
       "      background-color: #434B5C;\n",
       "      box-shadow: 0px 1px 3px 1px rgba(0, 0, 0, 0.15);\n",
       "      filter: drop-shadow(0px 1px 2px rgba(0, 0, 0, 0.3));\n",
       "      fill: #FFFFFF;\n",
       "    }\n",
       "  </style>\n",
       "\n",
       "      <script>\n",
       "        const buttonEl =\n",
       "          document.querySelector('#df-c74a9d78-c71f-4396-bd4d-f0355adcd552 button.colab-df-convert');\n",
       "        buttonEl.style.display =\n",
       "          google.colab.kernel.accessAllowed ? 'block' : 'none';\n",
       "\n",
       "        async function convertToInteractive(key) {\n",
       "          const element = document.querySelector('#df-c74a9d78-c71f-4396-bd4d-f0355adcd552');\n",
       "          const dataTable =\n",
       "            await google.colab.kernel.invokeFunction('convertToInteractive',\n",
       "                                                     [key], {});\n",
       "          if (!dataTable) return;\n",
       "\n",
       "          const docLinkHtml = 'Like what you see? Visit the ' +\n",
       "            '<a target=\"_blank\" href=https://colab.research.google.com/notebooks/data_table.ipynb>data table notebook</a>'\n",
       "            + ' to learn more about interactive tables.';\n",
       "          element.innerHTML = '';\n",
       "          dataTable['output_type'] = 'display_data';\n",
       "          await google.colab.output.renderOutput(dataTable, element);\n",
       "          const docLink = document.createElement('div');\n",
       "          docLink.innerHTML = docLinkHtml;\n",
       "          element.appendChild(docLink);\n",
       "        }\n",
       "      </script>\n",
       "    </div>\n",
       "  </div>\n",
       "  "
      ],
      "text/plain": [
       "                                            sentence  label\n",
       "0  On multivariate analysis the @GENE$ (OR 8.205,...      1\n",
       "1  Overall and relapse-free survival in @DISEASE$...      1\n",
       "2  The HBS1L-MYB intergenic region on chromosome ...      0\n",
       "3  The @GENE$ SNP could be considered as a geneti...      0\n",
       "4  Lysophosphatidic acid facilitates proliferatio...      0\n",
       "5  Fetal haemoglobin (@GENE$) level modifies the ...      1\n",
       "6  @GENE$ (HbF) level modifies the clinical sever...      1\n",
       "7  Cutting edge: A common polymorphism impairs ce...      1\n",
       "8  The @GENE$ polymorphism of COL1A2 could be a g...      1\n",
       "9  Overall and relapse-free survival in oropharyn...      1"
      ]
     },
     "execution_count": 16,
     "metadata": {},
     "output_type": "execute_result"
    }
   ],
   "source": [
    "data_dev.head(10)"
   ]
  },
  {
   "cell_type": "code",
   "execution_count": 17,
   "metadata": {
    "colab": {
     "base_uri": "https://localhost:8080/"
    },
    "id": "zNw-zJSNdgsk",
    "outputId": "cfefa7da-e2e0-4355-e1a2-57a6a37ba681"
   },
   "outputs": [
    {
     "name": "stdout",
     "output_type": "stream",
     "text": [
      "284 35 36\n"
     ]
    }
   ],
   "source": [
    "print(len(data_train), len(data_test), len(data_dev))"
   ]
  },
  {
   "cell_type": "markdown",
   "metadata": {
    "id": "zJPbPw-qqRn2"
   },
   "source": [
    "### Sentences "
   ]
  },
  {
   "cell_type": "code",
   "execution_count": 18,
   "metadata": {
    "id": "VgntHfAo3aZy"
   },
   "outputs": [],
   "source": [
    "train_texts = data_train[data_train.columns[0]].to_list()\n",
    "train_labels = data_train[data_train.columns[1]].to_list()"
   ]
  },
  {
   "cell_type": "code",
   "execution_count": 19,
   "metadata": {
    "id": "zcBRLeDcc1qo"
   },
   "outputs": [],
   "source": [
    "test_texts = data_test[data_test.columns[0]].to_list()\n",
    "test_labels = data_test[data_test.columns[1]].to_list()"
   ]
  },
  {
   "cell_type": "code",
   "execution_count": 20,
   "metadata": {
    "id": "o4v0rMfxd9Dl"
   },
   "outputs": [],
   "source": [
    "dev_texts = data_dev[data_dev.columns[0]].to_list()\n",
    "dev_labels = data_dev[data_dev.columns[1]].to_list()"
   ]
  },
  {
   "cell_type": "markdown",
   "metadata": {
    "id": "rxatmEuRqW1M"
   },
   "source": [
    "#### Exploration"
   ]
  },
  {
   "cell_type": "code",
   "execution_count": 21,
   "metadata": {
    "id": "8xjS_lpd3aZI"
   },
   "outputs": [],
   "source": [
    "import matplotlib.pyplot as plt\n",
    "plt.style.use(\"ggplot\")"
   ]
  },
  {
   "cell_type": "code",
   "execution_count": 22,
   "metadata": {
    "colab": {
     "base_uri": "https://localhost:8080/",
     "height": 265
    },
    "id": "yXMq0bHN3aZB",
    "outputId": "8a76232a-0284-44ce-9f53-6d4073663694"
   },
   "outputs": [
    {
     "data": {
      "image/png": "[encoded data removed]",
      "text/plain": [
       "<Figure size 432x288 with 1 Axes>"
      ]
     },
     "metadata": {},
     "output_type": "display_data"
    }
   ],
   "source": [
    "plt.hist([len(s) for s in train_texts], bins=5)\n",
    "plt.show()"
   ]
  },
  {
   "cell_type": "code",
   "execution_count": 23,
   "metadata": {
    "colab": {
     "base_uri": "https://localhost:8080/"
    },
    "id": "1-aS91hTKB5i",
    "outputId": "2451c328-7441-4c76-c152-05b579bf0d2c"
   },
   "outputs": [
    {
     "data": {
      "text/plain": [
       "754"
      ]
     },
     "execution_count": 23,
     "metadata": {},
     "output_type": "execute_result"
    }
   ],
   "source": [
    "max([len(s) for s in train_texts])"
   ]
  },
  {
   "cell_type": "code",
   "execution_count": 24,
   "metadata": {
    "id": "FBQLnJyY3aY7"
   },
   "outputs": [],
   "source": [
    "max_len = 128 #selected value outisde the histogram"
   ]
  },
  {
   "cell_type": "code",
   "execution_count": 25,
   "metadata": {
    "colab": {
     "base_uri": "https://localhost:8080/"
    },
    "id": "UQFdVv4qnL0u",
    "outputId": "1f3583bc-51cd-4555-ae1d-36f7ebecffa8"
   },
   "outputs": [
    {
     "name": "stdout",
     "output_type": "stream",
     "text": [
      "284\n",
      "319\n",
      "355\n"
     ]
    }
   ],
   "source": [
    "vocab_txt = []\n",
    "vocab_txt.extend(train_texts)\n",
    "print(len(vocab_txt))\n",
    "vocab_txt.extend(test_texts)\n",
    "print(len(vocab_txt))\n",
    "vocab_txt.extend(dev_texts)\n",
    "print(len(vocab_txt))"
   ]
  },
  {
   "cell_type": "code",
   "execution_count": 26,
   "metadata": {
    "colab": {
     "base_uri": "https://localhost:8080/"
    },
    "id": "4YrK2TwTrAQp",
    "outputId": "d5bd7936-14fc-4a48-d58d-cdaca06a770d"
   },
   "outputs": [
    {
     "name": "stderr",
     "output_type": "stream",
     "text": [
      "Using TensorFlow backend.\n"
     ]
    }
   ],
   "source": [
    "from keras.preprocessing.text import Tokenizer"
   ]
  },
  {
   "cell_type": "code",
   "execution_count": 27,
   "metadata": {
    "colab": {
     "base_uri": "https://localhost:8080/"
    },
    "id": "3jdiCEOBnJA1",
    "outputId": "a34872d9-d1a3-4cd2-c502-0b744130135f"
   },
   "outputs": [
    {
     "name": "stdout",
     "output_type": "stream",
     "text": [
      "The document count 355\n",
      "The count of words OrderedDict([('in', 347), ('humans', 5), ('loss', 4), ('of', 388), ('function', 6), ('the', 471), ('cilia', 4), ('centrosomal', 3), ('protein', 13), ('gene', 469), ('is', 60), ('associated', 76), ('with', 180), ('joubert', 2), ('and', 450), ('disease', 401), ('whereas', 3), ('hypomorphic', 4), ('mutations', 14), ('result', 5), ('leber', 2), ('congenital', 2), ('amaurosis', 2), ('lca', 3), ('a', 179), ('form', 4), ('early', 5), ('onset', 8), ('retinal', 3), ('dystrophy', 3), ('toll', 2), ('like', 4), ('receptor', 23), ('induced', 15), ('secretion', 16), ('impaired', 16), ('by', 49), ('nucleotide', 40), ('oligomerization', 8), ('domain', 8), ('2', 50), ('dependent', 16), ('independent', 13), ('pathways', 6), ('summary', 2), ('we', 32), ('observed', 15), ('associations', 8), ('between', 28), ('bc', 5), ('risk', 53), ('comprehensive', 2), ('analysis', 17), ('using', 10), ('clinical', 20), ('tumour', 6), ('characteristics', 2), ('as', 33), ('outcome', 4), ('variables', 2), ('has', 19), ('revealed', 4), ('potential', 7), ('recent', 3), ('study', 53), ('demonstrated', 10), ('association', 68), ('located', 10), ('upstream', 9), ('region', 31), ('for', 89), ('or', 84), ('protection', 4), ('from', 39), ('sle', 1), ('based', 5), ('on', 29), ('analyses', 7), ('41', 7), ('patients', 55), ('12', 1), ('healthy', 1), ('controls', 29), ('were', 62), ('studied', 1), ('to', 119), ('functional', 8), ('relevance', 7), ('single', 31), ('polymorphisms', 33), ('snps', 46), ('genes', 64), ('encoding', 7), ('matrix', 8), ('metalloproteinases', 10), ('mmp', 8), ('1', 113), ('3', 19), ('9', 12), ('tissue', 6), ('inhibitors', 7), ('timp', 9), ('tumor', 6), ('necrosis', 4), ('factor', 17), ('etiopathogenesis', 6), ('ibd', 3), ('that', 75), ('may', 26), ('enhance', 6), ('susceptibility', 41), ('severity', 9), ('intracellular', 4), ('pattern', 4), ('recognition', 4), ('binding', 4), ('containing', 4), ('are', 30), (\"crohn's\", 8), ('genotype', 27), ('tt', 3), ('women', 12), ('t', 43), ('men', 7), ('at', 33), ('was', 49), ('found', 15), ('increase', 4), ('39', 6), ('vs', 18), ('23', 12), ('8', 27), ('p', 77), ('0', 91), ('018', 4), ('67', 4), ('51', 4), ('6', 12), ('055', 4), ('respectively', 17), ('while', 5), ('this', 36), ('less', 4), ('prone', 4), ('development', 15), ('fistulae', 2), ('during', 7), ('follow', 6), ('up', 8), ('4', 6), ('68', 4), ('025', 4), ('donor', 1), ('graft', 1), ('survival', 5), ('after', 3), ('lung', 1), ('transplantation', 3), ('remaining', 5), ('markers', 11), ('role', 16), ('attributed', 5), ('also', 15), ('confirming', 5), ('particular', 9), ('g908r', 4), ('l1007fsinsc', 4), ('involved', 8), ('same', 8), ('extent', 5), ('fcgiiia', 4), ('g559t', 4), ('tnf', 13), ('alpha', 13), ('g308a', 4), ('examined', 6), ('whether', 4), ('polymorphism', 61), ('enpp1', 3), ('rs7566605', 7), ('course', 7), ('recently', 6), ('an', 33), ('shown', 18), ('snp', 17), ('within', 9), ('interleukin', 12), ('il23r', 7), ('locus', 13), ('cd', 8), ('consequence', 5), ('genome', 9), ('wide', 7), ('adults', 4), ('finally', 2), ('tested', 2), ('il', 11), ('10', 9), ('production', 5), ('peripheral', 2), ('blood', 3), ('mononuclear', 2), ('cells', 21), ('stimulated', 2), ('819t', 1), ('carriers', 22), ('produced', 2), ('lower', 5), ('levels', 17), ('when', 3), ('compared', 13), ('non', 24), ('our', 13), ('previous', 8), ('expression', 25), ('mrna', 9), ('decreased', 14), ('hippocampi', 4), ('autopsied', 4), ('brains', 4), ('ad', 6), ('indicating', 4), ('hcnp', 2), ('pathogenesis', 12), ('data', 6), ('provide', 9), ('evidence', 11), ('both', 12), ('hiv', 8), ('replication', 5), ('reservoir', 4), ('moreover', 7), ('tlr', 5), ('ligand', 4), ('but', 17), ('down', 5), ('regulatory', 8), ('muramyl', 2), ('dipeptide', 2), ('significantly', 14), ('protective', 5), ('alleles', 7), ('four', 16), ('mhc', 4), ('rs13199524', 4), ('rs12198173', 4), ('rs3093662', 4), ('strikingly', 5), ('over', 12), ('represented', 13), ('among', 9), ('forty', 5), ('five', 5), ('long', 5), ('term', 5), ('controllers', 5), ('vascular', 2), ('endothelial', 4), ('growth', 2), ('promotes', 2), ('progression', 6), ('inducing', 2), ('angiogenesis', 3), ('via', 7), ('vegf', 6), ('receptors', 4), ('signals', 2), ('directly', 4), ('through', 3), ('such', 5), ('vegfr', 6), ('flt', 2), ('expressed', 8), ('failed', 5), ('pklr', 9), ('rs3020781', 10), ('overweight', 8), ('obesity', 10), ('related', 14), ('quantitative', 14), ('metabolic', 11), ('phenotypes', 13), ('large', 12), ('scale', 11), ('studies', 27), ('danes', 5), ('stec', 3), ('strains', 5), ('carrying', 11), ('more', 7), ('frequently', 3), ('manifestations', 3), ('hemolytic', 2), ('uremic', 2), ('syndrome', 2), ('bloody', 2), ('diarrhea', 2), ('than', 8), ('those', 5), ('stx2vha', 4), ('pathway', 37), ('plays', 2), ('pivotal', 2), ('chronic', 3), ('mucosal', 2), ('inflammation', 2), ('seen', 2), ('have', 33), ('gm', 7), ('csf', 7), ('nod2', 15), ('display', 3), ('regulation', 6), ('major', 4), ('enzyme', 2), ('bioactivation', 2), ('exogenous', 2), ('procarcinogens', 2), ('hcc', 4), ('no', 9), ('significant', 20), ('paf', 4), ('49', 2), ('02', 4), ('96', 2), ('84', 2), ('99', 3), ('93', 4), ('06', 2), ('c', 50), ('allele', 22), ('reported', 9), ('strongly', 9), ('associate', 4), ('various', 6), ('european', 9), ('descent', 4), ('populations', 7), ('comprising', 4), ('total', 7), ('198', 4), ('individuals', 8), ('combined', 5), ('odds', 11), ('ratio', 11), ('33', 6), ('16', 4), ('54', 5), ('53', 4), ('28', 4), ('81', 4), ('clarify', 1), ('involvement', 3), ('variations', 6), ('promoter', 15), ('reduction', 1), ('analyzed', 18), ('dna', 40), ('direct', 2), ('sequencing', 1), ('individual', 5), ('rs1048661', 4), ('rs3825942', 3), ('rs2165241', 4), ('not', 20), ('chinese', 15), ('population', 42), ('results', 13), ('obtained', 2), ('suggest', 13), ('a1650g', 1), ('be', 37), ('1604g', 1), ('weak', 1), ('infection', 1), ('du', 1), ('hus', 2), ('haplotypes', 6), ('constructed', 5), ('three', 22), ('rs3840846', 3), ('rs3743500', 3), ('order', 4), (\"5'\", 4), ('nptn', 3), ('showed', 16), ('schizophrenia', 11), ('permutation', 13), ('036', 6), ('g', 45), ('028', 6), ('del', 4), ('040', 4), ('under', 9), ('assess', 2), ('significance', 4), ('lesions', 3), ('evaluated', 3), ('immunohistochemistry', 2), ('inflammatory', 12), ('bowel', 4), ('diseases', 5), ('additionally', 4), ('crssnp', 1), ('minor', 2), ('synonymous', 3), ('rs10735810', 1), ('foki', 2), ('met1thr', 2), ('estimated', 4), ('26', 4), ('95', 22), ('ci', 19), ('57', 3), ('ongoing', 1), ('cohort', 2), ('142', 1), ('pediatric', 2), ('281', 1), ('matched', 1), ('investigated', 5), ('previously', 5), ('childhood', 1), ('much', 1), ('been', 28), ('correlative', 1), ('until', 1), ('deficient', 1), ('mice', 5), ('which', 8), ('accumulate', 1), ('high', 6), ('mtdna', 1), ('show', 5), ('phenotype', 4), ('causative', 1), ('proposed', 1), ('genotyped', 11), ('rs706778', 5), ('rs3118470', 5), ('ss52580101', 4), ('rs11594656', 4), ('885', 5), ('606', 5), ('control', 25), ('subjects', 10), ('japanese', 10), ('origin', 5), ('hes', 1), ('estradiol', 2), ('all', 9), ('trans', 2), ('retinoic', 2), ('acid', 5), ('affects', 2), ('proliferation', 5), ('human', 7), ('homozygous', 3), ('asp1104asp', 2), ('genotypes', 20), ('had', 3), ('cervical', 4), ('his1104his', 2), ('used', 2), ('candidate', 3), ('approach', 3), ('identify', 2), ('set', 2), ('predicted', 2), ('chromosome', 12), ('1q44', 2), ('downstream', 2), ('known', 5), ('cias1', 2), ('nalp3', 1), ('regions', 2), ('cyclophilin', 1), ('male', 1), ('serser', 1), ('demonstrate', 1), ('particularly', 2), ('possibly', 1), ('implying', 1), ('status', 3), ('increased', 8), ('cardiovascular', 1), ('summarise', 2), ('detected', 2), ('rs4646421', 2), ('variant', 15), ('30', 2), ('05', 7), ('61', 3), ('rs2198843', 1), ('69', 2), ('reduced', 4), ('70', 2), ('52', 3), ('94', 4), ('homozygote', 2), ('possible', 3), ('han', 4), ('recalcitrant', 1), ('crswnp', 1), ('60', 2), ('specimens', 2), ('k121q', 7), ('rs11209026', 2), ('type', 10), ('diabetes', 8), ('trio', 2), ('samples', 5), ('rs677221', 7), ('consistently', 3), ('transmission', 11), ('offspring', 5), ('unadjusted', 2), ('003', 3), ('004', 5), ('il2ra', 5), ('acute', 5), ('slow', 2), ('fulminant', 2), ('two', 26), ('allelic', 10), ('composition', 2), ('coding', 2), ('affect', 2), ('i', 5), ('e', 4), ('fistulizing', 2), ('stricture', 2), ('first', 7), ('localisation', 2), ('multiple', 4), ('now', 4), ('established', 4), ('contribution', 8), ('general', 6), ('r381q', 3), ('case', 21), ('rs10399805', 4), ('0062', 5), ('ivs7', 4), ('82c', 4), ('intron', 5), ('7', 7), ('rs2275353', 4), ('0056', 5), ('chi3l1', 6), ('5t5t', 1), ('1613', 1), ('5t', 1), ('6t', 1), ('chance', 2), ('stenotic', 2), ('complications', 2), ('91', 2), ('71', 2), ('022', 2), ('seemed', 2), ('protect', 2), ('against', 3), ('colonic', 2), ('endoscopic', 2), ('radiologic', 2), ('examination', 2), ('35', 2), ('59', 2), ('5', 7), ('017', 2), ('node', 2), ('negative', 2), ('stage', 2), ('conclude', 1), ('stx', 1), ('one', 8), ('important', 5), ('factors', 5), ('pathogenicity', 1), ('higher', 2), ('other', 7), ('researchers', 1), ('failure', 1), ('medical', 1), ('surgical', 1), ('therapy', 3), ('rs2228570', 1), ('nos1ap', 8), ('rs7538490', 9), ('selected', 18), ('tagging', 1), ('cyp1a1', 1), ('diplotypes', 1), ('1006', 1), ('pathologically', 1), ('confirmed', 1), ('1015', 1), ('cancer', 14), ('free', 3), ('present', 6), ('suggests', 8), ('genetic', 28), ('variation', 7), ('near', 10), ('psychotic', 3), ('manic', 3), ('disorders', 3), ('including', 24), ('attributable', 1), ('lack', 6), ('danish', 6), ('traits', 6), ('although', 2), ('cox', 2), ('commonly', 4), ('overexpressed', 2), ('variety', 2), ('premalignant', 2), ('malignant', 6), ('conditions', 2), ('oral', 1), ('leukoplakia', 1), ('relatively', 2), ('little', 2), ('research', 3), ('effects', 5), ('celecoxib', 3), ('ns', 2), ('398', 2), ('nimesulide', 2), ('meloxicam', 2), ('impact', 1), ('advanced', 2), ('180', 4), ('categorized', 3), ('1ra', 2), ('producers', 3), ('if', 3), ('they', 3), ('least', 3), ('rs4251961', 2), ('ghrh', 5), ('ghrhr', 5), ('regulated', 2), ('hundred', 17), ('twenty', 17), ('incident', 17), ('cases', 17), ('229', 17), ('recruited', 17), ('saudi', 18), ('arabian', 18), ('21', 18), ('loci', 19), ('repair', 35), ('pcr', 17), ('restriction', 17), ('fragment', 17), ('length', 17), ('homologous', 34), ('end', 17), ('joining', 17), ('ligiv', 16), ('pro231ser', 16), ('trp46ter', 16), ('xrcc4', 16), ('splice', 17), ('33243301g', 17), ('xrcc7', 16), ('ile3434thr', 17), ('recombination', 17), ('xrcc3', 17), ('arg94his', 17), ('thr241met', 17), ('rad51', 16), ('utr', 34), ('15452658t', 17), ('15455419a', 16), ('rad52', 18), ('2259', 18), ('gln221glu', 16), ('conserved', 17), ('damage', 17), ('response', 18), ('tp53', 33), ('pro47ser', 17), ('pro72arg', 16), ('7178189a', 17), ('base', 17), ('excision', 17), ('xrcc1', 16), ('arg194trp', 17), ('arg280his', 16), ('arg399gln', 16), ('arg559gln', 16), ('surpassed', 1), ('normal', 4), ('pancreatic', 2), ('hairy', 1), ('enhancer', 1), ('split', 1), ('homologue', 1), ('card15', 4), ('247c', 5), ('deleted', 2), ('extends', 3), ('sh3tc2', 1), ('proximal', 2), ('boundary', 4), ('distal', 3), ('measures', 3), ('mb', 2), ('underlies', 1), ('subcutaneous', 1), ('young', 3), ('adult', 3), ('suppresses', 1), ('positive', 1), ('resistance', 4), ('training', 1), ('rs4886605', 1), ('interacts', 2), ('malate', 2), ('shuttle', 2), ('system', 4), ('altered', 2), ('roles', 3), ('neuronal', 2), ('synthesis', 2), ('glutamate', 2), ('gamma', 2), ('amino', 2), ('butyric', 2), ('these', 14), ('ectonucleotide', 6), ('pyrophosphatase', 6), ('phosphodiesterase', 6), ('insulin', 9), ('anti', 5), ('antibody', 1), ('passage', 1), ('across', 1), ('brain', 3), ('barrier', 1), ('samp8', 1), ('mouse', 1), ('model', 1), ('age', 4), ('selective', 2), ('uptake', 1), ('reversal', 1), ('learning', 1), ('impairment', 1), ('subsequent', 1), ('strong', 1), ('linkage', 3), ('disequilibrium', 5), ('haplotype', 16), ('cvcr', 1), ('sample', 1), ('100', 1), ('similarly', 1), ('aa', 2), ('liglv', 16), ('asp62his', 16), ('rs579543', 2), ('rs2395029', 4), ('extracellular', 1), ('molecule', 1), ('initially', 1), ('cloned', 1), ('treated', 3), ('tgf', 1), ('beta', 3), ('mechanisms', 3), ('furthermore', 3), ('reflecting', 3), ('additional', 3), ('17', 4), ('intergenic', 6), ('flanked', 3), ('ddx40', 3), ('ypel2', 3), ('rs2575735', 2), ('syndecan', 2), ('g2677t', 2), ('enpp', 4), ('granulocyte', 2), ('macrophage', 2), ('colony', 2), ('stimulating', 2), ('compound', 2), ('heterozygosity', 2), ('a1298c', 1), ('mthfr', 1), ('recurrent', 2), ('deep', 2), ('thrombosis', 2), ('epsilon3', 2), ('homozygotes', 2), ('neither', 2), ('epsilon2', 1), ('nor', 2), ('carrier', 2), ('adjusted', 2), ('prevalence', 4), ('ratios', 2), ('83', 2), ('07', 4), ('98', 3), ('89', 2), ('vitamin', 5), ('d', 6), ('influence', 10), ('however', 8), ('epidemiological', 8), ('melanoma', 4), ('mm', 5), ('performed', 5), ('southern', 5), ('sporadic', 7), ('breast', 4), ('efficiency', 1), ('treatment', 3), ('value', 2), ('0047', 1), ('aberrant', 1), ('chitinase', 1), ('ykl', 1), ('40', 3), ('low', 5), ('frequencies', 2), ('led', 2), ('rs1937970', 5), ('372', 2), ('integrated', 1), ('molecular', 1), ('taken', 2), ('together', 2), ('good', 1), ('therapeutic', 4), ('treating', 1), ('suppression', 1), ('cell', 5), ('induction', 2), ('apoptosis', 1), ('manner', 1), ('test', 4), ('tdt', 3), ('combination', 5), ('ag', 3), ('uncorrected', 9), ('006', 4), ('gc', 2), ('affected', 5), ('cg', 3), ('variants', 10), ('statistical', 1), ('very', 2), ('developing', 2), ('wild', 2), ('cc', 4), ('001', 6), ('15', 3), ('confidence', 4), ('interval', 4), ('56', 1), ('36', 1), ('gg', 4), ('58', 2), ('44', 1), ('antagonist', 2), ('cytokine', 2), ('thought', 3), ('counteract', 2), ('metastasis', 1), ('surprisingly', 2), ('602s', 1), ('incidence', 2), ('suggesting', 2), ('mycobacterium', 2), ('leprae', 2), ('subverts', 2), ('mechanism', 2), ('immune', 2), ('evasion', 2), ('apoe', 1), ('influences', 1), ('lipid', 1), ('metabolism', 2), ('its', 4), ('controversial', 1), ('chemokine', 1), ('viral', 2), ('load', 2), (\"alzheimer's\", 2), ('supports', 2), ('common', 9), ('contribute', 3), ('ulcerative', 2), ('colitis', 4), ('only', 1), ('55', 1), ('further', 3), ('needed', 1), ('determine', 2), ('target', 1), ('viremia', 3), ('core', 4), ('antigen', 4), ('hcv', 3), ('thoroughly', 1), ('rs6503919', 2), ('mdr1', 2), ('rs3826047', 3), ('bipolar', 4), ('disorder', 4), ('gsp', 4), ('regulate', 2), ('desensitize', 2), ('adenoma', 2), ('terms', 2), ('their', 7), ('probably', 2), ('because', 2), ('saturation', 2), ('signaling', 2), ('hla', 1), ('sought', 2), ('evaluate', 2), ('reactive', 2), ('crp', 2), ('kidney', 3), ('before', 2), ('successful', 2), ('family', 1), ('nlrp3', 1), ('estrogen', 1), ('downregulation', 1), ('mediated', 2), (\"3'\", 1), ('element', 1), ('loxl1', 3), ('screened', 1), ('importance', 1), ('process', 1), ('his1104asp', 2), ('interestingly', 1), ('diplotype', 1), ('conferred', 2), ('76', 1), ('22', 1), ('therefore', 1), ('review', 1), ('discusses', 1), ('dysfunction', 1), ('pre', 1), ('cancerous', 1), ('alterations', 1), ('correlation', 2), ('occur', 1), ('nearly', 1), ('50', 1), ('replicated', 1), ('sets', 1), ('except', 1), ('spain', 1), ('lysyl', 1), ('oxidase', 1), ('rare', 1), ('glra1', 1), ('squamous', 3), ('carcinoma', 3), ('defect', 2), ('hitherto', 2), ('unknown', 2), ('consistent', 2), ('hypothesis', 2), ('part', 2), ('constitutes', 2), ('authors', 1), ('presence', 1), ('rs42524', 2), ('occurrence', 1), ('can', 3), ('drive', 1), ('unprotective', 1), ('culminates', 1), ('yielded', 2), ('following', 2), ('yale', 2), ('generated', 2), ('observations', 4), ('taa', 8), ('predominantly', 2), ('autosomal', 2), ('dominant', 2), ('mode', 2), ('inheritance', 2), ('metalloproteinase', 1), ('enzymes', 2), ('activated', 2), ('wall', 2), ('tension', 2), ('approaches', 2), ('tensile', 2), ('limits', 2), ('aortic', 2), ('diameter', 4), ('cm', 4), ('time', 2), ('reaches', 2), ('34', 2), ('percent', 2), ('suffered', 2), ('dissection', 4), ('rupture', 2), ('extreme', 2), ('physical', 2), ('exertion', 2), ('severe', 3), ('emotion', 2), ('often', 2), ('precipitate', 2), ('rna', 2), ('profile', 2), ('changes', 2), ('being', 5), ('identified', 4), ('predispose', 2), ('patient', 2), ('serve', 2), ('biomarkers', 2), ('screening', 2), ('virulent', 2), ('provides', 1), ('epidemiologic', 1), ('old', 1), ('anticarcinogenic', 4), ('inferred', 4), ('gpx2', 2), ('double', 4), ('knockout', 4), ('tnfsf4', 1), ('gpx1', 2), ('clock', 2), ('npas2', 1), ('circadian', 2), ('modifier', 2), ('biological', 4), ('definitive', 2), ('819c', 1), ('original', 1), ('finding', 1), ('there', 1), ('implicates', 1), ('fat', 1), ('nphp6', 1), ('caused', 1), ('proteins', 1), ('olfactory', 1), ('sensory', 1), ('neurons', 1), ('combining', 1), ('implicated', 3), ('01', 1), ('confer', 1), ('similar', 1), ('magnitude', 1), ('children', 1), ('counterparts', 1), ('hand', 3), ('pair', 1), ('confirms', 1), ('play', 3), ('crucial', 1), ('contrast', 2), ('enhanced', 1), ('epsilon4', 1), ('cypa', 1), ('irrelevant', 1), ('objective', 1), ('heterogeneities', 1), ('mutational', 1), ('intestinal', 2), ('able', 1), ('secrete', 1), ('upon', 1), ('stimulation', 1), ('ligands', 1), ('primary', 1), ('open', 1), ('angle', 1), ('glaucoma', 1), ('taqi', 1), ('appeared', 1), ('80', 1), ('64', 1), ('047', 1), ('confirm', 2), ('different', 2), ('contributions', 1), ('forms', 1), ('hepatocellular', 1), ('1025g', 2), ('chr2', 2), ('118', 2), ('552', 2), ('255', 2), ('nt', 2), ('022135', 2), ('body', 2), ('mass', 2), ('index', 2), ('bmi', 2), ('scan', 2), ('framingham', 2), ('heart', 2), ('reproduced', 2), ('cohorts', 2), ('meckel', 2), ('syndromes', 2), ('thr256ser', 1), ('fetuin', 1), ('accelerated', 1), ('dialysis', 2), ('highly', 1), ('comparable', 1), ('jewish', 1), ('insig2', 1), ('hepatitis', 1), ('virus', 1), ('hyperendemic', 1), ('area', 1), ('japan', 1), ('c677t', 1), ('295', 1), ('unrelated', 1), ('here', 1), ('374', 1), ('380', 1), ('meta', 2), ('2702', 1), ('physiological', 1), ('phase', 1), ('trial', 1), ('topoisomerase', 1), ('topo', 1), ('poison', 1), ('cpt', 1), ('11', 2), ('followed', 1), ('cyclin', 1), ('kinase', 1), ('inhibitor', 2), ('flavopiridol', 1), ('indicate', 1), ('whose', 1), ('tumors', 1), ('mutant', 1), ('most', 2), ('benefit', 1), ('elevation', 1), ('gsalpha', 1), ('mutation', 1), ('763', 1), ('254', 1), ('illumina', 1), ('abi', 1), ('methods', 1), ('xeroderma', 1), ('pigmentosum', 1), ('complementation', 1), ('group', 1), ('xpd', 2), ('xpg', 1), ('identification', 1), ('novel', 1), ('mapping', 1), ('genotypic', 3), ('439', 3), ('115', 3), ('858', 3), ('systemic', 1), ('lupus', 1), ('erythematosus', 1), ('calcification', 1), ('correlates', 1), ('negatively', 1), ('either', 1), ('middle', 1), ('eastern', 1), ('hcnppp', 2), ('caucasian', 1), ('families', 1), ('suggested', 1), ('modulate', 1), ('smokers', 1), ('ccag', 1), ('ttgc', 1), ('04', 1), ('amyloid', 1), ('elevated', 2), ('cover', 1), ('whole', 1), ('identifies', 1), ('could', 6), ('ethnicity', 2), ('level', 6), ('abeta', 1), ('makes', 2), ('substantial', 2), ('larger', 2), ('frequency', 7), ('ckd', 1), ('thus', 1), ('prevent', 1), ('undue', 1), ('responses', 2), ('stimuli', 1), ('driven', 1), ('initiation', 1), ('ala394thr', 1), ('lys751gln', 1), ('7q22', 2), ('familial', 2), ('ias', 1), ('multivariate', 1), ('205', 1), ('616', 1), ('667', 1), ('011', 2), ('smaller', 1), ('number', 1), ('cycles', 1), ('156', 1), ('037', 1), ('659', 1), ('grade', 1), ('greater', 1), ('throughout', 1), ('period', 1), ('chemotherapy', 5), ('overall', 3), ('relapse', 2), ('hypopharyngeal', 3), ('hbs1l', 2), ('myb', 2), ('6q23', 2), ('trait', 3), ('controlling', 3), ('considered', 2), ('marker', 2), ('predict', 2), ('suffering', 2), ('oropharyngeal', 2), ('lysophosphatidic', 1), ('facilitates', 1), ('fetal', 3), ('haemoglobin', 3), ('modifies', 2), ('hbf', 1), ('cutting', 1), ('edge', 1), ('impairs', 1), ('surface', 1), ('trafficking', 1), ('protects', 1), ('col1a2', 1), ('1r', 4), ('pst1', 2), ('1970', 2), ('0001', 2), ('00006', 2), ('tnfalpha', 2), ('308', 1), ('0002', 2), ('000001', 2), ('versus', 2), ('polymorphic', 2), ('pro', 2), ('cytokines', 2), ('iranian', 4), ('stratified', 1), ('alcohol', 1), ('increases', 1), ('restricted', 1), ('fold', 2), ('daily', 1), ('drinkers', 1), ('63', 1), ('00', 1), ('88', 1), ('66', 1), ('19', 1), ('24', 1), ('drink', 1), ('years', 1), ('unravel', 1), ('regulating', 1), ('clearly', 1), ('indicated', 1), ('lead', 1), ('new', 2), ('strategies', 1), ('modify', 1), ('hdaci', 1), ('adenoviral', 1), ('warrants', 1), ('investigation', 1), ('002', 1), ('genotyping', 1), ('might', 2), ('make', 1), ('tailor', 1), ('oxaliplatin', 2), ('work', 1), ('supported', 1), ('fractures', 1), ('assessed', 2), ('mi', 3), ('234', 2), ('248', 2), ('rs3093105', 2), ('rs3093135', 2), ('rs1558139', 2), ('rs2108622', 2), ('rs3093200', 2), ('lpa', 1), ('requires', 1), ('activation', 1), ('1alpha', 1), ('889', 1), ('especially', 2), ('rs1784235', 1), ('intracranial', 1), ('aneurysms', 1), ('predicts', 1), ('receiving', 1), ('myocardial', 1), ('infarction', 1), ('majority', 1), ('deregulation', 1), ('catenin', 1), ('rs491347', 1), ('vinblastine', 2), ('doxorubicin', 2), ('predictor', 1), ('methotrexate', 1), ('cisplatin', 1), ('prognostic', 1), ('unselected', 1), ('series', 1), ('curative', 1), ('intent', 1), ('carcinomas', 1), ('stages', 1), ('regimens', 1)])\n",
      "The word index {'the': 1, 'gene': 2, 'and': 3, 'disease': 4, 'of': 5, 'in': 6, 'with': 7, 'a': 8, 'to': 9, '1': 10, '0': 11, 'for': 12, 'or': 13, 'p': 14, 'associated': 15, 'that': 16, 'association': 17, 'genes': 18, 'were': 19, 'polymorphism': 20, 'is': 21, 'patients': 22, 'risk': 23, 'study': 24, '2': 25, 'c': 26, 'by': 27, 'was': 28, 'snps': 29, 'g': 30, 't': 31, 'population': 32, 'susceptibility': 33, 'nucleotide': 34, 'dna': 35, 'from': 36, 'pathway': 37, 'be': 38, 'this': 39, 'repair': 40, 'homologous': 41, 'utr': 42, 'as': 43, 'polymorphisms': 44, 'at': 45, 'an': 46, 'have': 47, 'tp53': 48, 'we': 49, 'region': 50, 'single': 51, 'are': 52, 'on': 53, 'controls': 54, 'between': 55, 'been': 56, 'genetic': 57, 'genotype': 58, '8': 59, 'studies': 60, 'may': 61, 'two': 62, 'expression': 63, 'control': 64, 'non': 65, 'including': 66, 'receptor': 67, 'carriers': 68, 'allele': 69, 'three': 70, '95': 71, 'cells': 72, 'case': 73, 'clinical': 74, 'significant': 75, 'not': 76, 'genotypes': 77, 'has': 78, '3': 79, 'ci': 80, 'loci': 81, 'vs': 82, 'shown': 83, 'analyzed': 84, 'selected': 85, 'saudi': 86, 'arabian': 87, '21': 88, 'rad52': 89, '2259': 90, 'response': 91, 'analysis': 92, 'factor': 93, 'respectively': 94, 'snp': 95, 'levels': 96, 'but': 97, 'hundred': 98, 'twenty': 99, 'incident': 100, 'cases': 101, '229': 102, 'recruited': 103, 'pcr': 104, 'restriction': 105, 'fragment': 106, 'length': 107, 'end': 108, 'joining': 109, 'splice': 110, '33243301g': 111, 'ile3434thr': 112, 'recombination': 113, 'xrcc3': 114, 'arg94his': 115, 'thr241met': 116, '15452658t': 117, 'conserved': 118, 'damage': 119, 'pro47ser': 120, '7178189a': 121, 'base': 122, 'excision': 123, 'arg194trp': 124, 'secretion': 125, 'impaired': 126, 'dependent': 127, 'role': 128, 'four': 129, 'showed': 130, 'ligiv': 131, 'pro231ser': 132, 'trp46ter': 133, 'xrcc4': 134, 'xrcc7': 135, 'rad51': 136, '15455419a': 137, 'gln221glu': 138, 'pro72arg': 139, 'xrcc1': 140, 'arg280his': 141, 'arg399gln': 142, 'arg559gln': 143, 'haplotype': 144, 'liglv': 145, 'asp62his': 146, 'induced': 147, 'observed': 148, 'found': 149, 'development': 150, 'also': 151, 'nod2': 152, 'promoter': 153, 'chinese': 154, 'variant': 155, 'mutations': 156, 'decreased': 157, 'significantly': 158, 'related': 159, 'quantitative': 160, 'cancer': 161, 'these': 162, 'protein': 163, 'independent': 164, 'tnf': 165, 'alpha': 166, 'locus': 167, 'compared': 168, 'our': 169, 'represented': 170, 'phenotypes': 171, 'results': 172, 'suggest': 173, 'permutation': 174, '9': 175, 'women': 176, '23': 177, '6': 178, 'interleukin': 179, 'pathogenesis': 180, 'both': 181, 'over': 182, 'large': 183, 'inflammatory': 184, 'chromosome': 185, 'markers': 186, 'il': 187, 'evidence': 188, 'metabolic': 189, 'scale': 190, 'carrying': 191, 'odds': 192, 'ratio': 193, 'schizophrenia': 194, 'genotyped': 195, 'transmission': 196, 'using': 197, 'demonstrated': 198, 'located': 199, 'metalloproteinases': 200, 'rs3020781': 201, 'obesity': 202, 'subjects': 203, 'japanese': 204, 'type': 205, 'allelic': 206, 'near': 207, 'influence': 208, 'variants': 209, 'upstream': 210, 'timp': 211, 'severity': 212, 'particular': 213, 'within': 214, 'genome': 215, '10': 216, 'mrna': 217, 'provide': 218, 'among': 219, 'pklr': 220, 'no': 221, 'reported': 222, 'strongly': 223, 'european': 224, 'under': 225, 'all': 226, 'rs7538490': 227, 'insulin': 228, 'uncorrected': 229, 'common': 230, 'onset': 231, 'oligomerization': 232, 'domain': 233, 'associations': 234, 'functional': 235, 'matrix': 236, 'mmp': 237, \"crohn's\": 238, 'up': 239, 'involved': 240, 'same': 241, 'cd': 242, 'previous': 243, 'hiv': 244, 'regulatory': 245, 'expressed': 246, 'overweight': 247, 'than': 248, 'individuals': 249, 'which': 250, 'increased': 251, 'diabetes': 252, 'contribution': 253, 'one': 254, 'nos1ap': 255, 'suggests': 256, 'however': 257, 'epidemiological': 258, 'taa': 259, 'potential': 260, 'analyses': 261, '41': 262, 'relevance': 263, 'encoding': 264, 'inhibitors': 265, 'men': 266, 'during': 267, 'rs7566605': 268, 'course': 269, 'il23r': 270, 'wide': 271, 'moreover': 272, 'alleles': 273, 'via': 274, 'more': 275, 'gm': 276, 'csf': 277, 'populations': 278, 'total': 279, 'human': 280, '05': 281, 'k121q': 282, 'rs677221': 283, 'first': 284, '7': 285, '5': 286, 'other': 287, 'variation': 288, 'sporadic': 289, 'their': 290, 'frequency': 291, 'function': 292, 'pathways': 293, 'tumour': 294, 'tissue': 295, 'tumor': 296, 'etiopathogenesis': 297, 'enhance': 298, '39': 299, 'follow': 300, '4': 301, 'examined': 302, 'recently': 303, 'ad': 304, 'data': 305, 'progression': 306, 'vegf': 307, 'vegfr': 308, 'regulation': 309, 'various': 310, '33': 311, 'variations': 312, 'haplotypes': 313, '036': 314, '028': 315, 'high': 316, 'general': 317, 'chi3l1': 318, 'present': 319, 'lack': 320, 'danish': 321, 'traits': 322, 'malignant': 323, 'ectonucleotide': 324, 'pyrophosphatase': 325, 'phosphodiesterase': 326, 'intergenic': 327, 'd': 328, '001': 329, 'could': 330, 'level': 331, 'humans': 332, 'result': 333, 'early': 334, 'bc': 335, 'based': 336, 'while': 337, 'survival': 338, 'remaining': 339, 'attributed': 340, 'confirming': 341, 'extent': 342, 'consequence': 343, 'production': 344, 'lower': 345, 'replication': 346, 'tlr': 347, 'down': 348, 'protective': 349, 'strikingly': 350, 'forty': 351, 'five': 352, 'long': 353, 'term': 354, 'controllers': 355, 'such': 356, 'failed': 357, 'danes': 358, 'strains': 359, 'those': 360, 'combined': 361, '54': 362, 'individual': 363, 'constructed': 364, 'diseases': 365, 'investigated': 366, 'previously': 367, 'mice': 368, 'show': 369, 'rs706778': 370, 'rs3118470': 371, '885': 372, '606': 373, 'origin': 374, 'acid': 375, 'proliferation': 376, 'known': 377, 'samples': 378, 'offspring': 379, '004': 380, 'il2ra': 381, 'acute': 382, 'i': 383, '0062': 384, 'intron': 385, '0056': 386, 'important': 387, 'factors': 388, 'effects': 389, 'ghrh': 390, 'ghrhr': 391, '247c': 392, 'anti': 393, 'disequilibrium': 394, 'vitamin': 395, 'mm': 396, 'performed': 397, 'southern': 398, 'low': 399, 'rs1937970': 400, 'cell': 401, 'combination': 402, 'affected': 403, 'being': 404, 'chemotherapy': 405, 'loss': 406, 'cilia': 407, 'hypomorphic': 408, 'form': 409, 'like': 410, 'outcome': 411, 'revealed': 412, 'protection': 413, 'necrosis': 414, 'intracellular': 415, 'pattern': 416, 'recognition': 417, 'binding': 418, 'containing': 419, 'increase': 420, '018': 421, '67': 422, '51': 423, '055': 424, 'less': 425, 'prone': 426, '68': 427, '025': 428, 'g908r': 429, 'l1007fsinsc': 430, 'fcgiiia': 431, 'g559t': 432, 'g308a': 433, 'whether': 434, 'adults': 435, 'hippocampi': 436, 'autopsied': 437, 'brains': 438, 'indicating': 439, 'reservoir': 440, 'ligand': 441, 'mhc': 442, 'rs13199524': 443, 'rs12198173': 444, 'rs3093662': 445, 'endothelial': 446, 'receptors': 447, 'directly': 448, 'stx2vha': 449, 'major': 450, 'hcc': 451, 'paf': 452, '02': 453, '93': 454, 'associate': 455, 'descent': 456, 'comprising': 457, '198': 458, '16': 459, '53': 460, '28': 461, '81': 462, 'rs1048661': 463, 'rs2165241': 464, 'order': 465, \"5'\": 466, 'del': 467, '040': 468, 'significance': 469, 'bowel': 470, 'additionally': 471, 'estimated': 472, '26': 473, 'phenotype': 474, 'ss52580101': 475, 'rs11594656': 476, 'cervical': 477, 'reduced': 478, '94': 479, 'han': 480, 'e': 481, 'multiple': 482, 'now': 483, 'established': 484, 'rs10399805': 485, 'ivs7': 486, '82c': 487, 'rs2275353': 488, 'commonly': 489, '180': 490, 'normal': 491, 'card15': 492, 'boundary': 493, 'resistance': 494, 'system': 495, 'age': 496, 'rs2395029': 497, '17': 498, 'enpp': 499, 'prevalence': 500, '07': 501, 'melanoma': 502, 'breast': 503, 'therapeutic': 504, 'test': 505, '006': 506, 'cc': 507, 'confidence': 508, 'interval': 509, 'gg': 510, 'its': 511, 'colitis': 512, 'core': 513, 'antigen': 514, 'bipolar': 515, 'disorder': 516, 'gsp': 517, 'observations': 518, 'diameter': 519, 'cm': 520, 'dissection': 521, 'identified': 522, 'anticarcinogenic': 523, 'inferred': 524, 'double': 525, 'knockout': 526, 'biological': 527, '1r': 528, 'iranian': 529, 'centrosomal': 530, 'whereas': 531, 'lca': 532, 'retinal': 533, 'dystrophy': 534, 'recent': 535, 'ibd': 536, 'tt': 537, 'after': 538, 'transplantation': 539, 'enpp1': 540, 'blood': 541, 'when': 542, 'angiogenesis': 543, 'through': 544, 'stec': 545, 'frequently': 546, 'manifestations': 547, 'chronic': 548, 'display': 549, '99': 550, 'involvement': 551, 'rs3825942': 552, 'rs3840846': 553, 'rs3743500': 554, 'nptn': 555, 'lesions': 556, 'evaluated': 557, 'synonymous': 558, '57': 559, 'homozygous': 560, 'had': 561, 'candidate': 562, 'approach': 563, 'status': 564, '61': 565, '52': 566, 'possible': 567, 'consistently': 568, '003': 569, 'r381q': 570, 'against': 571, 'therapy': 572, 'free': 573, 'psychotic': 574, 'manic': 575, 'disorders': 576, 'research': 577, 'celecoxib': 578, 'categorized': 579, 'producers': 580, 'if': 581, 'they': 582, 'least': 583, 'extends': 584, 'distal': 585, 'measures': 586, 'young': 587, 'adult': 588, 'roles': 589, 'brain': 590, 'linkage': 591, 'treated': 592, 'beta': 593, 'mechanisms': 594, 'furthermore': 595, 'reflecting': 596, 'additional': 597, 'flanked': 598, 'ddx40': 599, 'ypel2': 600, '98': 601, 'treatment': 602, '40': 603, 'tdt': 604, 'ag': 605, 'cg': 606, '15': 607, 'thought': 608, 'contribute': 609, 'further': 610, 'viremia': 611, 'hcv': 612, 'rs3826047': 613, 'kidney': 614, 'loxl1': 615, 'squamous': 616, 'carcinoma': 617, 'can': 618, 'severe': 619, 'implicated': 620, 'hand': 621, 'play': 622, 'genotypic': 623, '439': 624, '115': 625, '858': 626, 'overall': 627, 'hypopharyngeal': 628, 'trait': 629, 'controlling': 630, 'fetal': 631, 'haemoglobin': 632, 'mi': 633, 'joubert': 634, 'leber': 635, 'congenital': 636, 'amaurosis': 637, 'toll': 638, 'summary': 639, 'comprehensive': 640, 'characteristics': 641, 'variables': 642, 'fistulae': 643, 'finally': 644, 'tested': 645, 'peripheral': 646, 'mononuclear': 647, 'stimulated': 648, 'produced': 649, 'hcnp': 650, 'muramyl': 651, 'dipeptide': 652, 'vascular': 653, 'growth': 654, 'promotes': 655, 'inducing': 656, 'signals': 657, 'flt': 658, 'hemolytic': 659, 'uremic': 660, 'syndrome': 661, 'bloody': 662, 'diarrhea': 663, 'plays': 664, 'pivotal': 665, 'mucosal': 666, 'inflammation': 667, 'seen': 668, 'enzyme': 669, 'bioactivation': 670, 'exogenous': 671, 'procarcinogens': 672, '49': 673, '96': 674, '84': 675, '06': 676, 'direct': 677, 'obtained': 678, 'hus': 679, 'assess': 680, 'immunohistochemistry': 681, 'minor': 682, 'foki': 683, 'met1thr': 684, 'cohort': 685, 'pediatric': 686, 'estradiol': 687, 'trans': 688, 'retinoic': 689, 'affects': 690, 'asp1104asp': 691, 'his1104his': 692, 'used': 693, 'identify': 694, 'set': 695, 'predicted': 696, '1q44': 697, 'downstream': 698, 'cias1': 699, 'regions': 700, 'particularly': 701, 'summarise': 702, 'detected': 703, 'rs4646421': 704, '30': 705, '69': 706, '70': 707, 'homozygote': 708, '60': 709, 'specimens': 710, 'rs11209026': 711, 'trio': 712, 'unadjusted': 713, 'slow': 714, 'fulminant': 715, 'composition': 716, 'coding': 717, 'affect': 718, 'fistulizing': 719, 'stricture': 720, 'localisation': 721, 'chance': 722, 'stenotic': 723, 'complications': 724, '91': 725, '71': 726, '022': 727, 'seemed': 728, 'protect': 729, 'colonic': 730, 'endoscopic': 731, 'radiologic': 732, 'examination': 733, '35': 734, '59': 735, '017': 736, 'node': 737, 'negative': 738, 'stage': 739, 'higher': 740, 'although': 741, 'cox': 742, 'overexpressed': 743, 'variety': 744, 'premalignant': 745, 'conditions': 746, 'relatively': 747, 'little': 748, 'ns': 749, '398': 750, 'nimesulide': 751, 'meloxicam': 752, 'advanced': 753, '1ra': 754, 'rs4251961': 755, 'regulated': 756, 'pancreatic': 757, 'deleted': 758, 'proximal': 759, 'mb': 760, 'interacts': 761, 'malate': 762, 'shuttle': 763, 'altered': 764, 'neuronal': 765, 'synthesis': 766, 'glutamate': 767, 'gamma': 768, 'amino': 769, 'butyric': 770, 'selective': 771, 'aa': 772, 'rs579543': 773, 'rs2575735': 774, 'syndecan': 775, 'g2677t': 776, 'granulocyte': 777, 'macrophage': 778, 'colony': 779, 'stimulating': 780, 'compound': 781, 'heterozygosity': 782, 'recurrent': 783, 'deep': 784, 'thrombosis': 785, 'epsilon3': 786, 'homozygotes': 787, 'neither': 788, 'nor': 789, 'carrier': 790, 'adjusted': 791, 'ratios': 792, '83': 793, '89': 794, 'value': 795, 'frequencies': 796, 'led': 797, '372': 798, 'taken': 799, 'together': 800, 'induction': 801, 'gc': 802, 'very': 803, 'developing': 804, 'wild': 805, '58': 806, 'antagonist': 807, 'cytokine': 808, 'counteract': 809, 'surprisingly': 810, 'incidence': 811, 'suggesting': 812, 'mycobacterium': 813, 'leprae': 814, 'subverts': 815, 'mechanism': 816, 'immune': 817, 'evasion': 818, 'metabolism': 819, 'viral': 820, 'load': 821, \"alzheimer's\": 822, 'supports': 823, 'ulcerative': 824, 'determine': 825, 'rs6503919': 826, 'mdr1': 827, 'regulate': 828, 'desensitize': 829, 'adenoma': 830, 'terms': 831, 'probably': 832, 'because': 833, 'saturation': 834, 'signaling': 835, 'sought': 836, 'evaluate': 837, 'reactive': 838, 'crp': 839, 'before': 840, 'successful': 841, 'mediated': 842, 'his1104asp': 843, 'conferred': 844, 'correlation': 845, 'defect': 846, 'hitherto': 847, 'unknown': 848, 'consistent': 849, 'hypothesis': 850, 'part': 851, 'constitutes': 852, 'rs42524': 853, 'yielded': 854, 'following': 855, 'yale': 856, 'generated': 857, 'predominantly': 858, 'autosomal': 859, 'dominant': 860, 'mode': 861, 'inheritance': 862, 'enzymes': 863, 'activated': 864, 'wall': 865, 'tension': 866, 'approaches': 867, 'tensile': 868, 'limits': 869, 'aortic': 870, 'time': 871, 'reaches': 872, '34': 873, 'percent': 874, 'suffered': 875, 'rupture': 876, 'extreme': 877, 'physical': 878, 'exertion': 879, 'emotion': 880, 'often': 881, 'precipitate': 882, 'rna': 883, 'profile': 884, 'changes': 885, 'predispose': 886, 'patient': 887, 'serve': 888, 'biomarkers': 889, 'screening': 890, 'virulent': 891, 'gpx2': 892, 'gpx1': 893, 'clock': 894, 'circadian': 895, 'modifier': 896, 'definitive': 897, 'contrast': 898, 'intestinal': 899, 'confirm': 900, 'different': 901, '1025g': 902, 'chr2': 903, '118': 904, '552': 905, '255': 906, 'nt': 907, '022135': 908, 'body': 909, 'mass': 910, 'index': 911, 'bmi': 912, 'scan': 913, 'framingham': 914, 'heart': 915, 'reproduced': 916, 'cohorts': 917, 'meckel': 918, 'syndromes': 919, 'dialysis': 920, 'meta': 921, '11': 922, 'inhibitor': 923, 'most': 924, 'xpd': 925, 'hcnppp': 926, 'elevated': 927, 'ethnicity': 928, 'makes': 929, 'substantial': 930, 'larger': 931, 'responses': 932, '7q22': 933, 'familial': 934, '011': 935, 'relapse': 936, 'hbs1l': 937, 'myb': 938, '6q23': 939, 'considered': 940, 'marker': 941, 'predict': 942, 'suffering': 943, 'oropharyngeal': 944, 'modifies': 945, 'pst1': 946, '1970': 947, '0001': 948, '00006': 949, 'tnfalpha': 950, '0002': 951, '000001': 952, 'versus': 953, 'polymorphic': 954, 'pro': 955, 'cytokines': 956, 'fold': 957, 'new': 958, 'might': 959, 'oxaliplatin': 960, 'assessed': 961, '234': 962, '248': 963, 'rs3093105': 964, 'rs3093135': 965, 'rs1558139': 966, 'rs2108622': 967, 'rs3093200': 968, 'especially': 969, 'vinblastine': 970, 'doxorubicin': 971, 'sle': 972, '12': 973, 'healthy': 974, 'studied': 975, 'donor': 976, 'graft': 977, 'lung': 978, '819t': 979, 'clarify': 980, 'reduction': 981, 'sequencing': 982, 'a1650g': 983, '1604g': 984, 'weak': 985, 'infection': 986, 'du': 987, 'crssnp': 988, 'rs10735810': 989, 'ongoing': 990, '142': 991, '281': 992, 'matched': 993, 'childhood': 994, 'much': 995, 'correlative': 996, 'until': 997, 'deficient': 998, 'accumulate': 999, 'mtdna': 1000, 'causative': 1001, 'proposed': 1002, 'hes': 1003, 'nalp3': 1004, 'cyclophilin': 1005, 'male': 1006, 'serser': 1007, 'demonstrate': 1008, 'possibly': 1009, 'implying': 1010, 'cardiovascular': 1011, 'rs2198843': 1012, 'recalcitrant': 1013, 'crswnp': 1014, '5t5t': 1015, '1613': 1016, '5t': 1017, '6t': 1018, 'conclude': 1019, 'stx': 1020, 'pathogenicity': 1021, 'researchers': 1022, 'failure': 1023, 'medical': 1024, 'surgical': 1025, 'rs2228570': 1026, 'tagging': 1027, 'cyp1a1': 1028, 'diplotypes': 1029, '1006': 1030, 'pathologically': 1031, 'confirmed': 1032, '1015': 1033, 'attributable': 1034, 'oral': 1035, 'leukoplakia': 1036, 'impact': 1037, 'surpassed': 1038, 'hairy': 1039, 'enhancer': 1040, 'split': 1041, 'homologue': 1042, 'sh3tc2': 1043, 'underlies': 1044, 'subcutaneous': 1045, 'suppresses': 1046, 'positive': 1047, 'training': 1048, 'rs4886605': 1049, 'antibody': 1050, 'passage': 1051, 'across': 1052, 'barrier': 1053, 'samp8': 1054, 'mouse': 1055, 'model': 1056, 'uptake': 1057, 'reversal': 1058, 'learning': 1059, 'impairment': 1060, 'subsequent': 1061, 'strong': 1062, 'cvcr': 1063, 'sample': 1064, '100': 1065, 'similarly': 1066, 'extracellular': 1067, 'molecule': 1068, 'initially': 1069, 'cloned': 1070, 'tgf': 1071, 'a1298c': 1072, 'mthfr': 1073, 'epsilon2': 1074, 'efficiency': 1075, '0047': 1076, 'aberrant': 1077, 'chitinase': 1078, 'ykl': 1079, 'integrated': 1080, 'molecular': 1081, 'good': 1082, 'treating': 1083, 'suppression': 1084, 'apoptosis': 1085, 'manner': 1086, 'statistical': 1087, '56': 1088, '36': 1089, '44': 1090, 'metastasis': 1091, '602s': 1092, 'apoe': 1093, 'influences': 1094, 'lipid': 1095, 'controversial': 1096, 'chemokine': 1097, 'only': 1098, '55': 1099, 'needed': 1100, 'target': 1101, 'thoroughly': 1102, 'hla': 1103, 'family': 1104, 'nlrp3': 1105, 'estrogen': 1106, 'downregulation': 1107, \"3'\": 1108, 'element': 1109, 'screened': 1110, 'importance': 1111, 'process': 1112, 'interestingly': 1113, 'diplotype': 1114, '76': 1115, '22': 1116, 'therefore': 1117, 'review': 1118, 'discusses': 1119, 'dysfunction': 1120, 'pre': 1121, 'cancerous': 1122, 'alterations': 1123, 'occur': 1124, 'nearly': 1125, '50': 1126, 'replicated': 1127, 'sets': 1128, 'except': 1129, 'spain': 1130, 'lysyl': 1131, 'oxidase': 1132, 'rare': 1133, 'glra1': 1134, 'authors': 1135, 'presence': 1136, 'occurrence': 1137, 'drive': 1138, 'unprotective': 1139, 'culminates': 1140, 'metalloproteinase': 1141, 'provides': 1142, 'epidemiologic': 1143, 'old': 1144, 'tnfsf4': 1145, 'npas2': 1146, '819c': 1147, 'original': 1148, 'finding': 1149, 'there': 1150, 'implicates': 1151, 'fat': 1152, 'nphp6': 1153, 'caused': 1154, 'proteins': 1155, 'olfactory': 1156, 'sensory': 1157, 'neurons': 1158, 'combining': 1159, '01': 1160, 'confer': 1161, 'similar': 1162, 'magnitude': 1163, 'children': 1164, 'counterparts': 1165, 'pair': 1166, 'confirms': 1167, 'crucial': 1168, 'enhanced': 1169, 'epsilon4': 1170, 'cypa': 1171, 'irrelevant': 1172, 'objective': 1173, 'heterogeneities': 1174, 'mutational': 1175, 'able': 1176, 'secrete': 1177, 'upon': 1178, 'stimulation': 1179, 'ligands': 1180, 'primary': 1181, 'open': 1182, 'angle': 1183, 'glaucoma': 1184, 'taqi': 1185, 'appeared': 1186, '80': 1187, '64': 1188, '047': 1189, 'contributions': 1190, 'forms': 1191, 'hepatocellular': 1192, 'thr256ser': 1193, 'fetuin': 1194, 'accelerated': 1195, 'highly': 1196, 'comparable': 1197, 'jewish': 1198, 'insig2': 1199, 'hepatitis': 1200, 'virus': 1201, 'hyperendemic': 1202, 'area': 1203, 'japan': 1204, 'c677t': 1205, '295': 1206, 'unrelated': 1207, 'here': 1208, '374': 1209, '380': 1210, '2702': 1211, 'physiological': 1212, 'phase': 1213, 'trial': 1214, 'topoisomerase': 1215, 'topo': 1216, 'poison': 1217, 'cpt': 1218, 'followed': 1219, 'cyclin': 1220, 'kinase': 1221, 'flavopiridol': 1222, 'indicate': 1223, 'whose': 1224, 'tumors': 1225, 'mutant': 1226, 'benefit': 1227, 'elevation': 1228, 'gsalpha': 1229, 'mutation': 1230, '763': 1231, '254': 1232, 'illumina': 1233, 'abi': 1234, 'methods': 1235, 'xeroderma': 1236, 'pigmentosum': 1237, 'complementation': 1238, 'group': 1239, 'xpg': 1240, 'identification': 1241, 'novel': 1242, 'mapping': 1243, 'systemic': 1244, 'lupus': 1245, 'erythematosus': 1246, 'calcification': 1247, 'correlates': 1248, 'negatively': 1249, 'either': 1250, 'middle': 1251, 'eastern': 1252, 'caucasian': 1253, 'families': 1254, 'suggested': 1255, 'modulate': 1256, 'smokers': 1257, 'ccag': 1258, 'ttgc': 1259, '04': 1260, 'amyloid': 1261, 'cover': 1262, 'whole': 1263, 'identifies': 1264, 'abeta': 1265, 'ckd': 1266, 'thus': 1267, 'prevent': 1268, 'undue': 1269, 'stimuli': 1270, 'driven': 1271, 'initiation': 1272, 'ala394thr': 1273, 'lys751gln': 1274, 'ias': 1275, 'multivariate': 1276, '205': 1277, '616': 1278, '667': 1279, 'smaller': 1280, 'number': 1281, 'cycles': 1282, '156': 1283, '037': 1284, '659': 1285, 'grade': 1286, 'greater': 1287, 'throughout': 1288, 'period': 1289, 'lysophosphatidic': 1290, 'facilitates': 1291, 'hbf': 1292, 'cutting': 1293, 'edge': 1294, 'impairs': 1295, 'surface': 1296, 'trafficking': 1297, 'protects': 1298, 'col1a2': 1299, '308': 1300, 'stratified': 1301, 'alcohol': 1302, 'increases': 1303, 'restricted': 1304, 'daily': 1305, 'drinkers': 1306, '63': 1307, '00': 1308, '88': 1309, '66': 1310, '19': 1311, '24': 1312, 'drink': 1313, 'years': 1314, 'unravel': 1315, 'regulating': 1316, 'clearly': 1317, 'indicated': 1318, 'lead': 1319, 'strategies': 1320, 'modify': 1321, 'hdaci': 1322, 'adenoviral': 1323, 'warrants': 1324, 'investigation': 1325, '002': 1326, 'genotyping': 1327, 'make': 1328, 'tailor': 1329, 'work': 1330, 'supported': 1331, 'fractures': 1332, 'lpa': 1333, 'requires': 1334, 'activation': 1335, '1alpha': 1336, '889': 1337, 'rs1784235': 1338, 'intracranial': 1339, 'aneurysms': 1340, 'predicts': 1341, 'receiving': 1342, 'myocardial': 1343, 'infarction': 1344, 'majority': 1345, 'deregulation': 1346, 'catenin': 1347, 'rs491347': 1348, 'predictor': 1349, 'methotrexate': 1350, 'cisplatin': 1351, 'prognostic': 1352, 'unselected': 1353, 'series': 1354, 'curative': 1355, 'intent': 1356, 'carcinomas': 1357, 'stages': 1358, 'regimens': 1359}\n"
     ]
    }
   ],
   "source": [
    "tokenizer = Tokenizer()\n",
    "tokenizer.fit_on_texts(vocab_txt)\n",
    "print(\"The document count\", tokenizer.document_count)\n",
    "print(\"The count of words\", tokenizer.word_counts)\n",
    "print(\"The word index\", tokenizer.word_index)"
   ]
  },
  {
   "cell_type": "code",
   "execution_count": 28,
   "metadata": {
    "id": "bNvR481KnDn6"
   },
   "outputs": [],
   "source": [
    "n_words = len(tokenizer.word_index.keys())"
   ]
  },
  {
   "cell_type": "code",
   "execution_count": 29,
   "metadata": {
    "colab": {
     "base_uri": "https://localhost:8080/"
    },
    "id": "hfh3-YBcnafm",
    "outputId": "3c84f597-ed16-4764-9538-0723a089c3de"
   },
   "outputs": [
    {
     "data": {
      "text/plain": [
       "1359"
      ]
     },
     "execution_count": 29,
     "metadata": {},
     "output_type": "execute_result"
    }
   ],
   "source": [
    "n_words"
   ]
  },
  {
   "cell_type": "code",
   "execution_count": 30,
   "metadata": {
    "colab": {
     "base_uri": "https://localhost:8080/"
    },
    "id": "ZbCH8eY4rWeA",
    "outputId": "e9612b9e-eb43-4521-ae97-126de5cf9ab1"
   },
   "outputs": [
    {
     "data": {
      "text/plain": [
       "284"
      ]
     },
     "execution_count": 30,
     "metadata": {},
     "output_type": "execute_result"
    }
   ],
   "source": [
    "len(train_texts)"
   ]
  },
  {
   "cell_type": "markdown",
   "metadata": {
    "id": "ficlztQjaUVa"
   },
   "source": [
    "### X & Y Prep"
   ]
  },
  {
   "cell_type": "code",
   "execution_count": 31,
   "metadata": {
    "id": "DP2TPmt4bjKd"
   },
   "outputs": [],
   "source": [
    "\n",
    "from keras.preprocessing.sequence import pad_sequences\n",
    "from keras.utils import to_categorical\n",
    "\n",
    "def getXYFromSentences(txts, lbls):\n",
    "  sequences = tokenizer.texts_to_sequences(txts)\n",
    "  X = pad_sequences(maxlen=max_len, sequences=sequences, padding=\"post\", truncating=\"post\")\n",
    "  # X = tokenizer.sequences_to_matrix(X)\n",
    "  y = np.array(lbls)\n",
    "  # y = np.array([to_categorical(i, num_classes=2) for i in y])\n",
    "  print(X.shape)\n",
    "  print(X[0:3])\n",
    "  print(y.shape)\n",
    "  print(y[0:3])\n",
    "  return X, y"
   ]
  },
  {
   "cell_type": "code",
   "execution_count": 32,
   "metadata": {
    "colab": {
     "base_uri": "https://localhost:8080/"
    },
    "id": "ZOBpJZHb3aYe",
    "outputId": "3893f6a3-f456-4a9f-92ed-4674681f25cc"
   },
   "outputs": [
    {
     "name": "stdout",
     "output_type": "stream",
     "text": [
      "(284, 128)\n",
      "[[  6 332 406   5 292   5   1 407 530 163   2  21  15   7 634   3   4 531\n",
      "  408 156 333   6 635 636 637 532   8 409   5 334 231 533 534   0   0   0\n",
      "    0   0   0   0   0   0   0   0   0   0   0   0   0   0   0   0   0   0\n",
      "    0   0   0   0   0   0   0   0   0   0   0   0   0   0   0   0   0   0\n",
      "    0   0   0   0   0   0   0   0   0   0   0   0   0   0   0   0   0   0\n",
      "    0   0   0   0   0   0   0   0   0   0   0   0   0   0   0   0   0   0\n",
      "    0   0   0   0   0   0   0   0   0   0   0   0   0   0   0   0   0   0\n",
      "    0   0]\n",
      " [638 410  67 147   2 125  21 126   6   4  27  34 232 233  25 127   3 164\n",
      "  293   0   0   0   0   0   0   0   0   0   0   0   0   0   0   0   0   0\n",
      "    0   0   0   0   0   0   0   0   0   0   0   0   0   0   0   0   0   0\n",
      "    0   0   0   0   0   0   0   0   0   0   0   0   0   0   0   0   0   0\n",
      "    0   0   0   0   0   0   0   0   0   0   0   0   0   0   0   0   0   0\n",
      "    0   0   0   0   0   0   0   0   0   0   0   0   0   0   0   0   0   0\n",
      "    0   0   0   0   0   0   0   0   0   0   0   0   0   0   0   0   0   0\n",
      "    0   0]\n",
      " [  6 639  49 148 234  55   2   2   3 335  23   3   8 640  92 197  74   3\n",
      "  294 641  43 411 642  78 412 260 234   7   4   0   0   0   0   0   0   0\n",
      "    0   0   0   0   0   0   0   0   0   0   0   0   0   0   0   0   0   0\n",
      "    0   0   0   0   0   0   0   0   0   0   0   0   0   0   0   0   0   0\n",
      "    0   0   0   0   0   0   0   0   0   0   0   0   0   0   0   0   0   0\n",
      "    0   0   0   0   0   0   0   0   0   0   0   0   0   0   0   0   0   0\n",
      "    0   0   0   0   0   0   0   0   0   0   0   0   0   0   0   0   0   0\n",
      "    0   0]]\n",
      "(284,)\n",
      "[1 1 1]\n"
     ]
    }
   ],
   "source": [
    "X_train, y_train = getXYFromSentences(train_texts, train_labels)"
   ]
  },
  {
   "cell_type": "code",
   "execution_count": 33,
   "metadata": {
    "colab": {
     "base_uri": "https://localhost:8080/"
    },
    "id": "Uqx7WZ5Mlu1C",
    "outputId": "db05f84b-83f9-41c9-d6a0-7752dd1bf2e1"
   },
   "outputs": [
    {
     "name": "stdout",
     "output_type": "stream",
     "text": [
      "(36, 128)\n",
      "[[  53 1276   92    1    2   13   59 1277   71   80   10 1278  262 1279\n",
      "    14   11  935    3 1280 1281    5  602 1282   13   11 1283   71   80\n",
      "    11 1284   11 1285   14   11  935   19  164  388   12    4 1286   79\n",
      "    13 1287 1288    1 1289    5  405    0    0    0    0    0    0    0\n",
      "     0    0    0    0    0    0    0    0    0    0    0    0    0    0\n",
      "     0    0    0    0    0    0    0    0    0    0    0    0    0    0\n",
      "     0    0    0    0    0    0    0    0    0    0    0    0    0    0\n",
      "     0    0    0    0    0    0    0    0    0    0    0    0    0    0\n",
      "     0    0    0    0    0    0    0    0    0    0    0    0    0    0\n",
      "     0    0]\n",
      " [ 627    3  936  573  338    6    4    3  628  616  401  617   52   15\n",
      "     7   77    5    2    2    0    0    0    0    0    0    0    0    0\n",
      "     0    0    0    0    0    0    0    0    0    0    0    0    0    0\n",
      "     0    0    0    0    0    0    0    0    0    0    0    0    0    0\n",
      "     0    0    0    0    0    0    0    0    0    0    0    0    0    0\n",
      "     0    0    0    0    0    0    0    0    0    0    0    0    0    0\n",
      "     0    0    0    0    0    0    0    0    0    0    0    0    0    0\n",
      "     0    0    0    0    0    0    0    0    0    0    0    0    0    0\n",
      "     0    0    0    0    0    0    0    0    0    0    0    0    0    0\n",
      "     0    0]\n",
      " [   1  937  938  327   50   53  185  939   21    8  160  629  167  630\n",
      "     2  331    6   68    5    4    0    0    0    0    0    0    0    0\n",
      "     0    0    0    0    0    0    0    0    0    0    0    0    0    0\n",
      "     0    0    0    0    0    0    0    0    0    0    0    0    0    0\n",
      "     0    0    0    0    0    0    0    0    0    0    0    0    0    0\n",
      "     0    0    0    0    0    0    0    0    0    0    0    0    0    0\n",
      "     0    0    0    0    0    0    0    0    0    0    0    0    0    0\n",
      "     0    0    0    0    0    0    0    0    0    0    0    0    0    0\n",
      "     0    0    0    0    0    0    0    0    0    0    0    0    0    0\n",
      "     0    0]]\n",
      "(36,)\n",
      "[1 1 0]\n"
     ]
    }
   ],
   "source": [
    "X_dev, y_dev = getXYFromSentences(dev_texts, dev_labels)"
   ]
  },
  {
   "cell_type": "code",
   "execution_count": 34,
   "metadata": {
    "colab": {
     "base_uri": "https://localhost:8080/"
    },
    "id": "vO2Ylt52cbpD",
    "outputId": "17456d9f-1d40-4910-f222-f8fe0955525f"
   },
   "outputs": [
    {
     "name": "stdout",
     "output_type": "stream",
     "text": [
      "(35, 128)\n",
      "[[   2   21    8 1247  923    3 1248 1249    7  251    4    6  920   22\n",
      "     0    0    0    0    0    0    0    0    0    0    0    0    0    0\n",
      "     0    0    0    0    0    0    0    0    0    0    0    0    0    0\n",
      "     0    0    0    0    0    0    0    0    0    0    0    0    0    0\n",
      "     0    0    0    0    0    0    0    0    0    0    0    0    0    0\n",
      "     0    0    0    0    0    0    0    0    0    0    0    0    0    0\n",
      "     0    0    0    0    0    0    0    0    0    0    0    0    0    0\n",
      "     0    0    0    0    0    0    0    0    0    0    0    0    0    0\n",
      "     0    0    0    0    0    0    0    0    0    0    0    0    0    0\n",
      "     0    0]\n",
      " [ 363  615   29    2  552    3  464   19   76   15    7    4    6    1\n",
      "   154   32    0    0    0    0    0    0    0    0    0    0    0    0\n",
      "     0    0    0    0    0    0    0    0    0    0    0    0    0    0\n",
      "     0    0    0    0    0    0    0    0    0    0    0    0    0    0\n",
      "     0    0    0    0    0    0    0    0    0    0    0    0    0    0\n",
      "     0    0    0    0    0    0    0    0    0    0    0    0    0    0\n",
      "     0    0    0    0    0    0    0    0    0    0    0    0    0    0\n",
      "     0    0    0    0    0    0    0    0    0    0    0    0    0    0\n",
      "     0    0    0    0    0    0    0    0    0    0    0    0    0    0\n",
      "     0    0]\n",
      " [  62   98    3   99   70  100    4  101    3  102   54  103   36   86\n",
      "    87   32   19   84   12   88   81    6   59   85   35   40   18   27\n",
      "   104  105  106  107   20   66   65   41  108  109   37   18  131  145\n",
      "   146  132  133  134  110  111    8    3  135  112   41  113   37   18\n",
      "   114  115    3  116  136   42  117   26  137   30   89   90    3    2\n",
      "   118   35  119   91    2   48  120  139   48   42  121   26    3  122\n",
      "   123   40    2  140  124  141  142  143    0    0    0    0    0    0\n",
      "     0    0    0    0    0    0    0    0    0    0    0    0    0    0\n",
      "     0    0    0    0    0    0    0    0    0    0    0    0    0    0\n",
      "     0    0]]\n",
      "(35,)\n",
      "[1 1 0]\n"
     ]
    }
   ],
   "source": [
    "X_test, y_test = getXYFromSentences(test_texts, test_labels)"
   ]
  },
  {
   "cell_type": "markdown",
   "metadata": {
    "id": "JmXgVQiFQVnN"
   },
   "source": [
    "## BiLSTM Model"
   ]
  },
  {
   "cell_type": "code",
   "execution_count": 35,
   "metadata": {
    "id": "ET2AHFutQNPY"
   },
   "outputs": [],
   "source": [
    "from keras import callbacks\n",
    "from keras.models import Model, Input, model_from_json\n",
    "from keras.layers import LSTM, Embedding, Dense, TimeDistributed, Dropout, Bidirectional\n",
    "from keras.optimizers import RMSprop"
   ]
  },
  {
   "cell_type": "code",
   "execution_count": 36,
   "metadata": {
    "id": "YHRrG7r7Qs-P"
   },
   "outputs": [],
   "source": [
    "def create_model():\n",
    "  input = Input(shape=(max_len,))\n",
    "  #in the line below --> laurance set the input_length = max_len-1 (NLP in TF Week4)\n",
    "  model = Embedding(input_dim=n_words, output_dim=50, input_length=max_len)(input)\n",
    "  model = Dropout(rate=0.1)(model)\n",
    "  model = Bidirectional(LSTM(units=100, return_sequences=False, recurrent_dropout=0.1))(model)\n",
    "  model = Dropout(rate=0.25)(model)\n",
    "  model = Dense(512, activation='relu')(model)  \n",
    "  model = Dropout(rate=0.25)(model)\n",
    "  out = Dense(1,  activation='sigmoid')(model)  # segmoid output layer (binary classification)\n",
    "  \n",
    "  return Model(input, out)"
   ]
  },
  {
   "cell_type": "code",
   "execution_count": 37,
   "metadata": {
    "colab": {
     "base_uri": "https://localhost:8080/"
    },
    "id": "v3oJQi__RZnw",
    "outputId": "2aa16025-0134-4c38-98b5-b1f4c0b804e2"
   },
   "outputs": [
    {
     "name": "stdout",
     "output_type": "stream",
     "text": [
      "WARNING:tensorflow:From /tensorflow-1.15.2/python3.7/tensorflow_core/python/ops/resource_variable_ops.py:1630: calling BaseResourceVariable.__init__ (from tensorflow.python.ops.resource_variable_ops) with constraint is deprecated and will be removed in a future version.\n",
      "Instructions for updating:\n",
      "If using Keras pass *_constraint arguments to layers.\n"
     ]
    }
   ],
   "source": [
    "model = create_model()"
   ]
  },
  {
   "cell_type": "code",
   "execution_count": 38,
   "metadata": {
    "colab": {
     "base_uri": "https://localhost:8080/"
    },
    "id": "tmgovNJTbxBO",
    "outputId": "9922bf58-679f-4720-d050-771fed52ee02"
   },
   "outputs": [
    {
     "name": "stdout",
     "output_type": "stream",
     "text": [
      "Model: \"model_1\"\n",
      "_________________________________________________________________\n",
      "Layer (type)                 Output Shape              Param #   \n",
      "=================================================================\n",
      "input_1 (InputLayer)         (None, 128)               0         \n",
      "_________________________________________________________________\n",
      "embedding_1 (Embedding)      (None, 128, 50)           67950     \n",
      "_________________________________________________________________\n",
      "dropout_1 (Dropout)          (None, 128, 50)           0         \n",
      "_________________________________________________________________\n",
      "bidirectional_1 (Bidirection (None, 200)               120800    \n",
      "_________________________________________________________________\n",
      "dropout_2 (Dropout)          (None, 200)               0         \n",
      "_________________________________________________________________\n",
      "dense_1 (Dense)              (None, 512)               102912    \n",
      "_________________________________________________________________\n",
      "dropout_3 (Dropout)          (None, 512)               0         \n",
      "_________________________________________________________________\n",
      "dense_2 (Dense)              (None, 1)                 513       \n",
      "=================================================================\n",
      "Total params: 292,175\n",
      "Trainable params: 292,175\n",
      "Non-trainable params: 0\n",
      "_________________________________________________________________\n"
     ]
    }
   ],
   "source": [
    "model.summary()"
   ]
  },
  {
   "cell_type": "code",
   "execution_count": 39,
   "metadata": {
    "id": "eaCVxITis-M0"
   },
   "outputs": [],
   "source": [
    "from tensorflow.keras.losses import BinaryCrossentropy"
   ]
  },
  {
   "cell_type": "code",
   "execution_count": 40,
   "metadata": {
    "colab": {
     "base_uri": "https://localhost:8080/"
    },
    "id": "qqtT84Q3RvEa",
    "outputId": "00cbff55-bb46-424b-cce7-ad0c0b42cc86"
   },
   "outputs": [
    {
     "name": "stdout",
     "output_type": "stream",
     "text": [
      "WARNING:tensorflow:From /tensorflow-1.15.2/python3.7/tensorflow_core/python/ops/nn_impl.py:183: where (from tensorflow.python.ops.array_ops) is deprecated and will be removed in a future version.\n",
      "Instructions for updating:\n",
      "Use tf.where in 2.0, which has the same broadcast rule as np.where\n"
     ]
    }
   ],
   "source": [
    "model.compile(optimizer=RMSprop(),loss=BinaryCrossentropy(reduction='sum_over_batch_size'), metrics=[\"accuracy\"])"
   ]
  },
  {
   "cell_type": "code",
   "execution_count": 41,
   "metadata": {
    "id": "Tuq9TL_hhba9"
   },
   "outputs": [],
   "source": [
    "class myCallback(callbacks.Callback):\n",
    "  def on_epoch_end(self, epoch, logs={}):\n",
    "    if(logs.get('accuracy')>=0.989):\n",
    "      print(\"\\nReached 98.9% accuracy so cancelling training!\")\n",
    "      self.model.stop_training = True\n",
    " "
   ]
  },
  {
   "cell_type": "code",
   "execution_count": 42,
   "metadata": {
    "colab": {
     "base_uri": "https://localhost:8080/"
    },
    "id": "87AaEwD8RyHe",
    "outputId": "1e937ef3-b950-4525-bcd1-879d1e4f585f"
   },
   "outputs": [
    {
     "name": "stdout",
     "output_type": "stream",
     "text": [
      "WARNING:tensorflow:From /tensorflow-1.15.2/python3.7/keras/backend/tensorflow_backend.py:422: The name tf.global_variables is deprecated. Please use tf.compat.v1.global_variables instead.\n",
      "\n",
      "Train on 284 samples, validate on 36 samples\n",
      "Epoch 1/10\n",
      "284/284 [==============================] - 3s 12ms/step - loss: 0.6031 - accuracy: 0.6866 - val_loss: 0.7594 - val_accuracy: 0.7222\n",
      "Epoch 2/10\n",
      "284/284 [==============================] - 2s 7ms/step - loss: 0.5658 - accuracy: 0.7359 - val_loss: 0.5926 - val_accuracy: 0.7222\n",
      "Epoch 3/10\n",
      "284/284 [==============================] - 2s 7ms/step - loss: 0.5026 - accuracy: 0.7465 - val_loss: 0.6015 - val_accuracy: 0.7222\n",
      "Epoch 4/10\n",
      "284/284 [==============================] - 2s 7ms/step - loss: 0.4128 - accuracy: 0.8239 - val_loss: 0.8899 - val_accuracy: 0.7222\n",
      "Epoch 5/10\n",
      "284/284 [==============================] - 2s 7ms/step - loss: 0.3726 - accuracy: 0.8275 - val_loss: 0.6684 - val_accuracy: 0.6667\n",
      "Epoch 6/10\n",
      "284/284 [==============================] - 2s 6ms/step - loss: 0.3370 - accuracy: 0.8345 - val_loss: 0.7357 - val_accuracy: 0.6944\n",
      "Epoch 7/10\n",
      "284/284 [==============================] - 2s 7ms/step - loss: 0.3128 - accuracy: 0.8732 - val_loss: 0.6847 - val_accuracy: 0.6667\n",
      "Epoch 8/10\n",
      "284/284 [==============================] - 2s 7ms/step - loss: 0.2709 - accuracy: 0.8908 - val_loss: 0.7045 - val_accuracy: 0.6667\n",
      "Epoch 9/10\n",
      "284/284 [==============================] - 2s 7ms/step - loss: 0.2374 - accuracy: 0.9120 - val_loss: 0.7561 - val_accuracy: 0.6944\n",
      "Epoch 10/10\n",
      "284/284 [==============================] - 2s 6ms/step - loss: 0.2134 - accuracy: 0.9120 - val_loss: 0.8691 - val_accuracy: 0.6667\n"
     ]
    }
   ],
   "source": [
    "history = model.fit(X_train, y_train, validation_data=(X_dev, y_dev), shuffle=True, batch_size=32, epochs=10, verbose=1, callbacks=[myCallback()])"
   ]
  },
  {
   "cell_type": "code",
   "execution_count": 43,
   "metadata": {
    "colab": {
     "base_uri": "https://localhost:8080/"
    },
    "id": "9_9TMZn28J7f",
    "outputId": "5c3dff78-2de4-4d40-af5e-e3b0a651aefc"
   },
   "outputs": [
    {
     "name": "stdout",
     "output_type": "stream",
     "text": [
      "Saved model to disk\n"
     ]
    }
   ],
   "source": [
    "save_model(model)"
   ]
  },
  {
   "cell_type": "code",
   "execution_count": 44,
   "metadata": {
    "id": "-74jERJeS6QM"
   },
   "outputs": [],
   "source": [
    "hist = pd.DataFrame(history.history)"
   ]
  },
  {
   "cell_type": "code",
   "execution_count": 45,
   "metadata": {
    "id": "3-ERn4Rc9J4_"
   },
   "outputs": [],
   "source": [
    "saveDataFrameToCSV(hist, training_history_csv, append=True)\n",
    " "
   ]
  },
  {
   "cell_type": "code",
   "execution_count": 46,
   "metadata": {
    "colab": {
     "base_uri": "https://localhost:8080/",
     "height": 717
    },
    "id": "MwJX2aS2W8Tf",
    "outputId": "7f0fb295-3651-494a-a4fb-c5dfc9c4aee1"
   },
   "outputs": [
    {
     "data": {
      "image/png": "[encoded data removed]",
      "text/plain": [
       "<Figure size 864x864 with 1 Axes>"
      ]
     },
     "metadata": {},
     "output_type": "display_data"
    }
   ],
   "source": [
    "plt.figure(figsize=(12,12))\n",
    "plt.plot(hist[\"accuracy\"], label=\"accuracy\")\n",
    "plt.plot(hist[\"val_accuracy\"], label=\"val_accuracy\")\n",
    "plt.title('Training and Validation Accuracy')\n",
    "plt.legend()\n",
    "plt.show()"
   ]
  },
  {
   "cell_type": "markdown",
   "metadata": {
    "id": "QZ9IBOOJjfcA"
   },
   "source": [
    "## Evaluation"
   ]
  },
  {
   "cell_type": "code",
   "execution_count": 47,
   "metadata": {
    "colab": {
     "base_uri": "https://localhost:8080/"
    },
    "id": "cBKRFu1dl2JD",
    "outputId": "8c3e9a8d-070f-4578-ddbb-f5ea6ac7cf07"
   },
   "outputs": [
    {
     "name": "stdout",
     "output_type": "stream",
     "text": [
      "35/35 [==============================] - 0s 5ms/step\n"
     ]
    },
    {
     "data": {
      "text/plain": [
       "[0.7387867927551269, 0.800000011920929]"
      ]
     },
     "execution_count": 47,
     "metadata": {},
     "output_type": "execute_result"
    }
   ],
   "source": [
    "model.evaluate(x=X_test, y=y_test, batch_size=32, verbose=1)"
   ]
  },
  {
   "cell_type": "code",
   "execution_count": 48,
   "metadata": {
    "colab": {
     "base_uri": "https://localhost:8080/"
    },
    "id": "fumZ3CdQeEGM",
    "outputId": "92266ffb-f78e-4e4a-cc3c-66c73ff62cc3"
   },
   "outputs": [
    {
     "name": "stdout",
     "output_type": "stream",
     "text": [
      "35/35 [==============================] - 0s 9ms/step\n"
     ]
    }
   ],
   "source": [
    "test_pred = model.predict(X_test, verbose=1)"
   ]
  },
  {
   "cell_type": "code",
   "execution_count": 49,
   "metadata": {
    "id": "zEFnBWkieXLT"
   },
   "outputs": [],
   "source": [
    "pred_labels = [ 1 if t >= 0.5 else 0 for t in test_pred]"
   ]
  },
  {
   "cell_type": "code",
   "execution_count": 50,
   "metadata": {
    "colab": {
     "base_uri": "https://localhost:8080/"
    },
    "id": "NGAEJyuTwjQb",
    "outputId": "8fd6d2f7-6bbd-4514-b87f-1f392f13f51a"
   },
   "outputs": [
    {
     "data": {
      "text/plain": [
       "array([[0.918664  ],\n",
       "       [0.5917058 ],\n",
       "       [0.18121982],\n",
       "       [0.9893353 ],\n",
       "       [0.95879054],\n",
       "       [0.9996673 ],\n",
       "       [0.99440134],\n",
       "       [0.9987055 ],\n",
       "       [0.94878   ],\n",
       "       [0.11504   ]], dtype=float32)"
      ]
     },
     "execution_count": 50,
     "metadata": {},
     "output_type": "execute_result"
    }
   ],
   "source": [
    "test_pred[0:10]"
   ]
  },
  {
   "cell_type": "code",
   "execution_count": 51,
   "metadata": {
    "colab": {
     "base_uri": "https://localhost:8080/"
    },
    "id": "KQt2MDKLwmla",
    "outputId": "a1b47bed-260b-4f61-9551-8933857acf88"
   },
   "outputs": [
    {
     "data": {
      "text/plain": [
       "[1, 1, 0, 1, 1, 1, 1, 1, 1, 0]"
      ]
     },
     "execution_count": 51,
     "metadata": {},
     "output_type": "execute_result"
    }
   ],
   "source": [
    "pred_labels[0:10]"
   ]
  },
  {
   "cell_type": "code",
   "execution_count": 52,
   "metadata": {
    "colab": {
     "base_uri": "https://localhost:8080/"
    },
    "id": "mt4P--j33UQu",
    "outputId": "5eab1602-1416-4936-ac8c-a02326f6d5d4"
   },
   "outputs": [
    {
     "data": {
      "text/plain": [
       "[1, 1, 0, 1, 1, 1, 1, 1, 0, 0]"
      ]
     },
     "execution_count": 52,
     "metadata": {},
     "output_type": "execute_result"
    }
   ],
   "source": [
    "test_labels[0:10]"
   ]
  },
  {
   "cell_type": "code",
   "execution_count": 53,
   "metadata": {
    "id": "t7_7c_lldqQC"
   },
   "outputs": [],
   "source": [
    "from classification_metrics import classification_report, replaceMultiple"
   ]
  },
  {
   "cell_type": "code",
   "execution_count": 54,
   "metadata": {
    "colab": {
     "base_uri": "https://localhost:8080/"
    },
    "id": "V7DB9mm5yCgL",
    "outputId": "e347b3ab-4373-40a1-ab35-244874b469d0"
   },
   "outputs": [
    {
     "name": "stdout",
     "output_type": "stream",
     "text": [
      "                        precision \t recall \t f1-score \t support\n",
      "\n",
      "                   0\t 0.57\t\t 0.50\t\t 0.53\t\t 8\t\n",
      "                   1\t 0.86\t\t 0.89\t\t 0.87\t\t 27\t\n",
      "\n",
      "\n",
      "macro avg           \t 0.71\t\t 0.69\t\t 0.70\t\t 35\t\n",
      "micro avg           \t 0.80\t\t 0.80\t\t 0.80\t\t 35\t\n",
      "\n"
     ]
    }
   ],
   "source": [
    "print(classification_report(test_labels, pred_labels))"
   ]
  },
  {
   "cell_type": "code",
   "execution_count": 54,
   "metadata": {
    "id": "uTPXtRpfygTs"
   },
   "outputs": [],
   "source": []
  }
 ],
 "metadata": {
  "accelerator": "GPU",
  "colab": {
   "collapsed_sections": [],
   "name": "BiLSTM_euadr.ipynb",
   "provenance": []
  },
  "kernelspec": {
   "display_name": "Python 3",
   "language": "python",
   "name": "python3"
  },
  "language_info": {
   "codemirror_mode": {
    "name": "ipython",
    "version": 3
   },
   "file_extension": ".py",
   "mimetype": "text/x-python",
   "name": "python",
   "nbconvert_exporter": "python",
   "pygments_lexer": "ipython3",
   "version": "3.6.6"
  }
 },
 "nbformat": 4,
 "nbformat_minor": 1
}
