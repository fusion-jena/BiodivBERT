{
 "cells": [
  {
   "cell_type": "code",
   "execution_count": 1,
   "metadata": {
    "colab": {
     "base_uri": "https://localhost:8080/"
    },
    "executionInfo": {
     "elapsed": 12,
     "status": "ok",
     "timestamp": 1649938061762,
     "user": {
      "displayName": "Nora Youssef",
      "userId": "03639374922222745842"
     },
     "user_tz": -120
    },
    "id": "sbkgVkuDmTDZ",
    "outputId": "ff214abf-447e-4d5c-c9fa-1c99d7255715"
   },
   "outputs": [
    {
     "name": "stdout",
     "output_type": "stream",
     "text": [
      "TensorFlow 1.x selected.\n"
     ]
    }
   ],
   "source": [
    "%tensorflow_version 1.x"
   ]
  },
  {
   "cell_type": "code",
   "execution_count": 2,
   "metadata": {
    "colab": {
     "base_uri": "https://localhost:8080/"
    },
    "executionInfo": {
     "elapsed": 30571,
     "status": "ok",
     "timestamp": 1649938092329,
     "user": {
      "displayName": "Nora Youssef",
      "userId": "03639374922222745842"
     },
     "user_tz": -120
    },
    "id": "TNeeSq0SLU8A",
    "outputId": "fd21a7e8-cd53-432c-f95d-abae75607af9"
   },
   "outputs": [
    {
     "name": "stdout",
     "output_type": "stream",
     "text": [
      "Mounted at /content/drive\n"
     ]
    }
   ],
   "source": [
    "# Load the Drive helper and mount\n",
    "from google.colab import drive\n",
    "drive.mount('/content/drive')"
   ]
  },
  {
   "cell_type": "code",
   "execution_count": 3,
   "metadata": {
    "colab": {
     "base_uri": "https://localhost:8080/"
    },
    "executionInfo": {
     "elapsed": 522,
     "status": "ok",
     "timestamp": 1649938092847,
     "user": {
      "displayName": "Nora Youssef",
      "userId": "03639374922222745842"
     },
     "user_tz": -120
    },
    "id": "qcsYD2yEMVkc",
    "outputId": "5d850f8e-7eb6-44de-cda1-a4bd377447a8"
   },
   "outputs": [
    {
     "name": "stdout",
     "output_type": "stream",
     "text": [
      "/content/drive/My Drive/Colab Notebooks/BiodivBERT-RE\n"
     ]
    }
   ],
   "source": [
    "cd \"/content/drive/My Drive/Colab Notebooks/BiodivBERT-RE/\""
   ]
  },
  {
   "cell_type": "code",
   "execution_count": 4,
   "metadata": {
    "executionInfo": {
     "elapsed": 5,
     "status": "ok",
     "timestamp": 1649938092847,
     "user": {
      "displayName": "Nora Youssef",
      "userId": "03639374922222745842"
     },
     "user_tz": -120
    },
    "id": "R4YFOyhD8l_1"
   },
   "outputs": [],
   "source": [
    "import os"
   ]
  },
  {
   "cell_type": "code",
   "execution_count": 5,
   "metadata": {
    "colab": {
     "base_uri": "https://localhost:8080/"
    },
    "executionInfo": {
     "elapsed": 6,
     "status": "ok",
     "timestamp": 1649938092848,
     "user": {
      "displayName": "Nora Youssef",
      "userId": "03639374922222745842"
     },
     "user_tz": -120
    },
    "id": "awapx8haNr-U",
    "outputId": "7d69c147-2225-4f1d-fd15-2ee59b49fdd2"
   },
   "outputs": [
    {
     "name": "stdout",
     "output_type": "stream",
     "text": [
      "/content/drive/My Drive/Colab Notebooks/BiodivBERT-RE/datasets/GAD\n"
     ]
    }
   ],
   "source": [
    "root_dir = \"/content/drive/My Drive/Colab Notebooks/BiodivBERT-RE/\"\n",
    "\n",
    "root_data_dir = os.path.join(root_dir, \"datasets\", \"GAD\")\n",
    "print(root_data_dir)\n",
    "\n",
    "dataset = \"train\"\n",
    "csv_file_path = \"train.csv\"\n",
    "\n",
    "offline_model_file = os.path.join(root_dir, \"BiLSTM-GAD-model\")\n",
    "training_history_csv = \"training_history.csv\""
   ]
  },
  {
   "cell_type": "markdown",
   "metadata": {
    "id": "eQFFmGZG-X05"
   },
   "source": [
    "## Util"
   ]
  },
  {
   "cell_type": "code",
   "execution_count": 6,
   "metadata": {
    "executionInfo": {
     "elapsed": 4,
     "status": "ok",
     "timestamp": 1649938092848,
     "user": {
      "displayName": "Nora Youssef",
      "userId": "03639374922222745842"
     },
     "user_tz": -120
    },
    "id": "8LihPGwb92iK"
   },
   "outputs": [],
   "source": [
    "def load_model():\n",
    "    json_file = open(offline_model_file+\".json\", 'r')\n",
    "    loaded_model_json = json_file.read()\n",
    "    json_file.close()\n",
    "    new_model = model_from_json(loaded_model_json)\n",
    "    # load weights into new model\n",
    "    new_model.load_weights(offline_model_file+\".h5\")\n",
    "    print(\"Loaded model from disk\")\n",
    "    return new_model"
   ]
  },
  {
   "cell_type": "code",
   "execution_count": 7,
   "metadata": {
    "executionInfo": {
     "elapsed": 4,
     "status": "ok",
     "timestamp": 1649938092848,
     "user": {
      "displayName": "Nora Youssef",
      "userId": "03639374922222745842"
     },
     "user_tz": -120
    },
    "id": "WaGNPxjM98Ds"
   },
   "outputs": [],
   "source": [
    "def save_model(model):\n",
    "    # serialize model to JSON\n",
    "    model_json = model.to_json()\n",
    "    \n",
    "    with open(offline_model_file+\".json\", \"w\") as json_file:\n",
    "        json_file.write(model_json)\n",
    "    # serialize weights to HDF5\n",
    "    model.save_weights(offline_model_file+\".h5\")\n",
    "    print(\"Saved model to disk\")"
   ]
  },
  {
   "cell_type": "code",
   "execution_count": 8,
   "metadata": {
    "executionInfo": {
     "elapsed": 3,
     "status": "ok",
     "timestamp": 1649938092848,
     "user": {
      "displayName": "Nora Youssef",
      "userId": "03639374922222745842"
     },
     "user_tz": -120
    },
    "id": "sF6IG8FM8WqT"
   },
   "outputs": [],
   "source": [
    "def saveDataFrameToCSV(pd1, csv_path, append):  \n",
    "  dataset_path = os.path.join(root_dir, csv_path)  \n",
    "  \n",
    "  if append:\n",
    "    with open(dataset_path, 'a+') as f:    \n",
    "      pd1.to_csv(dataset_path,  mode='a', index=False, header=False)    \n",
    "  else:\n",
    "    with open(dataset_path, 'a+') as f:    \n",
    "      pd1.to_csv(dataset_path,  mode='a', index=False, header=True)"
   ]
  },
  {
   "cell_type": "markdown",
   "metadata": {
    "id": "10yeK7623aaY"
   },
   "source": [
    "## Dataset Preprocessing\n"
   ]
  },
  {
   "cell_type": "code",
   "execution_count": 9,
   "metadata": {
    "executionInfo": {
     "elapsed": 824,
     "status": "ok",
     "timestamp": 1649938093669,
     "user": {
      "displayName": "Nora Youssef",
      "userId": "03639374922222745842"
     },
     "user_tz": -120
    },
    "id": "GT1NMGBw3aaU"
   },
   "outputs": [],
   "source": [
    "import os\n",
    "import pandas as pd\n",
    "import numpy as np"
   ]
  },
  {
   "cell_type": "code",
   "execution_count": 10,
   "metadata": {
    "executionInfo": {
     "elapsed": 3,
     "status": "ok",
     "timestamp": 1649938093669,
     "user": {
      "displayName": "Nora Youssef",
      "userId": "03639374922222745842"
     },
     "user_tz": -120
    },
    "id": "ybHlNSgxcwL1"
   },
   "outputs": [],
   "source": [
    "def loadData(csv_file_path, header=None, index_col=None):\n",
    "  dataset_path = os.path.join(root_data_dir, csv_file_path)\n",
    "  data = pd.read_csv(dataset_path, encoding=\"latin1\", sep=',', header=header, index_col=index_col)\n",
    "  data = data.fillna(method=\"ffill\")\n",
    "  return data"
   ]
  },
  {
   "cell_type": "code",
   "execution_count": 11,
   "metadata": {
    "executionInfo": {
     "elapsed": 2069,
     "status": "ok",
     "timestamp": 1649938095736,
     "user": {
      "displayName": "Nora Youssef",
      "userId": "03639374922222745842"
     },
     "user_tz": -120
    },
    "id": "cTEqN_U_3aZ3"
   },
   "outputs": [],
   "source": [
    "data_train = loadData(csv_file_path='train.csv', header=0, index_col=None)"
   ]
  },
  {
   "cell_type": "code",
   "execution_count": 12,
   "metadata": {
    "colab": {
     "base_uri": "https://localhost:8080/",
     "height": 363
    },
    "executionInfo": {
     "elapsed": 5,
     "status": "ok",
     "timestamp": 1649938095736,
     "user": {
      "displayName": "Nora Youssef",
      "userId": "03639374922222745842"
     },
     "user_tz": -120
    },
    "id": "DdpwuNQtpOk0",
    "outputId": "0751e62b-7df6-40fd-c3ff-b8b702816d9a"
   },
   "outputs": [
    {
     "data": {
      "text/html": [
       "\n",
       "  <div id=\"df-d31a3224-8802-4fc0-aa21-350091ac16ee\">\n",
       "    <div class=\"colab-df-container\">\n",
       "      <div>\n",
       "<style scoped>\n",
       "    .dataframe tbody tr th:only-of-type {\n",
       "        vertical-align: middle;\n",
       "    }\n",
       "\n",
       "    .dataframe tbody tr th {\n",
       "        vertical-align: top;\n",
       "    }\n",
       "\n",
       "    .dataframe thead th {\n",
       "        text-align: right;\n",
       "    }\n",
       "</style>\n",
       "<table border=\"1\" class=\"dataframe\">\n",
       "  <thead>\n",
       "    <tr style=\"text-align: right;\">\n",
       "      <th></th>\n",
       "      <th>sentence</th>\n",
       "      <th>label</th>\n",
       "    </tr>\n",
       "  </thead>\n",
       "  <tbody>\n",
       "    <tr>\n",
       "      <th>0</th>\n",
       "      <td>this study proposes that A/A genotype at posit...</td>\n",
       "      <td>1</td>\n",
       "    </tr>\n",
       "    <tr>\n",
       "      <th>1</th>\n",
       "      <td>Common polymorphisms in the genes @GENE$ and L...</td>\n",
       "      <td>1</td>\n",
       "    </tr>\n",
       "    <tr>\n",
       "      <th>2</th>\n",
       "      <td>Results do not support any overall association...</td>\n",
       "      <td>1</td>\n",
       "    </tr>\n",
       "    <tr>\n",
       "      <th>3</th>\n",
       "      <td>@GENE$ methylation occurs frequently in human ...</td>\n",
       "      <td>0</td>\n",
       "    </tr>\n",
       "    <tr>\n",
       "      <th>4</th>\n",
       "      <td>In conclusion, @GENE$ 8092C &gt; A polymorphism m...</td>\n",
       "      <td>1</td>\n",
       "    </tr>\n",
       "    <tr>\n",
       "      <th>5</th>\n",
       "      <td>Allele A in @GENE$ gene +252 site can signific...</td>\n",
       "      <td>1</td>\n",
       "    </tr>\n",
       "    <tr>\n",
       "      <th>6</th>\n",
       "      <td>Our data indicate that the -160 single nucleot...</td>\n",
       "      <td>1</td>\n",
       "    </tr>\n",
       "    <tr>\n",
       "      <th>7</th>\n",
       "      <td>These results suggest that the @GENE$/-159 pol...</td>\n",
       "      <td>0</td>\n",
       "    </tr>\n",
       "    <tr>\n",
       "      <th>8</th>\n",
       "      <td>there is no evidence for an association of @GE...</td>\n",
       "      <td>1</td>\n",
       "    </tr>\n",
       "    <tr>\n",
       "      <th>9</th>\n",
       "      <td>The association between the @GENE$ G allele an...</td>\n",
       "      <td>1</td>\n",
       "    </tr>\n",
       "  </tbody>\n",
       "</table>\n",
       "</div>\n",
       "      <button class=\"colab-df-convert\" onclick=\"convertToInteractive('df-d31a3224-8802-4fc0-aa21-350091ac16ee')\"\n",
       "              title=\"Convert this dataframe to an interactive table.\"\n",
       "              style=\"display:none;\">\n",
       "        \n",
       "  <svg xmlns=\"http://www.w3.org/2000/svg\" height=\"24px\"viewBox=\"0 0 24 24\"\n",
       "       width=\"24px\">\n",
       "    <path d=\"M0 0h24v24H0V0z\" fill=\"none\"/>\n",
       "    <path d=\"M18.56 5.44l.94 2.06.94-2.06 2.06-.94-2.06-.94-.94-2.06-.94 2.06-2.06.94zm-11 1L8.5 8.5l.94-2.06 2.06-.94-2.06-.94L8.5 2.5l-.94 2.06-2.06.94zm10 10l.94 2.06.94-2.06 2.06-.94-2.06-.94-.94-2.06-.94 2.06-2.06.94z\"/><path d=\"M17.41 7.96l-1.37-1.37c-.4-.4-.92-.59-1.43-.59-.52 0-1.04.2-1.43.59L10.3 9.45l-7.72 7.72c-.78.78-.78 2.05 0 2.83L4 21.41c.39.39.9.59 1.41.59.51 0 1.02-.2 1.41-.59l7.78-7.78 2.81-2.81c.8-.78.8-2.07 0-2.86zM5.41 20L4 18.59l7.72-7.72 1.47 1.35L5.41 20z\"/>\n",
       "  </svg>\n",
       "      </button>\n",
       "      \n",
       "  <style>\n",
       "    .colab-df-container {\n",
       "      display:flex;\n",
       "      flex-wrap:wrap;\n",
       "      gap: 12px;\n",
       "    }\n",
       "\n",
       "    .colab-df-convert {\n",
       "      background-color: #E8F0FE;\n",
       "      border: none;\n",
       "      border-radius: 50%;\n",
       "      cursor: pointer;\n",
       "      display: none;\n",
       "      fill: #1967D2;\n",
       "      height: 32px;\n",
       "      padding: 0 0 0 0;\n",
       "      width: 32px;\n",
       "    }\n",
       "\n",
       "    .colab-df-convert:hover {\n",
       "      background-color: #E2EBFA;\n",
       "      box-shadow: 0px 1px 2px rgba(60, 64, 67, 0.3), 0px 1px 3px 1px rgba(60, 64, 67, 0.15);\n",
       "      fill: #174EA6;\n",
       "    }\n",
       "\n",
       "    [theme=dark] .colab-df-convert {\n",
       "      background-color: #3B4455;\n",
       "      fill: #D2E3FC;\n",
       "    }\n",
       "\n",
       "    [theme=dark] .colab-df-convert:hover {\n",
       "      background-color: #434B5C;\n",
       "      box-shadow: 0px 1px 3px 1px rgba(0, 0, 0, 0.15);\n",
       "      filter: drop-shadow(0px 1px 2px rgba(0, 0, 0, 0.3));\n",
       "      fill: #FFFFFF;\n",
       "    }\n",
       "  </style>\n",
       "\n",
       "      <script>\n",
       "        const buttonEl =\n",
       "          document.querySelector('#df-d31a3224-8802-4fc0-aa21-350091ac16ee button.colab-df-convert');\n",
       "        buttonEl.style.display =\n",
       "          google.colab.kernel.accessAllowed ? 'block' : 'none';\n",
       "\n",
       "        async function convertToInteractive(key) {\n",
       "          const element = document.querySelector('#df-d31a3224-8802-4fc0-aa21-350091ac16ee');\n",
       "          const dataTable =\n",
       "            await google.colab.kernel.invokeFunction('convertToInteractive',\n",
       "                                                     [key], {});\n",
       "          if (!dataTable) return;\n",
       "\n",
       "          const docLinkHtml = 'Like what you see? Visit the ' +\n",
       "            '<a target=\"_blank\" href=https://colab.research.google.com/notebooks/data_table.ipynb>data table notebook</a>'\n",
       "            + ' to learn more about interactive tables.';\n",
       "          element.innerHTML = '';\n",
       "          dataTable['output_type'] = 'display_data';\n",
       "          await google.colab.output.renderOutput(dataTable, element);\n",
       "          const docLink = document.createElement('div');\n",
       "          docLink.innerHTML = docLinkHtml;\n",
       "          element.appendChild(docLink);\n",
       "        }\n",
       "      </script>\n",
       "    </div>\n",
       "  </div>\n",
       "  "
      ],
      "text/plain": [
       "                                            sentence  label\n",
       "0  this study proposes that A/A genotype at posit...      1\n",
       "1  Common polymorphisms in the genes @GENE$ and L...      1\n",
       "2  Results do not support any overall association...      1\n",
       "3  @GENE$ methylation occurs frequently in human ...      0\n",
       "4  In conclusion, @GENE$ 8092C > A polymorphism m...      1\n",
       "5  Allele A in @GENE$ gene +252 site can signific...      1\n",
       "6  Our data indicate that the -160 single nucleot...      1\n",
       "7  These results suggest that the @GENE$/-159 pol...      0\n",
       "8  there is no evidence for an association of @GE...      1\n",
       "9  The association between the @GENE$ G allele an...      1"
      ]
     },
     "execution_count": 12,
     "metadata": {},
     "output_type": "execute_result"
    }
   ],
   "source": [
    "data_train.head(10)"
   ]
  },
  {
   "cell_type": "code",
   "execution_count": 13,
   "metadata": {
    "executionInfo": {
     "elapsed": 936,
     "status": "ok",
     "timestamp": 1649938096669,
     "user": {
      "displayName": "Nora Youssef",
      "userId": "03639374922222745842"
     },
     "user_tz": -120
    },
    "id": "9IdHVyeXvDaX"
   },
   "outputs": [],
   "source": [
    "data_test = loadData(csv_file_path='test.csv', header=0, index_col=None)"
   ]
  },
  {
   "cell_type": "code",
   "execution_count": 14,
   "metadata": {
    "colab": {
     "base_uri": "https://localhost:8080/",
     "height": 363
    },
    "executionInfo": {
     "elapsed": 6,
     "status": "ok",
     "timestamp": 1649938096670,
     "user": {
      "displayName": "Nora Youssef",
      "userId": "03639374922222745842"
     },
     "user_tz": -120
    },
    "id": "6RoM6YevsjB1",
    "outputId": "56ff125d-f447-4a5e-e3e2-70c8c707d6bd"
   },
   "outputs": [
    {
     "data": {
      "text/html": [
       "\n",
       "  <div id=\"df-498c9e33-20fb-4715-9d28-f648a63a4f18\">\n",
       "    <div class=\"colab-df-container\">\n",
       "      <div>\n",
       "<style scoped>\n",
       "    .dataframe tbody tr th:only-of-type {\n",
       "        vertical-align: middle;\n",
       "    }\n",
       "\n",
       "    .dataframe tbody tr th {\n",
       "        vertical-align: top;\n",
       "    }\n",
       "\n",
       "    .dataframe thead th {\n",
       "        text-align: right;\n",
       "    }\n",
       "</style>\n",
       "<table border=\"1\" class=\"dataframe\">\n",
       "  <thead>\n",
       "    <tr style=\"text-align: right;\">\n",
       "      <th></th>\n",
       "      <th>sentence</th>\n",
       "      <th>label</th>\n",
       "    </tr>\n",
       "  </thead>\n",
       "  <tbody>\n",
       "    <tr>\n",
       "      <th>0</th>\n",
       "      <td>Our findings indicate that the @GENE$ @DISEASE...</td>\n",
       "      <td>0</td>\n",
       "    </tr>\n",
       "    <tr>\n",
       "      <th>1</th>\n",
       "      <td>The results suggest that the @GENE$ gene may n...</td>\n",
       "      <td>0</td>\n",
       "    </tr>\n",
       "    <tr>\n",
       "      <th>2</th>\n",
       "      <td>These results suggest that unlike for other ca...</td>\n",
       "      <td>1</td>\n",
       "    </tr>\n",
       "    <tr>\n",
       "      <th>3</th>\n",
       "      <td>Our findings suggest that the @GENE$-repeat po...</td>\n",
       "      <td>0</td>\n",
       "    </tr>\n",
       "    <tr>\n",
       "      <th>4</th>\n",
       "      <td>The findings of this large study strongly supp...</td>\n",
       "      <td>0</td>\n",
       "    </tr>\n",
       "    <tr>\n",
       "      <th>5</th>\n",
       "      <td>These studies support that @GENE$ mutations ar...</td>\n",
       "      <td>0</td>\n",
       "    </tr>\n",
       "    <tr>\n",
       "      <th>6</th>\n",
       "      <td>These results suggest that @GENE$ variants may...</td>\n",
       "      <td>1</td>\n",
       "    </tr>\n",
       "    <tr>\n",
       "      <th>7</th>\n",
       "      <td>The data obtained in the present study strengt...</td>\n",
       "      <td>0</td>\n",
       "    </tr>\n",
       "    <tr>\n",
       "      <th>8</th>\n",
       "      <td>We observed that @GENE$ G395A polymorphism was...</td>\n",
       "      <td>0</td>\n",
       "    </tr>\n",
       "    <tr>\n",
       "      <th>9</th>\n",
       "      <td>Our results provide no evidence for an associa...</td>\n",
       "      <td>1</td>\n",
       "    </tr>\n",
       "  </tbody>\n",
       "</table>\n",
       "</div>\n",
       "      <button class=\"colab-df-convert\" onclick=\"convertToInteractive('df-498c9e33-20fb-4715-9d28-f648a63a4f18')\"\n",
       "              title=\"Convert this dataframe to an interactive table.\"\n",
       "              style=\"display:none;\">\n",
       "        \n",
       "  <svg xmlns=\"http://www.w3.org/2000/svg\" height=\"24px\"viewBox=\"0 0 24 24\"\n",
       "       width=\"24px\">\n",
       "    <path d=\"M0 0h24v24H0V0z\" fill=\"none\"/>\n",
       "    <path d=\"M18.56 5.44l.94 2.06.94-2.06 2.06-.94-2.06-.94-.94-2.06-.94 2.06-2.06.94zm-11 1L8.5 8.5l.94-2.06 2.06-.94-2.06-.94L8.5 2.5l-.94 2.06-2.06.94zm10 10l.94 2.06.94-2.06 2.06-.94-2.06-.94-.94-2.06-.94 2.06-2.06.94z\"/><path d=\"M17.41 7.96l-1.37-1.37c-.4-.4-.92-.59-1.43-.59-.52 0-1.04.2-1.43.59L10.3 9.45l-7.72 7.72c-.78.78-.78 2.05 0 2.83L4 21.41c.39.39.9.59 1.41.59.51 0 1.02-.2 1.41-.59l7.78-7.78 2.81-2.81c.8-.78.8-2.07 0-2.86zM5.41 20L4 18.59l7.72-7.72 1.47 1.35L5.41 20z\"/>\n",
       "  </svg>\n",
       "      </button>\n",
       "      \n",
       "  <style>\n",
       "    .colab-df-container {\n",
       "      display:flex;\n",
       "      flex-wrap:wrap;\n",
       "      gap: 12px;\n",
       "    }\n",
       "\n",
       "    .colab-df-convert {\n",
       "      background-color: #E8F0FE;\n",
       "      border: none;\n",
       "      border-radius: 50%;\n",
       "      cursor: pointer;\n",
       "      display: none;\n",
       "      fill: #1967D2;\n",
       "      height: 32px;\n",
       "      padding: 0 0 0 0;\n",
       "      width: 32px;\n",
       "    }\n",
       "\n",
       "    .colab-df-convert:hover {\n",
       "      background-color: #E2EBFA;\n",
       "      box-shadow: 0px 1px 2px rgba(60, 64, 67, 0.3), 0px 1px 3px 1px rgba(60, 64, 67, 0.15);\n",
       "      fill: #174EA6;\n",
       "    }\n",
       "\n",
       "    [theme=dark] .colab-df-convert {\n",
       "      background-color: #3B4455;\n",
       "      fill: #D2E3FC;\n",
       "    }\n",
       "\n",
       "    [theme=dark] .colab-df-convert:hover {\n",
       "      background-color: #434B5C;\n",
       "      box-shadow: 0px 1px 3px 1px rgba(0, 0, 0, 0.15);\n",
       "      filter: drop-shadow(0px 1px 2px rgba(0, 0, 0, 0.3));\n",
       "      fill: #FFFFFF;\n",
       "    }\n",
       "  </style>\n",
       "\n",
       "      <script>\n",
       "        const buttonEl =\n",
       "          document.querySelector('#df-498c9e33-20fb-4715-9d28-f648a63a4f18 button.colab-df-convert');\n",
       "        buttonEl.style.display =\n",
       "          google.colab.kernel.accessAllowed ? 'block' : 'none';\n",
       "\n",
       "        async function convertToInteractive(key) {\n",
       "          const element = document.querySelector('#df-498c9e33-20fb-4715-9d28-f648a63a4f18');\n",
       "          const dataTable =\n",
       "            await google.colab.kernel.invokeFunction('convertToInteractive',\n",
       "                                                     [key], {});\n",
       "          if (!dataTable) return;\n",
       "\n",
       "          const docLinkHtml = 'Like what you see? Visit the ' +\n",
       "            '<a target=\"_blank\" href=https://colab.research.google.com/notebooks/data_table.ipynb>data table notebook</a>'\n",
       "            + ' to learn more about interactive tables.';\n",
       "          element.innerHTML = '';\n",
       "          dataTable['output_type'] = 'display_data';\n",
       "          await google.colab.output.renderOutput(dataTable, element);\n",
       "          const docLink = document.createElement('div');\n",
       "          docLink.innerHTML = docLinkHtml;\n",
       "          element.appendChild(docLink);\n",
       "        }\n",
       "      </script>\n",
       "    </div>\n",
       "  </div>\n",
       "  "
      ],
      "text/plain": [
       "                                            sentence  label\n",
       "0  Our findings indicate that the @GENE$ @DISEASE...      0\n",
       "1  The results suggest that the @GENE$ gene may n...      0\n",
       "2  These results suggest that unlike for other ca...      1\n",
       "3  Our findings suggest that the @GENE$-repeat po...      0\n",
       "4  The findings of this large study strongly supp...      0\n",
       "5  These studies support that @GENE$ mutations ar...      0\n",
       "6  These results suggest that @GENE$ variants may...      1\n",
       "7  The data obtained in the present study strengt...      0\n",
       "8  We observed that @GENE$ G395A polymorphism was...      0\n",
       "9  Our results provide no evidence for an associa...      1"
      ]
     },
     "execution_count": 14,
     "metadata": {},
     "output_type": "execute_result"
    }
   ],
   "source": [
    "data_test.head(10)"
   ]
  },
  {
   "cell_type": "code",
   "execution_count": 15,
   "metadata": {
    "executionInfo": {
     "elapsed": 538,
     "status": "ok",
     "timestamp": 1649938097204,
     "user": {
      "displayName": "Nora Youssef",
      "userId": "03639374922222745842"
     },
     "user_tz": -120
    },
    "id": "hgCqXHBUdeYM"
   },
   "outputs": [],
   "source": [
    "data_dev = loadData(csv_file_path='dev.csv', header=0, index_col=None)"
   ]
  },
  {
   "cell_type": "code",
   "execution_count": 16,
   "metadata": {
    "colab": {
     "base_uri": "https://localhost:8080/",
     "height": 363
    },
    "executionInfo": {
     "elapsed": 8,
     "status": "ok",
     "timestamp": 1649938097204,
     "user": {
      "displayName": "Nora Youssef",
      "userId": "03639374922222745842"
     },
     "user_tz": -120
    },
    "id": "ShhhNZU_de6T",
    "outputId": "8ebbb1e9-06c5-44e0-b799-839320bbe0a0"
   },
   "outputs": [
    {
     "data": {
      "text/html": [
       "\n",
       "  <div id=\"df-8dfc5faa-f2e2-4562-a53a-c768554e392e\">\n",
       "    <div class=\"colab-df-container\">\n",
       "      <div>\n",
       "<style scoped>\n",
       "    .dataframe tbody tr th:only-of-type {\n",
       "        vertical-align: middle;\n",
       "    }\n",
       "\n",
       "    .dataframe tbody tr th {\n",
       "        vertical-align: top;\n",
       "    }\n",
       "\n",
       "    .dataframe thead th {\n",
       "        text-align: right;\n",
       "    }\n",
       "</style>\n",
       "<table border=\"1\" class=\"dataframe\">\n",
       "  <thead>\n",
       "    <tr style=\"text-align: right;\">\n",
       "      <th></th>\n",
       "      <th>sentence</th>\n",
       "      <th>label</th>\n",
       "    </tr>\n",
       "  </thead>\n",
       "  <tbody>\n",
       "    <tr>\n",
       "      <th>0</th>\n",
       "      <td>Deteriorating gallbladder contractions, possib...</td>\n",
       "      <td>1</td>\n",
       "    </tr>\n",
       "    <tr>\n",
       "      <th>1</th>\n",
       "      <td>Our results do not indicate an effect of @GENE...</td>\n",
       "      <td>0</td>\n",
       "    </tr>\n",
       "    <tr>\n",
       "      <th>2</th>\n",
       "      <td>It is unlikely that the promoter polymorphisms...</td>\n",
       "      <td>1</td>\n",
       "    </tr>\n",
       "    <tr>\n",
       "      <th>3</th>\n",
       "      <td>Although the effects of the A(-173) allele wer...</td>\n",
       "      <td>0</td>\n",
       "    </tr>\n",
       "    <tr>\n",
       "      <th>4</th>\n",
       "      <td>Variation in the preproghrelin gene is not ass...</td>\n",
       "      <td>0</td>\n",
       "    </tr>\n",
       "    <tr>\n",
       "      <th>5</th>\n",
       "      <td>In conclusion, our findings support the hypoth...</td>\n",
       "      <td>0</td>\n",
       "    </tr>\n",
       "    <tr>\n",
       "      <th>6</th>\n",
       "      <td>The results of this study link @GENE$ (@DISEAS...</td>\n",
       "      <td>0</td>\n",
       "    </tr>\n",
       "    <tr>\n",
       "      <th>7</th>\n",
       "      <td>The deletion mutation in exon 11 in @GENE$ gen...</td>\n",
       "      <td>1</td>\n",
       "    </tr>\n",
       "    <tr>\n",
       "      <th>8</th>\n",
       "      <td>These data suggest that @GENE$ variation contr...</td>\n",
       "      <td>1</td>\n",
       "    </tr>\n",
       "    <tr>\n",
       "      <th>9</th>\n",
       "      <td>The results indicate that @GENE$(V617F) @DISEA...</td>\n",
       "      <td>0</td>\n",
       "    </tr>\n",
       "  </tbody>\n",
       "</table>\n",
       "</div>\n",
       "      <button class=\"colab-df-convert\" onclick=\"convertToInteractive('df-8dfc5faa-f2e2-4562-a53a-c768554e392e')\"\n",
       "              title=\"Convert this dataframe to an interactive table.\"\n",
       "              style=\"display:none;\">\n",
       "        \n",
       "  <svg xmlns=\"http://www.w3.org/2000/svg\" height=\"24px\"viewBox=\"0 0 24 24\"\n",
       "       width=\"24px\">\n",
       "    <path d=\"M0 0h24v24H0V0z\" fill=\"none\"/>\n",
       "    <path d=\"M18.56 5.44l.94 2.06.94-2.06 2.06-.94-2.06-.94-.94-2.06-.94 2.06-2.06.94zm-11 1L8.5 8.5l.94-2.06 2.06-.94-2.06-.94L8.5 2.5l-.94 2.06-2.06.94zm10 10l.94 2.06.94-2.06 2.06-.94-2.06-.94-.94-2.06-.94 2.06-2.06.94z\"/><path d=\"M17.41 7.96l-1.37-1.37c-.4-.4-.92-.59-1.43-.59-.52 0-1.04.2-1.43.59L10.3 9.45l-7.72 7.72c-.78.78-.78 2.05 0 2.83L4 21.41c.39.39.9.59 1.41.59.51 0 1.02-.2 1.41-.59l7.78-7.78 2.81-2.81c.8-.78.8-2.07 0-2.86zM5.41 20L4 18.59l7.72-7.72 1.47 1.35L5.41 20z\"/>\n",
       "  </svg>\n",
       "      </button>\n",
       "      \n",
       "  <style>\n",
       "    .colab-df-container {\n",
       "      display:flex;\n",
       "      flex-wrap:wrap;\n",
       "      gap: 12px;\n",
       "    }\n",
       "\n",
       "    .colab-df-convert {\n",
       "      background-color: #E8F0FE;\n",
       "      border: none;\n",
       "      border-radius: 50%;\n",
       "      cursor: pointer;\n",
       "      display: none;\n",
       "      fill: #1967D2;\n",
       "      height: 32px;\n",
       "      padding: 0 0 0 0;\n",
       "      width: 32px;\n",
       "    }\n",
       "\n",
       "    .colab-df-convert:hover {\n",
       "      background-color: #E2EBFA;\n",
       "      box-shadow: 0px 1px 2px rgba(60, 64, 67, 0.3), 0px 1px 3px 1px rgba(60, 64, 67, 0.15);\n",
       "      fill: #174EA6;\n",
       "    }\n",
       "\n",
       "    [theme=dark] .colab-df-convert {\n",
       "      background-color: #3B4455;\n",
       "      fill: #D2E3FC;\n",
       "    }\n",
       "\n",
       "    [theme=dark] .colab-df-convert:hover {\n",
       "      background-color: #434B5C;\n",
       "      box-shadow: 0px 1px 3px 1px rgba(0, 0, 0, 0.15);\n",
       "      filter: drop-shadow(0px 1px 2px rgba(0, 0, 0, 0.3));\n",
       "      fill: #FFFFFF;\n",
       "    }\n",
       "  </style>\n",
       "\n",
       "      <script>\n",
       "        const buttonEl =\n",
       "          document.querySelector('#df-8dfc5faa-f2e2-4562-a53a-c768554e392e button.colab-df-convert');\n",
       "        buttonEl.style.display =\n",
       "          google.colab.kernel.accessAllowed ? 'block' : 'none';\n",
       "\n",
       "        async function convertToInteractive(key) {\n",
       "          const element = document.querySelector('#df-8dfc5faa-f2e2-4562-a53a-c768554e392e');\n",
       "          const dataTable =\n",
       "            await google.colab.kernel.invokeFunction('convertToInteractive',\n",
       "                                                     [key], {});\n",
       "          if (!dataTable) return;\n",
       "\n",
       "          const docLinkHtml = 'Like what you see? Visit the ' +\n",
       "            '<a target=\"_blank\" href=https://colab.research.google.com/notebooks/data_table.ipynb>data table notebook</a>'\n",
       "            + ' to learn more about interactive tables.';\n",
       "          element.innerHTML = '';\n",
       "          dataTable['output_type'] = 'display_data';\n",
       "          await google.colab.output.renderOutput(dataTable, element);\n",
       "          const docLink = document.createElement('div');\n",
       "          docLink.innerHTML = docLinkHtml;\n",
       "          element.appendChild(docLink);\n",
       "        }\n",
       "      </script>\n",
       "    </div>\n",
       "  </div>\n",
       "  "
      ],
      "text/plain": [
       "                                            sentence  label\n",
       "0  Deteriorating gallbladder contractions, possib...      1\n",
       "1  Our results do not indicate an effect of @GENE...      0\n",
       "2  It is unlikely that the promoter polymorphisms...      1\n",
       "3  Although the effects of the A(-173) allele wer...      0\n",
       "4  Variation in the preproghrelin gene is not ass...      0\n",
       "5  In conclusion, our findings support the hypoth...      0\n",
       "6  The results of this study link @GENE$ (@DISEAS...      0\n",
       "7  The deletion mutation in exon 11 in @GENE$ gen...      1\n",
       "8  These data suggest that @GENE$ variation contr...      1\n",
       "9  The results indicate that @GENE$(V617F) @DISEA...      0"
      ]
     },
     "execution_count": 16,
     "metadata": {},
     "output_type": "execute_result"
    }
   ],
   "source": [
    "data_dev.head(10)"
   ]
  },
  {
   "cell_type": "code",
   "execution_count": 17,
   "metadata": {
    "colab": {
     "base_uri": "https://localhost:8080/"
    },
    "executionInfo": {
     "elapsed": 8,
     "status": "ok",
     "timestamp": 1649938097205,
     "user": {
      "displayName": "Nora Youssef",
      "userId": "03639374922222745842"
     },
     "user_tz": -120
    },
    "id": "zNw-zJSNdgsk",
    "outputId": "da28b801-1edf-4f91-d778-db7465954f6d"
   },
   "outputs": [
    {
     "name": "stdout",
     "output_type": "stream",
     "text": [
      "4097 512 513\n"
     ]
    }
   ],
   "source": [
    "print(len(data_train), len(data_test), len(data_dev))"
   ]
  },
  {
   "cell_type": "markdown",
   "metadata": {
    "id": "zJPbPw-qqRn2"
   },
   "source": [
    "### Sentences "
   ]
  },
  {
   "cell_type": "code",
   "execution_count": 18,
   "metadata": {
    "executionInfo": {
     "elapsed": 467,
     "status": "ok",
     "timestamp": 1649938097668,
     "user": {
      "displayName": "Nora Youssef",
      "userId": "03639374922222745842"
     },
     "user_tz": -120
    },
    "id": "VgntHfAo3aZy"
   },
   "outputs": [],
   "source": [
    "train_texts = data_train[data_train.columns[0]].to_list()\n",
    "train_labels = data_train[data_train.columns[1]].to_list()"
   ]
  },
  {
   "cell_type": "code",
   "execution_count": 19,
   "metadata": {
    "executionInfo": {
     "elapsed": 14,
     "status": "ok",
     "timestamp": 1649938097668,
     "user": {
      "displayName": "Nora Youssef",
      "userId": "03639374922222745842"
     },
     "user_tz": -120
    },
    "id": "zcBRLeDcc1qo"
   },
   "outputs": [],
   "source": [
    "test_texts = data_test[data_test.columns[0]].to_list()\n",
    "test_labels = data_test[data_test.columns[1]].to_list()"
   ]
  },
  {
   "cell_type": "code",
   "execution_count": 20,
   "metadata": {
    "executionInfo": {
     "elapsed": 14,
     "status": "ok",
     "timestamp": 1649938097669,
     "user": {
      "displayName": "Nora Youssef",
      "userId": "03639374922222745842"
     },
     "user_tz": -120
    },
    "id": "o4v0rMfxd9Dl"
   },
   "outputs": [],
   "source": [
    "dev_texts = data_dev[data_dev.columns[0]].to_list()\n",
    "dev_labels = data_dev[data_dev.columns[1]].to_list()"
   ]
  },
  {
   "cell_type": "markdown",
   "metadata": {
    "id": "rxatmEuRqW1M"
   },
   "source": [
    "#### Exploration"
   ]
  },
  {
   "cell_type": "code",
   "execution_count": 21,
   "metadata": {
    "executionInfo": {
     "elapsed": 14,
     "status": "ok",
     "timestamp": 1649938097669,
     "user": {
      "displayName": "Nora Youssef",
      "userId": "03639374922222745842"
     },
     "user_tz": -120
    },
    "id": "8xjS_lpd3aZI"
   },
   "outputs": [],
   "source": [
    "import matplotlib.pyplot as plt\n",
    "plt.style.use(\"ggplot\")"
   ]
  },
  {
   "cell_type": "code",
   "execution_count": 22,
   "metadata": {
    "colab": {
     "base_uri": "https://localhost:8080/",
     "height": 265
    },
    "executionInfo": {
     "elapsed": 14,
     "status": "ok",
     "timestamp": 1649938097669,
     "user": {
      "displayName": "Nora Youssef",
      "userId": "03639374922222745842"
     },
     "user_tz": -120
    },
    "id": "yXMq0bHN3aZB",
    "outputId": "4025255a-79a0-48bd-e583-cfacf625bcde"
   },
   "outputs": [
    {
     "data": {
      "image/png": "[encoded data removed]",
      "text/plain": [
       "<Figure size 432x288 with 1 Axes>"
      ]
     },
     "metadata": {},
     "output_type": "display_data"
    }
   ],
   "source": [
    "plt.hist([len(s) for s in train_texts], bins=5)\n",
    "plt.show()"
   ]
  },
  {
   "cell_type": "code",
   "execution_count": 23,
   "metadata": {
    "colab": {
     "base_uri": "https://localhost:8080/"
    },
    "executionInfo": {
     "elapsed": 13,
     "status": "ok",
     "timestamp": 1649938097669,
     "user": {
      "displayName": "Nora Youssef",
      "userId": "03639374922222745842"
     },
     "user_tz": -120
    },
    "id": "1-aS91hTKB5i",
    "outputId": "7c052c43-3c9a-4da9-b7cc-1392d06f9f78"
   },
   "outputs": [
    {
     "data": {
      "text/plain": [
       "538"
      ]
     },
     "execution_count": 23,
     "metadata": {},
     "output_type": "execute_result"
    }
   ],
   "source": [
    "max([len(s) for s in train_texts])"
   ]
  },
  {
   "cell_type": "code",
   "execution_count": 24,
   "metadata": {
    "executionInfo": {
     "elapsed": 9,
     "status": "ok",
     "timestamp": 1649938097670,
     "user": {
      "displayName": "Nora Youssef",
      "userId": "03639374922222745842"
     },
     "user_tz": -120
    },
    "id": "FBQLnJyY3aY7"
   },
   "outputs": [],
   "source": [
    "max_len = 128 #selected value outisde the histogram"
   ]
  },
  {
   "cell_type": "code",
   "execution_count": 25,
   "metadata": {
    "colab": {
     "base_uri": "https://localhost:8080/"
    },
    "executionInfo": {
     "elapsed": 9,
     "status": "ok",
     "timestamp": 1649938097670,
     "user": {
      "displayName": "Nora Youssef",
      "userId": "03639374922222745842"
     },
     "user_tz": -120
    },
    "id": "UQFdVv4qnL0u",
    "outputId": "2afe01a7-ff71-4d68-a858-3e948cbe8641"
   },
   "outputs": [
    {
     "name": "stdout",
     "output_type": "stream",
     "text": [
      "4097\n",
      "4609\n",
      "5122\n"
     ]
    }
   ],
   "source": [
    "vocab_txt = []\n",
    "vocab_txt.extend(train_texts)\n",
    "print(len(vocab_txt))\n",
    "vocab_txt.extend(test_texts)\n",
    "print(len(vocab_txt))\n",
    "vocab_txt.extend(dev_texts)\n",
    "print(len(vocab_txt))"
   ]
  },
  {
   "cell_type": "code",
   "execution_count": 26,
   "metadata": {
    "colab": {
     "base_uri": "https://localhost:8080/"
    },
    "executionInfo": {
     "elapsed": 3078,
     "status": "ok",
     "timestamp": 1649938100741,
     "user": {
      "displayName": "Nora Youssef",
      "userId": "03639374922222745842"
     },
     "user_tz": -120
    },
    "id": "4YrK2TwTrAQp",
    "outputId": "d530f97f-dba8-4a69-8284-b4cbfcd5a40d"
   },
   "outputs": [
    {
     "name": "stderr",
     "output_type": "stream",
     "text": [
      "Using TensorFlow backend.\n"
     ]
    }
   ],
   "source": [
    "from keras.preprocessing.text import Tokenizer"
   ]
  },
  {
   "cell_type": "code",
   "execution_count": 27,
   "metadata": {
    "colab": {
     "base_uri": "https://localhost:8080/"
    },
    "executionInfo": {
     "elapsed": 776,
     "status": "ok",
     "timestamp": 1649938101515,
     "user": {
      "displayName": "Nora Youssef",
      "userId": "03639374922222745842"
     },
     "user_tz": -120
    },
    "id": "3jdiCEOBnJA1",
    "outputId": "98d6c8a7-171b-46d9-f1fe-f14284c04a91"
   },
   "outputs": [
    {
     "name": "stdout",
     "output_type": "stream",
     "text": [
      "The document count 5122\n",
      "The count of words OrderedDict([('this', 852), ('study', 584), ('proposes', 1), ('that', 3100), ('a', 2872), ('genotype', 499), ('at', 296), ('position', 19), ('607', 3), ('in', 5926), ('gene', 7103), ('can', 99), ('be', 1197), ('used', 34), ('as', 533), ('new', 23), ('genetic', 740), ('maker', 1), ('thai', 2), ('population', 698), ('for', 1650), ('predicting', 17), ('disease', 5439), ('development', 473), ('common', 236), ('polymorphisms', 709), ('the', 9181), ('genes', 301), ('and', 4024), ('loc387715', 3), ('are', 716), ('independently', 58), ('related', 274), ('to', 2573), ('progression', 108), ('after', 78), ('adjustment', 3), ('other', 167), ('known', 20), ('amd', 22), ('risk', 1529), ('factors', 203), ('results', 1117), ('do', 285), ('not', 1386), ('support', 323), ('any', 75), ('overall', 49), ('association', 731), ('of', 6219), ('ala', 15), ('9val', 4), ('polymorphism', 1272), ('methylation', 1), ('occurs', 6), ('frequently', 8), ('human', 108), ('colonic', 1), ('cancers', 18), ('is', 1578), ('closely', 24), ('associated', 1334), ('with', 2581), ('k', 24), ('ras', 11), ('mutations', 322), ('conclusion', 173), ('8092c', 1), ('may', 1331), ('modify', 49), ('associations', 44), ('between', 643), ('cumulative', 9), ('cigarette', 23), ('smoking', 61), ('allele', 626), ('252', 5), ('site', 32), ('significantly', 162), ('increase', 118), ('relative', 23), ('women', 159), ('guangdong', 6), ('among', 185), ('which', 189), ('tnf', 36), ('beta', 57), ('aa', 35), ('might', 252), ('one', 77), ('susceptible', 76), ('endometriosis', 12), ('our', 1103), ('data', 495), ('indicate', 298), ('160', 3), ('single', 39), ('nucleotide', 22), ('low', 89), ('penetrant', 5), ('susceptibility', 938), ('explain', 36), ('proportion', 21), ('familial', 45), ('notably', 4), ('hereditary', 19), ('prostate', 83), ('cancer', 308), ('these', 1042), ('suggest', 1154), ('159', 16), ('an', 767), ('important', 210), ('marker', 113), ('igan', 6), ('modulate', 20), ('level', 70), ('inflammatory', 26), ('responses', 15), ('there', 163), ('no', 358), ('evidence', 301), ('alleles', 145), ('groups', 54), ('g', 228), ('early', 109), ('ra', 47), ('largely', 8), ('explained', 18), ('by', 298), ('individuals', 148), ('who', 54), ('have', 290), ('coexisting', 5), ('autoimmune', 15), ('endocrinopathies', 4), ('presence', 129), ('0104', 4), ('drb1', 145), ('07', 10), ('06', 4), ('hcmv', 2), ('sequences', 3), ('fetal', 14), ('inheritance', 4), ('maternal', 14), ('should', 31), ('considered', 29), ('conditioning', 3), ('93g', 2), ('could', 159), ('lung', 60), ('patients', 793), ('possession', 7), ('298asp', 2), ('786c', 6), ('variants', 302), ('factor', 498), ('coronary', 47), ('stent', 11), ('restenosis', 16), ('demonstrating', 4), ('importance', 49), ('nitric', 9), ('oxide', 9), ('system', 31), ('we', 565), ('conclude', 280), ('agt', 8), ('contribute', 258), ('retinopathy', 12), ('caucasian', 68), ('mediterranean', 9), ('statistically', 22), ('significant', 254), ('differences', 71), ('frequencies', 30), ('rad52', 9), ('control', 101), ('group', 42), ('sporadic', 79), ('breast', 105), ('ovarian', 35), ('indicating', 30), ('two', 93), ('play', 296), ('major', 308), ('role', 711), ('initiation', 11), ('carcinoma', 32), ('implicate', 14), (\"crohn's\", 5), ('link', 20), ('bacterial', 5), ('components', 10), ('thus', 123), ('analyses', 17), ('variations', 94), ('least', 43), ('french', 13), ('caucasians', 47), ('they', 58), ('represent', 41), ('cause', 77), ('regulatory', 20), ('region', 164), ('shared', 10), ('park2', 1), ('therefore', 92), ('act', 24), ('suggested', 88), ('involved', 238), ('chinese', 300), ('han', 110), ('both', 161), ('49', 27), ('ct60', 7), ('ctla', 22), ('4', 129), ('causal', 8), ('large', 50), ('exons', 10), ('9', 32), ('10', 51), ('confers', 42), ('increased', 345), ('polish', 14), ('men', 100), ('analysis', 85), ('number', 30), ('subjects', 174), ('more', 108), ('specific', 87), ('patient', 25), ('selection', 3), ('showed', 55), ('first', 122), ('c677t', 24), ('ms', 32), ('a2756g', 3), ('mtrr', 3), ('a66g', 4), ('genotypes', 164), ('were', 179), ('findings', 471), ('argue', 17), ('against', 82), ('hypothesis', 117), ('different', 83), ('pathogenesis', 151), ('gh', 5), ('respect', 15), ('eh', 4), ('was', 405), ('obtained', 24), ('studied', 46), ('determinant', 34), ('coumarin', 4), ('coupled', 3), ('similar', 18), ('utah', 1), ('sequence', 50), ('variation', 209), ('influence', 218), ('cd154', 1), (\"3'\", 22), ('microsatellite', 17), ('most', 43), ('represented', 5), ('accompanied', 2), ('prolonged', 5), ('protein', 52), ('expression', 130), ('activated', 3), ('lymphocytes', 2), ('from', 175), ('controls', 59), ('cyp1a1', 23), ('nat1', 5), ('modifying', 33), ('impact', 43), ('exogenous', 4), ('or', 722), ('endogenous', 13), ('exposures', 13), ('rather', 36), ('changes', 23), ('total', 24), ('ige', 39), ('levels', 177), ('than', 114), ('contributing', 42), ('asthma', 63), ('prevalence', 28), ('arg', 28), ('trp64arg', 9), ('adrenergic', 13), ('receptor', 93), ('obese', 19), ('overweight', 15), ('together', 51), ('clinical', 128), ('characteristics', 22), ('japanese', 285), ('provide', 142), ('biological', 19), ('vulnerability', 19), ('intron', 51), ('2', 325), ('cyp46', 7), ('c', 327), ('predispose', 36), ('independent', 135), ('abnormal', 7), ('copy', 6), ('numbers', 7), ('effect', 205), ('308g', 10), ('on', 380), ('if', 34), ('weak', 10), ('majority', 10), ('schizophrenics', 2), ('unrelated', 11), ('did', 94), ('contribution', 50), ('102t', 2), ('snp', 88), ('southern', 15), ('show', 99), ('probability', 15), ('having', 17), ('1083tt', 1), ('decreases', 5), ('habitual', 3), ('caffeine', 4), ('increases', 51), ('visceral', 5), ('sc', 1), ('visfatin', 1), ('mrna', 6), ('profiles', 8), ('but', 374), ('does', 197), ('obesity', 63), ('t2dm', 9), ('strongly', 59), ('combined', 29), ('staging', 4), ('direct', 30), ('monitoring', 2), ('improves', 3), ('prognostic', 35), ('accuracy', 2), ('colorectal', 60), ('provides', 70), ('further', 137), ('indicates', 57), ('mmp9', 2), ('1562t', 5), ('functional', 111), ('component', 15), ('vascular', 28), ('dkk', 3), ('family', 53), ('members', 11), ('previously', 68), ('been', 45), ('found', 200), ('altered', 14), ('brain', 14), ('bind', 3), ('neuregulin', 3), ('finding', 17), ('suggests', 226), ('schizophrenia', 127), ('894t', 7), ('endothelial', 13), ('function', 61), ('higher', 123), ('von', 3), ('willebrand', 3), ('relatively', 18), ('young', 35), ('myocardial', 14), ('infarction', 16), ('psprodh', 2), ('aetiology', 7), ('putative', 14), ('22q11', 4), ('remains', 8), ('unknown', 12), ('mtdna', 2), ('rapid', 10), ('reliable', 5), ('high', 105), ('throughput', 1), ('method', 4), ('detection', 12), ('t3', 1), ('394c', 1), ('nd1', 1), ('mitochondrial', 10), ('diabetes', 169), ('prothrombotic', 1), ('pl', 12), ('platelet', 8), ('fibrinogen', 24), ('gpiib', 1), ('iiia', 13), ('rcc', 2), ('colombian', 1), ('cases', 56), ('predominantly', 6), ('late', 45), ('onset', 114), ('negative', 51), ('psen', 1), ('interaction', 89), ('add3', 1), ('humans', 39), ('pressure', 52), ('suggesting', 130), ('epistatic', 7), ('effects', 56), ('loci', 29), ('observed', 81), ('251tt', 3), ('interleukin', 9), ('819tt', 3), ('combination', 54), ('presumably', 6), ('causing', 14), ('mild', 11), ('inflammation', 13), ('continuing', 3), ('especially', 92), ('current', 33), ('smokers', 44), ('radiotherapy', 3), ('influences', 59), ('chek2', 11), ('erbb2', 6), ('survival', 44), ('tumour', 7), ('characteristic', 10), ('defined', 18), ('although', 161), ('possible', 97), ('t', 272), ('sp', 10), ('1', 327), ('transcription', 13), ('has', 123), ('reported', 47), ('literature', 5), ('find', 29), ('difference', 12), ('pathological', 5), ('grading', 2), ('responsiveness', 6), ('hormonal', 7), ('therapy', 34), ('5', 70), ('bp', 34), ('d', 68), ('i', 80), ('within', 99), ('utr', 6), ('taking', 4), ('races', 3), ('mankind', 2), ('critical', 11), ('hans', 10), ('hefei', 2), ('anhui', 3), ('province', 12), ('nat2', 14), ('carcinogenic', 2), ('arylamines', 1), ('contained', 2), ('tobacco', 20), ('smoke', 9), ('modulation', 9), ('intermediate', 6), ('slow', 13), ('acetylator', 8), ('tendency', 4), ('present', 142), ('highly', 25), ('differentiated', 2), ('tumors', 7), ('heavy', 5), ('systematic', 5), ('screening', 16), ('431', 4), ('children', 71), ('adults', 21), ('coding', 39), ('minimal', 4), ('core', 7), ('promoter', 332), ('reveals', 2), ('transcriptionally', 2), ('essential', 14), ('mc4r', 2), ('severe', 65), ('vitro', 13), ('locus', 154), ('chromosome11q13', 1), ('strong', 58), ('pathogenic', 10), ('variant', 228), ('s', 32), ('276', 2), ('kb', 5), ('harboring', 3), ('phenotypes', 53), ('ad', 83), ('identified', 40), ('modified', 13), ('exon', 90), ('19', 10), ('deletions', 2), ('longer', 18), ('following', 11), ('treatment', 57), ('gefitinib', 2), ('erlotinib', 2), ('compared', 23), ('those', 50), ('l858r', 1), ('mutation', 137), ('warrant', 5), ('medical', 6), ('surveillance', 3), ('clinically', 14), ('heterozygosity', 12), ('radiation', 6), ('parameter', 2), ('summarize', 2), ('alterations', 25), ('lead', 13), ('relevant', 33), ('predisposition', 84), ('unlikely', 124), ('some', 75), ('vitiligo', 4), ('supporting', 30), ('epidermal', 4), ('model', 7), ('bst', 2), ('u', 7), ('suitable', 6), ('endothelium', 3), ('dependent', 30), ('arterial', 9), ('dilation', 3), ('stage', 20), ('type', 200), ('mellitus', 24), ('healthy', 26), ('micro', 6), ('macrovascular', 5), ('complications', 34), ('determination', 15), ('mbl', 12), ('status', 41), ('identify', 23), ('developing', 92), ('it', 181), ('likely', 73), ('chd', 25), ('populations', 83), ('exclude', 15), ('minor', 34), ('pparalpha', 5), ('through', 55), ('atherogenic', 9), ('plasma', 75), ('lipids', 7), ('asbestos', 8), ('exposure', 27), ('directly', 15), ('protecting', 2), ('enzymes', 3), ('organelles', 1), ('oxidative', 24), ('damage', 17), ('pon2', 3), ('microvascular', 6), ('contributes', 55), ('lta', 3), ('haplotypes', 73), ('investigation', 13), ('variable', 7), ('repeat', 66), ('located', 14), ('poag', 7), ('exfoliation', 1), ('glaucoma', 7), ('nlgn3', 18), ('responsible', 48), ('small', 43), ('fraction', 18), ('additional', 43), ('screenings', 12), ('autistic', 11), ('needed', 28), ('better', 19), ('determine', 24), ('frequency', 99), ('nlgn4', 18), ('occur', 26), ('autism', 31), ('inherited', 24), ('variability', 45), ('dna', 25), ('repair', 15), ('capacity', 11), ('reflected', 7), ('ape1', 3), ('systemic', 9), ('sclerosis', 4), ('enos', 28), ('carriers', 58), ('sample', 70), ('unable', 10), ('robust', 5), ('pro129thr', 3), ('quantitative', 9), ('traits', 36), ('examined', 20), ('whites', 13), ('469kk', 2), ('il', 110), ('12', 16), ('severity', 99), ('reflux', 5), ('nephropathy', 36), ('vesicoureteral', 4), ('snp309', 22), ('tumor', 23), ('p53', 12), ('appears', 75), ('h', 17), ('pylori', 12), ('interacts', 6), ('allelic', 38), ('affect', 64), ('truncating', 2), ('th1', 2), ('dominated', 2), ('granulomatous', 1), ('result', 42), ('turkish', 9), ('seemed', 3), ('develop', 37), ('without', 38), ('glu298asp', 18), ('serum', 40), ('gain', 5), ('helper', 1), ('cytokine', 19), ('increasing', 24), ('rsv', 5), ('pronounced', 3), ('half', 2), ('year', 6), ('life', 11), ('atopic', 11), ('diseases', 31), ('caused', 22), ('part', 30), ('impairment', 8), ('signal', 8), ('cascade', 5), ('downregulates', 3), ('production', 33), ('chain', 7), ('causative', 16), ('cckar', 2), ('cckbr', 2), ('symptoms', 14), ('even', 18), ('though', 8), ('388', 2), ('333', 1), ('hallucinations', 2), ('rate', 36), ('nonsignificant', 1), ('bonferroni', 1), ('correction', 3), ('cys557ser', 4), ('ancient', 2), ('multiple', 27), ('primary', 31), ('extends', 9), ('brca2', 11), ('999del5', 2), ('5a', 16), ('mmp', 49), ('2g', 6), ('norwegian', 2), ('swedish', 16), ('occurrence', 50), ('advanced', 32), ('neck', 6), ('npc', 2), ('tamoxifen', 5), ('response', 113), ('carcinomas', 3), ('useful', 50), ('markers', 61), ('setting', 5), ('frequent', 19), ('impaired', 12), ('enzyme', 30), ('measurable', 4), ('general', 35), ('1730', 1), ('korean', 58), ('case', 39), ('caga', 5), ('infected', 8), ('certain', 30), ('67g', 2), ('mechanism', 35), ('underlying', 9), ('unclear', 4), ('interest', 2), ('because', 19), ('coagulation', 1), ('regulation', 47), ('structure', 5), ('phenotype', 75), ('001', 4), ('codon', 37), ('694', 1), ('m694v', 2), ('m694i', 1), ('tyr402his', 6), ('indicative', 2), ('c26304t', 3), ('injury', 4), ('investigated', 29), ('outcome', 31), ('years', 21), ('confirmed', 42), ('others', 8), ('intensive', 5), ('prophylaxis', 16), ('possibly', 47), ('directed', 4), ('toward', 12), ('blunting', 3), ('host', 29), ('cell', 40), ('de', 7), ('novo', 7), ('origin', 12), ('arg677ter', 5), ('simplex', 5), ('autosomal', 15), ('dominant', 21), ('rp', 6), ('arise', 6), ('supports', 44), ('mutational', 10), ('hotspot', 7), ('rp1', 5), ('prospective', 15), ('little', 18), ('described', 28), ('cd14', 37), ('risks', 16), ('future', 13), ('form', 28), ('vntr', 21), (\"5'\", 21), ('flanking', 9), ('blood', 33), ('arg3500gln', 1), ('apolipoprotein', 5), ('b', 56), ('defective', 6), ('approximately', 6), ('1000', 1), ('persons', 10), ('denmark', 2), ('causes', 10), ('hypercholesterolemia', 4), ('ischemic', 17), ('heart', 17), ('germ', 5), ('line', 5), ('all', 39), ('affected', 23), ('kindred', 3), ('allow', 6), ('men1', 5), ('tumours', 3), ('broad', 1), ('protective', 77), ('s180l', 1), ('per', 7), ('se', 11), ('discernible', 1), ('consistent', 51), ('initial', 16), ('observation', 38), ('individual', 43), (\"3'utr\", 5), ('requiring', 2), ('replication', 21), ('larger', 29), ('samples', 21), ('preliminary', 27), ('particularly', 53), ('males', 37), ('8', 19), ('oh', 2), ('dg', 3), ('adducts', 2), ('tissue', 17), ('hogg1', 2), ('ser326cys', 5), ('relation', 38), ('adipor2', 2), ('a61g', 3), ('differentially', 2), ('according', 13), ('gender', 17), ('vdr', 7), ('overexpression', 8), ('kras', 4), ('apparently', 7), ('promoting', 5), ('hypertensive', 15), ('renal', 26), ('mediated', 51), ('never', 6), ('treated', 19), ('hypertension', 54), ('while', 61), ('implicated', 36), ('rare', 45), ('mendelian', 2), ('mycobacterial', 2), ('here', 22), ('gambian', 2), ('aldh2', 3), ('cyp2e1', 6), ('alcoholism', 17), ('adh3', 4), ('oprm1', 2), ('differ', 14), ('xrcc3', 3), ('ercc4', 3), ('xpf', 3), ('etiology', 96), ('potential', 86), ('vad', 2), ('whereas', 47), ('alpha', 47), ('only', 84), ('affecting', 21), ('knee', 6), ('vary', 6), ('versus', 10), ('sexes', 5), ('aspn', 3), ('comp', 3), ('col2a1', 3), ('element', 3), ('innate', 12), ('immune', 14), ('profound', 1), ('upon', 3), ('modulating', 22), ('acquired', 3), ('allergen', 1), ('immunoglobulin', 1), ('authors', 8), ('emphasize', 13), ('usefulness', 2), ('tau', 5), ('measurement', 1), ('diagnosis', 28), ('five', 8), ('bone', 20), ('measures', 6), ('l2l4', 1), ('femoral', 3), ('dxa', 1), ('well', 101), ('heel', 1), ('sos', 1), ('bua', 1), ('index', 11), ('whole', 7), ('entire', 4), ('three', 26), ('parts', 4), ('failed', 27), ('aaa', 5), ('mmp2', 6), ('amplitude', 1), ('reduction', 12), ('endophenotype', 1), ('disinhibited', 1), ('psychopathology', 1), ('pivotal', 2), ('glycoprotein', 3), ('pathway', 53), ('bronchiolitis', 1), ('propose', 9), ('cx3cr1', 15), ('therapeutic', 11), ('target', 24), ('50', 10), ('age', 69), ('carrying', 35), ('ag', 11), ('nfkbia', 5), ('gg', 33), ('crc', 20), ('hemicentin', 2), ('appear', 78), ('a2', 21), ('hormone', 10), ('insulin', 72), ('diet', 5), ('density', 10), ('potentially', 29), ('gly482ser', 8), ('pgc', 2), ('interactions', 17), ('moderate', 20), ('meat', 5), ('consumption', 20), ('a52c', 4), ('g894t', 16), ('serve', 17), ('p', 61), ('reflect', 7), ('phenotypic', 15), ('complexity', 1), ('characterizes', 1), ('normal', 29), ('cognition', 2), ('polymorphic', 34), ('1ra', 7), ('vasculitis', 2), ('german', 22), ('2849', 2), ('autoantibody', 4), ('subsequent', 10), ('joint', 14), ('pancreatic', 10), ('c242t', 11), ('aging', 3), ('vessel', 5), ('stenosis', 4), ('pd', 23), ('pik3ca', 2), ('positively', 2), ('similarly', 1), ('t1dm', 6), ('providing', 4), ('adult', 30), ('819c', 3), ('people', 32), ('ata', 3), ('acc', 2), ('gcc', 3), ('atc', 3), ('aca', 3), ('exist', 11), ('exonic', 2), ('conferring', 21), ('considerably', 1), ('17', 3), ('ibd', 10), ('asn', 4), ('reduced', 76), ('postmenopausal', 24), ('their', 37), ('shbg', 4), ('allograft', 1), ('tnfbeta', 2), ('predict', 27), ('recurrence', 12), ('hcv', 13), ('liver', 13), ('transplantation', 9), ('apo', 12), ('iii', 18), ('atherosclerotic', 16), ('c1014t', 1), ('55', 2), ('profile', 19), ('report', 42), ('il8', 3), ('pparg', 3), ('mi', 48), ('taiwanese', 25), ('predicted', 6), ('baseline', 6), ('antipsychotic', 5), ('snps', 104), ('proximal', 5), ('carcinogenesis', 18), ('also', 67), ('geographic', 3), ('locations', 4), ('help', 15), ('understand', 6), ('incidence', 66), ('cervical', 19), ('worldwide', 4), ('t1277c', 3), ('tyrosine', 3), ('402', 6), ('histidine', 3), ('dry', 4), ('wet', 3), ('points', 3), ('wt', 2), ('delta', 2), ('32', 6), ('infection', 56), ('abrogated', 1), ('sdf1', 1), (\"3'a\", 6), ('lbp', 5), ('1c', 7), ('cp2', 4), ('candidate', 67), ('justification', 7), ('studies', 117), ('investigate', 15), (\"alzheimer's\", 11), ('like', 10), ('osteoporosis', 7), ('spondylosis', 2), ('r121w', 2), ('predisposing', 33), ('okinawans', 2), ('asp148glu', 5), ('predictive', 19), ('modifies', 17), ('arg399gln', 11), ('xpd', 13), ('lys751gln', 4), ('xrcc1', 17), ('attributable', 11), ('frameshifting', 2), ('pair', 9), ('insertion', 15), ('99', 2), ('rpgr', 2), ('produced', 3), ('typical', 13), ('carrier', 14), ('tapetallike', 2), ('reflex', 2), ('spontaneous', 4), ('methamphetamine', 3), ('psychosis', 6), ('intracellular', 1), ('adapter', 1), ('pick1', 1), ('pathophysiology', 6), ('account', 22), ('jewish', 4), ('abo', 1), ('incompatibility', 1), ('indian', 12), ('i1307k', 2), ('compelling', 4), ('null', 37), ('gstt1', 23), ('elevated', 41), ('notion', 18), ('neurotransmitter', 2), ('hmox1', 4), ('due', 56), ('demonstrated', 33), ('pro185ala', 1), ('contributed', 5), ('male', 31), ('estonian', 1), ('speculate', 5), ('influenced', 15), ('1704g', 1), ('6', 41), ('existed', 4), ('fad', 1), ('missense', 23), ('probably', 58), ('nature', 8), ('really', 1), ('complex', 42), ('confirm', 68), ('positive', 75), ('chl1', 4), ('unlike', 7), ('hla', 94), ('atopy', 14), ('european', 28), ('0602', 7), ('confer', 96), ('distal', 7), ('indicated', 45), ('g1649c', 1), ('a1660g', 1), ('collagen', 2), ('argues', 4), ('ece', 1), ('genome', 2), ('wide', 5), ('patterns', 4), ('alteration', 17), ('adc', 1), ('describe', 2), ('models', 5), ('oncogenic', 1), ('cooperation', 1), ('involving', 7), ('either', 66), ('egfr', 7), ('cdkn2a', 4), ('deletion', 33), ('cyclin', 10), ('amplification', 2), ('tp53', 6), ('inactiva', 1), ('463g', 1), ('koreans', 21), ('highlight', 8), ('course', 26), ('productivity', 3), ('rheumatoid', 5), ('arthritis', 7), ('spanish', 36), ('partly', 9), ('secretion', 18), ('occurring', 9), ('schizophrenic', 10), ('infections', 7), ('stressors', 3), ('neither', 53), ('genotypic', 9), ('mutant', 12), ('nor', 70), ('necrosis', 4), ('size', 17), ('n', 15), ('ho', 4), ('change', 8), ('resistance', 55), ('potentiated', 1), ('hydrolysis', 3), ('pi3', 1), ('kinase', 4), ('product', 13), ('2a13', 1), ('cyp', 2), ('1a1', 1), ('understanding', 12), ('mechanisms', 25), ('uterine', 8), ('leiomyoma', 2), ('diabetic', 93), ('snp3', 2), ('triglyceride', 5), ('however', 27), ('summary', 19), ('shows', 32), ('2756a', 1), ('mthfr', 23), ('677tt', 6), ('1298aa', 1), ('677ct', 2), ('1298ac', 1), ('extremely', 4), ('thcy', 2), ('1171', 1), ('6a', 21), ('786', 13), ('synthase', 3), ('view', 9), ('bn', 1), ('seem', 49), ('bulimic', 1), ('nutritional', 1), ('harm', 2), ('avoidance', 3), ('813', 1), ('decrease', 6), ('c748t', 1), ('conflicting', 4), ('regarding', 8), ('s100a2', 2), ('bdnf', 9), ('finnish', 24), ('sle', 9), ('bhr', 1), ('s89n', 4), ('via', 16), ('sensitivity', 31), ('herv', 6), ('germans', 1), ('ability', 5), ('produce', 4), ('chronic', 35), ('each', 6), ('bam', 1), ('hi', 1), ('volume', 2), ('carotid', 16), ('atherothrombotic', 5), ('stroke', 18), ('confirms', 15), ('apoptosis', 4), ('lesions', 5), ('formation', 25), ('demands', 2), ('temporary', 1), ('antiapoptotic', 1), ('g395a', 2), ('state', 7), ('artery', 14), ('calcification', 3), ('lower', 62), ('ahsg', 16), ('lean', 7), ('knock', 5), ('out', 24), ('mice', 9), ('namely', 6), ('modulates', 18), ('body', 23), ('mass', 24), ('tap1', 2), ('linked', 46), ('since', 18), ('particular', 18), ('4g', 72), ('5g', 29), ('pai', 25), ('antigen', 5), ('haplotype', 118), ('based', 51), ('up', 9), ('northern', 11), ('descent', 6), ('disorders', 37), ('central', 18), ('tph2', 1), ('affective', 3), ('ecnos', 6), ('nadh', 5), ('nadph', 4), ('oxidase', 8), ('less', 27), ('51', 4), ('old', 5), ('liability', 9), ('placebo', 1), ('good', 9), ('candidates', 2), ('bupropion', 1), ('cessation', 1), ('gram', 11), ('microorganisms', 1), ('pfm', 3), ('female', 21), ('dbp', 3), ('imply', 12), ('involvement', 72), ('remodelling', 5), ('conventional', 7), ('balloon', 3), ('angioplasty', 5), ('6a6a', 2), ('mmp3', 5), ('stenting', 6), ('dqb1', 68), ('mucosal', 2), ('dose', 17), ('manner', 17), ('presentation', 5), ('anti', 19), ('autoantibodies', 4), ('0301', 23), ('drb3', 3), ('0101', 3), ('dqa1', 21), ('0501', 6), ('0201', 6), ('linkage', 79), ('disequilibrium', 51), ('rs3744700', 4), ('homozygote', 12), ('cxcl16', 4), ('cad', 34), ('synergically', 3), ('cognitive', 7), ('decline', 7), ('suicide', 7), ('attempts', 1), ('attempted', 1), ('thirds', 4), ('manifesting', 4), ('nphs1', 3), ('wt1', 4), ('lamb2', 3), ('radiological', 2), ('lacking', 5), ('159t', 9), ('monocyte', 2), ('efficacy', 9), ('pravastatin', 2), ('atherosclerosis', 27), ('lqts', 2), ('transmembrane', 1), ('portion', 4), ('ion', 2), ('channel', 2), ('degree', 11), ('influencing', 20), ('disorder', 33), ('penetrance', 15), ('along', 7), ('will', 13), ('limit', 1), ('applicability', 1), ('germline', 21), ('testing', 15), ('1100delc', 5), ('north', 6), ('american', 25), ('kindreds', 1), ('circulating', 7), ('hk2', 2), ('correlated', 16), ('v', 27), ('twofold', 6), ('l', 10), ('preeclamptic', 3), ('proteinuria', 2), ('192r', 12), ('pon1', 15), ('genesis', 8), ('spasm', 7), ('attenuating', 5), ('suppression', 5), ('stress', 26), ('helicobacter', 3), ('base', 4), ('about', 11), ('a2m', 13), ('ile1000val', 4), ('provided', 19), ('personality', 5), ('admission', 1), ('fvii', 1), ('partially', 11), ('predictors', 5), ('mortality', 11), ('reinfarction', 1), ('controlling', 3), ('basal', 3), ('activity', 97), ('escc', 8), ('gca', 2), ('mspi', 9), ('gstm1', 35), ('revealed', 33), ('uadt', 1), ('ascribed', 1), ('users', 2), ('pop', 1), ('uigur', 2), ('bilateral', 4), ('p22', 5), ('phox', 5), ('deficiency', 11), ('hence', 8), ('offer', 13), ('protection', 30), ('apoe', 67), ('epsilon4', 35), ('noncarriers', 4), ('trafficking', 1), ('fatp1', 1), ('post', 6), ('prandial', 1), ('lipid', 17), ('metabolism', 59), ('albescent', 2), ('exclusively', 5), ('rds', 2), ('e', 21), ('cyp1b1', 8), ('esr1', 4), ('bbd', 7), ('30g', 3), ('gck', 6), ('i27l', 3), ('scandinavian', 4), ('exon7', 1), ('relate', 2), ('uygur', 1), ('xinjiang', 3), ('substantially', 15), ('drug', 8), ('at1r', 5), ('white', 27), ('arteries', 5), ('g870a', 2), ('opls', 1), ('involve', 5), ('tgf', 8), ('beta1', 8), ('existence', 17), ('rejection', 3), ('94c', 2), ('tpmt', 1), ('aza', 1), ('modest', 29), ('coffee', 3), ('such', 55), ('cruciferous', 3), ('vegetable', 10), ('cyp1a2', 5), ('prove', 9), ('participates', 5), ('substitutions', 2), ('its', 103), ('substantial', 25), ('m235t', 12), ('ace', 45), ('subset', 21), ('cardiovascular', 25), ('maldescent', 1), ('undermasculinisation', 1), ('374t', 5), ('determinants', 25), ('variance', 8), ('substitution', 19), ('36', 2), ('tnfrsf1a', 2), ('196', 3), ('trp', 8), ('64', 2), ('weight', 16), ('previous', 60), ('reports', 26), ('homozygotes', 11), ('mpo', 25), ('463', 4), ('fold', 8), ('17f', 12), ('h161r', 6), ('natural', 19), ('antagonist', 10), ('ccttt', 4), ('r92p', 1), ('unaffected', 2), ('cysteine', 2), ('residues', 1), ('extracellular', 2), ('domains', 2), ('aact', 3), ('negatively', 24), ('shanghai', 15), ('area', 15), ('exists', 17), ('non', 40), ('epsilon', 21), ('sepcr', 1), ('stromelysin', 4), ('slc22a4', 3), ('etiological', 11), ('strengthen', 3), ('syndromic', 4), ('add', 2), ('insights', 3), ('into', 8), ('espin', 1), ('latitude', 1), ('showing', 11), ('morningness', 1), ('eveningness', 1), ('tendencies', 1), ('tlr4', 40), ('immunity', 10), ('postoperative', 3), ('identification', 8), ('spink1', 4), ('alcoholic', 13), ('idiopathic', 14), ('pancreatitis', 7), ('tunisian', 5), ('1alpha', 15), ('nondiabetic', 8), ('hemodialysis', 5), ('so', 5), ('assessed', 8), ('ksp', 1), ('demonstrate', 54), ('cyp3a5', 5), ('kidney', 8), ('ben', 1), ('cyp3a4', 18), ('1b', 20), ('cyp2d6', 6), ('greater', 18), ('sex', 9), ('physical', 6), ('sedentary', 3), ('lifestyle', 3), ('discrepancies', 1), ('use', 21), ('environmental', 38), ('g421c', 1), ('tpa', 2), ('anerial', 1), ('thrombosis', 8), ('pregnancy', 8), ('morbidity', 5), ('apl', 2), ('3', 109), ('begin', 2), ('ethnicity', 4), ('generation', 11), ('sids', 4), ('tool', 7), ('identifying', 7), ('estimating', 2), ('entities', 1), ('analyzed', 23), ('co', 6), ('nod2', 6), ('card15', 4), ('cd', 18), ('uc', 14), ('mao', 8), ('comt', 14), ('drd2', 12), ('drd4', 8), ('time', 36), ('courses', 5), ('tumorigenesis', 6), ('nonpolyposis', 3), ('mismatch', 3), ('defects', 14), ('n34s', 7), ('distinct', 17), ('500', 1), ('skewed', 4), ('x', 24), ('chromosome', 18), ('inactivation', 2), ('elderly', 22), ('prevalent', 8), ('specifically', 12), ('designed', 1), ('assess', 2), ('value', 3), ('cd4', 9), ('lymphocyte', 8), ('count', 9), ('hiv', 28), ('rna', 10), ('load', 18), ('fundamental', 7), ('recruitment', 7), ('immunomodulatory', 7), ('cells', 29), ('ht', 7), ('1d', 6), ('migraine', 9), ('aura', 5), ('yet', 15), ('near', 12), ('hsert', 4), ('etiopathogenesis', 5), ('cannot', 39), ('ruled', 5), ('dosing', 1), ('regimen', 3), ('tacrolimus', 3), ('knowledge', 7), ('subsequently', 1), ('guided', 1), ('concentration', 18), ('measurements', 1), ('achieving', 1), ('concentrations', 19), ('11', 19), ('ntds', 2), ('lumbosacral', 1), ('taken', 18), ('aside', 3), ('g2677t', 5), ('crucial', 14), ('using', 12), ('detailed', 2), ('objective', 1), ('folate', 5), ('f279', 2), ('loss', 23), ('cvd', 8), ('concept', 3), ('plays', 44), ('proatherogenic', 2), ('102', 3), ('improved', 5), ('free', 11), ('dramatically', 1), ('received', 6), ('adjuvant', 4), ('neurobiological', 2), ('stat3', 6), ('fev1', 6), ('participate', 9), ('pathways', 8), ('lsf', 4), ('possibility', 35), ('tas2r38', 1), ('correlate', 8), ('alcohol', 45), ('african', 28), ('families', 16), ('splicing', 1), ('determines', 7), ('31', 11), ('584c', 3), ('hdl', 36), ('ami', 7), ('affects', 29), ('variety', 4), ('childhood', 14), ('rs1946518', 1), ('137', 1), ('rs187238', 1), ('bace1', 5), ('over', 11), ('above', 9), ('attributed', 5), ('alone', 17), ('relationship', 31), ('precluded', 1), ('another', 23), ('determining', 33), ('ulcerative', 7), ('colitis', 7), ('lys412glu', 1), ('chromosomal', 5), ('mhc2ta', 2), ('despite', 20), ('ethnic', 38), ('similarities', 3), ('ggn', 1), ('cag', 15), ('combinations', 18), ('indices', 4), ('older', 15), ('xy', 1), ('occurred', 2), ('reversal', 1), ('rflps', 4), ('constitute', 10), ('statistical', 23), ('genetically', 25), ('kcnj11', 1), ('several', 17), ('definite', 1), ('urat1', 1), ('needs', 6), ('ctg', 1), ('leu', 6), ('val', 31), ('125', 1), ('cd31', 1), ('selective', 6), ('forces', 1), ('malaria', 6), ('maintain', 1), ('mnsod', 12), ('females', 19), ('systolic', 7), ('iga', 7), ('define', 3), ('subgroup', 13), ('where', 9), ('bronchitis', 1), ('predominant', 6), ('his645asp', 1), ('histamine', 1), ('metabolising', 1), ('7', 44), ('nt', 1), ('a6986g', 1), ('decreased', 49), ('grade', 14), ('performed', 2), ('separately', 2), ('black', 6), ('subgroups', 9), ('wit1', 1), ('fsgs', 1), ('mediate', 2), ('altering', 6), ('air', 1), ('pollution', 2), ('traffic', 1), ('antioxidative', 1), ('allergy', 13), ('hnf1a', 2), ('adam33', 1), ('south', 6), ('china', 19), ('589', 4), ('308', 24), ('fcalpha', 4), ('ribeta', 4), ('rhinitis', 4), ('mo', 4), ('us', 13), ('postulate', 2), (\"'87\", 1), ('lrp', 10), ('sites', 6), ('cerebrovascular', 7), ('noncapillary', 1), ('cerebral', 6), ('vessels', 3), ('leading', 10), ('regulating', 13), ('asp299gly', 17), ('g61c', 1), ('interfering', 2), ('organization', 1), ('keratin', 1), ('filaments', 1), ('arg194trp', 2), ('tnf2', 4), ('chi', 1), ('69', 1), ('pulmonary', 10), ('tuberculosis', 10), ('disturbed', 1), ('wa', 6), ('had', 28), ('ba', 5), ('ja', 3), ('lipc', 4), ('made', 5), ('entirely', 3), ('call', 4), ('question', 5), ('cntf', 4), ('molecular', 34), ('depression', 22), ('earlier', 25), ('spain', 6), ('minority', 3), ('carry', 7), ('heterozygous', 14), ('optn', 1), ('oht', 1), ('characterized', 14), ('reveal', 20), ('flap', 2), ('cys', 7), ('lts', 4), ('biosynthesis', 8), ('functionally', 15), ('49a', 2), ('ssc', 6), ('rnp', 1), ('antibody', 4), ('remained', 1), ('elucidated', 1), ('limitations', 2), ('interpretation', 2), ('partial', 4), ('significance', 13), ('reduce', 14), ('detect', 7), ('r219k', 3), ('ppara', 2), ('cumulatively', 3), ('synergistically', 11), ('premature', 20), ('asca', 2), ('positivity', 1), ('relatives', 4), ('modulated', 14), ('carcinogens', 14), ('bladder', 11), ('cyp17', 6), ('34t', 3), ('established', 13), ('infant', 11), ('rr', 7), ('cc', 29), ('paraoxonase', 9), ('preterm', 8), ('delivery', 7), ('fdb', 1), ('ethnically', 1), ('diverse', 3), ('subject', 2), ('represents', 14), ('recombination', 1), ('end', 2), ('event', 8), ('selectin', 8), ('soluble', 3), ('molecule', 8), ('roles', 27), ('process', 14), ('thrthr', 1), ('tt', 36), ('gpibalpha', 1), ('gpiv', 1), ('fatal', 4), ('during', 29), ('middle', 9), ('ta', 8), ('accounting', 1), ('thalassemia', 3), ('intermedia', 1), ('adrenal', 2), ('pcos', 13), ('1989t', 2), ('predictor', 22), ('behavior', 25), ('energy', 9), ('absence', 15), ('cyp11a1', 5), ('tttta', 10), ('homozygosity', 41), ('prediction', 18), ('ros', 7), ('fruit', 8), ('constitutes', 6), ('means', 4), ('italian', 19), ('936', 4), ('anastomotic', 2), ('leakage', 2), ('surgery', 10), ('suggestive', 3), ('northwestern', 4), ('thr230met', 1), ('marked', 6), ('beta2', 2), ('adrenoceptor', 3), ('subcutaneous', 2), ('fat', 19), ('determined', 18), ('addition', 21), ('abnormalities', 8), ('glucuronidation', 3), ('aspirin', 8), ('dopamine', 14), ('derivatives', 3), ('ugt1a1', 9), ('28', 8), ('ugt1a6', 4), ('influential', 2), ('glucose', 27), ('intolerance', 3), ('irs2', 1), ('heterogeneity', 13), ('behaviour', 4), ('gly1057asp', 1), ('establishes', 2), ('correlation', 25), ('l162v', 1), ('dietary', 14), ('intake', 14), ('id', 1), ('ugt2b17', 5), ('androgens', 3), ('recent', 9), ('leptin', 18), ('attractive', 6), ('methods', 8), ('prevention', 22), ('344c', 6), ('2q33', 2), ('united', 4), ('kingdom', 3), ('13', 19), ('smaller', 5), ('t51c', 1), ('localized', 1), ('3p21', 1), ('d76n', 2), ('alter', 14), ('proposed', 9), ('associate', 5), ('ii', 43), ('estimates', 1), ('danish', 20), ('coordinated', 1), ('1298', 1), ('habits', 2), ('drinking', 6), ('tea', 1), ('ec', 3), ('pregnant', 4), ('m2', 5), ('a332a', 3), ('presenting', 5), ('novel', 51), ('dq', 5), ('ths', 1), ('sheds', 1), ('light', 5), ('a6', 4), ('hape', 1), ('given', 14), ('lines', 2), ('tnfalpha', 26), ('raise', 11), ('htr3a', 3), ('block', 13), ('htr3b', 5), ('glu', 6), ('4a', 4), ('ecnos4a', 1), ('4b', 2), ('diastolic', 3), ('dysfunction', 30), ('gdf9', 3), ('insufficiency', 2), ('slc11a1', 6), ('p21', 3), ('taiwan', 35), ('urokinase', 2), ('activator', 5), ('bamhi', 3), ('plasminogen', 4), ('inhibitor', 6), ('hindiii', 4), ('heritability', 1), ('periodontal', 9), ('shorter', 6), ('length', 10), ('enlargement', 3), ('met98lys', 1), ('adoa', 1), ('lhon', 1), ('modestly', 7), ('aric', 1), ('wghs', 1), ('aboriginals', 1), ('elements', 2), ('excluded', 12), ('features', 40), ('unidentified', 8), ('adiponectin', 6), ('apod', 5), ('metastasizing', 2), ('replicated', 5), ('hnf4alpha', 7), ('20q', 2), ('heterozygotes', 16), ('varying', 3), ('behavioural', 3), ('same', 16), ('hyperuricemia', 1), ('463a', 1), ('pneumoniae', 1), ('leads', 12), ('mainly', 4), ('braf', 3), ('encoding', 28), ('catalytic', 4), ('digestive', 1), ('tract', 5), ('antiviral', 2), ('adipor1', 1), ('trp719arg', 1), ('guanine', 2), ('induced', 39), ('incident', 5), ('events', 15), ('363s', 2), ('n363s', 3), ('uk', 15), ('plausible', 5), ('explanation', 1), ('463aa', 1), ('463gg', 1), ('none', 25), ('key', 8), ('inducibility', 1), ('v418m', 1), ('bmd', 11), ('adds', 1), ('accumulating', 1), ('subtle', 2), ('monogenic', 2), ('dyslipidemia', 9), ('ivs14a', 1), ('451q', 1), ('442g', 1), ('y402h', 7), ('exudative', 5), ('location', 10), ('emphasizing', 1), ('demonstrates', 16), ('slovene', 5), ('odds', 13), ('ratio', 12), ('95', 19), ('confidence', 6), ('interval', 7), ('0', 81), ('pro12ala', 5), ('ppargamma', 4), ('3953', 3), ('indicator', 6), ('uighur', 2), ('xingjiang', 1), ('c1772t', 4), ('epo', 1), ('sao2', 1), ('acute', 11), ('hypoxic', 1), ('magnitude', 8), ('hvr', 1), ('endophenotypic', 1), ('mood', 2), ('depletion', 1), ('facilitate', 2), ('decreasing', 4), ('brazilians', 4), ('tcf7l2', 5), ('close', 6), ('impacts', 2), ('cox', 5), ('val511ala', 8), ('antagonize', 4), ('nsaids', 5), ('colon', 9), ('nsaid', 9), ('americans', 18), ('consistently', 8), ('i105v', 2), ('a114v', 2), ('gstp1', 6), ('c19007t', 1), ('epithelial', 4), ('exert', 6), ('fh', 3), ('838g', 3), ('gmnn', 2), ('387c', 3), ('cdt1', 4), ('fashion', 3), ('dd', 18), ('convincing', 2), ('active', 6), ('uvntr', 5), ('poor', 7), ('sleep', 7), ('neuroleptics', 2), ('iddm', 13), ('inconclusive', 5), ('mediates', 1), ('compatible', 5), ('ptch', 1), ('bcc', 1), ('precursor', 1), ('ards', 1), ('physiological', 4), ('derangement', 1), ('preclude', 3), ('cowden', 2), ('syndrome', 47), ('endometrial', 6), ('adr', 1), ('intervention', 2), ('extent', 21), ('33a', 2), ('conferred', 9), ('894tt', 4), ('et', 4), ('ivs1a', 1), ('465c', 1), ('reduces', 8), ('paranoid', 5), ('subtype', 17), ('mef2a', 5), ('21', 16), ('psychiatric', 6), ('obr', 3), ('scd', 2), ('recently', 5), ('shown', 14), ('mannose', 1), ('binding', 16), ('lectin', 1), ('respiratory', 7), ('cystic', 3), ('fibrosis', 6), ('270t', 2), ('344', 5), ('kazakh', 2), ('barlikun', 1), ('l10p', 5), ('brca1', 8), ('realized', 2), ('induction', 14), ('ht2a', 4), ('tf', 3), ('a2aar', 1), ('genomic', 14), ('634', 6), ('duration', 6), ('nonconservative', 1), ('estimated', 4), ('300', 1), ('000', 2), ('when', 17), ('arguing', 1), ('rs1800947', 2), ('moderates', 1), ('adolescent', 3), ('maltreatment', 2), ('assessment', 14), ('unique', 8), ('upregulate', 1), ('local', 2), ('vivo', 12), ('stimuli', 1), ('postintervention', 1), ('acting', 3), ('elsewhere', 2), ('infiltration', 5), ('microglia', 1), ('586', 1), ('lowered', 1), ('ccr5', 12), ('slight', 3), ('dsdna', 3), ('lupus', 8), ('nephritis', 8), ('postulated', 3), ('t98p', 1), ('benign', 1), ('cf', 7), ('spinal', 2), ('disc', 2), ('degeneration', 1), ('cmc1', 2), ('observations', 31), ('reducing', 12), ('excretion', 5), ('hydroxyestradiol', 2), ('antiproliferative', 2), ('metabolite', 2), ('endometrium', 3), ('power', 9), ('xrcc2', 1), ('combining', 4), (\"'candidate'\", 3), ('p187s', 6), ('r72p', 10), ('double', 8), ('88', 3), ('ci', 13), ('15', 47), ('011', 3), ('ile', 10), ('driven', 7), ('excess', 11), ('th2', 7), ('bet', 1), ('airways', 3), ('1993t', 2), ('aia', 6), ('mdm2', 5), ('hnpcc', 4), ('tagged', 2), ('08', 16), ('0401', 12), ('04', 13), ('nevertheless', 5), ('14', 20), ('72', 12), ('pbc', 4), ('heterogeneous', 2), ('backgrounds', 1), ('participants', 3), ('tentative', 1), ('conclusions', 1), ('opioid', 3), ('pain', 2), ('reward', 2), ('uncertain', 1), ('7216a', 1), ('ro52', 1), ('ss', 3), ('panel', 2), ('thrombogenic', 3), ('consisting', 3), ('g1691a', 2), ('h1299r', 1), ('prothrombin', 3), ('g20210a', 4), ('xiii', 2), ('v34l', 1), ('455g', 3), ('hpa1', 1), ('l33p', 1), ('a1298c', 3), ('snp021', 3), ('scn7a', 3), ('deserves', 5), ('a1', 12), ('a3', 1), ('dilated', 3), ('cardiomyopathy', 6), ('itself', 11), ('chi2', 2), ('66', 2), ('01', 9), ('gst', 4), ('brazilian', 11), ('pgrn', 2), ('leiden', 9), ('fd', 1), ('dominantly', 2), ('normally', 1), ('functioning', 3), ('molecules', 7), ('prevent', 3), ('t677', 1), ('slightly', 8), ('myalgia', 1), ('atorvastatin', 2), ('experience', 3), ('express', 3), ('copies', 2), ('thbs', 1), ('g1678a', 1), ('modifier', 20), ('ohio', 1), ('cohort', 31), ('perhaps', 12), ('efficiency', 1), ('cd24', 1), ('surface', 2), ('replicate', 14), ('hungarian', 4), ('ahrr', 4), ('ahr', 6), ('arnt', 3), ('transition', 6), ('kcnq1', 30), ('p448r', 12), ('r519h', 12), ('g643s', 12), ('kcne1', 20), ('g38s', 12), ('d85n', 12), ('kcne4', 10), ('e145d', 12), ('atrial', 13), ('fibrillation', 12), ('arg389gly', 1), ('mm', 4), ('81', 2), ('met', 7), ('lv', 5), ('dimension', 1), ('normotensive', 4), ('sympathetic', 4), ('growth', 10), ('trinucleotide', 7), ('vldlr', 2), ('ugt1a8', 1), ('widely', 2), ('manifestation', 8), ('primarily', 11), ('playing', 3), ('lansoprazole', 1), ('cyp2c19', 3), ('symptomatic', 2), ('gerd', 1), ('mlh3', 5), ('pms1', 5), ('msh2', 7), ('msh3', 5), ('msh6', 6), ('chlamydia', 3), ('stimulated', 3), ('subtypes', 18), ('httlpr', 8), ('past', 5), ('fit', 4), ('point', 15), ('tb', 6), ('77c', 3), ('very', 27), ('few', 4), ('including', 25), ('virtually', 3), ('poles', 2), ('skeletal', 9), ('muscle', 10), ('fiber', 1), ('composition', 3), ('dutch', 7), ('1f', 6), ('pten', 1), ('jews', 5), ('cohorts', 9), ('angiotensin', 9), ('converting', 4), ('59029', 3), ('originally', 2), ('bd', 4), ('series', 5), ('played', 3), ('trait', 9), ('expressivity', 2), ('incomplete', 2), ('174', 7), ('pathology', 7), ('iai', 2), ('mother', 3), ('connected', 3), ('immunological', 3), ('reaction', 4), ('ugt2b15', 2), ('dihydrotestosterone', 2), ('asp85tyr', 2), ('g972r', 5), ('seen', 15), ('gdm', 7), ('asp', 11), ('alzheimer', 4), ('codons', 5), ('119', 2), ('432', 5), ('correlations', 7), ('eralpha', 3), ('erbeta', 4), ('expressions', 7), ('coga', 2), ('history', 31), ('blackouts', 1), ('drunkenness', 2), ('lack', 29), ('outcomes', 4), ('seems', 41), ('sl2', 1), ('evolved', 1), ('context', 10), ('transmission', 11), ('advantage', 2), ('frzb', 3), ('82s', 1), ('upregulates', 1), ('engagement', 1), ('s100', 1), ('calgranulins', 1), ('thereby', 9), ('enhanced', 18), ('proinflammatory', 5), ('pro', 5), ('distribution', 23), ('bmi', 19), ('cfh', 5), ('epistasis', 2), ('ercc6', 2), ('functions', 3), ('universal', 3), ('pol', 2), ('cellular', 7), ('reducible', 2), ('adduct', 2), ('accumulation', 11), ('gastric', 37), ('invasion', 7), ('formed', 2), ('statistics', 2), ('t2854g', 1), ('postprandial', 2), ('hebephrenic', 2), ('interferon', 4), ('cal', 14), ('kd', 7), ('c311s', 2), ('hunan', 3), ('g148a', 2), ('rs6295', 1), ('generally', 9), ('detected', 18), ('180a', 1), ('a60a', 1), ('dynamic', 1), ('equilibrium', 10), ('hox', 1), ('paralog', 1), ('cryptorchidism', 3), ('wild', 6), ('inhaled', 3), ('so2', 2), ('evidences', 1), ('contributions', 2), ('exon2', 2), ('exon13', 1), ('surrounding', 1), ('padi4', 5), ('overexpressed', 5), ('1beta', 13), ('grip1', 4), ('carbohydrate', 2), ('mbc', 1), ('occupation', 1), ('characterised', 3), ('chemicals', 4), ('polycyclic', 1), ('aromatic', 2), ('hydrocarbons', 1), ('pah', 6), ('capable', 2), ('inducing', 5), ('clues', 1), ('bc', 2), ('genders', 1), ('regulated', 7), ('processes', 7), ('network', 5), ('would', 18), ('mcp', 11), ('232c', 2), ('contributor', 11), ('identifies', 5), ('class', 19), ('sarcoidosis', 9), ('c2', 6), ('importantly', 2), ('lipoatrophic', 2), ('japan', 7), ('pmf', 1), ('regardless', 8), ('vf', 1), ('commonly', 4), ('four', 7), ('18', 9), ('mutants', 1), (\"individual's\", 3), ('lipaemia', 1), ('g908r', 4), ('gilbert', 2), ('original', 7), ('interact', 15), ('implies', 16), ('valuable', 8), ('short', 12), ('ttta', 2), ('repeats', 13), ('links', 5), ('expressing', 3), ('spsp', 3), ('006', 3), ('interindividual', 3), ('proclivity', 1), ('outward', 1), ('self', 3), ('contrast', 19), ('ppis', 2), ('esomeprazole', 2), ('healing', 3), ('metabolic', 30), ('shift', 2), ('preferential', 2), ('poorer', 4), ('prognosis', 47), ('4ralpha', 1), ('assessing', 3), ('carriage', 14), ('511', 10), ('vaca', 1), ('m1', 2), ('im', 1), ('tlr2', 11), ('southwestern', 1), ('france', 1), ('w64r', 1), ('ucp', 2), ('3826g', 1), ('amsterdam', 1), ('homosexual', 1), ('589t', 4), ('delayed', 2), ('acquisition', 6), ('x4', 1), ('interference', 2), ('sense', 1), ('03', 5), ('meta', 12), ('pca', 2), ('hand', 2), ('oa', 5), ('cartilage', 3), ('notwithstanding', 1), ('vitamins', 1), ('modulators', 1), ('oxodg', 1), ('psv', 1), ('balance', 6), ('1499', 2), ('tbx21', 1), ('fact', 7), ('implications', 8), ('spina', 1), ('bifida', 1), ('work', 13), ('description', 2), ('cyp26a1', 1), ('il12b', 1), ('fmv', 8), ('col3a1', 4), ('mvp', 12), ('1166', 2), ('nos3', 2), ('894', 2), ('v89l', 4), ('264', 3), ('implication', 16), ('rgs4', 13), ('disc1', 11), ('gln223arg', 8), ('elevation', 3), ('ratings', 3), ('diagnostic', 9), ('interview', 3), ('revised', 3), ('schedule', 3), ('p844l', 1), ('s845g', 1), ('asian', 10), ('indians', 25), ('adhd', 6), ('val158met', 5), ('clustering', 4), ('c566t', 2), ('pof', 4), ('v162', 1), ('309t', 1), ('lmfv', 1), ('venous', 7), ('ct60a', 2), ('positions', 4), ('discarded', 2), ('completed', 2), ('suicides', 2), ('maoa', 4), ('dysregulation', 9), ('neurogenesis', 3), ('ppp1r3', 1), ('gln223', 1), ('peak', 3), ('nationality', 14), ('consequently', 2), ('supportive', 3), ('neurodevelopmental', 3), ('delineating', 3), ('pathogenetic', 5), ('subunit', 7), ('maybe', 8), ('bipolar', 7), ('strongest', 5), ('glyl6', 1), ('tested', 14), ('display', 3), ('cw', 3), ('psoriasis', 8), ('adhesion', 3), ('spms', 2), ('ppms', 2), ('inos', 2), ('cd36pro90ser', 1), ('necessarily', 2), ('fatty', 6), ('acid', 17), ('top', 1), ('professional', 1), ('cyclists', 1), ('completing', 1), ('classic', 6), ('wk', 1), ('tour', 1), ('endurance', 2), ('athletes', 2), ('elite', 1), ('runners', 1), ('whom', 1), ('pgr', 1), ('ter447', 2), ('hemochromatosis', 1), ('intragenic', 1), ('dysbindin', 5), ('dtnbp1', 10), ('dao', 10), ('nrg1', 8), ('327', 1), ('lrp6', 1), ('bmp15', 3), ('lebanese', 1), ('types', 15), ('sep15', 1), ('1612', 4), ('implying', 7), ('progesterone', 1), ('aggressiveness', 9), ('exposed', 26), ('synergistic', 9), ('m', 9), ('diagnosed', 4), ('pihs', 2), ('deny', 1), ('pxn', 1), ('somatic', 4), ('d1', 9), ('younger', 21), ('scale', 7), ('collaborative', 2), ('snca', 1), ('xpa', 9), ('677c', 2), ('thromboembolism', 1), ('anv', 1), ('aged', 7), ('ashkenazi', 5), ('hnf4a', 2), ('1438g', 2), ('shtr2a', 1), ('proved', 2), ('mentally', 1), ('156', 1), ('azoospermia', 2), ('oligozoospermia', 1), ('boule', 1), ('eliminated', 1), ('spermatogenesis', 2), ('deteriorating', 3), ('gallbladder', 3), ('cck', 4), ('ar', 8), ('promoted', 5), ('gallstone', 1), ('interesting', 8), ('encodes', 2), ('amino', 10), ('transporter', 5), ('regulates', 2), ('tryptophan', 3), ('availability', 5), ('serotonin', 9), ('synthesis', 7), ('appetite', 2), ('multivariate', 2), ('yielded', 2), ('0004', 2), ('q', 4), ('cholesterol', 19), ('cofactors', 3), ('22', 5), ('sz', 2), ('rhuepo', 2), ('capd', 1), ('e1317q', 1), ('meaningful', 1), ('suicidal', 4), ('information', 21), ('12p70', 2), ('lps', 6), ('s100b', 1), ('indirect', 6), ('sd', 2), ('hypothesized', 1), ('295', 1), ('australian', 9), ('tension', 1), ('ivs', 2), ('opa1', 1), ('underlie', 2), ('diversity', 2), ('taqib', 2), ('macroalbuminuria', 2), ('reactive', 3), ('359t', 2), ('303a', 2), ('pi', 3), ('msp', 3), ('homozygous', 52), ('874a', 1), ('contracting', 1), ('aortic', 3), ('distensibility', 2), ('antitrypsin', 1), ('cp', 3), ('esr2', 3), ('k121q', 8), ('derived', 6), ('collectively', 1), ('benefits', 1), ('overshadow', 1), ('salutary', 1), ('v64i', 3), ('chat', 1), ('ssvs', 2), ('approach', 3), ('analyzing', 2), ('simultaneously', 8), ('ltc4s', 2), ('444', 5), ('176', 4), ('147', 4), ('alox5ap', 5), ('169', 6), ('146', 4), ('clinicians', 1), ('methadone', 2), ('dosage', 3), ('individualization', 1), ('hyperinsulinemia', 3), ('htr1a', 2), ('contributors', 3), ('anger', 1), ('aggression', 5), ('behaviors', 3), ('sharing', 2), ('19p13', 3), ('1073', 4), ('exhibited', 5), ('olr1', 5), ('q192r', 5), ('dm', 13), ('conditions', 10), ('046', 2), ('test', 6), ('028', 2), ('gpr54', 1), ('ihh', 1), ('recessive', 5), ('550', 1), ('food', 4), ('thienopyridine', 1), ('p2y12', 1), ('h2', 2), ('remaining', 4), ('piece', 5), ('0404', 5), ('936t', 1), ('confirmation', 8), ('ireland', 1), ('rs4680', 2), ('rs4646903', 2), ('besides', 3), ('lymph', 2), ('node', 2), ('t393c', 4), ('clear', 6), ('reliably', 3), ('lib', 3), ('long', 13), ('ll', 3), ('tolerance', 6), ('rapidly', 6), ('sert', 3), ('tg', 3), ('30', 5), ('fenofibrate', 1), ('1675', 1), ('r', 10), ('structural', 9), ('cyp3a43', 14), ('testosterone', 10), ('v600e', 3), ('stable', 3), ('stages', 3), ('excellent', 1), ('unstable', 7), ('sepsis', 7), ('being', 30), ('nuclear', 2), ('nf', 6), ('kappab', 3), ('organ', 4), ('md', 1), ('g38a', 3), ('homogeneous', 4), ('38aa', 2), ('r399q', 6), ('platinum', 6), ('nac', 2), ('bulky', 3), ('mdr', 3), ('documented', 6), ('aldose', 2), ('reductase', 4), ('his', 10), ('213', 2), ('demonstrable', 1), ('considerable', 2), ('adequate', 5), ('become', 4), ('manifest', 2), ('mic', 2), ('enterocytes', 1), ('under', 8), ('stressful', 2), ('ligands', 1), ('intraepithelial', 1), ('gammadelta', 1), ('presented', 5), ('8570g', 1), ('hubei', 3), ('strikingly', 3), ('pathologies', 3), ('uveitis', 2), ('ppargc1', 4), ('apoa5', 2), ('lipoprotein', 7), ('cholosteal', 1), ('daoa', 6), ('optic', 3), ('neuropathy', 2), ('rs1862214', 5), ('pdcd5', 5), ('suppressor', 6), ('action', 4), ('arg151cys', 2), ('arg160trp', 2), ('asp294his', 2), ('red', 3), ('hair', 2), ('fair', 2), ('skin', 7), ('ultraviolet', 2), ('aggressive', 5), ('forms', 18), ('looked', 3), ('favorable', 6), ('514', 3), ('ldl', 11), ('macrophages', 2), ('actions', 4), ('loperamide', 1), ('fe65', 1), ('173', 7), ('northwest', 5), ('ocs', 1), ('need', 15), ('24', 7), ('imbalance', 2), ('ifng', 4), ('irf1', 2), ('instability', 6), ('msi', 6), ('chk1', 5), ('framshift', 5), ('tumourigenesis', 5), ('defect', 8), ('hnpccs', 5), ('stratification', 5), ('aneurysmal', 2), ('predicts', 6), ('pegvisomant', 1), ('acromegaly', 1), ('erythema', 1), ('nodosum', 1), ('mlh1', 6), ('flow', 3), ('vulnerable', 3), ('94', 1), ('delattg', 2), ('psa', 2), ('newfoundland', 1), ('gpx', 1), ('sh2d2a', 4), ('activation', 18), ('how', 3), ('synapsin', 4), ('pvrl2', 1), ('0405', 47), ('vkh', 17), ('resistant', 20), ('ocular', 16), ('visual', 22), ('nine', 1), ('ectodomains', 1), ('mestizo', 2), ('mexico', 2), ('city', 3), ('orizaba', 1), ('mexican', 12), ('starr', 1), ('county', 1), ('texas', 1), ('nearby', 18), ('enhances', 5), ('finds', 2), ('clinicopathologic', 2), ('variables', 6), ('considering', 11), ('221', 4), ('concluded', 27), ('43', 2), ('56', 4), ('63', 2), ('capn10', 2), ('limited', 18), ('west', 5), ('africans', 3), ('hybridization', 1), ('2257', 2), ('pathophysiologic', 3), ('feature', 3), ('thr92ala', 2), ('t2d', 2), ('greek', 2), ('receptors', 3), ('aga', 1), ('fully', 1), ('occlusion', 1), ('cyp11b2', 5), ('left', 13), ('ventricular', 18), ('panic', 11), ('noncognitive', 1), ('overtransmission', 1), ('nrcam', 1), ('appeared', 6), ('obsessive', 1), ('compulsive', 1), ('necessary', 13), ('address', 2), ('1055', 3), ('copd', 14), ('beijing', 4), ('hsp70', 4), ('ca', 16), ('hearing', 4), ('slc3a1', 9), ('cystinuria', 6), ('rates', 9), ('implantation', 1), ('bearing', 5), ('statins', 1), ('interfere', 2), ('consequence', 5), ('accordance', 3), ('ntg', 1), ('amount', 3), ('secretory', 2), ('apa', 1), ('f158', 1), ('rutter', 3), ('adversity', 6), ('dat1', 4), ('psychosocial', 3), ('comparisons', 1), ('normoglycaemia', 1), ('aire1', 1), ('c1773', 2), ('hypercholesterolaemia', 2), ('glut', 1), ('xbai', 1), ('evaluation', 5), ('regions', 10), ('pre', 4), ('eclampsia', 5), ('translocation', 1), ('tser', 1), ('efficacious', 1), ('oral', 9), ('chemotherapy', 14), ('curative', 4), ('resection', 1), ('igfbp', 2), ('sensitive', 8), ('perilipin', 1), ('hd', 2), ('impairments', 1), ('reactivity', 3), ('microcirculation', 2), ('2a', 3), ('ssri', 1), ('antidepressant', 6), ('ifn', 13), ('heteroallelic', 1), ('mg', 4), ('issues', 1), ('fas', 4), ('jointly', 5), ('areas', 2), ('m55', 1), ('cnr1', 1), ('myeloid', 1), ('leukemia', 4), ('representative', 4), ('lost', 2), ('restricted', 10), ('660l', 2), ('moderately', 3), ('airway', 7), ('timp', 3), ('gd', 9), ('designated', 1), ('accelerated', 3), ('pntr', 1), ('lp', 1), ('estrogen', 19), ('cyp19', 5), ('fracture', 1), ('esrd', 4), ('questions', 2), ('whether', 14), ('pkd1', 1), ('simply', 1), ('inactivate', 1), ('products', 1), ('r497k', 4), ('consequential', 3), ('down', 5), ('receiving', 8), ('metastatic', 4), ('105v', 1), ('114v', 1), ('113h', 1), ('139h', 1), ('mephx', 1), ('imbalanced', 1), ('signifying', 1), ('requirement', 4), ('genotyping', 24), ('daily', 4), ('required', 7), ('interpreted', 3), ('cautiously', 1), ('displaying', 1), ('extreme', 3), ('persistent', 5), ('pervasive', 1), ('m55l', 1), ('anglo', 2), ('celtic', 1), ('rs2918419', 1), ('clearly', 10), ('adipocytes', 8), ('countries', 7), ('arginine', 3), ('calcium', 4), ('oxalate', 2), ('stone', 7), ('matched', 4), ('cx50', 1), ('c282y', 6), ('normoalbuminuric', 1), ('ctla4', 4), ('subclinical', 1), ('1420c', 1), ('susceptibilities', 2), ('hebei', 2), ('colorectum', 1), ('get', 1), ('before', 9), ('13910', 1), ('22018', 1), ('crohn', 1), ('british', 5), ('nonsense', 3), ('splice', 2), ('malignancies', 2), ('originating', 1), ('extraadrenal', 1), ('paragangliomas', 1), ('106t', 3), ('across', 17), ('ethnicities', 1), ('54', 4), ('nationalities', 1), ('mbp', 3), ('persistence', 3), ('hepatitis', 7), ('idea', 6), ('progins', 1), ('c3435t', 6), ('rearrangements', 1), ('individually', 5), ('withdrawal', 4), ('predisposes', 11), ('33t', 1), ('evaluating', 2), ('drd5', 2), ('0103', 8), ('ikbl', 2), ('738', 3), ('marks', 3), ('propensity', 5), ('extensive', 6), ('reelin', 1), ('c178t', 1), ('pro16ser', 1), ('var321', 1), ('ts', 6), ('questionnaire', 1), ('epidemiological', 3), ('surrogate', 4), ('lvd', 3), ('aberrant', 1), ('tissues', 2), ('25cag', 1), ('allozyme', 2), ('protects', 3), ('lt', 2), ('mds', 1), ('aml', 2), ('verifies', 1), ('idh1', 1), ('a23g', 6), ('xpc', 12), ('lys939gln', 5), ('i249', 4), ('g1704t', 1), ('g82s', 1), ('0303', 9), ('0601', 7), ('property', 1), ('delta32', 9), ('ccr2', 13), ('64i', 10), ('sdf', 2), ('carried', 4), ('tpoabs', 1), ('subclassify', 1), ('inclusion', 1), ('bangladesh', 1), ('fibrocalculous', 1), ('tropical', 2), ('calcific', 2), ('adenomyosis', 2), ('1154', 1), ('hsp', 3), ('procedure', 1), ('protect', 10), ('oxaliplatin', 3), ('fu', 4), ('downregulation', 3), ('hip', 6), ('parameters', 10), ('af', 7), ('homocysteine', 7), ('1012t', 2), ('perforin', 2), ('conclusively', 4), ('vdcc', 1), ('subsets', 5), ('polygenic', 6), ('haemophilia', 1), ('complication', 1), ('inc', 1), ('endotoxin', 2), ('infantile', 1), ('cholestasis', 3), ('298', 5), ('arg271cys', 1), ('syndromes', 4), ('became', 2), ('once', 2), ('causally', 3), ('aih', 4), ('akr1b1', 1), ('dn', 7), ('del', 6), ('rbc', 1), ('etiologic', 2), ('1438a', 1), ('1103c', 4), ('1103cc', 4), ('accounted', 4), ('lilra3', 3), ('cw6', 7), ('hind', 2), ('polymorphysm', 1), ('sclc', 2), ('cyp3a', 3), ('ccr2b', 2), ('asp298', 6), ('potent', 1), ('dach2', 1), ('il6', 12), ('572g', 2), ('attack', 2), ('185', 2), ('conversion', 4), ('igt', 3), ('htr2a', 8), ('add1', 4), ('gly460gly', 1), ('albuminuria', 3), ('460gly', 1), ('homozygosis', 1), ('facilitating', 1), ('460trp', 1), ('mitigating', 1), ('noxious', 1), ('steroidogenesis', 1), ('v281l', 1), ('glu420lys', 1), ('concomitant', 3), ('dermatitis', 1), ('spt', 1), ('bile', 4), ('acids', 7), ('r551', 1), ('imparts', 1), ('shh', 6), ('isolated', 2), ('clefts', 1), ('hispanic', 9), ('usa', 2), ('oxidized', 2), ('0803', 8), ('bunashimeji', 8), ('mushroom', 4), ('latino', 3), ('progress', 5), ('cftr', 3), ('gly82ser', 1), ('beacon', 1), ('870a', 2), ('ckiepsilon', 1), ('ex', 3), ('cytotoxic', 4), ('g2133c', 1), ('episodic', 1), ('mefv', 1), ('localization', 1), ('l55', 1), ('autopsy', 2), ('verified', 1), ('finns', 2), ('675', 4), ('markedly', 6), ('cx40', 2), ('substrate', 6), ('reentry', 2), ('786t', 4), ('tap2', 2), ('03032', 2), ('3435', 1), ('htx', 2), ('remain', 1), ('steroids', 1), ('mdr1', 5), ('g2677', 1), ('pediatric', 5), ('occupational', 3), ('coke', 1), ('oven', 1), ('workers', 9), ('leu7pro', 2), ('peptide', 8), ('prepro', 1), ('iron', 10), ('deposits', 1), ('routinely', 2), ('specimen', 1), ('correlates', 3), ('urothelial', 1), ('tsh', 1), ('rs4704397', 1), ('guidelines', 2), ('imt', 4), ('pointing', 1), ('redox', 2), ('atherogenesis', 1), ('appreciably', 1), ('differential', 21), ('mhc', 4), ('e4', 5), ('thoroughly', 3), ('varies', 3), ('oestrogen', 4), ('lymphomagenesis', 2), ('t54', 2), ('2018', 1), ('definitive', 1), ('toll', 6), ('allergic', 11), ('eosinophilia', 5), ('adenomatous', 2), ('polyposis', 1), ('additive', 7), ('arg64', 1), ('3826', 1), ('ucp1', 1), ('randomly', 1), ('recruited', 2), ('cedar', 1), ('pollen', 1), ('still', 3), ('clarification', 1), ('n367t', 3), ('g1385a', 2), ('c34t', 5), ('failure', 7), ('cardiac', 11), ('donors', 3), ('hnf', 1), ('insignificant', 1), ('leu544ile', 1), ('boys', 1), ('emphysema', 1), ('stronger', 3), ('hometown', 2), ('socio', 2), ('economic', 2), ('basic', 1), ('term', 4), ('485a', 1), ('241', 2), ('240tt', 1), ('485', 1), ('240', 3), ('pro2', 1), ('shmt', 1), ('c1420t', 1), ('congenital', 4), ('sclerosing', 1), ('cholangitis', 1), ('ica', 1), ('hcm', 2), ('abca1', 2), ('paclitaxel', 4), ('heat', 1), ('proteins', 3), ('hspa1l', 2), ('344t', 3), ('shandong', 1), ('spite', 3), ('hippocampal', 1), ('volunteers', 1), ('western', 7), ('europe', 2), ('exerts', 2), ('pending', 3), ('iv', 5), ('cluster', 12), ('273', 1), ('mdd', 3), ('irs1', 7), ('pima', 22), ('adverse', 8), ('gist', 1), ('slc7a9', 3), ('742g', 2), ('placental', 2), ('abruption', 1), ('tandem', 3), (\"enzyme's\", 1), ('activating', 1), ('w', 1), ('mgmt', 2), ('opposite', 1), ('atm', 7), ('1306', 3), ('triplet', 5), ('psychotic', 3), ('thyroid', 6), ('weakly', 2), ('482t', 1), ('455c', 1), ('range', 5), ('malignant', 8), ('identical', 3), ('ap', 3), ('nmdar', 4), ('glutamatergic', 3), ('rep1', 1), ('make', 8), ('ontario', 2), ('polysubstance', 1), ('map', 6), ('dopaminergic', 3), ('stimulation', 5), ('frontostriatal', 1), ('circuitry', 1), ('consequences', 7), (\"parkinson's\", 5), ('supported', 1), ('333g', 1), ('286a', 1), ('microsatellites', 2), ('random', 3), ('invasive', 4), ('a38g', 1), ('rs2267668', 1), ('ppargc1a', 1), ('effectiveness', 1), ('aerobic', 2), ('exercise', 7), ('training', 2), ('fitness', 2), ('il12bpro', 2), ('dmb', 8), ('improve', 4), ('thrombophilic', 4), ('phosphoinositol', 1), ('signalling', 3), ('lithium', 2), ('merits', 2), ('1186c', 2), ('lys173', 2), ('pattern', 4), ('hyper', 2), ('impulsive', 8), ('hyporeactive', 1), ('anxious', 1), ('depressive', 7), ('abstainers', 1), ('drb4', 2), ('goitrous', 3), ('neuropathogenesis', 3), ('nervous', 3), ('cns', 6), ('births', 1), ('896', 2), ('burn', 1), ('trauma', 3), ('country', 6), ('values', 4), ('overload', 3), ('toxicity', 9), ('dbh', 1), ('turnover', 2), ('rs2000813', 1), ('lipg', 1), ('dvt', 3), ('260c', 5), ('174g', 17), ('lcas', 4), ('haart', 1), ('biologically', 1), ('just', 5), ('erbb4', 2), ('nrg', 3), ('4111', 1), ('e237g', 1), ('excludes', 2), ('fc', 8), ('ri', 1), ('angiographically', 7), ('mtatp6', 1), ('sperm', 2), ('mitochondria', 1), ('motility', 3), ('278a', 1), ('370g', 1), ('430g', 1), ('467t', 1), ('468g', 1), ('tce', 1), ('medicamentosa', 1), ('81a', 1), ('81g', 1), ('intractable', 1), ('differe', 1), ('3435t', 2), ('nortriptyline', 2), ('postural', 2), ('37', 1), ('042', 2), ('86', 5), ('classical', 2), ('counterparts', 1), ('107', 1), ('l55m', 1), ('sicilian', 1), ('hypercholesterolemic', 4), ('erosive', 1), ('antibodies', 2), ('ip', 1), ('alox5', 3), ('various', 2), ('59029a', 2), ('6235c', 1), ('fighting', 1), ('harbours', 1), ('rule', 8), ('cross', 7), ('validation', 3), ('jp', 4), ('ge', 3), ('laterality', 1), ('glutamine', 4), ('residue', 2), ('753', 1), ('transduction', 1), ('nicotine', 6), ('administration', 5), ('nd', 3), ('epac', 1), ('neighboring', 1), ('lada', 2), ('extension', 1), ('pathophysiological', 9), ('mestizos', 1), ('amerindians', 1), ('attacks', 1), ('c6235', 3), ('cytochrome', 3), ('p450', 2), ('bsmi', 2), ('annual', 1), ('periods', 1), ('latent', 1), ('esrra23', 1), ('pro116pro', 1), ('mediating', 3), ('sectional', 3), ('180g', 1), ('resistin', 1), ('262c', 1), ('psoriatic', 2), ('claimed', 1), ('vulgaris', 3), ('tgfb1', 3), ('eastern', 5), ('yixing', 2), ('231', 4), ('juvenile', 4), ('main', 14), ('headache', 1), ('settings', 2), ('document', 2), ('158v', 3), ('gamma', 18), ('riiib', 2), ('na2', 2), ('racial', 2), ('regarded', 2), ('undertaken', 2), ('brazil', 2), ('318', 1), ('75', 3), ('83', 3), ('113a', 1), ('scottish', 6), ('followed', 2), ('estimation', 3), ('diplotype', 2), ('configuration', 2), ('ssz', 2), ('4r', 2), ('576r', 4), ('aicda', 1), ('8408t', 1), ('tfpi', 2), ('139', 2), ('orolaryngeal', 1), ('blacks', 3), ('follow', 3), ('entry', 2), ('global', 2), ('must', 4), ('maintenance', 2), ('nonprogression', 1), ('ptpn22', 9), ('ngn3', 1), ('m196r', 1), ('676', 1), ('cytokines', 2), ('gly15gly', 1), ('adh2', 2), ('2992t', 1), ('offspring', 6), ('restraint', 1), ('birth', 4), ('cord', 1), ('igf', 6), ('compensatory', 2), ('postnatal', 2), ('catch', 1), ('evident', 4), (\"mother's\", 1), ('born', 1), ('infants', 7), ('interestingly', 2), ('progressive', 6), ('macular', 1), ('atrophy', 4), ('hyperopia', 1), ('intestinal', 5), ('stomach', 4), ('cardia', 6), ('herein', 3), ('isoflavone', 1), ('supplementation', 1), ('biomarkers', 1), ('numeric', 1), ('scores', 4), ('assigned', 1), ('demographic', 1), ('sequentially', 1), ('algorithm', 1), ('composite', 1), ('score', 3), ('linearly', 1), ('bimodal', 1), ('intrinsic', 1), ('gdpp', 1), ('girls', 4), ('eeg', 3), ('atayal', 2), ('producing', 7), ('proline', 3), ('indeed', 3), ('retard', 4), ('105a', 1), ('nt3', 1), ('genetical', 1), ('hcc', 13), ('metastasis', 9), ('htcf', 1), ('g341a', 1), ('ser88asn', 1), ('changsha', 1), ('ch', 2), ('faslg', 1), ('basis', 14), ('periodontitis', 9), ('destruction', 7), ('rs2235371', 1), ('rs642961', 1), ('nscl', 1), ('g191r', 1), ('mitigates', 1), ('intrapancreatic', 1), ('trypsin', 1), ('preeclampsia', 11), ('grk3', 3), ('confined', 1), ('worse', 7), ('os', 2), ('squamous', 13), ('histology', 2), ('explaining', 2), ('myopia', 1), ('hypertrophic', 1), ('d90a', 1), ('italy', 3), ('already', 2), ('easily', 1), ('rflp', 4), ('comparison', 2), ('sult1a2', 1), ('gly146ala', 1), ('dinucleotide', 5), ('respective', 3), ('arg38gln', 2), ('collection', 3), ('384', 1), ('114', 1), ('epilepsy', 3), ('3020insc', 1), ('1267', 4), ('community', 4), ('pneumonia', 5), ('lymphotoxin', 2), ('250', 2), ('thoracic', 1), ('empyema', 1), ('fails', 2), ('tph', 4), ('a218c', 4), ('fluvoxamine', 2), ('associates', 7), ('vicinity', 1), ('dr4', 3), ('dr5', 1), ('italians', 1), ('russians', 3), ('analyze', 5), ('lacks', 1), ('bstui', 2), ('atp', 1), ('achilles', 1), ('powerful', 4), ('extending', 2), ('autoimmunity', 6), ('dma', 2), ('epitope', 4), ('inhibitory', 1), ('57s', 1), ('contain', 3), ('bw4', 1), ('i80', 1), ('aids', 3), ('zambian', 1), ('enhance', 8), ('homologue', 2), ('capn5', 1), ('ugt1a9', 1), ('transcriptional', 7), ('activities', 5), ('ugts', 1), ('glucuronosyltransferase', 1), ('sn', 1), ('38', 1), ('runx1', 3), ('sumo4', 4), ('cosegregate', 1), ('ps1', 6), ('intronic', 9), ('serious', 1), ('galr1', 2), ('adolescents', 12), ('1306c', 1), ('solely', 1), ('carcinogen', 1), ('tests', 3), ('comparing', 3), ('probands', 2), ('tracking', 2), ('contention', 2), ('a218g', 2), (\"one's\", 2), ('11beta', 2), ('cortisol', 1), ('clearance', 6), ('ac', 1), ('unselected', 6), ('28g', 3), ('inhibition', 9), ('homer1', 1), ('rs6871510', 2), ('col8a2', 1), ('keratoconus', 2), ('corneal', 1), ('ectatic', 1), ('screened', 2), ('varepsilon4', 1), ('rheologic', 1), ('shedding', 1), ('ifngamma', 1), ('leber', 1), ('cone', 1), ('rod', 1), ('dystrophy', 1), ('retinitis', 5), ('pigmentosa', 5), ('asthmatic', 7), ('1502', 1), ('east', 1), ('mif', 3), ('neuropathologic', 3), ('5ht2a', 2), ('comorbided', 1), ('dsm', 1), ('ocd', 3), ('tourette', 1), ('relevance', 13), ('step', 1), ('background', 8), ('6526a', 1), ('218a', 1), ('enriched', 2), ('cnv', 2), ('hyperlipidemia', 1), ('adrb2', 3), ('rs7903146', 5), ('feno', 1), ('132g', 1), ('islet', 2), ('finland', 4), ('sampling', 3), ('procedures', 2), ('aao', 2), ('bpad', 1), ('producer', 3), ('1082', 2), ('renovascular', 1), ('transforming', 1), ('vitamin', 4), ('lvh', 2), ('biologic', 2), ('public', 1), ('health', 5), ('gpx1', 3), ('fcgr2b', 3), ('pharmacological', 1), ('amygdala', 1), ('rs16944', 1), ('rs116343', 1), ('nonremission', 1), ('weeks', 1), ('adrenegoc', 1), ('450', 2), ('epoxygenase', 2), ('arachidonic', 2), ('domain', 7), ('irrelevant', 1), ('greatly', 3), ('tribes', 1), ('gt', 8), ('later', 1), ('sad', 3), ('met55val', 2), ('cosmc', 2), ('chaperone', 1), ('fam', 1), ('cyp2b6', 2), ('isoforms', 2), ('peripheral', 4), ('oxygenation', 2), ('able', 4), ('ccnd1', 4), ('recessively', 4), ('superficial', 3), ('tcc', 1), ('homogenous', 1), ('genotyped', 1), ('inverse', 4), ('octapeptide', 1), ('spongiform', 1), ('encephalopathies', 1), ('rosiglitazone', 1), ('premenopausal', 7), ('crs', 2), ('date', 1), ('cs', 1), ('fuel', 1), ('management', 1), ('pmr', 4), ('leu166arg', 1), ('atypical', 1), ('pp', 3), ('barcelona', 1), ('adulthood', 7), ('1784gc', 3), ('tc', 7), ('1784g', 3), ('srebp', 5), ('enrich', 1), ('list', 3), ('trigger', 1), ('87t', 1), ('fasting', 3), ('ngt', 2), ('sulfation', 1), ('dissection', 1), ('melanoma', 3), ('paucity', 1), ('fmm', 1), ('cfa', 1), ('bilirubin', 1), ('exhibit', 2), ('distant', 1), ('44', 2), ('many', 2), ('multi', 2), ('factorial', 1), ('them', 7), ('scc', 1), ('1188', 1), ('defining', 3), ('final', 1), ('455', 9), ('gp', 16), ('pla1', 10), ('1691', 9), ('238', 10), ('889', 11), ('677', 13), ('ptca', 19), ('recurrent', 14), ('repeated', 10), ('aml1', 1), ('l467p', 2), ('ifngr1', 3), ('mn', 7), ('death', 6), ('cdh23', 1), ('pcdh15', 1), ('ush1c', 1), ('sans', 1), ('growing', 2), ('inter', 2), ('best', 4), (\"'minor\", 1), (\"gene'\", 1), ('rs7528684', 2), ('advisable', 1), ('examinations', 1), ('integrated', 1), ('comprehension', 1), ('occurence', 2), ('what', 3), ('routine', 1), ('osa', 1), ('tnfsf4', 4), ('underlies', 4), ('ath1', 2), ('homolog', 4), ('ia', 4), ('807', 2), ('873', 2), ('conversely', 2), ('89', 2), ('apoe4', 5), ('interactive', 2), ('vd', 2), ('amines', 5), ('r324g', 2), ('joints', 2), ('boundaries', 1), ('ner', 1), ('b1580', 2), ('18a', 2), ('varied', 2), ('race', 2), ('4a4b', 1), ('adjustments', 1), ('immunogenetic', 4), ('adenocarcinoma', 9), ('04051', 3), ('403a', 1), ('2518g', 1), ('aeds', 1), ('972', 6), ('sulfonylurea', 2), ('representing', 2), ('example', 3), ('pharmacogenetics', 2), ('proportionally', 1), ('rvr', 1), ('cvcr', 1), ('fibro', 1), ('calculous', 1), ('sebaceous', 1), ('gland', 1), ('melanocortin', 5), ('man', 1), ('requires', 2), ('except', 3), ('hxmi', 1), ('irs', 1), ('worsening', 2), ('microbial', 2), ('bowel', 2), ('contrary', 3), ('applied', 2), ('effective', 4), ('outside', 1), ('bradykinin', 3), ('b2', 3), ('inhibitors', 7), ('advance', 2), ('seven', 1), ('166', 1), ('occasions', 1), ('joag', 2), ('emphasizes', 1), ('harbor', 3), ('excluding', 3), ('esophageal', 9), ('haptoglobin', 3), ('obstructive', 5), ('apnea', 4), ('antioxidant', 4), ('antiinflammatory', 4), ('rarely', 4), ('lr', 1), ('axis', 2), ('anca', 2), ('typing', 2), ('3057', 1), ('mononuclear', 3), ('augmented', 4), ('native', 7), ('cavity', 1), ('pharynx', 1), ('il4', 3), ('threatening', 5), ('seasonal', 2), ('chondrosarcoma', 1), ('fmf', 1), ('002', 1), ('reciprocal', 1), ('5httlpr', 1), ('pure', 3), ('lbv', 3), ('tyr715pro', 1), ('asn562asp', 1), ('ser290asn', 1), ('807t', 1), ('alpha2', 1), ('integrin', 3), ('wall', 4), ('thickening', 2), ('research', 2), ('set', 9), ('cd38', 2), ('140', 1), ('nad', 2), ('refute', 1), ('recognition', 3), ('insufficient', 1), ('excessive', 3), ('giving', 1), ('rise', 1), ('allergies', 4), ('374', 1), ('albumin', 1), ('environment', 9), ('glu347stop', 2), ('arg366stop', 2), ('homer2', 1), ('poland', 4), ('similarity', 2), ('dba', 1), ('2j', 2), ('mouse', 4), ('pigmentary', 4), ('jamaican', 1), ('share', 3), ('reln', 3), ('251', 3), ('ob', 1), ('holds', 1), ('episode', 1), ('adolescence', 5), ('seminal', 1), ('around', 2), ('unipolar', 4), ('138', 2), ('mgp', 1), ('138c', 2), ('abdominal', 3), ('aorta', 1), ('respond', 1), ('capecitabine', 1), ('impulsiveness', 2), ('investigating', 2), ('rs7566605', 6), ('tagsnp', 5), ('insig2', 6), ('abdcir', 5), ('ser', 1), ('608', 1), ('containing', 9), ('androgen', 4), ('ratios', 2), ('pertain', 1), ('predictable', 1), ('favour', 1), ('unless', 1), ('developmental', 3), ('anomalies', 5), ('ureter', 2), ('stimulatory', 1), ('icam', 2), ('469', 2), ('t27796c', 3), ('obviously', 3), ('categories', 4), ('elective', 2), ('operative', 3), ('c609t', 5), ('tags', 1), ('576', 1), ('partition', 1), ('dying', 2), ('meningococcal', 1), ('2b', 1), ('ans', 2), ('isolation', 1), ('colobomas', 1), ('coloboma', 1), ('pax2', 1), ('aetiological', 3), ('chance', 3), ('colonization', 2), ('cst3', 1), ('260', 9), ('selected', 7), ('fch', 2), ('canadian', 3), ('xmni', 1), ('ssti', 1), ('lpl', 1), ('resulting', 8), ('complete', 2), ('asp905', 1), ('asp905tyr', 1), ('diabetogenic', 1), ('959', 1), ('radius', 1), ('calcaneus', 1), ('phytoestrogen', 1), ('calcaneal', 1), ('gives', 3), ('temperament', 3), ('serotonergic', 3), ('neurotransmission', 2), ('nphs2', 3), ('specify', 1), ('mnd', 2), ('expedient', 1), ('antioxidants', 1), ('fgb', 2), ('sensitization', 2), ('mold', 2), ('allergens', 2), ('1607', 2), ('ins', 5), ('dela', 1), ('sa', 1), ('steps', 1), ('31c', 2), ('il1ra', 1), ('newborns', 1), ('emptying', 2), ('ppi', 2), ('ulcer', 2), ('resting', 3), ('pilot', 1), ('encoded', 1), ('heterodimers', 1), ('02', 6), ('thr399ile', 2), ('mineral', 1), ('chilean', 3), ('gly40ser', 2), ('tubular', 1), ('sodium', 1), ('reabsorption', 1), ('promotes', 1), ('burden', 1), ('multiplies', 1), ('si', 1), ('2964a', 1), ('vlbw', 6), ('teicoplanin', 4), ('16', 7), ('033', 4), ('d19h', 1), ('gbc', 1), ('hev', 1), ('warrants', 4), ('elucidation', 1), ('impossible', 1), ('establish', 5), ('head', 1), ('salt', 7), ('aldosterone', 4), ('d358a', 1), ('13t', 1), ('saa1', 1), ('milder', 2), ('gclc', 1), ('p143l', 1), ('definable', 1), ('il1b', 1), ('1377g', 2), ('670a', 2), ('fasl', 4), ('844c', 2), ('431c', 1), ('tarc', 1), ('ucsnp', 2), ('virtue', 1), ('interchromosomal', 1), ('vasoconstriction', 1), ('advantageous', 1), ('improvement', 4), ('emerging', 1), ('highfrequency', 1), ('hematologic', 1), ('135c', 1), ('raising', 1), ('ages', 3), ('abcg2', 1), ('ugt1a7', 5), ('detoxification', 3), ('implicates', 5), ('hepatocarcinogenesis', 2), ('bb', 5), ('pose', 5), ('nhl', 6), ('distributions', 3), ('six', 3), ('588c', 1), ('23g', 1), ('gcs', 1), ('i164t', 3), ('pc', 4), ('faster', 2), ('159c', 6), ('diabetics', 2), ('scotland', 1), ('makes', 1), ('claim', 1), ('macrosomia', 2), ('pgm1', 1), ('gammariia', 1), ('131r', 1), ('hcy', 4), ('led', 1), ('speculation', 1), ('cardio', 1), ('cerebro', 1), ('ovca', 1), ('heterosis', 1), ('pleiotropic', 2), ('tgfbr2', 1), ('fals', 1), ('catalonia', 1), ('studying', 1), ('belgian', 1), ('proposal', 3), ('klk1', 2), ('130', 2), ('gn', 2), ('128', 2), ('deterioration', 4), ('favor', 5), ('ph', 2), ('appearance', 5), ('ischemia', 2), ('gly15arg', 2), ('netherlands', 2), ('lysine', 1), ('223', 1), ('modification', 4), ('lipoproteins', 1), ('oxidation', 2), ('hne', 1), ('ga', 2), ('neovascular', 3), ('gmt', 2), ('acl', 3), ('likelihood', 4), ('protocol', 1), ('success', 1), ('certainly', 1), (\"patients'\", 2), ('exchange', 1), ('much', 5), ('25', 2), ('ugt', 2), ('compound', 3), ('3263g', 2), ('taa', 1), ('g211a', 2), (\"gilbert's\", 2), ('614', 1), ('adducin', 1), ('quantitatively', 2), ('spectrum', 8), ('pjs', 1), ('reference', 2), ('regimens', 2), ('pxe', 1), (\"patient's\", 1), ('ser447stop', 1), ('chymase', 2), ('cma', 3), ('incipient', 5), ('overt', 4), ('1619', 1), ('agricultural', 2), ('leu554phe', 1), ('render', 1), ('detrimental', 1), ('val577', 1), ('matrix', 5), ('remodeling', 3), ('combine', 1), ('intima', 1), ('media', 1), ('bifurcation', 1), ('predilection', 1), ('1908c', 2), ('aberrations', 1), ('minimally', 1), ('basque', 3), ('c267t', 3), ('ercc2', 3), ('arising', 3), ('asymptomatic', 5), ('mca', 4), ('769', 1), ('836', 1), ('htt', 7), ('drd3', 2), ('gaba', 5), ('gamma2', 5), ('exception', 3), ('nasal', 5), ('inhalation', 3), ('141deltac', 3), ('395a', 1), ('vsa', 1), ('1055t', 1), ('arg388', 5), ('sp1', 2), ('indirectly', 1), ('malt', 1), ('msr1', 2), ('c242tpolymorphism', 1), ('superoxide', 2), ('manifested', 2), ('cat', 4), ('attenuates', 1), ('transplant', 4), ('carriership', 1), ('irf', 2), ('app', 2), ('abeta', 7), ('deposition', 2), ('176f', 2), ('eating', 6), ('mbo', 1), ('suffering', 4), ('gal', 2), ('1059g', 1), ('crp', 5), ('terminal', 2), ('ileum', 1), ('aitd', 2), ('coexistent', 1), ('exploratory', 1), ('neurohumoral', 1), ('anterior', 1), ('rf', 6), ('cyp19a1', 1), ('anal', 1), ('nonasthmatic', 1), ('colombia', 3), ('hepatic', 4), ('11q13', 1), ('icos', 1), ('psc', 3), ('uric', 2), ('vldl', 2), ('e2', 1), ('enhancer', 6), ('tyrp1', 1), ('12138inscagacc', 1), ('partitioning', 1), ('corpulence', 1), ('ednrb', 1), ('mobilization', 3), ('prenatal', 2), ('care', 2), ('rantes', 2), ('403', 2), ('q46k', 1), ('challenge', 2), ('subpopulations', 1), ('cytosine', 1), ('thymine', 1), ('losses', 1), ('anembryonic', 1), ('gestations', 1), ('strengthens', 5), ('argument', 1), ('hypercoagulability', 3), ('uteroplacental', 1), ('vasculature', 1), ('abortion', 3), ('210', 2), ('200', 1), ('220', 1), ('httpr', 1), ('episodes', 4), ('cervix', 2), ('bche', 6), ('involves', 2), ('somewhere', 1), ('way', 3), ('ltc', 1), ('pranlukast', 2), ('866', 2), ('intermediary', 2), ('serological', 2), ('scd14', 4), ('situ', 2), ('0302', 11), ('dq8', 4), ('hevein', 1), ('hcws', 1), ('inhabitants', 1), ('habit', 1), ('hp', 1), ('intrarenal', 1), ('hemodynamic', 5), ('creatinine', 1), ('hctz', 2), ('distinguish', 3), ('parp', 2), ('renin', 3), ('nedd4l', 1), ('order', 2), ('benefit', 5), ('restriction', 2), ('myeloperoxidase', 2), ('105', 2), ('indicators', 2), ('validate', 1), ('ab', 1), ('residual', 2), ('investigations', 2), ('correct', 1), ('matching', 1), ('causation', 1), ('prcas', 1), ('antihypertensive', 6), ('adra1d', 2), ('phe171cys', 1), ('iib', 2), ('abrogation', 3), ('g27466a', 2), ('g28152a', 2), ('fhc', 1), ('1332', 1), ('experimental', 1), ('design', 2), ('equal', 1), ('ser919', 1), ('lose', 4), ('acuity', 3), ('field', 4), ('rho', 2), ('haemochromatosis', 1), ('recurring', 1), ('individualized', 1), ('worsen', 1), ('t4065c', 8), ('plau', 4), ('affinity', 3), ('imposes', 1), ('fcgammariiib', 1), ('29', 3), ('nqo2', 1), ('c4', 2), ('deficient', 9), ('include', 1), ('762val', 2), ('399arg', 2), ('gln', 8), ('oc', 4), ('1315leu', 5), ('sonic', 5), ('hedgehog', 5), ('patched', 5), ('ptch1', 6), ('signaling', 9), ('2201', 2), ('0604', 2), ('dpb1', 3), ('0402', 2), ('kitlg', 1), ('arg913', 1), ('572c', 2), ('p22phox', 1), ('8914', 2), ('8594', 2), ('cd48', 1), ('1249', 4), ('m280', 4), ('counteract', 2), ('harmful', 2), ('trend', 1), ('towards', 3), ('indication', 4), ('omeprazole', 1), ('reproducible', 2), ('d302h', 2), ('lend', 1), ('hypothesised', 1), ('guca1b', 2), ('gngt1', 3), ('ile451met', 1), ('paf', 1), ('ah', 2), ('g994', 1), ('dcm', 2), ('mixed', 3), ('ancestry', 6), ('cape', 1), ('africa', 4), ('235tt', 2), ('linking', 4), ('bronchial', 3), ('hyperreactivity', 1), ('tsige', 1), ('relating', 1), ('repetitive', 1), ('carefully', 2), ('399gln', 2), ('a870g', 2), ('manifestations', 4), ('tunisia', 2), ('gstm10', 1), ('draw', 1), ('elder', 1), ('inf', 1), ('ltx', 1), ('recipients', 3), ('caribbean', 10), ('e298d', 2), ('interplay', 2), ('comorbidity', 1), ('anxiety', 3), ('ehyt', 1), ('unequivocally', 3), ('21q22', 1), ('plaque', 2), ('il18', 3), ('latex', 13), ('immediate', 5), ('hypersensitivity', 4), ('healthcare', 5), ('occupationally', 5), ('rubber', 5), ('rs740423', 1), ('rs2277737', 1), ('rs1059684', 1), ('v617f', 2), ('mpd', 1), ('biallelic', 3), ('epigenetic', 1), ('silencing', 1), ('homogeneously', 1), ('disposition', 2), ('irinotecan', 3), ('metabolites', 1), ('slco1b1', 1), ('owing', 1), ('increas', 1), ('428g', 2), ('neuropsychiatric', 1), ('sequencing', 1), ('conjunction', 2), ('1q', 1), ('trp19', 2), ('tgfbr1', 2), ('lig4', 1), ('lrrk2', 1), ('g2019s', 3), ('norway', 1), ('virus', 3), ('ptgis', 2), ('ct', 1), ('hrdh', 1), ('dimorphism', 3), ('pbmc', 1), ('glycaemia', 2), ('109', 1), ('beta3', 3), ('p57', 1), ('192', 2), ('catt', 2), ('permit', 2), ('discard', 2), ('completely', 6), ('nos2a', 2), ('969', 2), ('portal', 4), ('r227q', 2), ('retain', 2), ('micropenis', 2), ('agoraphobia', 1), ('generated', 2), ('bmpr1a', 1), ('prominent', 5), ('smad4', 1), ('ugi', 1), ('upper', 3), ('administered', 1), ('cyclosporin', 1), ('principal', 1), ('immunosuppressive', 2), ('agent', 1), ('nephrocalcinosis', 1), ('gln222arg', 1), ('odc', 1), ('nonsteroidal', 2), ('drugs', 9), ('strategy', 2), ('lxra', 1), ('glial', 1), ('neurotrophic', 1), ('transit', 1), ('constipation', 1), ('gnas1', 1), ('operate', 3), ('subjected', 1), ('malnutrition', 1), ('multivessel', 2), ('g1287a', 1), ('osteopenia', 1), ('singapore', 3), ('ert', 1), ('405', 1), ('2437', 2), ('iydividuals', 1), ('t1412c', 1), ('variayt', 1), ('ayd', 1), ('metabolizer', 1), ('yicotiye', 1), ('yot', 1), ('coumariy', 1), ('fail', 3), ('tnfrsf1b', 2), ('1p36', 2), ('pla2', 1), ('62g', 1), ('klk2', 2), ('hyperhomocysteinemia', 2), ('saturated', 1), ('resolve', 1), ('issue', 1), ('geneic', 1), ('pharmacogenetic', 5), ('antiemetic', 1), ('ht3', 1), ('antagonists', 1), ('1814c', 1), ('thr577ile', 1), ('salvage', 1), ('achieved', 1), ('reperfusion', 1), ('therapies', 1), ('schizoaffective', 1), ('permissiveness', 3), ('cyp2c9', 6), ('interacted', 1), ('bleeding', 2), ('sources', 1), ('vegf', 8), ('2702', 1), ('kir', 1), ('kirs', 1), ('nk', 1), ('0502', 2), ('eosinophilic', 2), ('752', 2), ('kdr', 2), ('p2', 7), ('c766t', 1), ('storage', 3), ('apoa', 2), ('thiopurine', 1), ('amhr2', 1), ('follicular', 2), ('phase', 4), ('amh', 1), ('fsh', 3), ('mosaicism', 1), ('mpz', 1), (\"graves'\", 3), ('raises', 2), ('extraordinary', 1), ('disparity', 1), ('470', 1), ('htr1b', 1), ('tpq', 2), ('2c', 3), ('765g', 2), ('cyp4b1', 1), ('psors1c3', 1), ('3161c', 2), ('trna', 1), ('blinding', 1), ('trachoma', 1), ('1562', 1), ('drive', 1), ('norepinephrine', 1), ('release', 4), ('nerve', 1), ('terminals', 1), ('upa', 2), ('pacrg', 1), ('mae', 1), ('heritable', 3), ('targeted', 4), ('chemokine', 5), ('ace2', 1), ('adipoq', 1), ('11365c', 2), ('4034a', 2), ('276g', 2), ('estradiol', 1), ('nonshared', 1), ('longitudinal', 1), ('semantic', 1), ('memory', 1), ('whereby', 1), ('depressionevoking', 1), ('contexts', 1), ('fcepsilonr1beta', 1), ('109t', 1), ('mast', 1), ('mediators', 1), ('mapt', 2), ('ftld', 1), ('hypofibrinolytic', 2), ('844', 2), ('warfarin', 1), ('taqi', 7), ('stones', 1), ('beta3ar', 1), ('extend', 2), ('102c', 1), ('gly460trp', 2), ('productive', 1), ('608t', 1), ('911t', 1), ('1188c', 1), ('158', 5), ('270', 3), ('currently', 1), ('available', 2), ('laboratory', 2), ('fut2', 1), ('card2', 1), ('1a', 4), ('rs4906902', 1), ('hypertriglyceridemia', 2), ('uts2', 1), ('polyalanine', 1), ('expansions', 1), ('sweden', 3), (\"3'untranslated\", 2), ('nonsmokers', 1), ('ala12', 2), ('rs1801282', 1), ('ir', 2), ('lys554arg', 2), ('accelerates', 3), ('apex1', 1), ('special', 2), ('2518', 4), ('850', 2), ('addictive', 1), ('disappeared', 1), ('hemostasis', 3), ('canadians', 1), ('fast', 3), ('prone', 3), ('heterocyclic', 4), ('1239g', 1), ('apai', 2), ('650', 1), ('noninflammatory', 1), ('neurodegenerative', 1), ('735', 1), ('adjacent', 2), ('appropriately', 1), ('powered', 1), ('pcp', 1), ('27', 15), ('gly16', 2), ('nefa', 1), ('neuropeptide', 2), ('y', 1), ('lepr', 3), ('npy', 1), ('i1000v', 1), ('guangzhou', 1), ('chengdu', 3), ('vaginal', 1), ('defense', 1), ('anaerobic', 1), ('rods', 1), ('d6s273', 1), ('dr3', 1), ('dq2', 2), ('hbv', 3), ('discovered', 2), ('272', 1), ('absent', 4), ('secretions', 1), ('il10', 2), ('genital', 3), ('adprt', 3), ('attenuated', 1), ('excision', 2), ('violent', 3), ('dependence', 11), ('heroin', 2), ('ala54thr', 4), ('revealing', 1), ('elders', 1), ('8408', 1), ('functionality', 2), ('causatively', 1), ('hper2', 1), ('844ins68', 1), ('synonymous', 1), ('s136f', 1), ('second', 4), ('kind', 1), ('oncogene', 1), ('il4ra', 1), ('adjusting', 3), ('pigmentation', 4), ('persisted', 1), ('confirming', 3), ('informative', 1), ('terms', 2), ('solar', 1), ('lesion', 1), ('beyond', 1), ('wained', 1), ('10b', 1), ('highest', 1), ('60', 3), ('implemented', 1), ('priority', 1), ('hyperbilirubinemia', 1), ('mean', 2), ('fdopa', 1), ('uptake', 1), ('striatal', 1), ('2044g', 1), ('634c', 1), ('lived', 1), ('vdr3', 1), ('grounds', 2), ('pulmonogenic', 1), ('osteopenic', 1), ('plaques', 2), ('thin', 1), ('fibrous', 1), ('cap', 2), ('250g', 1), ('cyp17a1', 2), ('mutated', 5), ('bavm', 1), ('bavms', 1), ('await', 1), ('loh', 1), ('scanned', 1), ('t1d', 4), ('illustrate', 2), ('cdce', 1), ('spectrometry', 1), ('pools', 1), ('offers', 2), ('feasible', 1), ('cost', 1), ('neuromotor', 1), ('suppresses', 1), ('relationships', 2), ('3408c', 1), ('asd', 2), ('adenosquamous', 1), ('leu84phe', 2), ('ile143val', 2), ('alkylation', 2), ('rodent', 1), ('fear', 1), ('heterozygote', 3), ('thepathogenesis', 1), ('ischaemic', 1), ('scleroderma', 1), ('c4a', 1), ('vt', 3), ('ile105val', 2), ('promising', 1), ('haematological', 1), ('preoperative', 1), ('crt', 1), ('mib', 1), ('li', 1), ('dissemination', 2), ('glioblastomas', 1), ('pomc', 1), ('farmers', 2), ('reporting', 7), ('organophosphate', 1), ('diazoxon', 3), ('ill', 1), ('detoxify', 1), ('bph', 4), ('infrequent', 7), ('aromatase', 2), ('microsatelite', 3), ('croatians', 3), ('asians', 2), ('pocket', 1), ('regulator', 2), ('620w', 1), ('respectively', 3), ('synergize', 1), ('break', 1), ('c1', 4), ('evolutionarily', 1), ('conserved', 2), ('arthritogenic', 1), ('humoral', 1), ('i157t', 5), ('ivs2', 1), ('1g', 4), ('nn', 3), ('pxr', 4), ('2729a', 2), ('a455v', 2), ('stm', 2), ('160a', 1), ('map3k7ip2', 1), ('angiotensinogen', 4), ('itga2', 2), ('ic', 1), ('145', 4), ('formerly', 3), ('cryptorchid', 3), ('histocompatibility', 1), ('ultimately', 1), ('illuminate', 1), ('rrp', 6), ('hsd3b1', 1), ('hypertrophy', 3), ('509t', 1), ('tgfbeta1', 1), ('nmu', 1), ('blockers', 2), ('lqt3', 1), ('rop', 2), ('ccp', 9), ('differs', 8), ('intimately', 1), ('hyperglycaemia', 1), ('hf', 1), ('r154h', 1), ('orbitofrontal', 1), ('gray', 1), ('matter', 1), ('volumetric', 1), ('deficits', 1), ('promotor', 1), ('alters', 4), ('prss1', 1), ('korea', 1), ('r117g', 2), ('r137q', 2), ('r145w', 2), ('r180h', 2), ('491', 2), ('accelerating', 1), ('hemorrhage', 1), ('metalloproteinase', 4), ('predicate', 3), ('5ht1b', 1), ('ugic', 2), ('c74468a', 1), ('xrcc5', 1), ('g74582a', 1), ('timp2', 1), ('weaken', 1), ('r83h', 1), ('jlns', 1), ('amish', 1), ('deafness', 2), ('kappab1', 1), ('kappabialpha', 1), ('211', 4), ('helpful', 1), ('conducting', 1), ('gs', 2), ('met66', 2), ('67', 2), ('prefrontal', 3), ('cortex', 2), ('validated', 1), ('n5', 1), ('methylenetetrahydrofolate', 1), ('htlv', 1), ('ham', 1), ('tsp', 1), ('rs9939609', 2), ('fto', 1), ('duodenal', 1), ('absorption', 3), ('digoxin', 1), ('warranted', 2), ('prca', 1), ('assist', 1), ('strategies', 6), ('extended', 1), ('1501', 2), ('0102', 3), ('durable', 1), ('ps', 2), ('emphysematous', 1), ('dr', 7), ('diffuse', 4), ('proliferative', 1), ('glomerulonephritis', 2), ('dr15', 2), ('bax', 1), ('analysed', 4), ('polyps', 1), ('codes', 1), ('quality', 1), ('solid', 4), ('synergy', 3), ('slc26a4', 1), ('r1141x', 2), ('sharply', 2), ('graded', 1), ('hypothalamic', 1), ('intracranial', 1), ('aneurysms', 1), ('bring', 1), ('performance', 4), ('sustained', 2), ('attention', 2), ('tasks', 4), ('examining', 1), ('499v', 1), ('215g', 3), ('ivs3', 2), ('2t', 2), ('gaucher', 1), ('constitutively', 2), ('expressed', 1), ('measured', 2), ('exhaled', 1), ('condition', 2), ('hpv', 4), ('targets', 1), ('ictev', 1), ('hot', 2), ('spots', 1), ('pneumofibrosis', 1), ('338c', 1), ('t807', 1), ('unfavorable', 1), ('pax4', 1), ('rnfl', 1), ('thickness', 2), ('chrna4', 1), ('retina', 1), ('vaccination', 1), ('hepatocellular', 1), ('typed', 1), ('transcript', 1), ('multiplex', 1), ('lymphoblast', 1), ('centre', 1), (\"d'etude\", 1), ('du', 1), ('polymorphisme', 1), ('humain', 1), ('ceph', 1), ('held', 1), ('nnk', 1), ('cyp2a13', 1), ('ccr5delta32', 1), ('yi', 1), ('speaks', 1), ('1612insa', 1), ('chemosensitivity', 1), ('meiotic', 1), ('compromised', 1), ('agtr1', 1), ('regression', 3), ('mtx', 3), ('866g', 1), ('fluorouracil', 1), ('sub', 2), ('relations', 1), ('evaluated', 1), ('sibling', 1), ('pairs', 1), ('discordant', 1), ('lateral', 2), ('ventricles', 2), ('phases', 2), ('stat4', 1), ('traf1', 1), ('c5', 1), ('cv', 2), ('pharmacodynamic', 1), ('anticoagulation', 1), ('plin', 1), ('1082a', 1), ('parenchymal', 4), (\"smokers'\", 1), ('why', 3), ('predisposed', 3), ('difficult', 1), ('bacteria', 1), ('overrepresented', 2), ('hyporesponsive', 1), ('pprom', 1), ('16q', 1), ('106', 2), ('english', 1), ('gln368stop', 1), ('p582s', 1), ('hif', 1), ('g62c', 1), ('y54h', 1), ('cdna', 1), ('609', 1), ('implied', 1), ('homeostasis', 2), ('rs3759223', 1), ('worth', 1), ('ligand', 2), ('associative', 1), (\"other's\", 1), ('biochemically', 1), ('debilitating', 1), ('ache', 1), ('p387l', 3), ('26', 3), ('93', 3), ('serine', 4), ('phosphorylation', 3), ('ptp', 3), ('menopausal', 4), ('663c', 1), ('fviii', 1), ('vte', 3), ('extremes', 2), ('normolipidemic', 1), ('subfraction', 1), ('apociii', 1), ('leu33pro', 1), ('pcg', 2), ('geographical', 1), ('waf1', 1), ('cip1', 1), ('nonspecific', 2), ('mr', 1), ('birthweight', 1), ('pdgfra', 1), ('lacunae', 1), ('1296', 1), ('108', 3), ('900', 1), ('235', 1), ('1858c', 4), ('justified', 2), ('snp4', 1), ('331g', 1), ('epidemiologic', 1), ('encompasses', 1), ('transformation', 1), ('endometrioid', 1), ('nqo1', 5), ('638a', 1), ('turkey', 1), ('1183c', 1), ('precipitating', 1), ('0304', 2), ('truncated', 1), ('almost', 1), ('leukemogenesis', 1), ('myeloblastic', 1), ('str', 1), ('g919a', 1), ('cbs', 3), ('t833c', 1), ('instead', 2), ('azathioprine', 1), ('slc6a4', 1), ('il1rn', 3), ('ile796val', 1), ('cdh1', 1), ('lobular', 1), ('ductal', 1), ('metastases', 2), ('extragastric', 1), ('233', 1), ('248', 1), ('spanning', 1), ('intrahepatic', 1), ('cutaneous', 2), ('57', 3), ('devising', 1), ('diagnostics', 1), ('urpl', 1), ('apoc1', 2), ('fok', 5), ('start', 2), ('pakistani', 1), ('pathans', 1), ('r264c', 1), ('recommended', 2), ('v37i', 1), ('behaved', 1), ('cyslt', 1), ('sufficient', 3), ('lmp7', 1), ('viral', 5), ('cosegregated', 1), ('polyspike', 1), ('wave', 1), ('jme', 2), ('382', 1), ('mxa', 2), ('il13', 2), ('k469e', 2), ('tph1', 1), ('monoamine', 1), ('pt', 2), ('20210a', 2), ('scvt', 1), ('mthr', 1), ('1012g', 2), ('025', 2), ('aaff', 1), ('92', 2), ('leu33', 1), ('pro33', 1), ('nkg2c', 1), ('reproduction', 2), ('rheumatic', 1), ('cathepsin', 1), ('amyloid', 4), ('cameroonian', 2), ('stratified', 1), ('regard', 1), ('corresponding', 1), ('serologic', 1), ('specificities', 1), ('dr1', 1), ('dr16', 2), ('sgce', 1), ('maoauvntr', 1), ('7853gg', 1), ('tdi', 2), ('require', 1), ('irf3', 1), ('burns', 1), ('hspa1b', 1), ('gpiiia', 2), ('fl', 1), ('d3', 2), ('tnfsf5', 2), ('anatomical', 1), ('expected', 3), ('depends', 2), ('caa', 2), ('erythematosus', 3), ('lyp', 2), ('player', 3), ('t102c', 2), ('q43p', 1), ('destructive', 1), ('ssris', 1), ('ggf', 1), ('lpr', 2), ('t1799a', 1), ('mucinous', 1), ('ocp', 1), ('histologic', 1), ('planning', 1), ('gastrointestinal', 3), ('strength', 4), ('24s', 1), ('hydroxycholesterol', 1), ('hydroxylase', 1), ('modulator', 1), ('antigens', 2), ('igfbp3', 1), ('102v', 1), ('427c', 1), ('tki', 1), ('probable', 1), ('rs1937', 2), ('s12', 1), ('mmp1', 1), ('mmp12', 3), ('chf', 2), ('ncbi', 1), ('database', 1), ('adenomas', 1), ('nodular', 1), ('goiter', 1), ('whilst', 1), ('obstruction', 1), ('mcns', 1), ('enhancement', 2), ('slower', 2), ('metabolizing', 2), ('chemopreventive', 1), ('ibuprofen', 1), ('ds', 1), ('t1128c', 1), ('caution', 4), ('until', 1), ('logistic', 5), ('grouped', 3), ('pentanucleotide', 2), ('peruvian', 3), ('vs', 1), ('disadvantage', 1), ('sbp', 2), ('longevity', 2), ('largest', 1), ('sec63', 1), ('zpi', 1), ('thrombophilia', 1), ('48', 3), ('secondary', 5), ('urinary', 4), ('worthwhile', 1), ('pursuing', 1), ('leucine', 1), ('calcitonin', 1), ('notch4', 2), ('catalase', 2), ('hong', 3), ('kong', 3), ('department', 1), ('faculty', 1), ('medicine', 2), ('university', 2), ('tokyo', 1), ('yoko', 1), ('iizuka', 1), ('shun', 1), ('ishibashi', 1), ('takanari', 1), ('gotoda', 1), ('institute', 1), ('tsukuba', 2), ('nobuhiro', 1), ('yamada', 1), ('alpha1at', 1), ('g241r', 1), ('alt', 1), ('ast', 1), ('adiponutrin', 1), ('psen1', 1), ('periodic', 1), ('hazard', 1), ('nucleoside', 1), ('c200t', 1), ('premutation', 1), ('opposing', 1), ('inconsistencies', 1), ('uncoupling', 1), ('prp', 1), ('m129v', 2), ('copper', 1), ('a98v', 1), ('polymorphous', 1), ('systems', 1), ('ida', 1), ('abuse', 2), ('mgpd', 2), ('ffa', 1), ('glycerol', 1), ('obscure', 2), ('modifiers', 2), ('otosclerosis', 1), ('asn40asp', 1), ('ntx', 1), ('bacteremia', 1), ('osteoarthritis', 1), ('cl', 1), ('ccl', 1), ('sult1a1', 2), ('induce', 3), ('marburg', 1), ('dimensions', 2), ('ejection', 1), ('ampd1', 1), ('1513', 1), ('cll', 1), ('belong', 1), ('capsaicin', 1), ('cough', 1), ('gu', 1), ('mesangial', 1), ('stromal', 1), ('bilaterality', 1), ('now', 1), ('added', 1), ('bace', 1), ('promoters', 4), ('iddm4', 1), ('iddm5', 1), ('iddm8', 1), ('dementia', 2), ('apoc3', 1), ('dissociated', 1), ('1359a', 1), ('delirium', 2), ('1592delt', 1), ('tend', 1), ('relapse', 1), ('flashes', 1), ('endoxifen', 1), ('discrimination', 1), ('loading', 3), ('cogni', 1), ('negligible', 1), ('rlf', 1), ('antiepileptic', 1), ('convergent', 2), ('relying', 1), ('f', 8), ('infliximab', 2), ('etanercept', 1), ('tim', 4), ('limitation', 2), ('disability', 2), ('ser128arg', 2), ('leukocyte', 3), ('biochemical', 3), ('dqb', 1), ('notable', 1), ('d919g', 1), ('benazepril', 1), ('allocation', 1), ('kidneys', 1), ('tnfa', 2), ('mismatched', 1), ('researches', 2), ('conducted', 2), ('clarify', 2), ('biology', 2), ('2756gg', 1), ('mtr', 1), ('miarn', 1), ('bk', 1), ('vasomotor', 2), ('intact', 1), ('circulation', 2), ('wheezing', 1), ('lrp5', 1), ('eotaxin', 1), ('anticancer', 1), ('c1858t', 1), ('sole', 2), ('343g', 1), ('unconfirmed', 2), ('far', 2), ('dm2', 3), ('ciita', 2), ('abh', 1), ('czech', 1), ('colia1', 2), ('sigma', 1), ('included', 3), ('epistatically', 1), ('g460w', 1), ('highlights', 1), ('specificity', 1), ('psd', 1), ('glu298', 2), ('allows', 1), ('definition', 1), ('120', 1), ('ncoi', 1), ('nonsurvival', 1), ('1raa2', 1), ('260t', 1), ('adrb3', 1), ('265t', 1), ('10034c', 2), ('hpt', 1), ('complementary', 1), ('approaches', 1), ('employed', 1), ('comorbid', 3), ('z', 1), ('passive', 1), ('consider', 2), ('sidestream', 1), ('diminished', 1), ('mc3r', 1), ('binge', 2), ('219', 1), ('tpo', 2), ('osteophyte', 1), ('05', 1), ('qtl', 1), ('pat', 4), ('ptc', 1), ('1339', 2), ('sns', 2), ('protease', 1), ('antiprotease', 1), ('failing', 1), ('fog2', 1), ('hey2', 1), ('triat', 1), ('theoretical', 1), ('reasons', 1), (\"5'utr\", 2), ('pro198leu', 1), ('openness', 1), ('exerting', 1), ('leukotriene', 2), ('aurora', 4), ('c580t', 2), ('dismutase', 1), ('sod', 2), ('dpn', 1), ('peroxidation', 1), ('cac', 1), ('128r', 1), ('typically', 1), ('traditional', 3), ('hormones', 1), ('lmp', 2), ('0503', 1), ('gly972arg', 2), ('intrinsically', 1), ('73', 2), ('untranslated', 1), ('echographic', 1), ('equally', 1), ('rs7574865', 1), ('suppose', 1), ('minisatellite', 1), ('chernobyl', 1), ('accident', 1), ('480', 1), ('vigorously', 1), ('arcrd', 1), ('tnfp', 2), ('myanmar', 1), ('52', 1), ('il1beta', 1), ('330', 1), ('blunt', 1), ('chromosomally', 1), ('112g', 1), ('reproduce', 1), ('paves', 1), ('percentage', 1), ('hterc', 1), ('c17a', 1), ('g241a', 1), ('program', 1), ('survey', 1), ('generalized', 1), ('pathogenically', 1), ('eop', 1), ('nephrotoxicity', 1), ('glutamic', 1), ('420', 1), ('hs', 1), ('adipose', 3), ('menopause', 3), ('t45g', 1), ('g276t', 1), ('iranian', 1), ('i50v', 1), ('val103ile', 1), ('experiments', 2), ('g4c14', 1), ('a4t14', 1), ('gc', 3), ('leu34phe', 1), ('proteolysis', 1), ('processing', 2), ('thermogenesis', 1), ('expenditure', 1), ('308a', 1), ('clcnkb', 1), ('a1c', 2), ('kuwaiti', 1), ('a105t', 1), ('val60glu', 1), ('introns', 1), ('gm', 1), ('csf', 2), ('fe', 1), ('heterosexual', 2), ('culture', 2), ('cd18', 1), ('val16ala', 2), ('10034', 1), ('nonsynonymous', 1), ('israel', 1), ('hypothesize', 1), ('ethiopathogenesis', 1), ('multifunctional', 1), ('osf', 1), ('parasite', 1), ('sequestration', 1), ('widespread', 1), ('ala203', 1), ('213pp', 2), ('disturbances', 3), ('reflecting', 2), ('untreated', 2), ('embryos', 2), ('776cg', 1), ('776gg', 1), ('r213h', 1), ('ivs38', 1), ('5557', 1), ('5558', 1), ('microhaplotypes', 1), ('pro12pro', 2), ('482ser', 1), ('stop', 1), ('niddm', 2), ('trial', 2), ('neurod1', 2), ('mody', 3), ('rpt', 1), ('tdf', 1), ('animal', 1), ('alcoholics', 1), ('cirrhotic', 1), ('controlled', 2), ('erbb', 2), ('705', 1), ('q214r', 1), ('1196', 1), ('g378r', 1), ('1637', 1), ('a525t', 1), ('1664', 1), ('p534s', 1), ('v14', 1), ('1443', 1), ('bpi', 1), ('strengthening', 1), ('simple', 1), ('clp', 2), ('cdkn1b', 1), ('oscc', 1), ('cirrhosis', 2), ('adjusted', 4), ('highlighted', 1), ('41', 1), ('90', 1), ('09', 1), ('23', 1), ('038', 1), ('susceptive', 1), ('benzene', 4), ('biomarker', 2), ('poisoning', 3), ('251t', 1), ('potentiating', 1), ('fins', 1), ('p2hins', 1), ('newly', 2), ('calpain', 2), (\"doesn't\", 1), ('c599t', 1), ('graft', 2), ('elevating', 2), ('val1483ile', 1), ('k18', 1), ('p2x', 1), ('mycobacterium', 1), ('aiha', 1), ('374a', 2), ('der', 3), ('house', 1), ('dust', 1), ('incorporated', 1), ('believe', 3), ('klf6', 1), ('killer', 1), ('rs570613', 1), ('val384asp', 1), ('g2964a', 1), ('unreported', 1), ('states', 1), ('pro4thr', 1), ('uncommon', 3), ('perioperative', 1), ('preference', 2), ('rodents', 1), ('osteogenesis', 1), ('imperfecta', 1), ('krt19', 1), ('overtransmitted', 1), ('radiosensitivity', 1), ('chemoradiation', 1), ('comparatively', 2), ('prodh', 3), ('mitsuda', 1), ('times', 1), ('dp', 1), ('regular', 2), ('corroborate', 1), ('myc', 1), ('62', 1), ('comparable', 2), ('israeli', 1), ('precise', 1), ('m341i', 1), ('946c', 1), ('xp22', 1), ('1306t', 2), ('1562c', 2), ('disrupts', 2), ('t3111c', 1), ('glucocorticoids', 1), ('v16a', 1), ('dme', 1), ('determinative', 1), ('inducible', 1), ('sars', 1), ('ddx5', 2), ('polg2', 1), ('cpt1a', 1), ('kyoto', 1), ('pst', 1), ('error', 1), ('rs175174', 1), ('ld', 4), ('complicated', 1), ('individ', 1), ('tpp', 1), ('material', 1), ('hellp', 3), ('somewhat', 2), ('ctr', 1), ('barrett', 1), ('esophagus', 1), ('suggestion', 4), ('rsai', 3), ('lumbar', 1), ('spine', 1), ('comprehensive', 1), ('possessing', 2), ('constellation', 1), ('nsclc', 3), ('evolution', 1), ('icc', 1), ('a49t', 1), ('coincidence', 1), ('meningeal', 1), ('aspartic', 1), ('inattentive', 1), ('g6pd', 11), ('neonates', 2), ('alfa', 1), ('perspective', 1), ('reuptake', 2), ('simultaneous', 1), ('substance', 2), ('hypertryglyceridemia', 1), ('pou', 1), ('rlx', 1), ('pvu', 1), ('adenoma', 2), ('gastroesophageal', 1), ('malignancy', 2), ('priori', 1), ('aip', 1), ('precludes', 1), ('paper', 1), ('buccal', 2), ('sickle', 1), ('developed', 1), ('assay', 1), ('158f', 1), ('fcgammariiia', 2), ('nodules', 2), ('17q21', 1), ('amplicon', 1), ('spaniards', 1), ('2518gg', 1), ('pseudodeficient', 1), ('glycosylation', 1), ('hpr', 2), ('331', 1), ('mammary', 1), ('0901', 2), ('mpa', 1), ('heterozygosis', 1), ('chc', 1), ('78a', 1), ('phosphate', 2), ('ala57thr', 1), ('greenlander', 1), ('inuit', 1), ('thr57', 1), ('living', 1), ('survivors', 1), ('oldest', 1), ('epsilon2', 1), ('apoe2', 1), ('paradoxically', 1), ('neuropathology', 2), ('continuous', 1), ('20', 1), ('blockade', 1), ('infer', 1), ('southwest', 1), ('1166c', 1), ('corticosteroids', 3), ('rationale', 3), ('corticosteroid', 4), ('94ins', 1), ('gly49', 1), ('lc', 2), ('cys19', 1), ('arg16', 1), ('gln27', 1), ('ldh', 2), ('lactate', 1), ('inducer', 1), ('ldha', 1), ('mci', 1), ('abcb1', 2), ('abcb11', 1), ('p1054r', 1), ('acs', 2), ('angina', 2), ('alr2', 1), ('sca', 1), ('correspond', 1), ('predominance', 1), ('principles', 1), ('difficulty', 1), ('connecting', 1), ('forming', 1), ('transferrin', 2), ('opposed', 1), ('depend', 2), ('digenic', 1), ('tcm', 2), ('constitution', 1), ('c1542g', 1), ('tafi', 1), ('displays', 1), ('itgb7', 1), ('insl3', 1), ('deciding', 1), ('apoci', 2), ('tcr', 1), ('vbeta5', 1), ('jeff', 1), ('come', 1), ('rom', 1), ('nona', 1), ('0005', 1), ('0001', 1), ('conduct', 1), ('0002', 1), ('cmm', 2), ('angiogenesis', 1), ('ecstasy', 1), ('sets', 1), ('histological', 1), ('classification', 1), ('msa', 1), ('concern', 2), ('2578', 2), ('1239', 1), ('870g', 1), ('often', 1), ('dq6', 1), ('1580', 1), ('septic', 1), ('shock', 1), ('mechanical', 1), ('ventilation', 1), ('snp276', 1), ('polycystic', 1), ('ovary', 1), ('usually', 1), ('fga', 1), ('extracoronary', 1), ('ccpa', 1), ('401', 1), ('neonatal', 1), ('1131t', 1), ('limiting', 2), ('catabolism', 3), ('polyamines', 1), ('ssat342', 1), ('ssat', 1), ('49g', 1), ('extraglandular', 1), ('rnasel', 2), ('liguria', 2), ('g101w', 2), ('founder', 2), ('nphp6', 1), ('js', 2), ('palestinian', 1), ('arab', 1), ('mgus', 1), ('ephx1', 1), ('nonischemic', 2), ('prevailing', 1), ('endocrine', 1), ('col1a1', 1), ('thrombotic', 2), ('ais', 1), ('potassium', 2), ('monitored', 1), ('spironolactone', 1), ('started', 1), ('diuretic', 1), ('requirements', 1), ('lymphatic', 1), ('criminal', 1), ('his213', 1), ('estrogens', 1), ('rs11200638', 2), ('participating', 1), ('angiographic', 3), ('venda', 1), ('proposedly', 1), ('real', 1), ('duplicated', 2), ('apob', 2), (\"3'vntr\", 2), ('prior', 8), ('n291s', 1), ('d9n', 1), ('93t', 1), ('contractions', 2), ('accelerate', 1), ('tubuli', 1), ('cd25', 1), ('graveso', 1), ('zhuang', 1), ('guangxi', 2), ('theory', 1), ('maob', 1), ('catecholamine', 1), ('enzymatic', 2), ('published', 4), ('251a', 1), ('emerges', 1), ('pro7', 1), ('prepronpy', 1), ('placement', 1), ('taaaa', 1), ('steroid', 2), ('c270t', 1), ('r192q', 1), ('caloric', 1), ('metabolized', 1), ('underrepresented', 1), ('cruciate', 1), ('ligament', 1), ('ruptures', 1), ('atheroprotective', 1), ('fractalkine', 1), ('t869c', 2), ('furthermore', 1), ('wbc', 1), ('neutrophil', 1), ('marrow', 2), ('stem', 2), ('duplicating', 1), ('gpa', 2), ('mutagens', 1), ('preproghrelin', 2), ('3056t', 1), ('nocturnal', 1), ('experiment', 1), ('illegal', 1), ('ns', 1), ('learning', 1), ('disabilities', 1), ('parkinson', 1), ('acetylation', 1), ('cruzi', 2), ('gvhd', 2), ('correlative', 1), ('abi', 1), ('ls', 1), ('hyperandrogenism', 1), ('nasopharyngeal', 1), ('conditioned', 1), ('874t', 1), ('his1299arg', 1), ('5671', 1), ('i232t', 1), ('dsps', 1), ('ama', 1), ('olt', 1), ('lacunar', 2), ('trkb', 1), ('isoenzyme', 1), ('hypospadias', 1), ('c1167', 1), ('d6s366', 1), ('sod2', 1), ('recovery', 2), ('villous', 1), ('gluten', 1), ('g160a', 1), ('838a', 1), ('morphology', 1), ('reasonable', 1), ('programs', 1), ('bioactivity', 1), ('ihd', 1), ('mc1r', 2), ('vv', 1), ('38c', 1), ('npra', 1), ('moderating', 1), ('depressogenic', 1), ('social', 4), ('2677g', 1), ('3435c', 1), ('etoposide', 1), ('cisplatin', 2), ('112', 1), ('121', 1), ('scandinavians', 1), ('nep', 1), ('characterize', 2), ('tag1', 2), ('f386l', 2), ('selectively', 2), ('t8590c', 1), ('klotho', 1), ('c1818t', 1), ('cerebellar', 1), ('nphp', 1), ('296', 1), ('cetp', 3), ('afford', 1), ('opportunity', 1), ('cdsn', 1), ('slc6a14', 1), ('986', 1), ('agonist', 1), ('edema', 1), ('actual', 1), ('estimate', 1), ('y415x', 1), ('glycogen', 1), ('513', 1), ('196g', 1), ('d85y', 1), ('differentiation', 2), ('r2', 1), ('gln27glu', 1), ('eosinophils', 1), ('0202', 1), ('0701', 1), ('1101', 1), ('glo', 1), ('mspa1', 2), ('doubtful', 1), ('csnb', 1), ('trachomatis', 1), ('val30met', 1), ('ttr', 1), ('fap1', 1), ('portuguese', 1), ('gln192arg', 1), ('underlines', 1), ('apeced', 1), ('173g', 1), ('oncogenesis', 1), ('rs1052576', 1), ('locates', 1), ('casp9', 1), ('give', 1), ('assume', 1), ('acceleration', 1), ('gemcitabine', 1), ('monotherapy', 1), ('prediabetic', 1), ('accordingly', 1), ('worsened', 1), ('membrane', 3), ('bound', 1), ('p1', 1), ('expanded', 2), ('ctg18', 1), ('311', 1), ('naturally', 1), ('nos1', 2), ('aeruginosa', 2), ('interstitial', 2), ('examination', 8), ('enable', 1), ('aldosteronism', 1), ('dq5', 1), ('cae', 1), ('calculi', 1), ('s20g', 1), ('hba', 1), ('russian', 2), ('6bins', 1), ('eng', 1), ('devastating', 1), ('arg110gln', 1), ('analgesic', 1), ('responders', 1), ('intravenous', 1), ('fentanyl', 1), ('anticipate', 1), ('2677t', 1), ('s893', 1), ('cnis', 1), ('a49g', 1), ('doses', 2), ('stimulant', 1), ('mediation', 1), ('arg753gln', 1), ('cmv', 1), ('734ile', 1), ('precocious', 1), ('diseased', 1), ('ever', 4), ('a986s', 1), ('car', 2), ('fractures', 1), ('242', 1), ('gbs', 1), ('jejuni', 1), ('58', 1), ('bdkrb', 1), ('synergetic', 1), ('hypertensives', 2), ('c702t', 2), ('g1612a', 2), ('c936t', 1), ('gstm3', 3), ('ptger3', 1), ('ptger4', 1), ('ptgir', 1), ('tbxa2r', 1), ('intolerant', 1), ('maladaptive', 1), ('utilization', 1), ('unexpected', 1), ('i555', 1), ('p568', 1), ('india', 1), ('g331a', 1), ('469delg', 2), ('930', 2), ('sensitized', 1), ('ltalphancoi', 2), ('dr13', 1), ('420c', 1), ('lsehara', 1), ('protected', 3), ('prophylactic', 1), ('survivor', 1), ('side', 1), ('medication', 1), ('movement', 1), ('acts', 1), ('arg192', 1), ('maintaining', 1), ('anthropomorphics', 1), ('0410', 1), ('smooth', 1), ('contraction', 1), ('d356n', 1), ('429t', 1), ('ma', 1), ('e469k', 1), ('runx2', 1), ('ldd', 2), ('soldiers', 1), ('58c', 1), ('5alpha', 1), ('examine', 1), ('cpsi', 1), ('t1405n', 1), ('surgical', 1), ('a1513c', 1), ('p2x7r', 1), ('allogeneic', 1), ('val762ala', 2), ('thymic', 2), ('iddm2', 2), ('refines', 1), ('myo9b', 1), ('b2bkr', 1), ('ala45thr', 1), ('undergoing', 4), ('bct', 2), ('192arg', 1), ('constellations', 1), ('aps', 1), ('regulators', 1), ('docetaxel', 1), ('svegf', 1), ('adequately', 1), ('detoxified', 2), ('seasonality', 1), ('rs6232', 1), ('rs6235', 1), ('b27', 1), ('tremens', 1), ('600', 1), ('clopidogrel', 1), ('snp43', 1), ('56t', 1), ('cataracts', 2), ('aad', 1), ('donor', 1), ('apparent', 7), ('conducive', 1), ('affords', 1), ('ace1', 3), ('184ile', 1), ('thought', 1), ('diazepam', 1), ('pharmacokinetics', 1), ('emergence', 3), ('possesses', 1), ('neuronal', 1), ('relapses', 1), ('glutathione', 1), ('transferase', 1), ('15621', 3), ('randomized', 1), ('ascertain', 1), ('dosages', 1), ('safe', 1), ('3111c', 1), ('diurnal', 1), ('neurotransmitters', 1), ('rs', 1), ('2305764', 1), ('coeliac', 1), ('val66met', 1), ('ivs1', 1), ('27g', 1), ('uaes', 1), ('hospital', 2), ('epidermodysplasia', 1), ('verruciformis', 1), ('haemodynamic', 1), ('partitioned', 1), ('scchn', 1), ('g9943t', 1), (\"authors'\", 1), ('fap', 1), ('fulminant', 1), ('responsivity', 1), ('germane', 1), ('impulse', 1), ('antagonistic', 1), ('chrna7', 1), ('variated', 1), ('exsit', 1), ('tfam', 1), ('ucsnp45', 1), ('ucsnp43', 1), ('hirsutism', 1), ('ntd', 1), ('dhfr', 1), ('72met', 1), ('antisocial', 1), ('y2r', 1), ('egyptian', 1), ('intrauterine', 1), ('rs4578621', 1), ('rs894160', 1), ('clarified', 1), ('cyp2a6', 1), ('ccordingly', 1), ('pdcd1', 1), ('a6547g', 1), ('motor', 2), ('presents', 1), ('deviation', 1), ('parents', 1), ('a253', 2), (\"fisher's\", 1), ('exact', 1), ('grip', 1), ('frailty', 1), ('cimp', 1), ('auditory', 1), ('remarkable', 1), ('gad', 1), ('stay', 1), ('hyperlipidemic', 1), ('tkis', 1), ('rotterdam', 1), ('stimulators', 1), ('complement', 1), ('his298', 1), ('arg298his', 1), ('cholesterolemia', 1), ('leu432val', 2), ('tetranucleotide', 2), ('267', 1), ('clozapine', 1), ('perinatal', 4), ('kenyan', 1), ('scnn1g', 1), ('malformations', 1), ('hht', 1), ('avms', 1), ('davfs', 1), ('morphological', 1), ('myeloproliferative', 1), ('cmml', 1), ('c807t', 2), ('ib', 5), ('c3550t', 1), ('gabra2', 5), ('electroencephalogram', 4), ('neural', 4), ('excitation', 4), ('141c', 3), ('455a', 7), ('decamer', 2), ('riia', 3), ('his131', 7), ('fbn1', 4), ('g1514', 2), ('a619', 2), ('deleterious', 2), ('sandhoff', 1), ('fourth', 1), ('elac2', 15), ('afro', 7), ('tobago', 7), ('hpc2', 2), ('leu217', 2), ('thr541', 2), ('radical', 2), ('prostatectomies', 2), ('calgary', 2), ('arrhythmias', 4), ('collapse', 4), ('waste', 1), ('incinerator', 1), ('pollutants', 1), ('er', 2), ('weaker', 2), ('craniosynostosis', 1), ('wider', 2), ('recognized', 2), ('igiiia', 2), ('iiic', 2), ('genuine', 2), ('arrhythmia', 1), ('put', 1), ('arrhythmic', 1), ('ser9gly', 2), ('eye', 1), ('movements', 1), ('daao', 20), ('0173', 10), ('c825t', 4), ('proliferation', 2), ('austrian', 1), ('cx26', 1), ('2236c', 4), ('invasiveness', 2), ('immortalized', 2), ('promotion', 2), ('594', 2), ('655', 2), ('favoring', 1), ('gck1', 3), ('gck2', 3), ('dat', 1), ('bear', 3), ('61', 2), ('fzd3', 2), ('fez1', 7), ('thr54', 3), ('wat', 2), ('n314d', 2), ('duarte', 1), ('nongalactosemic', 1), ('carring', 4), ('179', 1), ('assertion', 1), ('218', 1), ('2d6', 1), ('2e1', 1), ('olanzapine', 2), ('dld', 1), ('5c', 1), ('gpib', 1), ('irish', 4), ('underscore', 1), ('true', 1), ('craving', 1), ('beverage', 1), ('ki', 2), ('p16', 3), ('meningioma', 3), ('irradiated', 3), ('nonirradiated', 3), ('foxp3', 1), ('endocannabinoid', 3), ('gnb3', 2), ('signs', 1), ('agree', 2), ('cd95l', 4), ('ix', 4), ('bernard', 1), ('soulier', 1), ('alui', 2), ('edn1', 1), ('filtration', 1), ('uae', 1), ('bgl', 1), ('follows', 2), ('relapsing', 1), ('chromosomes', 2), ('salted', 2), ('situated', 1), ('e168q', 1), ('abnormality', 1), ('131h', 1), ('na1', 1), ('thailand', 1), ('riiia', 1), ('paramesonephric', 1), ('duct', 1), ('galactosaemic', 1), ('dystonia', 1), ('mental', 1), ('retardation', 1), ('causality', 1), ('gsta1', 1), ('t1521c', 1), ('attenuation', 1), ('psychological', 1), ('sudden', 1), ('nsclp', 1), ('209', 1), ('disulphide', 1), ('bonding', 1), ('c8092a', 1), ('expansion', 1), ('16q24', 1), ('amongst', 1), ('616', 1), (\"cloninger's\", 1), ('character', 1), ('inventory', 1), ('cerebrospinal', 2), ('fluid', 2), ('peptides', 2), ('phosphorylated', 2), ('meh', 1), ('385', 2), ('cannabinoid', 2), ('a54t', 2), ('enrichment', 1), ('turn', 1), ('hbd', 1), ('ser680', 2), ('threshold', 1), ('feedback', 1), ('luteal', 1), ('pituitary', 1), ('intercycle', 1), ('menstrual', 1), ('cycles', 1), ('sufficiency', 1), ('xx', 1), ('inaccurate', 3), ('style', 3), ('neuropsychological', 3), ('symptom', 3), ('karolinska', 1), ('scales', 1), ('t1663a', 3), ('m416v', 1), ('825t', 2), ('247', 6), ('53', 6), ('wks', 6), ('368', 6), ('nondemented', 6), ('dlst', 13), ('46c', 2), ('fcgammar', 1), ('131', 1), ('egf', 1), ('alternatively', 1), ('risperidone', 1), ('ephx2', 1), ('g1', 2), ('insomnia', 2), ('upstream', 3), ('kg', 1), ('gabra', 3), ('validity', 1), ('121q', 1), ('obstetric', 1), ('pgm', 1), ('oligodendroglioma', 1), ('340', 1), ('stiffening', 1), ('pulse', 1), ('nt3198', 1), ('endochondral', 1), ('intramembranous', 1), ('dlx3', 1), ('appendicular', 1), ('skeleton', 1), ('grin1', 1), ('resolution', 2), ('t825', 1), ('fxiii', 4), ('g5665t', 1), ('irbesartan', 1), ('atenolol', 1), ('endothelin', 1), ('grin2b', 1), ('h63d', 3), ('s65c', 1), ('arg201gly', 1), ('inferred', 1), ('anaplastic', 1), ('astrocytoma', 1), ('glioblastoma', 1), ('multiforme', 1), ('scurfin', 1), ('gh1', 2), ('diol', 1), ('epoxide', 1), ('sputum', 2), ('hypersecretion', 2), ('168his', 1), ('238a', 2), ('t137346c', 1), ('fyn', 1), ('executive', 1), ('dysfunctions', 1), ('f12', 1), ('stfr', 2), ('average', 1), ('nonmutated', 1), ('rgs9', 3), ('yielding', 1), ('symptomatology', 1), ('pooling', 1), ('drb', 1), ('itd', 1), ('alpha6', 1), ('seh', 1), ('edhf', 1), ('eight', 1), ('overloaded', 1), ('hbh', 2), ('tfr2', 1), ('hfe', 1), ('ineffective', 1), ('erythropoiesis', 1), ('drp', 6), ('15q11', 1), ('20210', 1), ('588t', 2), ('suppress', 2), ('gclm', 2), ('oxidants', 2), ('312', 1), ('innocuous', 1), ('fcgammariia', 1), ('acquiring', 1), ('fcgammarii', 1), ('ohpg', 1), (\"hashimoto's\", 2), ('thyroiditis', 2), ('203c', 1), ('renders', 1), ('ptsd', 1), ('usage', 1), ('dfnb1', 1), ('dazl', 1), ('386', 2), ('pin', 1), ('056', 1), ('arteriosclerosis', 1), ('triggered', 1), ('353', 1), ('r131', 1), ('42', 1), ('cd17', 1), ('cd71', 1), ('654', 1), ('hb', 2), ('impulsivity', 1), ('psychopathological', 1), ('aspects', 1), ('2236', 3), ('mark', 2), ('successful', 1), ('charcot', 1), ('marie', 1), ('tooth', 1), ('k1019x', 2), ('ea', 2), ('illustrating', 1), ('balancing', 1), ('pressures', 1), ('infectious', 1), ('operating', 1), ('h475y', 1), ('impairs', 1), ('folates', 1), ('consequent', 1), ('fcgamma', 2), ('hrt', 1), ('implicating', 1), ('drai', 1), ('adh1c', 1), ('spermatogenic', 1), ('pressor', 1), ('helping', 1), ('epithelium', 1), ('ets', 1), ('prolactin', 1), ('p450iie1', 1), ('278c', 1), ('habitues', 1), ('properties', 1), ('2p23', 1), ('herewith', 1), ('endemic', 1), ('pf', 1), ('govern', 1), ('breakage', 1), ('desmoglein', 1), ('situations', 1), ('a2a2', 1), ('chronicity', 1), ('val34leu', 1), ('thromboembolic', 1), ('pertaining', 1), ('endophenotypes', 1), ('ought', 1), ('interpreting', 1), ('awaited', 1), ('recovered', 1), ('smears', 1), ('easy', 1), ('counselling', 1), ('coc', 1), ('g1691', 1), ('g20210', 1), ('34leu', 1), ('nucleotides', 1), ('quite', 1), ('t79c', 1), ('113', 1), ('bpde', 1), ('leukocytes', 1), ('pof1b', 1), ('ut', 1), ('thrombogenesis', 1), ('haplotypic', 1), ('670', 2), ('betel', 1), ('quid', 1), ('chewers', 1), ('mitigate', 1), ('igg2', 1), ('pm', 1), ('282', 1), ('preponderance', 1), ('manic', 1), ('illness', 1), ('fatness', 1), ('cardiorespiratory', 1), ('magnify', 1), ('exon5', 1), ('normoglycemic', 1), ('america', 1), ('thrombin', 1), ('aci', 2), ('1691g', 1), ('vii', 1), ('gln353', 1), ('gly', 2), ('msci', 1), ('td', 1), ('falciparum', 1), ('nats', 1), ('inception', 1), ('reactions', 1), ('diisocyanates', 1), ('taqia', 1), ('obtain', 1), ('conclusive', 1), ('tatars', 1), ('dii', 2), ('orfa', 1), ('gly3asp', 1), ('neurocognitive', 1), ('appreciation', 1), ('t4', 1), ('own', 1), ('viewed', 1), ('multifetal', 1), ('pregnancies', 1), ('118', 1), ('ercc1', 2), ('hl', 1), ('engaged', 1), ('neoplasia', 1), ('sporadically', 1), ('nateglinide', 1), ('kinetics', 1), ('her2', 1), ('8092a', 1), ('kozak', 1), ('ibalpha', 1)])\n",
      "The word index {'the': 1, 'gene': 2, 'of': 3, 'in': 4, 'disease': 5, 'and': 6, 'that': 7, 'a': 8, 'with': 9, 'to': 10, 'for': 11, 'is': 12, 'risk': 13, 'not': 14, 'associated': 15, 'may': 16, 'polymorphism': 17, 'be': 18, 'suggest': 19, 'results': 20, 'our': 21, 'these': 22, 'susceptibility': 23, 'this': 24, 'patients': 25, 'an': 26, 'genetic': 27, 'association': 28, 'or': 29, 'are': 30, 'role': 31, 'polymorphisms': 32, 'population': 33, 'between': 34, 'allele': 35, 'study': 36, 'we': 37, 'as': 38, 'genotype': 39, 'factor': 40, 'data': 41, 'development': 42, 'findings': 43, 'was': 44, 'on': 45, 'but': 46, 'no': 47, 'increased': 48, 'promoter': 49, 'c': 50, '1': 51, '2': 52, 'support': 53, 'mutations': 54, 'cancer': 55, 'major': 56, 'variants': 57, 'genes': 58, 'evidence': 59, 'chinese': 60, 'indicate': 61, 'by': 62, 'at': 63, 'play': 64, 'have': 65, 'do': 66, 'japanese': 67, 'conclude': 68, 'related': 69, 't': 70, 'contribute': 71, 'significant': 72, 'might': 73, 'involved': 74, 'common': 75, 'g': 76, 'variant': 77, 'suggests': 78, 'influence': 79, 'important': 80, 'variation': 81, 'effect': 82, 'factors': 83, 'found': 84, 'type': 85, 'does': 86, 'which': 87, 'among': 88, 'it': 89, 'were': 90, 'levels': 91, 'from': 92, 'subjects': 93, 'conclusion': 94, 'diabetes': 95, 'other': 96, 'region': 97, 'genotypes': 98, 'there': 99, 'significantly': 100, 'both': 101, 'although': 102, 'women': 103, 'could': 104, 'locus': 105, 'pathogenesis': 106, 'individuals': 107, 'alleles': 108, 'drb1': 109, 'provide': 110, 'present': 111, 'further': 112, 'mutation': 113, 'independent': 114, 'expression': 115, 'suggesting': 116, 'presence': 117, '4': 118, 'clinical': 119, 'schizophrenia': 120, 'unlikely': 121, 'thus': 122, 'higher': 123, 'has': 124, 'first': 125, 'increase': 126, 'haplotype': 127, 'hypothesis': 128, 'studies': 129, 'than': 130, 'onset': 131, 'marker': 132, 'response': 133, 'functional': 134, 'han': 135, 'il': 136, 'early': 137, '3': 138, 'progression': 139, 'human': 140, 'more': 141, 'breast': 142, 'high': 143, 'snps': 144, 'its': 145, 'control': 146, 'well': 147, 'men': 148, 'can': 149, 'show': 150, 'within': 151, 'frequency': 152, 'severity': 153, 'possible': 154, 'activity': 155, 'etiology': 156, 'confer': 157, 'variations': 158, 'did': 159, 'hla': 160, 'two': 161, 'receptor': 162, 'diabetic': 163, 'therefore': 164, 'especially': 165, 'developing': 166, 'exon': 167, 'low': 168, 'interaction': 169, 'suggested': 170, 'snp': 171, 'specific': 172, 'potential': 173, 'analysis': 174, 'predisposition': 175, 'only': 176, 'prostate': 177, 'different': 178, 'ad': 179, 'populations': 180, 'against': 181, 'observed': 182, '0': 183, 'i': 184, 'sporadic': 185, 'linkage': 186, 'after': 187, 'appear': 188, 'one': 189, 'cause': 190, 'protective': 191, 'susceptible': 192, 'reduced': 193, 'any': 194, 'some': 195, 'plasma': 196, 'appears': 197, 'phenotype': 198, 'positive': 199, 'likely': 200, 'haplotypes': 201, 'insulin': 202, '4g': 203, 'involvement': 204, 'differences': 205, 'children': 206, 'level': 207, 'provides': 208, '5': 209, 'sample': 210, 'nor': 211, 'age': 212, 'caucasian': 213, 'previously': 214, 'd': 215, 'confirm': 216, 'dqb1': 217, 'also': 218, 'candidate': 219, 'apoe': 220, 'repeat': 221, 'incidence': 222, 'either': 223, 'severe': 224, 'affect': 225, 'asthma': 226, 'obesity': 227, 'lower': 228, 'smoking': 229, 'function': 230, 'markers': 231, 'while': 232, 'p': 233, 'lung': 234, 'colorectal': 235, 'previous': 236, 'controls': 237, 'strongly': 238, 'influences': 239, 'metabolism': 240, 'independently': 241, 'they': 242, 'strong': 243, 'carriers': 244, 'korean': 245, 'probably': 246, 'beta': 247, 'indicates': 248, 'treatment': 249, 'cases': 250, 'effects': 251, 'b': 252, 'infection': 253, 'due': 254, 'showed': 255, 'through': 256, 'contributes': 257, 'resistance': 258, 'such': 259, 'groups': 260, 'who': 261, 'combination': 262, 'hypertension': 263, 'demonstrate': 264, 'family': 265, 'phenotypes': 266, 'particularly': 267, 'pathway': 268, 'neither': 269, 'protein': 270, 'pressure': 271, 'homozygous': 272, '10': 273, 'together': 274, 'intron': 275, 'increases': 276, 'negative': 277, 'consistent': 278, 'mediated': 279, 'based': 280, 'disequilibrium': 281, 'novel': 282, 'large': 283, 'sequence': 284, 'contribution': 285, 'those': 286, 'occurrence': 287, 'useful': 288, 'overall': 289, 'modify': 290, 'importance': 291, 'mmp': 292, 'seem': 293, 'decreased': 294, 'responsible': 295, 'mi': 296, 'ra': 297, 'coronary': 298, 'caucasians': 299, 'reported': 300, 'regulation': 301, 'possibly': 302, 'whereas': 303, 'alpha': 304, 'syndrome': 305, '15': 306, 'prognosis': 307, '0405': 308, 'studied': 309, 'linked': 310, 'familial': 311, 'been': 312, 'late': 313, 'variability': 314, 'rare': 315, 'indicated': 316, 'ace': 317, 'alcohol': 318, 'associations': 319, 'smokers': 320, 'survival': 321, 'supports': 322, 'plays': 323, '7': 324, 'least': 325, 'most': 326, 'impact': 327, 'small': 328, 'additional': 329, 'individual': 330, 'ii': 331, 'group': 332, 'confers': 333, 'contributing': 334, 'result': 335, 'confirmed': 336, 'report': 337, 'complex': 338, 'represent': 339, 'status': 340, 'elevated': 341, '6': 342, 'homozygosity': 343, 'seems': 344, 'identified': 345, 'serum': 346, 'cell': 347, 'non': 348, 'tlr4': 349, 'features': 350, 'single': 351, 'ige': 352, 'humans': 353, 'coding': 354, 'case': 355, 'all': 356, 'cannot': 357, 'induced': 358, 'allelic': 359, 'without': 360, 'observation': 361, 'relation': 362, 'environmental': 363, 'ethnic': 364, 'develop': 365, 'codon': 366, 'cd14': 367, 'males': 368, 'their': 369, 'null': 370, 'disorders': 371, 'gastric': 372, 'tnf': 373, 'explain': 374, 'rather': 375, 'predispose': 376, 'traits': 377, 'nephropathy': 378, 'rate': 379, 'implicated': 380, 'spanish': 381, 'time': 382, 'hdl': 383, 'tt': 384, 'aa': 385, 'ovarian': 386, 'prognostic': 387, 'young': 388, 'general': 389, 'mechanism': 390, 'carrying': 391, 'chronic': 392, 'gstm1': 393, 'epsilon4': 394, 'possibility': 395, 'taiwan': 396, 'used': 397, 'determinant': 398, 'if': 399, 'therapy': 400, 'bp': 401, 'complications': 402, 'minor': 403, 'polymorphic': 404, 'cad': 405, 'molecular': 406, 'modifying': 407, 'current': 408, 'relevant': 409, 'production': 410, 'blood': 411, 'gg': 412, 'predisposing': 413, 'demonstrated': 414, 'deletion': 415, 'disorder': 416, 'revealed': 417, 'determining': 418, 'site': 419, 'carcinoma': 420, '9': 421, 'ms': 422, 's': 423, 'advanced': 424, 'people': 425, 'shows': 426, 'should': 427, 'system': 428, 'autism': 429, 'diseases': 430, 'primary': 431, 'outcome': 432, 'male': 433, 'sensitivity': 434, 'relationship': 435, 'val': 436, 'observations': 437, 'cohort': 438, 'history': 439, 'frequencies': 440, 'indicating': 441, 'number': 442, 'direct': 443, 'supporting': 444, 'dependent': 445, 'part': 446, 'enzyme': 447, 'certain': 448, 'adult': 449, 'protection': 450, 'dysfunction': 451, 'kcnq1': 452, 'metabolic': 453, 'being': 454, 'considered': 455, 'combined': 456, 'loci': 457, 'find': 458, 'investigated': 459, 'host': 460, 'larger': 461, 'potentially': 462, 'normal': 463, '5g': 464, 'modest': 465, 'cells': 466, 'affects': 467, 'cc': 468, 'during': 469, 'lack': 470, 'prevalence': 471, 'arg': 472, 'vascular': 473, 'needed': 474, 'enos': 475, 'described': 476, 'form': 477, 'diagnosis': 478, 'european': 479, 'hiv': 480, 'african': 481, 'had': 482, 'encoding': 483, '49': 484, 'exposure': 485, 'multiple': 486, 'preliminary': 487, 'failed': 488, 'predict': 489, 'however': 490, 'less': 491, 'atherosclerosis': 492, 'v': 493, 'white': 494, 'roles': 495, 'glucose': 496, 'very': 497, 'concluded': 498, 'inflammatory': 499, 'healthy': 500, 'occur': 501, 'renal': 502, 'three': 503, 'course': 504, 'stress': 505, 'reports': 506, 'tnfalpha': 507, 'exposed': 508, 'patient': 509, 'highly': 510, 'alterations': 511, 'chd': 512, 'dna': 513, 'taiwanese': 514, 'mechanisms': 515, 'formation': 516, 'pai': 517, 'american': 518, 'substantial': 519, 'cardiovascular': 520, 'determinants': 521, 'mpo': 522, 'genetically': 523, 'earlier': 524, 'behavior': 525, 'correlation': 526, 'none': 527, 'including': 528, 'indians': 529, 'closely': 530, 'k': 531, 'act': 532, 'c677t': 533, 'obtained': 534, 'total': 535, 'fibrinogen': 536, 'mellitus': 537, 'oxidative': 538, 'determine': 539, 'inherited': 540, 'increasing': 541, 'target': 542, 'postmenopausal': 543, 'finnish': 544, 'out': 545, 'mass': 546, 'negatively': 547, 'x': 548, '308': 549, 'genotyping': 550, 'new': 551, 'cigarette': 552, 'relative': 553, 'cyp1a1': 554, 'changes': 555, 'compared': 556, 'identify': 557, 'tumor': 558, 'affected': 559, 'pd': 560, 'gstt1': 561, 'missense': 562, 'mthfr': 563, 'body': 564, '0301': 565, 'analyzed': 566, 'loss': 567, 'another': 568, 'statistical': 569, 'distribution': 570, 'amd': 571, 'nucleotide': 572, 'statistically': 573, 'ctla': 574, \"3'\": 575, 'characteristics': 576, 'snp309': 577, 'caused': 578, 'here': 579, 'modulating': 580, 'german': 581, 'account': 582, 'elderly': 583, 'depression': 584, 'predictor': 585, 'prevention': 586, 'visual': 587, 'pima': 588, 'proportion': 589, 'adults': 590, 'years': 591, 'dominant': 592, 'vntr': 593, \"5'\": 594, 'replication': 595, 'samples': 596, 'affecting': 597, 'a2': 598, 'conferring': 599, 'koreans': 600, '6a': 601, 'female': 602, 'dqa1': 603, 'germline': 604, 'e': 605, 'subset': 606, 'epsilon': 607, 'use': 608, 'addition': 609, 'extent': 610, 'younger': 611, 'information': 612, 'differential': 613, 'known': 614, 'modulate': 615, 'link': 616, 'regulatory': 617, 'tobacco': 618, 'stage': 619, 'examined': 620, 'bone': 621, 'crc': 622, 'moderate': 623, 'consumption': 624, 'influencing': 625, '1b': 626, 'despite': 627, 'reveal': 628, 'premature': 629, 'danish': 630, '14': 631, 'modifier': 632, 'kcne1': 633, 'resistant': 634, 'daao': 635, 'position': 636, 'hereditary': 637, 'obese': 638, 'biological': 639, 'vulnerability': 640, 'better': 641, 'cytokine': 642, 'frequent': 643, 'because': 644, '8': 645, 'treated': 646, 'profile': 647, 'cervical': 648, 'predictive': 649, 'summary': 650, 'anti': 651, 'provided': 652, 'substitution': 653, 'natural': 654, 'concentrations': 655, '11': 656, 'females': 657, 'china': 658, 'italian': 659, 'fat': 660, '13': 661, '95': 662, 'bmi': 663, 'class': 664, 'contrast': 665, 'cholesterol': 666, 'estrogen': 667, 'ptca': 668, 'cancers': 669, 'explained': 670, 'similar': 671, 'relatively': 672, 'defined': 673, 'longer': 674, 'nlgn3': 675, 'fraction': 676, 'nlgn4': 677, 'glu298asp': 678, 'even': 679, 'little': 680, 'iii': 681, 'carcinogenesis': 682, 'notion': 683, 'secretion': 684, 'stroke': 685, 'modulates': 686, 'since': 687, 'particular': 688, 'central': 689, 'cyp3a4': 690, 'greater': 691, 'cd': 692, 'chromosome': 693, 'load': 694, 'concentration': 695, 'taken': 696, 'combinations': 697, 'prediction': 698, 'determined': 699, 'leptin': 700, 'americans': 701, 'dd': 702, 'subtypes': 703, 'enhanced': 704, 'detected': 705, 'would': 706, 'forms': 707, 'activation': 708, 'nearby': 709, 'limited': 710, 'ventricular': 711, 'gamma': 712, 'predicting': 713, 'analyses': 714, 'argue': 715, 'microsatellite': 716, 'having': 717, 'finding': 718, 'damage': 719, 'h': 720, 'ischemic': 721, 'heart': 722, 'tissue': 723, 'gender': 724, 'alcoholism': 725, 'interactions': 726, 'serve': 727, 'modifies': 728, 'xrcc1': 729, 'alteration': 730, 'size': 731, 'dose': 732, 'manner': 733, 'lipid': 734, 'existence': 735, 'exists': 736, 'distinct': 737, 'alone': 738, 'several': 739, 'asp299gly': 740, 'subtype': 741, 'when': 742, 'acid': 743, 'vkh': 744, 'across': 745, '174g': 746, '159': 747, 'restenosis': 748, 'infarction': 749, 'screening': 750, '12': 751, 'causative': 752, '5a': 753, 'swedish': 754, 'prophylaxis': 755, 'risks': 756, 'initial': 757, 'g894t': 758, 'atherosclerotic': 759, 'via': 760, 'carotid': 761, 'ahsg': 762, 'correlated': 763, 'weight': 764, 'families': 765, 'heterozygotes': 766, 'same': 767, 'demonstrates': 768, '21': 769, 'binding': 770, '08': 771, 'implies': 772, 'implication': 773, 'ocular': 774, 'ca': 775, 'gp': 776, 'ala': 777, 'responses': 778, 'autoimmune': 779, 'respect': 780, 'overweight': 781, 'southern': 782, 'probability': 783, 'component': 784, 'determination': 785, 'exclude': 786, 'directly': 787, 'repair': 788, 'autosomal': 789, 'prospective': 790, 'hypertensive': 791, 'cx3cr1': 792, 'phenotypic': 793, 'help': 794, 'investigate': 795, 'insertion': 796, 'influenced': 797, 'n': 798, 'confirms': 799, 'penetrance': 800, 'testing': 801, 'pon1': 802, 'substantially': 803, 'shanghai': 804, 'area': 805, '1alpha': 806, 'yet': 807, 'cag': 808, 'older': 809, 'functionally': 810, 'absence': 811, 'events': 812, 'uk': 813, 'point': 814, 'seen': 815, 'interact': 816, 'types': 817, 'need': 818, '27': 819, 'elac2': 820, 'fetal': 821, 'maternal': 822, 'implicate': 823, 'polish': 824, 'altered': 825, 'brain': 826, 'myocardial': 827, 'putative': 828, 'causing': 829, 'nat2': 830, 'essential': 831, 'clinically': 832, 'located': 833, 'symptoms': 834, 'differ': 835, 'immune': 836, 'joint': 837, 'carrier': 838, 'atopy': 839, 'artery': 840, 'idiopathic': 841, 'uc': 842, 'comt': 843, 'defects': 844, 'crucial': 845, 'childhood': 846, 'grade': 847, 'heterozygous': 848, 'characterized': 849, 'reduce': 850, 'modulated': 851, 'carcinogens': 852, 'represents': 853, 'process': 854, 'dopamine': 855, 'dietary': 856, 'intake': 857, 'alter': 858, 'given': 859, 'shown': 860, 'induction': 861, 'genomic': 862, 'assessment': 863, 'replicate': 864, 'cal': 865, 'carriage': 866, 'nationality': 867, 'tested': 868, 'cyp3a43': 869, 'copd': 870, 'chemotherapy': 871, 'whether': 872, 'main': 873, 'basis': 874, 'recurrent': 875, 'french': 876, 'endogenous': 877, 'exposures': 878, 'adrenergic': 879, 'endothelial': 880, 'iiia': 881, 'inflammation': 882, 'transcription': 883, 'slow': 884, 'vitro': 885, 'modified': 886, 'lead': 887, 'investigation': 888, 'whites': 889, 'future': 890, 'according': 891, 'emphasize': 892, 'hcv': 893, 'liver': 894, 'xpd': 895, 'typical': 896, 'product': 897, '786': 898, 'will': 899, 'a2m': 900, 'offer': 901, 'alcoholic': 902, 'subgroup': 903, 'allergy': 904, 'us': 905, 'regulating': 906, 'significance': 907, 'established': 908, 'pcos': 909, 'heterogeneity': 910, 'block': 911, 'odds': 912, 'iddm': 913, 'ci': 914, '04': 915, 'atrial': 916, '1beta': 917, 'repeats': 918, 'work': 919, 'rgs4': 920, 'dm': 921, 'long': 922, 'left': 923, 'necessary': 924, 'ifn': 925, 'ccr2': 926, 'hcc': 927, 'squamous': 928, 'relevance': 929, '677': 930, 'latex': 931, 'dlst': 932, 'endometriosis': 933, 'retinopathy': 934, 'unknown': 935, 'detection': 936, 'pl': 937, 'difference': 938, 'province': 939, 'heterozygosity': 940, 'mbl': 941, 'screenings': 942, 'p53': 943, 'pylori': 944, 'impaired': 945, 'toward': 946, 'origin': 947, 'innate': 948, 'reduction': 949, 'recurrence': 950, 'apo': 951, 'indian': 952, 'mutant': 953, 'understanding': 954, 'imply': 955, 'homozygote': 956, '192r': 957, 'm235t': 958, '17f': 959, 'drd2': 960, 'specifically': 961, 'near': 962, 'using': 963, 'mnsod': 964, 'excluded': 965, 'leads': 966, 'ratio': 967, 'vivo': 968, 'ccr5': 969, 'reducing': 970, '0401': 971, '72': 972, 'a1': 973, 'perhaps': 974, 'p448r': 975, 'r519h': 976, 'g643s': 977, 'g38s': 978, 'd85n': 979, 'e145d': 980, 'fibrillation': 981, 'short': 982, 'meta': 983, 'mvp': 984, 'mexican': 985, 'xpc': 986, 'il6': 987, 'cluster': 988, 'adolescents': 989, 'ras': 990, 'stent': 991, 'initiation': 992, 'unrelated': 993, 'members': 994, 'mild': 995, 'chek2': 996, 'critical': 997, 'following': 998, 'autistic': 999, 'capacity': 1000, 'life': 1001, 'atopic': 1002, 'brca2': 1003, 'se': 1004, 'index': 1005, 'therapeutic': 1006, 'ag': 1007, 'c242t': 1008, 'exist': 1009, \"alzheimer's\": 1010, 'arg399gln': 1011, 'attributable': 1012, 'northern': 1013, 'gram': 1014, 'degree': 1015, 'about': 1016, 'partially': 1017, 'mortality': 1018, 'deficiency': 1019, 'homozygotes': 1020, 'etiological': 1021, 'showing': 1022, 'generation': 1023, 'free': 1024, '31': 1025, 'over': 1026, 'synergistically': 1027, 'bladder': 1028, 'infant': 1029, 'raise': 1030, 'bmd': 1031, 'acute': 1032, 'excess': 1033, 'itself': 1034, 'brazilian': 1035, 'primarily': 1036, 'asp': 1037, 'transmission': 1038, 'accumulation': 1039, 'mcp': 1040, 'contributor': 1041, 'tlr2': 1042, 'disc1': 1043, 'ldl': 1044, 'considering': 1045, 'panic': 1046, 'predisposes': 1047, 'allergic': 1048, 'cardiac': 1049, 'preeclampsia': 1050, '889': 1051, '0302': 1052, 'dependence': 1053, 'g6pd': 1054, '07': 1055, 'components': 1056, 'shared': 1057, 'exons': 1058, '308g': 1059, 'weak': 1060, 'majority': 1061, 'rapid': 1062, 'mitochondrial': 1063, 'characteristic': 1064, 'sp': 1065, 'hans': 1066, 'pathogenic': 1067, '19': 1068, 'unable': 1069, 'mutational': 1070, 'persons': 1071, 'causes': 1072, 'versus': 1073, '50': 1074, 'hormone': 1075, 'density': 1076, 'subsequent': 1077, 'pancreatic': 1078, 'ibd': 1079, 'like': 1080, 'cyclin': 1081, 'schizophrenic': 1082, 'l': 1083, 'vegetable': 1084, 'antagonist': 1085, 'immunity': 1086, 'rna': 1087, 'constitute': 1088, 'lrp': 1089, 'leading': 1090, 'pulmonary': 1091, 'tuberculosis': 1092, 'tttta': 1093, 'surgery': 1094, 'length': 1095, 'location': 1096, 'r72p': 1097, 'ile': 1098, 'kcne4': 1099, 'growth': 1100, 'muscle': 1101, 'context': 1102, 'equilibrium': 1103, '511': 1104, 'asian': 1105, 'dtnbp1': 1106, 'dao': 1107, 'amino': 1108, 'conditions': 1109, 'r': 1110, 'testosterone': 1111, 'his': 1112, 'regions': 1113, 'restricted': 1114, 'clearly': 1115, '64i': 1116, 'protect': 1117, 'parameters': 1118, 'iron': 1119, 'pla1': 1120, '238': 1121, 'repeated': 1122, 'caribbean': 1123, '0173': 1124, 'cumulative': 1125, 'nitric': 1126, 'oxide': 1127, 'mediterranean': 1128, 'rad52': 1129, 'trp64arg': 1130, 't2dm': 1131, 'interleukin': 1132, 'smoke': 1133, 'modulation': 1134, 'arterial': 1135, 'atherogenic': 1136, 'systemic': 1137, 'quantitative': 1138, 'turkish': 1139, 'extends': 1140, 'underlying': 1141, 'flanking': 1142, 'propose': 1143, 'transplantation': 1144, 'pair': 1145, 'partly': 1146, 'occurring': 1147, 'genotypic': 1148, 'view': 1149, 'bdnf': 1150, 'sle': 1151, 'mice': 1152, 'up': 1153, 'liability': 1154, 'good': 1155, '159t': 1156, 'efficacy': 1157, 'mspi': 1158, 'prove': 1159, 'sex': 1160, 'cd4': 1161, 'count': 1162, 'migraine': 1163, 'participate': 1164, 'above': 1165, 'where': 1166, 'subgroups': 1167, 'paraoxonase': 1168, 'middle': 1169, 'energy': 1170, 'ugt1a1': 1171, 'recent': 1172, 'proposed': 1173, 'periodontal': 1174, 'dyslipidemia': 1175, 'colon': 1176, 'nsaid': 1177, 'conferred': 1178, 'power': 1179, '01': 1180, 'leiden': 1181, 'skeletal': 1182, 'cohorts': 1183, 'angiotensin': 1184, 'trait': 1185, 'thereby': 1186, 'generally': 1187, 'sarcoidosis': 1188, '18': 1189, 'diagnostic': 1190, 'dysregulation': 1191, 'aggressiveness': 1192, 'synergistic': 1193, 'm': 1194, 'd1': 1195, 'xpa': 1196, 'serotonin': 1197, 'australian': 1198, 'structural': 1199, 'slc3a1': 1200, 'rates': 1201, 'oral': 1202, 'gd': 1203, 'before': 1204, '0303': 1205, 'delta32': 1206, 'hispanic': 1207, 'workers': 1208, 'toxicity': 1209, 'pathophysiological': 1210, 'ptpn22': 1211, 'metastasis': 1212, 'periodontitis': 1213, 'intronic': 1214, 'inhibition': 1215, '455': 1216, '1691': 1217, 'adenocarcinoma': 1218, 'esophageal': 1219, 'set': 1220, 'environment': 1221, 'containing': 1222, '260': 1223, 'deficient': 1224, 'signaling': 1225, 'drugs': 1226, 'ccp': 1227, 'frequently': 1228, 'largely': 1229, 'agt': 1230, 'causal': 1231, 'profiles': 1232, 'remains': 1233, 'platelet': 1234, 'acetylator': 1235, 'asbestos': 1236, 'impairment': 1237, 'signal': 1238, 'though': 1239, 'infected': 1240, 'others': 1241, 'overexpression': 1242, 'authors': 1243, 'five': 1244, 'gly482ser': 1245, 'nature': 1246, 'highlight': 1247, 'change': 1248, 'uterine': 1249, 'regarding': 1250, 'oxidase': 1251, 'genesis': 1252, 'escc': 1253, 'hence': 1254, 'cyp1b1': 1255, 'drug': 1256, 'tgf': 1257, 'beta1': 1258, 'variance': 1259, 'trp': 1260, 'fold': 1261, 'into': 1262, 'identification': 1263, 'nondiabetic': 1264, 'assessed': 1265, 'kidney': 1266, 'thrombosis': 1267, 'pregnancy': 1268, 'mao': 1269, 'drd4': 1270, 'prevalent': 1271, 'lymphocyte': 1272, 'cvd': 1273, 'pathways': 1274, 'correlate': 1275, 'biosynthesis': 1276, 'preterm': 1277, 'event': 1278, 'selectin': 1279, 'molecule': 1280, 'ta': 1281, 'fruit': 1282, 'abnormalities': 1283, 'aspirin': 1284, '28': 1285, 'methods': 1286, 'unidentified': 1287, 'key': 1288, 'magnitude': 1289, 'val511ala': 1290, 'consistently': 1291, 'reduces': 1292, 'brca1': 1293, 'unique': 1294, 'lupus': 1295, 'nephritis': 1296, 'double': 1297, 'slightly': 1298, 'manifestation': 1299, 'httlpr': 1300, 'regardless': 1301, 'valuable': 1302, 'implications': 1303, 'fmv': 1304, 'gln223arg': 1305, 'maybe': 1306, 'psoriasis': 1307, 'nrg1': 1308, 'ar': 1309, 'interesting': 1310, 'k121q': 1311, 'simultaneously': 1312, 'confirmation': 1313, 'under': 1314, 'defect': 1315, 'sensitive': 1316, 'receiving': 1317, 'adipocytes': 1318, '0103': 1319, 'htr2a': 1320, '0803': 1321, 'bunashimeji': 1322, 'peptide': 1323, 'adverse': 1324, 'malignant': 1325, 'make': 1326, 'dmb': 1327, 'impulsive': 1328, 'fc': 1329, 'rule': 1330, 'enhance': 1331, 'background': 1332, 'gt': 1333, 'resulting': 1334, 'spectrum': 1335, 't4065c': 1336, 'gln': 1337, 'vegf': 1338, 'differs': 1339, 'f': 1340, 'prior': 1341, 'examination': 1342, 'possession': 1343, 'ct60': 1344, 'cyp46': 1345, 'abnormal': 1346, 'numbers': 1347, '894t': 1348, 'aetiology': 1349, 'epistatic': 1350, 'tumour': 1351, 'hormonal': 1352, 'tumors': 1353, 'core': 1354, 'model': 1355, 'u': 1356, 'lipids': 1357, 'variable': 1358, 'poag': 1359, 'glaucoma': 1360, 'reflected': 1361, 'chain': 1362, 'de': 1363, 'novo': 1364, 'hotspot': 1365, 'per': 1366, 'vdr': 1367, 'apparently': 1368, 'whole': 1369, 'reflect': 1370, '1ra': 1371, '1c': 1372, 'justification': 1373, 'osteoporosis': 1374, 'unlike': 1375, '0602': 1376, 'distal': 1377, 'involving': 1378, 'egfr': 1379, 'arthritis': 1380, 'infections': 1381, 'state': 1382, 'lean': 1383, 'conventional': 1384, 'cognitive': 1385, 'decline': 1386, 'suicide': 1387, 'along': 1388, 'circulating': 1389, 'spasm': 1390, 'bbd': 1391, 'pancreatitis': 1392, 'tool': 1393, 'identifying': 1394, 'n34s': 1395, 'fundamental': 1396, 'recruitment': 1397, 'immunomodulatory': 1398, 'ht': 1399, 'knowledge': 1400, 'determines': 1401, 'ami': 1402, 'ulcerative': 1403, 'colitis': 1404, 'systolic': 1405, 'iga': 1406, 'cerebrovascular': 1407, 'carry': 1408, 'cys': 1409, 'detect': 1410, 'rr': 1411, 'delivery': 1412, 'ros': 1413, 'modestly': 1414, 'hnf4alpha': 1415, 'y402h': 1416, 'interval': 1417, 'poor': 1418, 'sleep': 1419, 'respiratory': 1420, 'cf': 1421, 'driven': 1422, 'th2': 1423, 'molecules': 1424, 'met': 1425, 'trinucleotide': 1426, 'msh2': 1427, 'dutch': 1428, '174': 1429, 'pathology': 1430, 'gdm': 1431, 'correlations': 1432, 'expressions': 1433, 'cellular': 1434, 'invasion': 1435, 'kd': 1436, 'regulated': 1437, 'processes': 1438, 'japan': 1439, 'four': 1440, 'original': 1441, 'fact': 1442, 'venous': 1443, 'subunit': 1444, 'bipolar': 1445, 'implying': 1446, 'scale': 1447, 'aged': 1448, 'synthesis': 1449, 'unstable': 1450, 'sepsis': 1451, 'lipoprotein': 1452, 'skin': 1453, '173': 1454, '24': 1455, 'airway': 1456, 'required': 1457, 'countries': 1458, 'stone': 1459, 'hepatitis': 1460, '0601': 1461, 'af': 1462, 'homocysteine': 1463, 'dn': 1464, 'cw6': 1465, 'acids': 1466, 'additive': 1467, 'failure': 1468, 'western': 1469, 'irs1': 1470, 'atm': 1471, 'consequences': 1472, 'exercise': 1473, 'depressive': 1474, 'angiographically': 1475, 'cross': 1476, 'infants': 1477, 'producing': 1478, 'destruction': 1479, 'worse': 1480, 'associates': 1481, 'transcriptional': 1482, 'asthmatic': 1483, 'domain': 1484, 'premenopausal': 1485, 'adulthood': 1486, 'tc': 1487, 'them': 1488, 'mn': 1489, 'inhibitors': 1490, 'native': 1491, 'selected': 1492, '16': 1493, 'salt': 1494, 'htt': 1495, 'abeta': 1496, 'p2': 1497, 'taqi': 1498, 'reporting': 1499, 'infrequent': 1500, 'dr': 1501, 'apparent': 1502, '455a': 1503, 'his131': 1504, 'afro': 1505, 'tobago': 1506, 'fez1': 1507, 'occurs': 1508, 'guangdong': 1509, 'igan': 1510, '786c': 1511, 'copy': 1512, 'mrna': 1513, 'predominantly': 1514, 'presumably': 1515, 'erbb2': 1516, 'responsiveness': 1517, 'utr': 1518, 'intermediate': 1519, 'medical': 1520, 'radiation': 1521, 'suitable': 1522, 'micro': 1523, 'microvascular': 1524, 'interacts': 1525, 'year': 1526, '2g': 1527, 'neck': 1528, 'tyr402his': 1529, 'rp': 1530, 'arise': 1531, 'defective': 1532, 'approximately': 1533, 'allow': 1534, 'never': 1535, 'cyp2e1': 1536, 'knee': 1537, 'vary': 1538, 'measures': 1539, 'mmp2': 1540, 't1dm': 1541, 'predicted': 1542, 'baseline': 1543, 'understand': 1544, '402': 1545, '32': 1546, \"3'a\": 1547, 'psychosis': 1548, 'pathophysiology': 1549, 'tp53': 1550, '677tt': 1551, 'decrease': 1552, 'herv': 1553, 'each': 1554, 'namely': 1555, 'descent': 1556, 'ecnos': 1557, 'stenting': 1558, '0501': 1559, '0201': 1560, 'north': 1561, 'twofold': 1562, 'post': 1563, 'gck': 1564, 'h161r': 1565, 'cyp2d6': 1566, 'physical': 1567, 'co': 1568, 'nod2': 1569, 'tumorigenesis': 1570, '1d': 1571, 'received': 1572, 'stat3': 1573, 'fev1': 1574, 'needs': 1575, 'leu': 1576, 'selective': 1577, 'malaria': 1578, 'predominant': 1579, 'black': 1580, 'altering': 1581, 'south': 1582, 'sites': 1583, 'cerebral': 1584, 'wa': 1585, 'spain': 1586, 'ssc': 1587, 'cyp17': 1588, 'constitutes': 1589, 'marked': 1590, 'attractive': 1591, '344c': 1592, 'drinking': 1593, 'glu': 1594, 'slc11a1': 1595, 'inhibitor': 1596, 'shorter': 1597, 'adiponectin': 1598, 'confidence': 1599, 'indicator': 1600, 'close': 1601, 'gstp1': 1602, 'exert': 1603, 'active': 1604, 'endometrial': 1605, 'psychiatric': 1606, 'fibrosis': 1607, '634': 1608, 'duration': 1609, 'p187s': 1610, 'aia': 1611, 'cardiomyopathy': 1612, 'ahr': 1613, 'transition': 1614, 'msh6': 1615, 'tb': 1616, '1f': 1617, 'wild': 1618, 'pah': 1619, 'c2': 1620, 'acquisition': 1621, 'balance': 1622, 'adhd': 1623, 'fatty': 1624, 'classic': 1625, 'lps': 1626, 'indirect': 1627, 'derived': 1628, '169': 1629, 'test': 1630, 'clear': 1631, 'tolerance': 1632, 'rapidly': 1633, 'nf': 1634, 'r399q': 1635, 'platinum': 1636, 'documented': 1637, 'daoa': 1638, 'suppressor': 1639, 'favorable': 1640, 'instability': 1641, 'msi': 1642, 'predicts': 1643, 'mlh1': 1644, 'variables': 1645, 'appeared': 1646, 'cystinuria': 1647, 'adversity': 1648, 'antidepressant': 1649, 'c282y': 1650, 'idea': 1651, 'c3435t': 1652, 'extensive': 1653, 'ts': 1654, 'a23g': 1655, 'hip': 1656, 'polygenic': 1657, 'del': 1658, 'asp298': 1659, 'shh': 1660, 'markedly': 1661, 'substrate': 1662, 'toll': 1663, 'thyroid': 1664, 'map': 1665, 'cns': 1666, 'country': 1667, 'nicotine': 1668, 'scottish': 1669, 'offspring': 1670, 'igf': 1671, 'progressive': 1672, 'cardia': 1673, 'autoimmunity': 1674, 'ps1': 1675, 'clearance': 1676, 'unselected': 1677, 'death': 1678, '972': 1679, 'rs7566605': 1680, 'insig2': 1681, '02': 1682, 'vlbw': 1683, 'nhl': 1684, '159c': 1685, 'eating': 1686, 'rf': 1687, 'enhancer': 1688, 'bche': 1689, 'antihypertensive': 1690, 'ptch1': 1691, 'ancestry': 1692, 'completely': 1693, 'cyp2c9': 1694, 'rrp': 1695, 'strategies': 1696, '247': 1697, '53': 1698, 'wks': 1699, '368': 1700, 'nondemented': 1701, 'drp': 1702, '252': 1703, 'penetrant': 1704, 'coexisting': 1705, \"crohn's\": 1706, 'bacterial': 1707, 'gh': 1708, 'represented': 1709, 'prolonged': 1710, 'nat1': 1711, 'decreases': 1712, 'visceral': 1713, '1562t': 1714, 'reliable': 1715, 'literature': 1716, 'pathological': 1717, 'heavy': 1718, 'systematic': 1719, 'kb': 1720, 'warrant': 1721, 'macrovascular': 1722, 'pparalpha': 1723, 'robust': 1724, 'reflux': 1725, 'gain': 1726, 'rsv': 1727, 'cascade': 1728, 'tamoxifen': 1729, 'setting': 1730, 'caga': 1731, 'structure': 1732, 'intensive': 1733, 'arg677ter': 1734, 'simplex': 1735, 'rp1': 1736, 'apolipoprotein': 1737, 'germ': 1738, 'line': 1739, 'men1': 1740, \"3'utr\": 1741, 'ser326cys': 1742, 'promoting': 1743, 'sexes': 1744, 'tau': 1745, 'aaa': 1746, 'nfkbia': 1747, 'diet': 1748, 'meat': 1749, 'vessel': 1750, 'antipsychotic': 1751, 'proximal': 1752, 'lbp': 1753, 'asp148glu': 1754, 'contributed': 1755, 'speculate': 1756, 'wide': 1757, 'models': 1758, 'rheumatoid': 1759, 'triglyceride': 1760, 'ability': 1761, 'atherothrombotic': 1762, 'lesions': 1763, 'knock': 1764, 'antigen': 1765, 'nadh': 1766, 'old': 1767, 'remodelling': 1768, 'angioplasty': 1769, 'mmp3': 1770, 'presentation': 1771, 'lacking': 1772, '1100delc': 1773, 'attenuating': 1774, 'suppression': 1775, 'personality': 1776, 'predictors': 1777, 'p22': 1778, 'phox': 1779, 'exclusively': 1780, 'at1r': 1781, 'arteries': 1782, 'involve': 1783, 'cyp1a2': 1784, 'participates': 1785, '374t': 1786, 'tunisian': 1787, 'hemodialysis': 1788, 'so': 1789, 'cyp3a5': 1790, 'morbidity': 1791, 'courses': 1792, 'aura': 1793, 'etiopathogenesis': 1794, 'ruled': 1795, 'g2677t': 1796, 'folate': 1797, 'improved': 1798, 'bace1': 1799, 'attributed': 1800, 'chromosomal': 1801, 'ba': 1802, 'made': 1803, 'question': 1804, 'cyp11a1': 1805, 'ugt2b17': 1806, 'smaller': 1807, 'associate': 1808, 'm2': 1809, 'presenting': 1810, 'dq': 1811, 'light': 1812, 'htr3b': 1813, 'activator': 1814, 'apod': 1815, 'replicated': 1816, 'tract': 1817, 'incident': 1818, 'plausible': 1819, 'exudative': 1820, 'slovene': 1821, 'pro12ala': 1822, 'tcf7l2': 1823, 'cox': 1824, 'nsaids': 1825, 'uvntr': 1826, 'inconclusive': 1827, 'compatible': 1828, 'paranoid': 1829, 'mef2a': 1830, 'recently': 1831, '344': 1832, 'l10p': 1833, 'infiltration': 1834, 'excretion': 1835, 'mdm2': 1836, 'nevertheless': 1837, 'deserves': 1838, 'lv': 1839, 'mlh3': 1840, 'pms1': 1841, 'msh3': 1842, 'past': 1843, 'jews': 1844, 'series': 1845, 'g972r': 1846, 'codons': 1847, '432': 1848, 'proinflammatory': 1849, 'pro': 1850, 'cfh': 1851, 'padi4': 1852, 'overexpressed': 1853, 'inducing': 1854, 'network': 1855, 'identifies': 1856, 'links': 1857, '03': 1858, 'oa': 1859, 'val158met': 1860, 'pathogenetic': 1861, 'strongest': 1862, 'dysbindin': 1863, 'ashkenazi': 1864, 'promoted': 1865, 'transporter': 1866, 'availability': 1867, '22': 1868, '444': 1869, 'alox5ap': 1870, 'aggression': 1871, 'exhibited': 1872, 'olr1': 1873, 'q192r': 1874, 'recessive': 1875, 'piece': 1876, '0404': 1877, '30': 1878, 'adequate': 1879, 'presented': 1880, 'rs1862214': 1881, 'pdcd5': 1882, 'aggressive': 1883, 'northwest': 1884, 'chk1': 1885, 'framshift': 1886, 'tumourigenesis': 1887, 'hnpccs': 1888, 'stratification': 1889, 'enhances': 1890, 'west': 1891, 'cyp11b2': 1892, 'bearing': 1893, 'consequence': 1894, 'evaluation': 1895, 'eclampsia': 1896, 'jointly': 1897, 'cyp19': 1898, 'down': 1899, 'persistent': 1900, 'british': 1901, 'individually': 1902, 'propensity': 1903, 'lys939gln': 1904, 'subsets': 1905, '298': 1906, 'progress': 1907, 'mdr1': 1908, 'pediatric': 1909, 'e4': 1910, 'eosinophilia': 1911, 'c34t': 1912, 'iv': 1913, 'triplet': 1914, 'range': 1915, 'stimulation': 1916, \"parkinson's\": 1917, '260c': 1918, 'just': 1919, '86': 1920, 'administration': 1921, 'eastern': 1922, 'intestinal': 1923, 'dinucleotide': 1924, 'pneumonia': 1925, 'analyze': 1926, 'activities': 1927, 'retinitis': 1928, 'pigmentosa': 1929, 'rs7903146': 1930, 'health': 1931, 'srebp': 1932, 'apoe4': 1933, 'amines': 1934, 'melanocortin': 1935, 'obstructive': 1936, 'threatening': 1937, 'adolescence': 1938, 'tagsnp': 1939, 'abdcir': 1940, 'anomalies': 1941, 'c609t': 1942, 'ins': 1943, 'establish': 1944, 'ugt1a7': 1945, 'implicates': 1946, 'bb': 1947, 'pose': 1948, 'favor': 1949, 'appearance': 1950, 'much': 1951, 'incipient': 1952, 'matrix': 1953, 'asymptomatic': 1954, 'gaba': 1955, 'gamma2': 1956, 'nasal': 1957, 'arg388': 1958, 'crp': 1959, 'strengthens': 1960, 'hemodynamic': 1961, 'benefit': 1962, '1315leu': 1963, 'sonic': 1964, 'hedgehog': 1965, 'patched': 1966, 'immediate': 1967, 'healthcare': 1968, 'occupationally': 1969, 'rubber': 1970, 'prominent': 1971, 'pharmacogenetic': 1972, 'chemokine': 1973, '158': 1974, 'mutated': 1975, 'i157t': 1976, 'nqo1': 1977, 'fok': 1978, 'viral': 1979, 'logistic': 1980, 'secondary': 1981, 'ib': 1982, 'gabra2': 1983, '9val': 1984, 'notably': 1985, 'endocrinopathies': 1986, '0104': 1987, '06': 1988, 'inheritance': 1989, 'demonstrating': 1990, 'a66g': 1991, 'eh': 1992, 'coumarin': 1993, 'exogenous': 1994, 'caffeine': 1995, 'staging': 1996, '22q11': 1997, 'method': 1998, 'taking': 1999, 'tendency': 2000, '431': 2001, 'minimal': 2002, 'vitiligo': 2003, 'epidermal': 2004, 'sclerosis': 2005, 'vesicoureteral': 2006, 'cys557ser': 2007, 'measurable': 2008, 'unclear': 2009, '001': 2010, 'injury': 2011, 'directed': 2012, 'hypercholesterolemia': 2013, 'kras': 2014, 'adh3': 2015, 'entire': 2016, 'parts': 2017, 'a52c': 2018, 'autoantibody': 2019, 'stenosis': 2020, 'providing': 2021, 'asn': 2022, 'shbg': 2023, 'locations': 2024, 'worldwide': 2025, 'dry': 2026, 'cp2': 2027, 'lys751gln': 2028, 'spontaneous': 2029, 'jewish': 2030, 'compelling': 2031, 'hmox1': 2032, 'existed': 2033, 'chl1': 2034, 'argues': 2035, 'patterns': 2036, 'cdkn2a': 2037, 'necrosis': 2038, 'ho': 2039, 'kinase': 2040, 'extremely': 2041, 'conflicting': 2042, 's89n': 2043, 'produce': 2044, 'apoptosis': 2045, 'nadph': 2046, '51': 2047, 'autoantibodies': 2048, 'rs3744700': 2049, 'cxcl16': 2050, 'thirds': 2051, 'manifesting': 2052, 'wt1': 2053, 'portion': 2054, 'base': 2055, 'ile1000val': 2056, 'bilateral': 2057, 'noncarriers': 2058, 'esr1': 2059, 'scandinavian': 2060, '463': 2061, 'ccttt': 2062, 'stromelysin': 2063, 'syndromic': 2064, 'spink1': 2065, 'ethnicity': 2066, 'sids': 2067, 'card15': 2068, 'skewed': 2069, 'hsert': 2070, 'adjuvant': 2071, 'lsf': 2072, 'variety': 2073, 'indices': 2074, 'rflps': 2075, '589': 2076, 'fcalpha': 2077, 'ribeta': 2078, 'rhinitis': 2079, 'mo': 2080, 'tnf2': 2081, 'lipc': 2082, 'call': 2083, 'cntf': 2084, 'lts': 2085, 'antibody': 2086, 'partial': 2087, 'relatives': 2088, 'fatal': 2089, 'means': 2090, '936': 2091, 'northwestern': 2092, 'ugt1a6': 2093, 'behaviour': 2094, 'united': 2095, 'pregnant': 2096, 'a6': 2097, '4a': 2098, 'plasminogen': 2099, 'hindiii': 2100, 'mainly': 2101, 'catalytic': 2102, 'ppargamma': 2103, 'c1772t': 2104, 'decreasing': 2105, 'brazilians': 2106, 'antagonize': 2107, 'epithelial': 2108, 'cdt1': 2109, 'physiological': 2110, '894tt': 2111, 'et': 2112, 'ht2a': 2113, 'estimated': 2114, 'combining': 2115, 'hnpcc': 2116, 'pbc': 2117, 'g20210a': 2118, 'gst': 2119, 'hungarian': 2120, 'ahrr': 2121, 'mm': 2122, 'normotensive': 2123, 'sympathetic': 2124, 'fit': 2125, 'few': 2126, 'converting': 2127, 'bd': 2128, 'reaction': 2129, 'alzheimer': 2130, 'erbeta': 2131, 'outcomes': 2132, 'interferon': 2133, 'grip1': 2134, 'chemicals': 2135, 'commonly': 2136, 'g908r': 2137, 'poorer': 2138, '589t': 2139, 'col3a1': 2140, 'v89l': 2141, 'clustering': 2142, 'pof': 2143, 'positions': 2144, 'maoa': 2145, '1612': 2146, 'diagnosed': 2147, 'somatic': 2148, 'cck': 2149, 'q': 2150, 'suicidal': 2151, '176': 2152, '147': 2153, '146': 2154, '1073': 2155, 'food': 2156, 'remaining': 2157, 't393c': 2158, 'organ': 2159, 'homogeneous': 2160, 'reductase': 2161, 'become': 2162, 'ppargc1': 2163, 'action': 2164, 'actions': 2165, 'ifng': 2166, 'sh2d2a': 2167, 'synapsin': 2168, '221': 2169, '56': 2170, 'beijing': 2171, 'hsp70': 2172, 'hearing': 2173, 'dat1': 2174, 'pre': 2175, 'curative': 2176, 'mg': 2177, 'fas': 2178, 'leukemia': 2179, 'representative': 2180, 'esrd': 2181, 'r497k': 2182, 'metastatic': 2183, 'requirement': 2184, 'daily': 2185, 'calcium': 2186, 'matched': 2187, 'ctla4': 2188, '54': 2189, 'withdrawal': 2190, 'surrogate': 2191, 'i249': 2192, 'carried': 2193, 'fu': 2194, 'conclusively': 2195, 'syndromes': 2196, 'aih': 2197, '1103c': 2198, '1103cc': 2199, 'accounted': 2200, 'conversion': 2201, 'add1': 2202, 'bile': 2203, 'mushroom': 2204, 'cytotoxic': 2205, '675': 2206, '786t': 2207, 'imt': 2208, 'mhc': 2209, 'oestrogen': 2210, 'term': 2211, 'congenital': 2212, 'paclitaxel': 2213, 'nmdar': 2214, 'invasive': 2215, 'improve': 2216, 'thrombophilic': 2217, 'pattern': 2218, 'values': 2219, 'lcas': 2220, 'hypercholesterolemic': 2221, 'jp': 2222, 'glutamine': 2223, '231': 2224, 'juvenile': 2225, '576r': 2226, 'must': 2227, 'birth': 2228, 'evident': 2229, 'atrophy': 2230, 'stomach': 2231, 'scores': 2232, 'girls': 2233, 'retard': 2234, 'rflp': 2235, '1267': 2236, 'community': 2237, 'tph': 2238, 'a218c': 2239, 'powerful': 2240, 'epitope': 2241, 'sumo4': 2242, 'finland': 2243, 'vitamin': 2244, 'peripheral': 2245, 'able': 2246, 'ccnd1': 2247, 'recessively': 2248, 'inverse': 2249, 'pmr': 2250, 'best': 2251, 'tnfsf4': 2252, 'underlies': 2253, 'homolog': 2254, 'ia': 2255, 'immunogenetic': 2256, 'effective': 2257, 'apnea': 2258, 'antioxidant': 2259, 'antiinflammatory': 2260, 'rarely': 2261, 'augmented': 2262, 'wall': 2263, 'allergies': 2264, 'poland': 2265, 'mouse': 2266, 'pigmentary': 2267, 'unipolar': 2268, 'androgen': 2269, 'categories': 2270, 'teicoplanin': 2271, '033': 2272, 'warrants': 2273, 'aldosterone': 2274, 'fasl': 2275, 'improvement': 2276, 'pc': 2277, 'hcy': 2278, 'deterioration': 2279, 'modification': 2280, 'likelihood': 2281, 'overt': 2282, 'mca': 2283, 'cat': 2284, 'transplant': 2285, 'suffering': 2286, 'hepatic': 2287, 'episodes': 2288, 'scd14': 2289, 'dq8': 2290, 'lose': 2291, 'field': 2292, 'plau': 2293, 'oc': 2294, '1249': 2295, 'm280': 2296, 'indication': 2297, 'africa': 2298, 'linking': 2299, 'manifestations': 2300, 'hypersensitivity': 2301, 'portal': 2302, 'phase': 2303, 'release': 2304, 'targeted': 2305, '1a': 2306, '2518': 2307, 'heterocyclic': 2308, 'absent': 2309, 'ala54thr': 2310, 'second': 2311, 'pigmentation': 2312, 't1d': 2313, 'bph': 2314, 'c1': 2315, '1g': 2316, 'pxr': 2317, 'angiotensinogen': 2318, '145': 2319, 'alters': 2320, 'metalloproteinase': 2321, '211': 2322, 'diffuse': 2323, 'analysed': 2324, 'solid': 2325, 'performance': 2326, 'tasks': 2327, 'hpv': 2328, 'parenchymal': 2329, 'serine': 2330, 'menopausal': 2331, '1858c': 2332, 'amyloid': 2333, 'strength': 2334, 'caution': 2335, 'urinary': 2336, 'promoters': 2337, 'tim': 2338, 'pat': 2339, 'aurora': 2340, 'adjusted': 2341, 'benzene': 2342, 'ld': 2343, 'suggestion': 2344, 'corticosteroid': 2345, 'published': 2346, 'social': 2347, 'ever': 2348, 'undergoing': 2349, 'perinatal': 2350, 'electroencephalogram': 2351, 'neural': 2352, 'excitation': 2353, 'fbn1': 2354, 'arrhythmias': 2355, 'collapse': 2356, 'c825t': 2357, '2236c': 2358, 'carring': 2359, 'irish': 2360, 'cd95l': 2361, 'ix': 2362, 'fxiii': 2363, '607': 2364, 'loc387715': 2365, 'adjustment': 2366, '160': 2367, 'sequences': 2368, 'conditioning': 2369, 'selection': 2370, 'a2756g': 2371, 'mtrr': 2372, 'coupled': 2373, 'activated': 2374, 'habitual': 2375, 'improves': 2376, 'dkk': 2377, 'bind': 2378, 'neuregulin': 2379, 'von': 2380, 'willebrand': 2381, '251tt': 2382, '819tt': 2383, 'continuing': 2384, 'radiotherapy': 2385, 'races': 2386, 'anhui': 2387, 'harboring': 2388, 'surveillance': 2389, 'endothelium': 2390, 'dilation': 2391, 'enzymes': 2392, 'pon2': 2393, 'lta': 2394, 'ape1': 2395, 'pro129thr': 2396, 'seemed': 2397, 'pronounced': 2398, 'downregulates': 2399, 'correction': 2400, 'carcinomas': 2401, 'c26304t': 2402, 'blunting': 2403, 'kindred': 2404, 'tumours': 2405, 'dg': 2406, 'a61g': 2407, 'aldh2': 2408, 'xrcc3': 2409, 'ercc4': 2410, 'xpf': 2411, 'aspn': 2412, 'comp': 2413, 'col2a1': 2414, 'element': 2415, 'upon': 2416, 'acquired': 2417, 'femoral': 2418, 'glycoprotein': 2419, 'aging': 2420, '819c': 2421, 'ata': 2422, 'gcc': 2423, 'atc': 2424, 'aca': 2425, '17': 2426, 'il8': 2427, 'pparg': 2428, 'geographic': 2429, 't1277c': 2430, 'tyrosine': 2431, 'histidine': 2432, 'wet': 2433, 'points': 2434, 'produced': 2435, 'methamphetamine': 2436, 'productivity': 2437, 'stressors': 2438, 'hydrolysis': 2439, 'synthase': 2440, 'avoidance': 2441, 'calcification': 2442, 'affective': 2443, 'pfm': 2444, 'dbp': 2445, 'balloon': 2446, 'drb3': 2447, '0101': 2448, 'synergically': 2449, 'nphs1': 2450, 'lamb2': 2451, 'preeclamptic': 2452, 'helicobacter': 2453, 'controlling': 2454, 'basal': 2455, '30g': 2456, 'i27l': 2457, 'xinjiang': 2458, 'rejection': 2459, 'coffee': 2460, 'cruciferous': 2461, '196': 2462, 'aact': 2463, 'slc22a4': 2464, 'strengthen': 2465, 'insights': 2466, 'postoperative': 2467, 'sedentary': 2468, 'lifestyle': 2469, 'nonpolyposis': 2470, 'mismatch': 2471, 'value': 2472, 'regimen': 2473, 'tacrolimus': 2474, 'aside': 2475, 'concept': 2476, '102': 2477, '584c': 2478, 'similarities': 2479, 'define': 2480, 'vessels': 2481, 'ja': 2482, 'entirely': 2483, 'minority': 2484, 'r219k': 2485, 'cumulatively': 2486, '34t': 2487, 'diverse': 2488, 'soluble': 2489, 'thalassemia': 2490, 'suggestive': 2491, 'adrenoceptor': 2492, 'glucuronidation': 2493, 'derivatives': 2494, 'intolerance': 2495, 'androgens': 2496, 'kingdom': 2497, 'ec': 2498, 'a332a': 2499, 'htr3a': 2500, 'diastolic': 2501, 'gdf9': 2502, 'p21': 2503, 'bamhi': 2504, 'enlargement': 2505, 'varying': 2506, 'behavioural': 2507, 'braf': 2508, 'n363s': 2509, '3953': 2510, 'fh': 2511, '838g': 2512, '387c': 2513, 'fashion': 2514, 'preclude': 2515, 'obr': 2516, 'cystic': 2517, 'tf': 2518, 'adolescent': 2519, 'acting': 2520, 'slight': 2521, 'dsdna': 2522, 'postulated': 2523, 'endometrium': 2524, \"'candidate'\": 2525, '88': 2526, '011': 2527, 'airways': 2528, 'participants': 2529, 'opioid': 2530, 'ss': 2531, 'thrombogenic': 2532, 'consisting': 2533, 'prothrombin': 2534, '455g': 2535, 'a1298c': 2536, 'snp021': 2537, 'scn7a': 2538, 'dilated': 2539, 'functioning': 2540, 'prevent': 2541, 'experience': 2542, 'express': 2543, 'arnt': 2544, 'playing': 2545, 'cyp2c19': 2546, 'chlamydia': 2547, 'stimulated': 2548, '77c': 2549, 'virtually': 2550, 'composition': 2551, '59029': 2552, 'played': 2553, 'mother': 2554, 'connected': 2555, 'immunological': 2556, 'eralpha': 2557, 'frzb': 2558, 'functions': 2559, 'universal': 2560, 'hunan': 2561, 'cryptorchidism': 2562, 'inhaled': 2563, 'characterised': 2564, \"individual's\": 2565, 'expressing': 2566, 'spsp': 2567, '006': 2568, 'interindividual': 2569, 'self': 2570, 'healing': 2571, 'assessing': 2572, 'cartilage': 2573, '264': 2574, 'elevation': 2575, 'ratings': 2576, 'interview': 2577, 'revised': 2578, 'schedule': 2579, 'neurogenesis': 2580, 'peak': 2581, 'supportive': 2582, 'neurodevelopmental': 2583, 'delineating': 2584, 'display': 2585, 'cw': 2586, 'adhesion': 2587, 'bmp15': 2588, 'deteriorating': 2589, 'gallbladder': 2590, 'tryptophan': 2591, 'cofactors': 2592, 'reactive': 2593, 'pi': 2594, 'msp': 2595, 'aortic': 2596, 'cp': 2597, 'esr2': 2598, 'v64i': 2599, 'approach': 2600, 'dosage': 2601, 'hyperinsulinemia': 2602, 'contributors': 2603, 'behaviors': 2604, '19p13': 2605, 'besides': 2606, 'reliably': 2607, 'lib': 2608, 'll': 2609, 'sert': 2610, 'tg': 2611, 'v600e': 2612, 'stable': 2613, 'stages': 2614, 'kappab': 2615, 'g38a': 2616, 'bulky': 2617, 'mdr': 2618, 'hubei': 2619, 'strikingly': 2620, 'pathologies': 2621, 'optic': 2622, 'red': 2623, 'looked': 2624, '514': 2625, 'flow': 2626, 'vulnerable': 2627, 'how': 2628, 'city': 2629, 'africans': 2630, 'pathophysiologic': 2631, 'feature': 2632, 'receptors': 2633, '1055': 2634, 'accordance': 2635, 'amount': 2636, 'rutter': 2637, 'psychosocial': 2638, 'reactivity': 2639, '2a': 2640, 'moderately': 2641, 'timp': 2642, 'accelerated': 2643, 'consequential': 2644, 'interpreted': 2645, 'extreme': 2646, 'arginine': 2647, 'nonsense': 2648, '106t': 2649, 'mbp': 2650, 'persistence': 2651, '738': 2652, 'marks': 2653, 'epidemiological': 2654, 'lvd': 2655, 'protects': 2656, 'hsp': 2657, 'oxaliplatin': 2658, 'downregulation': 2659, 'cholestasis': 2660, 'causally': 2661, 'lilra3': 2662, 'cyp3a': 2663, 'igt': 2664, 'albuminuria': 2665, 'concomitant': 2666, 'latino': 2667, 'cftr': 2668, 'ex': 2669, 'occupational': 2670, 'correlates': 2671, 'thoroughly': 2672, 'varies': 2673, 'still': 2674, 'n367t': 2675, 'donors': 2676, 'stronger': 2677, '240': 2678, 'proteins': 2679, '344t': 2680, 'spite': 2681, 'pending': 2682, 'mdd': 2683, 'slc7a9': 2684, 'tandem': 2685, '1306': 2686, 'psychotic': 2687, 'identical': 2688, 'ap': 2689, 'glutamatergic': 2690, 'dopaminergic': 2691, 'random': 2692, 'signalling': 2693, 'goitrous': 2694, 'neuropathogenesis': 2695, 'nervous': 2696, 'trauma': 2697, 'overload': 2698, 'dvt': 2699, 'nrg': 2700, 'motility': 2701, 'alox5': 2702, 'validation': 2703, 'ge': 2704, 'nd': 2705, 'c6235': 2706, 'cytochrome': 2707, 'mediating': 2708, 'sectional': 2709, 'vulgaris': 2710, 'tgfb1': 2711, '158v': 2712, '75': 2713, '83': 2714, 'estimation': 2715, 'blacks': 2716, 'follow': 2717, 'herein': 2718, 'score': 2719, 'eeg': 2720, 'proline': 2721, 'indeed': 2722, 'grk3': 2723, 'italy': 2724, 'respective': 2725, 'collection': 2726, 'epilepsy': 2727, 'dr4': 2728, 'russians': 2729, 'contain': 2730, 'aids': 2731, 'runx1': 2732, 'tests': 2733, 'comparing': 2734, '28g': 2735, 'mif': 2736, 'neuropathologic': 2737, 'ocd': 2738, 'adrb2': 2739, 'sampling': 2740, 'producer': 2741, 'gpx1': 2742, 'fcgr2b': 2743, 'greatly': 2744, 'sad': 2745, 'superficial': 2746, 'pp': 2747, '1784gc': 2748, '1784g': 2749, 'list': 2750, 'fasting': 2751, 'melanoma': 2752, 'defining': 2753, 'ifngr1': 2754, 'what': 2755, '04051': 2756, 'example': 2757, 'except': 2758, 'contrary': 2759, 'bradykinin': 2760, 'b2': 2761, 'harbor': 2762, 'excluding': 2763, 'haptoglobin': 2764, 'mononuclear': 2765, 'il4': 2766, 'pure': 2767, 'lbv': 2768, 'integrin': 2769, 'recognition': 2770, 'excessive': 2771, 'share': 2772, 'reln': 2773, '251': 2774, 'abdominal': 2775, 'developmental': 2776, 't27796c': 2777, 'obviously': 2778, 'operative': 2779, 'aetiological': 2780, 'chance': 2781, 'canadian': 2782, 'gives': 2783, 'temperament': 2784, 'serotonergic': 2785, 'nphs2': 2786, 'resting': 2787, 'chilean': 2788, 'ages': 2789, 'detoxification': 2790, 'distributions': 2791, 'six': 2792, 'i164t': 2793, 'proposal': 2794, 'neovascular': 2795, 'acl': 2796, 'compound': 2797, 'cma': 2798, 'remodeling': 2799, 'basque': 2800, 'c267t': 2801, 'ercc2': 2802, 'arising': 2803, 'exception': 2804, 'inhalation': 2805, '141deltac': 2806, 'colombia': 2807, 'psc': 2808, 'mobilization': 2809, 'hypercoagulability': 2810, 'abortion': 2811, 'way': 2812, 'distinguish': 2813, 'renin': 2814, 'abrogation': 2815, 'acuity': 2816, 'affinity': 2817, '29': 2818, 'dpb1': 2819, 'towards': 2820, 'gngt1': 2821, 'mixed': 2822, 'bronchial': 2823, 'recipients': 2824, 'anxiety': 2825, 'unequivocally': 2826, 'il18': 2827, 'biallelic': 2828, 'irinotecan': 2829, 'g2019s': 2830, 'virus': 2831, 'dimorphism': 2832, 'beta3': 2833, 'upper': 2834, 'operate': 2835, 'singapore': 2836, 'fail': 2837, 'permissiveness': 2838, 'storage': 2839, 'fsh': 2840, \"graves'\": 2841, '2c': 2842, 'heritable': 2843, '270': 2844, 'sweden': 2845, 'accelerates': 2846, 'hemostasis': 2847, 'fast': 2848, 'prone': 2849, 'lepr': 2850, 'chengdu': 2851, 'hbv': 2852, 'genital': 2853, 'adprt': 2854, 'violent': 2855, 'adjusting': 2856, 'confirming': 2857, '60': 2858, 'heterozygote': 2859, 'vt': 2860, 'diazoxon': 2861, 'microsatelite': 2862, 'croatians': 2863, 'respectively': 2864, 'nn': 2865, 'formerly': 2866, 'cryptorchid': 2867, 'hypertrophy': 2868, 'predicate': 2869, 'prefrontal': 2870, 'absorption': 2871, '0102': 2872, 'synergy': 2873, '215g': 2874, 'regression': 2875, 'mtx': 2876, 'why': 2877, 'predisposed': 2878, 'p387l': 2879, '26': 2880, '93': 2881, 'phosphorylation': 2882, 'ptp': 2883, 'vte': 2884, '108': 2885, 'cbs': 2886, 'il1rn': 2887, '57': 2888, 'sufficient': 2889, 'expected': 2890, 'erythematosus': 2891, 'player': 2892, 'gastrointestinal': 2893, 'mmp12': 2894, 'grouped': 2895, 'peruvian': 2896, '48': 2897, 'hong': 2898, 'kong': 2899, 'induce': 2900, 'loading': 2901, 'leukocyte': 2902, 'biochemical': 2903, 'dm2': 2904, 'included': 2905, 'comorbid': 2906, 'traditional': 2907, 'adipose': 2908, 'menopause': 2909, 'gc': 2910, 'disturbances': 2911, 'mody': 2912, 'poisoning': 2913, 'der': 2914, 'believe': 2915, 'uncommon': 2916, 'prodh': 2917, 'hellp': 2918, 'rsai': 2919, 'nsclc': 2920, 'corticosteroids': 2921, 'rationale': 2922, 'catabolism': 2923, 'angiographic': 2924, 'cetp': 2925, 'membrane': 2926, 'gstm3': 2927, 'protected': 2928, 'ace1': 2929, 'emergence': 2930, '15621': 2931, '141c': 2932, 'riia': 2933, 'gck1': 2934, 'gck2': 2935, 'bear': 2936, 'thr54': 2937, 'p16': 2938, 'meningioma': 2939, 'irradiated': 2940, 'nonirradiated': 2941, 'endocannabinoid': 2942, 'inaccurate': 2943, 'style': 2944, 'neuropsychological': 2945, 'symptom': 2946, 't1663a': 2947, 'upstream': 2948, 'gabra': 2949, 'h63d': 2950, 'rgs9': 2951, '2236': 2952, 'thai': 2953, 'hcmv': 2954, '93g': 2955, '298asp': 2956, 'accompanied': 2957, 'lymphocytes': 2958, 'schizophrenics': 2959, '102t': 2960, 'monitoring': 2961, 'accuracy': 2962, 'mmp9': 2963, 'psprodh': 2964, 'mtdna': 2965, 'rcc': 2966, 'grading': 2967, 'mankind': 2968, 'hefei': 2969, 'carcinogenic': 2970, 'contained': 2971, 'differentiated': 2972, 'reveals': 2973, 'transcriptionally': 2974, 'mc4r': 2975, '276': 2976, 'deletions': 2977, 'gefitinib': 2978, 'erlotinib': 2979, 'parameter': 2980, 'summarize': 2981, 'bst': 2982, 'protecting': 2983, '469kk': 2984, 'truncating': 2985, 'th1': 2986, 'dominated': 2987, 'half': 2988, 'cckar': 2989, 'cckbr': 2990, '388': 2991, 'hallucinations': 2992, 'ancient': 2993, '999del5': 2994, 'norwegian': 2995, 'npc': 2996, '67g': 2997, 'interest': 2998, 'm694v': 2999, 'indicative': 3000, 'denmark': 3001, 'requiring': 3002, 'oh': 3003, 'adducts': 3004, 'hogg1': 3005, 'adipor2': 3006, 'differentially': 3007, 'mendelian': 3008, 'mycobacterial': 3009, 'gambian': 3010, 'oprm1': 3011, 'vad': 3012, 'usefulness': 3013, 'pivotal': 3014, 'hemicentin': 3015, 'pgc': 3016, 'cognition': 3017, 'vasculitis': 3018, '2849': 3019, 'pik3ca': 3020, 'positively': 3021, 'acc': 3022, 'exonic': 3023, 'tnfbeta': 3024, '55': 3025, 'wt': 3026, 'delta': 3027, 'spondylosis': 3028, 'r121w': 3029, 'okinawans': 3030, 'frameshifting': 3031, '99': 3032, 'rpgr': 3033, 'tapetallike': 3034, 'reflex': 3035, 'i1307k': 3036, 'neurotransmitter': 3037, 'collagen': 3038, 'genome': 3039, 'describe': 3040, 'amplification': 3041, 'cyp': 3042, 'leiomyoma': 3043, 'snp3': 3044, '677ct': 3045, 'thcy': 3046, 'harm': 3047, 's100a2': 3048, 'volume': 3049, 'demands': 3050, 'g395a': 3051, 'tap1': 3052, 'candidates': 3053, '6a6a': 3054, 'mucosal': 3055, 'radiological': 3056, 'monocyte': 3057, 'pravastatin': 3058, 'lqts': 3059, 'ion': 3060, 'channel': 3061, 'hk2': 3062, 'proteinuria': 3063, 'gca': 3064, 'users': 3065, 'uigur': 3066, 'albescent': 3067, 'rds': 3068, 'relate': 3069, 'g870a': 3070, '94c': 3071, 'substitutions': 3072, '36': 3073, 'tnfrsf1a': 3074, '64': 3075, 'unaffected': 3076, 'cysteine': 3077, 'extracellular': 3078, 'domains': 3079, 'add': 3080, 'tpa': 3081, 'apl': 3082, 'begin': 3083, 'estimating': 3084, 'inactivation': 3085, 'assess': 3086, 'ntds': 3087, 'detailed': 3088, 'f279': 3089, 'proatherogenic': 3090, 'neurobiological': 3091, 'mhc2ta': 3092, 'occurred': 3093, 'performed': 3094, 'separately': 3095, 'mediate': 3096, 'pollution': 3097, 'hnf1a': 3098, 'postulate': 3099, 'interfering': 3100, 'arg194trp': 3101, 'flap': 3102, '49a': 3103, 'limitations': 3104, 'interpretation': 3105, 'ppara': 3106, 'asca': 3107, 'subject': 3108, 'end': 3109, 'adrenal': 3110, '1989t': 3111, 'anastomotic': 3112, 'leakage': 3113, 'beta2': 3114, 'subcutaneous': 3115, 'influential': 3116, 'establishes': 3117, '2q33': 3118, 'd76n': 3119, 'habits': 3120, 'lines': 3121, '4b': 3122, 'insufficiency': 3123, 'urokinase': 3124, 'elements': 3125, 'metastasizing': 3126, '20q': 3127, 'antiviral': 3128, 'guanine': 3129, '363s': 3130, 'subtle': 3131, 'monogenic': 3132, 'uighur': 3133, 'mood': 3134, 'facilitate': 3135, 'impacts': 3136, 'i105v': 3137, 'a114v': 3138, 'gmnn': 3139, 'convincing': 3140, 'neuroleptics': 3141, 'cowden': 3142, 'intervention': 3143, '33a': 3144, 'scd': 3145, '270t': 3146, 'kazakh': 3147, 'realized': 3148, '000': 3149, 'rs1800947': 3150, 'maltreatment': 3151, 'local': 3152, 'elsewhere': 3153, 'spinal': 3154, 'disc': 3155, 'cmc1': 3156, 'hydroxyestradiol': 3157, 'antiproliferative': 3158, 'metabolite': 3159, '1993t': 3160, 'tagged': 3161, 'heterogeneous': 3162, 'pain': 3163, 'reward': 3164, 'panel': 3165, 'g1691a': 3166, 'xiii': 3167, 'chi2': 3168, '66': 3169, 'pgrn': 3170, 'dominantly': 3171, 'atorvastatin': 3172, 'copies': 3173, 'surface': 3174, '81': 3175, 'vldlr': 3176, 'widely': 3177, 'symptomatic': 3178, 'poles': 3179, 'originally': 3180, 'expressivity': 3181, 'incomplete': 3182, 'iai': 3183, 'ugt2b15': 3184, 'dihydrotestosterone': 3185, 'asp85tyr': 3186, '119': 3187, 'coga': 3188, 'drunkenness': 3189, 'advantage': 3190, 'epistasis': 3191, 'ercc6': 3192, 'pol': 3193, 'reducible': 3194, 'adduct': 3195, 'formed': 3196, 'statistics': 3197, 'postprandial': 3198, 'hebephrenic': 3199, 'c311s': 3200, 'g148a': 3201, 'so2': 3202, 'contributions': 3203, 'exon2': 3204, 'carbohydrate': 3205, 'aromatic': 3206, 'capable': 3207, 'bc': 3208, '232c': 3209, 'importantly': 3210, 'lipoatrophic': 3211, 'gilbert': 3212, 'ttta': 3213, 'ppis': 3214, 'esomeprazole': 3215, 'shift': 3216, 'preferential': 3217, 'm1': 3218, 'ucp': 3219, 'delayed': 3220, 'interference': 3221, 'pca': 3222, 'hand': 3223, '1499': 3224, 'description': 3225, '1166': 3226, 'nos3': 3227, '894': 3228, 'c566t': 3229, 'ct60a': 3230, 'discarded': 3231, 'completed': 3232, 'suicides': 3233, 'consequently': 3234, 'spms': 3235, 'ppms': 3236, 'inos': 3237, 'necessarily': 3238, 'endurance': 3239, 'athletes': 3240, 'ter447': 3241, 'pihs': 3242, 'collaborative': 3243, '677c': 3244, 'hnf4a': 3245, '1438g': 3246, 'proved': 3247, 'azoospermia': 3248, 'spermatogenesis': 3249, 'encodes': 3250, 'regulates': 3251, 'appetite': 3252, 'multivariate': 3253, 'yielded': 3254, '0004': 3255, 'sz': 3256, 'rhuepo': 3257, '12p70': 3258, 'sd': 3259, 'ivs': 3260, 'underlie': 3261, 'diversity': 3262, 'taqib': 3263, 'macroalbuminuria': 3264, '359t': 3265, '303a': 3266, 'distensibility': 3267, 'ssvs': 3268, 'analyzing': 3269, 'ltc4s': 3270, 'methadone': 3271, 'htr1a': 3272, 'sharing': 3273, '046': 3274, '028': 3275, 'h2': 3276, 'rs4680': 3277, 'rs4646903': 3278, 'lymph': 3279, 'node': 3280, 'nuclear': 3281, '38aa': 3282, 'nac': 3283, 'aldose': 3284, '213': 3285, 'considerable': 3286, 'manifest': 3287, 'mic': 3288, 'stressful': 3289, 'uveitis': 3290, 'apoa5': 3291, 'neuropathy': 3292, 'arg151cys': 3293, 'arg160trp': 3294, 'asp294his': 3295, 'hair': 3296, 'fair': 3297, 'ultraviolet': 3298, 'macrophages': 3299, 'imbalance': 3300, 'irf1': 3301, 'aneurysmal': 3302, 'delattg': 3303, 'psa': 3304, 'mestizo': 3305, 'mexico': 3306, 'finds': 3307, 'clinicopathologic': 3308, '43': 3309, '63': 3310, 'capn10': 3311, '2257': 3312, 'thr92ala': 3313, 't2d': 3314, 'greek': 3315, 'address': 3316, 'interfere': 3317, 'secretory': 3318, 'c1773': 3319, 'hypercholesterolaemia': 3320, 'igfbp': 3321, 'hd': 3322, 'microcirculation': 3323, 'areas': 3324, 'lost': 3325, '660l': 3326, 'questions': 3327, 'anglo': 3328, 'oxalate': 3329, 'susceptibilities': 3330, 'hebei': 3331, 'splice': 3332, 'malignancies': 3333, 'evaluating': 3334, 'drd5': 3335, 'ikbl': 3336, 'tissues': 3337, 'allozyme': 3338, 'lt': 3339, 'aml': 3340, 'sdf': 3341, 'tropical': 3342, 'calcific': 3343, 'adenomyosis': 3344, '1012t': 3345, 'perforin': 3346, 'endotoxin': 3347, 'became': 3348, 'once': 3349, 'etiologic': 3350, 'hind': 3351, 'sclc': 3352, 'ccr2b': 3353, '572g': 3354, 'attack': 3355, '185': 3356, 'isolated': 3357, 'usa': 3358, 'oxidized': 3359, '870a': 3360, 'autopsy': 3361, 'finns': 3362, 'cx40': 3363, 'reentry': 3364, 'tap2': 3365, '03032': 3366, 'htx': 3367, 'leu7pro': 3368, 'routinely': 3369, 'guidelines': 3370, 'redox': 3371, 'lymphomagenesis': 3372, 't54': 3373, 'adenomatous': 3374, 'recruited': 3375, 'g1385a': 3376, 'hometown': 3377, 'socio': 3378, 'economic': 3379, '241': 3380, 'hcm': 3381, 'abca1': 3382, 'hspa1l': 3383, 'europe': 3384, 'exerts': 3385, '742g': 3386, 'placental': 3387, 'mgmt': 3388, 'weakly': 3389, 'ontario': 3390, 'microsatellites': 3391, 'aerobic': 3392, 'training': 3393, 'fitness': 3394, 'il12bpro': 3395, 'lithium': 3396, 'merits': 3397, '1186c': 3398, 'lys173': 3399, 'hyper': 3400, 'drb4': 3401, '896': 3402, 'turnover': 3403, 'erbb4': 3404, 'excludes': 3405, 'sperm': 3406, '3435t': 3407, 'nortriptyline': 3408, 'postural': 3409, '042': 3410, 'classical': 3411, 'antibodies': 3412, 'various': 3413, '59029a': 3414, 'residue': 3415, 'lada': 3416, 'p450': 3417, 'bsmi': 3418, 'psoriatic': 3419, 'yixing': 3420, 'settings': 3421, 'document': 3422, 'riiib': 3423, 'na2': 3424, 'racial': 3425, 'regarded': 3426, 'undertaken': 3427, 'brazil': 3428, 'followed': 3429, 'diplotype': 3430, 'configuration': 3431, 'ssz': 3432, '4r': 3433, 'tfpi': 3434, '139': 3435, 'entry': 3436, 'global': 3437, 'maintenance': 3438, 'cytokines': 3439, 'adh2': 3440, 'compensatory': 3441, 'postnatal': 3442, 'interestingly': 3443, 'atayal': 3444, 'ch': 3445, 'os': 3446, 'histology': 3447, 'explaining': 3448, 'already': 3449, 'comparison': 3450, 'arg38gln': 3451, 'lymphotoxin': 3452, '250': 3453, 'fails': 3454, 'fluvoxamine': 3455, 'bstui': 3456, 'extending': 3457, 'dma': 3458, 'homologue': 3459, 'galr1': 3460, 'probands': 3461, 'tracking': 3462, 'contention': 3463, 'a218g': 3464, \"one's\": 3465, '11beta': 3466, 'rs6871510': 3467, 'keratoconus': 3468, 'screened': 3469, '5ht2a': 3470, 'enriched': 3471, 'cnv': 3472, 'islet': 3473, 'procedures': 3474, 'aao': 3475, '1082': 3476, 'lvh': 3477, 'biologic': 3478, '450': 3479, 'epoxygenase': 3480, 'arachidonic': 3481, 'met55val': 3482, 'cosmc': 3483, 'cyp2b6': 3484, 'isoforms': 3485, 'oxygenation': 3486, 'crs': 3487, 'ngt': 3488, 'exhibit': 3489, '44': 3490, 'many': 3491, 'multi': 3492, 'l467p': 3493, 'growing': 3494, 'inter': 3495, 'rs7528684': 3496, 'occurence': 3497, 'ath1': 3498, '807': 3499, '873': 3500, 'conversely': 3501, '89': 3502, 'interactive': 3503, 'vd': 3504, 'r324g': 3505, 'joints': 3506, 'b1580': 3507, '18a': 3508, 'varied': 3509, 'race': 3510, 'sulfonylurea': 3511, 'representing': 3512, 'pharmacogenetics': 3513, 'requires': 3514, 'worsening': 3515, 'microbial': 3516, 'bowel': 3517, 'applied': 3518, 'advance': 3519, 'joag': 3520, 'axis': 3521, 'anca': 3522, 'typing': 3523, 'seasonal': 3524, 'thickening': 3525, 'research': 3526, 'cd38': 3527, 'nad': 3528, 'glu347stop': 3529, 'arg366stop': 3530, 'similarity': 3531, '2j': 3532, 'around': 3533, '138': 3534, '138c': 3535, 'impulsiveness': 3536, 'investigating': 3537, 'ratios': 3538, 'ureter': 3539, 'icam': 3540, '469': 3541, 'elective': 3542, 'dying': 3543, 'ans': 3544, 'colonization': 3545, 'fch': 3546, 'complete': 3547, 'neurotransmission': 3548, 'mnd': 3549, 'fgb': 3550, 'sensitization': 3551, 'mold': 3552, 'allergens': 3553, '1607': 3554, '31c': 3555, 'emptying': 3556, 'ppi': 3557, 'ulcer': 3558, 'thr399ile': 3559, 'gly40ser': 3560, 'milder': 3561, '1377g': 3562, '670a': 3563, '844c': 3564, 'ucsnp': 3565, 'hepatocarcinogenesis': 3566, 'faster': 3567, 'diabetics': 3568, 'macrosomia': 3569, 'pleiotropic': 3570, 'klk1': 3571, '130': 3572, 'gn': 3573, '128': 3574, 'ph': 3575, 'ischemia': 3576, 'gly15arg': 3577, 'netherlands': 3578, 'oxidation': 3579, 'ga': 3580, 'gmt': 3581, \"patients'\": 3582, '25': 3583, 'ugt': 3584, '3263g': 3585, 'g211a': 3586, \"gilbert's\": 3587, 'quantitatively': 3588, 'reference': 3589, 'regimens': 3590, 'chymase': 3591, 'agricultural': 3592, '1908c': 3593, 'drd3': 3594, 'sp1': 3595, 'msr1': 3596, 'superoxide': 3597, 'manifested': 3598, 'irf': 3599, 'app': 3600, 'deposition': 3601, '176f': 3602, 'gal': 3603, 'terminal': 3604, 'aitd': 3605, 'uric': 3606, 'vldl': 3607, 'prenatal': 3608, 'care': 3609, 'rantes': 3610, '403': 3611, 'challenge': 3612, '210': 3613, 'cervix': 3614, 'involves': 3615, 'pranlukast': 3616, '866': 3617, 'intermediary': 3618, 'serological': 3619, 'situ': 3620, 'hctz': 3621, 'parp': 3622, 'order': 3623, 'restriction': 3624, 'myeloperoxidase': 3625, '105': 3626, 'indicators': 3627, 'residual': 3628, 'investigations': 3629, 'adra1d': 3630, 'iib': 3631, 'g27466a': 3632, 'g28152a': 3633, 'design': 3634, 'rho': 3635, 'c4': 3636, '762val': 3637, '399arg': 3638, '2201': 3639, '0604': 3640, '0402': 3641, '572c': 3642, '8914': 3643, '8594': 3644, 'counteract': 3645, 'harmful': 3646, 'reproducible': 3647, 'd302h': 3648, 'guca1b': 3649, 'ah': 3650, 'dcm': 3651, '235tt': 3652, 'carefully': 3653, '399gln': 3654, 'a870g': 3655, 'tunisia': 3656, 'e298d': 3657, 'interplay': 3658, 'plaque': 3659, 'v617f': 3660, 'disposition': 3661, '428g': 3662, 'conjunction': 3663, 'trp19': 3664, 'tgfbr1': 3665, 'ptgis': 3666, 'glycaemia': 3667, '192': 3668, 'catt': 3669, 'permit': 3670, 'discard': 3671, 'nos2a': 3672, '969': 3673, 'r227q': 3674, 'retain': 3675, 'micropenis': 3676, 'generated': 3677, 'immunosuppressive': 3678, 'nonsteroidal': 3679, 'strategy': 3680, 'multivessel': 3681, '2437': 3682, 'tnfrsf1b': 3683, '1p36': 3684, 'klk2': 3685, 'hyperhomocysteinemia': 3686, 'bleeding': 3687, '0502': 3688, 'eosinophilic': 3689, '752': 3690, 'kdr': 3691, 'apoa': 3692, 'follicular': 3693, 'raises': 3694, 'tpq': 3695, '765g': 3696, '3161c': 3697, 'upa': 3698, '11365c': 3699, '4034a': 3700, '276g': 3701, 'mapt': 3702, 'hypofibrinolytic': 3703, '844': 3704, 'extend': 3705, 'gly460trp': 3706, 'available': 3707, 'laboratory': 3708, 'hypertriglyceridemia': 3709, \"3'untranslated\": 3710, 'ala12': 3711, 'ir': 3712, 'lys554arg': 3713, 'special': 3714, '850': 3715, 'apai': 3716, 'adjacent': 3717, 'gly16': 3718, 'neuropeptide': 3719, 'dq2': 3720, 'discovered': 3721, 'il10': 3722, 'excision': 3723, 'heroin': 3724, 'functionality': 3725, 'terms': 3726, 'mean': 3727, 'grounds': 3728, 'plaques': 3729, 'cap': 3730, 'cyp17a1': 3731, 'illustrate': 3732, 'offers': 3733, 'relationships': 3734, 'asd': 3735, 'leu84phe': 3736, 'ile143val': 3737, 'alkylation': 3738, 'ile105val': 3739, 'dissemination': 3740, 'farmers': 3741, 'aromatase': 3742, 'asians': 3743, 'regulator': 3744, 'conserved': 3745, '2729a': 3746, 'a455v': 3747, 'stm': 3748, 'itga2': 3749, 'blockers': 3750, 'rop': 3751, 'r117g': 3752, 'r137q': 3753, 'r145w': 3754, 'r180h': 3755, '491': 3756, 'ugic': 3757, 'deafness': 3758, 'gs': 3759, 'met66': 3760, '67': 3761, 'cortex': 3762, 'rs9939609': 3763, 'warranted': 3764, '1501': 3765, 'ps': 3766, 'glomerulonephritis': 3767, 'dr15': 3768, 'r1141x': 3769, 'sharply': 3770, 'sustained': 3771, 'attention': 3772, 'ivs3': 3773, '2t': 3774, 'constitutively': 3775, 'measured': 3776, 'condition': 3777, 'hot': 3778, 'thickness': 3779, 'sub': 3780, 'lateral': 3781, 'ventricles': 3782, 'phases': 3783, 'cv': 3784, 'overrepresented': 3785, '106': 3786, 'homeostasis': 3787, 'ligand': 3788, 'extremes': 3789, 'pcg': 3790, 'nonspecific': 3791, 'justified': 3792, '0304': 3793, 'instead': 3794, 'metastases': 3795, 'cutaneous': 3796, 'apoc1': 3797, 'start': 3798, 'recommended': 3799, 'jme': 3800, 'mxa': 3801, 'il13': 3802, 'k469e': 3803, 'pt': 3804, '20210a': 3805, '1012g': 3806, '025': 3807, '92': 3808, 'reproduction': 3809, 'cameroonian': 3810, 'dr16': 3811, 'tdi': 3812, 'gpiiia': 3813, 'd3': 3814, 'tnfsf5': 3815, 'depends': 3816, 'caa': 3817, 'lyp': 3818, 't102c': 3819, 'lpr': 3820, 'antigens': 3821, 'rs1937': 3822, 'chf': 3823, 'enhancement': 3824, 'slower': 3825, 'metabolizing': 3826, 'pentanucleotide': 3827, 'sbp': 3828, 'longevity': 3829, 'notch4': 3830, 'catalase': 3831, 'medicine': 3832, 'university': 3833, 'tsukuba': 3834, 'm129v': 3835, 'abuse': 3836, 'mgpd': 3837, 'obscure': 3838, 'modifiers': 3839, 'sult1a1': 3840, 'dimensions': 3841, 'dementia': 3842, 'delirium': 3843, 'convergent': 3844, 'infliximab': 3845, 'limitation': 3846, 'disability': 3847, 'ser128arg': 3848, 'tnfa': 3849, 'researches': 3850, 'conducted': 3851, 'clarify': 3852, 'biology': 3853, 'vasomotor': 3854, 'circulation': 3855, 'sole': 3856, 'unconfirmed': 3857, 'far': 3858, 'ciita': 3859, 'colia1': 3860, 'glu298': 3861, '10034c': 3862, 'consider': 3863, 'binge': 3864, 'tpo': 3865, '1339': 3866, 'sns': 3867, \"5'utr\": 3868, 'leukotriene': 3869, 'c580t': 3870, 'sod': 3871, 'lmp': 3872, 'gly972arg': 3873, '73': 3874, 'tnfp': 3875, 'experiments': 3876, 'processing': 3877, 'a1c': 3878, 'csf': 3879, 'heterosexual': 3880, 'culture': 3881, 'val16ala': 3882, '213pp': 3883, 'reflecting': 3884, 'untreated': 3885, 'embryos': 3886, 'pro12pro': 3887, 'niddm': 3888, 'trial': 3889, 'neurod1': 3890, 'controlled': 3891, 'erbb': 3892, 'clp': 3893, 'cirrhosis': 3894, 'biomarker': 3895, 'newly': 3896, 'calpain': 3897, 'graft': 3898, 'elevating': 3899, '374a': 3900, 'preference': 3901, 'comparatively': 3902, 'regular': 3903, 'comparable': 3904, '1306t': 3905, '1562c': 3906, 'disrupts': 3907, 'ddx5': 3908, 'somewhat': 3909, 'possessing': 3910, 'neonates': 3911, 'reuptake': 3912, 'substance': 3913, 'adenoma': 3914, 'malignancy': 3915, 'buccal': 3916, 'fcgammariiia': 3917, 'nodules': 3918, 'hpr': 3919, '0901': 3920, 'phosphate': 3921, 'neuropathology': 3922, 'lc': 3923, 'ldh': 3924, 'abcb1': 3925, 'acs': 3926, 'angina': 3927, 'transferrin': 3928, 'depend': 3929, 'tcm': 3930, 'apoci': 3931, 'cmm': 3932, 'concern': 3933, '2578': 3934, 'limiting': 3935, 'rnasel': 3936, 'liguria': 3937, 'g101w': 3938, 'founder': 3939, 'js': 3940, 'nonischemic': 3941, 'thrombotic': 3942, 'potassium': 3943, 'rs11200638': 3944, 'duplicated': 3945, 'apob': 3946, \"3'vntr\": 3947, 'contractions': 3948, 'guangxi': 3949, 'enzymatic': 3950, 'steroid': 3951, 't869c': 3952, 'marrow': 3953, 'stem': 3954, 'gpa': 3955, 'preproghrelin': 3956, 'cruzi': 3957, 'gvhd': 3958, 'lacunar': 3959, 'recovery': 3960, 'mc1r': 3961, 'cisplatin': 3962, 'characterize': 3963, 'tag1': 3964, 'f386l': 3965, 'selectively': 3966, 'differentiation': 3967, 'mspa1': 3968, 'expanded': 3969, 'nos1': 3970, 'aeruginosa': 3971, 'interstitial': 3972, 'russian': 3973, 'doses': 3974, 'car': 3975, 'hypertensives': 3976, 'c702t': 3977, 'g1612a': 3978, '469delg': 3979, '930': 3980, 'ltalphancoi': 3981, 'ldd': 3982, 'val762ala': 3983, 'thymic': 3984, 'iddm2': 3985, 'bct': 3986, 'detoxified': 3987, 'cataracts': 3988, 'hospital': 3989, 'motor': 3990, 'a253': 3991, 'leu432val': 3992, 'tetranucleotide': 3993, 'c807t': 3994, 'decamer': 3995, 'g1514': 3996, 'a619': 3997, 'deleterious': 3998, 'hpc2': 3999, 'leu217': 4000, 'thr541': 4001, 'radical': 4002, 'prostatectomies': 4003, 'calgary': 4004, 'er': 4005, 'weaker': 4006, 'wider': 4007, 'recognized': 4008, 'igiiia': 4009, 'iiic': 4010, 'genuine': 4011, 'ser9gly': 4012, 'proliferation': 4013, 'invasiveness': 4014, 'immortalized': 4015, 'promotion': 4016, '594': 4017, '655': 4018, '61': 4019, 'fzd3': 4020, 'wat': 4021, 'n314d': 4022, 'olanzapine': 4023, 'ki': 4024, 'gnb3': 4025, 'agree': 4026, 'alui': 4027, 'follows': 4028, 'chromosomes': 4029, 'salted': 4030, 'cerebrospinal': 4031, 'fluid': 4032, 'peptides': 4033, 'phosphorylated': 4034, '385': 4035, 'cannabinoid': 4036, 'a54t': 4037, 'ser680': 4038, '825t': 4039, '46c': 4040, 'g1': 4041, 'insomnia': 4042, 'resolution': 4043, 'gh1': 4044, 'sputum': 4045, 'hypersecretion': 4046, '238a': 4047, 'stfr': 4048, 'hbh': 4049, '588t': 4050, 'suppress': 4051, 'gclm': 4052, 'oxidants': 4053, \"hashimoto's\": 4054, 'thyroiditis': 4055, '386': 4056, 'hb': 4057, 'mark': 4058, 'k1019x': 4059, 'ea': 4060, 'fcgamma': 4061, '670': 4062, 'aci': 4063, 'gly': 4064, 'dii': 4065, 'ercc1': 4066, 'proposes': 4067, 'maker': 4068, 'methylation': 4069, 'colonic': 4070, '8092c': 4071, 'park2': 4072, 'utah': 4073, 'cd154': 4074, '1083tt': 4075, 'sc': 4076, 'visfatin': 4077, 'throughput': 4078, 't3': 4079, '394c': 4080, 'nd1': 4081, 'prothrombotic': 4082, 'gpiib': 4083, 'colombian': 4084, 'psen': 4085, 'add3': 4086, 'arylamines': 4087, 'chromosome11q13': 4088, 'l858r': 4089, 'organelles': 4090, 'exfoliation': 4091, 'granulomatous': 4092, 'helper': 4093, '333': 4094, 'nonsignificant': 4095, 'bonferroni': 4096, '1730': 4097, 'coagulation': 4098, '694': 4099, 'm694i': 4100, 'arg3500gln': 4101, '1000': 4102, 'broad': 4103, 's180l': 4104, 'discernible': 4105, 'profound': 4106, 'allergen': 4107, 'immunoglobulin': 4108, 'measurement': 4109, 'l2l4': 4110, 'dxa': 4111, 'heel': 4112, 'sos': 4113, 'bua': 4114, 'amplitude': 4115, 'endophenotype': 4116, 'disinhibited': 4117, 'psychopathology': 4118, 'bronchiolitis': 4119, 'complexity': 4120, 'characterizes': 4121, 'similarly': 4122, 'considerably': 4123, 'allograft': 4124, 'c1014t': 4125, 'abrogated': 4126, 'sdf1': 4127, 'intracellular': 4128, 'adapter': 4129, 'pick1': 4130, 'abo': 4131, 'incompatibility': 4132, 'pro185ala': 4133, 'estonian': 4134, '1704g': 4135, 'fad': 4136, 'really': 4137, 'g1649c': 4138, 'a1660g': 4139, 'ece': 4140, 'adc': 4141, 'oncogenic': 4142, 'cooperation': 4143, 'inactiva': 4144, '463g': 4145, 'potentiated': 4146, 'pi3': 4147, '2a13': 4148, '1a1': 4149, '2756a': 4150, '1298aa': 4151, '1298ac': 4152, '1171': 4153, 'bn': 4154, 'bulimic': 4155, 'nutritional': 4156, '813': 4157, 'c748t': 4158, 'bhr': 4159, 'germans': 4160, 'bam': 4161, 'hi': 4162, 'temporary': 4163, 'antiapoptotic': 4164, 'tph2': 4165, 'placebo': 4166, 'bupropion': 4167, 'cessation': 4168, 'microorganisms': 4169, 'attempts': 4170, 'attempted': 4171, 'transmembrane': 4172, 'limit': 4173, 'applicability': 4174, 'kindreds': 4175, 'admission': 4176, 'fvii': 4177, 'reinfarction': 4178, 'uadt': 4179, 'ascribed': 4180, 'pop': 4181, 'trafficking': 4182, 'fatp1': 4183, 'prandial': 4184, 'exon7': 4185, 'uygur': 4186, 'opls': 4187, 'tpmt': 4188, 'aza': 4189, 'maldescent': 4190, 'undermasculinisation': 4191, 'r92p': 4192, 'residues': 4193, 'sepcr': 4194, 'espin': 4195, 'latitude': 4196, 'morningness': 4197, 'eveningness': 4198, 'tendencies': 4199, 'ksp': 4200, 'ben': 4201, 'discrepancies': 4202, 'g421c': 4203, 'anerial': 4204, 'entities': 4205, '500': 4206, 'designed': 4207, 'dosing': 4208, 'subsequently': 4209, 'guided': 4210, 'measurements': 4211, 'achieving': 4212, 'lumbosacral': 4213, 'objective': 4214, 'dramatically': 4215, 'tas2r38': 4216, 'splicing': 4217, 'rs1946518': 4218, '137': 4219, 'rs187238': 4220, 'precluded': 4221, 'lys412glu': 4222, 'ggn': 4223, 'xy': 4224, 'reversal': 4225, 'kcnj11': 4226, 'definite': 4227, 'urat1': 4228, 'ctg': 4229, '125': 4230, 'cd31': 4231, 'forces': 4232, 'maintain': 4233, 'bronchitis': 4234, 'his645asp': 4235, 'histamine': 4236, 'metabolising': 4237, 'nt': 4238, 'a6986g': 4239, 'wit1': 4240, 'fsgs': 4241, 'air': 4242, 'traffic': 4243, 'antioxidative': 4244, 'adam33': 4245, \"'87\": 4246, 'noncapillary': 4247, 'g61c': 4248, 'organization': 4249, 'keratin': 4250, 'filaments': 4251, 'chi': 4252, '69': 4253, 'disturbed': 4254, 'optn': 4255, 'oht': 4256, 'rnp': 4257, 'remained': 4258, 'elucidated': 4259, 'positivity': 4260, 'fdb': 4261, 'ethnically': 4262, 'recombination': 4263, 'thrthr': 4264, 'gpibalpha': 4265, 'gpiv': 4266, 'accounting': 4267, 'intermedia': 4268, 'thr230met': 4269, 'irs2': 4270, 'gly1057asp': 4271, 'l162v': 4272, 'id': 4273, 't51c': 4274, 'localized': 4275, '3p21': 4276, 'estimates': 4277, 'coordinated': 4278, '1298': 4279, 'tea': 4280, 'ths': 4281, 'sheds': 4282, 'hape': 4283, 'ecnos4a': 4284, 'heritability': 4285, 'met98lys': 4286, 'adoa': 4287, 'lhon': 4288, 'aric': 4289, 'wghs': 4290, 'aboriginals': 4291, 'hyperuricemia': 4292, '463a': 4293, 'pneumoniae': 4294, 'digestive': 4295, 'adipor1': 4296, 'trp719arg': 4297, 'explanation': 4298, '463aa': 4299, '463gg': 4300, 'inducibility': 4301, 'v418m': 4302, 'adds': 4303, 'accumulating': 4304, 'ivs14a': 4305, '451q': 4306, '442g': 4307, 'emphasizing': 4308, 'xingjiang': 4309, 'epo': 4310, 'sao2': 4311, 'hypoxic': 4312, 'hvr': 4313, 'endophenotypic': 4314, 'depletion': 4315, 'c19007t': 4316, 'mediates': 4317, 'ptch': 4318, 'bcc': 4319, 'precursor': 4320, 'ards': 4321, 'derangement': 4322, 'adr': 4323, 'ivs1a': 4324, '465c': 4325, 'mannose': 4326, 'lectin': 4327, 'barlikun': 4328, 'a2aar': 4329, 'nonconservative': 4330, '300': 4331, 'arguing': 4332, 'moderates': 4333, 'upregulate': 4334, 'stimuli': 4335, 'postintervention': 4336, 'microglia': 4337, '586': 4338, 'lowered': 4339, 't98p': 4340, 'benign': 4341, 'degeneration': 4342, 'xrcc2': 4343, 'bet': 4344, 'backgrounds': 4345, 'tentative': 4346, 'conclusions': 4347, 'uncertain': 4348, '7216a': 4349, 'ro52': 4350, 'h1299r': 4351, 'v34l': 4352, 'hpa1': 4353, 'l33p': 4354, 'a3': 4355, 'fd': 4356, 'normally': 4357, 't677': 4358, 'myalgia': 4359, 'thbs': 4360, 'g1678a': 4361, 'ohio': 4362, 'efficiency': 4363, 'cd24': 4364, 'arg389gly': 4365, 'dimension': 4366, 'ugt1a8': 4367, 'lansoprazole': 4368, 'gerd': 4369, 'fiber': 4370, 'pten': 4371, 'blackouts': 4372, 'sl2': 4373, 'evolved': 4374, '82s': 4375, 'upregulates': 4376, 'engagement': 4377, 's100': 4378, 'calgranulins': 4379, 't2854g': 4380, 'rs6295': 4381, '180a': 4382, 'a60a': 4383, 'dynamic': 4384, 'hox': 4385, 'paralog': 4386, 'evidences': 4387, 'exon13': 4388, 'surrounding': 4389, 'mbc': 4390, 'occupation': 4391, 'polycyclic': 4392, 'hydrocarbons': 4393, 'clues': 4394, 'genders': 4395, 'pmf': 4396, 'vf': 4397, 'mutants': 4398, 'lipaemia': 4399, 'proclivity': 4400, 'outward': 4401, '4ralpha': 4402, 'vaca': 4403, 'im': 4404, 'southwestern': 4405, 'france': 4406, 'w64r': 4407, '3826g': 4408, 'amsterdam': 4409, 'homosexual': 4410, 'x4': 4411, 'sense': 4412, 'notwithstanding': 4413, 'vitamins': 4414, 'modulators': 4415, 'oxodg': 4416, 'psv': 4417, 'tbx21': 4418, 'spina': 4419, 'bifida': 4420, 'cyp26a1': 4421, 'il12b': 4422, 'p844l': 4423, 's845g': 4424, 'v162': 4425, '309t': 4426, 'lmfv': 4427, 'ppp1r3': 4428, 'gln223': 4429, 'glyl6': 4430, 'cd36pro90ser': 4431, 'top': 4432, 'professional': 4433, 'cyclists': 4434, 'completing': 4435, 'wk': 4436, 'tour': 4437, 'elite': 4438, 'runners': 4439, 'whom': 4440, 'pgr': 4441, 'hemochromatosis': 4442, 'intragenic': 4443, '327': 4444, 'lrp6': 4445, 'lebanese': 4446, 'sep15': 4447, 'progesterone': 4448, 'deny': 4449, 'pxn': 4450, 'snca': 4451, 'thromboembolism': 4452, 'anv': 4453, 'shtr2a': 4454, 'mentally': 4455, '156': 4456, 'oligozoospermia': 4457, 'boule': 4458, 'eliminated': 4459, 'gallstone': 4460, 'capd': 4461, 'e1317q': 4462, 'meaningful': 4463, 's100b': 4464, 'hypothesized': 4465, '295': 4466, 'tension': 4467, 'opa1': 4468, '874a': 4469, 'contracting': 4470, 'antitrypsin': 4471, 'collectively': 4472, 'benefits': 4473, 'overshadow': 4474, 'salutary': 4475, 'chat': 4476, 'clinicians': 4477, 'individualization': 4478, 'anger': 4479, 'gpr54': 4480, 'ihh': 4481, '550': 4482, 'thienopyridine': 4483, 'p2y12': 4484, '936t': 4485, 'ireland': 4486, 'fenofibrate': 4487, '1675': 4488, 'excellent': 4489, 'md': 4490, 'demonstrable': 4491, 'enterocytes': 4492, 'ligands': 4493, 'intraepithelial': 4494, 'gammadelta': 4495, '8570g': 4496, 'cholosteal': 4497, 'loperamide': 4498, 'fe65': 4499, 'ocs': 4500, 'pegvisomant': 4501, 'acromegaly': 4502, 'erythema': 4503, 'nodosum': 4504, '94': 4505, 'newfoundland': 4506, 'gpx': 4507, 'pvrl2': 4508, 'nine': 4509, 'ectodomains': 4510, 'orizaba': 4511, 'starr': 4512, 'county': 4513, 'texas': 4514, 'hybridization': 4515, 'aga': 4516, 'fully': 4517, 'occlusion': 4518, 'noncognitive': 4519, 'overtransmission': 4520, 'nrcam': 4521, 'obsessive': 4522, 'compulsive': 4523, 'implantation': 4524, 'statins': 4525, 'ntg': 4526, 'apa': 4527, 'f158': 4528, 'comparisons': 4529, 'normoglycaemia': 4530, 'aire1': 4531, 'glut': 4532, 'xbai': 4533, 'translocation': 4534, 'tser': 4535, 'efficacious': 4536, 'resection': 4537, 'perilipin': 4538, 'impairments': 4539, 'ssri': 4540, 'heteroallelic': 4541, 'issues': 4542, 'm55': 4543, 'cnr1': 4544, 'myeloid': 4545, 'designated': 4546, 'pntr': 4547, 'lp': 4548, 'fracture': 4549, 'pkd1': 4550, 'simply': 4551, 'inactivate': 4552, 'products': 4553, '105v': 4554, '114v': 4555, '113h': 4556, '139h': 4557, 'mephx': 4558, 'imbalanced': 4559, 'signifying': 4560, 'cautiously': 4561, 'displaying': 4562, 'pervasive': 4563, 'm55l': 4564, 'celtic': 4565, 'rs2918419': 4566, 'cx50': 4567, 'normoalbuminuric': 4568, 'subclinical': 4569, '1420c': 4570, 'colorectum': 4571, 'get': 4572, '13910': 4573, '22018': 4574, 'crohn': 4575, 'originating': 4576, 'extraadrenal': 4577, 'paragangliomas': 4578, 'ethnicities': 4579, 'nationalities': 4580, 'progins': 4581, 'rearrangements': 4582, '33t': 4583, 'reelin': 4584, 'c178t': 4585, 'pro16ser': 4586, 'var321': 4587, 'questionnaire': 4588, 'aberrant': 4589, '25cag': 4590, 'mds': 4591, 'verifies': 4592, 'idh1': 4593, 'g1704t': 4594, 'g82s': 4595, 'property': 4596, 'tpoabs': 4597, 'subclassify': 4598, 'inclusion': 4599, 'bangladesh': 4600, 'fibrocalculous': 4601, '1154': 4602, 'procedure': 4603, 'vdcc': 4604, 'haemophilia': 4605, 'complication': 4606, 'inc': 4607, 'infantile': 4608, 'arg271cys': 4609, 'akr1b1': 4610, 'rbc': 4611, '1438a': 4612, 'polymorphysm': 4613, 'potent': 4614, 'dach2': 4615, 'gly460gly': 4616, '460gly': 4617, 'homozygosis': 4618, 'facilitating': 4619, '460trp': 4620, 'mitigating': 4621, 'noxious': 4622, 'steroidogenesis': 4623, 'v281l': 4624, 'glu420lys': 4625, 'dermatitis': 4626, 'spt': 4627, 'r551': 4628, 'imparts': 4629, 'clefts': 4630, 'gly82ser': 4631, 'beacon': 4632, 'ckiepsilon': 4633, 'g2133c': 4634, 'episodic': 4635, 'mefv': 4636, 'localization': 4637, 'l55': 4638, 'verified': 4639, '3435': 4640, 'remain': 4641, 'steroids': 4642, 'g2677': 4643, 'coke': 4644, 'oven': 4645, 'prepro': 4646, 'deposits': 4647, 'specimen': 4648, 'urothelial': 4649, 'tsh': 4650, 'rs4704397': 4651, 'pointing': 4652, 'atherogenesis': 4653, 'appreciably': 4654, '2018': 4655, 'definitive': 4656, 'polyposis': 4657, 'arg64': 4658, '3826': 4659, 'ucp1': 4660, 'randomly': 4661, 'cedar': 4662, 'pollen': 4663, 'clarification': 4664, 'hnf': 4665, 'insignificant': 4666, 'leu544ile': 4667, 'boys': 4668, 'emphysema': 4669, 'basic': 4670, '485a': 4671, '240tt': 4672, '485': 4673, 'pro2': 4674, 'shmt': 4675, 'c1420t': 4676, 'sclerosing': 4677, 'cholangitis': 4678, 'ica': 4679, 'heat': 4680, 'shandong': 4681, 'hippocampal': 4682, 'volunteers': 4683, '273': 4684, 'gist': 4685, 'abruption': 4686, \"enzyme's\": 4687, 'activating': 4688, 'w': 4689, 'opposite': 4690, '482t': 4691, '455c': 4692, 'rep1': 4693, 'polysubstance': 4694, 'frontostriatal': 4695, 'circuitry': 4696, 'supported': 4697, '333g': 4698, '286a': 4699, 'a38g': 4700, 'rs2267668': 4701, 'ppargc1a': 4702, 'effectiveness': 4703, 'phosphoinositol': 4704, 'hyporeactive': 4705, 'anxious': 4706, 'abstainers': 4707, 'births': 4708, 'burn': 4709, 'dbh': 4710, 'rs2000813': 4711, 'lipg': 4712, 'haart': 4713, 'biologically': 4714, '4111': 4715, 'e237g': 4716, 'ri': 4717, 'mtatp6': 4718, 'mitochondria': 4719, '278a': 4720, '370g': 4721, '430g': 4722, '467t': 4723, '468g': 4724, 'tce': 4725, 'medicamentosa': 4726, '81a': 4727, '81g': 4728, 'intractable': 4729, 'differe': 4730, '37': 4731, 'counterparts': 4732, '107': 4733, 'l55m': 4734, 'sicilian': 4735, 'erosive': 4736, 'ip': 4737, '6235c': 4738, 'fighting': 4739, 'harbours': 4740, 'laterality': 4741, '753': 4742, 'transduction': 4743, 'epac': 4744, 'neighboring': 4745, 'extension': 4746, 'mestizos': 4747, 'amerindians': 4748, 'attacks': 4749, 'annual': 4750, 'periods': 4751, 'latent': 4752, 'esrra23': 4753, 'pro116pro': 4754, '180g': 4755, 'resistin': 4756, '262c': 4757, 'claimed': 4758, 'headache': 4759, '318': 4760, '113a': 4761, 'aicda': 4762, '8408t': 4763, 'orolaryngeal': 4764, 'nonprogression': 4765, 'ngn3': 4766, 'm196r': 4767, '676': 4768, 'gly15gly': 4769, '2992t': 4770, 'restraint': 4771, 'cord': 4772, 'catch': 4773, \"mother's\": 4774, 'born': 4775, 'macular': 4776, 'hyperopia': 4777, 'isoflavone': 4778, 'supplementation': 4779, 'biomarkers': 4780, 'numeric': 4781, 'assigned': 4782, 'demographic': 4783, 'sequentially': 4784, 'algorithm': 4785, 'composite': 4786, 'linearly': 4787, 'bimodal': 4788, 'intrinsic': 4789, 'gdpp': 4790, '105a': 4791, 'nt3': 4792, 'genetical': 4793, 'htcf': 4794, 'g341a': 4795, 'ser88asn': 4796, 'changsha': 4797, 'faslg': 4798, 'rs2235371': 4799, 'rs642961': 4800, 'nscl': 4801, 'g191r': 4802, 'mitigates': 4803, 'intrapancreatic': 4804, 'trypsin': 4805, 'confined': 4806, 'myopia': 4807, 'hypertrophic': 4808, 'd90a': 4809, 'easily': 4810, 'sult1a2': 4811, 'gly146ala': 4812, '384': 4813, '114': 4814, '3020insc': 4815, 'thoracic': 4816, 'empyema': 4817, 'vicinity': 4818, 'dr5': 4819, 'italians': 4820, 'lacks': 4821, 'atp': 4822, 'achilles': 4823, 'inhibitory': 4824, '57s': 4825, 'bw4': 4826, 'i80': 4827, 'zambian': 4828, 'capn5': 4829, 'ugt1a9': 4830, 'ugts': 4831, 'glucuronosyltransferase': 4832, 'sn': 4833, '38': 4834, 'cosegregate': 4835, 'serious': 4836, '1306c': 4837, 'solely': 4838, 'carcinogen': 4839, 'cortisol': 4840, 'ac': 4841, 'homer1': 4842, 'col8a2': 4843, 'corneal': 4844, 'ectatic': 4845, 'varepsilon4': 4846, 'rheologic': 4847, 'shedding': 4848, 'ifngamma': 4849, 'leber': 4850, 'cone': 4851, 'rod': 4852, 'dystrophy': 4853, '1502': 4854, 'east': 4855, 'comorbided': 4856, 'dsm': 4857, 'tourette': 4858, 'step': 4859, '6526a': 4860, '218a': 4861, 'hyperlipidemia': 4862, 'feno': 4863, '132g': 4864, 'bpad': 4865, 'renovascular': 4866, 'transforming': 4867, 'public': 4868, 'pharmacological': 4869, 'amygdala': 4870, 'rs16944': 4871, 'rs116343': 4872, 'nonremission': 4873, 'weeks': 4874, 'adrenegoc': 4875, 'irrelevant': 4876, 'tribes': 4877, 'later': 4878, 'chaperone': 4879, 'fam': 4880, 'tcc': 4881, 'homogenous': 4882, 'genotyped': 4883, 'octapeptide': 4884, 'spongiform': 4885, 'encephalopathies': 4886, 'rosiglitazone': 4887, 'date': 4888, 'cs': 4889, 'fuel': 4890, 'management': 4891, 'leu166arg': 4892, 'atypical': 4893, 'barcelona': 4894, 'enrich': 4895, 'trigger': 4896, '87t': 4897, 'sulfation': 4898, 'dissection': 4899, 'paucity': 4900, 'fmm': 4901, 'cfa': 4902, 'bilirubin': 4903, 'distant': 4904, 'factorial': 4905, 'scc': 4906, '1188': 4907, 'final': 4908, 'aml1': 4909, 'cdh23': 4910, 'pcdh15': 4911, 'ush1c': 4912, 'sans': 4913, \"'minor\": 4914, \"gene'\": 4915, 'advisable': 4916, 'examinations': 4917, 'integrated': 4918, 'comprehension': 4919, 'routine': 4920, 'osa': 4921, 'boundaries': 4922, 'ner': 4923, '4a4b': 4924, 'adjustments': 4925, '403a': 4926, '2518g': 4927, 'aeds': 4928, 'proportionally': 4929, 'rvr': 4930, 'cvcr': 4931, 'fibro': 4932, 'calculous': 4933, 'sebaceous': 4934, 'gland': 4935, 'man': 4936, 'hxmi': 4937, 'irs': 4938, 'outside': 4939, 'seven': 4940, '166': 4941, 'occasions': 4942, 'emphasizes': 4943, 'lr': 4944, '3057': 4945, 'cavity': 4946, 'pharynx': 4947, 'chondrosarcoma': 4948, 'fmf': 4949, '002': 4950, 'reciprocal': 4951, '5httlpr': 4952, 'tyr715pro': 4953, 'asn562asp': 4954, 'ser290asn': 4955, '807t': 4956, 'alpha2': 4957, '140': 4958, 'refute': 4959, 'insufficient': 4960, 'giving': 4961, 'rise': 4962, '374': 4963, 'albumin': 4964, 'homer2': 4965, 'dba': 4966, 'jamaican': 4967, 'ob': 4968, 'holds': 4969, 'episode': 4970, 'seminal': 4971, 'mgp': 4972, 'aorta': 4973, 'respond': 4974, 'capecitabine': 4975, 'ser': 4976, '608': 4977, 'pertain': 4978, 'predictable': 4979, 'favour': 4980, 'unless': 4981, 'stimulatory': 4982, 'tags': 4983, '576': 4984, 'partition': 4985, 'meningococcal': 4986, '2b': 4987, 'isolation': 4988, 'colobomas': 4989, 'coloboma': 4990, 'pax2': 4991, 'cst3': 4992, 'xmni': 4993, 'ssti': 4994, 'lpl': 4995, 'asp905': 4996, 'asp905tyr': 4997, 'diabetogenic': 4998, '959': 4999, 'radius': 5000, 'calcaneus': 5001, 'phytoestrogen': 5002, 'calcaneal': 5003, 'specify': 5004, 'expedient': 5005, 'antioxidants': 5006, 'dela': 5007, 'sa': 5008, 'steps': 5009, 'il1ra': 5010, 'newborns': 5011, 'pilot': 5012, 'encoded': 5013, 'heterodimers': 5014, 'mineral': 5015, 'tubular': 5016, 'sodium': 5017, 'reabsorption': 5018, 'promotes': 5019, 'burden': 5020, 'multiplies': 5021, 'si': 5022, '2964a': 5023, 'd19h': 5024, 'gbc': 5025, 'hev': 5026, 'elucidation': 5027, 'impossible': 5028, 'head': 5029, 'd358a': 5030, '13t': 5031, 'saa1': 5032, 'gclc': 5033, 'p143l': 5034, 'definable': 5035, 'il1b': 5036, '431c': 5037, 'tarc': 5038, 'virtue': 5039, 'interchromosomal': 5040, 'vasoconstriction': 5041, 'advantageous': 5042, 'emerging': 5043, 'highfrequency': 5044, 'hematologic': 5045, '135c': 5046, 'raising': 5047, 'abcg2': 5048, '588c': 5049, '23g': 5050, 'gcs': 5051, 'scotland': 5052, 'makes': 5053, 'claim': 5054, 'pgm1': 5055, 'gammariia': 5056, '131r': 5057, 'led': 5058, 'speculation': 5059, 'cardio': 5060, 'cerebro': 5061, 'ovca': 5062, 'heterosis': 5063, 'tgfbr2': 5064, 'fals': 5065, 'catalonia': 5066, 'studying': 5067, 'belgian': 5068, 'lysine': 5069, '223': 5070, 'lipoproteins': 5071, 'hne': 5072, 'protocol': 5073, 'success': 5074, 'certainly': 5075, 'exchange': 5076, 'taa': 5077, '614': 5078, 'adducin': 5079, 'pjs': 5080, 'pxe': 5081, \"patient's\": 5082, 'ser447stop': 5083, '1619': 5084, 'leu554phe': 5085, 'render': 5086, 'detrimental': 5087, 'val577': 5088, 'combine': 5089, 'intima': 5090, 'media': 5091, 'bifurcation': 5092, 'predilection': 5093, 'aberrations': 5094, 'minimally': 5095, '769': 5096, '836': 5097, '395a': 5098, 'vsa': 5099, '1055t': 5100, 'indirectly': 5101, 'malt': 5102, 'c242tpolymorphism': 5103, 'attenuates': 5104, 'carriership': 5105, 'mbo': 5106, '1059g': 5107, 'ileum': 5108, 'coexistent': 5109, 'exploratory': 5110, 'neurohumoral': 5111, 'anterior': 5112, 'cyp19a1': 5113, 'anal': 5114, 'nonasthmatic': 5115, '11q13': 5116, 'icos': 5117, 'e2': 5118, 'tyrp1': 5119, '12138inscagacc': 5120, 'partitioning': 5121, 'corpulence': 5122, 'ednrb': 5123, 'q46k': 5124, 'subpopulations': 5125, 'cytosine': 5126, 'thymine': 5127, 'losses': 5128, 'anembryonic': 5129, 'gestations': 5130, 'argument': 5131, 'uteroplacental': 5132, 'vasculature': 5133, '200': 5134, '220': 5135, 'httpr': 5136, 'somewhere': 5137, 'ltc': 5138, 'hevein': 5139, 'hcws': 5140, 'inhabitants': 5141, 'habit': 5142, 'hp': 5143, 'intrarenal': 5144, 'creatinine': 5145, 'nedd4l': 5146, 'validate': 5147, 'ab': 5148, 'correct': 5149, 'matching': 5150, 'causation': 5151, 'prcas': 5152, 'phe171cys': 5153, 'fhc': 5154, '1332': 5155, 'experimental': 5156, 'equal': 5157, 'ser919': 5158, 'haemochromatosis': 5159, 'recurring': 5160, 'individualized': 5161, 'worsen': 5162, 'imposes': 5163, 'fcgammariiib': 5164, 'nqo2': 5165, 'include': 5166, 'kitlg': 5167, 'arg913': 5168, 'p22phox': 5169, 'cd48': 5170, 'trend': 5171, 'omeprazole': 5172, 'lend': 5173, 'hypothesised': 5174, 'ile451met': 5175, 'paf': 5176, 'g994': 5177, 'cape': 5178, 'hyperreactivity': 5179, 'tsige': 5180, 'relating': 5181, 'repetitive': 5182, 'gstm10': 5183, 'draw': 5184, 'elder': 5185, 'inf': 5186, 'ltx': 5187, 'comorbidity': 5188, 'ehyt': 5189, '21q22': 5190, 'rs740423': 5191, 'rs2277737': 5192, 'rs1059684': 5193, 'mpd': 5194, 'epigenetic': 5195, 'silencing': 5196, 'homogeneously': 5197, 'metabolites': 5198, 'slco1b1': 5199, 'owing': 5200, 'increas': 5201, 'neuropsychiatric': 5202, 'sequencing': 5203, '1q': 5204, 'lig4': 5205, 'lrrk2': 5206, 'norway': 5207, 'ct': 5208, 'hrdh': 5209, 'pbmc': 5210, '109': 5211, 'p57': 5212, 'agoraphobia': 5213, 'bmpr1a': 5214, 'smad4': 5215, 'ugi': 5216, 'administered': 5217, 'cyclosporin': 5218, 'principal': 5219, 'agent': 5220, 'nephrocalcinosis': 5221, 'gln222arg': 5222, 'odc': 5223, 'lxra': 5224, 'glial': 5225, 'neurotrophic': 5226, 'transit': 5227, 'constipation': 5228, 'gnas1': 5229, 'subjected': 5230, 'malnutrition': 5231, 'g1287a': 5232, 'osteopenia': 5233, 'ert': 5234, '405': 5235, 'iydividuals': 5236, 't1412c': 5237, 'variayt': 5238, 'ayd': 5239, 'metabolizer': 5240, 'yicotiye': 5241, 'yot': 5242, 'coumariy': 5243, 'pla2': 5244, '62g': 5245, 'saturated': 5246, 'resolve': 5247, 'issue': 5248, 'geneic': 5249, 'antiemetic': 5250, 'ht3': 5251, 'antagonists': 5252, '1814c': 5253, 'thr577ile': 5254, 'salvage': 5255, 'achieved': 5256, 'reperfusion': 5257, 'therapies': 5258, 'schizoaffective': 5259, 'interacted': 5260, 'sources': 5261, '2702': 5262, 'kir': 5263, 'kirs': 5264, 'nk': 5265, 'c766t': 5266, 'thiopurine': 5267, 'amhr2': 5268, 'amh': 5269, 'mosaicism': 5270, 'mpz': 5271, 'extraordinary': 5272, 'disparity': 5273, '470': 5274, 'htr1b': 5275, 'cyp4b1': 5276, 'psors1c3': 5277, 'trna': 5278, 'blinding': 5279, 'trachoma': 5280, '1562': 5281, 'drive': 5282, 'norepinephrine': 5283, 'nerve': 5284, 'terminals': 5285, 'pacrg': 5286, 'mae': 5287, 'ace2': 5288, 'adipoq': 5289, 'estradiol': 5290, 'nonshared': 5291, 'longitudinal': 5292, 'semantic': 5293, 'memory': 5294, 'whereby': 5295, 'depressionevoking': 5296, 'contexts': 5297, 'fcepsilonr1beta': 5298, '109t': 5299, 'mast': 5300, 'mediators': 5301, 'ftld': 5302, 'warfarin': 5303, 'stones': 5304, 'beta3ar': 5305, '102c': 5306, 'productive': 5307, '608t': 5308, '911t': 5309, '1188c': 5310, 'currently': 5311, 'fut2': 5312, 'card2': 5313, 'rs4906902': 5314, 'uts2': 5315, 'polyalanine': 5316, 'expansions': 5317, 'nonsmokers': 5318, 'rs1801282': 5319, 'apex1': 5320, 'addictive': 5321, 'disappeared': 5322, 'canadians': 5323, '1239g': 5324, '650': 5325, 'noninflammatory': 5326, 'neurodegenerative': 5327, '735': 5328, 'appropriately': 5329, 'powered': 5330, 'pcp': 5331, 'nefa': 5332, 'y': 5333, 'npy': 5334, 'i1000v': 5335, 'guangzhou': 5336, 'vaginal': 5337, 'defense': 5338, 'anaerobic': 5339, 'rods': 5340, 'd6s273': 5341, 'dr3': 5342, '272': 5343, 'secretions': 5344, 'attenuated': 5345, 'revealing': 5346, 'elders': 5347, '8408': 5348, 'causatively': 5349, 'hper2': 5350, '844ins68': 5351, 'synonymous': 5352, 's136f': 5353, 'kind': 5354, 'oncogene': 5355, 'il4ra': 5356, 'persisted': 5357, 'informative': 5358, 'solar': 5359, 'lesion': 5360, 'beyond': 5361, 'wained': 5362, '10b': 5363, 'highest': 5364, 'implemented': 5365, 'priority': 5366, 'hyperbilirubinemia': 5367, 'fdopa': 5368, 'uptake': 5369, 'striatal': 5370, '2044g': 5371, '634c': 5372, 'lived': 5373, 'vdr3': 5374, 'pulmonogenic': 5375, 'osteopenic': 5376, 'thin': 5377, 'fibrous': 5378, '250g': 5379, 'bavm': 5380, 'bavms': 5381, 'await': 5382, 'loh': 5383, 'scanned': 5384, 'cdce': 5385, 'spectrometry': 5386, 'pools': 5387, 'feasible': 5388, 'cost': 5389, 'neuromotor': 5390, 'suppresses': 5391, '3408c': 5392, 'adenosquamous': 5393, 'rodent': 5394, 'fear': 5395, 'thepathogenesis': 5396, 'ischaemic': 5397, 'scleroderma': 5398, 'c4a': 5399, 'promising': 5400, 'haematological': 5401, 'preoperative': 5402, 'crt': 5403, 'mib': 5404, 'li': 5405, 'glioblastomas': 5406, 'pomc': 5407, 'organophosphate': 5408, 'ill': 5409, 'detoxify': 5410, 'pocket': 5411, '620w': 5412, 'synergize': 5413, 'break': 5414, 'evolutionarily': 5415, 'arthritogenic': 5416, 'humoral': 5417, 'ivs2': 5418, '160a': 5419, 'map3k7ip2': 5420, 'ic': 5421, 'histocompatibility': 5422, 'ultimately': 5423, 'illuminate': 5424, 'hsd3b1': 5425, '509t': 5426, 'tgfbeta1': 5427, 'nmu': 5428, 'lqt3': 5429, 'intimately': 5430, 'hyperglycaemia': 5431, 'hf': 5432, 'r154h': 5433, 'orbitofrontal': 5434, 'gray': 5435, 'matter': 5436, 'volumetric': 5437, 'deficits': 5438, 'promotor': 5439, 'prss1': 5440, 'korea': 5441, 'accelerating': 5442, 'hemorrhage': 5443, '5ht1b': 5444, 'c74468a': 5445, 'xrcc5': 5446, 'g74582a': 5447, 'timp2': 5448, 'weaken': 5449, 'r83h': 5450, 'jlns': 5451, 'amish': 5452, 'kappab1': 5453, 'kappabialpha': 5454, 'helpful': 5455, 'conducting': 5456, 'validated': 5457, 'n5': 5458, 'methylenetetrahydrofolate': 5459, 'htlv': 5460, 'ham': 5461, 'tsp': 5462, 'fto': 5463, 'duodenal': 5464, 'digoxin': 5465, 'prca': 5466, 'assist': 5467, 'extended': 5468, 'durable': 5469, 'emphysematous': 5470, 'proliferative': 5471, 'bax': 5472, 'polyps': 5473, 'codes': 5474, 'quality': 5475, 'slc26a4': 5476, 'graded': 5477, 'hypothalamic': 5478, 'intracranial': 5479, 'aneurysms': 5480, 'bring': 5481, 'examining': 5482, '499v': 5483, 'gaucher': 5484, 'expressed': 5485, 'exhaled': 5486, 'targets': 5487, 'ictev': 5488, 'spots': 5489, 'pneumofibrosis': 5490, '338c': 5491, 't807': 5492, 'unfavorable': 5493, 'pax4': 5494, 'rnfl': 5495, 'chrna4': 5496, 'retina': 5497, 'vaccination': 5498, 'hepatocellular': 5499, 'typed': 5500, 'transcript': 5501, 'multiplex': 5502, 'lymphoblast': 5503, 'centre': 5504, \"d'etude\": 5505, 'du': 5506, 'polymorphisme': 5507, 'humain': 5508, 'ceph': 5509, 'held': 5510, 'nnk': 5511, 'cyp2a13': 5512, 'ccr5delta32': 5513, 'yi': 5514, 'speaks': 5515, '1612insa': 5516, 'chemosensitivity': 5517, 'meiotic': 5518, 'compromised': 5519, 'agtr1': 5520, '866g': 5521, 'fluorouracil': 5522, 'relations': 5523, 'evaluated': 5524, 'sibling': 5525, 'pairs': 5526, 'discordant': 5527, 'stat4': 5528, 'traf1': 5529, 'c5': 5530, 'pharmacodynamic': 5531, 'anticoagulation': 5532, 'plin': 5533, '1082a': 5534, \"smokers'\": 5535, 'difficult': 5536, 'bacteria': 5537, 'hyporesponsive': 5538, 'pprom': 5539, '16q': 5540, 'english': 5541, 'gln368stop': 5542, 'p582s': 5543, 'hif': 5544, 'g62c': 5545, 'y54h': 5546, 'cdna': 5547, '609': 5548, 'implied': 5549, 'rs3759223': 5550, 'worth': 5551, 'associative': 5552, \"other's\": 5553, 'biochemically': 5554, 'debilitating': 5555, 'ache': 5556, '663c': 5557, 'fviii': 5558, 'normolipidemic': 5559, 'subfraction': 5560, 'apociii': 5561, 'leu33pro': 5562, 'geographical': 5563, 'waf1': 5564, 'cip1': 5565, 'mr': 5566, 'birthweight': 5567, 'pdgfra': 5568, 'lacunae': 5569, '1296': 5570, '900': 5571, '235': 5572, 'snp4': 5573, '331g': 5574, 'epidemiologic': 5575, 'encompasses': 5576, 'transformation': 5577, 'endometrioid': 5578, '638a': 5579, 'turkey': 5580, '1183c': 5581, 'precipitating': 5582, 'truncated': 5583, 'almost': 5584, 'leukemogenesis': 5585, 'myeloblastic': 5586, 'str': 5587, 'g919a': 5588, 't833c': 5589, 'azathioprine': 5590, 'slc6a4': 5591, 'ile796val': 5592, 'cdh1': 5593, 'lobular': 5594, 'ductal': 5595, 'extragastric': 5596, '233': 5597, '248': 5598, 'spanning': 5599, 'intrahepatic': 5600, 'devising': 5601, 'diagnostics': 5602, 'urpl': 5603, 'pakistani': 5604, 'pathans': 5605, 'r264c': 5606, 'v37i': 5607, 'behaved': 5608, 'cyslt': 5609, 'lmp7': 5610, 'cosegregated': 5611, 'polyspike': 5612, 'wave': 5613, '382': 5614, 'tph1': 5615, 'monoamine': 5616, 'scvt': 5617, 'mthr': 5618, 'aaff': 5619, 'leu33': 5620, 'pro33': 5621, 'nkg2c': 5622, 'rheumatic': 5623, 'cathepsin': 5624, 'stratified': 5625, 'regard': 5626, 'corresponding': 5627, 'serologic': 5628, 'specificities': 5629, 'dr1': 5630, 'sgce': 5631, 'maoauvntr': 5632, '7853gg': 5633, 'require': 5634, 'irf3': 5635, 'burns': 5636, 'hspa1b': 5637, 'fl': 5638, 'anatomical': 5639, 'q43p': 5640, 'destructive': 5641, 'ssris': 5642, 'ggf': 5643, 't1799a': 5644, 'mucinous': 5645, 'ocp': 5646, 'histologic': 5647, 'planning': 5648, '24s': 5649, 'hydroxycholesterol': 5650, 'hydroxylase': 5651, 'modulator': 5652, 'igfbp3': 5653, '102v': 5654, '427c': 5655, 'tki': 5656, 'probable': 5657, 's12': 5658, 'mmp1': 5659, 'ncbi': 5660, 'database': 5661, 'adenomas': 5662, 'nodular': 5663, 'goiter': 5664, 'whilst': 5665, 'obstruction': 5666, 'mcns': 5667, 'chemopreventive': 5668, 'ibuprofen': 5669, 'ds': 5670, 't1128c': 5671, 'until': 5672, 'vs': 5673, 'disadvantage': 5674, 'largest': 5675, 'sec63': 5676, 'zpi': 5677, 'thrombophilia': 5678, 'worthwhile': 5679, 'pursuing': 5680, 'leucine': 5681, 'calcitonin': 5682, 'department': 5683, 'faculty': 5684, 'tokyo': 5685, 'yoko': 5686, 'iizuka': 5687, 'shun': 5688, 'ishibashi': 5689, 'takanari': 5690, 'gotoda': 5691, 'institute': 5692, 'nobuhiro': 5693, 'yamada': 5694, 'alpha1at': 5695, 'g241r': 5696, 'alt': 5697, 'ast': 5698, 'adiponutrin': 5699, 'psen1': 5700, 'periodic': 5701, 'hazard': 5702, 'nucleoside': 5703, 'c200t': 5704, 'premutation': 5705, 'opposing': 5706, 'inconsistencies': 5707, 'uncoupling': 5708, 'prp': 5709, 'copper': 5710, 'a98v': 5711, 'polymorphous': 5712, 'systems': 5713, 'ida': 5714, 'ffa': 5715, 'glycerol': 5716, 'otosclerosis': 5717, 'asn40asp': 5718, 'ntx': 5719, 'bacteremia': 5720, 'osteoarthritis': 5721, 'cl': 5722, 'ccl': 5723, 'marburg': 5724, 'ejection': 5725, 'ampd1': 5726, '1513': 5727, 'cll': 5728, 'belong': 5729, 'capsaicin': 5730, 'cough': 5731, 'gu': 5732, 'mesangial': 5733, 'stromal': 5734, 'bilaterality': 5735, 'now': 5736, 'added': 5737, 'bace': 5738, 'iddm4': 5739, 'iddm5': 5740, 'iddm8': 5741, 'apoc3': 5742, 'dissociated': 5743, '1359a': 5744, '1592delt': 5745, 'tend': 5746, 'relapse': 5747, 'flashes': 5748, 'endoxifen': 5749, 'discrimination': 5750, 'cogni': 5751, 'negligible': 5752, 'rlf': 5753, 'antiepileptic': 5754, 'relying': 5755, 'etanercept': 5756, 'dqb': 5757, 'notable': 5758, 'd919g': 5759, 'benazepril': 5760, 'allocation': 5761, 'kidneys': 5762, 'mismatched': 5763, '2756gg': 5764, 'mtr': 5765, 'miarn': 5766, 'bk': 5767, 'intact': 5768, 'wheezing': 5769, 'lrp5': 5770, 'eotaxin': 5771, 'anticancer': 5772, 'c1858t': 5773, '343g': 5774, 'abh': 5775, 'czech': 5776, 'sigma': 5777, 'epistatically': 5778, 'g460w': 5779, 'highlights': 5780, 'specificity': 5781, 'psd': 5782, 'allows': 5783, 'definition': 5784, '120': 5785, 'ncoi': 5786, 'nonsurvival': 5787, '1raa2': 5788, '260t': 5789, 'adrb3': 5790, '265t': 5791, 'hpt': 5792, 'complementary': 5793, 'approaches': 5794, 'employed': 5795, 'z': 5796, 'passive': 5797, 'sidestream': 5798, 'diminished': 5799, 'mc3r': 5800, '219': 5801, 'osteophyte': 5802, '05': 5803, 'qtl': 5804, 'ptc': 5805, 'protease': 5806, 'antiprotease': 5807, 'failing': 5808, 'fog2': 5809, 'hey2': 5810, 'triat': 5811, 'theoretical': 5812, 'reasons': 5813, 'pro198leu': 5814, 'openness': 5815, 'exerting': 5816, 'dismutase': 5817, 'dpn': 5818, 'peroxidation': 5819, 'cac': 5820, '128r': 5821, 'typically': 5822, 'hormones': 5823, '0503': 5824, 'intrinsically': 5825, 'untranslated': 5826, 'echographic': 5827, 'equally': 5828, 'rs7574865': 5829, 'suppose': 5830, 'minisatellite': 5831, 'chernobyl': 5832, 'accident': 5833, '480': 5834, 'vigorously': 5835, 'arcrd': 5836, 'myanmar': 5837, '52': 5838, 'il1beta': 5839, '330': 5840, 'blunt': 5841, 'chromosomally': 5842, '112g': 5843, 'reproduce': 5844, 'paves': 5845, 'percentage': 5846, 'hterc': 5847, 'c17a': 5848, 'g241a': 5849, 'program': 5850, 'survey': 5851, 'generalized': 5852, 'pathogenically': 5853, 'eop': 5854, 'nephrotoxicity': 5855, 'glutamic': 5856, '420': 5857, 'hs': 5858, 't45g': 5859, 'g276t': 5860, 'iranian': 5861, 'i50v': 5862, 'val103ile': 5863, 'g4c14': 5864, 'a4t14': 5865, 'leu34phe': 5866, 'proteolysis': 5867, 'thermogenesis': 5868, 'expenditure': 5869, '308a': 5870, 'clcnkb': 5871, 'kuwaiti': 5872, 'a105t': 5873, 'val60glu': 5874, 'introns': 5875, 'gm': 5876, 'fe': 5877, 'cd18': 5878, '10034': 5879, 'nonsynonymous': 5880, 'israel': 5881, 'hypothesize': 5882, 'ethiopathogenesis': 5883, 'multifunctional': 5884, 'osf': 5885, 'parasite': 5886, 'sequestration': 5887, 'widespread': 5888, 'ala203': 5889, '776cg': 5890, '776gg': 5891, 'r213h': 5892, 'ivs38': 5893, '5557': 5894, '5558': 5895, 'microhaplotypes': 5896, '482ser': 5897, 'stop': 5898, 'rpt': 5899, 'tdf': 5900, 'animal': 5901, 'alcoholics': 5902, 'cirrhotic': 5903, '705': 5904, 'q214r': 5905, '1196': 5906, 'g378r': 5907, '1637': 5908, 'a525t': 5909, '1664': 5910, 'p534s': 5911, 'v14': 5912, '1443': 5913, 'bpi': 5914, 'strengthening': 5915, 'simple': 5916, 'cdkn1b': 5917, 'oscc': 5918, 'highlighted': 5919, '41': 5920, '90': 5921, '09': 5922, '23': 5923, '038': 5924, 'susceptive': 5925, '251t': 5926, 'potentiating': 5927, 'fins': 5928, 'p2hins': 5929, \"doesn't\": 5930, 'c599t': 5931, 'val1483ile': 5932, 'k18': 5933, 'p2x': 5934, 'mycobacterium': 5935, 'aiha': 5936, 'house': 5937, 'dust': 5938, 'incorporated': 5939, 'klf6': 5940, 'killer': 5941, 'rs570613': 5942, 'val384asp': 5943, 'g2964a': 5944, 'unreported': 5945, 'states': 5946, 'pro4thr': 5947, 'perioperative': 5948, 'rodents': 5949, 'osteogenesis': 5950, 'imperfecta': 5951, 'krt19': 5952, 'overtransmitted': 5953, 'radiosensitivity': 5954, 'chemoradiation': 5955, 'mitsuda': 5956, 'times': 5957, 'dp': 5958, 'corroborate': 5959, 'myc': 5960, '62': 5961, 'israeli': 5962, 'precise': 5963, 'm341i': 5964, '946c': 5965, 'xp22': 5966, 't3111c': 5967, 'glucocorticoids': 5968, 'v16a': 5969, 'dme': 5970, 'determinative': 5971, 'inducible': 5972, 'sars': 5973, 'polg2': 5974, 'cpt1a': 5975, 'kyoto': 5976, 'pst': 5977, 'error': 5978, 'rs175174': 5979, 'complicated': 5980, 'individ': 5981, 'tpp': 5982, 'material': 5983, 'ctr': 5984, 'barrett': 5985, 'esophagus': 5986, 'lumbar': 5987, 'spine': 5988, 'comprehensive': 5989, 'constellation': 5990, 'evolution': 5991, 'icc': 5992, 'a49t': 5993, 'coincidence': 5994, 'meningeal': 5995, 'aspartic': 5996, 'inattentive': 5997, 'alfa': 5998, 'perspective': 5999, 'simultaneous': 6000, 'hypertryglyceridemia': 6001, 'pou': 6002, 'rlx': 6003, 'pvu': 6004, 'gastroesophageal': 6005, 'priori': 6006, 'aip': 6007, 'precludes': 6008, 'paper': 6009, 'sickle': 6010, 'developed': 6011, 'assay': 6012, '158f': 6013, '17q21': 6014, 'amplicon': 6015, 'spaniards': 6016, '2518gg': 6017, 'pseudodeficient': 6018, 'glycosylation': 6019, '331': 6020, 'mammary': 6021, 'mpa': 6022, 'heterozygosis': 6023, 'chc': 6024, '78a': 6025, 'ala57thr': 6026, 'greenlander': 6027, 'inuit': 6028, 'thr57': 6029, 'living': 6030, 'survivors': 6031, 'oldest': 6032, 'epsilon2': 6033, 'apoe2': 6034, 'paradoxically': 6035, 'continuous': 6036, '20': 6037, 'blockade': 6038, 'infer': 6039, 'southwest': 6040, '1166c': 6041, '94ins': 6042, 'gly49': 6043, 'cys19': 6044, 'arg16': 6045, 'gln27': 6046, 'lactate': 6047, 'inducer': 6048, 'ldha': 6049, 'mci': 6050, 'abcb11': 6051, 'p1054r': 6052, 'alr2': 6053, 'sca': 6054, 'correspond': 6055, 'predominance': 6056, 'principles': 6057, 'difficulty': 6058, 'connecting': 6059, 'forming': 6060, 'opposed': 6061, 'digenic': 6062, 'constitution': 6063, 'c1542g': 6064, 'tafi': 6065, 'displays': 6066, 'itgb7': 6067, 'insl3': 6068, 'deciding': 6069, 'tcr': 6070, 'vbeta5': 6071, 'jeff': 6072, 'come': 6073, 'rom': 6074, 'nona': 6075, '0005': 6076, '0001': 6077, 'conduct': 6078, '0002': 6079, 'angiogenesis': 6080, 'ecstasy': 6081, 'sets': 6082, 'histological': 6083, 'classification': 6084, 'msa': 6085, '1239': 6086, '870g': 6087, 'often': 6088, 'dq6': 6089, '1580': 6090, 'septic': 6091, 'shock': 6092, 'mechanical': 6093, 'ventilation': 6094, 'snp276': 6095, 'polycystic': 6096, 'ovary': 6097, 'usually': 6098, 'fga': 6099, 'extracoronary': 6100, 'ccpa': 6101, '401': 6102, 'neonatal': 6103, '1131t': 6104, 'polyamines': 6105, 'ssat342': 6106, 'ssat': 6107, '49g': 6108, 'extraglandular': 6109, 'nphp6': 6110, 'palestinian': 6111, 'arab': 6112, 'mgus': 6113, 'ephx1': 6114, 'prevailing': 6115, 'endocrine': 6116, 'col1a1': 6117, 'ais': 6118, 'monitored': 6119, 'spironolactone': 6120, 'started': 6121, 'diuretic': 6122, 'requirements': 6123, 'lymphatic': 6124, 'criminal': 6125, 'his213': 6126, 'estrogens': 6127, 'participating': 6128, 'venda': 6129, 'proposedly': 6130, 'real': 6131, 'n291s': 6132, 'd9n': 6133, '93t': 6134, 'accelerate': 6135, 'tubuli': 6136, 'cd25': 6137, 'graveso': 6138, 'zhuang': 6139, 'theory': 6140, 'maob': 6141, 'catecholamine': 6142, '251a': 6143, 'emerges': 6144, 'pro7': 6145, 'prepronpy': 6146, 'placement': 6147, 'taaaa': 6148, 'c270t': 6149, 'r192q': 6150, 'caloric': 6151, 'metabolized': 6152, 'underrepresented': 6153, 'cruciate': 6154, 'ligament': 6155, 'ruptures': 6156, 'atheroprotective': 6157, 'fractalkine': 6158, 'furthermore': 6159, 'wbc': 6160, 'neutrophil': 6161, 'duplicating': 6162, 'mutagens': 6163, '3056t': 6164, 'nocturnal': 6165, 'experiment': 6166, 'illegal': 6167, 'ns': 6168, 'learning': 6169, 'disabilities': 6170, 'parkinson': 6171, 'acetylation': 6172, 'correlative': 6173, 'abi': 6174, 'ls': 6175, 'hyperandrogenism': 6176, 'nasopharyngeal': 6177, 'conditioned': 6178, '874t': 6179, 'his1299arg': 6180, '5671': 6181, 'i232t': 6182, 'dsps': 6183, 'ama': 6184, 'olt': 6185, 'trkb': 6186, 'isoenzyme': 6187, 'hypospadias': 6188, 'c1167': 6189, 'd6s366': 6190, 'sod2': 6191, 'villous': 6192, 'gluten': 6193, 'g160a': 6194, '838a': 6195, 'morphology': 6196, 'reasonable': 6197, 'programs': 6198, 'bioactivity': 6199, 'ihd': 6200, 'vv': 6201, '38c': 6202, 'npra': 6203, 'moderating': 6204, 'depressogenic': 6205, '2677g': 6206, '3435c': 6207, 'etoposide': 6208, '112': 6209, '121': 6210, 'scandinavians': 6211, 'nep': 6212, 't8590c': 6213, 'klotho': 6214, 'c1818t': 6215, 'cerebellar': 6216, 'nphp': 6217, '296': 6218, 'afford': 6219, 'opportunity': 6220, 'cdsn': 6221, 'slc6a14': 6222, '986': 6223, 'agonist': 6224, 'edema': 6225, 'actual': 6226, 'estimate': 6227, 'y415x': 6228, 'glycogen': 6229, '513': 6230, '196g': 6231, 'd85y': 6232, 'r2': 6233, 'gln27glu': 6234, 'eosinophils': 6235, '0202': 6236, '0701': 6237, '1101': 6238, 'glo': 6239, 'doubtful': 6240, 'csnb': 6241, 'trachomatis': 6242, 'val30met': 6243, 'ttr': 6244, 'fap1': 6245, 'portuguese': 6246, 'gln192arg': 6247, 'underlines': 6248, 'apeced': 6249, '173g': 6250, 'oncogenesis': 6251, 'rs1052576': 6252, 'locates': 6253, 'casp9': 6254, 'give': 6255, 'assume': 6256, 'acceleration': 6257, 'gemcitabine': 6258, 'monotherapy': 6259, 'prediabetic': 6260, 'accordingly': 6261, 'worsened': 6262, 'bound': 6263, 'p1': 6264, 'ctg18': 6265, '311': 6266, 'naturally': 6267, 'enable': 6268, 'aldosteronism': 6269, 'dq5': 6270, 'cae': 6271, 'calculi': 6272, 's20g': 6273, 'hba': 6274, '6bins': 6275, 'eng': 6276, 'devastating': 6277, 'arg110gln': 6278, 'analgesic': 6279, 'responders': 6280, 'intravenous': 6281, 'fentanyl': 6282, 'anticipate': 6283, '2677t': 6284, 's893': 6285, 'cnis': 6286, 'a49g': 6287, 'stimulant': 6288, 'mediation': 6289, 'arg753gln': 6290, 'cmv': 6291, '734ile': 6292, 'precocious': 6293, 'diseased': 6294, 'a986s': 6295, 'fractures': 6296, '242': 6297, 'gbs': 6298, 'jejuni': 6299, '58': 6300, 'bdkrb': 6301, 'synergetic': 6302, 'c936t': 6303, 'ptger3': 6304, 'ptger4': 6305, 'ptgir': 6306, 'tbxa2r': 6307, 'intolerant': 6308, 'maladaptive': 6309, 'utilization': 6310, 'unexpected': 6311, 'i555': 6312, 'p568': 6313, 'india': 6314, 'g331a': 6315, 'sensitized': 6316, 'dr13': 6317, '420c': 6318, 'lsehara': 6319, 'prophylactic': 6320, 'survivor': 6321, 'side': 6322, 'medication': 6323, 'movement': 6324, 'acts': 6325, 'arg192': 6326, 'maintaining': 6327, 'anthropomorphics': 6328, '0410': 6329, 'smooth': 6330, 'contraction': 6331, 'd356n': 6332, '429t': 6333, 'ma': 6334, 'e469k': 6335, 'runx2': 6336, 'soldiers': 6337, '58c': 6338, '5alpha': 6339, 'examine': 6340, 'cpsi': 6341, 't1405n': 6342, 'surgical': 6343, 'a1513c': 6344, 'p2x7r': 6345, 'allogeneic': 6346, 'refines': 6347, 'myo9b': 6348, 'b2bkr': 6349, 'ala45thr': 6350, '192arg': 6351, 'constellations': 6352, 'aps': 6353, 'regulators': 6354, 'docetaxel': 6355, 'svegf': 6356, 'adequately': 6357, 'seasonality': 6358, 'rs6232': 6359, 'rs6235': 6360, 'b27': 6361, 'tremens': 6362, '600': 6363, 'clopidogrel': 6364, 'snp43': 6365, '56t': 6366, 'aad': 6367, 'donor': 6368, 'conducive': 6369, 'affords': 6370, '184ile': 6371, 'thought': 6372, 'diazepam': 6373, 'pharmacokinetics': 6374, 'possesses': 6375, 'neuronal': 6376, 'relapses': 6377, 'glutathione': 6378, 'transferase': 6379, 'randomized': 6380, 'ascertain': 6381, 'dosages': 6382, 'safe': 6383, '3111c': 6384, 'diurnal': 6385, 'neurotransmitters': 6386, 'rs': 6387, '2305764': 6388, 'coeliac': 6389, 'val66met': 6390, 'ivs1': 6391, '27g': 6392, 'uaes': 6393, 'epidermodysplasia': 6394, 'verruciformis': 6395, 'haemodynamic': 6396, 'partitioned': 6397, 'scchn': 6398, 'g9943t': 6399, \"authors'\": 6400, 'fap': 6401, 'fulminant': 6402, 'responsivity': 6403, 'germane': 6404, 'impulse': 6405, 'antagonistic': 6406, 'chrna7': 6407, 'variated': 6408, 'exsit': 6409, 'tfam': 6410, 'ucsnp45': 6411, 'ucsnp43': 6412, 'hirsutism': 6413, 'ntd': 6414, 'dhfr': 6415, '72met': 6416, 'antisocial': 6417, 'y2r': 6418, 'egyptian': 6419, 'intrauterine': 6420, 'rs4578621': 6421, 'rs894160': 6422, 'clarified': 6423, 'cyp2a6': 6424, 'ccordingly': 6425, 'pdcd1': 6426, 'a6547g': 6427, 'presents': 6428, 'deviation': 6429, 'parents': 6430, \"fisher's\": 6431, 'exact': 6432, 'grip': 6433, 'frailty': 6434, 'cimp': 6435, 'auditory': 6436, 'remarkable': 6437, 'gad': 6438, 'stay': 6439, 'hyperlipidemic': 6440, 'tkis': 6441, 'rotterdam': 6442, 'stimulators': 6443, 'complement': 6444, 'his298': 6445, 'arg298his': 6446, 'cholesterolemia': 6447, '267': 6448, 'clozapine': 6449, 'kenyan': 6450, 'scnn1g': 6451, 'malformations': 6452, 'hht': 6453, 'avms': 6454, 'davfs': 6455, 'morphological': 6456, 'myeloproliferative': 6457, 'cmml': 6458, 'c3550t': 6459, 'sandhoff': 6460, 'fourth': 6461, 'waste': 6462, 'incinerator': 6463, 'pollutants': 6464, 'craniosynostosis': 6465, 'arrhythmia': 6466, 'put': 6467, 'arrhythmic': 6468, 'eye': 6469, 'movements': 6470, 'austrian': 6471, 'cx26': 6472, 'favoring': 6473, 'dat': 6474, 'duarte': 6475, 'nongalactosemic': 6476, '179': 6477, 'assertion': 6478, '218': 6479, '2d6': 6480, '2e1': 6481, 'dld': 6482, '5c': 6483, 'gpib': 6484, 'underscore': 6485, 'true': 6486, 'craving': 6487, 'beverage': 6488, 'foxp3': 6489, 'signs': 6490, 'bernard': 6491, 'soulier': 6492, 'edn1': 6493, 'filtration': 6494, 'uae': 6495, 'bgl': 6496, 'relapsing': 6497, 'situated': 6498, 'e168q': 6499, 'abnormality': 6500, '131h': 6501, 'na1': 6502, 'thailand': 6503, 'riiia': 6504, 'paramesonephric': 6505, 'duct': 6506, 'galactosaemic': 6507, 'dystonia': 6508, 'mental': 6509, 'retardation': 6510, 'causality': 6511, 'gsta1': 6512, 't1521c': 6513, 'attenuation': 6514, 'psychological': 6515, 'sudden': 6516, 'nsclp': 6517, '209': 6518, 'disulphide': 6519, 'bonding': 6520, 'c8092a': 6521, 'expansion': 6522, '16q24': 6523, 'amongst': 6524, '616': 6525, \"cloninger's\": 6526, 'character': 6527, 'inventory': 6528, 'meh': 6529, 'enrichment': 6530, 'turn': 6531, 'hbd': 6532, 'threshold': 6533, 'feedback': 6534, 'luteal': 6535, 'pituitary': 6536, 'intercycle': 6537, 'menstrual': 6538, 'cycles': 6539, 'sufficiency': 6540, 'xx': 6541, 'karolinska': 6542, 'scales': 6543, 'm416v': 6544, 'fcgammar': 6545, '131': 6546, 'egf': 6547, 'alternatively': 6548, 'risperidone': 6549, 'ephx2': 6550, 'kg': 6551, 'validity': 6552, '121q': 6553, 'obstetric': 6554, 'pgm': 6555, 'oligodendroglioma': 6556, '340': 6557, 'stiffening': 6558, 'pulse': 6559, 'nt3198': 6560, 'endochondral': 6561, 'intramembranous': 6562, 'dlx3': 6563, 'appendicular': 6564, 'skeleton': 6565, 'grin1': 6566, 't825': 6567, 'g5665t': 6568, 'irbesartan': 6569, 'atenolol': 6570, 'endothelin': 6571, 'grin2b': 6572, 's65c': 6573, 'arg201gly': 6574, 'inferred': 6575, 'anaplastic': 6576, 'astrocytoma': 6577, 'glioblastoma': 6578, 'multiforme': 6579, 'scurfin': 6580, 'diol': 6581, 'epoxide': 6582, '168his': 6583, 't137346c': 6584, 'fyn': 6585, 'executive': 6586, 'dysfunctions': 6587, 'f12': 6588, 'average': 6589, 'nonmutated': 6590, 'yielding': 6591, 'symptomatology': 6592, 'pooling': 6593, 'drb': 6594, 'itd': 6595, 'alpha6': 6596, 'seh': 6597, 'edhf': 6598, 'eight': 6599, 'overloaded': 6600, 'tfr2': 6601, 'hfe': 6602, 'ineffective': 6603, 'erythropoiesis': 6604, '15q11': 6605, '20210': 6606, '312': 6607, 'innocuous': 6608, 'fcgammariia': 6609, 'acquiring': 6610, 'fcgammarii': 6611, 'ohpg': 6612, '203c': 6613, 'renders': 6614, 'ptsd': 6615, 'usage': 6616, 'dfnb1': 6617, 'dazl': 6618, 'pin': 6619, '056': 6620, 'arteriosclerosis': 6621, 'triggered': 6622, '353': 6623, 'r131': 6624, '42': 6625, 'cd17': 6626, 'cd71': 6627, '654': 6628, 'impulsivity': 6629, 'psychopathological': 6630, 'aspects': 6631, 'successful': 6632, 'charcot': 6633, 'marie': 6634, 'tooth': 6635, 'illustrating': 6636, 'balancing': 6637, 'pressures': 6638, 'infectious': 6639, 'operating': 6640, 'h475y': 6641, 'impairs': 6642, 'folates': 6643, 'consequent': 6644, 'hrt': 6645, 'implicating': 6646, 'drai': 6647, 'adh1c': 6648, 'spermatogenic': 6649, 'pressor': 6650, 'helping': 6651, 'epithelium': 6652, 'ets': 6653, 'prolactin': 6654, 'p450iie1': 6655, '278c': 6656, 'habitues': 6657, 'properties': 6658, '2p23': 6659, 'herewith': 6660, 'endemic': 6661, 'pf': 6662, 'govern': 6663, 'breakage': 6664, 'desmoglein': 6665, 'situations': 6666, 'a2a2': 6667, 'chronicity': 6668, 'val34leu': 6669, 'thromboembolic': 6670, 'pertaining': 6671, 'endophenotypes': 6672, 'ought': 6673, 'interpreting': 6674, 'awaited': 6675, 'recovered': 6676, 'smears': 6677, 'easy': 6678, 'counselling': 6679, 'coc': 6680, 'g1691': 6681, 'g20210': 6682, '34leu': 6683, 'nucleotides': 6684, 'quite': 6685, 't79c': 6686, '113': 6687, 'bpde': 6688, 'leukocytes': 6689, 'pof1b': 6690, 'ut': 6691, 'thrombogenesis': 6692, 'haplotypic': 6693, 'betel': 6694, 'quid': 6695, 'chewers': 6696, 'mitigate': 6697, 'igg2': 6698, 'pm': 6699, '282': 6700, 'preponderance': 6701, 'manic': 6702, 'illness': 6703, 'fatness': 6704, 'cardiorespiratory': 6705, 'magnify': 6706, 'exon5': 6707, 'normoglycemic': 6708, 'america': 6709, 'thrombin': 6710, '1691g': 6711, 'vii': 6712, 'gln353': 6713, 'msci': 6714, 'td': 6715, 'falciparum': 6716, 'nats': 6717, 'inception': 6718, 'reactions': 6719, 'diisocyanates': 6720, 'taqia': 6721, 'obtain': 6722, 'conclusive': 6723, 'tatars': 6724, 'orfa': 6725, 'gly3asp': 6726, 'neurocognitive': 6727, 'appreciation': 6728, 't4': 6729, 'own': 6730, 'viewed': 6731, 'multifetal': 6732, 'pregnancies': 6733, '118': 6734, 'hl': 6735, 'engaged': 6736, 'neoplasia': 6737, 'sporadically': 6738, 'nateglinide': 6739, 'kinetics': 6740, 'her2': 6741, '8092a': 6742, 'kozak': 6743, 'ibalpha': 6744}\n"
     ]
    }
   ],
   "source": [
    "tokenizer = Tokenizer()\n",
    "tokenizer.fit_on_texts(vocab_txt)\n",
    "print(\"The document count\", tokenizer.document_count)\n",
    "print(\"The count of words\", tokenizer.word_counts)\n",
    "print(\"The word index\", tokenizer.word_index)"
   ]
  },
  {
   "cell_type": "code",
   "execution_count": 28,
   "metadata": {
    "executionInfo": {
     "elapsed": 50,
     "status": "ok",
     "timestamp": 1649938101515,
     "user": {
      "displayName": "Nora Youssef",
      "userId": "03639374922222745842"
     },
     "user_tz": -120
    },
    "id": "bNvR481KnDn6"
   },
   "outputs": [],
   "source": [
    "n_words = len(tokenizer.word_index.keys())"
   ]
  },
  {
   "cell_type": "code",
   "execution_count": 29,
   "metadata": {
    "colab": {
     "base_uri": "https://localhost:8080/"
    },
    "executionInfo": {
     "elapsed": 50,
     "status": "ok",
     "timestamp": 1649938101515,
     "user": {
      "displayName": "Nora Youssef",
      "userId": "03639374922222745842"
     },
     "user_tz": -120
    },
    "id": "hfh3-YBcnafm",
    "outputId": "440b2441-e1e0-4333-ef49-54920196f8ca"
   },
   "outputs": [
    {
     "data": {
      "text/plain": [
       "6744"
      ]
     },
     "execution_count": 29,
     "metadata": {},
     "output_type": "execute_result"
    }
   ],
   "source": [
    "n_words"
   ]
  },
  {
   "cell_type": "code",
   "execution_count": 30,
   "metadata": {
    "colab": {
     "base_uri": "https://localhost:8080/"
    },
    "executionInfo": {
     "elapsed": 12,
     "status": "ok",
     "timestamp": 1649938101516,
     "user": {
      "displayName": "Nora Youssef",
      "userId": "03639374922222745842"
     },
     "user_tz": -120
    },
    "id": "ZbCH8eY4rWeA",
    "outputId": "61759362-3897-4647-c1cb-bd89b3919541"
   },
   "outputs": [
    {
     "data": {
      "text/plain": [
       "4097"
      ]
     },
     "execution_count": 30,
     "metadata": {},
     "output_type": "execute_result"
    }
   ],
   "source": [
    "len(train_texts)"
   ]
  },
  {
   "cell_type": "markdown",
   "metadata": {
    "id": "ficlztQjaUVa"
   },
   "source": [
    "### X & Y Prep"
   ]
  },
  {
   "cell_type": "code",
   "execution_count": 31,
   "metadata": {
    "executionInfo": {
     "elapsed": 11,
     "status": "ok",
     "timestamp": 1649938101516,
     "user": {
      "displayName": "Nora Youssef",
      "userId": "03639374922222745842"
     },
     "user_tz": -120
    },
    "id": "DP2TPmt4bjKd"
   },
   "outputs": [],
   "source": [
    "\n",
    "from keras.preprocessing.sequence import pad_sequences\n",
    "from keras.utils import to_categorical\n",
    "\n",
    "def getXYFromSentences(txts, lbls):\n",
    "  sequences = tokenizer.texts_to_sequences(txts)\n",
    "  X = pad_sequences(maxlen=max_len, sequences=sequences, padding=\"post\", truncating=\"post\")\n",
    "  # X = tokenizer.sequences_to_matrix(X)\n",
    "  y = np.array(lbls)\n",
    "  # y = np.array([to_categorical(i, num_classes=2) for i in y])\n",
    "  print(X.shape)\n",
    "  print(X[0:3])\n",
    "  print(y.shape)\n",
    "  print(y[0:3])\n",
    "  return X, y"
   ]
  },
  {
   "cell_type": "code",
   "execution_count": 32,
   "metadata": {
    "colab": {
     "base_uri": "https://localhost:8080/"
    },
    "executionInfo": {
     "elapsed": 10,
     "status": "ok",
     "timestamp": 1649938101516,
     "user": {
      "displayName": "Nora Youssef",
      "userId": "03639374922222745842"
     },
     "user_tz": -120
    },
    "id": "ZOBpJZHb3aYe",
    "outputId": "b448c01d-783a-4347-e595-ebcf62b21a77"
   },
   "outputs": [
    {
     "name": "stdout",
     "output_type": "stream",
     "text": [
      "(4097, 128)\n",
      "[[  24   36 4067    7    8    8   39   63  636 2364    4    2    2  149\n",
      "    18  397   38    8  551   27 4068    4 2953   33   11  713    5   42\n",
      "     0    0    0    0    0    0    0    0    0    0    0    0    0    0\n",
      "     0    0    0    0    0    0    0    0    0    0    0    0    0    0\n",
      "     0    0    0    0    0    0    0    0    0    0    0    0    0    0\n",
      "     0    0    0    0    0    0    0    0    0    0    0    0    0    0\n",
      "     0    0    0    0    0    0    0    0    0    0    0    0    0    0\n",
      "     0    0    0    0    0    0    0    0    0    0    0    0    0    0\n",
      "     0    0    0    0    0    0    0    0    0    0    0    0    0    0\n",
      "     0    0]\n",
      " [  75   32    4    1   58    2    6 2365   30  241   69   10    5  139\n",
      "   187 2366   11   96  614  571   13   83    0    0    0    0    0    0\n",
      "     0    0    0    0    0    0    0    0    0    0    0    0    0    0\n",
      "     0    0    0    0    0    0    0    0    0    0    0    0    0    0\n",
      "     0    0    0    0    0    0    0    0    0    0    0    0    0    0\n",
      "     0    0    0    0    0    0    0    0    0    0    0    0    0    0\n",
      "     0    0    0    0    0    0    0    0    0    0    0    0    0    0\n",
      "     0    0    0    0    0    0    0    0    0    0    0    0    0    0\n",
      "     0    0    0    0    0    0    0    0    0    0    0    0    0    0\n",
      "     0    0]\n",
      " [  20   66   14   53  194  289   28    3    1  777 1984    2   17   10\n",
      "     1   42    3    5    0    0    0    0    0    0    0    0    0    0\n",
      "     0    0    0    0    0    0    0    0    0    0    0    0    0    0\n",
      "     0    0    0    0    0    0    0    0    0    0    0    0    0    0\n",
      "     0    0    0    0    0    0    0    0    0    0    0    0    0    0\n",
      "     0    0    0    0    0    0    0    0    0    0    0    0    0    0\n",
      "     0    0    0    0    0    0    0    0    0    0    0    0    0    0\n",
      "     0    0    0    0    0    0    0    0    0    0    0    0    0    0\n",
      "     0    0    0    0    0    0    0    0    0    0    0    0    0    0\n",
      "     0    0]]\n",
      "(4097,)\n",
      "[1 1 1]\n"
     ]
    }
   ],
   "source": [
    "X_train, y_train = getXYFromSentences(train_texts, train_labels)"
   ]
  },
  {
   "cell_type": "code",
   "execution_count": 33,
   "metadata": {
    "colab": {
     "base_uri": "https://localhost:8080/"
    },
    "executionInfo": {
     "elapsed": 9,
     "status": "ok",
     "timestamp": 1649938101516,
     "user": {
      "displayName": "Nora Youssef",
      "userId": "03639374922222745842"
     },
     "user_tz": -120
    },
    "id": "Uqx7WZ5Mlu1C",
    "outputId": "5a87bd9e-9d08-46b5-a3ad-719216eff487"
   },
   "outputs": [
    {
     "name": "stdout",
     "output_type": "stream",
     "text": [
      "(513, 128)\n",
      "[[2589 2590 3948  302  358   62  511    4    1    2    2   38  147   38\n",
      "  2149 1309    2   17 1865    5  516    0    0    0    0    0    0    0\n",
      "     0    0    0    0    0    0    0    0    0    0    0    0    0    0\n",
      "     0    0    0    0    0    0    0    0    0    0    0    0    0    0\n",
      "     0    0    0    0    0    0    0    0    0    0    0    0    0    0\n",
      "     0    0    0    0    0    0    0    0    0    0    0    0    0    0\n",
      "     0    0    0    0    0    0    0    0    0    0    0    0    0    0\n",
      "     0    0    0    0    0    0    0    0    0    0    0    0    0    0\n",
      "     0    0    0    0    0    0    0    0    0    0    0    0    0    0\n",
      "     0    0]\n",
      " [  21   20   66   14   61   26   82    3    2 1116   45 2350    5 1038\n",
      "     6  321    4 6450  206    0    0    0    0    0    0    0    0    0\n",
      "     0    0    0    0    0    0    0    0    0    0    0    0    0    0\n",
      "     0    0    0    0    0    0    0    0    0    0    0    0    0    0\n",
      "     0    0    0    0    0    0    0    0    0    0    0    0    0    0\n",
      "     0    0    0    0    0    0    0    0    0    0    0    0    0    0\n",
      "     0    0    0    0    0    0    0    0    0    0    0    0    0    0\n",
      "     0    0    0    0    0    0    0    0    0    0    0    0    0    0\n",
      "     0    0    0    0    0    0    0    0    0    0    0    0    0    0\n",
      "     0    0]\n",
      " [  89   12  121    7    1   49   32 3265   50    6 3266   76    3    1\n",
      "  2102 1444    2    2    3  140 2594  138 2040   65    8   56  327   45\n",
      "   202  684  202  434   29    1   13    3    5    4  544   93    0    0\n",
      "     0    0    0    0    0    0    0    0    0    0    0    0    0    0\n",
      "     0    0    0    0    0    0    0    0    0    0    0    0    0    0\n",
      "     0    0    0    0    0    0    0    0    0    0    0    0    0    0\n",
      "     0    0    0    0    0    0    0    0    0    0    0    0    0    0\n",
      "     0    0    0    0    0    0    0    0    0    0    0    0    0    0\n",
      "     0    0    0    0    0    0    0    0    0    0    0    0    0    0\n",
      "     0    0]]\n",
      "(513,)\n",
      "[1 0 1]\n"
     ]
    }
   ],
   "source": [
    "X_dev, y_dev = getXYFromSentences(dev_texts, dev_labels)"
   ]
  },
  {
   "cell_type": "code",
   "execution_count": 34,
   "metadata": {
    "colab": {
     "base_uri": "https://localhost:8080/"
    },
    "executionInfo": {
     "elapsed": 7,
     "status": "ok",
     "timestamp": 1649938101516,
     "user": {
      "displayName": "Nora Youssef",
      "userId": "03639374922222745842"
     },
     "user_tz": -120
    },
    "id": "vO2Ylt52cbpD",
    "outputId": "4bf09e92-dad9-47d2-c777-5eb1206cdb7a"
   },
   "outputs": [
    {
     "name": "stdout",
     "output_type": "stream",
     "text": [
      "(512, 128)\n",
      "[[  21   43   61    7    1    2    5   17   16   14   18   15    9   13\n",
      "     3  234   55    4    1   60   33    0    0    0    0    0    0    0\n",
      "     0    0    0    0    0    0    0    0    0    0    0    0    0    0\n",
      "     0    0    0    0    0    0    0    0    0    0    0    0    0    0\n",
      "     0    0    0    0    0    0    0    0    0    0    0    0    0    0\n",
      "     0    0    0    0    0    0    0    0    0    0    0    0    0    0\n",
      "     0    0    0    0    0    0    0    0    0    0    0    0    0    0\n",
      "     0    0    0    0    0    0    0    0    0    0    0    0    0    0\n",
      "     0    0    0    0    0    0    0    0    0    0    0    0    0    0\n",
      "     0    0]\n",
      " [   1   20   19    7    1    2    2   16   14   18   74    4    1  156\n",
      "     6    5    3  120    4    1   60   33    0    0    0    0    0    0\n",
      "     0    0    0    0    0    0    0    0    0    0    0    0    0    0\n",
      "     0    0    0    0    0    0    0    0    0    0    0    0    0    0\n",
      "     0    0    0    0    0    0    0    0    0    0    0    0    0    0\n",
      "     0    0    0    0    0    0    0    0    0    0    0    0    0    0\n",
      "     0    0    0    0    0    0    0    0    0    0    0    0    0    0\n",
      "     0    0    0    0    0    0    0    0    0    0    0    0    0    0\n",
      "     0    0    0    0    0    0    0    0    0    0    0    0    0    0\n",
      "     0    0]\n",
      " [  22   20   19    7 1375   11   96   55  817    1    2 1742   17   12\n",
      "    14    8   56   27   13   40   11    5    0    0    0    0    0    0\n",
      "     0    0    0    0    0    0    0    0    0    0    0    0    0    0\n",
      "     0    0    0    0    0    0    0    0    0    0    0    0    0    0\n",
      "     0    0    0    0    0    0    0    0    0    0    0    0    0    0\n",
      "     0    0    0    0    0    0    0    0    0    0    0    0    0    0\n",
      "     0    0    0    0    0    0    0    0    0    0    0    0    0    0\n",
      "     0    0    0    0    0    0    0    0    0    0    0    0    0    0\n",
      "     0    0    0    0    0    0    0    0    0    0    0    0    0    0\n",
      "     0    0]]\n",
      "(512,)\n",
      "[0 0 1]\n"
     ]
    }
   ],
   "source": [
    "X_test, y_test = getXYFromSentences(test_texts, test_labels)"
   ]
  },
  {
   "cell_type": "markdown",
   "metadata": {
    "id": "JmXgVQiFQVnN"
   },
   "source": [
    "## BiLSTM Model"
   ]
  },
  {
   "cell_type": "code",
   "execution_count": 35,
   "metadata": {
    "executionInfo": {
     "elapsed": 7,
     "status": "ok",
     "timestamp": 1649938101517,
     "user": {
      "displayName": "Nora Youssef",
      "userId": "03639374922222745842"
     },
     "user_tz": -120
    },
    "id": "ET2AHFutQNPY"
   },
   "outputs": [],
   "source": [
    "from keras import callbacks\n",
    "from keras.models import Model, Input, model_from_json\n",
    "from keras.layers import LSTM, Embedding, Dense, TimeDistributed, Dropout, Bidirectional\n",
    "from keras.optimizers import RMSprop"
   ]
  },
  {
   "cell_type": "code",
   "execution_count": 36,
   "metadata": {
    "executionInfo": {
     "elapsed": 7,
     "status": "ok",
     "timestamp": 1649938101517,
     "user": {
      "displayName": "Nora Youssef",
      "userId": "03639374922222745842"
     },
     "user_tz": -120
    },
    "id": "YHRrG7r7Qs-P"
   },
   "outputs": [],
   "source": [
    "def create_model():\n",
    "  input = Input(shape=(max_len,))\n",
    "  #in the line below --> laurance set the input_length = max_len-1 (NLP in TF Week4)\n",
    "  model = Embedding(input_dim=n_words, output_dim=50, input_length=max_len)(input)\n",
    "  model = Dropout(rate=0.1)(model)\n",
    "  model = Bidirectional(LSTM(units=100, return_sequences=False, recurrent_dropout=0.1))(model)\n",
    "  model = Dropout(rate=0.25)(model)\n",
    "  model = Dense(512, activation='relu')(model)  \n",
    "  model = Dropout(rate=0.25)(model)\n",
    "  out = Dense(1,  activation='sigmoid')(model)  # segmoid output layer (binary classification)\n",
    "  \n",
    "  return Model(input, out)"
   ]
  },
  {
   "cell_type": "code",
   "execution_count": 37,
   "metadata": {
    "colab": {
     "base_uri": "https://localhost:8080/"
    },
    "executionInfo": {
     "elapsed": 395,
     "status": "ok",
     "timestamp": 1649938101906,
     "user": {
      "displayName": "Nora Youssef",
      "userId": "03639374922222745842"
     },
     "user_tz": -120
    },
    "id": "v3oJQi__RZnw",
    "outputId": "469e8329-9a8b-4239-aff4-8504a6efd7f7"
   },
   "outputs": [
    {
     "name": "stdout",
     "output_type": "stream",
     "text": [
      "WARNING:tensorflow:From /tensorflow-1.15.2/python3.7/tensorflow_core/python/ops/resource_variable_ops.py:1630: calling BaseResourceVariable.__init__ (from tensorflow.python.ops.resource_variable_ops) with constraint is deprecated and will be removed in a future version.\n",
      "Instructions for updating:\n",
      "If using Keras pass *_constraint arguments to layers.\n"
     ]
    }
   ],
   "source": [
    "model = create_model()\n",
    "#model = load_model()"
   ]
  },
  {
   "cell_type": "code",
   "execution_count": 38,
   "metadata": {
    "colab": {
     "base_uri": "https://localhost:8080/"
    },
    "executionInfo": {
     "elapsed": 5,
     "status": "ok",
     "timestamp": 1649938101906,
     "user": {
      "displayName": "Nora Youssef",
      "userId": "03639374922222745842"
     },
     "user_tz": -120
    },
    "id": "tmgovNJTbxBO",
    "outputId": "37f7841b-a5da-4125-a928-65c44fb40a63"
   },
   "outputs": [
    {
     "name": "stdout",
     "output_type": "stream",
     "text": [
      "Model: \"model_1\"\n",
      "_________________________________________________________________\n",
      "Layer (type)                 Output Shape              Param #   \n",
      "=================================================================\n",
      "input_1 (InputLayer)         (None, 128)               0         \n",
      "_________________________________________________________________\n",
      "embedding_1 (Embedding)      (None, 128, 50)           337200    \n",
      "_________________________________________________________________\n",
      "dropout_1 (Dropout)          (None, 128, 50)           0         \n",
      "_________________________________________________________________\n",
      "bidirectional_1 (Bidirection (None, 200)               120800    \n",
      "_________________________________________________________________\n",
      "dropout_2 (Dropout)          (None, 200)               0         \n",
      "_________________________________________________________________\n",
      "dense_1 (Dense)              (None, 512)               102912    \n",
      "_________________________________________________________________\n",
      "dropout_3 (Dropout)          (None, 512)               0         \n",
      "_________________________________________________________________\n",
      "dense_2 (Dense)              (None, 1)                 513       \n",
      "=================================================================\n",
      "Total params: 561,425\n",
      "Trainable params: 561,425\n",
      "Non-trainable params: 0\n",
      "_________________________________________________________________\n"
     ]
    }
   ],
   "source": [
    "model.summary()"
   ]
  },
  {
   "cell_type": "code",
   "execution_count": 39,
   "metadata": {
    "executionInfo": {
     "elapsed": 5,
     "status": "ok",
     "timestamp": 1649938101907,
     "user": {
      "displayName": "Nora Youssef",
      "userId": "03639374922222745842"
     },
     "user_tz": -120
    },
    "id": "eaCVxITis-M0"
   },
   "outputs": [],
   "source": [
    "from tensorflow.keras.losses import BinaryCrossentropy"
   ]
  },
  {
   "cell_type": "code",
   "execution_count": 40,
   "metadata": {
    "colab": {
     "base_uri": "https://localhost:8080/"
    },
    "executionInfo": {
     "elapsed": 512,
     "status": "ok",
     "timestamp": 1649938102414,
     "user": {
      "displayName": "Nora Youssef",
      "userId": "03639374922222745842"
     },
     "user_tz": -120
    },
    "id": "qqtT84Q3RvEa",
    "outputId": "daf94127-e433-4d21-9311-51d5c408c822"
   },
   "outputs": [
    {
     "name": "stdout",
     "output_type": "stream",
     "text": [
      "WARNING:tensorflow:From /tensorflow-1.15.2/python3.7/tensorflow_core/python/ops/nn_impl.py:183: where (from tensorflow.python.ops.array_ops) is deprecated and will be removed in a future version.\n",
      "Instructions for updating:\n",
      "Use tf.where in 2.0, which has the same broadcast rule as np.where\n"
     ]
    }
   ],
   "source": [
    "model.compile(optimizer=RMSprop(),loss=BinaryCrossentropy(reduction='sum_over_batch_size'), metrics=[\"accuracy\"])\n",
    "# model.compile(optimizer=RMSprop(),loss=BinaryCrossentropy(reduction='none'), metrics=[\"accuracy\"])\n",
    "# model.compile(optimizer=RMSprop(),loss=\"mse\", metrics=[\"accuracy\"])"
   ]
  },
  {
   "cell_type": "code",
   "execution_count": 41,
   "metadata": {
    "executionInfo": {
     "elapsed": 2,
     "status": "ok",
     "timestamp": 1649938102414,
     "user": {
      "displayName": "Nora Youssef",
      "userId": "03639374922222745842"
     },
     "user_tz": -120
    },
    "id": "Tuq9TL_hhba9"
   },
   "outputs": [],
   "source": [
    "class myCallback(callbacks.Callback):\n",
    "  def on_epoch_end(self, epoch, logs={}):\n",
    "    if(logs.get('accuracy')>=0.989):\n",
    "      print(\"\\nReached 98.9% accuracy so cancelling training!\")\n",
    "      self.model.stop_training = True\n",
    " "
   ]
  },
  {
   "cell_type": "code",
   "execution_count": 42,
   "metadata": {
    "colab": {
     "base_uri": "https://localhost:8080/"
    },
    "executionInfo": {
     "elapsed": 328059,
     "status": "ok",
     "timestamp": 1649938430472,
     "user": {
      "displayName": "Nora Youssef",
      "userId": "03639374922222745842"
     },
     "user_tz": -120
    },
    "id": "87AaEwD8RyHe",
    "outputId": "938ade20-cf86-4711-abeb-8460064e7ebc"
   },
   "outputs": [
    {
     "name": "stdout",
     "output_type": "stream",
     "text": [
      "WARNING:tensorflow:From /tensorflow-1.15.2/python3.7/keras/backend/tensorflow_backend.py:422: The name tf.global_variables is deprecated. Please use tf.compat.v1.global_variables instead.\n",
      "\n",
      "Train on 4097 samples, validate on 513 samples\n",
      "Epoch 1/10\n",
      "4097/4097 [==============================] - 33s 8ms/step - loss: 0.6849 - accuracy: 0.5465 - val_loss: 0.6855 - val_accuracy: 0.5536\n",
      "Epoch 2/10\n",
      "4097/4097 [==============================] - 34s 8ms/step - loss: 0.6232 - accuracy: 0.6471 - val_loss: 0.7271 - val_accuracy: 0.5556\n",
      "Epoch 3/10\n",
      "4097/4097 [==============================] - 32s 8ms/step - loss: 0.5414 - accuracy: 0.7300 - val_loss: 0.7493 - val_accuracy: 0.5692\n",
      "Epoch 4/10\n",
      "4097/4097 [==============================] - 32s 8ms/step - loss: 0.4775 - accuracy: 0.7776 - val_loss: 0.7610 - val_accuracy: 0.5595\n",
      "Epoch 5/10\n",
      "4097/4097 [==============================] - 32s 8ms/step - loss: 0.4285 - accuracy: 0.8084 - val_loss: 0.8192 - val_accuracy: 0.5789\n",
      "Epoch 6/10\n",
      "4097/4097 [==============================] - 32s 8ms/step - loss: 0.3970 - accuracy: 0.8228 - val_loss: 0.8364 - val_accuracy: 0.5731\n",
      "Epoch 7/10\n",
      "4097/4097 [==============================] - 32s 8ms/step - loss: 0.3653 - accuracy: 0.8406 - val_loss: 1.1564 - val_accuracy: 0.6160\n",
      "Epoch 8/10\n",
      "4097/4097 [==============================] - 32s 8ms/step - loss: 0.3336 - accuracy: 0.8633 - val_loss: 0.8624 - val_accuracy: 0.5926\n",
      "Epoch 9/10\n",
      "4097/4097 [==============================] - 32s 8ms/step - loss: 0.3187 - accuracy: 0.8658 - val_loss: 1.0637 - val_accuracy: 0.5906\n",
      "Epoch 10/10\n",
      "4097/4097 [==============================] - 32s 8ms/step - loss: 0.3067 - accuracy: 0.8716 - val_loss: 0.9269 - val_accuracy: 0.5712\n"
     ]
    }
   ],
   "source": [
    "history = model.fit(X_train, y_train, validation_data=(X_dev, y_dev), shuffle=True, batch_size=32, epochs=10, verbose=1, callbacks=[myCallback()])"
   ]
  },
  {
   "cell_type": "code",
   "execution_count": 43,
   "metadata": {
    "colab": {
     "base_uri": "https://localhost:8080/"
    },
    "executionInfo": {
     "elapsed": 11,
     "status": "ok",
     "timestamp": 1649938430472,
     "user": {
      "displayName": "Nora Youssef",
      "userId": "03639374922222745842"
     },
     "user_tz": -120
    },
    "id": "9_9TMZn28J7f",
    "outputId": "978120ff-5eaf-4139-cd66-1e7d10c8a7f8"
   },
   "outputs": [
    {
     "name": "stdout",
     "output_type": "stream",
     "text": [
      "Saved model to disk\n"
     ]
    }
   ],
   "source": [
    "save_model(model)"
   ]
  },
  {
   "cell_type": "code",
   "execution_count": 44,
   "metadata": {
    "executionInfo": {
     "elapsed": 4,
     "status": "ok",
     "timestamp": 1649938430472,
     "user": {
      "displayName": "Nora Youssef",
      "userId": "03639374922222745842"
     },
     "user_tz": -120
    },
    "id": "-74jERJeS6QM"
   },
   "outputs": [],
   "source": [
    "hist = pd.DataFrame(history.history)"
   ]
  },
  {
   "cell_type": "code",
   "execution_count": 45,
   "metadata": {
    "executionInfo": {
     "elapsed": 3,
     "status": "ok",
     "timestamp": 1649938430473,
     "user": {
      "displayName": "Nora Youssef",
      "userId": "03639374922222745842"
     },
     "user_tz": -120
    },
    "id": "3-ERn4Rc9J4_"
   },
   "outputs": [],
   "source": [
    "saveDataFrameToCSV(hist, training_history_csv, append=True)\n",
    " "
   ]
  },
  {
   "cell_type": "code",
   "execution_count": 46,
   "metadata": {
    "colab": {
     "base_uri": "https://localhost:8080/",
     "height": 717
    },
    "executionInfo": {
     "elapsed": 786,
     "status": "ok",
     "timestamp": 1649938431256,
     "user": {
      "displayName": "Nora Youssef",
      "userId": "03639374922222745842"
     },
     "user_tz": -120
    },
    "id": "MwJX2aS2W8Tf",
    "outputId": "94d1f693-caaa-411e-a9ca-9f5a2798f22b"
   },
   "outputs": [
    {
     "data": {
      "image/png": "[encoded data removed]",
      "text/plain": [
       "<Figure size 864x864 with 1 Axes>"
      ]
     },
     "metadata": {},
     "output_type": "display_data"
    }
   ],
   "source": [
    "plt.figure(figsize=(12,12))\n",
    "plt.plot(hist[\"accuracy\"], label=\"accuracy\")\n",
    "plt.plot(hist[\"val_accuracy\"], label=\"val_accuracy\")\n",
    "plt.title('Training and Validation Accuracy')\n",
    "plt.legend()\n",
    "plt.show()"
   ]
  },
  {
   "cell_type": "markdown",
   "metadata": {
    "id": "QZ9IBOOJjfcA"
   },
   "source": [
    "## Evaluation"
   ]
  },
  {
   "cell_type": "code",
   "execution_count": 47,
   "metadata": {
    "colab": {
     "base_uri": "https://localhost:8080/"
    },
    "executionInfo": {
     "elapsed": 1572,
     "status": "ok",
     "timestamp": 1649938432818,
     "user": {
      "displayName": "Nora Youssef",
      "userId": "03639374922222745842"
     },
     "user_tz": -120
    },
    "id": "cBKRFu1dl2JD",
    "outputId": "c1eb6922-e63c-4086-9f79-f6e48e9b3609"
   },
   "outputs": [
    {
     "name": "stdout",
     "output_type": "stream",
     "text": [
      "512/512 [==============================] - 2s 4ms/step\n"
     ]
    },
    {
     "data": {
      "text/plain": [
       "[0.830559141933918, 0.658203125]"
      ]
     },
     "execution_count": 47,
     "metadata": {},
     "output_type": "execute_result"
    }
   ],
   "source": [
    "model.evaluate(x=X_test, y=y_test, batch_size=32, verbose=1)"
   ]
  },
  {
   "cell_type": "code",
   "execution_count": 48,
   "metadata": {
    "colab": {
     "base_uri": "https://localhost:8080/"
    },
    "executionInfo": {
     "elapsed": 1703,
     "status": "ok",
     "timestamp": 1649938434519,
     "user": {
      "displayName": "Nora Youssef",
      "userId": "03639374922222745842"
     },
     "user_tz": -120
    },
    "id": "fumZ3CdQeEGM",
    "outputId": "684982a5-e8c6-4cb4-f786-a427ac87d310"
   },
   "outputs": [
    {
     "name": "stdout",
     "output_type": "stream",
     "text": [
      "512/512 [==============================] - 2s 4ms/step\n"
     ]
    }
   ],
   "source": [
    "test_pred = model.predict(X_test, verbose=1)"
   ]
  },
  {
   "cell_type": "code",
   "execution_count": 49,
   "metadata": {
    "executionInfo": {
     "elapsed": 5,
     "status": "ok",
     "timestamp": 1649938434520,
     "user": {
      "displayName": "Nora Youssef",
      "userId": "03639374922222745842"
     },
     "user_tz": -120
    },
    "id": "zEFnBWkieXLT"
   },
   "outputs": [],
   "source": [
    "pred_labels = [ 1 if t >= 0.5 else 0 for t in test_pred]"
   ]
  },
  {
   "cell_type": "code",
   "execution_count": 50,
   "metadata": {
    "colab": {
     "base_uri": "https://localhost:8080/"
    },
    "executionInfo": {
     "elapsed": 563,
     "status": "ok",
     "timestamp": 1649938435079,
     "user": {
      "displayName": "Nora Youssef",
      "userId": "03639374922222745842"
     },
     "user_tz": -120
    },
    "id": "NGAEJyuTwjQb",
    "outputId": "2f30b057-70dc-4c98-a3d9-fbdbc0af326a"
   },
   "outputs": [
    {
     "data": {
      "text/plain": [
       "array([[0.06830359],\n",
       "       [0.30851483],\n",
       "       [0.88923836],\n",
       "       [0.74985445],\n",
       "       [0.51577264],\n",
       "       [0.96697724],\n",
       "       [0.6502274 ],\n",
       "       [0.08289278],\n",
       "       [0.01255524],\n",
       "       [0.5194386 ]], dtype=float32)"
      ]
     },
     "execution_count": 50,
     "metadata": {},
     "output_type": "execute_result"
    }
   ],
   "source": [
    "test_pred[0:10]"
   ]
  },
  {
   "cell_type": "code",
   "execution_count": 51,
   "metadata": {
    "colab": {
     "base_uri": "https://localhost:8080/"
    },
    "executionInfo": {
     "elapsed": 4,
     "status": "ok",
     "timestamp": 1649938435079,
     "user": {
      "displayName": "Nora Youssef",
      "userId": "03639374922222745842"
     },
     "user_tz": -120
    },
    "id": "KQt2MDKLwmla",
    "outputId": "6ead224c-9663-44d0-fa7b-e9dad89244c4"
   },
   "outputs": [
    {
     "data": {
      "text/plain": [
       "[0, 0, 1, 1, 1, 1, 1, 0, 0, 1]"
      ]
     },
     "execution_count": 51,
     "metadata": {},
     "output_type": "execute_result"
    }
   ],
   "source": [
    "pred_labels[0:10]"
   ]
  },
  {
   "cell_type": "code",
   "execution_count": 52,
   "metadata": {
    "colab": {
     "base_uri": "https://localhost:8080/"
    },
    "executionInfo": {
     "elapsed": 5,
     "status": "ok",
     "timestamp": 1649938435080,
     "user": {
      "displayName": "Nora Youssef",
      "userId": "03639374922222745842"
     },
     "user_tz": -120
    },
    "id": "mt4P--j33UQu",
    "outputId": "c7702bef-53de-408e-cc0c-de0ba13959e6"
   },
   "outputs": [
    {
     "data": {
      "text/plain": [
       "[0, 0, 1, 0, 0, 0, 1, 0, 0, 1]"
      ]
     },
     "execution_count": 52,
     "metadata": {},
     "output_type": "execute_result"
    }
   ],
   "source": [
    "test_labels[0:10]"
   ]
  },
  {
   "cell_type": "code",
   "execution_count": 53,
   "metadata": {
    "executionInfo": {
     "elapsed": 548,
     "status": "ok",
     "timestamp": 1649938435625,
     "user": {
      "displayName": "Nora Youssef",
      "userId": "03639374922222745842"
     },
     "user_tz": -120
    },
    "id": "t7_7c_lldqQC"
   },
   "outputs": [],
   "source": [
    "from classification_metrics import classification_report, replaceMultiple"
   ]
  },
  {
   "cell_type": "code",
   "execution_count": 54,
   "metadata": {
    "colab": {
     "base_uri": "https://localhost:8080/"
    },
    "executionInfo": {
     "elapsed": 6,
     "status": "ok",
     "timestamp": 1649938435625,
     "user": {
      "displayName": "Nora Youssef",
      "userId": "03639374922222745842"
     },
     "user_tz": -120
    },
    "id": "V7DB9mm5yCgL",
    "outputId": "5b3bb2ed-97cd-4496-9b14-e669998dc433"
   },
   "outputs": [
    {
     "name": "stdout",
     "output_type": "stream",
     "text": [
      "                        precision \t recall \t f1-score \t support\n",
      "\n",
      "                   0\t 0.69\t\t 0.59\t\t 0.64\t\t 259\t\n",
      "                   1\t 0.64\t\t 0.72\t\t 0.68\t\t 253\t\n",
      "\n",
      "\n",
      "macro avg           \t 0.66\t\t 0.66\t\t 0.66\t\t 512\t\n",
      "micro avg           \t 0.66\t\t 0.66\t\t 0.66\t\t 512\t\n",
      "\n"
     ]
    }
   ],
   "source": [
    "print(classification_report(test_labels, pred_labels))"
   ]
  },
  {
   "cell_type": "code",
   "execution_count": 54,
   "metadata": {
    "executionInfo": {
     "elapsed": 5,
     "status": "ok",
     "timestamp": 1649938435625,
     "user": {
      "displayName": "Nora Youssef",
      "userId": "03639374922222745842"
     },
     "user_tz": -120
    },
    "id": "uTPXtRpfygTs"
   },
   "outputs": [],
   "source": []
  }
 ],
 "metadata": {
  "accelerator": "GPU",
  "colab": {
   "collapsed_sections": [],
   "name": "BiLSTM_GAD.ipynb",
   "provenance": []
  },
  "kernelspec": {
   "display_name": "Python 3",
   "language": "python",
   "name": "python3"
  },
  "language_info": {
   "codemirror_mode": {
    "name": "ipython",
    "version": 3
   },
   "file_extension": ".py",
   "mimetype": "text/x-python",
   "name": "python",
   "nbconvert_exporter": "python",
   "pygments_lexer": "ipython3",
   "version": "3.6.6"
  }
 },
 "nbformat": 4,
 "nbformat_minor": 1
}
