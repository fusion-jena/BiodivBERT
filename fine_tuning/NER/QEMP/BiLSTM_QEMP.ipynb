{
 "cells": [
  {
   "cell_type": "code",
   "execution_count": 1,
   "metadata": {
    "colab": {
     "base_uri": "https://localhost:8080/"
    },
    "executionInfo": {
     "elapsed": 1494,
     "status": "ok",
     "timestamp": 1618913546249,
     "user": {
      "displayName": "Nora Youssef",
      "photoUrl": "https://lh3.googleusercontent.com/a-/AOh14Gh19ItlHeTVHtX3vVHmSuo4td2e1IhspMVCgQCZPw=s64",
      "userId": "03639374922222745842"
     },
     "user_tz": -120
    },
    "id": "sbkgVkuDmTDZ",
    "outputId": "eaca65ce-89d3-4d8e-f5dd-7d4bbf341bd5"
   },
   "outputs": [
    {
     "name": "stdout",
     "output_type": "stream",
     "text": [
      "TensorFlow 1.x selected.\n"
     ]
    }
   ],
   "source": [
    "%tensorflow_version 1.x"
   ]
  },
  {
   "cell_type": "code",
   "execution_count": 2,
   "metadata": {
    "colab": {
     "base_uri": "https://localhost:8080/"
    },
    "executionInfo": {
     "elapsed": 20652,
     "status": "ok",
     "timestamp": 1618913565553,
     "user": {
      "displayName": "Nora Youssef",
      "photoUrl": "https://lh3.googleusercontent.com/a-/AOh14Gh19ItlHeTVHtX3vVHmSuo4td2e1IhspMVCgQCZPw=s64",
      "userId": "03639374922222745842"
     },
     "user_tz": -120
    },
    "id": "TNeeSq0SLU8A",
    "outputId": "6b2381d2-c222-43b4-f4e6-b98724f777c6"
   },
   "outputs": [
    {
     "name": "stdout",
     "output_type": "stream",
     "text": [
      "Mounted at /content/drive\n"
     ]
    }
   ],
   "source": [
    "# Load the Drive helper and mount\n",
    "from google.colab import drive\n",
    "drive.mount('/content/drive')"
   ]
  },
  {
   "cell_type": "code",
   "execution_count": 3,
   "metadata": {
    "colab": {
     "base_uri": "https://localhost:8080/"
    },
    "executionInfo": {
     "elapsed": 21037,
     "status": "ok",
     "timestamp": 1618913565953,
     "user": {
      "displayName": "Nora Youssef",
      "photoUrl": "https://lh3.googleusercontent.com/a-/AOh14Gh19ItlHeTVHtX3vVHmSuo4td2e1IhspMVCgQCZPw=s64",
      "userId": "03639374922222745842"
     },
     "user_tz": -120
    },
    "id": "qcsYD2yEMVkc",
    "outputId": "bbddb959-58eb-42c6-9945-d6432deb2b27"
   },
   "outputs": [
    {
     "name": "stdout",
     "output_type": "stream",
     "text": [
      "/content/drive/My Drive/Colab Notebooks/BERT-QEMP\n"
     ]
    }
   ],
   "source": [
    "cd \"/content/drive/My Drive/Colab Notebooks/BERT-QEMP/\""
   ]
  },
  {
   "cell_type": "code",
   "execution_count": 4,
   "metadata": {
    "executionInfo": {
     "elapsed": 21035,
     "status": "ok",
     "timestamp": 1618913565954,
     "user": {
      "displayName": "Nora Youssef",
      "photoUrl": "https://lh3.googleusercontent.com/a-/AOh14Gh19ItlHeTVHtX3vVHmSuo4td2e1IhspMVCgQCZPw=s64",
      "userId": "03639374922222745842"
     },
     "user_tz": -120
    },
    "id": "R4YFOyhD8l_1"
   },
   "outputs": [],
   "source": [
    "import os"
   ]
  },
  {
   "cell_type": "code",
   "execution_count": 5,
   "metadata": {
    "executionInfo": {
     "elapsed": 21034,
     "status": "ok",
     "timestamp": 1618913565955,
     "user": {
      "displayName": "Nora Youssef",
      "photoUrl": "https://lh3.googleusercontent.com/a-/AOh14Gh19ItlHeTVHtX3vVHmSuo4td2e1IhspMVCgQCZPw=s64",
      "userId": "03639374922222745842"
     },
     "user_tz": -120
    },
    "id": "awapx8haNr-U"
   },
   "outputs": [],
   "source": [
    "root_dir = \"/content/drive/My Drive/Colab Notebooks/BERT-QEMP/\"\n",
    "\n",
    "root_data_dir = os.path.join(root_dir, \"datasets\", \"QEMP\")\n",
    "\n",
    "dataset = \"train\"\n",
    "csv_file_path = \"train.csv\"\n",
    "\n",
    "offline_model_file = os.path.join(root_dir, \"BiLSTM-QEMP-model\")\n",
    "training_history_csv = \"training_history.csv\""
   ]
  },
  {
   "cell_type": "markdown",
   "metadata": {
    "id": "eQFFmGZG-X05"
   },
   "source": [
    "## Utils"
   ]
  },
  {
   "cell_type": "code",
   "execution_count": 6,
   "metadata": {
    "executionInfo": {
     "elapsed": 21033,
     "status": "ok",
     "timestamp": 1618913565956,
     "user": {
      "displayName": "Nora Youssef",
      "photoUrl": "https://lh3.googleusercontent.com/a-/AOh14Gh19ItlHeTVHtX3vVHmSuo4td2e1IhspMVCgQCZPw=s64",
      "userId": "03639374922222745842"
     },
     "user_tz": -120
    },
    "id": "8LihPGwb92iK"
   },
   "outputs": [],
   "source": [
    "def load_model():\n",
    "    json_file = open(offline_model_file+\".json\", 'r')\n",
    "    loaded_model_json = json_file.read()\n",
    "    json_file.close()\n",
    "    new_model = model_from_json(loaded_model_json)\n",
    "    # load weights into new model\n",
    "    new_model.load_weights(offline_model_file+\".h5\")\n",
    "    print(\"Loaded model from disk\")\n",
    "    return new_model"
   ]
  },
  {
   "cell_type": "code",
   "execution_count": 7,
   "metadata": {
    "executionInfo": {
     "elapsed": 21031,
     "status": "ok",
     "timestamp": 1618913565956,
     "user": {
      "displayName": "Nora Youssef",
      "photoUrl": "https://lh3.googleusercontent.com/a-/AOh14Gh19ItlHeTVHtX3vVHmSuo4td2e1IhspMVCgQCZPw=s64",
      "userId": "03639374922222745842"
     },
     "user_tz": -120
    },
    "id": "WaGNPxjM98Ds"
   },
   "outputs": [],
   "source": [
    "def save_model(model):\n",
    "    # serialize model to JSON\n",
    "    model_json = model.to_json()\n",
    "    \n",
    "    with open(offline_model_file+\".json\", \"w\") as json_file:\n",
    "        json_file.write(model_json)\n",
    "    # serialize weights to HDF5\n",
    "    model.save_weights(offline_model_file+\".h5\")\n",
    "    print(\"Saved model to disk\")"
   ]
  },
  {
   "cell_type": "code",
   "execution_count": 8,
   "metadata": {
    "executionInfo": {
     "elapsed": 21030,
     "status": "ok",
     "timestamp": 1618913565957,
     "user": {
      "displayName": "Nora Youssef",
      "photoUrl": "https://lh3.googleusercontent.com/a-/AOh14Gh19ItlHeTVHtX3vVHmSuo4td2e1IhspMVCgQCZPw=s64",
      "userId": "03639374922222745842"
     },
     "user_tz": -120
    },
    "id": "sF6IG8FM8WqT"
   },
   "outputs": [],
   "source": [
    "def saveDataFrameToCSV(pd1, csv_path, append):  \n",
    "  dataset_path = os.path.join(root_dir, csv_path)  \n",
    "  \n",
    "  if append:\n",
    "    with open(dataset_path, 'a+') as f:    \n",
    "      pd1.to_csv(dataset_path,  mode='a', index=False, header=False)    \n",
    "  else:\n",
    "    with open(dataset_path, 'a+') as f:    \n",
    "      pd1.to_csv(dataset_path,  mode='a', index=False, header=True)"
   ]
  },
  {
   "cell_type": "markdown",
   "metadata": {
    "id": "10yeK7623aaY"
   },
   "source": [
    "## Dataset Preprocessing\n"
   ]
  },
  {
   "cell_type": "code",
   "execution_count": 9,
   "metadata": {
    "executionInfo": {
     "elapsed": 21029,
     "status": "ok",
     "timestamp": 1618913565958,
     "user": {
      "displayName": "Nora Youssef",
      "photoUrl": "https://lh3.googleusercontent.com/a-/AOh14Gh19ItlHeTVHtX3vVHmSuo4td2e1IhspMVCgQCZPw=s64",
      "userId": "03639374922222745842"
     },
     "user_tz": -120
    },
    "id": "GT1NMGBw3aaU"
   },
   "outputs": [],
   "source": [
    "import os\n",
    "import pandas as pd\n",
    "import numpy as np"
   ]
  },
  {
   "cell_type": "code",
   "execution_count": 10,
   "metadata": {
    "executionInfo": {
     "elapsed": 21029,
     "status": "ok",
     "timestamp": 1618913565959,
     "user": {
      "displayName": "Nora Youssef",
      "photoUrl": "https://lh3.googleusercontent.com/a-/AOh14Gh19ItlHeTVHtX3vVHmSuo4td2e1IhspMVCgQCZPw=s64",
      "userId": "03639374922222745842"
     },
     "user_tz": -120
    },
    "id": "ybHlNSgxcwL1"
   },
   "outputs": [],
   "source": [
    "def loadData(csv_file_path):\n",
    "  dataset_path = os.path.join(root_data_dir, csv_file_path)\n",
    "  data = pd.read_csv(dataset_path, encoding=\"latin1\")\n",
    "  data = data.fillna(method=\"ffill\")\n",
    "  return data"
   ]
  },
  {
   "cell_type": "code",
   "execution_count": 11,
   "metadata": {
    "executionInfo": {
     "elapsed": 21027,
     "status": "ok",
     "timestamp": 1618913565959,
     "user": {
      "displayName": "Nora Youssef",
      "photoUrl": "https://lh3.googleusercontent.com/a-/AOh14Gh19ItlHeTVHtX3vVHmSuo4td2e1IhspMVCgQCZPw=s64",
      "userId": "03639374922222745842"
     },
     "user_tz": -120
    },
    "id": "cTEqN_U_3aZ3"
   },
   "outputs": [],
   "source": [
    "class SentenceGetter(object):\n",
    "    \n",
    "    def __init__(self, data):\n",
    "        self.n_sent = 1\n",
    "        self.data = data\n",
    "        self.empty = False\n",
    "        agg_func = lambda s: [(w, t) for w, t in zip(s[\"Word\"].values.tolist(),                                                          \n",
    "                                                        s[\"Tag\"].values.tolist())]\n",
    "        self.grouped = self.data.groupby(\"Sentence #\").apply(agg_func)\n",
    "        self.sentences = [s for s in self.grouped]\n",
    "    \n",
    "    def get_next(self):\n",
    "        try:\n",
    "            s = self.grouped[\"Sentence: {}\".format(self.n_sent)]\n",
    "            self.n_sent += 1\n",
    "            return s\n",
    "        except:\n",
    "            return None"
   ]
  },
  {
   "cell_type": "code",
   "execution_count": 12,
   "metadata": {
    "executionInfo": {
     "elapsed": 22056,
     "status": "ok",
     "timestamp": 1618913566990,
     "user": {
      "displayName": "Nora Youssef",
      "photoUrl": "https://lh3.googleusercontent.com/a-/AOh14Gh19ItlHeTVHtX3vVHmSuo4td2e1IhspMVCgQCZPw=s64",
      "userId": "03639374922222745842"
     },
     "user_tz": -120
    },
    "id": "DdpwuNQtpOk0"
   },
   "outputs": [],
   "source": [
    "data = loadData(csv_file_path)"
   ]
  },
  {
   "cell_type": "code",
   "execution_count": 13,
   "metadata": {
    "colab": {
     "base_uri": "https://localhost:8080/",
     "height": 355
    },
    "executionInfo": {
     "elapsed": 22058,
     "status": "ok",
     "timestamp": 1618913567004,
     "user": {
      "displayName": "Nora Youssef",
      "photoUrl": "https://lh3.googleusercontent.com/a-/AOh14Gh19ItlHeTVHtX3vVHmSuo4td2e1IhspMVCgQCZPw=s64",
      "userId": "03639374922222745842"
     },
     "user_tz": -120
    },
    "id": "nXOClRlWsKZE",
    "outputId": "444833f1-0600-475d-f7b0-7450ae6c2d6b"
   },
   "outputs": [
    {
     "data": {
      "text/html": [
       "<div>\n",
       "<style scoped>\n",
       "    .dataframe tbody tr th:only-of-type {\n",
       "        vertical-align: middle;\n",
       "    }\n",
       "\n",
       "    .dataframe tbody tr th {\n",
       "        vertical-align: top;\n",
       "    }\n",
       "\n",
       "    .dataframe thead th {\n",
       "        text-align: right;\n",
       "    }\n",
       "</style>\n",
       "<table border=\"1\" class=\"dataframe\">\n",
       "  <thead>\n",
       "    <tr style=\"text-align: right;\">\n",
       "      <th></th>\n",
       "      <th>Sentence #</th>\n",
       "      <th>Word</th>\n",
       "      <th>Tag</th>\n",
       "    </tr>\n",
       "  </thead>\n",
       "  <tbody>\n",
       "    <tr>\n",
       "      <th>0</th>\n",
       "      <td>Sentence: 1</td>\n",
       "      <td>C</td>\n",
       "      <td>O</td>\n",
       "    </tr>\n",
       "    <tr>\n",
       "      <th>1</th>\n",
       "      <td>Sentence: 1</td>\n",
       "      <td>carbon</td>\n",
       "      <td>O</td>\n",
       "    </tr>\n",
       "    <tr>\n",
       "      <th>2</th>\n",
       "      <td>Sentence: 1</td>\n",
       "      <td>C/N</td>\n",
       "      <td>O</td>\n",
       "    </tr>\n",
       "    <tr>\n",
       "      <th>3</th>\n",
       "      <td>Sentence: 1</td>\n",
       "      <td>ratio</td>\n",
       "      <td>B-Quality</td>\n",
       "    </tr>\n",
       "    <tr>\n",
       "      <th>4</th>\n",
       "      <td>Sentence: 1</td>\n",
       "      <td>CSP</td>\n",
       "      <td>O</td>\n",
       "    </tr>\n",
       "    <tr>\n",
       "      <th>5</th>\n",
       "      <td>Sentence: 1</td>\n",
       "      <td>N</td>\n",
       "      <td>O</td>\n",
       "    </tr>\n",
       "    <tr>\n",
       "      <th>6</th>\n",
       "      <td>Sentence: 1</td>\n",
       "      <td>nitrogen</td>\n",
       "      <td>O</td>\n",
       "    </tr>\n",
       "    <tr>\n",
       "      <th>7</th>\n",
       "      <td>Sentence: 1</td>\n",
       "      <td>pH</td>\n",
       "      <td>B-Quality</td>\n",
       "    </tr>\n",
       "    <tr>\n",
       "      <th>8</th>\n",
       "      <td>Sentence: 1</td>\n",
       "      <td>S</td>\n",
       "      <td>B-Quality</td>\n",
       "    </tr>\n",
       "    <tr>\n",
       "      <th>9</th>\n",
       "      <td>Sentence: 1</td>\n",
       "      <td>SOC</td>\n",
       "      <td>O</td>\n",
       "    </tr>\n",
       "  </tbody>\n",
       "</table>\n",
       "</div>"
      ],
      "text/plain": [
       "    Sentence #      Word        Tag\n",
       "0  Sentence: 1         C          O\n",
       "1  Sentence: 1    carbon          O\n",
       "2  Sentence: 1       C/N          O\n",
       "3  Sentence: 1     ratio  B-Quality\n",
       "4  Sentence: 1       CSP          O\n",
       "5  Sentence: 1         N          O\n",
       "6  Sentence: 1  nitrogen          O\n",
       "7  Sentence: 1        pH  B-Quality\n",
       "8  Sentence: 1         S  B-Quality\n",
       "9  Sentence: 1       SOC          O"
      ]
     },
     "execution_count": 13,
     "metadata": {
      "tags": []
     },
     "output_type": "execute_result"
    }
   ],
   "source": [
    "data.head(10)"
   ]
  },
  {
   "cell_type": "code",
   "execution_count": 14,
   "metadata": {
    "executionInfo": {
     "elapsed": 22392,
     "status": "ok",
     "timestamp": 1618913567343,
     "user": {
      "displayName": "Nora Youssef",
      "photoUrl": "https://lh3.googleusercontent.com/a-/AOh14Gh19ItlHeTVHtX3vVHmSuo4td2e1IhspMVCgQCZPw=s64",
      "userId": "03639374922222745842"
     },
     "user_tz": -120
    },
    "id": "9IdHVyeXvDaX"
   },
   "outputs": [],
   "source": [
    "test_data =  loadData(\"test.csv\")"
   ]
  },
  {
   "cell_type": "code",
   "execution_count": 15,
   "metadata": {
    "colab": {
     "base_uri": "https://localhost:8080/",
     "height": 355
    },
    "executionInfo": {
     "elapsed": 22381,
     "status": "ok",
     "timestamp": 1618913567344,
     "user": {
      "displayName": "Nora Youssef",
      "photoUrl": "https://lh3.googleusercontent.com/a-/AOh14Gh19ItlHeTVHtX3vVHmSuo4td2e1IhspMVCgQCZPw=s64",
      "userId": "03639374922222745842"
     },
     "user_tz": -120
    },
    "id": "6RoM6YevsjB1",
    "outputId": "42cf44d7-30e8-4085-ee9b-c81edab6e57e"
   },
   "outputs": [
    {
     "data": {
      "text/html": [
       "<div>\n",
       "<style scoped>\n",
       "    .dataframe tbody tr th:only-of-type {\n",
       "        vertical-align: middle;\n",
       "    }\n",
       "\n",
       "    .dataframe tbody tr th {\n",
       "        vertical-align: top;\n",
       "    }\n",
       "\n",
       "    .dataframe thead th {\n",
       "        text-align: right;\n",
       "    }\n",
       "</style>\n",
       "<table border=\"1\" class=\"dataframe\">\n",
       "  <thead>\n",
       "    <tr style=\"text-align: right;\">\n",
       "      <th></th>\n",
       "      <th>Sentence #</th>\n",
       "      <th>Word</th>\n",
       "      <th>Tag</th>\n",
       "    </tr>\n",
       "  </thead>\n",
       "  <tbody>\n",
       "    <tr>\n",
       "      <th>0</th>\n",
       "      <td>Sentence: 1</td>\n",
       "      <td>The</td>\n",
       "      <td>O</td>\n",
       "    </tr>\n",
       "    <tr>\n",
       "      <th>1</th>\n",
       "      <td>Sentence: 1</td>\n",
       "      <td>commercial</td>\n",
       "      <td>O</td>\n",
       "    </tr>\n",
       "    <tr>\n",
       "      <th>2</th>\n",
       "      <td>Sentence: 1</td>\n",
       "      <td>use</td>\n",
       "      <td>O</td>\n",
       "    </tr>\n",
       "    <tr>\n",
       "      <th>3</th>\n",
       "      <td>Sentence: 1</td>\n",
       "      <td>of</td>\n",
       "      <td>O</td>\n",
       "    </tr>\n",
       "    <tr>\n",
       "      <th>4</th>\n",
       "      <td>Sentence: 1</td>\n",
       "      <td>any</td>\n",
       "      <td>O</td>\n",
       "    </tr>\n",
       "    <tr>\n",
       "      <th>5</th>\n",
       "      <td>Sentence: 1</td>\n",
       "      <td>data</td>\n",
       "      <td>O</td>\n",
       "    </tr>\n",
       "    <tr>\n",
       "      <th>6</th>\n",
       "      <td>Sentence: 1</td>\n",
       "      <td>is</td>\n",
       "      <td>O</td>\n",
       "    </tr>\n",
       "    <tr>\n",
       "      <th>7</th>\n",
       "      <td>Sentence: 1</td>\n",
       "      <td>prohibited</td>\n",
       "      <td>O</td>\n",
       "    </tr>\n",
       "    <tr>\n",
       "      <th>8</th>\n",
       "      <td>Sentence: 1</td>\n",
       "      <td>.</td>\n",
       "      <td>O</td>\n",
       "    </tr>\n",
       "    <tr>\n",
       "      <th>9</th>\n",
       "      <td>Sentence: 2</td>\n",
       "      <td>19-23</td>\n",
       "      <td>O</td>\n",
       "    </tr>\n",
       "  </tbody>\n",
       "</table>\n",
       "</div>"
      ],
      "text/plain": [
       "    Sentence #        Word Tag\n",
       "0  Sentence: 1         The   O\n",
       "1  Sentence: 1  commercial   O\n",
       "2  Sentence: 1         use   O\n",
       "3  Sentence: 1          of   O\n",
       "4  Sentence: 1         any   O\n",
       "5  Sentence: 1        data   O\n",
       "6  Sentence: 1          is   O\n",
       "7  Sentence: 1  prohibited   O\n",
       "8  Sentence: 1           .   O\n",
       "9  Sentence: 2       19-23   O"
      ]
     },
     "execution_count": 15,
     "metadata": {
      "tags": []
     },
     "output_type": "execute_result"
    }
   ],
   "source": [
    "test_data.head(10)"
   ]
  },
  {
   "cell_type": "code",
   "execution_count": 16,
   "metadata": {
    "colab": {
     "base_uri": "https://localhost:8080/"
    },
    "executionInfo": {
     "elapsed": 22367,
     "status": "ok",
     "timestamp": 1618913567345,
     "user": {
      "displayName": "Nora Youssef",
      "photoUrl": "https://lh3.googleusercontent.com/a-/AOh14Gh19ItlHeTVHtX3vVHmSuo4td2e1IhspMVCgQCZPw=s64",
      "userId": "03639374922222745842"
     },
     "user_tz": -120
    },
    "id": "PDFwh1Z13aaC",
    "outputId": "d58d542b-1df5-4115-cdac-48205fdc1d08"
   },
   "outputs": [
    {
     "name": "stdout",
     "output_type": "stream",
     "text": [
      "7520\n",
      "ENDPAD\n"
     ]
    }
   ],
   "source": [
    "#if the data are in string style, we propably use tokenzer.fit_on_texts instead of list manipulation like here\n",
    "\n",
    "VOCAB = list(set(list(data[\"Word\"].values) + list(test_data[\"Word\"].values)))\n",
    "VOCAB.append(\"ENDPAD\")\n",
    "\n",
    "n_words = len(VOCAB) #n_words includes all vocab from train and validation test.\n",
    "print(n_words)\n",
    "print(VOCAB[n_words-1])"
   ]
  },
  {
   "cell_type": "code",
   "execution_count": 17,
   "metadata": {
    "colab": {
     "base_uri": "https://localhost:8080/"
    },
    "executionInfo": {
     "elapsed": 22356,
     "status": "ok",
     "timestamp": 1618913567347,
     "user": {
      "displayName": "Nora Youssef",
      "photoUrl": "https://lh3.googleusercontent.com/a-/AOh14Gh19ItlHeTVHtX3vVHmSuo4td2e1IhspMVCgQCZPw=s64",
      "userId": "03639374922222745842"
     },
     "user_tz": -120
    },
    "id": "WCbHbHRZ3aZ7",
    "outputId": "3d86070e-c6c6-44eb-9aeb-949e5ad64e76"
   },
   "outputs": [
    {
     "data": {
      "text/plain": [
       "9"
      ]
     },
     "execution_count": 17,
     "metadata": {
      "tags": []
     },
     "output_type": "execute_result"
    }
   ],
   "source": [
    "tags = list(set(data[\"Tag\"].values))\n",
    "n_tags = len(tags)\n",
    "n_tags"
   ]
  },
  {
   "cell_type": "code",
   "execution_count": 18,
   "metadata": {
    "executionInfo": {
     "elapsed": 22355,
     "status": "ok",
     "timestamp": 1618913567348,
     "user": {
      "displayName": "Nora Youssef",
      "photoUrl": "https://lh3.googleusercontent.com/a-/AOh14Gh19ItlHeTVHtX3vVHmSuo4td2e1IhspMVCgQCZPw=s64",
      "userId": "03639374922222745842"
     },
     "user_tz": -120
    },
    "id": "VgntHfAo3aZy"
   },
   "outputs": [],
   "source": [
    "getter = SentenceGetter(data)\n",
    "sentences = getter.sentences"
   ]
  },
  {
   "cell_type": "code",
   "execution_count": 19,
   "metadata": {
    "executionInfo": {
     "elapsed": 22646,
     "status": "ok",
     "timestamp": 1618913567641,
     "user": {
      "displayName": "Nora Youssef",
      "photoUrl": "https://lh3.googleusercontent.com/a-/AOh14Gh19ItlHeTVHtX3vVHmSuo4td2e1IhspMVCgQCZPw=s64",
      "userId": "03639374922222745842"
     },
     "user_tz": -120
    },
    "id": "zcBRLeDcc1qo"
   },
   "outputs": [],
   "source": [
    "getter_test = SentenceGetter(test_data)\n",
    "sentences_test = getter_test.sentences"
   ]
  },
  {
   "cell_type": "markdown",
   "metadata": {
    "id": "rxatmEuRqW1M"
   },
   "source": [
    "#### Exploration"
   ]
  },
  {
   "cell_type": "code",
   "execution_count": 20,
   "metadata": {
    "colab": {
     "base_uri": "https://localhost:8080/"
    },
    "executionInfo": {
     "elapsed": 22635,
     "status": "ok",
     "timestamp": 1618913567642,
     "user": {
      "displayName": "Nora Youssef",
      "photoUrl": "https://lh3.googleusercontent.com/a-/AOh14Gh19ItlHeTVHtX3vVHmSuo4td2e1IhspMVCgQCZPw=s64",
      "userId": "03639374922222745842"
     },
     "user_tz": -120
    },
    "id": "iy9T8Djo3aZY",
    "outputId": "c1fdd7cf-a1d5-4a18-d51b-6e8216982a42"
   },
   "outputs": [
    {
     "name": "stdout",
     "output_type": "stream",
     "text": [
      "[('The', 'O'), ('commercial', 'O'), ('use', 'O'), ('of', 'O'), ('any', 'O'), ('data', 'O'), ('is', 'O'), ('prohibited', 'O'), ('.', 'O')]\n"
     ]
    }
   ],
   "source": [
    "sent = getter_test.get_next()\n",
    "print(sent)"
   ]
  },
  {
   "cell_type": "code",
   "execution_count": 21,
   "metadata": {
    "colab": {
     "base_uri": "https://localhost:8080/"
    },
    "executionInfo": {
     "elapsed": 22626,
     "status": "ok",
     "timestamp": 1618913567643,
     "user": {
      "displayName": "Nora Youssef",
      "photoUrl": "https://lh3.googleusercontent.com/a-/AOh14Gh19ItlHeTVHtX3vVHmSuo4td2e1IhspMVCgQCZPw=s64",
      "userId": "03639374922222745842"
     },
     "user_tz": -120
    },
    "id": "M4mC-rigq23J",
    "outputId": "e0c31d41-d552-44ab-c0da-ac504349fc4a"
   },
   "outputs": [
    {
     "data": {
      "text/plain": [
       "[('solution', 'O'),\n",
       " ('H2O', 'B-Material'),\n",
       " (':', 'O'),\n",
       " ('soil', 'B-Environment'),\n",
       " ('=', 'O'),\n",
       " ('2.5:1', 'O'),\n",
       " ('electrodes', 'O'),\n",
       " ('Sentix', 'O'),\n",
       " ('81', 'O'),\n",
       " ('and', 'O'),\n",
       " ('WTW', 'O'),\n",
       " ('pH-meter', 'O'),\n",
       " ('pH', 'B-Quality'),\n",
       " ('value', 'O'),\n",
       " ('(', 'O'),\n",
       " ('pH_KCl', 'O'),\n",
       " (')', 'O'),\n",
       " (',', 'O'),\n",
       " ('pH', 'B-Quality'),\n",
       " ('pH_KCl', 'O'),\n",
       " ('In', 'O'),\n",
       " ('case', 'O'),\n",
       " ('of', 'O'),\n",
       " ('H2O', 'B-Material'),\n",
       " (':', 'O'),\n",
       " ('samples', 'O'),\n",
       " ('were', 'O'),\n",
       " ('air-dried', 'O'),\n",
       " (',', 'O'),\n",
       " ('sieved', 'O'),\n",
       " ('<', 'O'),\n",
       " ('2mm', 'O'),\n",
       " (',', 'O'),\n",
       " ('solution', 'O'),\n",
       " ('H2O', 'B-Material'),\n",
       " (':', 'O'),\n",
       " ('soil', 'B-Environment'),\n",
       " ('=', 'O'),\n",
       " ('2.5:1', 'O'),\n",
       " ('--', 'O'),\n",
       " ('in', 'O'),\n",
       " ('case', 'O'),\n",
       " ('of', 'O'),\n",
       " ('KCl', 'B-Material'),\n",
       " (':', 'O'),\n",
       " ('samples', 'O'),\n",
       " ('were', 'O'),\n",
       " ('air-dried', 'O'),\n",
       " (',', 'O'),\n",
       " ('sieved', 'O'),\n",
       " ('<', 'O'),\n",
       " ('2mm', 'O'),\n",
       " (',', 'O'),\n",
       " ('solution', 'O'),\n",
       " ('KCl', 'B-Material'),\n",
       " (':', 'O'),\n",
       " ('soil', 'B-Environment'),\n",
       " ('=', 'O'),\n",
       " ('2.5:1', 'O'),\n",
       " (';', 'O'),\n",
       " ('pH', 'B-Quality'),\n",
       " ('(', 'O'),\n",
       " ('KCl', 'B-Material'),\n",
       " (')', 'O'),\n",
       " ('is', 'O'),\n",
       " ('the', 'O'),\n",
       " ('maximum', 'O'),\n",
       " ('potential', 'O'),\n",
       " ('acidity', 'B-Quality'),\n",
       " ('under', 'O'),\n",
       " ('the', 'O'),\n",
       " ('present', 'O'),\n",
       " ('soil', 'B-Environment'),\n",
       " ('conditions', 'O'),\n",
       " (',', 'O'),\n",
       " ('pH', 'B-Quality'),\n",
       " ('(', 'O'),\n",
       " ('H2O', 'B-Material'),\n",
       " (')', 'O'),\n",
       " ('is', 'O'),\n",
       " ('the', 'O'),\n",
       " ('current', 'O'),\n",
       " ('acidity', 'B-Quality'),\n",
       " (';', 'O'),\n",
       " ('pH', 'B-Quality'),\n",
       " ('(', 'O'),\n",
       " ('KCl', 'B-Material'),\n",
       " (')', 'O'),\n",
       " ('is', 'O'),\n",
       " ('the', 'O'),\n",
       " ('maximum', 'O'),\n",
       " ('potential', 'O'),\n",
       " ('acidity', 'B-Quality'),\n",
       " ('under', 'O'),\n",
       " ('the', 'O'),\n",
       " ('present', 'O'),\n",
       " ('soil', 'B-Environment'),\n",
       " ('conditions', 'O'),\n",
       " (',', 'O'),\n",
       " ('pH', 'B-Quality'),\n",
       " ('(', 'O'),\n",
       " ('H2O', 'B-Material'),\n",
       " (')', 'O'),\n",
       " ('is', 'O'),\n",
       " ('the', 'O'),\n",
       " ('current', 'O'),\n",
       " ('acidity', 'B-Quality'),\n",
       " ('(', 'O'),\n",
       " ('pH_KCl', 'O'),\n",
       " (':', 'O'),\n",
       " ('pH', 'B-Quality'),\n",
       " ('value', 'O'),\n",
       " (',', 'O'),\n",
       " ('mean', 'O'),\n",
       " ('from', 'O'),\n",
       " ('two', 'O'),\n",
       " ('values', 'O'),\n",
       " ('determined', 'O'),\n",
       " ('in', 'O'),\n",
       " ('1', 'O'),\n",
       " ('M', 'O'),\n",
       " ('KCl', 'B-Material'),\n",
       " (')', 'O'),\n",
       " ('dimensionless', 'O'),\n",
       " ('real', 'O'),\n",
       " ('pH', 'B-Quality'),\n",
       " ('value', 'O'),\n",
       " ('In', 'O'),\n",
       " ('case', 'O'),\n",
       " ('of', 'O'),\n",
       " ('H2O', 'B-Material'),\n",
       " (':', 'O'),\n",
       " ('samples', 'O'),\n",
       " ('were', 'O'),\n",
       " ('air-dried', 'O'),\n",
       " (',', 'O'),\n",
       " ('sieved', 'O'),\n",
       " ('<', 'O'),\n",
       " ('2mm', 'O'),\n",
       " (',', 'O'),\n",
       " ('solution', 'O'),\n",
       " ('H2O', 'B-Material'),\n",
       " (':', 'O'),\n",
       " ('soil', 'B-Environment'),\n",
       " ('=', 'O'),\n",
       " ('2.5:1', 'O'),\n",
       " ('--', 'O'),\n",
       " ('in', 'O'),\n",
       " ('case', 'O'),\n",
       " ('of', 'O'),\n",
       " ('KCl', 'B-Material'),\n",
       " (':', 'O'),\n",
       " ('samples', 'O'),\n",
       " ('were', 'O'),\n",
       " ('air-dried', 'O'),\n",
       " (',', 'O'),\n",
       " ('sieved', 'O'),\n",
       " ('<', 'O'),\n",
       " ('2mm', 'O'),\n",
       " (',', 'O'),\n",
       " ('solution', 'O'),\n",
       " ('KCl', 'B-Material'),\n",
       " (':', 'O'),\n",
       " ('soil', 'B-Environment'),\n",
       " ('=', 'O'),\n",
       " ('2.5:1', 'O'),\n",
       " (';', 'O'),\n",
       " ('pH', 'B-Quality'),\n",
       " ('(', 'O'),\n",
       " ('KCl', 'B-Material'),\n",
       " (')', 'O'),\n",
       " ('is', 'O'),\n",
       " ('the', 'O'),\n",
       " ('maximum', 'O'),\n",
       " ('potential', 'O'),\n",
       " ('acidity', 'B-Quality'),\n",
       " ('under', 'O'),\n",
       " ('the', 'O'),\n",
       " ('present', 'O'),\n",
       " ('soil', 'B-Environment'),\n",
       " ('conditions', 'O'),\n",
       " (',', 'O'),\n",
       " ('pH', 'B-Quality'),\n",
       " ('(', 'O'),\n",
       " ('H2O', 'B-Material'),\n",
       " (')', 'O'),\n",
       " ('is', 'O'),\n",
       " ('the', 'O'),\n",
       " ('current', 'O'),\n",
       " ('acidity', 'B-Quality'),\n",
       " (';', 'O'),\n",
       " ('pH', 'B-Quality'),\n",
       " ('(', 'O'),\n",
       " ('KCl', 'B-Material'),\n",
       " (')', 'O'),\n",
       " ('is', 'O'),\n",
       " ('the', 'O'),\n",
       " ('maximum', 'O'),\n",
       " ('potential', 'O'),\n",
       " ('acidity', 'B-Quality'),\n",
       " ('under', 'O'),\n",
       " ('the', 'O'),\n",
       " ('present', 'O'),\n",
       " ('soil', 'B-Environment'),\n",
       " ('conditions', 'O'),\n",
       " (',', 'O'),\n",
       " ('pH', 'B-Quality'),\n",
       " ('(', 'O'),\n",
       " ('H2O', 'B-Material'),\n",
       " (')', 'O'),\n",
       " ('is', 'O'),\n",
       " ('the', 'O'),\n",
       " ('current', 'O'),\n",
       " ('acidity', 'B-Quality'),\n",
       " ('pH', 'B-Quality'),\n",
       " ('value', 'O'),\n",
       " (',', 'O'),\n",
       " ('mean', 'O'),\n",
       " ('from', 'O'),\n",
       " ('two', 'O'),\n",
       " ('values', 'O'),\n",
       " ('determined', 'O'),\n",
       " ('in', 'O'),\n",
       " ('1', 'O'),\n",
       " ('M', 'O'),\n",
       " ('KCl', 'B-Material'),\n",
       " ('electrodes', 'O'),\n",
       " ('Sentix', 'O'),\n",
       " ('81', 'O'),\n",
       " ('and', 'O'),\n",
       " ('WTW', 'O'),\n",
       " ('pH-meter', 'O'),\n",
       " ('Nitrogen', 'B-Material'),\n",
       " ('(', 'O'),\n",
       " ('N_t', 'O'),\n",
       " (')', 'O'),\n",
       " (',', 'O'),\n",
       " ('Mass-', 'O'),\n",
       " ('%', 'O'),\n",
       " ('N_t', 'O'),\n",
       " ('Nitrogen', 'B-Material'),\n",
       " ('concentration', 'B-Quality'),\n",
       " ('(', 'O'),\n",
       " ('N_t', 'O'),\n",
       " (':', 'O'),\n",
       " ('total', 'O'),\n",
       " ('organic', 'O'),\n",
       " ('nitrogen', 'B-Material'),\n",
       " ('content', 'B-Quality'),\n",
       " (')', 'O'),\n",
       " ('dimensionless', 'O'),\n",
       " ('real', 'O'),\n",
       " ('Nitrogen', 'B-Material'),\n",
       " ('Nitrogen', 'B-Material'),\n",
       " ('concentration', 'O'),\n",
       " ('total', 'O'),\n",
       " ('organic', 'O'),\n",
       " ('nitrogen', 'B-Material'),\n",
       " ('content', 'O'),\n",
       " ('Elemental', 'O'),\n",
       " ('Analyzer', 'O'),\n",
       " ('Carbon', 'B-Material'),\n",
       " ('(', 'O'),\n",
       " ('C_t', 'O'),\n",
       " (')', 'O'),\n",
       " (',', 'O'),\n",
       " ('Mass-', 'O'),\n",
       " ('%', 'O'),\n",
       " ('C_t', 'O'),\n",
       " ('measurements', 'O'),\n",
       " ('of', 'O'),\n",
       " ('Carbon', 'B-Material'),\n",
       " ('such', 'O'),\n",
       " ('as', 'O'),\n",
       " ('concentrations', 'O'),\n",
       " (',', 'O'),\n",
       " ('pools', 'O'),\n",
       " (',', 'O'),\n",
       " ('amount', 'O'),\n",
       " ('(', 'O'),\n",
       " ('C_t', 'O'),\n",
       " (':', 'O'),\n",
       " ('total', 'O'),\n",
       " ('soil', 'B-Environment'),\n",
       " ('organic', 'O'),\n",
       " ('carbon', 'B-Material'),\n",
       " ('content', 'B-Quality'),\n",
       " (')', 'O'),\n",
       " ('dimensionless', 'O'),\n",
       " ('real', 'O'),\n",
       " ('Carbon', 'B-Material'),\n",
       " ('measurements', 'O'),\n",
       " ('of', 'O'),\n",
       " ('Carbon', 'B-Material'),\n",
       " ('such', 'O'),\n",
       " ('as', 'O'),\n",
       " ('concentrations', 'O'),\n",
       " (',', 'O'),\n",
       " ('pools', 'O'),\n",
       " (',', 'O'),\n",
       " ('amount', 'O'),\n",
       " ('total', 'O'),\n",
       " ('soil', 'B-Environment'),\n",
       " ('organic', 'O'),\n",
       " ('carbon', 'B-Material'),\n",
       " ('content', 'O'),\n",
       " ('Sulphur', 'B-Material'),\n",
       " ('(', 'O'),\n",
       " ('S_t', 'O'),\n",
       " (')', 'O'),\n",
       " (',', 'O'),\n",
       " ('Mass-', 'O'),\n",
       " ('%', 'O'),\n",
       " ('S_t', 'O'),\n",
       " ('S', 'B-Material'),\n",
       " ('content', 'B-Quality'),\n",
       " (':', 'O'),\n",
       " ('samples', 'O'),\n",
       " ('were', 'O'),\n",
       " ('air-dried', 'O'),\n",
       " (',', 'O'),\n",
       " ('sieved', 'O'),\n",
       " ('<', 'O'),\n",
       " ('2mm', 'O'),\n",
       " (',', 'O'),\n",
       " ('ground', 'O'),\n",
       " ('using', 'O'),\n",
       " ('a', 'O'),\n",
       " ('ball', 'O'),\n",
       " ('mill', 'O'),\n",
       " (',', 'O'),\n",
       " ('using', 'O'),\n",
       " ('around', 'O'),\n",
       " ('40', 'O'),\n",
       " ('mg', 'O'),\n",
       " ('for', 'O'),\n",
       " ('measurements', 'O'),\n",
       " ('with', 'O'),\n",
       " ('vario', 'O'),\n",
       " ('EL', 'O'),\n",
       " ('III', 'O'),\n",
       " ('(', 'O'),\n",
       " ('Elementar', 'O'),\n",
       " (')', 'O'),\n",
       " ('(', 'O'),\n",
       " ('S_t', 'O'),\n",
       " (':', 'O'),\n",
       " ('total', 'O'),\n",
       " ('sulphur', 'B-Material'),\n",
       " ('content', 'B-Quality'),\n",
       " (')', 'O'),\n",
       " ('dimensionless', 'O'),\n",
       " ('real', 'O'),\n",
       " ('Sulphur', 'B-Material'),\n",
       " ('S', 'B-Material'),\n",
       " ('content', 'O'),\n",
       " (':', 'O'),\n",
       " ('samples', 'O'),\n",
       " ('were', 'O'),\n",
       " ('air-dried', 'O'),\n",
       " (',', 'O'),\n",
       " ('sieved', 'O'),\n",
       " ('<', 'O'),\n",
       " ('2mm', 'O'),\n",
       " (',', 'O'),\n",
       " ('ground', 'O'),\n",
       " ('using', 'O'),\n",
       " ('a', 'O'),\n",
       " ('ball', 'O'),\n",
       " ('mill', 'O'),\n",
       " (',', 'O'),\n",
       " ('using', 'O'),\n",
       " ('around', 'O'),\n",
       " ('40', 'O'),\n",
       " ('mg', 'O'),\n",
       " ('for', 'O'),\n",
       " ('measurements', 'O'),\n",
       " ('with', 'O'),\n",
       " ('vario', 'O'),\n",
       " ('EL', 'O'),\n",
       " ('III', 'O'),\n",
       " ('(', 'O'),\n",
       " ('Elementar', 'O'),\n",
       " (')', 'O'),\n",
       " ('total', 'O'),\n",
       " ('sulphur', 'B-Material'),\n",
       " ('content', 'O'),\n",
       " ('heat', 'B-Quality'),\n",
       " ('combustion', 'I-Quality'),\n",
       " ('and', 'O'),\n",
       " ('thermal', 'B-Quality'),\n",
       " ('conductivity', 'I-Quality'),\n",
       " ('detection', 'O'),\n",
       " ('using', 'O'),\n",
       " ('a', 'O'),\n",
       " ('CNS-Elementar', 'O'),\n",
       " ('analyser', 'O'),\n",
       " (',', 'O'),\n",
       " ('varioEL', 'O'),\n",
       " ('III', 'O'),\n",
       " ('from', 'O'),\n",
       " ('Elementar', 'O'),\n",
       " ('Carbon', 'B-Material'),\n",
       " ('Nitrogen', 'B-Material'),\n",
       " ('ratio', 'B-Quality'),\n",
       " ('(', 'O'),\n",
       " ('C_N', 'O'),\n",
       " (')', 'O'),\n",
       " (',', 'O'),\n",
       " ('ratio', 'B-Quality'),\n",
       " ('C_N', 'O'),\n",
       " ('Carbon', 'B-Material'),\n",
       " ('Nitrogen', 'B-Material'),\n",
       " ('ratio', 'B-Quality'),\n",
       " ('(', 'O'),\n",
       " ('C_N', 'O'),\n",
       " (':', 'O'),\n",
       " ('ratio', 'B-Quality'),\n",
       " ('organic', 'O'),\n",
       " ('carbon/organic', 'O'),\n",
       " ('nitrogen', 'B-Material'),\n",
       " (')', 'O'),\n",
       " ('dimensionless', 'O'),\n",
       " ('real', 'O'),\n",
       " ('Carbon', 'B-Material'),\n",
       " ('Nitrogen', 'B-Material'),\n",
       " ('ratio', 'B-Quality'),\n",
       " ('Carbon', 'B-Material'),\n",
       " ('Nitrogen', 'B-Material'),\n",
       " ('ratio', 'B-Quality'),\n",
       " ('ratio', 'B-Quality'),\n",
       " ('organic', 'O'),\n",
       " ('carbon/organic', 'O'),\n",
       " ('nitrogen', 'B-Material'),\n",
       " ('yes', 'O'),\n",
       " ('114', 'O')]"
      ]
     },
     "execution_count": 21,
     "metadata": {
      "tags": []
     },
     "output_type": "execute_result"
    }
   ],
   "source": [
    "sentences[1]"
   ]
  },
  {
   "cell_type": "code",
   "execution_count": 22,
   "metadata": {
    "executionInfo": {
     "elapsed": 22625,
     "status": "ok",
     "timestamp": 1618913567644,
     "user": {
      "displayName": "Nora Youssef",
      "photoUrl": "https://lh3.googleusercontent.com/a-/AOh14Gh19ItlHeTVHtX3vVHmSuo4td2e1IhspMVCgQCZPw=s64",
      "userId": "03639374922222745842"
     },
     "user_tz": -120
    },
    "id": "8xjS_lpd3aZI"
   },
   "outputs": [],
   "source": [
    "import matplotlib.pyplot as plt\n",
    "plt.style.use(\"ggplot\")"
   ]
  },
  {
   "cell_type": "code",
   "execution_count": 23,
   "metadata": {
    "colab": {
     "base_uri": "https://localhost:8080/",
     "height": 265
    },
    "executionInfo": {
     "elapsed": 22616,
     "status": "ok",
     "timestamp": 1618913567646,
     "user": {
      "displayName": "Nora Youssef",
      "photoUrl": "https://lh3.googleusercontent.com/a-/AOh14Gh19ItlHeTVHtX3vVHmSuo4td2e1IhspMVCgQCZPw=s64",
      "userId": "03639374922222745842"
     },
     "user_tz": -120
    },
    "id": "yXMq0bHN3aZB",
    "outputId": "73966e89-67ff-48e0-d420-e4d8ccd43a05"
   },
   "outputs": [
    {
     "data": {
      "image/png": "[encoded data removed]",
      "text/plain": [
       "<Figure size 432x288 with 1 Axes>"
      ]
     },
     "metadata": {
      "tags": []
     },
     "output_type": "display_data"
    }
   ],
   "source": [
    "plt.hist([len(s) for s in sentences], bins=5)\n",
    "plt.show()"
   ]
  },
  {
   "cell_type": "code",
   "execution_count": 24,
   "metadata": {
    "colab": {
     "base_uri": "https://localhost:8080/"
    },
    "executionInfo": {
     "elapsed": 22860,
     "status": "ok",
     "timestamp": 1618913567902,
     "user": {
      "displayName": "Nora Youssef",
      "photoUrl": "https://lh3.googleusercontent.com/a-/AOh14Gh19ItlHeTVHtX3vVHmSuo4td2e1IhspMVCgQCZPw=s64",
      "userId": "03639374922222745842"
     },
     "user_tz": -120
    },
    "id": "1-aS91hTKB5i",
    "outputId": "68f4ae38-3566-4a6d-8643-1e874ed76a6e"
   },
   "outputs": [
    {
     "data": {
      "text/plain": [
       "1056"
      ]
     },
     "execution_count": 24,
     "metadata": {
      "tags": []
     },
     "output_type": "execute_result"
    }
   ],
   "source": [
    "max([len(s) for s in sentences])"
   ]
  },
  {
   "cell_type": "code",
   "execution_count": 25,
   "metadata": {
    "executionInfo": {
     "elapsed": 22858,
     "status": "ok",
     "timestamp": 1618913567902,
     "user": {
      "displayName": "Nora Youssef",
      "photoUrl": "https://lh3.googleusercontent.com/a-/AOh14Gh19ItlHeTVHtX3vVHmSuo4td2e1IhspMVCgQCZPw=s64",
      "userId": "03639374922222745842"
     },
     "user_tz": -120
    },
    "id": "FBQLnJyY3aY7"
   },
   "outputs": [],
   "source": [
    "max_len = 93 #selected value outisde the histogram"
   ]
  },
  {
   "cell_type": "markdown",
   "metadata": {
    "id": "jS_XoqWN1o2i"
   },
   "source": [
    "### Utils"
   ]
  },
  {
   "cell_type": "code",
   "execution_count": 26,
   "metadata": {
    "executionInfo": {
     "elapsed": 22856,
     "status": "ok",
     "timestamp": 1618913567903,
     "user": {
      "displayName": "Nora Youssef",
      "photoUrl": "https://lh3.googleusercontent.com/a-/AOh14Gh19ItlHeTVHtX3vVHmSuo4td2e1IhspMVCgQCZPw=s64",
      "userId": "03639374922222745842"
     },
     "user_tz": -120
    },
    "id": "1oGye-_M3aY1"
   },
   "outputs": [],
   "source": [
    "word2idx = {w: i + 1 for i, w in enumerate(VOCAB)}\n",
    "tag2idx = {t: i for i, t in enumerate(tags)}"
   ]
  },
  {
   "cell_type": "code",
   "execution_count": 27,
   "metadata": {
    "colab": {
     "base_uri": "https://localhost:8080/"
    },
    "executionInfo": {
     "elapsed": 22845,
     "status": "ok",
     "timestamp": 1618913567903,
     "user": {
      "displayName": "Nora Youssef",
      "photoUrl": "https://lh3.googleusercontent.com/a-/AOh14Gh19ItlHeTVHtX3vVHmSuo4td2e1IhspMVCgQCZPw=s64",
      "userId": "03639374922222745842"
     },
     "user_tz": -120
    },
    "id": "3N-QHHeh3aYt",
    "outputId": "8ea6280b-e4bd-46c4-e56b-294ecf084953"
   },
   "outputs": [
    {
     "data": {
      "text/plain": [
       "7520"
      ]
     },
     "execution_count": 27,
     "metadata": {
      "tags": []
     },
     "output_type": "execute_result"
    }
   ],
   "source": [
    "word2idx[\"ENDPAD\"]"
   ]
  },
  {
   "cell_type": "code",
   "execution_count": 28,
   "metadata": {
    "colab": {
     "base_uri": "https://localhost:8080/"
    },
    "executionInfo": {
     "elapsed": 22836,
     "status": "ok",
     "timestamp": 1618913567904,
     "user": {
      "displayName": "Nora Youssef",
      "photoUrl": "https://lh3.googleusercontent.com/a-/AOh14Gh19ItlHeTVHtX3vVHmSuo4td2e1IhspMVCgQCZPw=s64",
      "userId": "03639374922222745842"
     },
     "user_tz": -120
    },
    "id": "Q-_K_AaW3aYn",
    "outputId": "4210784e-e1e6-435a-c44a-48ccaa47be2c"
   },
   "outputs": [
    {
     "data": {
      "text/plain": [
       "2"
      ]
     },
     "execution_count": 28,
     "metadata": {
      "tags": []
     },
     "output_type": "execute_result"
    }
   ],
   "source": [
    "tag2idx[\"B-Material\"]"
   ]
  },
  {
   "cell_type": "code",
   "execution_count": 29,
   "metadata": {
    "executionInfo": {
     "elapsed": 22832,
     "status": "ok",
     "timestamp": 1618913567904,
     "user": {
      "displayName": "Nora Youssef",
      "photoUrl": "https://lh3.googleusercontent.com/a-/AOh14Gh19ItlHeTVHtX3vVHmSuo4td2e1IhspMVCgQCZPw=s64",
      "userId": "03639374922222745842"
     },
     "user_tz": -120
    },
    "id": "mOuBcuIn1Xq7"
   },
   "outputs": [],
   "source": [
    "idx2tag = {i: w for w, i in tag2idx.items()}\n",
    "index2word = {i: w for w, i in word2idx.items()}"
   ]
  },
  {
   "cell_type": "markdown",
   "metadata": {
    "id": "ficlztQjaUVa"
   },
   "source": [
    "### X & Y Prep"
   ]
  },
  {
   "cell_type": "code",
   "execution_count": 30,
   "metadata": {
    "colab": {
     "base_uri": "https://localhost:8080/"
    },
    "executionInfo": {
     "elapsed": 27753,
     "status": "ok",
     "timestamp": 1618913572836,
     "user": {
      "displayName": "Nora Youssef",
      "photoUrl": "https://lh3.googleusercontent.com/a-/AOh14Gh19ItlHeTVHtX3vVHmSuo4td2e1IhspMVCgQCZPw=s64",
      "userId": "03639374922222745842"
     },
     "user_tz": -120
    },
    "id": "DP2TPmt4bjKd",
    "outputId": "027933ca-4e29-487c-efd9-c5a9dcae6608"
   },
   "outputs": [
    {
     "name": "stderr",
     "output_type": "stream",
     "text": [
      "Using TensorFlow backend.\n"
     ]
    }
   ],
   "source": [
    "from keras.preprocessing.sequence import pad_sequences\n",
    "from keras.utils import to_categorical\n",
    "\n",
    "def getXYFromSentences(sentences):\n",
    "  \n",
    "  X = [[word2idx[w[0]] for w in s] for s in sentences]\n",
    "  X = pad_sequences(maxlen=max_len, sequences=X, padding=\"post\", value=word2idx[\"ENDPAD\"])\n",
    "   \n",
    "  y = [[tag2idx[w[1]] for w in s] for s in sentences]\n",
    "  y = pad_sequences(maxlen=max_len, sequences=y, padding=\"post\", value=tag2idx[\"O\"])\n",
    "  y = np.array([to_categorical(i, num_classes=n_tags) for i in y])\n",
    "  return X, y"
   ]
  },
  {
   "cell_type": "code",
   "execution_count": 31,
   "metadata": {
    "executionInfo": {
     "elapsed": 27755,
     "status": "ok",
     "timestamp": 1618913572840,
     "user": {
      "displayName": "Nora Youssef",
      "photoUrl": "https://lh3.googleusercontent.com/a-/AOh14Gh19ItlHeTVHtX3vVHmSuo4td2e1IhspMVCgQCZPw=s64",
      "userId": "03639374922222745842"
     },
     "user_tz": -120
    },
    "id": "ZOBpJZHb3aYe"
   },
   "outputs": [],
   "source": [
    "X_train, y_train = getXYFromSentences(sentences)"
   ]
  },
  {
   "cell_type": "code",
   "execution_count": 32,
   "metadata": {
    "executionInfo": {
     "elapsed": 27755,
     "status": "ok",
     "timestamp": 1618913572842,
     "user": {
      "displayName": "Nora Youssef",
      "photoUrl": "https://lh3.googleusercontent.com/a-/AOh14Gh19ItlHeTVHtX3vVHmSuo4td2e1IhspMVCgQCZPw=s64",
      "userId": "03639374922222745842"
     },
     "user_tz": -120
    },
    "id": "vO2Ylt52cbpD"
   },
   "outputs": [],
   "source": [
    "X_test, y_test = getXYFromSentences(sentences_test)"
   ]
  },
  {
   "cell_type": "markdown",
   "metadata": {
    "id": "PM4CKiLrK4yV"
   },
   "source": [
    "#### Exploration"
   ]
  },
  {
   "cell_type": "code",
   "execution_count": 33,
   "metadata": {
    "executionInfo": {
     "elapsed": 27753,
     "status": "ok",
     "timestamp": 1618913572842,
     "user": {
      "displayName": "Nora Youssef",
      "photoUrl": "https://lh3.googleusercontent.com/a-/AOh14Gh19ItlHeTVHtX3vVHmSuo4td2e1IhspMVCgQCZPw=s64",
      "userId": "03639374922222745842"
     },
     "user_tz": -120
    },
    "id": "GRZvmEDDLpkb"
   },
   "outputs": [],
   "source": [
    "target = X_test[1]"
   ]
  },
  {
   "cell_type": "code",
   "execution_count": 34,
   "metadata": {
    "colab": {
     "base_uri": "https://localhost:8080/"
    },
    "executionInfo": {
     "elapsed": 27743,
     "status": "ok",
     "timestamp": 1618913572842,
     "user": {
      "displayName": "Nora Youssef",
      "photoUrl": "https://lh3.googleusercontent.com/a-/AOh14Gh19ItlHeTVHtX3vVHmSuo4td2e1IhspMVCgQCZPw=s64",
      "userId": "03639374922222745842"
     },
     "user_tz": -120
    },
    "id": "5KKMsFopK7UR",
    "outputId": "fd2a844f-b84a-40fc-a3de-c2c78ccad396"
   },
   "outputs": [
    {
     "data": {
      "text/plain": [
       "array([ 968, 3890,  622, 5156, 5697, 5028, 6650, 6842, 4382, 1840, 6573,\n",
       "        650, 1125, 1927, 2737, 5473, 5449, 6007, 4553, 4254,  477, 2781,\n",
       "       5091, 6640, 6038, 1927, 1593, 1154, 4288,  716, 1154, 4666, 7046,\n",
       "       1238, 1154, 4288, 6513, 1154,  838, 7046, 2331, 2062, 7520, 7520,\n",
       "       7520, 7520, 7520, 7520, 7520, 7520, 7520, 7520, 7520, 7520, 7520,\n",
       "       7520, 7520, 7520, 7520, 7520, 7520, 7520, 7520, 7520, 7520, 7520,\n",
       "       7520, 7520, 7520, 7520, 7520, 7520, 7520, 7520, 7520, 7520, 7520,\n",
       "       7520, 7520, 7520, 7520, 7520, 7520, 7520, 7520, 7520, 7520, 7520,\n",
       "       7520, 7520, 7520, 7520, 7520], dtype=int32)"
      ]
     },
     "execution_count": 34,
     "metadata": {
      "tags": []
     },
     "output_type": "execute_result"
    }
   ],
   "source": [
    "target"
   ]
  },
  {
   "cell_type": "code",
   "execution_count": 35,
   "metadata": {
    "colab": {
     "base_uri": "https://localhost:8080/"
    },
    "executionInfo": {
     "elapsed": 27734,
     "status": "ok",
     "timestamp": 1618913572843,
     "user": {
      "displayName": "Nora Youssef",
      "photoUrl": "https://lh3.googleusercontent.com/a-/AOh14Gh19ItlHeTVHtX3vVHmSuo4td2e1IhspMVCgQCZPw=s64",
      "userId": "03639374922222745842"
     },
     "user_tz": -120
    },
    "id": "7pJyYzXRLLK2",
    "outputId": "23432f8a-579d-4991-d18a-eea515c9727c"
   },
   "outputs": [
    {
     "data": {
      "text/plain": [
       "array(['Lab', 'analyses', 'were', 'carried', 'from', '2009', 'to', '2011',\n",
       "       'The', 'Gutianshan', 'National', 'Nature', 'Reserve', '(', 'NNR',\n",
       "       ')', 'is', 'located', 'in', 'the', 'western', 'part', 'of',\n",
       "       'Zhejiang', 'Province', '(', \"29o8'18\", \"''\", 'â\\x80\\x93',\n",
       "       \"29o17'29\", \"''\", 'N', ',', \"118o2'14\", \"''\", 'â\\x80\\x93',\n",
       "       \"118o11'12\", \"''\", 'E', ',', 'Fig', '.', 'ENDPAD', 'ENDPAD',\n",
       "       'ENDPAD', 'ENDPAD', 'ENDPAD', 'ENDPAD', 'ENDPAD', 'ENDPAD',\n",
       "       'ENDPAD', 'ENDPAD', 'ENDPAD', 'ENDPAD', 'ENDPAD', 'ENDPAD',\n",
       "       'ENDPAD', 'ENDPAD', 'ENDPAD', 'ENDPAD', 'ENDPAD', 'ENDPAD',\n",
       "       'ENDPAD', 'ENDPAD', 'ENDPAD', 'ENDPAD', 'ENDPAD', 'ENDPAD',\n",
       "       'ENDPAD', 'ENDPAD', 'ENDPAD', 'ENDPAD', 'ENDPAD', 'ENDPAD',\n",
       "       'ENDPAD', 'ENDPAD', 'ENDPAD', 'ENDPAD', 'ENDPAD', 'ENDPAD',\n",
       "       'ENDPAD', 'ENDPAD', 'ENDPAD', 'ENDPAD', 'ENDPAD', 'ENDPAD',\n",
       "       'ENDPAD', 'ENDPAD', 'ENDPAD', 'ENDPAD', 'ENDPAD', 'ENDPAD',\n",
       "       'ENDPAD'], dtype='<U10')"
      ]
     },
     "execution_count": 35,
     "metadata": {
      "tags": []
     },
     "output_type": "execute_result"
    }
   ],
   "source": [
    "np.asarray([index2word[i] for i in  target])"
   ]
  },
  {
   "cell_type": "code",
   "execution_count": 36,
   "metadata": {
    "executionInfo": {
     "elapsed": 27730,
     "status": "ok",
     "timestamp": 1618913572843,
     "user": {
      "displayName": "Nora Youssef",
      "photoUrl": "https://lh3.googleusercontent.com/a-/AOh14Gh19ItlHeTVHtX3vVHmSuo4td2e1IhspMVCgQCZPw=s64",
      "userId": "03639374922222745842"
     },
     "user_tz": -120
    },
    "id": "rBTHdKzyL8UK"
   },
   "outputs": [],
   "source": [
    "target = y_train[1]"
   ]
  },
  {
   "cell_type": "code",
   "execution_count": 37,
   "metadata": {
    "colab": {
     "base_uri": "https://localhost:8080/"
    },
    "executionInfo": {
     "elapsed": 27721,
     "status": "ok",
     "timestamp": 1618913572844,
     "user": {
      "displayName": "Nora Youssef",
      "photoUrl": "https://lh3.googleusercontent.com/a-/AOh14Gh19ItlHeTVHtX3vVHmSuo4td2e1IhspMVCgQCZPw=s64",
      "userId": "03639374922222745842"
     },
     "user_tz": -120
    },
    "id": "ooRhSn4dMEgc",
    "outputId": "e95af3d6-4c0c-43e8-dea7-2147fd5da748"
   },
   "outputs": [
    {
     "data": {
      "text/plain": [
       "(93, 9)"
      ]
     },
     "execution_count": 37,
     "metadata": {
      "tags": []
     },
     "output_type": "execute_result"
    }
   ],
   "source": [
    "target.shape\n"
   ]
  },
  {
   "cell_type": "code",
   "execution_count": 38,
   "metadata": {
    "colab": {
     "base_uri": "https://localhost:8080/"
    },
    "executionInfo": {
     "elapsed": 27706,
     "status": "ok",
     "timestamp": 1618913572844,
     "user": {
      "displayName": "Nora Youssef",
      "photoUrl": "https://lh3.googleusercontent.com/a-/AOh14Gh19ItlHeTVHtX3vVHmSuo4td2e1IhspMVCgQCZPw=s64",
      "userId": "03639374922222745842"
     },
     "user_tz": -120
    },
    "id": "Iif6da5uMBox",
    "outputId": "fb210e0b-61fa-45a3-bff8-8cdf88f0bb54"
   },
   "outputs": [
    {
     "data": {
      "text/plain": [
       "array(['O', 'O', 'O', 'O', 'O', 'B-Material', 'B-Quality', 'O', 'O', 'O',\n",
       "       'B-Material', 'B-Material', 'O', 'O', 'O', 'O', 'O', 'O', 'O', 'O',\n",
       "       'O', 'O', 'O', 'O', 'O', 'O', 'O', 'O', 'O', 'O', 'O', 'O', 'O',\n",
       "       'O', 'O', 'O', 'O', 'O', 'O', 'O', 'O', 'O', 'B-Material', 'O',\n",
       "       'B-Quality', 'I-Quality', 'O', 'B-Quality', 'I-Quality', 'O', 'O',\n",
       "       'O', 'O', 'O', 'O', 'O', 'O', 'O', 'O', 'B-Material', 'B-Material',\n",
       "       'B-Quality', 'O', 'O', 'O', 'O', 'B-Quality', 'O', 'B-Material',\n",
       "       'B-Material', 'B-Quality', 'O', 'O', 'O', 'B-Quality', 'O', 'O',\n",
       "       'B-Material', 'O', 'O', 'O', 'B-Material', 'B-Material',\n",
       "       'B-Quality', 'B-Material', 'B-Material', 'B-Quality', 'B-Quality',\n",
       "       'O', 'O', 'B-Material', 'O', 'O'], dtype='<U10')"
      ]
     },
     "execution_count": 38,
     "metadata": {
      "tags": []
     },
     "output_type": "execute_result"
    }
   ],
   "source": [
    "np.asarray([idx2tag[np.argmax(i)] for i in  target])"
   ]
  },
  {
   "cell_type": "markdown",
   "metadata": {
    "id": "JmXgVQiFQVnN"
   },
   "source": [
    "## BiLSTM Model"
   ]
  },
  {
   "cell_type": "code",
   "execution_count": 39,
   "metadata": {
    "executionInfo": {
     "elapsed": 27705,
     "status": "ok",
     "timestamp": 1618913572845,
     "user": {
      "displayName": "Nora Youssef",
      "photoUrl": "https://lh3.googleusercontent.com/a-/AOh14Gh19ItlHeTVHtX3vVHmSuo4td2e1IhspMVCgQCZPw=s64",
      "userId": "03639374922222745842"
     },
     "user_tz": -120
    },
    "id": "ET2AHFutQNPY"
   },
   "outputs": [],
   "source": [
    "from keras import callbacks\n",
    "from keras.models import Model, Input, model_from_json\n",
    "from keras.layers import LSTM, Embedding, Dense, TimeDistributed, Dropout, Bidirectional\n",
    "from keras.optimizers import RMSprop"
   ]
  },
  {
   "cell_type": "code",
   "execution_count": 40,
   "metadata": {
    "executionInfo": {
     "elapsed": 27703,
     "status": "ok",
     "timestamp": 1618913572845,
     "user": {
      "displayName": "Nora Youssef",
      "photoUrl": "https://lh3.googleusercontent.com/a-/AOh14Gh19ItlHeTVHtX3vVHmSuo4td2e1IhspMVCgQCZPw=s64",
      "userId": "03639374922222745842"
     },
     "user_tz": -120
    },
    "id": "YHRrG7r7Qs-P"
   },
   "outputs": [],
   "source": [
    "def create_model():\n",
    "  input = Input(shape=(max_len,))\n",
    "  #in the line below --> laurance set the input_length = max_len-1 (NLP in TF Week4)\n",
    "  model = Embedding(input_dim=n_words, output_dim=50, input_length=max_len)(input)\n",
    "  model = Dropout(rate=0.1)(model)\n",
    "  model = Bidirectional(LSTM(units=100, return_sequences=True, recurrent_dropout=0.1))(model)\n",
    "  out = TimeDistributed(Dense(n_tags, activation=\"softmax\"))(model)  # softmax output layer\n",
    "  \n",
    "  return Model(input, out)"
   ]
  },
  {
   "cell_type": "code",
   "execution_count": 41,
   "metadata": {
    "colab": {
     "base_uri": "https://localhost:8080/"
    },
    "executionInfo": {
     "elapsed": 28250,
     "status": "ok",
     "timestamp": 1618913573403,
     "user": {
      "displayName": "Nora Youssef",
      "photoUrl": "https://lh3.googleusercontent.com/a-/AOh14Gh19ItlHeTVHtX3vVHmSuo4td2e1IhspMVCgQCZPw=s64",
      "userId": "03639374922222745842"
     },
     "user_tz": -120
    },
    "id": "v3oJQi__RZnw",
    "outputId": "a0dbbcd9-c5a0-40b7-91da-973aaa55db46"
   },
   "outputs": [
    {
     "name": "stdout",
     "output_type": "stream",
     "text": [
      "WARNING:tensorflow:From /tensorflow-1.15.2/python3.7/tensorflow_core/python/ops/resource_variable_ops.py:1630: calling BaseResourceVariable.__init__ (from tensorflow.python.ops.resource_variable_ops) with constraint is deprecated and will be removed in a future version.\n",
      "Instructions for updating:\n",
      "If using Keras pass *_constraint arguments to layers.\n"
     ]
    }
   ],
   "source": [
    "model = create_model()\n",
    "#model = load_model()"
   ]
  },
  {
   "cell_type": "code",
   "execution_count": 42,
   "metadata": {
    "colab": {
     "base_uri": "https://localhost:8080/"
    },
    "executionInfo": {
     "elapsed": 28240,
     "status": "ok",
     "timestamp": 1618913573404,
     "user": {
      "displayName": "Nora Youssef",
      "photoUrl": "https://lh3.googleusercontent.com/a-/AOh14Gh19ItlHeTVHtX3vVHmSuo4td2e1IhspMVCgQCZPw=s64",
      "userId": "03639374922222745842"
     },
     "user_tz": -120
    },
    "id": "tmgovNJTbxBO",
    "outputId": "791644f2-fdcc-49cf-8d92-398ee8a5bb8b"
   },
   "outputs": [
    {
     "name": "stdout",
     "output_type": "stream",
     "text": [
      "Model: \"model_1\"\n",
      "_________________________________________________________________\n",
      "Layer (type)                 Output Shape              Param #   \n",
      "=================================================================\n",
      "input_1 (InputLayer)         (None, 93)                0         \n",
      "_________________________________________________________________\n",
      "embedding_1 (Embedding)      (None, 93, 50)            376000    \n",
      "_________________________________________________________________\n",
      "dropout_1 (Dropout)          (None, 93, 50)            0         \n",
      "_________________________________________________________________\n",
      "bidirectional_1 (Bidirection (None, 93, 200)           120800    \n",
      "_________________________________________________________________\n",
      "time_distributed_1 (TimeDist (None, 93, 9)             1809      \n",
      "=================================================================\n",
      "Total params: 498,609\n",
      "Trainable params: 498,609\n",
      "Non-trainable params: 0\n",
      "_________________________________________________________________\n"
     ]
    }
   ],
   "source": [
    "model.summary()"
   ]
  },
  {
   "cell_type": "code",
   "execution_count": 43,
   "metadata": {
    "executionInfo": {
     "elapsed": 28239,
     "status": "ok",
     "timestamp": 1618913573405,
     "user": {
      "displayName": "Nora Youssef",
      "photoUrl": "https://lh3.googleusercontent.com/a-/AOh14Gh19ItlHeTVHtX3vVHmSuo4td2e1IhspMVCgQCZPw=s64",
      "userId": "03639374922222745842"
     },
     "user_tz": -120
    },
    "id": "qqtT84Q3RvEa"
   },
   "outputs": [],
   "source": [
    "model.compile(optimizer=RMSprop(), loss=\"categorical_crossentropy\", metrics=[\"accuracy\"])"
   ]
  },
  {
   "cell_type": "code",
   "execution_count": 44,
   "metadata": {
    "executionInfo": {
     "elapsed": 28463,
     "status": "ok",
     "timestamp": 1618913573631,
     "user": {
      "displayName": "Nora Youssef",
      "photoUrl": "https://lh3.googleusercontent.com/a-/AOh14Gh19ItlHeTVHtX3vVHmSuo4td2e1IhspMVCgQCZPw=s64",
      "userId": "03639374922222745842"
     },
     "user_tz": -120
    },
    "id": "Tuq9TL_hhba9"
   },
   "outputs": [],
   "source": [
    "class myCallback(callbacks.Callback):\n",
    "  def on_epoch_end(self, epoch, logs={}):\n",
    "    if(logs.get('accuracy')>=0.989):\n",
    "      print(\"\\nReached 98.9% accuracy so cancelling training!\")\n",
    "      self.model.stop_training = True\n",
    " "
   ]
  },
  {
   "cell_type": "code",
   "execution_count": 45,
   "metadata": {
    "executionInfo": {
     "elapsed": 28981,
     "status": "ok",
     "timestamp": 1618913574150,
     "user": {
      "displayName": "Nora Youssef",
      "photoUrl": "https://lh3.googleusercontent.com/a-/AOh14Gh19ItlHeTVHtX3vVHmSuo4td2e1IhspMVCgQCZPw=s64",
      "userId": "03639374922222745842"
     },
     "user_tz": -120
    },
    "id": "IUGGzLfZUVQR"
   },
   "outputs": [],
   "source": [
    "from sklearn.model_selection import train_test_split"
   ]
  },
  {
   "cell_type": "code",
   "execution_count": 46,
   "metadata": {
    "executionInfo": {
     "elapsed": 28981,
     "status": "ok",
     "timestamp": 1618913574152,
     "user": {
      "displayName": "Nora Youssef",
      "photoUrl": "https://lh3.googleusercontent.com/a-/AOh14Gh19ItlHeTVHtX3vVHmSuo4td2e1IhspMVCgQCZPw=s64",
      "userId": "03639374922222745842"
     },
     "user_tz": -120
    },
    "id": "r_x066BaUYR8"
   },
   "outputs": [],
   "source": [
    "X_train, X_val, y_train, y_val = train_test_split(X_train, y_train, test_size=0.20)"
   ]
  },
  {
   "cell_type": "code",
   "execution_count": 47,
   "metadata": {
    "colab": {
     "base_uri": "https://localhost:8080/"
    },
    "executionInfo": {
     "elapsed": 28971,
     "status": "ok",
     "timestamp": 1618913574152,
     "user": {
      "displayName": "Nora Youssef",
      "photoUrl": "https://lh3.googleusercontent.com/a-/AOh14Gh19ItlHeTVHtX3vVHmSuo4td2e1IhspMVCgQCZPw=s64",
      "userId": "03639374922222745842"
     },
     "user_tz": -120
    },
    "id": "4sEmQfT4WLIR",
    "outputId": "b218eff0-9a3e-4067-a92f-9ed7c93559bb"
   },
   "outputs": [
    {
     "name": "stdout",
     "output_type": "stream",
     "text": [
      "(1521, 93)\n",
      "(381, 93)\n",
      "(324, 93)\n",
      "(1521, 93, 9)\n",
      "(381, 93, 9)\n",
      "(324, 93, 9)\n"
     ]
    }
   ],
   "source": [
    "print(X_train.shape)\n",
    "print(X_val.shape)\n",
    "print(X_test.shape)\n",
    "print(y_train.shape)\n",
    "print(y_val.shape)\n",
    "print(y_test.shape)"
   ]
  },
  {
   "cell_type": "code",
   "execution_count": 48,
   "metadata": {
    "colab": {
     "base_uri": "https://localhost:8080/"
    },
    "executionInfo": {
     "elapsed": 119431,
     "status": "ok",
     "timestamp": 1618913664627,
     "user": {
      "displayName": "Nora Youssef",
      "photoUrl": "https://lh3.googleusercontent.com/a-/AOh14Gh19ItlHeTVHtX3vVHmSuo4td2e1IhspMVCgQCZPw=s64",
      "userId": "03639374922222745842"
     },
     "user_tz": -120
    },
    "id": "87AaEwD8RyHe",
    "outputId": "57620315-2b98-4f4f-8cff-fe0650afa388"
   },
   "outputs": [
    {
     "name": "stdout",
     "output_type": "stream",
     "text": [
      "WARNING:tensorflow:From /tensorflow-1.15.2/python3.7/tensorflow_core/python/ops/math_grad.py:1424: where (from tensorflow.python.ops.array_ops) is deprecated and will be removed in a future version.\n",
      "Instructions for updating:\n",
      "Use tf.where in 2.0, which has the same broadcast rule as np.where\n",
      "WARNING:tensorflow:From /tensorflow-1.15.2/python3.7/keras/backend/tensorflow_backend.py:422: The name tf.global_variables is deprecated. Please use tf.compat.v1.global_variables instead.\n",
      "\n",
      "Train on 1521 samples, validate on 381 samples\n",
      "Epoch 1/10\n",
      "1521/1521 [==============================] - 10s 7ms/step - loss: 0.2945 - accuracy: 0.9621 - val_loss: 0.1047 - val_accuracy: 0.9824\n",
      "Epoch 2/10\n",
      "1521/1521 [==============================] - 8s 5ms/step - loss: 0.1151 - accuracy: 0.9809 - val_loss: 0.0959 - val_accuracy: 0.9824\n",
      "Epoch 3/10\n",
      "1521/1521 [==============================] - 8s 5ms/step - loss: 0.0996 - accuracy: 0.9808 - val_loss: 0.0866 - val_accuracy: 0.9823\n",
      "Epoch 4/10\n",
      "1521/1521 [==============================] - 8s 5ms/step - loss: 0.0829 - accuracy: 0.9809 - val_loss: 0.0724 - val_accuracy: 0.9825\n",
      "Epoch 5/10\n",
      "1521/1521 [==============================] - 8s 5ms/step - loss: 0.0676 - accuracy: 0.9822 - val_loss: 0.0581 - val_accuracy: 0.9853\n",
      "Epoch 6/10\n",
      "1521/1521 [==============================] - 8s 5ms/step - loss: 0.0568 - accuracy: 0.9844 - val_loss: 0.0528 - val_accuracy: 0.9860\n",
      "Epoch 7/10\n",
      "1521/1521 [==============================] - 8s 5ms/step - loss: 0.0518 - accuracy: 0.9850 - val_loss: 0.0512 - val_accuracy: 0.9867\n",
      "Epoch 8/10\n",
      "1521/1521 [==============================] - 8s 5ms/step - loss: 0.0476 - accuracy: 0.9857 - val_loss: 0.0486 - val_accuracy: 0.9874\n",
      "Epoch 9/10\n",
      "1521/1521 [==============================] - 8s 5ms/step - loss: 0.0445 - accuracy: 0.9864 - val_loss: 0.0470 - val_accuracy: 0.9873\n",
      "Epoch 10/10\n",
      "1521/1521 [==============================] - 8s 5ms/step - loss: 0.0415 - accuracy: 0.9872 - val_loss: 0.0432 - val_accuracy: 0.9879\n"
     ]
    }
   ],
   "source": [
    "history = model.fit(X_train, y_train, validation_data=(X_val, y_val), shuffle=True, batch_size=32, epochs=10, verbose=1, callbacks=[myCallback()])"
   ]
  },
  {
   "cell_type": "code",
   "execution_count": 49,
   "metadata": {
    "executionInfo": {
     "elapsed": 119429,
     "status": "ok",
     "timestamp": 1618913664627,
     "user": {
      "displayName": "Nora Youssef",
      "photoUrl": "https://lh3.googleusercontent.com/a-/AOh14Gh19ItlHeTVHtX3vVHmSuo4td2e1IhspMVCgQCZPw=s64",
      "userId": "03639374922222745842"
     },
     "user_tz": -120
    },
    "id": "9_9TMZn28J7f"
   },
   "outputs": [],
   "source": [
    "# save_model(model)"
   ]
  },
  {
   "cell_type": "code",
   "execution_count": 50,
   "metadata": {
    "executionInfo": {
     "elapsed": 119429,
     "status": "ok",
     "timestamp": 1618913664628,
     "user": {
      "displayName": "Nora Youssef",
      "photoUrl": "https://lh3.googleusercontent.com/a-/AOh14Gh19ItlHeTVHtX3vVHmSuo4td2e1IhspMVCgQCZPw=s64",
      "userId": "03639374922222745842"
     },
     "user_tz": -120
    },
    "id": "-74jERJeS6QM"
   },
   "outputs": [],
   "source": [
    "hist = pd.DataFrame(history.history)"
   ]
  },
  {
   "cell_type": "code",
   "execution_count": 51,
   "metadata": {
    "executionInfo": {
     "elapsed": 119427,
     "status": "ok",
     "timestamp": 1618913664628,
     "user": {
      "displayName": "Nora Youssef",
      "photoUrl": "https://lh3.googleusercontent.com/a-/AOh14Gh19ItlHeTVHtX3vVHmSuo4td2e1IhspMVCgQCZPw=s64",
      "userId": "03639374922222745842"
     },
     "user_tz": -120
    },
    "id": "3-ERn4Rc9J4_"
   },
   "outputs": [],
   "source": [
    "saveDataFrameToCSV(hist, training_history_csv, append=True)\n",
    " "
   ]
  },
  {
   "cell_type": "code",
   "execution_count": 52,
   "metadata": {
    "colab": {
     "base_uri": "https://localhost:8080/",
     "height": 717
    },
    "executionInfo": {
     "elapsed": 120005,
     "status": "ok",
     "timestamp": 1618913665217,
     "user": {
      "displayName": "Nora Youssef",
      "photoUrl": "https://lh3.googleusercontent.com/a-/AOh14Gh19ItlHeTVHtX3vVHmSuo4td2e1IhspMVCgQCZPw=s64",
      "userId": "03639374922222745842"
     },
     "user_tz": -120
    },
    "id": "MwJX2aS2W8Tf",
    "outputId": "01f6bc75-e771-4903-f0d0-041411cbc3f3"
   },
   "outputs": [
    {
     "data": {
      "image/png": "[encoded data removed]",
      "text/plain": [
       "<Figure size 864x864 with 1 Axes>"
      ]
     },
     "metadata": {
      "tags": []
     },
     "output_type": "display_data"
    }
   ],
   "source": [
    "plt.figure(figsize=(12,12))\n",
    "plt.plot(hist[\"accuracy\"], label=\"accuracy\")\n",
    "plt.plot(hist[\"val_accuracy\"], label=\"val_accuracy\")\n",
    "plt.title('Training and Validation Accuracy')\n",
    "plt.legend()\n",
    "plt.show()"
   ]
  },
  {
   "cell_type": "code",
   "execution_count": 66,
   "metadata": {
    "colab": {
     "base_uri": "https://localhost:8080/"
    },
    "executionInfo": {
     "elapsed": 728,
     "status": "ok",
     "timestamp": 1618913845249,
     "user": {
      "displayName": "Nora Youssef",
      "photoUrl": "https://lh3.googleusercontent.com/a-/AOh14Gh19ItlHeTVHtX3vVHmSuo4td2e1IhspMVCgQCZPw=s64",
      "userId": "03639374922222745842"
     },
     "user_tz": -120
    },
    "id": "AP5DBugQXO8S",
    "outputId": "18467c93-8323-4ea6-c0f7-a63b17cdb6ae"
   },
   "outputs": [
    {
     "name": "stdout",
     "output_type": "stream",
     "text": [
      "Word            True                : Pred\n",
      "(              : O                   : O\n",
      "2001           : O                   : O\n",
      ")              : O                   : O\n",
      "using          : O                   : O\n",
      "fluorescent    : B-Quality           : O\n",
      "4-methylumbelliferone: B-Material          : O\n",
      "substrates     : O                   : O\n",
      "(              : O                   : O\n",
      "4-MUF          : O                   : O\n",
      ";              : O                   : O\n",
      "Sigma-Aldrich  : O                   : O\n",
      ",              : O                   : O\n",
      "St.            : O                   : O\n",
      "Louis          : O                   : O\n",
      ",              : O                   : O\n",
      "USA            : O                   : O\n",
      ")              : O                   : O\n",
      "and            : O                   : O\n",
      "a              : O                   : O\n",
      "buffered       : O                   : O\n",
      "solution       : O                   : O\n",
      "(              : O                   : O\n",
      "pH             : B-Quality           : B-Quality\n",
      "6.1            : O                   : O\n",
      ")              : O                   : O\n",
      ",              : O                   : O\n",
      "as             : O                   : O\n",
      "described      : O                   : O\n",
      "in             : O                   : O\n",
      "detail         : O                   : O\n",
      "by             : O                   : O\n",
      "Berner         : O                   : O\n",
      "et             : O                   : O\n",
      "al             : O                   : O\n",
      ".              : O                   : O\n",
      "ENDPAD         : O                   : O\n",
      "ENDPAD         : O                   : O\n",
      "ENDPAD         : O                   : O\n",
      "ENDPAD         : O                   : O\n",
      "ENDPAD         : O                   : O\n",
      "ENDPAD         : O                   : O\n",
      "ENDPAD         : O                   : O\n",
      "ENDPAD         : O                   : O\n",
      "ENDPAD         : O                   : O\n",
      "ENDPAD         : O                   : O\n",
      "ENDPAD         : O                   : O\n",
      "ENDPAD         : O                   : O\n",
      "ENDPAD         : O                   : O\n",
      "ENDPAD         : O                   : O\n",
      "ENDPAD         : O                   : O\n",
      "ENDPAD         : O                   : O\n",
      "ENDPAD         : O                   : O\n",
      "ENDPAD         : O                   : O\n",
      "ENDPAD         : O                   : O\n",
      "ENDPAD         : O                   : O\n",
      "ENDPAD         : O                   : O\n",
      "ENDPAD         : O                   : O\n",
      "ENDPAD         : O                   : O\n",
      "ENDPAD         : O                   : O\n",
      "ENDPAD         : O                   : O\n",
      "ENDPAD         : O                   : O\n",
      "ENDPAD         : O                   : O\n",
      "ENDPAD         : O                   : O\n",
      "ENDPAD         : O                   : O\n",
      "ENDPAD         : O                   : O\n",
      "ENDPAD         : O                   : O\n",
      "ENDPAD         : O                   : O\n",
      "ENDPAD         : O                   : O\n",
      "ENDPAD         : O                   : O\n",
      "ENDPAD         : O                   : O\n",
      "ENDPAD         : O                   : O\n",
      "ENDPAD         : O                   : O\n",
      "ENDPAD         : O                   : O\n",
      "ENDPAD         : O                   : O\n",
      "ENDPAD         : O                   : O\n",
      "ENDPAD         : O                   : O\n",
      "ENDPAD         : O                   : O\n",
      "ENDPAD         : O                   : O\n",
      "ENDPAD         : O                   : O\n",
      "ENDPAD         : O                   : O\n",
      "ENDPAD         : O                   : O\n",
      "ENDPAD         : O                   : O\n",
      "ENDPAD         : O                   : O\n",
      "ENDPAD         : O                   : O\n",
      "ENDPAD         : O                   : O\n",
      "ENDPAD         : O                   : O\n",
      "ENDPAD         : O                   : O\n",
      "ENDPAD         : O                   : O\n",
      "ENDPAD         : O                   : O\n",
      "ENDPAD         : O                   : O\n",
      "ENDPAD         : O                   : O\n",
      "ENDPAD         : O                   : O\n",
      "ENDPAD         : O                   : O\n"
     ]
    }
   ],
   "source": [
    "i = 5\n",
    "\n",
    "p = model.predict(np.array([X_train[i]]))\n",
    "p = np.argmax(p, axis=-1)\n",
    "\n",
    "true_lbl = y_train[i]\n",
    "true_lbl = np.argmax(true_lbl, axis=-1)\n",
    "\n",
    "print(\"{:15} {:20}: {}\".format(\"Word\", \"True\", \"Pred\"))\n",
    "\n",
    "for w, t, pred in zip(X_train[i], true_lbl, p[0]):    \n",
    "    print(\"{:15}: {:20}: {}\" .format(index2word[w], tags[t], tags[pred]))"
   ]
  },
  {
   "cell_type": "markdown",
   "metadata": {
    "id": "QZ9IBOOJjfcA"
   },
   "source": [
    "## Evaluation"
   ]
  },
  {
   "cell_type": "code",
   "execution_count": 54,
   "metadata": {
    "colab": {
     "base_uri": "https://localhost:8080/"
    },
    "executionInfo": {
     "elapsed": 120587,
     "status": "ok",
     "timestamp": 1618913665820,
     "user": {
      "displayName": "Nora Youssef",
      "photoUrl": "https://lh3.googleusercontent.com/a-/AOh14Gh19ItlHeTVHtX3vVHmSuo4td2e1IhspMVCgQCZPw=s64",
      "userId": "03639374922222745842"
     },
     "user_tz": -120
    },
    "id": "cBKRFu1dl2JD",
    "outputId": "1b550114-150f-4069-fd56-716b192c104c"
   },
   "outputs": [
    {
     "name": "stdout",
     "output_type": "stream",
     "text": [
      "324/324 [==============================] - 1s 2ms/step\n"
     ]
    },
    {
     "data": {
      "text/plain": [
       "[0.06014179916661463, 0.986758291721344]"
      ]
     },
     "execution_count": 54,
     "metadata": {
      "tags": []
     },
     "output_type": "execute_result"
    }
   ],
   "source": [
    "model.evaluate(x=X_test, y=y_test, batch_size=32, verbose=1)"
   ]
  },
  {
   "cell_type": "code",
   "execution_count": 55,
   "metadata": {
    "colab": {
     "base_uri": "https://localhost:8080/"
    },
    "executionInfo": {
     "elapsed": 121299,
     "status": "ok",
     "timestamp": 1618913666543,
     "user": {
      "displayName": "Nora Youssef",
      "photoUrl": "https://lh3.googleusercontent.com/a-/AOh14Gh19ItlHeTVHtX3vVHmSuo4td2e1IhspMVCgQCZPw=s64",
      "userId": "03639374922222745842"
     },
     "user_tz": -120
    },
    "id": "fumZ3CdQeEGM",
    "outputId": "0bfc0f6d-f22c-4386-fdd3-5179246bfeb8"
   },
   "outputs": [
    {
     "name": "stdout",
     "output_type": "stream",
     "text": [
      "324/324 [==============================] - 1s 2ms/step\n"
     ]
    }
   ],
   "source": [
    "test_pred = model.predict(X_test, verbose=1)"
   ]
  },
  {
   "cell_type": "code",
   "execution_count": 56,
   "metadata": {
    "executionInfo": {
     "elapsed": 121298,
     "status": "ok",
     "timestamp": 1618913666544,
     "user": {
      "displayName": "Nora Youssef",
      "photoUrl": "https://lh3.googleusercontent.com/a-/AOh14Gh19ItlHeTVHtX3vVHmSuo4td2e1IhspMVCgQCZPw=s64",
      "userId": "03639374922222745842"
     },
     "user_tz": -120
    },
    "id": "2z5pwi6_eOW3"
   },
   "outputs": [],
   "source": [
    "def pred2label(pred):\n",
    "    out = []\n",
    "    for pred_i in pred:\n",
    "        out_i = []\n",
    "        for p in pred_i:\n",
    "            p_i = np.argmax(p)\n",
    "            out_i.append(idx2tag[p_i].replace(\"ENDPAD\", \"O\"))\n",
    "        out.append(out_i)\n",
    "    return out\n",
    "\n",
    "def test2label(pred):\n",
    "    out = []\n",
    "    for pred_i in pred:\n",
    "        out_i = []\n",
    "        for p in pred_i:\n",
    "            out_i.append(idx2tag[p].replace(\"ENDPAD\", \"O\"))\n",
    "        out.append(out_i)\n",
    "    return out"
   ]
  },
  {
   "cell_type": "code",
   "execution_count": 57,
   "metadata": {
    "executionInfo": {
     "elapsed": 121298,
     "status": "ok",
     "timestamp": 1618913666545,
     "user": {
      "displayName": "Nora Youssef",
      "photoUrl": "https://lh3.googleusercontent.com/a-/AOh14Gh19ItlHeTVHtX3vVHmSuo4td2e1IhspMVCgQCZPw=s64",
      "userId": "03639374922222745842"
     },
     "user_tz": -120
    },
    "id": "BKnk3AQhal-s"
   },
   "outputs": [],
   "source": [
    "def toLabel(pred):\n",
    "    out = []\n",
    "    for pred_i in pred:        \n",
    "        out.append(np.asarray([idx2tag[np.argmax(i)] for i in  pred_i]))\n",
    "    return np.asarray(out)\n"
   ]
  },
  {
   "cell_type": "code",
   "execution_count": 69,
   "metadata": {
    "executionInfo": {
     "elapsed": 614,
     "status": "ok",
     "timestamp": 1618913947887,
     "user": {
      "displayName": "Nora Youssef",
      "photoUrl": "https://lh3.googleusercontent.com/a-/AOh14Gh19ItlHeTVHtX3vVHmSuo4td2e1IhspMVCgQCZPw=s64",
      "userId": "03639374922222745842"
     },
     "user_tz": -120
    },
    "id": "zEFnBWkieXLT"
   },
   "outputs": [],
   "source": [
    "pred_labels = pred2label(test_pred)\n",
    "test_labels = test2label(np.argmax(y_test, -1))"
   ]
  },
  {
   "cell_type": "code",
   "execution_count": 70,
   "metadata": {
    "colab": {
     "base_uri": "https://localhost:8080/"
    },
    "executionInfo": {
     "elapsed": 411,
     "status": "ok",
     "timestamp": 1618913948874,
     "user": {
      "displayName": "Nora Youssef",
      "photoUrl": "https://lh3.googleusercontent.com/a-/AOh14Gh19ItlHeTVHtX3vVHmSuo4td2e1IhspMVCgQCZPw=s64",
      "userId": "03639374922222745842"
     },
     "user_tz": -120
    },
    "id": "5C9FL6hQgN_o",
    "outputId": "6ce962ec-f42d-4e73-e0a2-cb5e1ccb8209"
   },
   "outputs": [
    {
     "name": "stdout",
     "output_type": "stream",
     "text": [
      "['O', 'O', 'O', 'O', 'O', 'O', 'O', 'O', 'O', 'O', 'O', 'O', 'O', 'O', 'O', 'O', 'O', 'O', 'O', 'O', 'O', 'O', 'O', 'O', 'O', 'O', 'O', 'O', 'O', 'O', 'O', 'O', 'O', 'O', 'O', 'O', 'O', 'O', 'O', 'O', 'O', 'O', 'O', 'O', 'O', 'O', 'O', 'O', 'O', 'O', 'O', 'O', 'O', 'O', 'O', 'O', 'O', 'O', 'O', 'O', 'O', 'O', 'O', 'O', 'O', 'O', 'O', 'O', 'O', 'O', 'O', 'O', 'O', 'O', 'O', 'O', 'O', 'O', 'O', 'O', 'O', 'O', 'O', 'O', 'O', 'O', 'O', 'O', 'O', 'O', 'O', 'O', 'O']\n"
     ]
    }
   ],
   "source": [
    "print(pred_labels[0])"
   ]
  },
  {
   "cell_type": "code",
   "execution_count": 71,
   "metadata": {
    "colab": {
     "base_uri": "https://localhost:8080/"
    },
    "executionInfo": {
     "elapsed": 389,
     "status": "ok",
     "timestamp": 1618913949696,
     "user": {
      "displayName": "Nora Youssef",
      "photoUrl": "https://lh3.googleusercontent.com/a-/AOh14Gh19ItlHeTVHtX3vVHmSuo4td2e1IhspMVCgQCZPw=s64",
      "userId": "03639374922222745842"
     },
     "user_tz": -120
    },
    "id": "CtM_mQ9ggSwI",
    "outputId": "7678adb2-0748-470e-d5a2-4f334c487cb4"
   },
   "outputs": [
    {
     "name": "stdout",
     "output_type": "stream",
     "text": [
      "['O', 'O', 'O', 'O', 'O', 'O', 'O', 'O', 'O', 'O', 'O', 'O', 'O', 'O', 'O', 'O', 'O', 'O', 'O', 'O', 'O', 'O', 'O', 'O', 'O', 'O', 'O', 'O', 'O', 'O', 'O', 'O', 'O', 'O', 'O', 'O', 'O', 'O', 'O', 'O', 'O', 'O', 'O', 'O', 'O', 'O', 'O', 'O', 'O', 'O', 'O', 'O', 'O', 'O', 'O', 'O', 'O', 'O', 'O', 'O', 'O', 'O', 'O', 'O', 'O', 'O', 'O', 'O', 'O', 'O', 'O', 'O', 'O', 'O', 'O', 'O', 'O', 'O', 'O', 'O', 'O', 'O', 'O', 'O', 'O', 'O', 'O', 'O', 'O', 'O', 'O', 'O', 'O']\n"
     ]
    }
   ],
   "source": [
    "print(test_labels[0])"
   ]
  },
  {
   "cell_type": "markdown",
   "metadata": {
    "id": "LhJVeLkyyqle"
   },
   "source": [
    "### Evaluation\n"
   ]
  },
  {
   "cell_type": "code",
   "execution_count": 61,
   "metadata": {
    "executionInfo": {
     "elapsed": 121833,
     "status": "ok",
     "timestamp": 1618913667103,
     "user": {
      "displayName": "Nora Youssef",
      "photoUrl": "https://lh3.googleusercontent.com/a-/AOh14Gh19ItlHeTVHtX3vVHmSuo4td2e1IhspMVCgQCZPw=s64",
      "userId": "03639374922222745842"
     },
     "user_tz": -120
    },
    "id": "t7_7c_lldqQC"
   },
   "outputs": [],
   "source": [
    "from classification_metrics import classification_report, replaceMultiple"
   ]
  },
  {
   "cell_type": "code",
   "execution_count": 74,
   "metadata": {
    "executionInfo": {
     "elapsed": 481,
     "status": "ok",
     "timestamp": 1618913967841,
     "user": {
      "displayName": "Nora Youssef",
      "photoUrl": "https://lh3.googleusercontent.com/a-/AOh14Gh19ItlHeTVHtX3vVHmSuo4td2e1IhspMVCgQCZPw=s64",
      "userId": "03639374922222745842"
     },
     "user_tz": -120
    },
    "id": "c7IdpCfgx7Ko"
   },
   "outputs": [],
   "source": [
    "test_labels = [val for sublist in test_labels for val in sublist]\n",
    "pred_labels = [val for sublist in pred_labels for val in sublist]"
   ]
  },
  {
   "cell_type": "code",
   "execution_count": 75,
   "metadata": {
    "colab": {
     "base_uri": "https://localhost:8080/"
    },
    "executionInfo": {
     "elapsed": 2753,
     "status": "ok",
     "timestamp": 1618913971016,
     "user": {
      "displayName": "Nora Youssef",
      "photoUrl": "https://lh3.googleusercontent.com/a-/AOh14Gh19ItlHeTVHtX3vVHmSuo4td2e1IhspMVCgQCZPw=s64",
      "userId": "03639374922222745842"
     },
     "user_tz": -120
    },
    "id": "V7DB9mm5yCgL",
    "outputId": "d7420f65-71b4-4be5-c8ba-c9f49b351c0c"
   },
   "outputs": [
    {
     "name": "stdout",
     "output_type": "stream",
     "text": [
      "                        precision \t recall \t f1-score \t support\n",
      "\n",
      "I-Environment       \t 0.00\t\t 0.00\t\t 0.00\t\t 36\t\n",
      "B-Material          \t 0.76\t\t 0.23\t\t 0.35\t\t 226\t\n",
      "B-Quality           \t 0.93\t\t 0.73\t\t 0.82\t\t 297\t\n",
      "B-Process           \t 0.00\t\t 0.00\t\t 0.00\t\t 3\t\n",
      "B-Environment       \t 0.74\t\t 0.70\t\t 0.72\t\t 215\t\n",
      "I-Quality           \t 0.00\t\t 0.00\t\t 0.00\t\t 20\t\n",
      "\n",
      "\n",
      "macro avg           \t 0.41\t\t 0.28\t\t 0.33\t\t 797\t\n",
      "micro avg           \t 0.83\t\t 0.53\t\t 0.65\t\t 797\t\n",
      "\n"
     ]
    }
   ],
   "source": [
    "print(classification_report(test_labels, pred_labels))"
   ]
  },
  {
   "cell_type": "markdown",
   "metadata": {
    "id": "IcWaU-hiyDTa"
   },
   "source": [
    "Here, we try to normalize the class, no disincition between the **B**egining or **I**ntermediate of the class (`B-Material` = `I-Material` = `Material`)"
   ]
  },
  {
   "cell_type": "code",
   "execution_count": 76,
   "metadata": {
    "executionInfo": {
     "elapsed": 583,
     "status": "ok",
     "timestamp": 1618913975437,
     "user": {
      "displayName": "Nora Youssef",
      "photoUrl": "https://lh3.googleusercontent.com/a-/AOh14Gh19ItlHeTVHtX3vVHmSuo4td2e1IhspMVCgQCZPw=s64",
      "userId": "03639374922222745842"
     },
     "user_tz": -120
    },
    "id": "j4vtAQuW1TpH"
   },
   "outputs": [],
   "source": [
    "test_labels = [replaceMultiple(val, [\"B-\",\"I-\"], \"\") for val in test_labels ]\n",
    "pred_labels = [replaceMultiple(val, [\"B-\",\"I-\"], \"\") for val in pred_labels ]"
   ]
  },
  {
   "cell_type": "code",
   "execution_count": 77,
   "metadata": {
    "colab": {
     "base_uri": "https://localhost:8080/"
    },
    "executionInfo": {
     "elapsed": 1711,
     "status": "ok",
     "timestamp": 1618913977581,
     "user": {
      "displayName": "Nora Youssef",
      "photoUrl": "https://lh3.googleusercontent.com/a-/AOh14Gh19ItlHeTVHtX3vVHmSuo4td2e1IhspMVCgQCZPw=s64",
      "userId": "03639374922222745842"
     },
     "user_tz": -120
    },
    "id": "moMXzGSidrmo",
    "outputId": "1f061400-fac4-4f94-b43c-b5688af341a6"
   },
   "outputs": [
    {
     "name": "stdout",
     "output_type": "stream",
     "text": [
      "                        precision \t recall \t f1-score \t support\n",
      "\n",
      "Quality             \t 0.93\t\t 0.69\t\t 0.79\t\t 317\t\n",
      "Material            \t 0.76\t\t 0.23\t\t 0.35\t\t 226\t\n",
      "Process             \t 0.00\t\t 0.00\t\t 0.00\t\t 3\t\n",
      "Environment         \t 0.76\t\t 0.62\t\t 0.68\t\t 251\t\n",
      "\n",
      "\n",
      "macro avg           \t 0.61\t\t 0.38\t\t 0.47\t\t 797\t\n",
      "micro avg           \t 0.84\t\t 0.53\t\t 0.65\t\t 797\t\n",
      "\n"
     ]
    }
   ],
   "source": [
    "print(classification_report(test_labels, pred_labels))"
   ]
  },
  {
   "cell_type": "code",
   "execution_count": null,
   "metadata": {
    "executionInfo": {
     "elapsed": 125954,
     "status": "aborted",
     "timestamp": 1618913671242,
     "user": {
      "displayName": "Nora Youssef",
      "photoUrl": "https://lh3.googleusercontent.com/a-/AOh14Gh19ItlHeTVHtX3vVHmSuo4td2e1IhspMVCgQCZPw=s64",
      "userId": "03639374922222745842"
     },
     "user_tz": -120
    },
    "id": "wvFzq4ly_j_6"
   },
   "outputs": [],
   "source": []
  }
 ],
 "metadata": {
  "accelerator": "GPU",
  "colab": {
   "collapsed_sections": [],
   "name": "BiLSTM_QEMP.ipynb",
   "provenance": []
  },
  "kernelspec": {
   "display_name": "Python 3",
   "language": "python",
   "name": "python3"
  },
  "language_info": {
   "codemirror_mode": {
    "name": "ipython",
    "version": 3
   },
   "file_extension": ".py",
   "mimetype": "text/x-python",
   "name": "python",
   "nbconvert_exporter": "python",
   "pygments_lexer": "ipython3",
   "version": "3.6.6"
  }
 },
 "nbformat": 4,
 "nbformat_minor": 1
}
