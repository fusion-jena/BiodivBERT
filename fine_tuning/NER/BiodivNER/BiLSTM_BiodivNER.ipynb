{
 "cells": [
  {
   "cell_type": "code",
   "execution_count": null,
   "metadata": {
    "colab": {
     "base_uri": "https://localhost:8080/"
    },
    "executionInfo": {
     "elapsed": 238,
     "status": "ok",
     "timestamp": 1649759067993,
     "user": {
      "displayName": "Nora Youssef",
      "userId": "03639374922222745842"
     },
     "user_tz": -120
    },
    "id": "sbkgVkuDmTDZ",
    "outputId": "e5c4a65d-4a84-46a4-b530-17acbb9797eb"
   },
   "outputs": [
    {
     "name": "stdout",
     "output_type": "stream",
     "text": [
      "TensorFlow 1.x selected.\n"
     ]
    }
   ],
   "source": [
    "%tensorflow_version 1.x"
   ]
  },
  {
   "cell_type": "code",
   "execution_count": null,
   "metadata": {
    "colab": {
     "base_uri": "https://localhost:8080/"
    },
    "executionInfo": {
     "elapsed": 18709,
     "status": "ok",
     "timestamp": 1649759086698,
     "user": {
      "displayName": "Nora Youssef",
      "userId": "03639374922222745842"
     },
     "user_tz": -120
    },
    "id": "TNeeSq0SLU8A",
    "outputId": "a98b9c2d-3ef1-4c6e-f0fb-0e9930d90a2b"
   },
   "outputs": [
    {
     "name": "stdout",
     "output_type": "stream",
     "text": [
      "Mounted at /content/drive\n"
     ]
    }
   ],
   "source": [
    "# Load the Drive helper and mount\n",
    "from google.colab import drive\n",
    "drive.mount('/content/drive')"
   ]
  },
  {
   "cell_type": "code",
   "execution_count": null,
   "metadata": {
    "colab": {
     "base_uri": "https://localhost:8080/"
    },
    "executionInfo": {
     "elapsed": 344,
     "status": "ok",
     "timestamp": 1649759087039,
     "user": {
      "displayName": "Nora Youssef",
      "userId": "03639374922222745842"
     },
     "user_tz": -120
    },
    "id": "qcsYD2yEMVkc",
    "outputId": "c9ddae13-0c9c-4d8a-c718-ec106bf62146"
   },
   "outputs": [
    {
     "name": "stdout",
     "output_type": "stream",
     "text": [
      "/content/drive/My Drive/Colab Notebooks/BiodivBERT-NER\n"
     ]
    }
   ],
   "source": [
    "cd \"/content/drive/My Drive/Colab Notebooks/BiodivBERT-NER/\""
   ]
  },
  {
   "cell_type": "code",
   "execution_count": null,
   "metadata": {
    "id": "R4YFOyhD8l_1"
   },
   "outputs": [],
   "source": [
    "import os"
   ]
  },
  {
   "cell_type": "code",
   "execution_count": null,
   "metadata": {
    "id": "awapx8haNr-U"
   },
   "outputs": [],
   "source": [
    "root_dir = \"/content/drive/My Drive/Colab Notebooks/BiodivBERT-NER/\"\n",
    "\n",
    "root_data_dir = os.path.join(root_dir, \"datasets\", \"BiodivNER\")\n",
    "\n",
    "dataset = \"train\"\n",
    "csv_file_path = \"train.csv\"\n",
    "\n",
    "offline_model_file = os.path.join(root_dir, \"BiLSTM-BiodivNER-model\")\n",
    "training_history_csv = \"training_history.csv\""
   ]
  },
  {
   "cell_type": "markdown",
   "metadata": {
    "id": "eQFFmGZG-X05"
   },
   "source": [
    "## Util"
   ]
  },
  {
   "cell_type": "code",
   "execution_count": null,
   "metadata": {
    "id": "8LihPGwb92iK"
   },
   "outputs": [],
   "source": [
    "def load_model():\n",
    "    json_file = open(offline_model_file+\".json\", 'r')\n",
    "    loaded_model_json = json_file.read()\n",
    "    json_file.close()\n",
    "    new_model = model_from_json(loaded_model_json)\n",
    "    # load weights into new model\n",
    "    new_model.load_weights(offline_model_file+\".h5\")\n",
    "    print(\"Loaded model from disk\")\n",
    "    return new_model"
   ]
  },
  {
   "cell_type": "code",
   "execution_count": null,
   "metadata": {
    "id": "WaGNPxjM98Ds"
   },
   "outputs": [],
   "source": [
    "def save_model(model):\n",
    "    # serialize model to JSON\n",
    "    model_json = model.to_json()\n",
    "    \n",
    "    with open(offline_model_file+\".json\", \"w\") as json_file:\n",
    "        json_file.write(model_json)\n",
    "    # serialize weights to HDF5\n",
    "    model.save_weights(offline_model_file+\".h5\")\n",
    "    print(\"Saved model to disk\")"
   ]
  },
  {
   "cell_type": "code",
   "execution_count": null,
   "metadata": {
    "id": "sF6IG8FM8WqT"
   },
   "outputs": [],
   "source": [
    "def saveDataFrameToCSV(pd1, csv_path, append):  \n",
    "  dataset_path = os.path.join(root_dir, csv_path)  \n",
    "  \n",
    "  if append:\n",
    "    with open(dataset_path, 'a+') as f:    \n",
    "      pd1.to_csv(dataset_path,  mode='a', index=False, header=False)    \n",
    "  else:\n",
    "    with open(dataset_path, 'a+') as f:    \n",
    "      pd1.to_csv(dataset_path,  mode='a', index=False, header=True)"
   ]
  },
  {
   "cell_type": "markdown",
   "metadata": {
    "id": "10yeK7623aaY"
   },
   "source": [
    "## Dataset Preprocessing\n"
   ]
  },
  {
   "cell_type": "code",
   "execution_count": null,
   "metadata": {
    "id": "GT1NMGBw3aaU"
   },
   "outputs": [],
   "source": [
    "import os\n",
    "import pandas as pd\n",
    "import numpy as np"
   ]
  },
  {
   "cell_type": "code",
   "execution_count": null,
   "metadata": {
    "id": "ybHlNSgxcwL1"
   },
   "outputs": [],
   "source": [
    "def loadData(csv_file_path):\n",
    "  dataset_path = os.path.join(root_data_dir, csv_file_path)\n",
    "  data = pd.read_csv(dataset_path, encoding=\"latin1\")\n",
    "  data = data.fillna(method=\"ffill\")\n",
    "  return data"
   ]
  },
  {
   "cell_type": "code",
   "execution_count": null,
   "metadata": {
    "id": "cTEqN_U_3aZ3"
   },
   "outputs": [],
   "source": [
    "class SentenceGetter(object):\n",
    "    \n",
    "    def __init__(self, data):\n",
    "        self.n_sent = 1\n",
    "        self.data = data\n",
    "        self.empty = False\n",
    "        agg_func = lambda s: [(w, t) for w, t in zip(s[\"Word\"].values.tolist(),                                                          \n",
    "                                                        s[\"Tag\"].values.tolist())]\n",
    "        self.grouped = self.data.groupby(\"Sentence #\").apply(agg_func)\n",
    "        self.sentences = [s for s in self.grouped]\n",
    "    \n",
    "    def get_next(self):\n",
    "        try:\n",
    "            s = self.grouped[\"Sentence: {}\".format(self.n_sent)]\n",
    "            self.n_sent += 1\n",
    "            return s\n",
    "        except:\n",
    "            return None"
   ]
  },
  {
   "cell_type": "code",
   "execution_count": null,
   "metadata": {
    "id": "DdpwuNQtpOk0"
   },
   "outputs": [],
   "source": [
    "data = loadData(csv_file_path)"
   ]
  },
  {
   "cell_type": "code",
   "execution_count": null,
   "metadata": {
    "colab": {
     "base_uri": "https://localhost:8080/",
     "height": 363
    },
    "executionInfo": {
     "elapsed": 9,
     "status": "ok",
     "timestamp": 1649759090660,
     "user": {
      "displayName": "Nora Youssef",
      "userId": "03639374922222745842"
     },
     "user_tz": -120
    },
    "id": "nXOClRlWsKZE",
    "outputId": "6808f7f5-e407-4dd0-aa4f-74111d812d5d"
   },
   "outputs": [
    {
     "data": {
      "text/html": [
       "\n",
       "  <div id=\"df-32fa8038-e611-426e-b9c7-c67ac0f853c6\">\n",
       "    <div class=\"colab-df-container\">\n",
       "      <div>\n",
       "<style scoped>\n",
       "    .dataframe tbody tr th:only-of-type {\n",
       "        vertical-align: middle;\n",
       "    }\n",
       "\n",
       "    .dataframe tbody tr th {\n",
       "        vertical-align: top;\n",
       "    }\n",
       "\n",
       "    .dataframe thead th {\n",
       "        text-align: right;\n",
       "    }\n",
       "</style>\n",
       "<table border=\"1\" class=\"dataframe\">\n",
       "  <thead>\n",
       "    <tr style=\"text-align: right;\">\n",
       "      <th></th>\n",
       "      <th>Sentence #</th>\n",
       "      <th>Word</th>\n",
       "      <th>Tag</th>\n",
       "    </tr>\n",
       "  </thead>\n",
       "  <tbody>\n",
       "    <tr>\n",
       "      <th>0</th>\n",
       "      <td>Sentence: 0</td>\n",
       "      <td>Samplenr</td>\n",
       "      <td>O</td>\n",
       "    </tr>\n",
       "    <tr>\n",
       "      <th>1</th>\n",
       "      <td>Sentence: 0</td>\n",
       "      <td>Seedlingnr</td>\n",
       "      <td>O</td>\n",
       "    </tr>\n",
       "    <tr>\n",
       "      <th>2</th>\n",
       "      <td>Sentence: 0</td>\n",
       "      <td>Plot</td>\n",
       "      <td>O</td>\n",
       "    </tr>\n",
       "    <tr>\n",
       "      <th>3</th>\n",
       "      <td>Sentence: 0</td>\n",
       "      <td>Record</td>\n",
       "      <td>O</td>\n",
       "    </tr>\n",
       "    <tr>\n",
       "      <th>4</th>\n",
       "      <td>Sentence: 0</td>\n",
       "      <td>Date</td>\n",
       "      <td>O</td>\n",
       "    </tr>\n",
       "    <tr>\n",
       "      <th>5</th>\n",
       "      <td>Sentence: 0</td>\n",
       "      <td>Planted_Species</td>\n",
       "      <td>O</td>\n",
       "    </tr>\n",
       "    <tr>\n",
       "      <th>6</th>\n",
       "      <td>Sentence: 0</td>\n",
       "      <td>Density</td>\n",
       "      <td>B-Quality</td>\n",
       "    </tr>\n",
       "    <tr>\n",
       "      <th>7</th>\n",
       "      <td>Sentence: 0</td>\n",
       "      <td>Treatment</td>\n",
       "      <td>B-Phenomena</td>\n",
       "    </tr>\n",
       "    <tr>\n",
       "      <th>8</th>\n",
       "      <td>Sentence: 0</td>\n",
       "      <td>Dead</td>\n",
       "      <td>B-Quality</td>\n",
       "    </tr>\n",
       "    <tr>\n",
       "      <th>9</th>\n",
       "      <td>Sentence: 0</td>\n",
       "      <td>Height_P</td>\n",
       "      <td>O</td>\n",
       "    </tr>\n",
       "  </tbody>\n",
       "</table>\n",
       "</div>\n",
       "      <button class=\"colab-df-convert\" onclick=\"convertToInteractive('df-32fa8038-e611-426e-b9c7-c67ac0f853c6')\"\n",
       "              title=\"Convert this dataframe to an interactive table.\"\n",
       "              style=\"display:none;\">\n",
       "        \n",
       "  <svg xmlns=\"http://www.w3.org/2000/svg\" height=\"24px\"viewBox=\"0 0 24 24\"\n",
       "       width=\"24px\">\n",
       "    <path d=\"M0 0h24v24H0V0z\" fill=\"none\"/>\n",
       "    <path d=\"M18.56 5.44l.94 2.06.94-2.06 2.06-.94-2.06-.94-.94-2.06-.94 2.06-2.06.94zm-11 1L8.5 8.5l.94-2.06 2.06-.94-2.06-.94L8.5 2.5l-.94 2.06-2.06.94zm10 10l.94 2.06.94-2.06 2.06-.94-2.06-.94-.94-2.06-.94 2.06-2.06.94z\"/><path d=\"M17.41 7.96l-1.37-1.37c-.4-.4-.92-.59-1.43-.59-.52 0-1.04.2-1.43.59L10.3 9.45l-7.72 7.72c-.78.78-.78 2.05 0 2.83L4 21.41c.39.39.9.59 1.41.59.51 0 1.02-.2 1.41-.59l7.78-7.78 2.81-2.81c.8-.78.8-2.07 0-2.86zM5.41 20L4 18.59l7.72-7.72 1.47 1.35L5.41 20z\"/>\n",
       "  </svg>\n",
       "      </button>\n",
       "      \n",
       "  <style>\n",
       "    .colab-df-container {\n",
       "      display:flex;\n",
       "      flex-wrap:wrap;\n",
       "      gap: 12px;\n",
       "    }\n",
       "\n",
       "    .colab-df-convert {\n",
       "      background-color: #E8F0FE;\n",
       "      border: none;\n",
       "      border-radius: 50%;\n",
       "      cursor: pointer;\n",
       "      display: none;\n",
       "      fill: #1967D2;\n",
       "      height: 32px;\n",
       "      padding: 0 0 0 0;\n",
       "      width: 32px;\n",
       "    }\n",
       "\n",
       "    .colab-df-convert:hover {\n",
       "      background-color: #E2EBFA;\n",
       "      box-shadow: 0px 1px 2px rgba(60, 64, 67, 0.3), 0px 1px 3px 1px rgba(60, 64, 67, 0.15);\n",
       "      fill: #174EA6;\n",
       "    }\n",
       "\n",
       "    [theme=dark] .colab-df-convert {\n",
       "      background-color: #3B4455;\n",
       "      fill: #D2E3FC;\n",
       "    }\n",
       "\n",
       "    [theme=dark] .colab-df-convert:hover {\n",
       "      background-color: #434B5C;\n",
       "      box-shadow: 0px 1px 3px 1px rgba(0, 0, 0, 0.15);\n",
       "      filter: drop-shadow(0px 1px 2px rgba(0, 0, 0, 0.3));\n",
       "      fill: #FFFFFF;\n",
       "    }\n",
       "  </style>\n",
       "\n",
       "      <script>\n",
       "        const buttonEl =\n",
       "          document.querySelector('#df-32fa8038-e611-426e-b9c7-c67ac0f853c6 button.colab-df-convert');\n",
       "        buttonEl.style.display =\n",
       "          google.colab.kernel.accessAllowed ? 'block' : 'none';\n",
       "\n",
       "        async function convertToInteractive(key) {\n",
       "          const element = document.querySelector('#df-32fa8038-e611-426e-b9c7-c67ac0f853c6');\n",
       "          const dataTable =\n",
       "            await google.colab.kernel.invokeFunction('convertToInteractive',\n",
       "                                                     [key], {});\n",
       "          if (!dataTable) return;\n",
       "\n",
       "          const docLinkHtml = 'Like what you see? Visit the ' +\n",
       "            '<a target=\"_blank\" href=https://colab.research.google.com/notebooks/data_table.ipynb>data table notebook</a>'\n",
       "            + ' to learn more about interactive tables.';\n",
       "          element.innerHTML = '';\n",
       "          dataTable['output_type'] = 'display_data';\n",
       "          await google.colab.output.renderOutput(dataTable, element);\n",
       "          const docLink = document.createElement('div');\n",
       "          docLink.innerHTML = docLinkHtml;\n",
       "          element.appendChild(docLink);\n",
       "        }\n",
       "      </script>\n",
       "    </div>\n",
       "  </div>\n",
       "  "
      ],
      "text/plain": [
       "    Sentence #             Word          Tag\n",
       "0  Sentence: 0         Samplenr            O\n",
       "1  Sentence: 0       Seedlingnr            O\n",
       "2  Sentence: 0             Plot            O\n",
       "3  Sentence: 0           Record            O\n",
       "4  Sentence: 0             Date            O\n",
       "5  Sentence: 0  Planted_Species            O\n",
       "6  Sentence: 0          Density    B-Quality\n",
       "7  Sentence: 0        Treatment  B-Phenomena\n",
       "8  Sentence: 0             Dead    B-Quality\n",
       "9  Sentence: 0         Height_P            O"
      ]
     },
     "execution_count": 13,
     "metadata": {},
     "output_type": "execute_result"
    }
   ],
   "source": [
    "data.head(10)"
   ]
  },
  {
   "cell_type": "code",
   "execution_count": null,
   "metadata": {
    "id": "9IdHVyeXvDaX"
   },
   "outputs": [],
   "source": [
    "test_data =  loadData(\"test.csv\")"
   ]
  },
  {
   "cell_type": "code",
   "execution_count": null,
   "metadata": {
    "colab": {
     "base_uri": "https://localhost:8080/",
     "height": 363
    },
    "executionInfo": {
     "elapsed": 11,
     "status": "ok",
     "timestamp": 1649759090987,
     "user": {
      "displayName": "Nora Youssef",
      "userId": "03639374922222745842"
     },
     "user_tz": -120
    },
    "id": "6RoM6YevsjB1",
    "outputId": "2c95b779-44f8-40c3-9e73-a9d0afa61639"
   },
   "outputs": [
    {
     "data": {
      "text/html": [
       "\n",
       "  <div id=\"df-05961a33-a14a-4db2-bfa0-a03738d96a5a\">\n",
       "    <div class=\"colab-df-container\">\n",
       "      <div>\n",
       "<style scoped>\n",
       "    .dataframe tbody tr th:only-of-type {\n",
       "        vertical-align: middle;\n",
       "    }\n",
       "\n",
       "    .dataframe tbody tr th {\n",
       "        vertical-align: top;\n",
       "    }\n",
       "\n",
       "    .dataframe thead th {\n",
       "        text-align: right;\n",
       "    }\n",
       "</style>\n",
       "<table border=\"1\" class=\"dataframe\">\n",
       "  <thead>\n",
       "    <tr style=\"text-align: right;\">\n",
       "      <th></th>\n",
       "      <th>Sentence #</th>\n",
       "      <th>Word</th>\n",
       "      <th>Tag</th>\n",
       "    </tr>\n",
       "  </thead>\n",
       "  <tbody>\n",
       "    <tr>\n",
       "      <th>0</th>\n",
       "      <td>Sentence: 0</td>\n",
       "      <td>Combining</td>\n",
       "      <td>O</td>\n",
       "    </tr>\n",
       "    <tr>\n",
       "      <th>1</th>\n",
       "      <td>Sentence: 0</td>\n",
       "      <td>metabolic</td>\n",
       "      <td>O</td>\n",
       "    </tr>\n",
       "    <tr>\n",
       "      <th>2</th>\n",
       "      <td>Sentence: 0</td>\n",
       "      <td>and</td>\n",
       "      <td>O</td>\n",
       "    </tr>\n",
       "    <tr>\n",
       "      <th>3</th>\n",
       "      <td>Sentence: 0</td>\n",
       "      <td>food-</td>\n",
       "      <td>O</td>\n",
       "    </tr>\n",
       "    <tr>\n",
       "      <th>4</th>\n",
       "      <td>Sentence: 0</td>\n",
       "      <td>web</td>\n",
       "      <td>O</td>\n",
       "    </tr>\n",
       "    <tr>\n",
       "      <th>5</th>\n",
       "      <td>Sentence: 0</td>\n",
       "      <td>theory</td>\n",
       "      <td>O</td>\n",
       "    </tr>\n",
       "    <tr>\n",
       "      <th>6</th>\n",
       "      <td>Sentence: 0</td>\n",
       "      <td>,</td>\n",
       "      <td>O</td>\n",
       "    </tr>\n",
       "    <tr>\n",
       "      <th>7</th>\n",
       "      <td>Sentence: 0</td>\n",
       "      <td>we</td>\n",
       "      <td>O</td>\n",
       "    </tr>\n",
       "    <tr>\n",
       "      <th>8</th>\n",
       "      <td>Sentence: 0</td>\n",
       "      <td>calculate</td>\n",
       "      <td>O</td>\n",
       "    </tr>\n",
       "    <tr>\n",
       "      <th>9</th>\n",
       "      <td>Sentence: 0</td>\n",
       "      <td>annual</td>\n",
       "      <td>O</td>\n",
       "    </tr>\n",
       "  </tbody>\n",
       "</table>\n",
       "</div>\n",
       "      <button class=\"colab-df-convert\" onclick=\"convertToInteractive('df-05961a33-a14a-4db2-bfa0-a03738d96a5a')\"\n",
       "              title=\"Convert this dataframe to an interactive table.\"\n",
       "              style=\"display:none;\">\n",
       "        \n",
       "  <svg xmlns=\"http://www.w3.org/2000/svg\" height=\"24px\"viewBox=\"0 0 24 24\"\n",
       "       width=\"24px\">\n",
       "    <path d=\"M0 0h24v24H0V0z\" fill=\"none\"/>\n",
       "    <path d=\"M18.56 5.44l.94 2.06.94-2.06 2.06-.94-2.06-.94-.94-2.06-.94 2.06-2.06.94zm-11 1L8.5 8.5l.94-2.06 2.06-.94-2.06-.94L8.5 2.5l-.94 2.06-2.06.94zm10 10l.94 2.06.94-2.06 2.06-.94-2.06-.94-.94-2.06-.94 2.06-2.06.94z\"/><path d=\"M17.41 7.96l-1.37-1.37c-.4-.4-.92-.59-1.43-.59-.52 0-1.04.2-1.43.59L10.3 9.45l-7.72 7.72c-.78.78-.78 2.05 0 2.83L4 21.41c.39.39.9.59 1.41.59.51 0 1.02-.2 1.41-.59l7.78-7.78 2.81-2.81c.8-.78.8-2.07 0-2.86zM5.41 20L4 18.59l7.72-7.72 1.47 1.35L5.41 20z\"/>\n",
       "  </svg>\n",
       "      </button>\n",
       "      \n",
       "  <style>\n",
       "    .colab-df-container {\n",
       "      display:flex;\n",
       "      flex-wrap:wrap;\n",
       "      gap: 12px;\n",
       "    }\n",
       "\n",
       "    .colab-df-convert {\n",
       "      background-color: #E8F0FE;\n",
       "      border: none;\n",
       "      border-radius: 50%;\n",
       "      cursor: pointer;\n",
       "      display: none;\n",
       "      fill: #1967D2;\n",
       "      height: 32px;\n",
       "      padding: 0 0 0 0;\n",
       "      width: 32px;\n",
       "    }\n",
       "\n",
       "    .colab-df-convert:hover {\n",
       "      background-color: #E2EBFA;\n",
       "      box-shadow: 0px 1px 2px rgba(60, 64, 67, 0.3), 0px 1px 3px 1px rgba(60, 64, 67, 0.15);\n",
       "      fill: #174EA6;\n",
       "    }\n",
       "\n",
       "    [theme=dark] .colab-df-convert {\n",
       "      background-color: #3B4455;\n",
       "      fill: #D2E3FC;\n",
       "    }\n",
       "\n",
       "    [theme=dark] .colab-df-convert:hover {\n",
       "      background-color: #434B5C;\n",
       "      box-shadow: 0px 1px 3px 1px rgba(0, 0, 0, 0.15);\n",
       "      filter: drop-shadow(0px 1px 2px rgba(0, 0, 0, 0.3));\n",
       "      fill: #FFFFFF;\n",
       "    }\n",
       "  </style>\n",
       "\n",
       "      <script>\n",
       "        const buttonEl =\n",
       "          document.querySelector('#df-05961a33-a14a-4db2-bfa0-a03738d96a5a button.colab-df-convert');\n",
       "        buttonEl.style.display =\n",
       "          google.colab.kernel.accessAllowed ? 'block' : 'none';\n",
       "\n",
       "        async function convertToInteractive(key) {\n",
       "          const element = document.querySelector('#df-05961a33-a14a-4db2-bfa0-a03738d96a5a');\n",
       "          const dataTable =\n",
       "            await google.colab.kernel.invokeFunction('convertToInteractive',\n",
       "                                                     [key], {});\n",
       "          if (!dataTable) return;\n",
       "\n",
       "          const docLinkHtml = 'Like what you see? Visit the ' +\n",
       "            '<a target=\"_blank\" href=https://colab.research.google.com/notebooks/data_table.ipynb>data table notebook</a>'\n",
       "            + ' to learn more about interactive tables.';\n",
       "          element.innerHTML = '';\n",
       "          dataTable['output_type'] = 'display_data';\n",
       "          await google.colab.output.renderOutput(dataTable, element);\n",
       "          const docLink = document.createElement('div');\n",
       "          docLink.innerHTML = docLinkHtml;\n",
       "          element.appendChild(docLink);\n",
       "        }\n",
       "      </script>\n",
       "    </div>\n",
       "  </div>\n",
       "  "
      ],
      "text/plain": [
       "    Sentence #       Word Tag\n",
       "0  Sentence: 0  Combining   O\n",
       "1  Sentence: 0  metabolic   O\n",
       "2  Sentence: 0        and   O\n",
       "3  Sentence: 0      food-   O\n",
       "4  Sentence: 0        web   O\n",
       "5  Sentence: 0     theory   O\n",
       "6  Sentence: 0          ,   O\n",
       "7  Sentence: 0         we   O\n",
       "8  Sentence: 0  calculate   O\n",
       "9  Sentence: 0     annual   O"
      ]
     },
     "execution_count": 15,
     "metadata": {},
     "output_type": "execute_result"
    }
   ],
   "source": [
    "test_data.head(10)"
   ]
  },
  {
   "cell_type": "code",
   "execution_count": null,
   "metadata": {
    "colab": {
     "base_uri": "https://localhost:8080/"
    },
    "executionInfo": {
     "elapsed": 10,
     "status": "ok",
     "timestamp": 1649759090987,
     "user": {
      "displayName": "Nora Youssef",
      "userId": "03639374922222745842"
     },
     "user_tz": -120
    },
    "id": "PDFwh1Z13aaC",
    "outputId": "38faf599-91f0-4c3b-f857-85dd91255228"
   },
   "outputs": [
    {
     "name": "stdout",
     "output_type": "stream",
     "text": [
      "8672\n",
      "ENDPAD\n"
     ]
    }
   ],
   "source": [
    "#if the data are in string style, we propably use tokenzer.fit_on_texts instead of list manipulation like here\n",
    "\n",
    "VOCAB = list(set(list(data[\"Word\"].values) + list(test_data[\"Word\"].values)))\n",
    "VOCAB.append(\"ENDPAD\")\n",
    "\n",
    "n_words = len(VOCAB) #n_words includes all vocab from train and validation test.\n",
    "print(n_words)\n",
    "print(VOCAB[n_words-1])"
   ]
  },
  {
   "cell_type": "code",
   "execution_count": null,
   "metadata": {
    "colab": {
     "base_uri": "https://localhost:8080/"
    },
    "executionInfo": {
     "elapsed": 7,
     "status": "ok",
     "timestamp": 1649759090988,
     "user": {
      "displayName": "Nora Youssef",
      "userId": "03639374922222745842"
     },
     "user_tz": -120
    },
    "id": "WCbHbHRZ3aZ7",
    "outputId": "0a4a7e8d-e07d-4cdf-a126-23b59eadb8db"
   },
   "outputs": [
    {
     "data": {
      "text/plain": [
       "13"
      ]
     },
     "execution_count": 17,
     "metadata": {},
     "output_type": "execute_result"
    }
   ],
   "source": [
    "tags = list(set(data[\"Tag\"].values))\n",
    "n_tags = len(tags)\n",
    "n_tags"
   ]
  },
  {
   "cell_type": "markdown",
   "metadata": {
    "id": "zJPbPw-qqRn2"
   },
   "source": [
    "###Sentences "
   ]
  },
  {
   "cell_type": "code",
   "execution_count": null,
   "metadata": {
    "id": "VgntHfAo3aZy"
   },
   "outputs": [],
   "source": [
    "getter = SentenceGetter(data)\n",
    "sentences = getter.sentences"
   ]
  },
  {
   "cell_type": "code",
   "execution_count": null,
   "metadata": {
    "id": "zcBRLeDcc1qo"
   },
   "outputs": [],
   "source": [
    "getter_test = SentenceGetter(test_data)\n",
    "sentences_test = getter_test.sentences"
   ]
  },
  {
   "cell_type": "markdown",
   "metadata": {
    "id": "rxatmEuRqW1M"
   },
   "source": [
    "#### Exploration"
   ]
  },
  {
   "cell_type": "code",
   "execution_count": null,
   "metadata": {
    "colab": {
     "base_uri": "https://localhost:8080/"
    },
    "executionInfo": {
     "elapsed": 9,
     "status": "ok",
     "timestamp": 1649759091250,
     "user": {
      "displayName": "Nora Youssef",
      "userId": "03639374922222745842"
     },
     "user_tz": -120
    },
    "id": "iy9T8Djo3aZY",
    "outputId": "8df2fe96-2018-400d-8523-8ac6cfdae724"
   },
   "outputs": [
    {
     "name": "stdout",
     "output_type": "stream",
     "text": [
      "[('The', 'O'), ('primacy', 'O'), ('of', 'O'), ('either', 'O'), ('species', 'B-Quality'), ('or', 'O'), ('functional', 'O'), ('group', 'O'), ('richness', 'B-Quality'), ('effects', 'O'), ('depended', 'O'), ('on', 'O'), ('the', 'O'), ('sequence', 'O'), ('of', 'O'), ('testing', 'O'), ('these', 'O'), ('terms', 'O'), (',', 'O'), ('indicating', 'O'), ('that', 'O'), ('both', 'O'), ('aspects', 'O'), ('of', 'O'), ('richness', 'B-Quality'), ('were', 'O'), ('congruent', 'O'), ('and', 'O'), ('complementary', 'O'), ('to', 'O'), ('expected', 'O'), ('strong', 'O'), ('effects', 'O'), ('of', 'O'), ('legume', 'O'), ('presence', 'O'), ('and', 'O'), ('grass', 'B-Organism'), ('presence', 'O'), ('on', 'O'), ('plant', 'B-Organism'), ('chemical', 'B-Quality'), ('composition', 'I-Quality'), ('.', 'O')]\n"
     ]
    }
   ],
   "source": [
    "sent = getter_test.get_next()\n",
    "print(sent)"
   ]
  },
  {
   "cell_type": "code",
   "execution_count": null,
   "metadata": {
    "colab": {
     "base_uri": "https://localhost:8080/"
    },
    "executionInfo": {
     "elapsed": 9,
     "status": "ok",
     "timestamp": 1649759091251,
     "user": {
      "displayName": "Nora Youssef",
      "userId": "03639374922222745842"
     },
     "user_tz": -120
    },
    "id": "M4mC-rigq23J",
    "outputId": "cbb15a12-1d92-4106-b89b-e1a828e5c915"
   },
   "outputs": [
    {
     "data": {
      "text/plain": [
       "[('bottom', 'O'),\n",
       " ('board', 'O'),\n",
       " ('debris', 'O'),\n",
       " (',', 'O'),\n",
       " ('frames', 'O'),\n",
       " (',', 'O'),\n",
       " ('landing', 'O'),\n",
       " ('platforms', 'O'),\n",
       " (')', 'O'),\n",
       " (',', 'O'),\n",
       " ('and', 'O'),\n",
       " ('isolates', 'O'),\n",
       " ('of', 'O'),\n",
       " ('microbes', 'O'),\n",
       " (',', 'O'),\n",
       " ('parasites', 'O'),\n",
       " ('and', 'O'),\n",
       " ('pathogens', 'O'),\n",
       " ('from', 'O'),\n",
       " ('honey', 'B-Organism'),\n",
       " ('bees', 'I-Organism'),\n",
       " ('.', 'O')]"
      ]
     },
     "execution_count": 21,
     "metadata": {},
     "output_type": "execute_result"
    }
   ],
   "source": [
    "sentences[1]"
   ]
  },
  {
   "cell_type": "code",
   "execution_count": null,
   "metadata": {
    "id": "8xjS_lpd3aZI"
   },
   "outputs": [],
   "source": [
    "import matplotlib.pyplot as plt\n",
    "plt.style.use(\"ggplot\")"
   ]
  },
  {
   "cell_type": "code",
   "execution_count": null,
   "metadata": {
    "colab": {
     "base_uri": "https://localhost:8080/",
     "height": 265
    },
    "executionInfo": {
     "elapsed": 8,
     "status": "ok",
     "timestamp": 1649759091252,
     "user": {
      "displayName": "Nora Youssef",
      "userId": "03639374922222745842"
     },
     "user_tz": -120
    },
    "id": "yXMq0bHN3aZB",
    "outputId": "af14ca51-d7c9-4e57-ffad-75d594f33736"
   },
   "outputs": [
    {
     "data": {
      "image/png": "[encoded data removed]",
      "text/plain": [
       "<Figure size 432x288 with 1 Axes>"
      ]
     },
     "metadata": {},
     "output_type": "display_data"
    }
   ],
   "source": [
    "plt.hist([len(s) for s in sentences], bins=5)\n",
    "plt.show()"
   ]
  },
  {
   "cell_type": "code",
   "execution_count": null,
   "metadata": {
    "colab": {
     "base_uri": "https://localhost:8080/"
    },
    "executionInfo": {
     "elapsed": 234,
     "status": "ok",
     "timestamp": 1649759091479,
     "user": {
      "displayName": "Nora Youssef",
      "userId": "03639374922222745842"
     },
     "user_tz": -120
    },
    "id": "1-aS91hTKB5i",
    "outputId": "58cf6902-fe06-4acd-db74-d11834abf63d"
   },
   "outputs": [
    {
     "data": {
      "text/plain": [
       "1053"
      ]
     },
     "execution_count": 24,
     "metadata": {},
     "output_type": "execute_result"
    }
   ],
   "source": [
    "max([len(s) for s in sentences])"
   ]
  },
  {
   "cell_type": "code",
   "execution_count": null,
   "metadata": {
    "id": "FBQLnJyY3aY7"
   },
   "outputs": [],
   "source": [
    "max_len = 93 #selected value outisde the histogram"
   ]
  },
  {
   "cell_type": "markdown",
   "metadata": {
    "id": "jS_XoqWN1o2i"
   },
   "source": [
    "### Utils"
   ]
  },
  {
   "cell_type": "code",
   "execution_count": null,
   "metadata": {
    "id": "1oGye-_M3aY1"
   },
   "outputs": [],
   "source": [
    "word2idx = {w: i + 1 for i, w in enumerate(VOCAB)}\n",
    "tag2idx = {t: i for i, t in enumerate(tags)}"
   ]
  },
  {
   "cell_type": "code",
   "execution_count": null,
   "metadata": {
    "colab": {
     "base_uri": "https://localhost:8080/"
    },
    "executionInfo": {
     "elapsed": 4,
     "status": "ok",
     "timestamp": 1649759091480,
     "user": {
      "displayName": "Nora Youssef",
      "userId": "03639374922222745842"
     },
     "user_tz": -120
    },
    "id": "3N-QHHeh3aYt",
    "outputId": "374f2880-bd17-48c8-8fd9-4fad6c300a40"
   },
   "outputs": [
    {
     "data": {
      "text/plain": [
       "8672"
      ]
     },
     "execution_count": 27,
     "metadata": {},
     "output_type": "execute_result"
    }
   ],
   "source": [
    "word2idx[\"ENDPAD\"]"
   ]
  },
  {
   "cell_type": "code",
   "execution_count": null,
   "metadata": {
    "colab": {
     "base_uri": "https://localhost:8080/"
    },
    "executionInfo": {
     "elapsed": 4,
     "status": "ok",
     "timestamp": 1649759091480,
     "user": {
      "displayName": "Nora Youssef",
      "userId": "03639374922222745842"
     },
     "user_tz": -120
    },
    "id": "Q-_K_AaW3aYn",
    "outputId": "478367ec-58df-42d8-92c1-b188948533e2"
   },
   "outputs": [
    {
     "data": {
      "text/plain": [
       "8"
      ]
     },
     "execution_count": 28,
     "metadata": {},
     "output_type": "execute_result"
    }
   ],
   "source": [
    "tag2idx[\"B-Environment\"]"
   ]
  },
  {
   "cell_type": "code",
   "execution_count": null,
   "metadata": {
    "id": "mOuBcuIn1Xq7"
   },
   "outputs": [],
   "source": [
    "idx2tag = {i: w for w, i in tag2idx.items()}\n",
    "index2word = {i: w for w, i in word2idx.items()}"
   ]
  },
  {
   "cell_type": "markdown",
   "metadata": {
    "id": "ficlztQjaUVa"
   },
   "source": [
    "### X & Y Preparation"
   ]
  },
  {
   "cell_type": "code",
   "execution_count": null,
   "metadata": {
    "colab": {
     "base_uri": "https://localhost:8080/"
    },
    "executionInfo": {
     "elapsed": 2834,
     "status": "ok",
     "timestamp": 1649759094312,
     "user": {
      "displayName": "Nora Youssef",
      "userId": "03639374922222745842"
     },
     "user_tz": -120
    },
    "id": "DP2TPmt4bjKd",
    "outputId": "b4036d56-f2f4-4448-f14b-1a86b57a2a34"
   },
   "outputs": [
    {
     "name": "stderr",
     "output_type": "stream",
     "text": [
      "Using TensorFlow backend.\n"
     ]
    }
   ],
   "source": [
    "from keras.preprocessing.sequence import pad_sequences\n",
    "from keras.utils import to_categorical\n",
    "\n",
    "def getXYFromSentences(sentences):\n",
    "  \n",
    "  X = [[word2idx[w[0]] for w in s] for s in sentences]\n",
    "  X = pad_sequences(maxlen=max_len, sequences=X, padding=\"post\", value=word2idx[\"ENDPAD\"])\n",
    "   \n",
    "  y = [[tag2idx[w[1]] for w in s] for s in sentences]\n",
    "  y = pad_sequences(maxlen=max_len, sequences=y, padding=\"post\", value=tag2idx[\"O\"])\n",
    "  y = np.array([to_categorical(i, num_classes=n_tags) for i in y])\n",
    "  return X, y"
   ]
  },
  {
   "cell_type": "code",
   "execution_count": null,
   "metadata": {
    "id": "ZOBpJZHb3aYe"
   },
   "outputs": [],
   "source": [
    "X_train, y_train = getXYFromSentences(sentences)"
   ]
  },
  {
   "cell_type": "code",
   "execution_count": null,
   "metadata": {
    "id": "vO2Ylt52cbpD"
   },
   "outputs": [],
   "source": [
    "X_test, y_test = getXYFromSentences(sentences_test)"
   ]
  },
  {
   "cell_type": "markdown",
   "metadata": {
    "id": "PM4CKiLrK4yV"
   },
   "source": [
    "#### Exploration"
   ]
  },
  {
   "cell_type": "code",
   "execution_count": null,
   "metadata": {
    "id": "GRZvmEDDLpkb"
   },
   "outputs": [],
   "source": [
    "target = X_test[1]"
   ]
  },
  {
   "cell_type": "code",
   "execution_count": null,
   "metadata": {
    "colab": {
     "base_uri": "https://localhost:8080/"
    },
    "executionInfo": {
     "elapsed": 6,
     "status": "ok",
     "timestamp": 1649759094314,
     "user": {
      "displayName": "Nora Youssef",
      "userId": "03639374922222745842"
     },
     "user_tz": -120
    },
    "id": "5KKMsFopK7UR",
    "outputId": "a996a9ec-c800-4c56-e0c2-62c8c3959d0a"
   },
   "outputs": [
    {
     "data": {
      "text/plain": [
       "array([1951, 5852,  876, 6460, 8078,  247, 5202, 8001, 3548, 6705, 8469,\n",
       "       2982, 4037, 1882,  876, 3571, 1513, 7811,   87, 7548, 2801, 4801,\n",
       "       4632,  876, 3548, 5521, 2278, 2793, 1991, 8514, 7482,  289, 6705,\n",
       "        876, 5259, 2650, 2793, 5240, 2650, 2982, 2536, 1297, 1273, 4816,\n",
       "       8672, 8672, 8672, 8672, 8672, 8672, 8672, 8672, 8672, 8672, 8672,\n",
       "       8672, 8672, 8672, 8672, 8672, 8672, 8672, 8672, 8672, 8672, 8672,\n",
       "       8672, 8672, 8672, 8672, 8672, 8672, 8672, 8672, 8672, 8672, 8672,\n",
       "       8672, 8672, 8672, 8672, 8672, 8672, 8672, 8672, 8672, 8672, 8672,\n",
       "       8672, 8672, 8672, 8672, 8672], dtype=int32)"
      ]
     },
     "execution_count": 34,
     "metadata": {},
     "output_type": "execute_result"
    }
   ],
   "source": [
    "target"
   ]
  },
  {
   "cell_type": "code",
   "execution_count": null,
   "metadata": {
    "colab": {
     "base_uri": "https://localhost:8080/"
    },
    "executionInfo": {
     "elapsed": 351,
     "status": "ok",
     "timestamp": 1649759094659,
     "user": {
      "displayName": "Nora Youssef",
      "userId": "03639374922222745842"
     },
     "user_tz": -120
    },
    "id": "7pJyYzXRLLK2",
    "outputId": "958781fd-9b63-4d18-ef0c-47c40695d4b4"
   },
   "outputs": [
    {
     "data": {
      "text/plain": [
       "array(['The', 'primacy', 'of', 'either', 'species', 'or', 'functional',\n",
       "       'group', 'richness', 'effects', 'depended', 'on', 'the',\n",
       "       'sequence', 'of', 'testing', 'these', 'terms', ',', 'indicating',\n",
       "       'that', 'both', 'aspects', 'of', 'richness', 'were', 'congruent',\n",
       "       'and', 'complementary', 'to', 'expected', 'strong', 'effects',\n",
       "       'of', 'legume', 'presence', 'and', 'grass', 'presence', 'on',\n",
       "       'plant', 'chemical', 'composition', '.', 'ENDPAD', 'ENDPAD',\n",
       "       'ENDPAD', 'ENDPAD', 'ENDPAD', 'ENDPAD', 'ENDPAD', 'ENDPAD',\n",
       "       'ENDPAD', 'ENDPAD', 'ENDPAD', 'ENDPAD', 'ENDPAD', 'ENDPAD',\n",
       "       'ENDPAD', 'ENDPAD', 'ENDPAD', 'ENDPAD', 'ENDPAD', 'ENDPAD',\n",
       "       'ENDPAD', 'ENDPAD', 'ENDPAD', 'ENDPAD', 'ENDPAD', 'ENDPAD',\n",
       "       'ENDPAD', 'ENDPAD', 'ENDPAD', 'ENDPAD', 'ENDPAD', 'ENDPAD',\n",
       "       'ENDPAD', 'ENDPAD', 'ENDPAD', 'ENDPAD', 'ENDPAD', 'ENDPAD',\n",
       "       'ENDPAD', 'ENDPAD', 'ENDPAD', 'ENDPAD', 'ENDPAD', 'ENDPAD',\n",
       "       'ENDPAD', 'ENDPAD', 'ENDPAD', 'ENDPAD', 'ENDPAD'], dtype='<U13')"
      ]
     },
     "execution_count": 35,
     "metadata": {},
     "output_type": "execute_result"
    }
   ],
   "source": [
    "np.asarray([index2word[i] for i in  target])"
   ]
  },
  {
   "cell_type": "code",
   "execution_count": null,
   "metadata": {
    "id": "rBTHdKzyL8UK"
   },
   "outputs": [],
   "source": [
    "target = y_train[1]"
   ]
  },
  {
   "cell_type": "code",
   "execution_count": null,
   "metadata": {
    "colab": {
     "base_uri": "https://localhost:8080/"
    },
    "executionInfo": {
     "elapsed": 7,
     "status": "ok",
     "timestamp": 1649759094659,
     "user": {
      "displayName": "Nora Youssef",
      "userId": "03639374922222745842"
     },
     "user_tz": -120
    },
    "id": "ooRhSn4dMEgc",
    "outputId": "a07a4d1c-5ee5-4a79-b170-564beadb7bad"
   },
   "outputs": [
    {
     "data": {
      "text/plain": [
       "(93, 13)"
      ]
     },
     "execution_count": 37,
     "metadata": {},
     "output_type": "execute_result"
    }
   ],
   "source": [
    "target.shape\n"
   ]
  },
  {
   "cell_type": "code",
   "execution_count": null,
   "metadata": {
    "colab": {
     "base_uri": "https://localhost:8080/"
    },
    "executionInfo": {
     "elapsed": 5,
     "status": "ok",
     "timestamp": 1649759094659,
     "user": {
      "displayName": "Nora Youssef",
      "userId": "03639374922222745842"
     },
     "user_tz": -120
    },
    "id": "Iif6da5uMBox",
    "outputId": "a4241c70-7bf6-403b-b880-db93f7dbfc43"
   },
   "outputs": [
    {
     "data": {
      "text/plain": [
       "array(['O', 'O', 'O', 'O', 'O', 'O', 'O', 'O', 'O', 'O', 'O', 'O', 'O',\n",
       "       'O', 'O', 'O', 'O', 'O', 'O', 'B-Organism', 'I-Organism', 'O', 'O',\n",
       "       'O', 'O', 'O', 'O', 'O', 'O', 'O', 'O', 'O', 'O', 'O', 'O', 'O',\n",
       "       'O', 'O', 'O', 'O', 'O', 'O', 'O', 'O', 'O', 'O', 'O', 'O', 'O',\n",
       "       'O', 'O', 'O', 'O', 'O', 'O', 'O', 'O', 'O', 'O', 'O', 'O', 'O',\n",
       "       'O', 'O', 'O', 'O', 'O', 'O', 'O', 'O', 'O', 'O', 'O', 'O', 'O',\n",
       "       'O', 'O', 'O', 'O', 'O', 'O', 'O', 'O', 'O', 'O', 'O', 'O', 'O',\n",
       "       'O', 'O', 'O', 'O', 'O'], dtype='<U10')"
      ]
     },
     "execution_count": 38,
     "metadata": {},
     "output_type": "execute_result"
    }
   ],
   "source": [
    "np.asarray([idx2tag[np.argmax(i)] for i in  target])"
   ]
  },
  {
   "cell_type": "markdown",
   "metadata": {
    "id": "JmXgVQiFQVnN"
   },
   "source": [
    "## BiLSTM Model"
   ]
  },
  {
   "cell_type": "code",
   "execution_count": null,
   "metadata": {
    "id": "ET2AHFutQNPY"
   },
   "outputs": [],
   "source": [
    "from keras import callbacks\n",
    "from keras.models import Model, Input, model_from_json\n",
    "from keras.layers import LSTM, Embedding, Dense, TimeDistributed, Dropout, Bidirectional\n",
    "from keras.optimizers import RMSprop"
   ]
  },
  {
   "cell_type": "code",
   "execution_count": null,
   "metadata": {
    "id": "YHRrG7r7Qs-P"
   },
   "outputs": [],
   "source": [
    "def create_model():\n",
    "  input = Input(shape=(max_len,))\n",
    "  #in the line below --> laurance set the input_length = max_len-1 (NLP in TF Week4)\n",
    "  model = Embedding(input_dim=n_words, output_dim=50, input_length=max_len)(input)\n",
    "  model = Dropout(rate=0.1)(model)\n",
    "  model = Bidirectional(LSTM(units=100, return_sequences=True, recurrent_dropout=0.1))(model)\n",
    "  out = TimeDistributed(Dense(n_tags, activation=\"softmax\"))(model)  # softmax output layer\n",
    "  \n",
    "  return Model(input, out)"
   ]
  },
  {
   "cell_type": "code",
   "execution_count": null,
   "metadata": {
    "colab": {
     "base_uri": "https://localhost:8080/"
    },
    "executionInfo": {
     "elapsed": 465,
     "status": "ok",
     "timestamp": 1649759095121,
     "user": {
      "displayName": "Nora Youssef",
      "userId": "03639374922222745842"
     },
     "user_tz": -120
    },
    "id": "v3oJQi__RZnw",
    "outputId": "539a3ed3-e63f-4122-a931-9d943e571b62"
   },
   "outputs": [
    {
     "name": "stdout",
     "output_type": "stream",
     "text": [
      "WARNING:tensorflow:From /tensorflow-1.15.2/python3.7/tensorflow_core/python/ops/resource_variable_ops.py:1630: calling BaseResourceVariable.__init__ (from tensorflow.python.ops.resource_variable_ops) with constraint is deprecated and will be removed in a future version.\n",
      "Instructions for updating:\n",
      "If using Keras pass *_constraint arguments to layers.\n"
     ]
    }
   ],
   "source": [
    "model = create_model()\n",
    "#model = load_model()"
   ]
  },
  {
   "cell_type": "code",
   "execution_count": null,
   "metadata": {
    "colab": {
     "base_uri": "https://localhost:8080/"
    },
    "executionInfo": {
     "elapsed": 4,
     "status": "ok",
     "timestamp": 1649759095121,
     "user": {
      "displayName": "Nora Youssef",
      "userId": "03639374922222745842"
     },
     "user_tz": -120
    },
    "id": "tmgovNJTbxBO",
    "outputId": "160d1096-a71a-47b7-b3c4-180af570dc82"
   },
   "outputs": [
    {
     "name": "stdout",
     "output_type": "stream",
     "text": [
      "Model: \"model_1\"\n",
      "_________________________________________________________________\n",
      "Layer (type)                 Output Shape              Param #   \n",
      "=================================================================\n",
      "input_1 (InputLayer)         (None, 93)                0         \n",
      "_________________________________________________________________\n",
      "embedding_1 (Embedding)      (None, 93, 50)            433600    \n",
      "_________________________________________________________________\n",
      "dropout_1 (Dropout)          (None, 93, 50)            0         \n",
      "_________________________________________________________________\n",
      "bidirectional_1 (Bidirection (None, 93, 200)           120800    \n",
      "_________________________________________________________________\n",
      "time_distributed_1 (TimeDist (None, 93, 13)            2613      \n",
      "=================================================================\n",
      "Total params: 557,013\n",
      "Trainable params: 557,013\n",
      "Non-trainable params: 0\n",
      "_________________________________________________________________\n"
     ]
    }
   ],
   "source": [
    "model.summary()"
   ]
  },
  {
   "cell_type": "code",
   "execution_count": null,
   "metadata": {
    "id": "qqtT84Q3RvEa"
   },
   "outputs": [],
   "source": [
    "model.compile(optimizer=RMSprop(), loss=\"categorical_crossentropy\", metrics=[\"accuracy\"])"
   ]
  },
  {
   "cell_type": "code",
   "execution_count": null,
   "metadata": {
    "id": "Tuq9TL_hhba9"
   },
   "outputs": [],
   "source": [
    "class myCallback(callbacks.Callback):\n",
    "  def on_epoch_end(self, epoch, logs={}):\n",
    "    if(logs.get('accuracy')>=0.989):\n",
    "      print(\"\\nReached 98.9% accuracy so cancelling training!\")\n",
    "      self.model.stop_training = True\n",
    " "
   ]
  },
  {
   "cell_type": "code",
   "execution_count": null,
   "metadata": {
    "id": "IUGGzLfZUVQR"
   },
   "outputs": [],
   "source": [
    "from sklearn.model_selection import train_test_split"
   ]
  },
  {
   "cell_type": "code",
   "execution_count": null,
   "metadata": {
    "id": "r_x066BaUYR8"
   },
   "outputs": [],
   "source": [
    "X_train, X_val, y_train, y_val = train_test_split(X_train, y_train, test_size=0.20)"
   ]
  },
  {
   "cell_type": "code",
   "execution_count": null,
   "metadata": {
    "colab": {
     "base_uri": "https://localhost:8080/"
    },
    "executionInfo": {
     "elapsed": 4,
     "status": "ok",
     "timestamp": 1649759095659,
     "user": {
      "displayName": "Nora Youssef",
      "userId": "03639374922222745842"
     },
     "user_tz": -120
    },
    "id": "4sEmQfT4WLIR",
    "outputId": "84936420-6840-4f58-cc1c-502b8b2d2f5d"
   },
   "outputs": [
    {
     "name": "stdout",
     "output_type": "stream",
     "text": [
      "(1534, 93)\n",
      "(384, 93)\n",
      "(240, 93)\n",
      "(1534, 93, 13)\n",
      "(384, 93, 13)\n",
      "(240, 93, 13)\n"
     ]
    }
   ],
   "source": [
    "print(X_train.shape)\n",
    "print(X_val.shape)\n",
    "print(X_test.shape)\n",
    "print(y_train.shape)\n",
    "print(y_val.shape)\n",
    "print(y_test.shape)"
   ]
  },
  {
   "cell_type": "code",
   "execution_count": null,
   "metadata": {
    "colab": {
     "base_uri": "https://localhost:8080/"
    },
    "executionInfo": {
     "elapsed": 73710,
     "status": "ok",
     "timestamp": 1649759169367,
     "user": {
      "displayName": "Nora Youssef",
      "userId": "03639374922222745842"
     },
     "user_tz": -120
    },
    "id": "87AaEwD8RyHe",
    "outputId": "90a74e5d-0bcb-4434-842d-2734e8d1151b"
   },
   "outputs": [
    {
     "name": "stdout",
     "output_type": "stream",
     "text": [
      "WARNING:tensorflow:From /tensorflow-1.15.2/python3.7/tensorflow_core/python/ops/math_grad.py:1424: where (from tensorflow.python.ops.array_ops) is deprecated and will be removed in a future version.\n",
      "Instructions for updating:\n",
      "Use tf.where in 2.0, which has the same broadcast rule as np.where\n",
      "WARNING:tensorflow:From /tensorflow-1.15.2/python3.7/keras/backend/tensorflow_backend.py:422: The name tf.global_variables is deprecated. Please use tf.compat.v1.global_variables instead.\n",
      "\n",
      "Train on 1534 samples, validate on 384 samples\n",
      "Epoch 1/10\n",
      "1534/1534 [==============================] - 8s 5ms/step - loss: 0.4732 - accuracy: 0.9308 - val_loss: 0.2775 - val_accuracy: 0.9496\n",
      "Epoch 2/10\n",
      "1534/1534 [==============================] - 7s 4ms/step - loss: 0.2725 - accuracy: 0.9496 - val_loss: 0.2624 - val_accuracy: 0.9503\n",
      "Epoch 3/10\n",
      "1534/1534 [==============================] - 7s 4ms/step - loss: 0.2529 - accuracy: 0.9497 - val_loss: 0.2467 - val_accuracy: 0.9503\n",
      "Epoch 4/10\n",
      "1534/1534 [==============================] - 7s 4ms/step - loss: 0.2225 - accuracy: 0.9497 - val_loss: 0.2195 - val_accuracy: 0.9494\n",
      "Epoch 5/10\n",
      "1534/1534 [==============================] - 7s 4ms/step - loss: 0.1821 - accuracy: 0.9514 - val_loss: 0.1763 - val_accuracy: 0.9542\n",
      "Epoch 6/10\n",
      "1534/1534 [==============================] - 8s 5ms/step - loss: 0.1553 - accuracy: 0.9573 - val_loss: 0.1568 - val_accuracy: 0.9614\n",
      "Epoch 7/10\n",
      "1534/1534 [==============================] - 7s 4ms/step - loss: 0.1336 - accuracy: 0.9633 - val_loss: 0.1462 - val_accuracy: 0.9636\n",
      "Epoch 8/10\n",
      "1534/1534 [==============================] - 7s 4ms/step - loss: 0.1202 - accuracy: 0.9662 - val_loss: 0.1383 - val_accuracy: 0.9659\n",
      "Epoch 9/10\n",
      "1534/1534 [==============================] - 7s 4ms/step - loss: 0.1110 - accuracy: 0.9685 - val_loss: 0.1291 - val_accuracy: 0.9673\n",
      "Epoch 10/10\n",
      "1534/1534 [==============================] - 7s 4ms/step - loss: 0.1026 - accuracy: 0.9704 - val_loss: 0.1287 - val_accuracy: 0.9687\n"
     ]
    }
   ],
   "source": [
    "history = model.fit(X_train, y_train, validation_data=(X_val, y_val), shuffle=True, batch_size=32, epochs=10, verbose=1, callbacks=[myCallback()])"
   ]
  },
  {
   "cell_type": "code",
   "execution_count": 66,
   "metadata": {
    "colab": {
     "base_uri": "https://localhost:8080/"
    },
    "executionInfo": {
     "elapsed": 500,
     "status": "ok",
     "timestamp": 1649759345456,
     "user": {
      "displayName": "Nora Youssef",
      "userId": "03639374922222745842"
     },
     "user_tz": -120
    },
    "id": "9_9TMZn28J7f",
    "outputId": "a10875ca-404a-4cf3-de2b-405c4a3f67a8"
   },
   "outputs": [
    {
     "name": "stdout",
     "output_type": "stream",
     "text": [
      "Saved model to disk\n"
     ]
    }
   ],
   "source": [
    "save_model(model)"
   ]
  },
  {
   "cell_type": "code",
   "execution_count": null,
   "metadata": {
    "id": "-74jERJeS6QM"
   },
   "outputs": [],
   "source": [
    "hist = pd.DataFrame(history.history)"
   ]
  },
  {
   "cell_type": "code",
   "execution_count": null,
   "metadata": {
    "id": "3-ERn4Rc9J4_"
   },
   "outputs": [],
   "source": [
    "saveDataFrameToCSV(hist, training_history_csv, append=True)\n",
    " "
   ]
  },
  {
   "cell_type": "code",
   "execution_count": null,
   "metadata": {
    "colab": {
     "base_uri": "https://localhost:8080/",
     "height": 717
    },
    "executionInfo": {
     "elapsed": 450,
     "status": "ok",
     "timestamp": 1649759169809,
     "user": {
      "displayName": "Nora Youssef",
      "userId": "03639374922222745842"
     },
     "user_tz": -120
    },
    "id": "MwJX2aS2W8Tf",
    "outputId": "26805a15-c4da-4ea3-a41b-cf0eada22a82"
   },
   "outputs": [
    {
     "data": {
      "image/png": "[encoded data removed]",
      "text/plain": [
       "<Figure size 864x864 with 1 Axes>"
      ]
     },
     "metadata": {},
     "output_type": "display_data"
    }
   ],
   "source": [
    "plt.figure(figsize=(12,12))\n",
    "plt.plot(hist[\"accuracy\"], label=\"accuracy\")\n",
    "plt.plot(hist[\"val_accuracy\"], label=\"val_accuracy\")\n",
    "plt.title('Training and Validation Accuracy')\n",
    "plt.legend()\n",
    "plt.show()"
   ]
  },
  {
   "cell_type": "code",
   "execution_count": null,
   "metadata": {
    "colab": {
     "base_uri": "https://localhost:8080/"
    },
    "executionInfo": {
     "elapsed": 5,
     "status": "ok",
     "timestamp": 1649759169809,
     "user": {
      "displayName": "Nora Youssef",
      "userId": "03639374922222745842"
     },
     "user_tz": -120
    },
    "id": "AP5DBugQXO8S",
    "outputId": "86d2ba33-0e5d-45df-8e7d-ef21e93d4ce7"
   },
   "outputs": [
    {
     "name": "stdout",
     "output_type": "stream",
     "text": [
      "Word            True                : Pred\n",
      "measurement    : O                   : O\n",
      "begin          : O                   : O\n",
      "--             : O                   : O\n",
      "event          : O                   : O\n",
      "begin          : O                   : O\n",
      "--             : O                   : O\n",
      "start          : O                   : O\n",
      "date           : O                   : O\n",
      "of             : O                   : O\n",
      "event          : O                   : O\n",
      "(              : O                   : O\n",
      "yyyy/mm/dd     : O                   : O\n",
      ";              : O                   : O\n",
      "hh             : O                   : O\n",
      ":              : O                   : O\n",
      "ss             : O                   : O\n",
      ")              : O                   : O\n",
      "Date           : O                   : O\n",
      "time           : O                   : O\n",
      "information    : O                   : O\n",
      "(              : O                   : O\n",
      "end            : O                   : O\n",
      ")              : O                   : O\n",
      ",              : O                   : O\n",
      "dimensionless  : O                   : O\n",
      "end            : O                   : O\n",
      "Date           : O                   : O\n",
      "time           : O                   : O\n",
      "information    : O                   : O\n",
      ",              : O                   : O\n",
      "given          : O                   : O\n",
      "as             : O                   : O\n",
      "year           : O                   : O\n",
      "or             : O                   : O\n",
      "as             : O                   : O\n",
      "date           : O                   : O\n",
      "or             : O                   : O\n",
      "as             : O                   : O\n",
      "date           : O                   : O\n",
      "time           : O                   : O\n",
      ".              : O                   : O\n",
      "ENDPAD         : O                   : O\n",
      "ENDPAD         : O                   : O\n",
      "ENDPAD         : O                   : O\n",
      "ENDPAD         : O                   : O\n",
      "ENDPAD         : O                   : O\n",
      "ENDPAD         : O                   : O\n",
      "ENDPAD         : O                   : O\n",
      "ENDPAD         : O                   : O\n",
      "ENDPAD         : O                   : O\n",
      "ENDPAD         : O                   : O\n",
      "ENDPAD         : O                   : O\n",
      "ENDPAD         : O                   : O\n",
      "ENDPAD         : O                   : O\n",
      "ENDPAD         : O                   : O\n",
      "ENDPAD         : O                   : O\n",
      "ENDPAD         : O                   : O\n",
      "ENDPAD         : O                   : O\n",
      "ENDPAD         : O                   : O\n",
      "ENDPAD         : O                   : O\n",
      "ENDPAD         : O                   : O\n",
      "ENDPAD         : O                   : O\n",
      "ENDPAD         : O                   : O\n",
      "ENDPAD         : O                   : O\n",
      "ENDPAD         : O                   : O\n",
      "ENDPAD         : O                   : O\n",
      "ENDPAD         : O                   : O\n",
      "ENDPAD         : O                   : O\n",
      "ENDPAD         : O                   : O\n",
      "ENDPAD         : O                   : O\n",
      "ENDPAD         : O                   : O\n",
      "ENDPAD         : O                   : O\n",
      "ENDPAD         : O                   : O\n",
      "ENDPAD         : O                   : O\n",
      "ENDPAD         : O                   : O\n",
      "ENDPAD         : O                   : O\n",
      "ENDPAD         : O                   : O\n",
      "ENDPAD         : O                   : O\n",
      "ENDPAD         : O                   : O\n",
      "ENDPAD         : O                   : O\n",
      "ENDPAD         : O                   : O\n",
      "ENDPAD         : O                   : O\n",
      "ENDPAD         : O                   : O\n",
      "ENDPAD         : O                   : O\n",
      "ENDPAD         : O                   : O\n",
      "ENDPAD         : O                   : O\n",
      "ENDPAD         : O                   : O\n",
      "ENDPAD         : O                   : O\n",
      "ENDPAD         : O                   : O\n",
      "ENDPAD         : O                   : O\n",
      "ENDPAD         : O                   : O\n",
      "ENDPAD         : O                   : O\n",
      "ENDPAD         : O                   : O\n"
     ]
    }
   ],
   "source": [
    "i = 5\n",
    "\n",
    "p = model.predict(np.array([X_train[i]]))\n",
    "p = np.argmax(p, axis=-1)\n",
    "\n",
    "true_lbl = y_train[i]\n",
    "true_lbl = np.argmax(true_lbl, axis=-1)\n",
    "\n",
    "print(\"{:15} {:20}: {}\".format(\"Word\", \"True\", \"Pred\"))\n",
    "\n",
    "for w, t, pred in zip(X_train[i], true_lbl, p[0]):    \n",
    "    print(\"{:15}: {:20}: {}\" .format(index2word[w], tags[t], tags[pred]))"
   ]
  },
  {
   "cell_type": "markdown",
   "metadata": {
    "id": "QZ9IBOOJjfcA"
   },
   "source": [
    "##Evaluation"
   ]
  },
  {
   "cell_type": "code",
   "execution_count": null,
   "metadata": {
    "colab": {
     "base_uri": "https://localhost:8080/"
    },
    "executionInfo": {
     "elapsed": 595,
     "status": "ok",
     "timestamp": 1649759170401,
     "user": {
      "displayName": "Nora Youssef",
      "userId": "03639374922222745842"
     },
     "user_tz": -120
    },
    "id": "cBKRFu1dl2JD",
    "outputId": "9ef0f400-57e7-4a6a-9d1f-def4883d4684"
   },
   "outputs": [
    {
     "name": "stdout",
     "output_type": "stream",
     "text": [
      "240/240 [==============================] - 0s 2ms/step\n"
     ]
    },
    {
     "data": {
      "text/plain": [
       "[0.16076813538869222, 0.959587812423706]"
      ]
     },
     "execution_count": 54,
     "metadata": {},
     "output_type": "execute_result"
    }
   ],
   "source": [
    "model.evaluate(x=X_test, y=y_test, batch_size=32, verbose=1)"
   ]
  },
  {
   "cell_type": "code",
   "execution_count": null,
   "metadata": {
    "colab": {
     "base_uri": "https://localhost:8080/"
    },
    "executionInfo": {
     "elapsed": 410,
     "status": "ok",
     "timestamp": 1649759170808,
     "user": {
      "displayName": "Nora Youssef",
      "userId": "03639374922222745842"
     },
     "user_tz": -120
    },
    "id": "fumZ3CdQeEGM",
    "outputId": "c4ce4c93-6db1-4089-de7d-b7a8c1e2e6c6"
   },
   "outputs": [
    {
     "name": "stdout",
     "output_type": "stream",
     "text": [
      "240/240 [==============================] - 0s 2ms/step\n"
     ]
    }
   ],
   "source": [
    "test_pred = model.predict(X_test, verbose=1)"
   ]
  },
  {
   "cell_type": "code",
   "execution_count": null,
   "metadata": {
    "id": "2z5pwi6_eOW3"
   },
   "outputs": [],
   "source": [
    "def pred2label(pred):\n",
    "    out = []\n",
    "    for pred_i in pred:\n",
    "        out_i = []\n",
    "        for p in pred_i:\n",
    "            p_i = np.argmax(p)\n",
    "            out_i.append(idx2tag[p_i].replace(\"ENDPAD\", \"O\"))\n",
    "        out.append(out_i)\n",
    "    return out\n",
    "\n",
    "def test2label(pred):\n",
    "    out = []\n",
    "    for pred_i in pred:\n",
    "        out_i = []\n",
    "        for p in pred_i:\n",
    "            out_i.append(idx2tag[p].replace(\"ENDPAD\", \"O\"))\n",
    "        out.append(out_i)\n",
    "    return out"
   ]
  },
  {
   "cell_type": "code",
   "execution_count": null,
   "metadata": {
    "id": "BKnk3AQhal-s"
   },
   "outputs": [],
   "source": [
    "def toLabel(pred):\n",
    "    out = []\n",
    "    for pred_i in pred:        \n",
    "        out.append(np.asarray([idx2tag[np.argmax(i)] for i in  pred_i]))\n",
    "    return np.asarray(out)\n"
   ]
  },
  {
   "cell_type": "code",
   "execution_count": null,
   "metadata": {
    "id": "zEFnBWkieXLT"
   },
   "outputs": [],
   "source": [
    "pred_labels = pred2label(test_pred)\n",
    "test_labels = test2label(np.argmax(y_test, -1))"
   ]
  },
  {
   "cell_type": "code",
   "execution_count": null,
   "metadata": {
    "colab": {
     "base_uri": "https://localhost:8080/"
    },
    "executionInfo": {
     "elapsed": 6,
     "status": "ok",
     "timestamp": 1649759170809,
     "user": {
      "displayName": "Nora Youssef",
      "userId": "03639374922222745842"
     },
     "user_tz": -120
    },
    "id": "5C9FL6hQgN_o",
    "outputId": "3dd0281f-5f2c-464c-bd3f-5e595307003e"
   },
   "outputs": [
    {
     "name": "stdout",
     "output_type": "stream",
     "text": [
      "['O', 'O', 'O', 'O', 'O', 'O', 'O', 'O', 'O', 'O', 'I-Quality', 'O', 'O', 'O', 'O', 'O', 'O', 'O', 'O', 'O', 'B-Environment', 'O', 'O', 'O', 'O', 'O', 'O', 'O', 'O', 'O', 'O', 'O', 'O', 'O', 'O', 'O', 'O', 'O', 'O', 'O', 'O', 'O', 'O', 'O', 'O', 'O', 'O', 'O', 'O', 'O', 'O', 'O', 'O', 'O', 'O', 'O', 'O', 'O', 'O', 'O', 'O', 'O', 'O', 'O', 'O', 'O', 'O', 'O', 'O', 'O', 'O', 'O', 'O', 'O', 'O', 'O', 'O', 'O', 'O', 'O', 'O', 'O', 'O', 'O', 'O', 'O', 'O', 'O', 'O', 'O', 'O', 'O', 'O']\n"
     ]
    }
   ],
   "source": [
    "print(pred_labels[0])"
   ]
  },
  {
   "cell_type": "code",
   "execution_count": null,
   "metadata": {
    "colab": {
     "base_uri": "https://localhost:8080/"
    },
    "executionInfo": {
     "elapsed": 4,
     "status": "ok",
     "timestamp": 1649759170809,
     "user": {
      "displayName": "Nora Youssef",
      "userId": "03639374922222745842"
     },
     "user_tz": -120
    },
    "id": "CtM_mQ9ggSwI",
    "outputId": "4a7e9520-34a4-4734-8e8d-834964179488"
   },
   "outputs": [
    {
     "name": "stdout",
     "output_type": "stream",
     "text": [
      "['O', 'O', 'O', 'O', 'O', 'O', 'O', 'O', 'O', 'O', 'O', 'O', 'O', 'O', 'O', 'O', 'B-Phenomena', 'I-Phenomena', 'O', 'O', 'B-Environment', 'O', 'O', 'O', 'O', 'O', 'O', 'O', 'O', 'O', 'O', 'O', 'O', 'O', 'O', 'O', 'O', 'O', 'O', 'O', 'O', 'O', 'O', 'O', 'O', 'O', 'O', 'O', 'O', 'O', 'O', 'O', 'O', 'O', 'O', 'O', 'O', 'O', 'O', 'O', 'O', 'O', 'O', 'O', 'O', 'O', 'O', 'O', 'O', 'O', 'O', 'O', 'O', 'O', 'O', 'O', 'O', 'O', 'O', 'O', 'O', 'O', 'O', 'O', 'O', 'O', 'O', 'O', 'O', 'O', 'O', 'O', 'O']\n"
     ]
    }
   ],
   "source": [
    "print(test_labels[0])"
   ]
  },
  {
   "cell_type": "markdown",
   "metadata": {
    "id": "LhJVeLkyyqle"
   },
   "source": [
    "###Tailored Evaluation\n"
   ]
  },
  {
   "cell_type": "code",
   "execution_count": null,
   "metadata": {
    "id": "t7_7c_lldqQC"
   },
   "outputs": [],
   "source": [
    "from classification_metrics import classification_report, replaceMultiple"
   ]
  },
  {
   "cell_type": "code",
   "execution_count": null,
   "metadata": {
    "id": "c7IdpCfgx7Ko"
   },
   "outputs": [],
   "source": [
    "test_labels = [val for sublist in test_labels for val in sublist]\n",
    "pred_labels = [val for sublist in pred_labels for val in sublist]"
   ]
  },
  {
   "cell_type": "code",
   "execution_count": null,
   "metadata": {
    "colab": {
     "base_uri": "https://localhost:8080/"
    },
    "executionInfo": {
     "elapsed": 2381,
     "status": "ok",
     "timestamp": 1649759173399,
     "user": {
      "displayName": "Nora Youssef",
      "userId": "03639374922222745842"
     },
     "user_tz": -120
    },
    "id": "V7DB9mm5yCgL",
    "outputId": "b51d5550-0397-4be8-e309-4bf43ec3dee0"
   },
   "outputs": [
    {
     "name": "stdout",
     "output_type": "stream",
     "text": [
      "                        precision \t recall \t f1-score \t support\n",
      "\n",
      "I-Location          \t 0.00\t\t 0.00\t\t 0.00\t\t 32\t\n",
      "I-Organism          \t 0.00\t\t 0.00\t\t 0.00\t\t 69\t\n",
      "I-Matter            \t 0.00\t\t 0.00\t\t 0.00\t\t 27\t\n",
      "B-Quality           \t 0.51\t\t 0.54\t\t 0.52\t\t 290\t\n",
      "B-Location          \t 0.00\t\t 0.00\t\t 0.00\t\t 37\t\n",
      "I-Phenomena         \t 0.00\t\t 0.00\t\t 0.00\t\t 21\t\n",
      "I-Environment       \t 0.00\t\t 0.00\t\t 0.00\t\t 49\t\n",
      "I-Quality           \t 0.56\t\t 0.57\t\t 0.56\t\t 262\t\n",
      "B-Environment       \t 0.46\t\t 0.21\t\t 0.29\t\t 158\t\n",
      "B-Organism          \t 0.63\t\t 0.60\t\t 0.62\t\t 267\t\n",
      "B-Phenomena         \t 0.00\t\t 0.00\t\t 0.00\t\t 58\t\n",
      "B-Matter            \t 0.00\t\t 0.00\t\t 0.00\t\t 69\t\n",
      "\n",
      "\n",
      "macro avg           \t 0.18\t\t 0.16\t\t 0.17\t\t 1339\t\n",
      "micro avg           \t 0.56\t\t 0.37\t\t 0.45\t\t 1339\t\n",
      "\n"
     ]
    }
   ],
   "source": [
    "print(classification_report(test_labels, pred_labels))"
   ]
  },
  {
   "cell_type": "markdown",
   "metadata": {
    "id": "IcWaU-hiyDTa"
   },
   "source": [
    "Here, we try to normalize the class, no disincition between the **B**egining or **I**ntermediate of the class (`B-Material` = `I-Material` = `Material`)"
   ]
  },
  {
   "cell_type": "code",
   "execution_count": null,
   "metadata": {
    "id": "j4vtAQuW1TpH"
   },
   "outputs": [],
   "source": [
    "test_labels = [replaceMultiple(val, [\"B-\",\"I-\"], \"\") for val in test_labels ]\n",
    "pred_labels = [replaceMultiple(val, [\"B-\",\"I-\"], \"\") for val in pred_labels ]"
   ]
  },
  {
   "cell_type": "code",
   "execution_count": null,
   "metadata": {
    "colab": {
     "base_uri": "https://localhost:8080/"
    },
    "executionInfo": {
     "elapsed": 1126,
     "status": "ok",
     "timestamp": 1649759174837,
     "user": {
      "displayName": "Nora Youssef",
      "userId": "03639374922222745842"
     },
     "user_tz": -120
    },
    "id": "moMXzGSidrmo",
    "outputId": "ebdf55d9-cfd3-49bd-f281-a529a06ef425"
   },
   "outputs": [
    {
     "name": "stdout",
     "output_type": "stream",
     "text": [
      "                        precision \t recall \t f1-score \t support\n",
      "\n",
      "Location            \t 0.00\t\t 0.00\t\t 0.00\t\t 69\t\n",
      "Organism            \t 0.77\t\t 0.58\t\t 0.66\t\t 336\t\n",
      "Phenomena           \t 0.00\t\t 0.00\t\t 0.00\t\t 79\t\n",
      "Quality             \t 0.61\t\t 0.63\t\t 0.62\t\t 552\t\n",
      "Matter              \t 0.00\t\t 0.00\t\t 0.00\t\t 96\t\n",
      "Environment         \t 0.62\t\t 0.21\t\t 0.32\t\t 207\t\n",
      "\n",
      "\n",
      "macro avg           \t 0.33\t\t 0.24\t\t 0.28\t\t 1339\t\n",
      "micro avg           \t 0.66\t\t 0.44\t\t 0.53\t\t 1339\t\n",
      "\n"
     ]
    }
   ],
   "source": [
    "print(classification_report(test_labels, pred_labels))"
   ]
  },
  {
   "cell_type": "code",
   "execution_count": null,
   "metadata": {
    "id": "wvFzq4ly_j_6"
   },
   "outputs": [],
   "source": []
  }
 ],
 "metadata": {
  "accelerator": "GPU",
  "colab": {
   "collapsed_sections": [],
   "name": "BiLSTM_BiodivNER.ipynb",
   "provenance": []
  },
  "kernelspec": {
   "display_name": "Python 3",
   "language": "python",
   "name": "python3"
  },
  "language_info": {
   "codemirror_mode": {
    "name": "ipython",
    "version": 3
   },
   "file_extension": ".py",
   "mimetype": "text/x-python",
   "name": "python",
   "nbconvert_exporter": "python",
   "pygments_lexer": "ipython3",
   "version": "3.6.6"
  }
 },
 "nbformat": 4,
 "nbformat_minor": 1
}
