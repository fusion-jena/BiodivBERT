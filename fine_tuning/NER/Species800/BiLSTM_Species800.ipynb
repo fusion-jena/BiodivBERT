{
 "cells": [
  {
   "cell_type": "code",
   "execution_count": 1,
   "metadata": {
    "colab": {
     "base_uri": "https://localhost:8080/"
    },
    "executionInfo": {
     "elapsed": 272,
     "status": "ok",
     "timestamp": 1650284178280,
     "user": {
      "displayName": "Nora Youssef",
      "userId": "03639374922222745842"
     },
     "user_tz": -120
    },
    "id": "sbkgVkuDmTDZ",
    "outputId": "42711550-958d-49e8-aa97-126150ee08b5"
   },
   "outputs": [
    {
     "name": "stdout",
     "output_type": "stream",
     "text": [
      "TensorFlow 1.x selected.\n"
     ]
    }
   ],
   "source": [
    "%tensorflow_version 1.x"
   ]
  },
  {
   "cell_type": "code",
   "execution_count": 2,
   "metadata": {
    "colab": {
     "base_uri": "https://localhost:8080/"
    },
    "executionInfo": {
     "elapsed": 18560,
     "status": "ok",
     "timestamp": 1650284196835,
     "user": {
      "displayName": "Nora Youssef",
      "userId": "03639374922222745842"
     },
     "user_tz": -120
    },
    "id": "TNeeSq0SLU8A",
    "outputId": "ba7656eb-2f05-40f9-aa86-5d3f9803ca40"
   },
   "outputs": [
    {
     "name": "stdout",
     "output_type": "stream",
     "text": [
      "Mounted at /content/drive\n"
     ]
    }
   ],
   "source": [
    "# Load the Drive helper and mount\n",
    "from google.colab import drive\n",
    "drive.mount('/content/drive')"
   ]
  },
  {
   "cell_type": "code",
   "execution_count": 3,
   "metadata": {
    "executionInfo": {
     "elapsed": 7,
     "status": "ok",
     "timestamp": 1650284196836,
     "user": {
      "displayName": "Nora Youssef",
      "userId": "03639374922222745842"
     },
     "user_tz": -120
    },
    "id": "R4YFOyhD8l_1"
   },
   "outputs": [],
   "source": [
    "import os"
   ]
  },
  {
   "cell_type": "code",
   "execution_count": 4,
   "metadata": {
    "executionInfo": {
     "elapsed": 6,
     "status": "ok",
     "timestamp": 1650284196836,
     "user": {
      "displayName": "Nora Youssef",
      "userId": "03639374922222745842"
     },
     "user_tz": -120
    },
    "id": "awapx8haNr-U"
   },
   "outputs": [],
   "source": [
    "root_dir = \"/content/drive/My Drive/Colab Notebooks/BiodivBERT-NER/\"\n",
    "\n",
    "root_data_dir = os.path.join(root_dir, \"datasets\", \"Species800\")\n",
    "\n",
    "dataset = \"train\"\n",
    "train_csv_file_path = \"train.tsv\"\n",
    "val_csv_file_path = \"dev.tsv\"\n",
    "test_csv_file_path = \"test.tsv\"\n",
    "\n",
    "offline_model_file = os.path.join(root_dir, \"BiLSTM-Species800-model\")\n",
    "training_history_csv = \"training_Species800_history.csv\""
   ]
  },
  {
   "cell_type": "markdown",
   "metadata": {
    "id": "eQFFmGZG-X05"
   },
   "source": [
    "##Util"
   ]
  },
  {
   "cell_type": "code",
   "execution_count": 5,
   "metadata": {
    "executionInfo": {
     "elapsed": 5,
     "status": "ok",
     "timestamp": 1650284196836,
     "user": {
      "displayName": "Nora Youssef",
      "userId": "03639374922222745842"
     },
     "user_tz": -120
    },
    "id": "8LihPGwb92iK"
   },
   "outputs": [],
   "source": [
    "def load_model():\n",
    "    json_file = open(offline_model_file+\".json\", 'r')\n",
    "    loaded_model_json = json_file.read()\n",
    "    json_file.close()\n",
    "    new_model = model_from_json(loaded_model_json)\n",
    "    # load weights into new model\n",
    "    new_model.load_weights(offline_model_file+\".h5\")\n",
    "    print(\"Loaded model from disk\")\n",
    "    return new_model"
   ]
  },
  {
   "cell_type": "code",
   "execution_count": 6,
   "metadata": {
    "executionInfo": {
     "elapsed": 6,
     "status": "ok",
     "timestamp": 1650284196837,
     "user": {
      "displayName": "Nora Youssef",
      "userId": "03639374922222745842"
     },
     "user_tz": -120
    },
    "id": "WaGNPxjM98Ds"
   },
   "outputs": [],
   "source": [
    "def save_model(model):\n",
    "    # serialize model to JSON\n",
    "    model_json = model.to_json()\n",
    "    \n",
    "    with open(offline_model_file+\".json\", \"w\") as json_file:\n",
    "        json_file.write(model_json)\n",
    "    # serialize weights to HDF5\n",
    "    model.save_weights(offline_model_file+\".h5\")\n",
    "    print(\"Saved model to disk\")"
   ]
  },
  {
   "cell_type": "code",
   "execution_count": 7,
   "metadata": {
    "executionInfo": {
     "elapsed": 6,
     "status": "ok",
     "timestamp": 1650284196837,
     "user": {
      "displayName": "Nora Youssef",
      "userId": "03639374922222745842"
     },
     "user_tz": -120
    },
    "id": "sF6IG8FM8WqT"
   },
   "outputs": [],
   "source": [
    "def saveDataFrameToCSV(pd1, csv_path, append):  \n",
    "  dataset_path = os.path.join(root_dir, csv_path)  \n",
    "  \n",
    "  if append:\n",
    "    with open(dataset_path, 'a+') as f:    \n",
    "      pd1.to_csv(dataset_path,  mode='a', index=False, header=False)    \n",
    "  else:\n",
    "    with open(dataset_path, 'a+') as f:    \n",
    "      pd1.to_csv(dataset_path,  mode='a', index=False, header=True)"
   ]
  },
  {
   "cell_type": "markdown",
   "metadata": {
    "id": "10yeK7623aaY"
   },
   "source": [
    "##Dataset Preprocessing\n"
   ]
  },
  {
   "cell_type": "code",
   "execution_count": 8,
   "metadata": {
    "executionInfo": {
     "elapsed": 850,
     "status": "ok",
     "timestamp": 1650284197683,
     "user": {
      "displayName": "Nora Youssef",
      "userId": "03639374922222745842"
     },
     "user_tz": -120
    },
    "id": "GT1NMGBw3aaU"
   },
   "outputs": [],
   "source": [
    "import os\n",
    "import pandas as pd\n",
    "import numpy as np"
   ]
  },
  {
   "cell_type": "code",
   "execution_count": 9,
   "metadata": {
    "executionInfo": {
     "elapsed": 4,
     "status": "ok",
     "timestamp": 1650284197684,
     "user": {
      "displayName": "Nora Youssef",
      "userId": "03639374922222745842"
     },
     "user_tz": -120
    },
    "id": "ybHlNSgxcwL1"
   },
   "outputs": [],
   "source": [
    "def loadData(csv_file_path):\n",
    "  dataset_path = os.path.join(root_data_dir, csv_file_path)\n",
    "  data = pd.read_csv(dataset_path, encoding=\"utf8\", sep=',')\n",
    "  data = data.fillna(method=\"ffill\")\n",
    "  return data"
   ]
  },
  {
   "cell_type": "code",
   "execution_count": 10,
   "metadata": {
    "executionInfo": {
     "elapsed": 4,
     "status": "ok",
     "timestamp": 1650284197684,
     "user": {
      "displayName": "Nora Youssef",
      "userId": "03639374922222745842"
     },
     "user_tz": -120
    },
    "id": "cTEqN_U_3aZ3"
   },
   "outputs": [],
   "source": [
    "class SentenceGetter(object):\n",
    "    \n",
    "    def __init__(self, data):\n",
    "        self.n_sent = 1\n",
    "        self.data = data\n",
    "        self.empty = False\n",
    "        agg_func = lambda s: [(w, t) for w, t in zip(s[\"Word\"].values.tolist(),                                                          \n",
    "                                                        s[\"Tag\"].values.tolist())]\n",
    "        self.grouped = self.data.groupby(\"Sentence #\").apply(agg_func)\n",
    "        self.sentences = [s for s in self.grouped]\n",
    "    \n",
    "    def get_next(self):\n",
    "        try:\n",
    "            s = self.grouped[\"Sentence: {}\".format(self.n_sent)]\n",
    "            self.n_sent += 1\n",
    "            return s\n",
    "        except:\n",
    "            return None"
   ]
  },
  {
   "cell_type": "code",
   "execution_count": 11,
   "metadata": {
    "executionInfo": {
     "elapsed": 2070,
     "status": "ok",
     "timestamp": 1650284199751,
     "user": {
      "displayName": "Nora Youssef",
      "userId": "03639374922222745842"
     },
     "user_tz": -120
    },
    "id": "DdpwuNQtpOk0"
   },
   "outputs": [],
   "source": [
    "data = loadData(train_csv_file_path)"
   ]
  },
  {
   "cell_type": "code",
   "execution_count": 12,
   "metadata": {
    "colab": {
     "base_uri": "https://localhost:8080/",
     "height": 363
    },
    "executionInfo": {
     "elapsed": 10,
     "status": "ok",
     "timestamp": 1650284199752,
     "user": {
      "displayName": "Nora Youssef",
      "userId": "03639374922222745842"
     },
     "user_tz": -120
    },
    "id": "nXOClRlWsKZE",
    "outputId": "2b61cc35-429d-4e74-a7c6-1e137f305943"
   },
   "outputs": [
    {
     "data": {
      "text/html": [
       "\n",
       "  <div id=\"df-92771be2-1587-48b0-a5b3-2da108510dcc\">\n",
       "    <div class=\"colab-df-container\">\n",
       "      <div>\n",
       "<style scoped>\n",
       "    .dataframe tbody tr th:only-of-type {\n",
       "        vertical-align: middle;\n",
       "    }\n",
       "\n",
       "    .dataframe tbody tr th {\n",
       "        vertical-align: top;\n",
       "    }\n",
       "\n",
       "    .dataframe thead th {\n",
       "        text-align: right;\n",
       "    }\n",
       "</style>\n",
       "<table border=\"1\" class=\"dataframe\">\n",
       "  <thead>\n",
       "    <tr style=\"text-align: right;\">\n",
       "      <th></th>\n",
       "      <th>Sentence #</th>\n",
       "      <th>Word</th>\n",
       "      <th>Tag</th>\n",
       "    </tr>\n",
       "  </thead>\n",
       "  <tbody>\n",
       "    <tr>\n",
       "      <th>0</th>\n",
       "      <td>Sentence: 1</td>\n",
       "      <td>Methanoregula</td>\n",
       "      <td>B</td>\n",
       "    </tr>\n",
       "    <tr>\n",
       "      <th>1</th>\n",
       "      <td>Sentence: 1</td>\n",
       "      <td>formicica</td>\n",
       "      <td>I</td>\n",
       "    </tr>\n",
       "    <tr>\n",
       "      <th>2</th>\n",
       "      <td>Sentence: 1</td>\n",
       "      <td>sp</td>\n",
       "      <td>O</td>\n",
       "    </tr>\n",
       "    <tr>\n",
       "      <th>3</th>\n",
       "      <td>Sentence: 1</td>\n",
       "      <td>.</td>\n",
       "      <td>O</td>\n",
       "    </tr>\n",
       "    <tr>\n",
       "      <th>4</th>\n",
       "      <td>Sentence: 1</td>\n",
       "      <td>nov</td>\n",
       "      <td>O</td>\n",
       "    </tr>\n",
       "    <tr>\n",
       "      <th>5</th>\n",
       "      <td>Sentence: 1</td>\n",
       "      <td>.</td>\n",
       "      <td>O</td>\n",
       "    </tr>\n",
       "    <tr>\n",
       "      <th>6</th>\n",
       "      <td>Sentence: 1</td>\n",
       "      <td>,</td>\n",
       "      <td>O</td>\n",
       "    </tr>\n",
       "    <tr>\n",
       "      <th>7</th>\n",
       "      <td>Sentence: 1</td>\n",
       "      <td>a</td>\n",
       "      <td>O</td>\n",
       "    </tr>\n",
       "    <tr>\n",
       "      <th>8</th>\n",
       "      <td>Sentence: 1</td>\n",
       "      <td>methane</td>\n",
       "      <td>O</td>\n",
       "    </tr>\n",
       "    <tr>\n",
       "      <th>9</th>\n",
       "      <td>Sentence: 1</td>\n",
       "      <td>-</td>\n",
       "      <td>O</td>\n",
       "    </tr>\n",
       "  </tbody>\n",
       "</table>\n",
       "</div>\n",
       "      <button class=\"colab-df-convert\" onclick=\"convertToInteractive('df-92771be2-1587-48b0-a5b3-2da108510dcc')\"\n",
       "              title=\"Convert this dataframe to an interactive table.\"\n",
       "              style=\"display:none;\">\n",
       "        \n",
       "  <svg xmlns=\"http://www.w3.org/2000/svg\" height=\"24px\"viewBox=\"0 0 24 24\"\n",
       "       width=\"24px\">\n",
       "    <path d=\"M0 0h24v24H0V0z\" fill=\"none\"/>\n",
       "    <path d=\"M18.56 5.44l.94 2.06.94-2.06 2.06-.94-2.06-.94-.94-2.06-.94 2.06-2.06.94zm-11 1L8.5 8.5l.94-2.06 2.06-.94-2.06-.94L8.5 2.5l-.94 2.06-2.06.94zm10 10l.94 2.06.94-2.06 2.06-.94-2.06-.94-.94-2.06-.94 2.06-2.06.94z\"/><path d=\"M17.41 7.96l-1.37-1.37c-.4-.4-.92-.59-1.43-.59-.52 0-1.04.2-1.43.59L10.3 9.45l-7.72 7.72c-.78.78-.78 2.05 0 2.83L4 21.41c.39.39.9.59 1.41.59.51 0 1.02-.2 1.41-.59l7.78-7.78 2.81-2.81c.8-.78.8-2.07 0-2.86zM5.41 20L4 18.59l7.72-7.72 1.47 1.35L5.41 20z\"/>\n",
       "  </svg>\n",
       "      </button>\n",
       "      \n",
       "  <style>\n",
       "    .colab-df-container {\n",
       "      display:flex;\n",
       "      flex-wrap:wrap;\n",
       "      gap: 12px;\n",
       "    }\n",
       "\n",
       "    .colab-df-convert {\n",
       "      background-color: #E8F0FE;\n",
       "      border: none;\n",
       "      border-radius: 50%;\n",
       "      cursor: pointer;\n",
       "      display: none;\n",
       "      fill: #1967D2;\n",
       "      height: 32px;\n",
       "      padding: 0 0 0 0;\n",
       "      width: 32px;\n",
       "    }\n",
       "\n",
       "    .colab-df-convert:hover {\n",
       "      background-color: #E2EBFA;\n",
       "      box-shadow: 0px 1px 2px rgba(60, 64, 67, 0.3), 0px 1px 3px 1px rgba(60, 64, 67, 0.15);\n",
       "      fill: #174EA6;\n",
       "    }\n",
       "\n",
       "    [theme=dark] .colab-df-convert {\n",
       "      background-color: #3B4455;\n",
       "      fill: #D2E3FC;\n",
       "    }\n",
       "\n",
       "    [theme=dark] .colab-df-convert:hover {\n",
       "      background-color: #434B5C;\n",
       "      box-shadow: 0px 1px 3px 1px rgba(0, 0, 0, 0.15);\n",
       "      filter: drop-shadow(0px 1px 2px rgba(0, 0, 0, 0.3));\n",
       "      fill: #FFFFFF;\n",
       "    }\n",
       "  </style>\n",
       "\n",
       "      <script>\n",
       "        const buttonEl =\n",
       "          document.querySelector('#df-92771be2-1587-48b0-a5b3-2da108510dcc button.colab-df-convert');\n",
       "        buttonEl.style.display =\n",
       "          google.colab.kernel.accessAllowed ? 'block' : 'none';\n",
       "\n",
       "        async function convertToInteractive(key) {\n",
       "          const element = document.querySelector('#df-92771be2-1587-48b0-a5b3-2da108510dcc');\n",
       "          const dataTable =\n",
       "            await google.colab.kernel.invokeFunction('convertToInteractive',\n",
       "                                                     [key], {});\n",
       "          if (!dataTable) return;\n",
       "\n",
       "          const docLinkHtml = 'Like what you see? Visit the ' +\n",
       "            '<a target=\"_blank\" href=https://colab.research.google.com/notebooks/data_table.ipynb>data table notebook</a>'\n",
       "            + ' to learn more about interactive tables.';\n",
       "          element.innerHTML = '';\n",
       "          dataTable['output_type'] = 'display_data';\n",
       "          await google.colab.output.renderOutput(dataTable, element);\n",
       "          const docLink = document.createElement('div');\n",
       "          docLink.innerHTML = docLinkHtml;\n",
       "          element.appendChild(docLink);\n",
       "        }\n",
       "      </script>\n",
       "    </div>\n",
       "  </div>\n",
       "  "
      ],
      "text/plain": [
       "    Sentence #           Word Tag\n",
       "0  Sentence: 1  Methanoregula   B\n",
       "1  Sentence: 1      formicica   I\n",
       "2  Sentence: 1             sp   O\n",
       "3  Sentence: 1              .   O\n",
       "4  Sentence: 1            nov   O\n",
       "5  Sentence: 1              .   O\n",
       "6  Sentence: 1              ,   O\n",
       "7  Sentence: 1              a   O\n",
       "8  Sentence: 1        methane   O\n",
       "9  Sentence: 1              -   O"
      ]
     },
     "execution_count": 12,
     "metadata": {},
     "output_type": "execute_result"
    }
   ],
   "source": [
    "data.head(10)"
   ]
  },
  {
   "cell_type": "code",
   "execution_count": 13,
   "metadata": {
    "executionInfo": {
     "elapsed": 557,
     "status": "ok",
     "timestamp": 1650284200301,
     "user": {
      "displayName": "Nora Youssef",
      "userId": "03639374922222745842"
     },
     "user_tz": -120
    },
    "id": "NWhktdb-d-7r"
   },
   "outputs": [],
   "source": [
    "val_data = loadData(val_csv_file_path)"
   ]
  },
  {
   "cell_type": "code",
   "execution_count": 14,
   "metadata": {
    "colab": {
     "base_uri": "https://localhost:8080/",
     "height": 363
    },
    "executionInfo": {
     "elapsed": 4,
     "status": "ok",
     "timestamp": 1650284200301,
     "user": {
      "displayName": "Nora Youssef",
      "userId": "03639374922222745842"
     },
     "user_tz": -120
    },
    "id": "glrvn7XFd_bs",
    "outputId": "ba74ed22-271d-4273-d93e-222d003e2c58"
   },
   "outputs": [
    {
     "data": {
      "text/html": [
       "\n",
       "  <div id=\"df-cf725d3f-cb2f-4528-8118-f5fa620f7e29\">\n",
       "    <div class=\"colab-df-container\">\n",
       "      <div>\n",
       "<style scoped>\n",
       "    .dataframe tbody tr th:only-of-type {\n",
       "        vertical-align: middle;\n",
       "    }\n",
       "\n",
       "    .dataframe tbody tr th {\n",
       "        vertical-align: top;\n",
       "    }\n",
       "\n",
       "    .dataframe thead th {\n",
       "        text-align: right;\n",
       "    }\n",
       "</style>\n",
       "<table border=\"1\" class=\"dataframe\">\n",
       "  <thead>\n",
       "    <tr style=\"text-align: right;\">\n",
       "      <th></th>\n",
       "      <th>Sentence #</th>\n",
       "      <th>Word</th>\n",
       "      <th>Tag</th>\n",
       "    </tr>\n",
       "  </thead>\n",
       "  <tbody>\n",
       "    <tr>\n",
       "      <th>0</th>\n",
       "      <td>Sentence: 1</td>\n",
       "      <td>Methanoregula</td>\n",
       "      <td>B</td>\n",
       "    </tr>\n",
       "    <tr>\n",
       "      <th>1</th>\n",
       "      <td>Sentence: 1</td>\n",
       "      <td>formicica</td>\n",
       "      <td>I</td>\n",
       "    </tr>\n",
       "    <tr>\n",
       "      <th>2</th>\n",
       "      <td>Sentence: 1</td>\n",
       "      <td>sp</td>\n",
       "      <td>O</td>\n",
       "    </tr>\n",
       "    <tr>\n",
       "      <th>3</th>\n",
       "      <td>Sentence: 1</td>\n",
       "      <td>.</td>\n",
       "      <td>O</td>\n",
       "    </tr>\n",
       "    <tr>\n",
       "      <th>4</th>\n",
       "      <td>Sentence: 1</td>\n",
       "      <td>nov</td>\n",
       "      <td>O</td>\n",
       "    </tr>\n",
       "    <tr>\n",
       "      <th>5</th>\n",
       "      <td>Sentence: 1</td>\n",
       "      <td>.</td>\n",
       "      <td>O</td>\n",
       "    </tr>\n",
       "    <tr>\n",
       "      <th>6</th>\n",
       "      <td>Sentence: 1</td>\n",
       "      <td>,</td>\n",
       "      <td>O</td>\n",
       "    </tr>\n",
       "    <tr>\n",
       "      <th>7</th>\n",
       "      <td>Sentence: 1</td>\n",
       "      <td>a</td>\n",
       "      <td>O</td>\n",
       "    </tr>\n",
       "    <tr>\n",
       "      <th>8</th>\n",
       "      <td>Sentence: 1</td>\n",
       "      <td>methane</td>\n",
       "      <td>O</td>\n",
       "    </tr>\n",
       "    <tr>\n",
       "      <th>9</th>\n",
       "      <td>Sentence: 1</td>\n",
       "      <td>-</td>\n",
       "      <td>O</td>\n",
       "    </tr>\n",
       "  </tbody>\n",
       "</table>\n",
       "</div>\n",
       "      <button class=\"colab-df-convert\" onclick=\"convertToInteractive('df-cf725d3f-cb2f-4528-8118-f5fa620f7e29')\"\n",
       "              title=\"Convert this dataframe to an interactive table.\"\n",
       "              style=\"display:none;\">\n",
       "        \n",
       "  <svg xmlns=\"http://www.w3.org/2000/svg\" height=\"24px\"viewBox=\"0 0 24 24\"\n",
       "       width=\"24px\">\n",
       "    <path d=\"M0 0h24v24H0V0z\" fill=\"none\"/>\n",
       "    <path d=\"M18.56 5.44l.94 2.06.94-2.06 2.06-.94-2.06-.94-.94-2.06-.94 2.06-2.06.94zm-11 1L8.5 8.5l.94-2.06 2.06-.94-2.06-.94L8.5 2.5l-.94 2.06-2.06.94zm10 10l.94 2.06.94-2.06 2.06-.94-2.06-.94-.94-2.06-.94 2.06-2.06.94z\"/><path d=\"M17.41 7.96l-1.37-1.37c-.4-.4-.92-.59-1.43-.59-.52 0-1.04.2-1.43.59L10.3 9.45l-7.72 7.72c-.78.78-.78 2.05 0 2.83L4 21.41c.39.39.9.59 1.41.59.51 0 1.02-.2 1.41-.59l7.78-7.78 2.81-2.81c.8-.78.8-2.07 0-2.86zM5.41 20L4 18.59l7.72-7.72 1.47 1.35L5.41 20z\"/>\n",
       "  </svg>\n",
       "      </button>\n",
       "      \n",
       "  <style>\n",
       "    .colab-df-container {\n",
       "      display:flex;\n",
       "      flex-wrap:wrap;\n",
       "      gap: 12px;\n",
       "    }\n",
       "\n",
       "    .colab-df-convert {\n",
       "      background-color: #E8F0FE;\n",
       "      border: none;\n",
       "      border-radius: 50%;\n",
       "      cursor: pointer;\n",
       "      display: none;\n",
       "      fill: #1967D2;\n",
       "      height: 32px;\n",
       "      padding: 0 0 0 0;\n",
       "      width: 32px;\n",
       "    }\n",
       "\n",
       "    .colab-df-convert:hover {\n",
       "      background-color: #E2EBFA;\n",
       "      box-shadow: 0px 1px 2px rgba(60, 64, 67, 0.3), 0px 1px 3px 1px rgba(60, 64, 67, 0.15);\n",
       "      fill: #174EA6;\n",
       "    }\n",
       "\n",
       "    [theme=dark] .colab-df-convert {\n",
       "      background-color: #3B4455;\n",
       "      fill: #D2E3FC;\n",
       "    }\n",
       "\n",
       "    [theme=dark] .colab-df-convert:hover {\n",
       "      background-color: #434B5C;\n",
       "      box-shadow: 0px 1px 3px 1px rgba(0, 0, 0, 0.15);\n",
       "      filter: drop-shadow(0px 1px 2px rgba(0, 0, 0, 0.3));\n",
       "      fill: #FFFFFF;\n",
       "    }\n",
       "  </style>\n",
       "\n",
       "      <script>\n",
       "        const buttonEl =\n",
       "          document.querySelector('#df-cf725d3f-cb2f-4528-8118-f5fa620f7e29 button.colab-df-convert');\n",
       "        buttonEl.style.display =\n",
       "          google.colab.kernel.accessAllowed ? 'block' : 'none';\n",
       "\n",
       "        async function convertToInteractive(key) {\n",
       "          const element = document.querySelector('#df-cf725d3f-cb2f-4528-8118-f5fa620f7e29');\n",
       "          const dataTable =\n",
       "            await google.colab.kernel.invokeFunction('convertToInteractive',\n",
       "                                                     [key], {});\n",
       "          if (!dataTable) return;\n",
       "\n",
       "          const docLinkHtml = 'Like what you see? Visit the ' +\n",
       "            '<a target=\"_blank\" href=https://colab.research.google.com/notebooks/data_table.ipynb>data table notebook</a>'\n",
       "            + ' to learn more about interactive tables.';\n",
       "          element.innerHTML = '';\n",
       "          dataTable['output_type'] = 'display_data';\n",
       "          await google.colab.output.renderOutput(dataTable, element);\n",
       "          const docLink = document.createElement('div');\n",
       "          docLink.innerHTML = docLinkHtml;\n",
       "          element.appendChild(docLink);\n",
       "        }\n",
       "      </script>\n",
       "    </div>\n",
       "  </div>\n",
       "  "
      ],
      "text/plain": [
       "    Sentence #           Word Tag\n",
       "0  Sentence: 1  Methanoregula   B\n",
       "1  Sentence: 1      formicica   I\n",
       "2  Sentence: 1             sp   O\n",
       "3  Sentence: 1              .   O\n",
       "4  Sentence: 1            nov   O\n",
       "5  Sentence: 1              .   O\n",
       "6  Sentence: 1              ,   O\n",
       "7  Sentence: 1              a   O\n",
       "8  Sentence: 1        methane   O\n",
       "9  Sentence: 1              -   O"
      ]
     },
     "execution_count": 14,
     "metadata": {},
     "output_type": "execute_result"
    }
   ],
   "source": [
    "val_data.head(10)"
   ]
  },
  {
   "cell_type": "code",
   "execution_count": 15,
   "metadata": {
    "executionInfo": {
     "elapsed": 610,
     "status": "ok",
     "timestamp": 1650284200908,
     "user": {
      "displayName": "Nora Youssef",
      "userId": "03639374922222745842"
     },
     "user_tz": -120
    },
    "id": "9IdHVyeXvDaX"
   },
   "outputs": [],
   "source": [
    "test_data =  loadData(test_csv_file_path)"
   ]
  },
  {
   "cell_type": "code",
   "execution_count": 16,
   "metadata": {
    "colab": {
     "base_uri": "https://localhost:8080/",
     "height": 363
    },
    "executionInfo": {
     "elapsed": 3,
     "status": "ok",
     "timestamp": 1650284200908,
     "user": {
      "displayName": "Nora Youssef",
      "userId": "03639374922222745842"
     },
     "user_tz": -120
    },
    "id": "6RoM6YevsjB1",
    "outputId": "c7cbd173-c18c-402c-8769-d964d05d6352"
   },
   "outputs": [
    {
     "data": {
      "text/html": [
       "\n",
       "  <div id=\"df-5647dcf6-d08c-4c71-b67e-1b48b13d97f1\">\n",
       "    <div class=\"colab-df-container\">\n",
       "      <div>\n",
       "<style scoped>\n",
       "    .dataframe tbody tr th:only-of-type {\n",
       "        vertical-align: middle;\n",
       "    }\n",
       "\n",
       "    .dataframe tbody tr th {\n",
       "        vertical-align: top;\n",
       "    }\n",
       "\n",
       "    .dataframe thead th {\n",
       "        text-align: right;\n",
       "    }\n",
       "</style>\n",
       "<table border=\"1\" class=\"dataframe\">\n",
       "  <thead>\n",
       "    <tr style=\"text-align: right;\">\n",
       "      <th></th>\n",
       "      <th>Sentence #</th>\n",
       "      <th>Word</th>\n",
       "      <th>Tag</th>\n",
       "    </tr>\n",
       "  </thead>\n",
       "  <tbody>\n",
       "    <tr>\n",
       "      <th>0</th>\n",
       "      <td>Sentence: 1</td>\n",
       "      <td>Streptococcus</td>\n",
       "      <td>B</td>\n",
       "    </tr>\n",
       "    <tr>\n",
       "      <th>1</th>\n",
       "      <td>Sentence: 1</td>\n",
       "      <td>ursoris</td>\n",
       "      <td>I</td>\n",
       "    </tr>\n",
       "    <tr>\n",
       "      <th>2</th>\n",
       "      <td>Sentence: 1</td>\n",
       "      <td>sp</td>\n",
       "      <td>I</td>\n",
       "    </tr>\n",
       "    <tr>\n",
       "      <th>3</th>\n",
       "      <td>Sentence: 1</td>\n",
       "      <td>.</td>\n",
       "      <td>I</td>\n",
       "    </tr>\n",
       "    <tr>\n",
       "      <th>4</th>\n",
       "      <td>Sentence: 1</td>\n",
       "      <td>nov</td>\n",
       "      <td>I</td>\n",
       "    </tr>\n",
       "    <tr>\n",
       "      <th>5</th>\n",
       "      <td>Sentence: 1</td>\n",
       "      <td>.</td>\n",
       "      <td>I</td>\n",
       "    </tr>\n",
       "    <tr>\n",
       "      <th>6</th>\n",
       "      <td>Sentence: 1</td>\n",
       "      <td>,</td>\n",
       "      <td>O</td>\n",
       "    </tr>\n",
       "    <tr>\n",
       "      <th>7</th>\n",
       "      <td>Sentence: 1</td>\n",
       "      <td>isolated</td>\n",
       "      <td>O</td>\n",
       "    </tr>\n",
       "    <tr>\n",
       "      <th>8</th>\n",
       "      <td>Sentence: 1</td>\n",
       "      <td>from</td>\n",
       "      <td>O</td>\n",
       "    </tr>\n",
       "    <tr>\n",
       "      <th>9</th>\n",
       "      <td>Sentence: 1</td>\n",
       "      <td>the</td>\n",
       "      <td>O</td>\n",
       "    </tr>\n",
       "  </tbody>\n",
       "</table>\n",
       "</div>\n",
       "      <button class=\"colab-df-convert\" onclick=\"convertToInteractive('df-5647dcf6-d08c-4c71-b67e-1b48b13d97f1')\"\n",
       "              title=\"Convert this dataframe to an interactive table.\"\n",
       "              style=\"display:none;\">\n",
       "        \n",
       "  <svg xmlns=\"http://www.w3.org/2000/svg\" height=\"24px\"viewBox=\"0 0 24 24\"\n",
       "       width=\"24px\">\n",
       "    <path d=\"M0 0h24v24H0V0z\" fill=\"none\"/>\n",
       "    <path d=\"M18.56 5.44l.94 2.06.94-2.06 2.06-.94-2.06-.94-.94-2.06-.94 2.06-2.06.94zm-11 1L8.5 8.5l.94-2.06 2.06-.94-2.06-.94L8.5 2.5l-.94 2.06-2.06.94zm10 10l.94 2.06.94-2.06 2.06-.94-2.06-.94-.94-2.06-.94 2.06-2.06.94z\"/><path d=\"M17.41 7.96l-1.37-1.37c-.4-.4-.92-.59-1.43-.59-.52 0-1.04.2-1.43.59L10.3 9.45l-7.72 7.72c-.78.78-.78 2.05 0 2.83L4 21.41c.39.39.9.59 1.41.59.51 0 1.02-.2 1.41-.59l7.78-7.78 2.81-2.81c.8-.78.8-2.07 0-2.86zM5.41 20L4 18.59l7.72-7.72 1.47 1.35L5.41 20z\"/>\n",
       "  </svg>\n",
       "      </button>\n",
       "      \n",
       "  <style>\n",
       "    .colab-df-container {\n",
       "      display:flex;\n",
       "      flex-wrap:wrap;\n",
       "      gap: 12px;\n",
       "    }\n",
       "\n",
       "    .colab-df-convert {\n",
       "      background-color: #E8F0FE;\n",
       "      border: none;\n",
       "      border-radius: 50%;\n",
       "      cursor: pointer;\n",
       "      display: none;\n",
       "      fill: #1967D2;\n",
       "      height: 32px;\n",
       "      padding: 0 0 0 0;\n",
       "      width: 32px;\n",
       "    }\n",
       "\n",
       "    .colab-df-convert:hover {\n",
       "      background-color: #E2EBFA;\n",
       "      box-shadow: 0px 1px 2px rgba(60, 64, 67, 0.3), 0px 1px 3px 1px rgba(60, 64, 67, 0.15);\n",
       "      fill: #174EA6;\n",
       "    }\n",
       "\n",
       "    [theme=dark] .colab-df-convert {\n",
       "      background-color: #3B4455;\n",
       "      fill: #D2E3FC;\n",
       "    }\n",
       "\n",
       "    [theme=dark] .colab-df-convert:hover {\n",
       "      background-color: #434B5C;\n",
       "      box-shadow: 0px 1px 3px 1px rgba(0, 0, 0, 0.15);\n",
       "      filter: drop-shadow(0px 1px 2px rgba(0, 0, 0, 0.3));\n",
       "      fill: #FFFFFF;\n",
       "    }\n",
       "  </style>\n",
       "\n",
       "      <script>\n",
       "        const buttonEl =\n",
       "          document.querySelector('#df-5647dcf6-d08c-4c71-b67e-1b48b13d97f1 button.colab-df-convert');\n",
       "        buttonEl.style.display =\n",
       "          google.colab.kernel.accessAllowed ? 'block' : 'none';\n",
       "\n",
       "        async function convertToInteractive(key) {\n",
       "          const element = document.querySelector('#df-5647dcf6-d08c-4c71-b67e-1b48b13d97f1');\n",
       "          const dataTable =\n",
       "            await google.colab.kernel.invokeFunction('convertToInteractive',\n",
       "                                                     [key], {});\n",
       "          if (!dataTable) return;\n",
       "\n",
       "          const docLinkHtml = 'Like what you see? Visit the ' +\n",
       "            '<a target=\"_blank\" href=https://colab.research.google.com/notebooks/data_table.ipynb>data table notebook</a>'\n",
       "            + ' to learn more about interactive tables.';\n",
       "          element.innerHTML = '';\n",
       "          dataTable['output_type'] = 'display_data';\n",
       "          await google.colab.output.renderOutput(dataTable, element);\n",
       "          const docLink = document.createElement('div');\n",
       "          docLink.innerHTML = docLinkHtml;\n",
       "          element.appendChild(docLink);\n",
       "        }\n",
       "      </script>\n",
       "    </div>\n",
       "  </div>\n",
       "  "
      ],
      "text/plain": [
       "    Sentence #           Word Tag\n",
       "0  Sentence: 1  Streptococcus   B\n",
       "1  Sentence: 1        ursoris   I\n",
       "2  Sentence: 1             sp   I\n",
       "3  Sentence: 1              .   I\n",
       "4  Sentence: 1            nov   I\n",
       "5  Sentence: 1              .   I\n",
       "6  Sentence: 1              ,   O\n",
       "7  Sentence: 1       isolated   O\n",
       "8  Sentence: 1           from   O\n",
       "9  Sentence: 1            the   O"
      ]
     },
     "execution_count": 16,
     "metadata": {},
     "output_type": "execute_result"
    }
   ],
   "source": [
    "test_data.head(10)"
   ]
  },
  {
   "cell_type": "code",
   "execution_count": 17,
   "metadata": {
    "executionInfo": {
     "elapsed": 240,
     "status": "ok",
     "timestamp": 1650284201146,
     "user": {
      "displayName": "Nora Youssef",
      "userId": "03639374922222745842"
     },
     "user_tz": -120
    },
    "id": "PDFwh1Z13aaC"
   },
   "outputs": [],
   "source": [
    "#if the data are in string style, we propably use tokenzer.fit_on_texts instead of list manipulation like here\n",
    "\n",
    "VOCAB = list(set(list(data[\"Word\"].values) +                  \n",
    "                 list(test_data[\"Word\"].values)))\n",
    "VOCAB.append(\"ENDPAD\")\n",
    "\n",
    "n_words = len(VOCAB) #n_words includes all vocab from train and validation test.\n",
    "\n",
    "tags = list(set(data[\"Tag\"].values))\n",
    "\n",
    "n_tags = len(tags)"
   ]
  },
  {
   "cell_type": "code",
   "execution_count": 18,
   "metadata": {
    "colab": {
     "base_uri": "https://localhost:8080/"
    },
    "executionInfo": {
     "elapsed": 4,
     "status": "ok",
     "timestamp": 1650284201146,
     "user": {
      "displayName": "Nora Youssef",
      "userId": "03639374922222745842"
     },
     "user_tz": -120
    },
    "id": "WCbHbHRZ3aZ7",
    "outputId": "06031d17-c0b8-4aca-8faf-f14b56f07a6a"
   },
   "outputs": [
    {
     "name": "stdout",
     "output_type": "stream",
     "text": [
      "16522\n",
      "['folds', 'unbiased', 'linkers', 'colocalize', 'behavioural', 'diagnostics', 'symmetric', 'lag', 'DCR2', 'Flexirubin']\n",
      "ENDPAD\n"
     ]
    }
   ],
   "source": [
    "print(n_words, VOCAB[0:10] ,VOCAB[n_words-1], sep='\\n')"
   ]
  },
  {
   "cell_type": "code",
   "execution_count": 19,
   "metadata": {
    "colab": {
     "base_uri": "https://localhost:8080/"
    },
    "executionInfo": {
     "elapsed": 4,
     "status": "ok",
     "timestamp": 1650284201147,
     "user": {
      "displayName": "Nora Youssef",
      "userId": "03639374922222745842"
     },
     "user_tz": -120
    },
    "id": "xwVNwzHGeKu3",
    "outputId": "af52e253-59d4-4ccc-fdc8-d02362f4c103"
   },
   "outputs": [
    {
     "name": "stdout",
     "output_type": "stream",
     "text": [
      "3\n",
      "['I', 'O', 'B']\n"
     ]
    }
   ],
   "source": [
    "print(n_tags, tags, sep='\\n')"
   ]
  },
  {
   "cell_type": "markdown",
   "metadata": {
    "id": "zJPbPw-qqRn2"
   },
   "source": [
    "###Sentences "
   ]
  },
  {
   "cell_type": "code",
   "execution_count": 20,
   "metadata": {
    "executionInfo": {
     "elapsed": 1899,
     "status": "ok",
     "timestamp": 1650284203043,
     "user": {
      "displayName": "Nora Youssef",
      "userId": "03639374922222745842"
     },
     "user_tz": -120
    },
    "id": "VgntHfAo3aZy"
   },
   "outputs": [],
   "source": [
    "getter = SentenceGetter(data)\n",
    "sentences = getter.sentences"
   ]
  },
  {
   "cell_type": "code",
   "execution_count": 21,
   "metadata": {
    "executionInfo": {
     "elapsed": 339,
     "status": "ok",
     "timestamp": 1650284203380,
     "user": {
      "displayName": "Nora Youssef",
      "userId": "03639374922222745842"
     },
     "user_tz": -120
    },
    "id": "zcBRLeDcc1qo"
   },
   "outputs": [],
   "source": [
    "getter_test = SentenceGetter(test_data)\n",
    "sentences_test = getter_test.sentences"
   ]
  },
  {
   "cell_type": "markdown",
   "metadata": {
    "id": "rxatmEuRqW1M"
   },
   "source": [
    "####Exploration"
   ]
  },
  {
   "cell_type": "code",
   "execution_count": 22,
   "metadata": {
    "colab": {
     "base_uri": "https://localhost:8080/"
    },
    "executionInfo": {
     "elapsed": 11,
     "status": "ok",
     "timestamp": 1650284203381,
     "user": {
      "displayName": "Nora Youssef",
      "userId": "03639374922222745842"
     },
     "user_tz": -120
    },
    "id": "iy9T8Djo3aZY",
    "outputId": "bf3ee449-b2b4-4152-dbb6-55ad22bce00b"
   },
   "outputs": [
    {
     "name": "stdout",
     "output_type": "stream",
     "text": [
      "[('Streptococcus', 'B'), ('ursoris', 'I'), ('sp', 'I'), ('.', 'I'), ('nov', 'I'), ('.', 'I'), (',', 'O'), ('isolated', 'O'), ('from', 'O'), ('the', 'O'), ('oral', 'O'), ('cavities', 'O'), ('of', 'O'), ('bears', 'O'), ('.', 'O'), ('.', 'O')]\n"
     ]
    }
   ],
   "source": [
    "sent = getter_test.get_next()\n",
    "print(sent)"
   ]
  },
  {
   "cell_type": "code",
   "execution_count": 23,
   "metadata": {
    "colab": {
     "base_uri": "https://localhost:8080/"
    },
    "executionInfo": {
     "elapsed": 9,
     "status": "ok",
     "timestamp": 1650284203381,
     "user": {
      "displayName": "Nora Youssef",
      "userId": "03639374922222745842"
     },
     "user_tz": -120
    },
    "id": "M4mC-rigq23J",
    "outputId": "00682730-3433-41c0-90f3-e9ffa9d65890"
   },
   "outputs": [
    {
     "data": {
      "text/plain": [
       "[('The', 'O'),\n",
       " ('closest', 'O'),\n",
       " ('relative', 'O'),\n",
       " ('based', 'O'),\n",
       " ('on', 'O'),\n",
       " ('both', 'O'),\n",
       " ('16S', 'O'),\n",
       " ('rRNA', 'O'),\n",
       " ('and', 'O'),\n",
       " ('mcrA', 'O'),\n",
       " ('gene', 'O'),\n",
       " ('sequences', 'O'),\n",
       " ('was', 'O'),\n",
       " ('Methanoregula', 'B'),\n",
       " ('boonei', 'I'),\n",
       " ('6A8', 'I'),\n",
       " ('(', 'O'),\n",
       " ('T', 'O'),\n",
       " (')', 'O'),\n",
       " ('(', 'O'),\n",
       " ('96', 'O'),\n",
       " ('.', 'O'),\n",
       " ('3', 'O'),\n",
       " ('%', 'O'),\n",
       " ('16S', 'O'),\n",
       " ('rRNA', 'O'),\n",
       " ('gene', 'O'),\n",
       " ('sequence', 'O'),\n",
       " ('similarity', 'O'),\n",
       " (',', 'O'),\n",
       " ('85', 'O'),\n",
       " ('.', 'O'),\n",
       " ('4', 'O'),\n",
       " ('%', 'O'),\n",
       " ('deduced', 'O'),\n",
       " ('McrA', 'O'),\n",
       " ('amino', 'O'),\n",
       " ('acid', 'O'),\n",
       " ('sequence', 'O'),\n",
       " ('similarity', 'O'),\n",
       " (')', 'O'),\n",
       " ('.', 'O'),\n",
       " ('.', 'O')]"
      ]
     },
     "execution_count": 23,
     "metadata": {},
     "output_type": "execute_result"
    }
   ],
   "source": [
    "sentences[1]"
   ]
  },
  {
   "cell_type": "code",
   "execution_count": 24,
   "metadata": {
    "executionInfo": {
     "elapsed": 8,
     "status": "ok",
     "timestamp": 1650284203381,
     "user": {
      "displayName": "Nora Youssef",
      "userId": "03639374922222745842"
     },
     "user_tz": -120
    },
    "id": "8xjS_lpd3aZI"
   },
   "outputs": [],
   "source": [
    "import matplotlib.pyplot as plt\n",
    "plt.style.use(\"ggplot\")"
   ]
  },
  {
   "cell_type": "code",
   "execution_count": 25,
   "metadata": {
    "colab": {
     "base_uri": "https://localhost:8080/",
     "height": 265
    },
    "executionInfo": {
     "elapsed": 604,
     "status": "ok",
     "timestamp": 1650284203978,
     "user": {
      "displayName": "Nora Youssef",
      "userId": "03639374922222745842"
     },
     "user_tz": -120
    },
    "id": "yXMq0bHN3aZB",
    "outputId": "fd2de4ad-9d1a-4980-ff3c-ffa56f0291c9"
   },
   "outputs": [
    {
     "data": {
      "image/png": "[encoded data removed]",
      "text/plain": [
       "<Figure size 432x288 with 1 Axes>"
      ]
     },
     "metadata": {},
     "output_type": "display_data"
    }
   ],
   "source": [
    "plt.hist([len(s) for s in sentences], bins=5)\n",
    "plt.show()"
   ]
  },
  {
   "cell_type": "code",
   "execution_count": 26,
   "metadata": {
    "colab": {
     "base_uri": "https://localhost:8080/"
    },
    "executionInfo": {
     "elapsed": 252,
     "status": "ok",
     "timestamp": 1650284203979,
     "user": {
      "displayName": "Nora Youssef",
      "userId": "03639374922222745842"
     },
     "user_tz": -120
    },
    "id": "1-aS91hTKB5i",
    "outputId": "6dc5901b-ec8f-4f93-f7f1-2d5ef8a26fe4"
   },
   "outputs": [
    {
     "data": {
      "text/plain": [
       "133"
      ]
     },
     "execution_count": 26,
     "metadata": {},
     "output_type": "execute_result"
    }
   ],
   "source": [
    "max([len(s) for s in sentences])"
   ]
  },
  {
   "cell_type": "code",
   "execution_count": 27,
   "metadata": {
    "executionInfo": {
     "elapsed": 7,
     "status": "ok",
     "timestamp": 1650284203979,
     "user": {
      "displayName": "Nora Youssef",
      "userId": "03639374922222745842"
     },
     "user_tz": -120
    },
    "id": "FBQLnJyY3aY7"
   },
   "outputs": [],
   "source": [
    "max_len = 93 #selected value outisde the histogram"
   ]
  },
  {
   "cell_type": "markdown",
   "metadata": {
    "id": "jS_XoqWN1o2i"
   },
   "source": [
    "###Utils"
   ]
  },
  {
   "cell_type": "code",
   "execution_count": 28,
   "metadata": {
    "executionInfo": {
     "elapsed": 7,
     "status": "ok",
     "timestamp": 1650284203979,
     "user": {
      "displayName": "Nora Youssef",
      "userId": "03639374922222745842"
     },
     "user_tz": -120
    },
    "id": "1oGye-_M3aY1"
   },
   "outputs": [],
   "source": [
    "word2idx = {w: i + 1 for i, w in enumerate(VOCAB)}\n",
    "tag2idx = {t: i for i, t in enumerate(tags)}"
   ]
  },
  {
   "cell_type": "code",
   "execution_count": 29,
   "metadata": {
    "colab": {
     "base_uri": "https://localhost:8080/"
    },
    "executionInfo": {
     "elapsed": 8,
     "status": "ok",
     "timestamp": 1650284203980,
     "user": {
      "displayName": "Nora Youssef",
      "userId": "03639374922222745842"
     },
     "user_tz": -120
    },
    "id": "3N-QHHeh3aYt",
    "outputId": "24517e84-a9a4-4f65-e777-683beb2fbbb8"
   },
   "outputs": [
    {
     "data": {
      "text/plain": [
       "16522"
      ]
     },
     "execution_count": 29,
     "metadata": {},
     "output_type": "execute_result"
    }
   ],
   "source": [
    "word2idx[\"ENDPAD\"]"
   ]
  },
  {
   "cell_type": "code",
   "execution_count": 30,
   "metadata": {
    "colab": {
     "base_uri": "https://localhost:8080/"
    },
    "executionInfo": {
     "elapsed": 6,
     "status": "ok",
     "timestamp": 1650284203980,
     "user": {
      "displayName": "Nora Youssef",
      "userId": "03639374922222745842"
     },
     "user_tz": -120
    },
    "id": "Q-_K_AaW3aYn",
    "outputId": "b79bbf29-8d03-449d-da6d-b8a2c381b652"
   },
   "outputs": [
    {
     "data": {
      "text/plain": [
       "2"
      ]
     },
     "execution_count": 30,
     "metadata": {},
     "output_type": "execute_result"
    }
   ],
   "source": [
    "tag2idx[\"B\"]"
   ]
  },
  {
   "cell_type": "code",
   "execution_count": 31,
   "metadata": {
    "executionInfo": {
     "elapsed": 5,
     "status": "ok",
     "timestamp": 1650284203980,
     "user": {
      "displayName": "Nora Youssef",
      "userId": "03639374922222745842"
     },
     "user_tz": -120
    },
    "id": "mOuBcuIn1Xq7"
   },
   "outputs": [],
   "source": [
    "idx2tag = {i: w for w, i in tag2idx.items()}\n",
    "index2word = {i: w for w, i in word2idx.items()}"
   ]
  },
  {
   "cell_type": "markdown",
   "metadata": {
    "id": "ficlztQjaUVa"
   },
   "source": [
    "###X & Y Prep"
   ]
  },
  {
   "cell_type": "code",
   "execution_count": 32,
   "metadata": {
    "colab": {
     "base_uri": "https://localhost:8080/"
    },
    "executionInfo": {
     "elapsed": 3296,
     "status": "ok",
     "timestamp": 1650284207271,
     "user": {
      "displayName": "Nora Youssef",
      "userId": "03639374922222745842"
     },
     "user_tz": -120
    },
    "id": "DP2TPmt4bjKd",
    "outputId": "b72a0967-99d6-4321-8e62-8d526ef60bca"
   },
   "outputs": [
    {
     "name": "stderr",
     "output_type": "stream",
     "text": [
      "Using TensorFlow backend.\n"
     ]
    }
   ],
   "source": [
    "from keras.preprocessing.sequence import pad_sequences\n",
    "from keras.utils import to_categorical\n",
    "\n",
    "def getXYFromSentences(sentences):\n",
    "  \n",
    "  X = [[word2idx[w[0]] for w in s] for s in sentences]\n",
    "  X = pad_sequences(maxlen=max_len, sequences=X, padding=\"post\", value=word2idx[\"ENDPAD\"])\n",
    "   \n",
    "  y = [[tag2idx[w[1]] for w in s] for s in sentences]\n",
    "  y = pad_sequences(maxlen=max_len, sequences=y, padding=\"post\", value=tag2idx[\"O\"])\n",
    "  y = np.array([to_categorical(i, num_classes=n_tags) for i in y])\n",
    "  return X, y"
   ]
  },
  {
   "cell_type": "code",
   "execution_count": 33,
   "metadata": {
    "executionInfo": {
     "elapsed": 11,
     "status": "ok",
     "timestamp": 1650284207271,
     "user": {
      "displayName": "Nora Youssef",
      "userId": "03639374922222745842"
     },
     "user_tz": -120
    },
    "id": "ZOBpJZHb3aYe"
   },
   "outputs": [],
   "source": [
    "X_train, y_train = getXYFromSentences(sentences)"
   ]
  },
  {
   "cell_type": "code",
   "execution_count": 34,
   "metadata": {
    "executionInfo": {
     "elapsed": 10,
     "status": "ok",
     "timestamp": 1650284207271,
     "user": {
      "displayName": "Nora Youssef",
      "userId": "03639374922222745842"
     },
     "user_tz": -120
    },
    "id": "vO2Ylt52cbpD"
   },
   "outputs": [],
   "source": [
    "X_test, y_test = getXYFromSentences(sentences_test)"
   ]
  },
  {
   "cell_type": "markdown",
   "metadata": {
    "id": "PM4CKiLrK4yV"
   },
   "source": [
    "#### Exploration"
   ]
  },
  {
   "cell_type": "code",
   "execution_count": 35,
   "metadata": {
    "executionInfo": {
     "elapsed": 10,
     "status": "ok",
     "timestamp": 1650284207271,
     "user": {
      "displayName": "Nora Youssef",
      "userId": "03639374922222745842"
     },
     "user_tz": -120
    },
    "id": "GRZvmEDDLpkb"
   },
   "outputs": [],
   "source": [
    "target = X_test[1]"
   ]
  },
  {
   "cell_type": "code",
   "execution_count": 36,
   "metadata": {
    "colab": {
     "base_uri": "https://localhost:8080/"
    },
    "executionInfo": {
     "elapsed": 10,
     "status": "ok",
     "timestamp": 1650284207272,
     "user": {
      "displayName": "Nora Youssef",
      "userId": "03639374922222745842"
     },
     "user_tz": -120
    },
    "id": "5KKMsFopK7UR",
    "outputId": "34752e2f-a2db-41cd-c640-7571e5912c68"
   },
   "outputs": [
    {
     "data": {
      "text/plain": [
       "array([  370,  8015,  8015, 16522, 16522, 16522, 16522, 16522, 16522,\n",
       "       16522, 16522, 16522, 16522, 16522, 16522, 16522, 16522, 16522,\n",
       "       16522, 16522, 16522, 16522, 16522, 16522, 16522, 16522, 16522,\n",
       "       16522, 16522, 16522, 16522, 16522, 16522, 16522, 16522, 16522,\n",
       "       16522, 16522, 16522, 16522, 16522, 16522, 16522, 16522, 16522,\n",
       "       16522, 16522, 16522, 16522, 16522, 16522, 16522, 16522, 16522,\n",
       "       16522, 16522, 16522, 16522, 16522, 16522, 16522, 16522, 16522,\n",
       "       16522, 16522, 16522, 16522, 16522, 16522, 16522, 16522, 16522,\n",
       "       16522, 16522, 16522, 16522, 16522, 16522, 16522, 16522, 16522,\n",
       "       16522, 16522, 16522, 16522, 16522, 16522, 16522, 16522, 16522,\n",
       "       16522, 16522, 16522], dtype=int32)"
      ]
     },
     "execution_count": 36,
     "metadata": {},
     "output_type": "execute_result"
    }
   ],
   "source": [
    "target"
   ]
  },
  {
   "cell_type": "code",
   "execution_count": 37,
   "metadata": {
    "colab": {
     "base_uri": "https://localhost:8080/"
    },
    "executionInfo": {
     "elapsed": 9,
     "status": "ok",
     "timestamp": 1650284207272,
     "user": {
      "displayName": "Nora Youssef",
      "userId": "03639374922222745842"
     },
     "user_tz": -120
    },
    "id": "7pJyYzXRLLK2",
    "outputId": "9996aac1-9a8b-4c78-d476-a2070b02b14d"
   },
   "outputs": [
    {
     "data": {
      "text/plain": [
       "array(['2006', '.', '.', 'ENDPAD', 'ENDPAD', 'ENDPAD', 'ENDPAD', 'ENDPAD',\n",
       "       'ENDPAD', 'ENDPAD', 'ENDPAD', 'ENDPAD', 'ENDPAD', 'ENDPAD',\n",
       "       'ENDPAD', 'ENDPAD', 'ENDPAD', 'ENDPAD', 'ENDPAD', 'ENDPAD',\n",
       "       'ENDPAD', 'ENDPAD', 'ENDPAD', 'ENDPAD', 'ENDPAD', 'ENDPAD',\n",
       "       'ENDPAD', 'ENDPAD', 'ENDPAD', 'ENDPAD', 'ENDPAD', 'ENDPAD',\n",
       "       'ENDPAD', 'ENDPAD', 'ENDPAD', 'ENDPAD', 'ENDPAD', 'ENDPAD',\n",
       "       'ENDPAD', 'ENDPAD', 'ENDPAD', 'ENDPAD', 'ENDPAD', 'ENDPAD',\n",
       "       'ENDPAD', 'ENDPAD', 'ENDPAD', 'ENDPAD', 'ENDPAD', 'ENDPAD',\n",
       "       'ENDPAD', 'ENDPAD', 'ENDPAD', 'ENDPAD', 'ENDPAD', 'ENDPAD',\n",
       "       'ENDPAD', 'ENDPAD', 'ENDPAD', 'ENDPAD', 'ENDPAD', 'ENDPAD',\n",
       "       'ENDPAD', 'ENDPAD', 'ENDPAD', 'ENDPAD', 'ENDPAD', 'ENDPAD',\n",
       "       'ENDPAD', 'ENDPAD', 'ENDPAD', 'ENDPAD', 'ENDPAD', 'ENDPAD',\n",
       "       'ENDPAD', 'ENDPAD', 'ENDPAD', 'ENDPAD', 'ENDPAD', 'ENDPAD',\n",
       "       'ENDPAD', 'ENDPAD', 'ENDPAD', 'ENDPAD', 'ENDPAD', 'ENDPAD',\n",
       "       'ENDPAD', 'ENDPAD', 'ENDPAD', 'ENDPAD', 'ENDPAD', 'ENDPAD',\n",
       "       'ENDPAD'], dtype='<U6')"
      ]
     },
     "execution_count": 37,
     "metadata": {},
     "output_type": "execute_result"
    }
   ],
   "source": [
    "np.asarray([index2word[i] for i in  target])"
   ]
  },
  {
   "cell_type": "code",
   "execution_count": 38,
   "metadata": {
    "executionInfo": {
     "elapsed": 7,
     "status": "ok",
     "timestamp": 1650284207272,
     "user": {
      "displayName": "Nora Youssef",
      "userId": "03639374922222745842"
     },
     "user_tz": -120
    },
    "id": "rBTHdKzyL8UK"
   },
   "outputs": [],
   "source": [
    "target = y_train[1]"
   ]
  },
  {
   "cell_type": "code",
   "execution_count": 39,
   "metadata": {
    "colab": {
     "base_uri": "https://localhost:8080/"
    },
    "executionInfo": {
     "elapsed": 7,
     "status": "ok",
     "timestamp": 1650284207272,
     "user": {
      "displayName": "Nora Youssef",
      "userId": "03639374922222745842"
     },
     "user_tz": -120
    },
    "id": "ooRhSn4dMEgc",
    "outputId": "4da01d5e-3cda-4e99-ba1d-6db01e1c36bc"
   },
   "outputs": [
    {
     "data": {
      "text/plain": [
       "(93, 3)"
      ]
     },
     "execution_count": 39,
     "metadata": {},
     "output_type": "execute_result"
    }
   ],
   "source": [
    "target.shape\n"
   ]
  },
  {
   "cell_type": "code",
   "execution_count": 40,
   "metadata": {
    "colab": {
     "base_uri": "https://localhost:8080/"
    },
    "executionInfo": {
     "elapsed": 7,
     "status": "ok",
     "timestamp": 1650284207273,
     "user": {
      "displayName": "Nora Youssef",
      "userId": "03639374922222745842"
     },
     "user_tz": -120
    },
    "id": "Iif6da5uMBox",
    "outputId": "3972cac2-b13e-4334-f914-6951cbb10067"
   },
   "outputs": [
    {
     "data": {
      "text/plain": [
       "array(['O', 'O', 'O', 'O', 'O', 'O', 'O', 'O', 'O', 'O', 'O', 'O', 'O',\n",
       "       'B', 'I', 'I', 'O', 'O', 'O', 'O', 'O', 'O', 'O', 'O', 'O', 'O',\n",
       "       'O', 'O', 'O', 'O', 'O', 'O', 'O', 'O', 'O', 'O', 'O', 'O', 'O',\n",
       "       'O', 'O', 'O', 'O', 'O', 'O', 'O', 'O', 'O', 'O', 'O', 'O', 'O',\n",
       "       'O', 'O', 'O', 'O', 'O', 'O', 'O', 'O', 'O', 'O', 'O', 'O', 'O',\n",
       "       'O', 'O', 'O', 'O', 'O', 'O', 'O', 'O', 'O', 'O', 'O', 'O', 'O',\n",
       "       'O', 'O', 'O', 'O', 'O', 'O', 'O', 'O', 'O', 'O', 'O', 'O', 'O',\n",
       "       'O', 'O'], dtype='<U1')"
      ]
     },
     "execution_count": 40,
     "metadata": {},
     "output_type": "execute_result"
    }
   ],
   "source": [
    "np.asarray([idx2tag[np.argmax(i)] for i in  target])"
   ]
  },
  {
   "cell_type": "markdown",
   "metadata": {
    "id": "JmXgVQiFQVnN"
   },
   "source": [
    "##Setup the LSTM"
   ]
  },
  {
   "cell_type": "code",
   "execution_count": 41,
   "metadata": {
    "executionInfo": {
     "elapsed": 6,
     "status": "ok",
     "timestamp": 1650284207273,
     "user": {
      "displayName": "Nora Youssef",
      "userId": "03639374922222745842"
     },
     "user_tz": -120
    },
    "id": "ET2AHFutQNPY"
   },
   "outputs": [],
   "source": [
    "from keras import callbacks\n",
    "from keras.models import Model, Input, model_from_json\n",
    "from keras.layers import LSTM, Embedding, Dense, TimeDistributed, Dropout, Bidirectional\n",
    "from keras.optimizers import RMSprop"
   ]
  },
  {
   "cell_type": "code",
   "execution_count": 42,
   "metadata": {
    "executionInfo": {
     "elapsed": 5,
     "status": "ok",
     "timestamp": 1650284207273,
     "user": {
      "displayName": "Nora Youssef",
      "userId": "03639374922222745842"
     },
     "user_tz": -120
    },
    "id": "YHRrG7r7Qs-P"
   },
   "outputs": [],
   "source": [
    "def create_model():\n",
    "  input = Input(shape=(max_len,))\n",
    "  #in the line below --> laurance set the input_length = max_len-1 (NLP in TF Week4)\n",
    "  model = Embedding(input_dim=n_words, output_dim=50, input_length=max_len)(input)\n",
    "  model = Dropout(rate=0.1)(model)\n",
    "  model = Bidirectional(LSTM(units=100, return_sequences=True, recurrent_dropout=0.1))(model)\n",
    "  out = TimeDistributed(Dense(n_tags, activation=\"softmax\"))(model)  # softmax output layer\n",
    "  \n",
    "  return Model(input, out)"
   ]
  },
  {
   "cell_type": "code",
   "execution_count": 43,
   "metadata": {
    "colab": {
     "base_uri": "https://localhost:8080/"
    },
    "executionInfo": {
     "elapsed": 654,
     "status": "ok",
     "timestamp": 1650284207922,
     "user": {
      "displayName": "Nora Youssef",
      "userId": "03639374922222745842"
     },
     "user_tz": -120
    },
    "id": "v3oJQi__RZnw",
    "outputId": "a2bfe92e-71f1-4c03-dcc2-98615f559c41"
   },
   "outputs": [
    {
     "name": "stdout",
     "output_type": "stream",
     "text": [
      "WARNING:tensorflow:From /tensorflow-1.15.2/python3.7/tensorflow_core/python/ops/resource_variable_ops.py:1630: calling BaseResourceVariable.__init__ (from tensorflow.python.ops.resource_variable_ops) with constraint is deprecated and will be removed in a future version.\n",
      "Instructions for updating:\n",
      "If using Keras pass *_constraint arguments to layers.\n"
     ]
    }
   ],
   "source": [
    "model = create_model()\n",
    "#model = load_model()"
   ]
  },
  {
   "cell_type": "code",
   "execution_count": 44,
   "metadata": {
    "colab": {
     "base_uri": "https://localhost:8080/"
    },
    "executionInfo": {
     "elapsed": 3,
     "status": "ok",
     "timestamp": 1650284207922,
     "user": {
      "displayName": "Nora Youssef",
      "userId": "03639374922222745842"
     },
     "user_tz": -120
    },
    "id": "tmgovNJTbxBO",
    "outputId": "066ccc5d-18f4-4d46-eac6-44fbb3e60dd0"
   },
   "outputs": [
    {
     "name": "stdout",
     "output_type": "stream",
     "text": [
      "Model: \"model_1\"\n",
      "_________________________________________________________________\n",
      "Layer (type)                 Output Shape              Param #   \n",
      "=================================================================\n",
      "input_1 (InputLayer)         (None, 93)                0         \n",
      "_________________________________________________________________\n",
      "embedding_1 (Embedding)      (None, 93, 50)            826100    \n",
      "_________________________________________________________________\n",
      "dropout_1 (Dropout)          (None, 93, 50)            0         \n",
      "_________________________________________________________________\n",
      "bidirectional_1 (Bidirection (None, 93, 200)           120800    \n",
      "_________________________________________________________________\n",
      "time_distributed_1 (TimeDist (None, 93, 3)             603       \n",
      "=================================================================\n",
      "Total params: 947,503\n",
      "Trainable params: 947,503\n",
      "Non-trainable params: 0\n",
      "_________________________________________________________________\n"
     ]
    }
   ],
   "source": [
    "model.summary()"
   ]
  },
  {
   "cell_type": "code",
   "execution_count": 45,
   "metadata": {
    "executionInfo": {
     "elapsed": 251,
     "status": "ok",
     "timestamp": 1650284208170,
     "user": {
      "displayName": "Nora Youssef",
      "userId": "03639374922222745842"
     },
     "user_tz": -120
    },
    "id": "qqtT84Q3RvEa"
   },
   "outputs": [],
   "source": [
    "model.compile(optimizer=RMSprop(), loss=\"categorical_crossentropy\", metrics=[\"accuracy\"])"
   ]
  },
  {
   "cell_type": "code",
   "execution_count": 46,
   "metadata": {
    "executionInfo": {
     "elapsed": 2,
     "status": "ok",
     "timestamp": 1650284208170,
     "user": {
      "displayName": "Nora Youssef",
      "userId": "03639374922222745842"
     },
     "user_tz": -120
    },
    "id": "Tuq9TL_hhba9"
   },
   "outputs": [],
   "source": [
    "class myCallback(callbacks.Callback):\n",
    "  def on_epoch_end(self, epoch, logs={}):\n",
    "    if(logs.get('accuracy')>=0.989):\n",
    "      print(\"\\nReached 98.9% accuracy so cancelling training!\")\n",
    "      self.model.stop_training = True\n",
    " "
   ]
  },
  {
   "cell_type": "code",
   "execution_count": 47,
   "metadata": {
    "executionInfo": {
     "elapsed": 653,
     "status": "ok",
     "timestamp": 1650284208822,
     "user": {
      "displayName": "Nora Youssef",
      "userId": "03639374922222745842"
     },
     "user_tz": -120
    },
    "id": "IUGGzLfZUVQR"
   },
   "outputs": [],
   "source": [
    "from sklearn.model_selection import train_test_split"
   ]
  },
  {
   "cell_type": "code",
   "execution_count": 48,
   "metadata": {
    "executionInfo": {
     "elapsed": 5,
     "status": "ok",
     "timestamp": 1650284208823,
     "user": {
      "displayName": "Nora Youssef",
      "userId": "03639374922222745842"
     },
     "user_tz": -120
    },
    "id": "r_x066BaUYR8"
   },
   "outputs": [],
   "source": [
    "X_train, X_val, y_train, y_val = train_test_split(X_train, y_train, test_size=0.20)"
   ]
  },
  {
   "cell_type": "code",
   "execution_count": 49,
   "metadata": {
    "colab": {
     "base_uri": "https://localhost:8080/"
    },
    "executionInfo": {
     "elapsed": 5,
     "status": "ok",
     "timestamp": 1650284208823,
     "user": {
      "displayName": "Nora Youssef",
      "userId": "03639374922222745842"
     },
     "user_tz": -120
    },
    "id": "4sEmQfT4WLIR",
    "outputId": "b7807a6a-f3d1-400d-a115-58f49f5ac7d4"
   },
   "outputs": [
    {
     "name": "stdout",
     "output_type": "stream",
     "text": [
      "(4586, 93)\n",
      "(1147, 93)\n",
      "(1630, 93)\n",
      "(4586, 93, 3)\n",
      "(1147, 93, 3)\n",
      "(1630, 93, 3)\n"
     ]
    }
   ],
   "source": [
    "print(X_train.shape)\n",
    "print(X_val.shape)\n",
    "print(X_test.shape)\n",
    "print(y_train.shape)\n",
    "print(y_val.shape)\n",
    "print(y_test.shape)"
   ]
  },
  {
   "cell_type": "code",
   "execution_count": 50,
   "metadata": {
    "colab": {
     "base_uri": "https://localhost:8080/"
    },
    "executionInfo": {
     "elapsed": 63342,
     "status": "ok",
     "timestamp": 1650284272162,
     "user": {
      "displayName": "Nora Youssef",
      "userId": "03639374922222745842"
     },
     "user_tz": -120
    },
    "id": "87AaEwD8RyHe",
    "outputId": "18cf37aa-68e7-4ecb-e425-51fa70068976"
   },
   "outputs": [
    {
     "name": "stdout",
     "output_type": "stream",
     "text": [
      "WARNING:tensorflow:From /tensorflow-1.15.2/python3.7/tensorflow_core/python/ops/math_grad.py:1424: where (from tensorflow.python.ops.array_ops) is deprecated and will be removed in a future version.\n",
      "Instructions for updating:\n",
      "Use tf.where in 2.0, which has the same broadcast rule as np.where\n",
      "WARNING:tensorflow:From /tensorflow-1.15.2/python3.7/keras/backend/tensorflow_backend.py:422: The name tf.global_variables is deprecated. Please use tf.compat.v1.global_variables instead.\n",
      "\n",
      "Train on 4586 samples, validate on 1147 samples\n",
      "Epoch 1/10\n",
      "4586/4586 [==============================] - 30s 7ms/step - loss: 0.0848 - accuracy: 0.9860 - val_loss: 0.0556 - val_accuracy: 0.9887\n",
      "Epoch 2/10\n",
      "4586/4586 [==============================] - 29s 6ms/step - loss: 0.0436 - accuracy: 0.9892 - val_loss: 0.0395 - val_accuracy: 0.9892\n",
      "\n",
      "Reached 98.9% accuracy so cancelling training!\n"
     ]
    }
   ],
   "source": [
    "history = model.fit(X_train, y_train, validation_data=(X_val, y_val), shuffle=True, batch_size=32, epochs=10, verbose=1, callbacks=[myCallback()])"
   ]
  },
  {
   "cell_type": "code",
   "execution_count": 51,
   "metadata": {
    "colab": {
     "base_uri": "https://localhost:8080/"
    },
    "executionInfo": {
     "elapsed": 11,
     "status": "ok",
     "timestamp": 1650284272163,
     "user": {
      "displayName": "Nora Youssef",
      "userId": "03639374922222745842"
     },
     "user_tz": -120
    },
    "id": "9_9TMZn28J7f",
    "outputId": "ee8b9244-d0cd-4eb6-ef1c-dfa6a524cde1"
   },
   "outputs": [
    {
     "name": "stdout",
     "output_type": "stream",
     "text": [
      "Saved model to disk\n"
     ]
    }
   ],
   "source": [
    "save_model(model)"
   ]
  },
  {
   "cell_type": "code",
   "execution_count": 52,
   "metadata": {
    "executionInfo": {
     "elapsed": 8,
     "status": "ok",
     "timestamp": 1650284272163,
     "user": {
      "displayName": "Nora Youssef",
      "userId": "03639374922222745842"
     },
     "user_tz": -120
    },
    "id": "-74jERJeS6QM"
   },
   "outputs": [],
   "source": [
    "hist = pd.DataFrame(history.history)"
   ]
  },
  {
   "cell_type": "code",
   "execution_count": 53,
   "metadata": {
    "executionInfo": {
     "elapsed": 9,
     "status": "ok",
     "timestamp": 1650284272164,
     "user": {
      "displayName": "Nora Youssef",
      "userId": "03639374922222745842"
     },
     "user_tz": -120
    },
    "id": "3-ERn4Rc9J4_"
   },
   "outputs": [],
   "source": [
    "saveDataFrameToCSV(hist, training_history_csv, append=True)\n",
    " "
   ]
  },
  {
   "cell_type": "code",
   "execution_count": 54,
   "metadata": {
    "colab": {
     "base_uri": "https://localhost:8080/",
     "height": 717
    },
    "executionInfo": {
     "elapsed": 515,
     "status": "ok",
     "timestamp": 1650284272670,
     "user": {
      "displayName": "Nora Youssef",
      "userId": "03639374922222745842"
     },
     "user_tz": -120
    },
    "id": "MwJX2aS2W8Tf",
    "outputId": "08433bfe-c509-4105-f2f2-4f91c8e0a064"
   },
   "outputs": [
    {
     "data": {
      "image/png": "[encoded data removed]",
      "text/plain": [
       "<Figure size 864x864 with 1 Axes>"
      ]
     },
     "metadata": {},
     "output_type": "display_data"
    }
   ],
   "source": [
    "plt.figure(figsize=(12,12))\n",
    "plt.plot(hist[\"accuracy\"], label=\"accuracy\")\n",
    "plt.plot(hist[\"val_accuracy\"], label=\"val_accuracy\")\n",
    "plt.title('Training and Validation Accuracy')\n",
    "plt.legend()\n",
    "plt.show()"
   ]
  },
  {
   "cell_type": "code",
   "execution_count": 55,
   "metadata": {
    "colab": {
     "base_uri": "https://localhost:8080/"
    },
    "executionInfo": {
     "elapsed": 329,
     "status": "ok",
     "timestamp": 1650284272997,
     "user": {
      "displayName": "Nora Youssef",
      "userId": "03639374922222745842"
     },
     "user_tz": -120
    },
    "id": "AP5DBugQXO8S",
    "outputId": "665831fe-fb81-42b0-e831-e4cb1e119b6d"
   },
   "outputs": [
    {
     "name": "stdout",
     "output_type": "stream",
     "text": [
      "Word            True                : Pred\n",
      "Despite        : O                   : O\n",
      "wide           : O                   : O\n",
      "population     : O                   : O\n",
      "-              : O                   : O\n",
      "level          : O                   : O\n",
      "isotopic       : O                   : O\n",
      "niche          : O                   : O\n",
      "breadths       : O                   : O\n",
      "in             : O                   : O\n",
      "both           : O                   : O\n",
      "species        : O                   : O\n",
      ",              : O                   : O\n",
      "isotopic       : O                   : O\n",
      "values         : O                   : O\n",
      "of             : O                   : O\n",
      "individual     : O                   : O\n",
      "tiger          : B                   : O\n",
      "sharks         : I                   : O\n",
      "varied         : O                   : O\n",
      "across         : O                   : O\n",
      "tissues        : O                   : O\n",
      "with           : O                   : O\n",
      "different      : O                   : O\n",
      "turnover       : O                   : O\n",
      "rates          : O                   : O\n",
      ".              : O                   : O\n",
      ".              : O                   : O\n",
      "ENDPAD         : O                   : O\n",
      "ENDPAD         : O                   : O\n",
      "ENDPAD         : O                   : O\n",
      "ENDPAD         : O                   : O\n",
      "ENDPAD         : O                   : O\n",
      "ENDPAD         : O                   : O\n",
      "ENDPAD         : O                   : O\n",
      "ENDPAD         : O                   : O\n",
      "ENDPAD         : O                   : O\n",
      "ENDPAD         : O                   : O\n",
      "ENDPAD         : O                   : O\n",
      "ENDPAD         : O                   : O\n",
      "ENDPAD         : O                   : O\n",
      "ENDPAD         : O                   : O\n",
      "ENDPAD         : O                   : O\n",
      "ENDPAD         : O                   : O\n",
      "ENDPAD         : O                   : O\n",
      "ENDPAD         : O                   : O\n",
      "ENDPAD         : O                   : O\n",
      "ENDPAD         : O                   : O\n",
      "ENDPAD         : O                   : O\n",
      "ENDPAD         : O                   : O\n",
      "ENDPAD         : O                   : O\n",
      "ENDPAD         : O                   : O\n",
      "ENDPAD         : O                   : O\n",
      "ENDPAD         : O                   : O\n",
      "ENDPAD         : O                   : O\n",
      "ENDPAD         : O                   : O\n",
      "ENDPAD         : O                   : O\n",
      "ENDPAD         : O                   : O\n",
      "ENDPAD         : O                   : O\n",
      "ENDPAD         : O                   : O\n",
      "ENDPAD         : O                   : O\n",
      "ENDPAD         : O                   : O\n",
      "ENDPAD         : O                   : O\n",
      "ENDPAD         : O                   : O\n",
      "ENDPAD         : O                   : O\n",
      "ENDPAD         : O                   : O\n",
      "ENDPAD         : O                   : O\n",
      "ENDPAD         : O                   : O\n",
      "ENDPAD         : O                   : O\n",
      "ENDPAD         : O                   : O\n",
      "ENDPAD         : O                   : O\n",
      "ENDPAD         : O                   : O\n",
      "ENDPAD         : O                   : O\n",
      "ENDPAD         : O                   : O\n",
      "ENDPAD         : O                   : O\n",
      "ENDPAD         : O                   : O\n",
      "ENDPAD         : O                   : O\n",
      "ENDPAD         : O                   : O\n",
      "ENDPAD         : O                   : O\n",
      "ENDPAD         : O                   : O\n",
      "ENDPAD         : O                   : O\n",
      "ENDPAD         : O                   : O\n",
      "ENDPAD         : O                   : O\n",
      "ENDPAD         : O                   : O\n",
      "ENDPAD         : O                   : O\n",
      "ENDPAD         : O                   : O\n",
      "ENDPAD         : O                   : O\n",
      "ENDPAD         : O                   : O\n",
      "ENDPAD         : O                   : O\n",
      "ENDPAD         : O                   : O\n",
      "ENDPAD         : O                   : O\n",
      "ENDPAD         : O                   : O\n",
      "ENDPAD         : O                   : O\n",
      "ENDPAD         : O                   : O\n"
     ]
    }
   ],
   "source": [
    "i = 5\n",
    "\n",
    "p = model.predict(np.array([X_train[i]]))\n",
    "p = np.argmax(p, axis=-1)\n",
    "\n",
    "true_lbl = y_train[i]\n",
    "true_lbl = np.argmax(true_lbl, axis=-1)\n",
    "\n",
    "print(\"{:15} {:20}: {}\".format(\"Word\", \"True\", \"Pred\"))\n",
    "\n",
    "for w, t, pred in zip(X_train[i], true_lbl, p[0]):    \n",
    "    print(\"{:15}: {:20}: {}\" .format(index2word[w], tags[t], tags[pred]))"
   ]
  },
  {
   "cell_type": "markdown",
   "metadata": {
    "id": "QZ9IBOOJjfcA"
   },
   "source": [
    "##Evaluation"
   ]
  },
  {
   "cell_type": "code",
   "execution_count": 56,
   "metadata": {
    "colab": {
     "base_uri": "https://localhost:8080/"
    },
    "executionInfo": {
     "elapsed": 5105,
     "status": "ok",
     "timestamp": 1650284278099,
     "user": {
      "displayName": "Nora Youssef",
      "userId": "03639374922222745842"
     },
     "user_tz": -120
    },
    "id": "cBKRFu1dl2JD",
    "outputId": "6ae581d6-bcad-49da-f036-b2e040fea71e"
   },
   "outputs": [
    {
     "name": "stdout",
     "output_type": "stream",
     "text": [
      "1630/1630 [==============================] - 5s 3ms/step\n"
     ]
    },
    {
     "data": {
      "text/plain": [
       "[0.04260001992749656, 0.9884161353111267]"
      ]
     },
     "execution_count": 56,
     "metadata": {},
     "output_type": "execute_result"
    }
   ],
   "source": [
    "model.evaluate(x=X_test, y=y_test, batch_size=32, verbose=1)"
   ]
  },
  {
   "cell_type": "code",
   "execution_count": 57,
   "metadata": {
    "colab": {
     "base_uri": "https://localhost:8080/"
    },
    "executionInfo": {
     "elapsed": 5594,
     "status": "ok",
     "timestamp": 1650284283686,
     "user": {
      "displayName": "Nora Youssef",
      "userId": "03639374922222745842"
     },
     "user_tz": -120
    },
    "id": "fumZ3CdQeEGM",
    "outputId": "1c64799b-b4e3-4be5-c197-980efcd0469f"
   },
   "outputs": [
    {
     "name": "stdout",
     "output_type": "stream",
     "text": [
      "1630/1630 [==============================] - 5s 3ms/step\n"
     ]
    }
   ],
   "source": [
    "test_pred = model.predict(X_test, verbose=1)"
   ]
  },
  {
   "cell_type": "code",
   "execution_count": 58,
   "metadata": {
    "executionInfo": {
     "elapsed": 8,
     "status": "ok",
     "timestamp": 1650284283686,
     "user": {
      "displayName": "Nora Youssef",
      "userId": "03639374922222745842"
     },
     "user_tz": -120
    },
    "id": "2z5pwi6_eOW3"
   },
   "outputs": [],
   "source": [
    "def pred2label(pred):\n",
    "    out = []\n",
    "    for pred_i in pred:\n",
    "        out_i = []\n",
    "        for p in pred_i:\n",
    "            p_i = np.argmax(p)\n",
    "            out_i.append(idx2tag[p_i].replace(\"ENDPAD\", \"O\"))\n",
    "        out.append(out_i)\n",
    "    return out\n",
    "\n",
    "def test2label(pred):\n",
    "    out = []\n",
    "    for pred_i in pred:\n",
    "        out_i = []\n",
    "        for p in pred_i:\n",
    "            out_i.append(idx2tag[p].replace(\"ENDPAD\", \"O\"))\n",
    "        out.append(out_i)\n",
    "    return out"
   ]
  },
  {
   "cell_type": "code",
   "execution_count": 59,
   "metadata": {
    "executionInfo": {
     "elapsed": 8,
     "status": "ok",
     "timestamp": 1650284283687,
     "user": {
      "displayName": "Nora Youssef",
      "userId": "03639374922222745842"
     },
     "user_tz": -120
    },
    "id": "BKnk3AQhal-s"
   },
   "outputs": [],
   "source": [
    "def toLabel(pred):\n",
    "    out = []\n",
    "    for pred_i in pred:        \n",
    "        out.append(np.asarray([idx2tag[np.argmax(i)] for i in  pred_i]))\n",
    "    return np.asarray(out)\n"
   ]
  },
  {
   "cell_type": "code",
   "execution_count": 60,
   "metadata": {
    "executionInfo": {
     "elapsed": 544,
     "status": "ok",
     "timestamp": 1650284284223,
     "user": {
      "displayName": "Nora Youssef",
      "userId": "03639374922222745842"
     },
     "user_tz": -120
    },
    "id": "zEFnBWkieXLT"
   },
   "outputs": [],
   "source": [
    "pred_labels = pred2label(test_pred)\n",
    "test_labels = test2label(np.argmax(y_test, -1))"
   ]
  },
  {
   "cell_type": "code",
   "execution_count": 61,
   "metadata": {
    "colab": {
     "base_uri": "https://localhost:8080/"
    },
    "executionInfo": {
     "elapsed": 4,
     "status": "ok",
     "timestamp": 1650284284223,
     "user": {
      "displayName": "Nora Youssef",
      "userId": "03639374922222745842"
     },
     "user_tz": -120
    },
    "id": "5C9FL6hQgN_o",
    "outputId": "215fdf1e-ce63-4227-8a8b-18e5e2b71af2"
   },
   "outputs": [
    {
     "name": "stdout",
     "output_type": "stream",
     "text": [
      "['O', 'O', 'B', 'O', 'O', 'O', 'O', 'O', 'O', 'O', 'O', 'O', 'O', 'O', 'O', 'O', 'O', 'O', 'O', 'O', 'O', 'O', 'O', 'O', 'O', 'O', 'O', 'O', 'O', 'O', 'O', 'O', 'O', 'O', 'O', 'O', 'O', 'O', 'O', 'O', 'O', 'O', 'O', 'O', 'O', 'O', 'O', 'O', 'O', 'O', 'O', 'O', 'O', 'O', 'O', 'O', 'O', 'O', 'O', 'O', 'O', 'O', 'O', 'O', 'O', 'O', 'O', 'O', 'O', 'O', 'O', 'O', 'O', 'O', 'O', 'O', 'O', 'O', 'O', 'O', 'O', 'O', 'O', 'O', 'O', 'O', 'O', 'O', 'O', 'O', 'O', 'O', 'O']\n"
     ]
    }
   ],
   "source": [
    "print(pred_labels[0])"
   ]
  },
  {
   "cell_type": "code",
   "execution_count": 62,
   "metadata": {
    "colab": {
     "base_uri": "https://localhost:8080/"
    },
    "executionInfo": {
     "elapsed": 4,
     "status": "ok",
     "timestamp": 1650284284224,
     "user": {
      "displayName": "Nora Youssef",
      "userId": "03639374922222745842"
     },
     "user_tz": -120
    },
    "id": "CtM_mQ9ggSwI",
    "outputId": "2699c0ef-ea19-4343-bef0-59468801256d"
   },
   "outputs": [
    {
     "name": "stdout",
     "output_type": "stream",
     "text": [
      "['B', 'I', 'I', 'I', 'I', 'I', 'O', 'O', 'O', 'O', 'O', 'O', 'O', 'O', 'O', 'O', 'O', 'O', 'O', 'O', 'O', 'O', 'O', 'O', 'O', 'O', 'O', 'O', 'O', 'O', 'O', 'O', 'O', 'O', 'O', 'O', 'O', 'O', 'O', 'O', 'O', 'O', 'O', 'O', 'O', 'O', 'O', 'O', 'O', 'O', 'O', 'O', 'O', 'O', 'O', 'O', 'O', 'O', 'O', 'O', 'O', 'O', 'O', 'O', 'O', 'O', 'O', 'O', 'O', 'O', 'O', 'O', 'O', 'O', 'O', 'O', 'O', 'O', 'O', 'O', 'O', 'O', 'O', 'O', 'O', 'O', 'O', 'O', 'O', 'O', 'O', 'O', 'O']\n"
     ]
    }
   ],
   "source": [
    "print(test_labels[0])"
   ]
  },
  {
   "cell_type": "markdown",
   "metadata": {
    "id": "LhJVeLkyyqle"
   },
   "source": [
    "###Tailored Evaluation\n"
   ]
  },
  {
   "cell_type": "code",
   "execution_count": 65,
   "metadata": {
    "colab": {
     "base_uri": "https://localhost:8080/"
    },
    "executionInfo": {
     "elapsed": 206,
     "status": "ok",
     "timestamp": 1650284460668,
     "user": {
      "displayName": "Nora Youssef",
      "userId": "03639374922222745842"
     },
     "user_tz": -120
    },
    "id": "dsFiiZ7CnjQG",
    "outputId": "1e8dba0b-f931-4818-b8ca-aa6dc28fb56a"
   },
   "outputs": [
    {
     "name": "stdout",
     "output_type": "stream",
     "text": [
      "/content/drive/My Drive/Colab Notebooks/BERT-QEMP\n"
     ]
    }
   ],
   "source": [
    "cd \"/content/drive/My Drive/Colab Notebooks/BERT-QEMP/\""
   ]
  },
  {
   "cell_type": "code",
   "execution_count": 66,
   "metadata": {
    "executionInfo": {
     "elapsed": 1040,
     "status": "ok",
     "timestamp": 1650284461919,
     "user": {
      "displayName": "Nora Youssef",
      "userId": "03639374922222745842"
     },
     "user_tz": -120
    },
    "id": "t7_7c_lldqQC"
   },
   "outputs": [],
   "source": [
    "from classification_metrics import classification_report, replaceMultiple"
   ]
  },
  {
   "cell_type": "code",
   "execution_count": 67,
   "metadata": {
    "executionInfo": {
     "elapsed": 1,
     "status": "ok",
     "timestamp": 1650284462774,
     "user": {
      "displayName": "Nora Youssef",
      "userId": "03639374922222745842"
     },
     "user_tz": -120
    },
    "id": "c7IdpCfgx7Ko"
   },
   "outputs": [],
   "source": [
    "test_labels = [val for sublist in test_labels for val in sublist]\n",
    "pred_labels = [val for sublist in pred_labels for val in sublist]"
   ]
  },
  {
   "cell_type": "code",
   "execution_count": 68,
   "metadata": {
    "colab": {
     "base_uri": "https://localhost:8080/"
    },
    "executionInfo": {
     "elapsed": 3205,
     "status": "ok",
     "timestamp": 1650284466564,
     "user": {
      "displayName": "Nora Youssef",
      "userId": "03639374922222745842"
     },
     "user_tz": -120
    },
    "id": "V7DB9mm5yCgL",
    "outputId": "4c09eb78-e233-4f33-f8bd-bd72e7ebbeb9"
   },
   "outputs": [
    {
     "name": "stdout",
     "output_type": "stream",
     "text": [
      "                        precision \t recall \t f1-score \t support\n",
      "\n",
      "I                   \t 0.67\t\t 0.03\t\t 0.05\t\t 1048\t\n",
      "B                   \t 0.46\t\t 0.18\t\t 0.26\t\t 767\t\n",
      "\n",
      "\n",
      "macro avg           \t 0.57\t\t 0.10\t\t 0.18\t\t 1815\t\n",
      "micro avg           \t 0.49\t\t 0.09\t\t 0.16\t\t 1815\t\n",
      "\n"
     ]
    }
   ],
   "source": [
    "print(classification_report(test_labels, pred_labels))"
   ]
  },
  {
   "cell_type": "code",
   "execution_count": null,
   "metadata": {
    "executionInfo": {
     "elapsed": 313,
     "status": "aborted",
     "timestamp": 1650284286185,
     "user": {
      "displayName": "Nora Youssef",
      "userId": "03639374922222745842"
     },
     "user_tz": -120
    },
    "id": "wvFzq4ly_j_6"
   },
   "outputs": [],
   "source": []
  }
 ],
 "metadata": {
  "accelerator": "GPU",
  "colab": {
   "collapsed_sections": [],
   "name": "BiLSTM_Species800.ipynb",
   "provenance": []
  },
  "kernelspec": {
   "display_name": "Python 3",
   "language": "python",
   "name": "python3"
  },
  "language_info": {
   "codemirror_mode": {
    "name": "ipython",
    "version": 3
   },
   "file_extension": ".py",
   "mimetype": "text/x-python",
   "name": "python",
   "nbconvert_exporter": "python",
   "pygments_lexer": "ipython3",
   "version": "3.6.6"
  }
 },
 "nbformat": 4,
 "nbformat_minor": 1
}
