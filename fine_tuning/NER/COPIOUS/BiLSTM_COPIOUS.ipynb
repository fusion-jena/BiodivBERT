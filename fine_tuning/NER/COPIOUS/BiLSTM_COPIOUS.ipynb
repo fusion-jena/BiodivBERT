{
 "cells": [
  {
   "cell_type": "code",
   "execution_count": null,
   "metadata": {
    "colab": {
     "base_uri": "https://localhost:8080/",
     "height": 124
    },
    "id": "TNeeSq0SLU8A",
    "outputId": "607eb5f6-62dd-4a80-c897-536eff09a088"
   },
   "outputs": [
    {
     "name": "stdout",
     "output_type": "stream",
     "text": [
      "Go to this URL in a browser: https://accounts.google.com/o/oauth2/auth?client_id=947318989803-6bn6qk8qdgf4n4g3pfee6491hc0brc4i.apps.googleusercontent.com&redirect_uri=urn%3Aietf%3Awg%3Aoauth%3A2.0%3Aoob&scope=email%20https%3A%2F%2Fwww.googleapis.com%2Fauth%2Fdocs.test%20https%3A%2F%2Fwww.googleapis.com%2Fauth%2Fdrive%20https%3A%2F%2Fwww.googleapis.com%2Fauth%2Fdrive.photos.readonly%20https%3A%2F%2Fwww.googleapis.com%2Fauth%2Fpeopleapi.readonly&response_type=code\n",
      "\n",
      "Enter your authorization code:\n",
      "··········\n",
      "Mounted at /content/drive\n"
     ]
    }
   ],
   "source": [
    "# Load the Drive helper and mount\n",
    "from google.colab import drive\n",
    "drive.mount('/content/drive')"
   ]
  },
  {
   "cell_type": "code",
   "execution_count": null,
   "metadata": {
    "colab": {
     "base_uri": "https://localhost:8080/",
     "height": 34
    },
    "id": "qcsYD2yEMVkc",
    "outputId": "241f2faa-4a35-42fa-f9d8-d7b9e161af54"
   },
   "outputs": [
    {
     "name": "stdout",
     "output_type": "stream",
     "text": [
      "/content/drive/My Drive/Colab Notebooks/NER/COPIOUS-BiLSTM\n"
     ]
    }
   ],
   "source": [
    "cd /content/drive/My Drive/Colab Notebooks/NER/COPIOUS-BiLSTM/"
   ]
  },
  {
   "cell_type": "code",
   "execution_count": null,
   "metadata": {
    "id": "R4YFOyhD8l_1"
   },
   "outputs": [],
   "source": [
    "import os"
   ]
  },
  {
   "cell_type": "code",
   "execution_count": null,
   "metadata": {
    "id": "awapx8haNr-U"
   },
   "outputs": [],
   "source": [
    "root_dir = \"/content/drive/My Drive/Colab Notebooks/NER/COPIOUS-BiLSTM/\"\n",
    "\n",
    "root_data_dir = os.path.join(root_dir, \"datasets\", \"COPIOUS\")\n",
    "\n",
    "dataset = \"train\"\n",
    "csv_file_path = \"train_csv.csv\"\n",
    "\n",
    "offline_model_file = os.path.join(root_dir, \"BiLSTM-COPIOUS-model\")\n",
    "training_history_csv = \"training_history.csv\""
   ]
  },
  {
   "cell_type": "markdown",
   "metadata": {
    "id": "eQFFmGZG-X05"
   },
   "source": [
    "##Util"
   ]
  },
  {
   "cell_type": "code",
   "execution_count": null,
   "metadata": {
    "id": "8LihPGwb92iK"
   },
   "outputs": [],
   "source": [
    "def load_model():\n",
    "    json_file = open(offline_model_file+\".json\", 'r')\n",
    "    loaded_model_json = json_file.read()\n",
    "    json_file.close()\n",
    "    new_model = model_from_json(loaded_model_json)\n",
    "    # load weights into new model\n",
    "    new_model.load_weights(offline_model_file+\".h5\")\n",
    "    print(\"Loaded model from disk\")\n",
    "    return new_model"
   ]
  },
  {
   "cell_type": "code",
   "execution_count": null,
   "metadata": {
    "id": "WaGNPxjM98Ds"
   },
   "outputs": [],
   "source": [
    "def save_model(model):\n",
    "    # serialize model to JSON\n",
    "    model_json = model.to_json()\n",
    "    \n",
    "    with open(offline_model_file+\".json\", \"w\") as json_file:\n",
    "        json_file.write(model_json)\n",
    "    # serialize weights to HDF5\n",
    "    model.save_weights(offline_model_file+\".h5\")\n",
    "    print(\"Saved model to disk\")"
   ]
  },
  {
   "cell_type": "code",
   "execution_count": null,
   "metadata": {
    "id": "sF6IG8FM8WqT"
   },
   "outputs": [],
   "source": [
    "def saveDataFrameToCSV(pd1, csv_path, append):  \n",
    "  dataset_path = os.path.join(root_dir, csv_path)  \n",
    "  \n",
    "  if append:\n",
    "    with open(dataset_path, 'a+') as f:    \n",
    "      pd1.to_csv(dataset_path,  mode='a', index=False, header=False)    \n",
    "  else:\n",
    "    with open(dataset_path, 'a+') as f:    \n",
    "      pd1.to_csv(dataset_path,  mode='a', index=False, header=True)"
   ]
  },
  {
   "cell_type": "markdown",
   "metadata": {
    "id": "10yeK7623aaY"
   },
   "source": [
    "## Dataset Preprocessing\n"
   ]
  },
  {
   "cell_type": "code",
   "execution_count": null,
   "metadata": {
    "id": "GT1NMGBw3aaU"
   },
   "outputs": [],
   "source": [
    "import os\n",
    "import pandas as pd\n",
    "import numpy as np"
   ]
  },
  {
   "cell_type": "code",
   "execution_count": null,
   "metadata": {
    "id": "ybHlNSgxcwL1"
   },
   "outputs": [],
   "source": [
    "def loadData(csv_file_path):\n",
    "  dataset_path = os.path.join(root_data_dir, csv_file_path)\n",
    "  data = pd.read_csv(dataset_path, encoding=\"latin1\")\n",
    "  data = data.fillna(method=\"ffill\")\n",
    "  return data"
   ]
  },
  {
   "cell_type": "code",
   "execution_count": null,
   "metadata": {
    "id": "cTEqN_U_3aZ3"
   },
   "outputs": [],
   "source": [
    "class SentenceGetter(object):\n",
    "    \n",
    "    def __init__(self, data):\n",
    "        self.n_sent = 1\n",
    "        self.data = data\n",
    "        self.empty = False\n",
    "        agg_func = lambda s: [(w, t) for w, t in zip(s[\"Word\"].values.tolist(),                                                          \n",
    "                                                        s[\"Tag\"].values.tolist())]\n",
    "        self.grouped = self.data.groupby(\"Sentence #\").apply(agg_func)\n",
    "        self.sentences = [s for s in self.grouped]\n",
    "    \n",
    "    def get_next(self):\n",
    "        try:\n",
    "            s = self.grouped[\"Sentence: {}\".format(self.n_sent)]\n",
    "            self.n_sent += 1\n",
    "            return s\n",
    "        except:\n",
    "            return None"
   ]
  },
  {
   "cell_type": "code",
   "execution_count": null,
   "metadata": {
    "id": "DdpwuNQtpOk0"
   },
   "outputs": [],
   "source": [
    "data = loadData(csv_file_path)"
   ]
  },
  {
   "cell_type": "code",
   "execution_count": null,
   "metadata": {
    "colab": {
     "base_uri": "https://localhost:8080/",
     "height": 363
    },
    "id": "nXOClRlWsKZE",
    "outputId": "7cd92dc5-c72e-4511-95c1-3cf93c077ebf"
   },
   "outputs": [
    {
     "data": {
      "text/html": [
       "<div>\n",
       "<style scoped>\n",
       "    .dataframe tbody tr th:only-of-type {\n",
       "        vertical-align: middle;\n",
       "    }\n",
       "\n",
       "    .dataframe tbody tr th {\n",
       "        vertical-align: top;\n",
       "    }\n",
       "\n",
       "    .dataframe thead th {\n",
       "        text-align: right;\n",
       "    }\n",
       "</style>\n",
       "<table border=\"1\" class=\"dataframe\">\n",
       "  <thead>\n",
       "    <tr style=\"text-align: right;\">\n",
       "      <th></th>\n",
       "      <th>Sentence #</th>\n",
       "      <th>Word</th>\n",
       "      <th>Word Id</th>\n",
       "      <th>Tag</th>\n",
       "    </tr>\n",
       "  </thead>\n",
       "  <tbody>\n",
       "    <tr>\n",
       "      <th>0</th>\n",
       "      <td>Sentence: 1</td>\n",
       "      <td>INTRODUCTION.</td>\n",
       "      <td>s.0.w.0</td>\n",
       "      <td>O</td>\n",
       "    </tr>\n",
       "    <tr>\n",
       "      <th>1</th>\n",
       "      <td>Sentence: 2</td>\n",
       "      <td>The</td>\n",
       "      <td>s.1.w.0</td>\n",
       "      <td>O</td>\n",
       "    </tr>\n",
       "    <tr>\n",
       "      <th>2</th>\n",
       "      <td>Sentence: 2</td>\n",
       "      <td>Steere</td>\n",
       "      <td>s.1.w.1</td>\n",
       "      <td>O</td>\n",
       "    </tr>\n",
       "    <tr>\n",
       "      <th>3</th>\n",
       "      <td>Sentence: 2</td>\n",
       "      <td>Expedition</td>\n",
       "      <td>s.1.w.2</td>\n",
       "      <td>O</td>\n",
       "    </tr>\n",
       "    <tr>\n",
       "      <th>4</th>\n",
       "      <td>Sentence: 2</td>\n",
       "      <td>to</td>\n",
       "      <td>s.1.w.3</td>\n",
       "      <td>O</td>\n",
       "    </tr>\n",
       "    <tr>\n",
       "      <th>5</th>\n",
       "      <td>Sentence: 2</td>\n",
       "      <td>the</td>\n",
       "      <td>s.1.w.4</td>\n",
       "      <td>O</td>\n",
       "    </tr>\n",
       "    <tr>\n",
       "      <th>6</th>\n",
       "      <td>Sentence: 2</td>\n",
       "      <td>Philippines</td>\n",
       "      <td>s.1.w.5</td>\n",
       "      <td>B-GeographicalLocation</td>\n",
       "    </tr>\n",
       "    <tr>\n",
       "      <th>7</th>\n",
       "      <td>Sentence: 2</td>\n",
       "      <td>went</td>\n",
       "      <td>s.1.w.6</td>\n",
       "      <td>O</td>\n",
       "    </tr>\n",
       "    <tr>\n",
       "      <th>8</th>\n",
       "      <td>Sentence: 2</td>\n",
       "      <td>out</td>\n",
       "      <td>s.1.w.7</td>\n",
       "      <td>O</td>\n",
       "    </tr>\n",
       "    <tr>\n",
       "      <th>9</th>\n",
       "      <td>Sentence: 2</td>\n",
       "      <td>from</td>\n",
       "      <td>s.1.w.8</td>\n",
       "      <td>O</td>\n",
       "    </tr>\n",
       "  </tbody>\n",
       "</table>\n",
       "</div>"
      ],
      "text/plain": [
       "    Sentence #           Word  Word Id                     Tag\n",
       "0  Sentence: 1  INTRODUCTION.  s.0.w.0                       O\n",
       "1  Sentence: 2            The  s.1.w.0                       O\n",
       "2  Sentence: 2         Steere  s.1.w.1                       O\n",
       "3  Sentence: 2     Expedition  s.1.w.2                       O\n",
       "4  Sentence: 2             to  s.1.w.3                       O\n",
       "5  Sentence: 2            the  s.1.w.4                       O\n",
       "6  Sentence: 2    Philippines  s.1.w.5  B-GeographicalLocation\n",
       "7  Sentence: 2           went  s.1.w.6                       O\n",
       "8  Sentence: 2            out  s.1.w.7                       O\n",
       "9  Sentence: 2           from  s.1.w.8                       O"
      ]
     },
     "execution_count": 12,
     "metadata": {
      "tags": []
     },
     "output_type": "execute_result"
    }
   ],
   "source": [
    "data.head(10)"
   ]
  },
  {
   "cell_type": "code",
   "execution_count": null,
   "metadata": {
    "id": "LpC826ZturrR"
   },
   "outputs": [],
   "source": [
    "val_data = loadData(\"dev_csv.csv\")"
   ]
  },
  {
   "cell_type": "code",
   "execution_count": null,
   "metadata": {
    "colab": {
     "base_uri": "https://localhost:8080/",
     "height": 363
    },
    "id": "btdyOQUZsW0X",
    "outputId": "5c63bf02-7b5b-49cb-e8d8-f7c7f8211e7a"
   },
   "outputs": [
    {
     "data": {
      "text/html": [
       "<div>\n",
       "<style scoped>\n",
       "    .dataframe tbody tr th:only-of-type {\n",
       "        vertical-align: middle;\n",
       "    }\n",
       "\n",
       "    .dataframe tbody tr th {\n",
       "        vertical-align: top;\n",
       "    }\n",
       "\n",
       "    .dataframe thead th {\n",
       "        text-align: right;\n",
       "    }\n",
       "</style>\n",
       "<table border=\"1\" class=\"dataframe\">\n",
       "  <thead>\n",
       "    <tr style=\"text-align: right;\">\n",
       "      <th></th>\n",
       "      <th>Sentence #</th>\n",
       "      <th>Word</th>\n",
       "      <th>Word Id</th>\n",
       "      <th>Tag</th>\n",
       "    </tr>\n",
       "  </thead>\n",
       "  <tbody>\n",
       "    <tr>\n",
       "      <th>0</th>\n",
       "      <td>Sentence: 1</td>\n",
       "      <td>1893.]</td>\n",
       "      <td>s.0.w.0</td>\n",
       "      <td>O</td>\n",
       "    </tr>\n",
       "    <tr>\n",
       "      <th>1</th>\n",
       "      <td>Sentence: 1</td>\n",
       "      <td>G.</td>\n",
       "      <td>s.0.w.1</td>\n",
       "      <td>O</td>\n",
       "    </tr>\n",
       "    <tr>\n",
       "      <th>2</th>\n",
       "      <td>Sentence: 1</td>\n",
       "      <td>King</td>\n",
       "      <td>s.0.w.2</td>\n",
       "      <td>O</td>\n",
       "    </tr>\n",
       "    <tr>\n",
       "      <th>3</th>\n",
       "      <td>Sentence: 1</td>\n",
       "      <td>-Materials</td>\n",
       "      <td>s.0.w.3</td>\n",
       "      <td>O</td>\n",
       "    </tr>\n",
       "    <tr>\n",
       "      <th>4</th>\n",
       "      <td>Sentence: 1</td>\n",
       "      <td>for</td>\n",
       "      <td>s.0.w.4</td>\n",
       "      <td>O</td>\n",
       "    </tr>\n",
       "    <tr>\n",
       "      <th>5</th>\n",
       "      <td>Sentence: 1</td>\n",
       "      <td>a</td>\n",
       "      <td>s.0.w.5</td>\n",
       "      <td>O</td>\n",
       "    </tr>\n",
       "    <tr>\n",
       "      <th>6</th>\n",
       "      <td>Sentence: 1</td>\n",
       "      <td>Flora</td>\n",
       "      <td>s.0.w.6</td>\n",
       "      <td>O</td>\n",
       "    </tr>\n",
       "    <tr>\n",
       "      <th>7</th>\n",
       "      <td>Sentence: 1</td>\n",
       "      <td>of</td>\n",
       "      <td>s.0.w.7</td>\n",
       "      <td>O</td>\n",
       "    </tr>\n",
       "    <tr>\n",
       "      <th>8</th>\n",
       "      <td>Sentence: 1</td>\n",
       "      <td>the</td>\n",
       "      <td>s.0.w.8</td>\n",
       "      <td>O</td>\n",
       "    </tr>\n",
       "    <tr>\n",
       "      <th>9</th>\n",
       "      <td>Sentence: 1</td>\n",
       "      <td>Malayan</td>\n",
       "      <td>s.0.w.9</td>\n",
       "      <td>B-GeographicalLocation</td>\n",
       "    </tr>\n",
       "  </tbody>\n",
       "</table>\n",
       "</div>"
      ],
      "text/plain": [
       "    Sentence #        Word  Word Id                     Tag\n",
       "0  Sentence: 1      1893.]  s.0.w.0                       O\n",
       "1  Sentence: 1          G.  s.0.w.1                       O\n",
       "2  Sentence: 1        King  s.0.w.2                       O\n",
       "3  Sentence: 1  -Materials  s.0.w.3                       O\n",
       "4  Sentence: 1         for  s.0.w.4                       O\n",
       "5  Sentence: 1           a  s.0.w.5                       O\n",
       "6  Sentence: 1       Flora  s.0.w.6                       O\n",
       "7  Sentence: 1          of  s.0.w.7                       O\n",
       "8  Sentence: 1         the  s.0.w.8                       O\n",
       "9  Sentence: 1     Malayan  s.0.w.9  B-GeographicalLocation"
      ]
     },
     "execution_count": 14,
     "metadata": {
      "tags": []
     },
     "output_type": "execute_result"
    }
   ],
   "source": [
    "val_data.offset = 465\n",
    "val_data.head(10)"
   ]
  },
  {
   "cell_type": "code",
   "execution_count": null,
   "metadata": {
    "id": "9IdHVyeXvDaX"
   },
   "outputs": [],
   "source": [
    "test_data =  loadData(\"test_csv.csv\")"
   ]
  },
  {
   "cell_type": "code",
   "execution_count": null,
   "metadata": {
    "colab": {
     "base_uri": "https://localhost:8080/",
     "height": 363
    },
    "id": "6RoM6YevsjB1",
    "outputId": "f7b35b23-aaad-4cca-a863-7198de86e8fb"
   },
   "outputs": [
    {
     "data": {
      "text/html": [
       "<div>\n",
       "<style scoped>\n",
       "    .dataframe tbody tr th:only-of-type {\n",
       "        vertical-align: middle;\n",
       "    }\n",
       "\n",
       "    .dataframe tbody tr th {\n",
       "        vertical-align: top;\n",
       "    }\n",
       "\n",
       "    .dataframe thead th {\n",
       "        text-align: right;\n",
       "    }\n",
       "</style>\n",
       "<table border=\"1\" class=\"dataframe\">\n",
       "  <thead>\n",
       "    <tr style=\"text-align: right;\">\n",
       "      <th></th>\n",
       "      <th>Sentence #</th>\n",
       "      <th>Word</th>\n",
       "      <th>Word Id</th>\n",
       "      <th>Tag</th>\n",
       "    </tr>\n",
       "  </thead>\n",
       "  <tbody>\n",
       "    <tr>\n",
       "      <th>0</th>\n",
       "      <td>Sentence: 1</td>\n",
       "      <td>1874.]</td>\n",
       "      <td>s.0.w.0</td>\n",
       "      <td>O</td>\n",
       "    </tr>\n",
       "    <tr>\n",
       "      <th>1</th>\n",
       "      <td>Sentence: 1</td>\n",
       "      <td>of</td>\n",
       "      <td>s.0.w.1</td>\n",
       "      <td>O</td>\n",
       "    </tr>\n",
       "    <tr>\n",
       "      <th>2</th>\n",
       "      <td>Sentence: 1</td>\n",
       "      <td>the</td>\n",
       "      <td>s.0.w.2</td>\n",
       "      <td>O</td>\n",
       "    </tr>\n",
       "    <tr>\n",
       "      <th>3</th>\n",
       "      <td>Sentence: 1</td>\n",
       "      <td>Burmese</td>\n",
       "      <td>s.0.w.3</td>\n",
       "      <td>O</td>\n",
       "    </tr>\n",
       "    <tr>\n",
       "      <th>4</th>\n",
       "      <td>Sentence: 1</td>\n",
       "      <td>Flora.</td>\n",
       "      <td>s.0.w.4</td>\n",
       "      <td>O</td>\n",
       "    </tr>\n",
       "    <tr>\n",
       "      <th>5</th>\n",
       "      <td>Sentence: 1</td>\n",
       "      <td>101</td>\n",
       "      <td>s.0.w.5</td>\n",
       "      <td>O</td>\n",
       "    </tr>\n",
       "    <tr>\n",
       "      <th>6</th>\n",
       "      <td>Sentence: 1</td>\n",
       "      <td>Hab.</td>\n",
       "      <td>s.0.w.6</td>\n",
       "      <td>O</td>\n",
       "    </tr>\n",
       "    <tr>\n",
       "      <th>7</th>\n",
       "      <td>Sentence: 1</td>\n",
       "      <td>Tenasserim,</td>\n",
       "      <td>s.0.w.7</td>\n",
       "      <td>B-GeographicalLocation</td>\n",
       "    </tr>\n",
       "    <tr>\n",
       "      <th>8</th>\n",
       "      <td>Sentence: 1</td>\n",
       "      <td>Mergui</td>\n",
       "      <td>s.0.w.8</td>\n",
       "      <td>B-GeographicalLocation</td>\n",
       "    </tr>\n",
       "    <tr>\n",
       "      <th>9</th>\n",
       "      <td>Sentence: 1</td>\n",
       "      <td>(Griff.)</td>\n",
       "      <td>s.0.w.9</td>\n",
       "      <td>B-Person</td>\n",
       "    </tr>\n",
       "  </tbody>\n",
       "</table>\n",
       "</div>"
      ],
      "text/plain": [
       "    Sentence #         Word  Word Id                     Tag\n",
       "0  Sentence: 1       1874.]  s.0.w.0                       O\n",
       "1  Sentence: 1           of  s.0.w.1                       O\n",
       "2  Sentence: 1          the  s.0.w.2                       O\n",
       "3  Sentence: 1      Burmese  s.0.w.3                       O\n",
       "4  Sentence: 1       Flora.  s.0.w.4                       O\n",
       "5  Sentence: 1          101  s.0.w.5                       O\n",
       "6  Sentence: 1         Hab.  s.0.w.6                       O\n",
       "7  Sentence: 1  Tenasserim,  s.0.w.7  B-GeographicalLocation\n",
       "8  Sentence: 1       Mergui  s.0.w.8  B-GeographicalLocation\n",
       "9  Sentence: 1     (Griff.)  s.0.w.9                B-Person"
      ]
     },
     "execution_count": 16,
     "metadata": {
      "tags": []
     },
     "output_type": "execute_result"
    }
   ],
   "source": [
    "test_data.head(10)"
   ]
  },
  {
   "cell_type": "code",
   "execution_count": null,
   "metadata": {
    "colab": {
     "base_uri": "https://localhost:8080/",
     "height": 52
    },
    "id": "PDFwh1Z13aaC",
    "outputId": "fa6e3e5e-6b59-4b51-e95e-23391e5f8968"
   },
   "outputs": [
    {
     "name": "stdout",
     "output_type": "stream",
     "text": [
      "48208\n",
      "ENDPAD\n"
     ]
    }
   ],
   "source": [
    "#if the data are in string style, we propably use tokenzer.fit_on_texts instead of list manipulation like here\n",
    "\n",
    "VOCAB = list(set(list(data[\"Word\"].values) + \\\n",
    "                 list(val_data[\"Word\"].values) + \\\n",
    "                 list(test_data[\"Word\"].values)))\n",
    "VOCAB.append(\"ENDPAD\")\n",
    "\n",
    "n_words = len(VOCAB) #n_words includes all vocab from train and validation test.\n",
    "print(n_words)\n",
    "print(VOCAB[n_words-1])"
   ]
  },
  {
   "cell_type": "code",
   "execution_count": null,
   "metadata": {
    "colab": {
     "base_uri": "https://localhost:8080/",
     "height": 34
    },
    "id": "WCbHbHRZ3aZ7",
    "outputId": "f90bde4e-f22c-4ae6-d9ee-efead107c8f5"
   },
   "outputs": [
    {
     "data": {
      "text/plain": [
       "11"
      ]
     },
     "execution_count": 18,
     "metadata": {
      "tags": []
     },
     "output_type": "execute_result"
    }
   ],
   "source": [
    "tags = list(set(data[\"Tag\"].values))\n",
    "n_tags = len(tags)\n",
    "n_tags"
   ]
  },
  {
   "cell_type": "markdown",
   "metadata": {
    "id": "zJPbPw-qqRn2"
   },
   "source": [
    "###Sentences "
   ]
  },
  {
   "cell_type": "code",
   "execution_count": null,
   "metadata": {
    "id": "VgntHfAo3aZy"
   },
   "outputs": [],
   "source": [
    "getter = SentenceGetter(data)\n",
    "sentences = getter.sentences"
   ]
  },
  {
   "cell_type": "code",
   "execution_count": null,
   "metadata": {
    "id": "jBYiUAEUcpx-"
   },
   "outputs": [],
   "source": [
    "getter_val = SentenceGetter(val_data)\n",
    "sentences_val = getter_val.sentences"
   ]
  },
  {
   "cell_type": "code",
   "execution_count": null,
   "metadata": {
    "id": "zcBRLeDcc1qo"
   },
   "outputs": [],
   "source": [
    "getter_test = SentenceGetter(test_data)\n",
    "sentences_test = getter_test.sentences"
   ]
  },
  {
   "cell_type": "markdown",
   "metadata": {
    "id": "rxatmEuRqW1M"
   },
   "source": [
    "#### Exploration"
   ]
  },
  {
   "cell_type": "code",
   "execution_count": null,
   "metadata": {
    "colab": {
     "base_uri": "https://localhost:8080/",
     "height": 54
    },
    "id": "iy9T8Djo3aZY",
    "outputId": "df96fcc1-7475-4158-a61e-b5be8f36ede3"
   },
   "outputs": [
    {
     "name": "stdout",
     "output_type": "stream",
     "text": [
      "[('1874.]', 'O'), ('of', 'O'), ('the', 'O'), ('Burmese', 'O'), ('Flora.', 'O'), ('101', 'O'), ('Hab.', 'O'), ('Tenasserim,', 'B-GeographicalLocation'), ('Mergui', 'B-GeographicalLocation'), ('(Griff.)', 'B-Person'), ('717/1).', 'O'), ('Vatica,', 'B-Taxon'), ('L.', 'I-Taxon'), ('1.', 'O'), ('V.', 'O'), ('lanceaefolia,', 'O'), ('Bl.', 'O'), ('Mus.', 'O'), ('Lugd.', 'O'), ('Bat.', 'O'), ('II.', 'O'), ('31;', 'O'), ('DC.', 'O'), ('Prod.', 'O'), ('XVI.', 'O'), ('618;', 'O'), ('Hf.', 'O'), ('Ind.', 'O'), ('Fl.', 'O'), ('I.', 'O'), ('302.', 'O'), ('(Vateria', 'O'), ('lanceafolia,', 'O'), ('Roxb.', 'O'), ('Fl.', 'O'), ('Ind.', 'O'), ('II.', 'O'), ('601).', 'O'), ('Hab.', 'O'), ('Chittagong', 'O'), ('(Roxb.);', 'O'), ('Burma', 'O'), ('(Griff.).', 'O'), ('Fl.', 'O'), ('May;', 'O'), ('Fr.', 'O'), ('Jul.', 'O'), ('Aug.', 'O'), ('Doubtful', 'O'), ('species', 'O'), ('1.', 'O'), ('V.', 'O'), ('trigyna,', 'O'), ('Griff.', 'O'), ('Not.', 'O'), ('Dicot.', 'O'), ('514.', 'O'), ('Hab.', 'O'), ('Tenasserim,', 'B-GeographicalLocation'), ('Mergui,', 'B-GeographicalLocation'), ('on', 'O'), ('the', 'O'), ('summit', 'O'), ('of', 'O'), ('the', 'O'), ('hillock', 'B-Habitat'), ('Pator,', 'B-GeographicalLocation'), ('at', 'O'), ('600-800', 'O'), ('ft.', 'O'), ('elevation', 'O'), ('(Griff.).', 'B-Person'), ('Griffithâ\\x80\\x99s', 'O'), ('description', 'O'), ('is', 'O'), ('a', 'O'), ('very', 'O'), ('complete', 'O'), ('and', 'O'), ('good', 'O'), ('one,', 'O'), ('but', 'O'), ('still', 'O'), ('I', 'O'), ('cannot', 'O'), ('guess', 'O'), ('the', 'O'), ('plant.', 'O'), ('The', 'O'), ('ovary-like', 'O'), ('style', 'O'), ('would', 'O'), ('indicate', 'O'), ('Anisoptera,', 'B-Taxon'), ('but', 'O'), ('the', 'O'), ('ovary', 'O'), ('itself', 'O'), ('is', 'O'), ('stated', 'O'), ('to', 'O'), ('be', 'O'), ('superior', 'O'), ('and', 'O'), ('free.', 'O'), ('Malvaceae.', 'B-Taxon'), ('Conspectus', 'O'), ('of', 'O'), ('genera.', 'O'), ('A.', 'O'), ('Carpels', 'O'), ('whorled', 'O'), ('in', 'O'), ('a', 'O'), ('single', 'O'), ('row,', 'O'), ('not', 'O'), ('united', 'O'), ('into', 'O'), ('a', 'O'), ('capsule.', 'O'), ('Trib.', 'O'), ('I.', 'O'), ('Malveae.', 'B-Taxon'), ('Staminal', 'O'), ('column', 'O'), ('bearing', 'O'), ('the', 'O'), ('filaments', 'O'), ('at', 'O'), ('the', 'O'), ('summit.', 'O'), ('Style-branches', 'O'), ('as', 'O'), ('many', 'O'), ('as', 'O'), ('cells', 'O'), ('to', 'O'), ('the', 'O'), ('ovary.', 'O'), ('Mature', 'O'), ('carpels', 'O'), ('separating', 'O'), ('more', 'O'), ('or', 'O'), ('less', 'O'), ('from', 'O'), ('the', 'O'), ('axis.', 'O'), ('*', 'O'), ('Ovule', 'O'), ('solitary,', 'O'), ('ascending.', 'O'), ('X', 'O'), ('Stigmas', 'O'), ('linear.', 'O'), ('1.', 'O'), ('Althaea.', 'B-Taxon'), ('Bracteoles', 'O'), ('6-9,', 'O'), ('united', 'O'), ('at', 'O'), ('base;', 'O'), ('fruit-axis', 'O'), ('not', 'O'), ('longer', 'O'), ('than', 'O'), ('the', 'O'), ('carpels.', 'O'), ('2.', 'O'), ('Malva.', 'B-Taxon'), ('Bracteoles', 'O'), ('3,', 'O'), ('distinct.', 'O'), ('Carpels', 'O'), ('not', 'O'), ('beaked.', 'O'), ('XX', 'O'), ('Stigmas', 'O'), ('capitate', 'O'), ('or', 'O'), ('clavate.', 'O'), ('3.Malvastrum.', 'B-Taxon'), ('Bracteoles', 'O'), ('1', 'O'), ('to', 'O'), ('3,', 'O'), ('distinct,', 'O'), ('or', 'O'), ('none.', 'O'), ('Carpels', 'O'), ('usually', 'O'), ('beaked.', 'O'), ('**', 'O'), ('Ovules', 'O'), ('suspended,', 'O'), ('solitary.', 'O'), ('4.', 'O'), ('Anoda.', 'B-Taxon'), ('Bracteoles', 'O'), ('none.', 'O'), ('Carpels', 'O'), ('broadly', 'O'), ('stellate,', 'O'), ('not', 'O'), ('beaked.', 'O'), ('5.', 'O'), ('Sida.', 'B-Taxon'), ('Carpels', 'O'), ('converging', 'O'), ('with', 'O'), ('their', 'O'), ('points', 'O'), ('or', 'O'), ('beaked.', 'O'), ('Bracteoles', 'O'), ('none,', 'O'), ('or', 'O'), ('very', 'O'), ('rarely', 'O'), ('1', 'O'), ('or', 'O'), ('2', 'O'), ('and', 'O'), ('bristle-like.', 'O'), ('***', 'O'), ('Ovules', 'O'), ('2', 'O'), ('or', 'O'), ('more,', 'O'), ('ascending', 'O'), ('or', 'O'), ('pendulous', 'O'), ('or', 'O'), ('both.', 'O'), ('6.', 'O'), ('Abutilon.', 'B-Taxon'), ('Bracteoles', 'O'), ('none.', 'O'), ('Carpels', 'O'), ('5-20,', 'O'), ('without', 'O'), ('spurious', 'O'), ('partitions.', 'O'), ('Trib.', 'O'), ('II.', 'O'), ('Ureneae.', 'B-Taxon'), ('Staminal', 'O'), ('column', 'O'), ('truncate', 'O'), ('or', 'O'), ('5-toothed', 'O'), ('at', 'O'), ('apex', 'O'), ('bearing', 'O'), ('the', 'O'), ('anthers', 'O'), ('or', 'O'), ('filaments', 'O'), ('on', 'O'), ('the', 'O'), ('outside.', 'O'), ('Style-branches', 'O'), ('twice', 'O'), ('as', 'O'), ('many', 'O'), ('as', 'O'), ('ovary-cells.', 'O'), ('Carpels', 'O'), ('1-seeded.', 'O'), ('7.', 'O'), ('Urena.', 'B-Taxon'), ('Bracteoles', 'O'), ('5,', 'O'), ('connate', 'O'), ('at', 'O'), ('base.', 'O'), ('Carpels', 'O'), ('opposite', 'O'), ('the', 'O'), ('petals,', 'O'), ('muricate', 'O'), ('or', 'O'), ('glochidiate.', 'O'), ('8.', 'O'), ('Pavonia.', 'B-Taxon'), ('Bracteoles', 'O'), ('5', 'O'), ('or', 'O'), ('more,', 'O'), ('usually', 'O'), ('free,', 'O'), ('herbaceous', 'O'), ('or', 'O'), ('bristle-like.', 'O'), ('Carpels', 'O'), ('opposite', 'O'), ('the', 'O'), ('sepals,', 'O'), ('variously', 'O'), ('armed', 'O'), ('or', 'O'), ('smooth.', 'O'), ('B.', 'O'), ('Fruit', 'O'), ('a', 'O'), ('capsule,', 'O'), ('dehiscent', 'O'), ('or', 'O'), ('rarely', 'O'), ('indehiscent.', 'O')]\n"
     ]
    }
   ],
   "source": [
    "sent = getter_test.get_next()\n",
    "print(sent)"
   ]
  },
  {
   "cell_type": "code",
   "execution_count": null,
   "metadata": {
    "colab": {
     "base_uri": "https://localhost:8080/",
     "height": 1000
    },
    "id": "M4mC-rigq23J",
    "outputId": "3fabc114-5f2a-4618-fa1d-1a639cca77e3"
   },
   "outputs": [
    {
     "data": {
      "text/plain": [
       "[('te,', 'O'),\n",
       " ('we', 'O'),\n",
       " ('trapped', 'O'),\n",
       " ('one', 'O'),\n",
       " ('animal', 'O'),\n",
       " ('in', 'O'),\n",
       " ('primary', 'B-Habitat'),\n",
       " ('lowland', 'I-Habitat'),\n",
       " ('forest', 'I-Habitat'),\n",
       " ('at', 'O'),\n",
       " ('320', 'O'),\n",
       " ('m', 'O'),\n",
       " ('elevation', 'O'),\n",
       " ('(site', 'O'),\n",
       " ('L3)', 'O'),\n",
       " ('and', 'O'),\n",
       " ('shot', 'O'),\n",
       " ('a', 'O'),\n",
       " ('second', 'O'),\n",
       " ('individual', 'O'),\n",
       " ('from', 'O'),\n",
       " ('a', 'O'),\n",
       " ('tree', 'O'),\n",
       " ('in', 'O'),\n",
       " ('an', 'O'),\n",
       " ('area', 'O'),\n",
       " ('of', 'O'),\n",
       " ('mixed', 'O'),\n",
       " ('agriculture', 'O'),\n",
       " ('and', 'O'),\n",
       " ('second', 'O'),\n",
       " ('growth', 'O'),\n",
       " ('at', 'O'),\n",
       " ('50', 'O'),\n",
       " ('m', 'O'),\n",
       " ('elevation', 'O'),\n",
       " ('(site', 'O'),\n",
       " ('L2).', 'O'),\n",
       " ('We', 'O'),\n",
       " ('received', 'O'),\n",
       " ('reports', 'O'),\n",
       " ('of', 'O'),\n",
       " ('civets', 'O'),\n",
       " ('on', 'O'),\n",
       " ('both', 'O'),\n",
       " ('Biliran', 'B-GeographicalLocation'),\n",
       " ('and', 'O'),\n",
       " ('Maripipi', 'B-GeographicalLocation'),\n",
       " ('but', 'O'),\n",
       " ('obtained', 'O'),\n",
       " ('no', 'O'),\n",
       " ('specimens.', 'O'),\n",
       " ('The', 'O'),\n",
       " ('descriptions', 'O'),\n",
       " ('given', 'O'),\n",
       " ('by', 'O'),\n",
       " ('most', 'O'),\n",
       " ('informants', 'O'),\n",
       " ('conformed', 'O'),\n",
       " ('to', 'O'),\n",
       " ('that', 'O'),\n",
       " ('of', 'O'),\n",
       " ('the', 'O'),\n",
       " ('palm', 'B-Taxon'),\n",
       " ('civet.', 'I-Taxon'),\n",
       " ('On', 'O'),\n",
       " ('both', 'O'),\n",
       " ('islands', 'O'),\n",
       " ('we', 'O'),\n",
       " ('also', 'O'),\n",
       " ('found', 'O'),\n",
       " ('civet', 'O'),\n",
       " ('scats', 'O'),\n",
       " ('that', 'O'),\n",
       " ('most', 'O'),\n",
       " ('closely', 'O'),\n",
       " ('resembled', 'O'),\n",
       " ('those', 'O'),\n",
       " ('of', 'O'),\n",
       " ('Paradoxurus', 'B-Taxon'),\n",
       " ('(ie,', 'O'),\n",
       " ('composed', 'O'),\n",
       " ('primarily', 'O'),\n",
       " ('of', 'O'),\n",
       " ('seeds;', 'O'),\n",
       " ('Heideman', 'B-Person'),\n",
       " ('et', 'O'),\n",
       " ('al,', 'O'),\n",
       " ('1987).', 'B-TemporalExpression')]"
      ]
     },
     "execution_count": 23,
     "metadata": {
      "tags": []
     },
     "output_type": "execute_result"
    }
   ],
   "source": [
    "sentences[1]"
   ]
  },
  {
   "cell_type": "code",
   "execution_count": null,
   "metadata": {
    "id": "8xjS_lpd3aZI"
   },
   "outputs": [],
   "source": [
    "import matplotlib.pyplot as plt\n",
    "plt.style.use(\"ggplot\")"
   ]
  },
  {
   "cell_type": "code",
   "execution_count": null,
   "metadata": {
    "colab": {
     "base_uri": "https://localhost:8080/",
     "height": 269
    },
    "id": "yXMq0bHN3aZB",
    "outputId": "074d2880-c69e-4dc7-e996-e136c3811e42"
   },
   "outputs": [
    {
     "data": {
      "image/png": "[encoded data removed]",
      "text/plain": [
       "<Figure size 432x288 with 1 Axes>"
      ]
     },
     "metadata": {
      "tags": []
     },
     "output_type": "display_data"
    }
   ],
   "source": [
    "plt.hist([len(s) for s in sentences_val], bins=5)\n",
    "plt.show()"
   ]
  },
  {
   "cell_type": "code",
   "execution_count": null,
   "metadata": {
    "colab": {
     "base_uri": "https://localhost:8080/",
     "height": 34
    },
    "id": "1-aS91hTKB5i",
    "outputId": "396abdac-367e-40b3-b7d6-e6d2968270ef"
   },
   "outputs": [
    {
     "data": {
      "text/plain": [
       "760"
      ]
     },
     "execution_count": 26,
     "metadata": {
      "tags": []
     },
     "output_type": "execute_result"
    }
   ],
   "source": [
    "max([len(s) for s in sentences_val])"
   ]
  },
  {
   "cell_type": "code",
   "execution_count": null,
   "metadata": {
    "id": "FBQLnJyY3aY7"
   },
   "outputs": [],
   "source": [
    "max_len = 93 #selected value outisde the histogram"
   ]
  },
  {
   "cell_type": "markdown",
   "metadata": {
    "id": "jS_XoqWN1o2i"
   },
   "source": [
    "###Utils"
   ]
  },
  {
   "cell_type": "code",
   "execution_count": null,
   "metadata": {
    "id": "1oGye-_M3aY1"
   },
   "outputs": [],
   "source": [
    "word2idx = {w: i + 1 for i, w in enumerate(VOCAB)}\n",
    "tag2idx = {t: i for i, t in enumerate(tags)}"
   ]
  },
  {
   "cell_type": "code",
   "execution_count": null,
   "metadata": {
    "colab": {
     "base_uri": "https://localhost:8080/",
     "height": 34
    },
    "id": "3N-QHHeh3aYt",
    "outputId": "6991a493-0f76-422a-92fb-d6fafb3a6e69"
   },
   "outputs": [
    {
     "data": {
      "text/plain": [
       "48208"
      ]
     },
     "execution_count": 29,
     "metadata": {
      "tags": []
     },
     "output_type": "execute_result"
    }
   ],
   "source": [
    "word2idx[\"ENDPAD\"]"
   ]
  },
  {
   "cell_type": "code",
   "execution_count": null,
   "metadata": {
    "colab": {
     "base_uri": "https://localhost:8080/",
     "height": 34
    },
    "id": "Q-_K_AaW3aYn",
    "outputId": "a2f0dc5b-08ba-4e46-aa37-deb05ffdae92"
   },
   "outputs": [
    {
     "data": {
      "text/plain": [
       "1"
      ]
     },
     "execution_count": 30,
     "metadata": {
      "tags": []
     },
     "output_type": "execute_result"
    }
   ],
   "source": [
    "tag2idx[\"B-Taxon\"]"
   ]
  },
  {
   "cell_type": "code",
   "execution_count": null,
   "metadata": {
    "id": "mOuBcuIn1Xq7"
   },
   "outputs": [],
   "source": [
    "idx2tag = {i: w for w, i in tag2idx.items()}\n",
    "index2word = {i: w for w, i in word2idx.items()}"
   ]
  },
  {
   "cell_type": "markdown",
   "metadata": {
    "id": "ficlztQjaUVa"
   },
   "source": [
    "### X & Y Prep"
   ]
  },
  {
   "cell_type": "code",
   "execution_count": null,
   "metadata": {
    "colab": {
     "base_uri": "https://localhost:8080/",
     "height": 34
    },
    "id": "DP2TPmt4bjKd",
    "outputId": "30e88d7f-1acc-43bb-ce28-084c0ac2fbb0"
   },
   "outputs": [
    {
     "name": "stderr",
     "output_type": "stream",
     "text": [
      "Using TensorFlow backend.\n"
     ]
    }
   ],
   "source": [
    "from keras.preprocessing.sequence import pad_sequences\n",
    "from keras.utils import to_categorical\n",
    "\n",
    "def getXYFromSentences(sentences):\n",
    "  \n",
    "  X = [[word2idx[w[0]] for w in s] for s in sentences]\n",
    "  X = pad_sequences(maxlen=max_len, sequences=X, padding=\"post\", value=word2idx[\"ENDPAD\"])\n",
    "   \n",
    "  y = [[tag2idx[w[1]] for w in s] for s in sentences]\n",
    "  y = pad_sequences(maxlen=max_len, sequences=y, padding=\"post\", value=tag2idx[\"O\"])\n",
    "  y = np.array([to_categorical(i, num_classes=n_tags) for i in y])\n",
    "  return X, y"
   ]
  },
  {
   "cell_type": "code",
   "execution_count": null,
   "metadata": {
    "id": "ZOBpJZHb3aYe"
   },
   "outputs": [],
   "source": [
    "X_train, y_train = getXYFromSentences(sentences)"
   ]
  },
  {
   "cell_type": "code",
   "execution_count": null,
   "metadata": {
    "id": "QVJQIAz33aYI"
   },
   "outputs": [],
   "source": [
    "X_val, y_val = getXYFromSentences(sentences_val)\n"
   ]
  },
  {
   "cell_type": "code",
   "execution_count": null,
   "metadata": {
    "id": "vO2Ylt52cbpD"
   },
   "outputs": [],
   "source": [
    "X_test, y_test = getXYFromSentences(sentences_test)"
   ]
  },
  {
   "cell_type": "markdown",
   "metadata": {
    "id": "PM4CKiLrK4yV"
   },
   "source": [
    "#### Exploration"
   ]
  },
  {
   "cell_type": "code",
   "execution_count": null,
   "metadata": {
    "id": "GRZvmEDDLpkb"
   },
   "outputs": [],
   "source": [
    "target = X_test[1]"
   ]
  },
  {
   "cell_type": "code",
   "execution_count": null,
   "metadata": {
    "colab": {
     "base_uri": "https://localhost:8080/",
     "height": 208
    },
    "id": "5KKMsFopK7UR",
    "outputId": "78aeb72d-d7bd-439e-d1c0-aef612dce724"
   },
   "outputs": [
    {
     "data": {
      "text/plain": [
       "array([16992, 41886, 45647, 21357, 27861,  6848, 23324,   245, 16902,\n",
       "       45663, 31931,   245, 45638, 42668, 48208, 48208, 48208, 48208,\n",
       "       48208, 48208, 48208, 48208, 48208, 48208, 48208, 48208, 48208,\n",
       "       48208, 48208, 48208, 48208, 48208, 48208, 48208, 48208, 48208,\n",
       "       48208, 48208, 48208, 48208, 48208, 48208, 48208, 48208, 48208,\n",
       "       48208, 48208, 48208, 48208, 48208, 48208, 48208, 48208, 48208,\n",
       "       48208, 48208, 48208, 48208, 48208, 48208, 48208, 48208, 48208,\n",
       "       48208, 48208, 48208, 48208, 48208, 48208, 48208, 48208, 48208,\n",
       "       48208, 48208, 48208, 48208, 48208, 48208, 48208, 48208, 48208,\n",
       "       48208, 48208, 48208, 48208, 48208, 48208, 48208, 48208, 48208,\n",
       "       48208, 48208, 48208], dtype=int32)"
      ]
     },
     "execution_count": 37,
     "metadata": {
      "tags": []
     },
     "output_type": "execute_result"
    }
   ],
   "source": [
    "target"
   ]
  },
  {
   "cell_type": "code",
   "execution_count": null,
   "metadata": {
    "colab": {
     "base_uri": "https://localhost:8080/",
     "height": 295
    },
    "id": "7pJyYzXRLLK2",
    "outputId": "21e18b5b-c344-4144-a022-a70be62e2f7a"
   },
   "outputs": [
    {
     "data": {
      "text/plain": [
       "array(['Styles', '5,', 'first', 'free,', 'then', 'united,', 'forming',\n",
       "       'a', 'column', 'terminating', 'in', 'a', 'small', 'stigma.',\n",
       "       'ENDPAD', 'ENDPAD', 'ENDPAD', 'ENDPAD', 'ENDPAD', 'ENDPAD',\n",
       "       'ENDPAD', 'ENDPAD', 'ENDPAD', 'ENDPAD', 'ENDPAD', 'ENDPAD',\n",
       "       'ENDPAD', 'ENDPAD', 'ENDPAD', 'ENDPAD', 'ENDPAD', 'ENDPAD',\n",
       "       'ENDPAD', 'ENDPAD', 'ENDPAD', 'ENDPAD', 'ENDPAD', 'ENDPAD',\n",
       "       'ENDPAD', 'ENDPAD', 'ENDPAD', 'ENDPAD', 'ENDPAD', 'ENDPAD',\n",
       "       'ENDPAD', 'ENDPAD', 'ENDPAD', 'ENDPAD', 'ENDPAD', 'ENDPAD',\n",
       "       'ENDPAD', 'ENDPAD', 'ENDPAD', 'ENDPAD', 'ENDPAD', 'ENDPAD',\n",
       "       'ENDPAD', 'ENDPAD', 'ENDPAD', 'ENDPAD', 'ENDPAD', 'ENDPAD',\n",
       "       'ENDPAD', 'ENDPAD', 'ENDPAD', 'ENDPAD', 'ENDPAD', 'ENDPAD',\n",
       "       'ENDPAD', 'ENDPAD', 'ENDPAD', 'ENDPAD', 'ENDPAD', 'ENDPAD',\n",
       "       'ENDPAD', 'ENDPAD', 'ENDPAD', 'ENDPAD', 'ENDPAD', 'ENDPAD',\n",
       "       'ENDPAD', 'ENDPAD', 'ENDPAD', 'ENDPAD', 'ENDPAD', 'ENDPAD',\n",
       "       'ENDPAD', 'ENDPAD', 'ENDPAD', 'ENDPAD', 'ENDPAD', 'ENDPAD',\n",
       "       'ENDPAD'], dtype='<U11')"
      ]
     },
     "execution_count": 38,
     "metadata": {
      "tags": []
     },
     "output_type": "execute_result"
    }
   ],
   "source": [
    "np.asarray([index2word[i] for i in  target])"
   ]
  },
  {
   "cell_type": "code",
   "execution_count": null,
   "metadata": {
    "id": "rBTHdKzyL8UK"
   },
   "outputs": [],
   "source": [
    "target = y_train[1]"
   ]
  },
  {
   "cell_type": "code",
   "execution_count": null,
   "metadata": {
    "colab": {
     "base_uri": "https://localhost:8080/",
     "height": 34
    },
    "id": "ooRhSn4dMEgc",
    "outputId": "500c2cb8-5fb6-4e91-c8b9-33df117cf819"
   },
   "outputs": [
    {
     "data": {
      "text/plain": [
       "(93, 11)"
      ]
     },
     "execution_count": 40,
     "metadata": {
      "tags": []
     },
     "output_type": "execute_result"
    }
   ],
   "source": [
    "target.shape\n"
   ]
  },
  {
   "cell_type": "code",
   "execution_count": null,
   "metadata": {
    "colab": {
     "base_uri": "https://localhost:8080/",
     "height": 191
    },
    "id": "Iif6da5uMBox",
    "outputId": "da41a1e3-5648-4d0e-b943-7a33d4823613"
   },
   "outputs": [
    {
     "data": {
      "text/plain": [
       "array(['O', 'O', 'O', 'O', 'O', 'O', 'B-Habitat', 'I-Habitat',\n",
       "       'I-Habitat', 'O', 'O', 'O', 'O', 'O', 'O', 'O', 'O', 'O', 'O', 'O',\n",
       "       'O', 'O', 'O', 'O', 'O', 'O', 'O', 'O', 'O', 'O', 'O', 'O', 'O',\n",
       "       'O', 'O', 'O', 'O', 'O', 'O', 'O', 'O', 'O', 'O', 'O', 'O',\n",
       "       'B-GeographicalLocation', 'O', 'B-GeographicalLocation', 'O', 'O',\n",
       "       'O', 'O', 'O', 'O', 'O', 'O', 'O', 'O', 'O', 'O', 'O', 'O', 'O',\n",
       "       'B-Taxon', 'I-Taxon', 'O', 'O', 'O', 'O', 'O', 'O', 'O', 'O', 'O',\n",
       "       'O', 'O', 'O', 'O', 'O', 'B-Taxon', 'O', 'O', 'O', 'O', 'O',\n",
       "       'B-Person', 'O', 'O', 'B-TemporalExpression', 'O', 'O', 'O', 'O'],\n",
       "      dtype='<U22')"
      ]
     },
     "execution_count": 41,
     "metadata": {
      "tags": []
     },
     "output_type": "execute_result"
    }
   ],
   "source": [
    "np.asarray([idx2tag[np.argmax(i)] for i in  target])"
   ]
  },
  {
   "cell_type": "markdown",
   "metadata": {
    "id": "JmXgVQiFQVnN"
   },
   "source": [
    "## Setup the LSTM"
   ]
  },
  {
   "cell_type": "code",
   "execution_count": null,
   "metadata": {
    "id": "ET2AHFutQNPY"
   },
   "outputs": [],
   "source": [
    "from keras import callbacks\n",
    "from keras.models import Model, Input, model_from_json\n",
    "from keras.layers import LSTM, Embedding, Dense, TimeDistributed, Dropout, Bidirectional\n",
    "from keras.optimizers import RMSprop"
   ]
  },
  {
   "cell_type": "code",
   "execution_count": null,
   "metadata": {
    "id": "YHRrG7r7Qs-P"
   },
   "outputs": [],
   "source": [
    "\n",
    "def create_model():\n",
    "  input = Input(shape=(max_len,))\n",
    "  #in the line below --> laurance set the input_length = max_len-1 (NLP in TF Week4)\n",
    "  model = Embedding(input_dim=n_words, output_dim=50, input_length=max_len)(input)\n",
    "\n",
    "  model = Dropout(rate=0.1)(model)\n",
    "  model = Bidirectional(LSTM(units=100, return_sequences=True, recurrent_dropout=0.1))(model)\n",
    "\n",
    "  out = TimeDistributed(Dense(n_tags, activation=\"softmax\"))(model)  # softmax output layer\n",
    "  \n",
    "  return Model(input, out)"
   ]
  },
  {
   "cell_type": "code",
   "execution_count": null,
   "metadata": {
    "colab": {
     "base_uri": "https://localhost:8080/",
     "height": 228
    },
    "id": "v3oJQi__RZnw",
    "outputId": "ca9e3886-30fa-4bba-d678-71e41d83ef3f"
   },
   "outputs": [
    {
     "name": "stdout",
     "output_type": "stream",
     "text": [
      "WARNING:tensorflow:From /usr/local/lib/python3.6/dist-packages/keras/backend/tensorflow_backend.py:66: The name tf.get_default_graph is deprecated. Please use tf.compat.v1.get_default_graph instead.\n",
      "\n",
      "WARNING:tensorflow:From /usr/local/lib/python3.6/dist-packages/keras/backend/tensorflow_backend.py:541: The name tf.placeholder is deprecated. Please use tf.compat.v1.placeholder instead.\n",
      "\n",
      "WARNING:tensorflow:From /usr/local/lib/python3.6/dist-packages/keras/backend/tensorflow_backend.py:4432: The name tf.random_uniform is deprecated. Please use tf.random.uniform instead.\n",
      "\n",
      "WARNING:tensorflow:From /usr/local/lib/python3.6/dist-packages/keras/backend/tensorflow_backend.py:148: The name tf.placeholder_with_default is deprecated. Please use tf.compat.v1.placeholder_with_default instead.\n",
      "\n",
      "WARNING:tensorflow:From /usr/local/lib/python3.6/dist-packages/keras/backend/tensorflow_backend.py:3733: calling dropout (from tensorflow.python.ops.nn_ops) with keep_prob is deprecated and will be removed in a future version.\n",
      "Instructions for updating:\n",
      "Please use `rate` instead of `keep_prob`. Rate should be set to `rate = 1 - keep_prob`.\n"
     ]
    }
   ],
   "source": [
    "model = create_model()\n",
    "#model = load_model()"
   ]
  },
  {
   "cell_type": "code",
   "execution_count": null,
   "metadata": {
    "colab": {
     "base_uri": "https://localhost:8080/",
     "height": 330
    },
    "id": "tmgovNJTbxBO",
    "outputId": "e6571483-3dc8-4a0e-9671-77547efa0a2d"
   },
   "outputs": [
    {
     "name": "stdout",
     "output_type": "stream",
     "text": [
      "Model: \"model_1\"\n",
      "_________________________________________________________________\n",
      "Layer (type)                 Output Shape              Param #   \n",
      "=================================================================\n",
      "input_1 (InputLayer)         (None, 93)                0         \n",
      "_________________________________________________________________\n",
      "embedding_1 (Embedding)      (None, 93, 50)            2410400   \n",
      "_________________________________________________________________\n",
      "dropout_1 (Dropout)          (None, 93, 50)            0         \n",
      "_________________________________________________________________\n",
      "bidirectional_1 (Bidirection (None, 93, 200)           120800    \n",
      "_________________________________________________________________\n",
      "time_distributed_1 (TimeDist (None, 93, 11)            2211      \n",
      "=================================================================\n",
      "Total params: 2,533,411\n",
      "Trainable params: 2,533,411\n",
      "Non-trainable params: 0\n",
      "_________________________________________________________________\n"
     ]
    }
   ],
   "source": [
    "model.summary()"
   ]
  },
  {
   "cell_type": "code",
   "execution_count": null,
   "metadata": {
    "colab": {
     "base_uri": "https://localhost:8080/",
     "height": 106
    },
    "id": "qqtT84Q3RvEa",
    "outputId": "ee862421-5fb8-49c6-a141-2e0f6b914352"
   },
   "outputs": [
    {
     "name": "stdout",
     "output_type": "stream",
     "text": [
      "WARNING:tensorflow:From /usr/local/lib/python3.6/dist-packages/keras/optimizers.py:793: The name tf.train.Optimizer is deprecated. Please use tf.compat.v1.train.Optimizer instead.\n",
      "\n",
      "WARNING:tensorflow:From /usr/local/lib/python3.6/dist-packages/keras/backend/tensorflow_backend.py:3576: The name tf.log is deprecated. Please use tf.math.log instead.\n",
      "\n"
     ]
    }
   ],
   "source": [
    "model.compile(optimizer=RMSprop(), loss=\"categorical_crossentropy\", metrics=[\"accuracy\"])"
   ]
  },
  {
   "cell_type": "code",
   "execution_count": null,
   "metadata": {
    "id": "Tuq9TL_hhba9"
   },
   "outputs": [],
   "source": [
    "class myCallback(callbacks.Callback):\n",
    "  def on_epoch_end(self, epoch, logs={}):\n",
    "    if(logs.get('acc')>=0.998):\n",
    "      print(\"\\nReached 99% accuracy so cancelling training!\")\n",
    "      self.model.stop_training = True\n",
    " "
   ]
  },
  {
   "cell_type": "code",
   "execution_count": null,
   "metadata": {
    "colab": {
     "base_uri": "https://localhost:8080/",
     "height": 801
    },
    "id": "87AaEwD8RyHe",
    "outputId": "19c10be9-2568-4560-cee5-9227484eb581"
   },
   "outputs": [
    {
     "name": "stdout",
     "output_type": "stream",
     "text": [
      "WARNING:tensorflow:From /usr/local/lib/python3.6/dist-packages/tensorflow/python/ops/math_grad.py:1250: add_dispatch_support.<locals>.wrapper (from tensorflow.python.ops.array_ops) is deprecated and will be removed in a future version.\n",
      "Instructions for updating:\n",
      "Use tf.where in 2.0, which has the same broadcast rule as np.where\n",
      "Train on 6826 samples, validate on 1671 samples\n",
      "Epoch 1/20\n",
      "6826/6826 [==============================] - 84s 12ms/step - loss: 0.2705 - acc: 0.9571 - val_loss: 0.1158 - val_acc: 0.9786\n",
      "Epoch 2/20\n",
      "6826/6826 [==============================] - 78s 11ms/step - loss: 0.1832 - acc: 0.9616 - val_loss: 0.0918 - val_acc: 0.9792\n",
      "Epoch 3/20\n",
      "6826/6826 [==============================] - 79s 12ms/step - loss: 0.1339 - acc: 0.9649 - val_loss: 0.0722 - val_acc: 0.9810\n",
      "Epoch 4/20\n",
      "6826/6826 [==============================] - 79s 12ms/step - loss: 0.1054 - acc: 0.9703 - val_loss: 0.0635 - val_acc: 0.9833\n",
      "Epoch 5/20\n",
      "6826/6826 [==============================] - 79s 12ms/step - loss: 0.0853 - acc: 0.9760 - val_loss: 0.0600 - val_acc: 0.9845\n",
      "Epoch 6/20\n",
      "6826/6826 [==============================] - 79s 12ms/step - loss: 0.0688 - acc: 0.9806 - val_loss: 0.0553 - val_acc: 0.9858\n",
      "Epoch 7/20\n",
      "6826/6826 [==============================] - 80s 12ms/step - loss: 0.0553 - acc: 0.9846 - val_loss: 0.0591 - val_acc: 0.9863\n",
      "Epoch 8/20\n",
      "6826/6826 [==============================] - 79s 12ms/step - loss: 0.0452 - acc: 0.9873 - val_loss: 0.0559 - val_acc: 0.9864\n",
      "Epoch 9/20\n",
      "6826/6826 [==============================] - 79s 12ms/step - loss: 0.0374 - acc: 0.9895 - val_loss: 0.0567 - val_acc: 0.9869\n",
      "Epoch 10/20\n",
      "6826/6826 [==============================] - 79s 12ms/step - loss: 0.0311 - acc: 0.9914 - val_loss: 0.0590 - val_acc: 0.9872\n",
      "Epoch 11/20\n",
      "6826/6826 [==============================] - 80s 12ms/step - loss: 0.0257 - acc: 0.9928 - val_loss: 0.0581 - val_acc: 0.9874\n",
      "Epoch 12/20\n",
      "6826/6826 [==============================] - 80s 12ms/step - loss: 0.0210 - acc: 0.9941 - val_loss: 0.0608 - val_acc: 0.9877\n",
      "Epoch 13/20\n",
      "6826/6826 [==============================] - 80s 12ms/step - loss: 0.0176 - acc: 0.9951 - val_loss: 0.0635 - val_acc: 0.9876\n",
      "Epoch 14/20\n",
      "6826/6826 [==============================] - 80s 12ms/step - loss: 0.0145 - acc: 0.9960 - val_loss: 0.0713 - val_acc: 0.9872\n",
      "Epoch 15/20\n",
      "6826/6826 [==============================] - 80s 12ms/step - loss: 0.0120 - acc: 0.9966 - val_loss: 0.0646 - val_acc: 0.9867\n",
      "Epoch 16/20\n",
      "6826/6826 [==============================] - 80s 12ms/step - loss: 0.0101 - acc: 0.9972 - val_loss: 0.0724 - val_acc: 0.9871\n",
      "Epoch 17/20\n",
      "6826/6826 [==============================] - 80s 12ms/step - loss: 0.0083 - acc: 0.9977 - val_loss: 0.0720 - val_acc: 0.9876\n",
      "Epoch 18/20\n",
      "6826/6826 [==============================] - 80s 12ms/step - loss: 0.0073 - acc: 0.9980 - val_loss: 0.0687 - val_acc: 0.9875\n",
      "Epoch 19/20\n",
      "6826/6826 [==============================] - 80s 12ms/step - loss: 0.0059 - acc: 0.9984 - val_loss: 0.0708 - val_acc: 0.9876\n",
      "\n",
      "Reached 99% accuracy so cancelling training!\n"
     ]
    }
   ],
   "source": [
    "history = model.fit(X_train, y_train, validation_data=(X_val, y_val), shuffle=True, batch_size=32, epochs=20, verbose=1, callbacks=[myCallback()])"
   ]
  },
  {
   "cell_type": "code",
   "execution_count": null,
   "metadata": {
    "colab": {
     "base_uri": "https://localhost:8080/",
     "height": 34
    },
    "id": "9_9TMZn28J7f",
    "outputId": "46471900-a25f-4d3f-d532-a21660e99e13"
   },
   "outputs": [
    {
     "name": "stdout",
     "output_type": "stream",
     "text": [
      "Saved model to disk\n"
     ]
    }
   ],
   "source": [
    "save_model(model)"
   ]
  },
  {
   "cell_type": "code",
   "execution_count": null,
   "metadata": {
    "id": "-74jERJeS6QM"
   },
   "outputs": [],
   "source": [
    "hist = pd.DataFrame(history.history)"
   ]
  },
  {
   "cell_type": "code",
   "execution_count": null,
   "metadata": {
    "id": "3-ERn4Rc9J4_"
   },
   "outputs": [],
   "source": [
    "saveDataFrameToCSV(hist, training_history_csv, append=True)\n",
    " "
   ]
  },
  {
   "cell_type": "code",
   "execution_count": null,
   "metadata": {
    "colab": {
     "base_uri": "https://localhost:8080/",
     "height": 717
    },
    "id": "MwJX2aS2W8Tf",
    "outputId": "b8c882da-cfa5-400c-f831-47d198c43909"
   },
   "outputs": [
    {
     "data": {
      "image/png": "[encoded data removed]",
      "text/plain": [
       "<Figure size 864x864 with 1 Axes>"
      ]
     },
     "metadata": {
      "tags": []
     },
     "output_type": "display_data"
    }
   ],
   "source": [
    "plt.figure(figsize=(12,12))\n",
    "plt.plot(hist[\"acc\"], label=\"acc\")\n",
    "plt.plot(hist[\"val_acc\"], label=\"val_acc\")\n",
    "plt.title('Training and Validation Accuracy')\n",
    "plt.legend()\n",
    "plt.show()"
   ]
  },
  {
   "cell_type": "code",
   "execution_count": null,
   "metadata": {
    "colab": {
     "base_uri": "https://localhost:8080/",
     "height": 1000
    },
    "id": "AP5DBugQXO8S",
    "outputId": "b086dff6-4bc3-42d8-cff5-fdd158cb63c4"
   },
   "outputs": [
    {
     "name": "stdout",
     "output_type": "stream",
     "text": [
      "Word            True                : Pred\n",
      "te,            : O                   : O\n",
      "we             : O                   : O\n",
      "trapped        : O                   : O\n",
      "one            : O                   : O\n",
      "animal         : O                   : O\n",
      "in             : O                   : O\n",
      "primary        : B-Habitat           : B-Habitat\n",
      "lowland        : I-Habitat           : I-Habitat\n",
      "forest         : I-Habitat           : I-Habitat\n",
      "at             : O                   : O\n",
      "320            : O                   : O\n",
      "m              : O                   : O\n",
      "elevation      : O                   : O\n",
      "(site          : O                   : O\n",
      "L3)            : O                   : O\n",
      "and            : O                   : O\n",
      "shot           : O                   : O\n",
      "a              : O                   : O\n",
      "second         : O                   : O\n",
      "individual     : O                   : O\n",
      "from           : O                   : O\n",
      "a              : O                   : O\n",
      "tree           : O                   : O\n",
      "in             : O                   : O\n",
      "an             : O                   : O\n",
      "area           : O                   : O\n",
      "of             : O                   : O\n",
      "mixed          : O                   : O\n",
      "agriculture    : O                   : O\n",
      "and            : O                   : O\n",
      "second         : O                   : O\n",
      "growth         : O                   : O\n",
      "at             : O                   : O\n",
      "50             : O                   : O\n",
      "m              : O                   : O\n",
      "elevation      : O                   : O\n",
      "(site          : O                   : O\n",
      "L2).           : O                   : O\n",
      "We             : O                   : O\n",
      "received       : O                   : O\n",
      "reports        : O                   : O\n",
      "of             : O                   : O\n",
      "civets         : O                   : O\n",
      "on             : O                   : O\n",
      "both           : O                   : O\n",
      "Biliran        : B-GeographicalLocation: B-GeographicalLocation\n",
      "and            : O                   : O\n",
      "Maripipi       : B-GeographicalLocation: B-GeographicalLocation\n",
      "but            : O                   : O\n",
      "obtained       : O                   : O\n",
      "no             : O                   : O\n",
      "specimens.     : O                   : O\n",
      "The            : O                   : O\n",
      "descriptions   : O                   : O\n",
      "given          : O                   : O\n",
      "by             : O                   : O\n",
      "most           : O                   : O\n",
      "informants     : O                   : O\n",
      "conformed      : O                   : O\n",
      "to             : O                   : O\n",
      "that           : O                   : O\n",
      "of             : O                   : O\n",
      "the            : O                   : O\n",
      "palm           : B-Taxon             : B-Taxon\n",
      "civet.         : I-Taxon             : I-Taxon\n",
      "On             : O                   : O\n",
      "both           : O                   : O\n",
      "islands        : O                   : O\n",
      "we             : O                   : O\n",
      "also           : O                   : O\n",
      "found          : O                   : O\n",
      "civet          : O                   : O\n",
      "scats          : O                   : O\n",
      "that           : O                   : O\n",
      "most           : O                   : O\n",
      "closely        : O                   : O\n",
      "resembled      : O                   : O\n",
      "those          : O                   : O\n",
      "of             : O                   : O\n",
      "Paradoxurus    : B-Taxon             : B-Taxon\n",
      "(ie,           : O                   : O\n",
      "composed       : O                   : O\n",
      "primarily      : O                   : O\n",
      "of             : O                   : O\n",
      "seeds;         : O                   : O\n",
      "Heideman       : B-Person            : B-Person\n",
      "et             : O                   : O\n",
      "al,            : O                   : O\n",
      "1987).         : B-TemporalExpression: O\n",
      "ENDPAD         : O                   : O\n",
      "ENDPAD         : O                   : O\n",
      "ENDPAD         : O                   : O\n",
      "ENDPAD         : O                   : O\n"
     ]
    }
   ],
   "source": [
    "i = 1\n",
    "\n",
    "p = model.predict(np.array([X_train[i]]))\n",
    "p = np.argmax(p, axis=-1)\n",
    "\n",
    "true_lbl = y_train[i]\n",
    "true_lbl = np.argmax(true_lbl, axis=-1)\n",
    "\n",
    "print(\"{:15} {:20}: {}\".format(\"Word\", \"True\", \"Pred\"))\n",
    "\n",
    "for w, t, pred in zip(X_train[i], true_lbl, p[0]):    \n",
    "    print(\"{:15}: {:20}: {}\" .format(index2word[w], tags[t], tags[pred]))"
   ]
  },
  {
   "cell_type": "markdown",
   "metadata": {
    "id": "QZ9IBOOJjfcA"
   },
   "source": [
    "## Evaluation"
   ]
  },
  {
   "cell_type": "code",
   "execution_count": null,
   "metadata": {
    "colab": {
     "base_uri": "https://localhost:8080/",
     "height": 52
    },
    "id": "cBKRFu1dl2JD",
    "outputId": "88a6e624-73e0-4643-f29f-317d432213ea"
   },
   "outputs": [
    {
     "name": "stdout",
     "output_type": "stream",
     "text": [
      "1117/1117 [==============================] - 4s 4ms/step\n"
     ]
    },
    {
     "data": {
      "text/plain": [
       "[0.1143115138836812, 0.9808819629618817]"
      ]
     },
     "execution_count": 55,
     "metadata": {
      "tags": []
     },
     "output_type": "execute_result"
    }
   ],
   "source": [
    "model.evaluate(x=X_test, y=y_test, batch_size=32, verbose=1)"
   ]
  },
  {
   "cell_type": "code",
   "execution_count": null,
   "metadata": {
    "colab": {
     "base_uri": "https://localhost:8080/",
     "height": 34
    },
    "id": "fumZ3CdQeEGM",
    "outputId": "9ee8718c-fb8b-4ecc-c33a-09f22ef4d584"
   },
   "outputs": [
    {
     "name": "stdout",
     "output_type": "stream",
     "text": [
      "1117/1117 [==============================] - 4s 4ms/step\n"
     ]
    }
   ],
   "source": [
    "test_pred = model.predict(X_test, verbose=1)"
   ]
  },
  {
   "cell_type": "code",
   "execution_count": null,
   "metadata": {
    "id": "2z5pwi6_eOW3"
   },
   "outputs": [],
   "source": [
    "def pred2label(pred):\n",
    "    out = []\n",
    "    for pred_i in pred:\n",
    "        out_i = []\n",
    "        for p in pred_i:\n",
    "            p_i = np.argmax(p)\n",
    "            out_i.append(idx2tag[p_i].replace(\"ENDPAD\", \"O\"))\n",
    "        out.append(out_i)\n",
    "    return out\n",
    "\n",
    "def test2label(pred):\n",
    "    out = []\n",
    "    for pred_i in pred:\n",
    "        out_i = []\n",
    "        for p in pred_i:\n",
    "            out_i.append(idx2tag[p].replace(\"ENDPAD\", \"O\"))\n",
    "        out.append(out_i)\n",
    "    return out"
   ]
  },
  {
   "cell_type": "code",
   "execution_count": null,
   "metadata": {
    "id": "BKnk3AQhal-s"
   },
   "outputs": [],
   "source": [
    "def toLabel(pred):\n",
    "    out = []\n",
    "    for pred_i in pred:        \n",
    "        out.append(np.asarray([idx2tag[np.argmax(i)] for i in  pred_i]))\n",
    "    return np.asarray(out)\n"
   ]
  },
  {
   "cell_type": "code",
   "execution_count": null,
   "metadata": {
    "id": "6VnteY255zak"
   },
   "outputs": [],
   "source": []
  },
  {
   "cell_type": "code",
   "execution_count": null,
   "metadata": {
    "id": "zEFnBWkieXLT"
   },
   "outputs": [],
   "source": [
    "pred_labels = pred2label(test_pred)\n",
    "test_labels = test2label(np.argmax(y_test, -1))"
   ]
  },
  {
   "cell_type": "code",
   "execution_count": null,
   "metadata": {
    "colab": {
     "base_uri": "https://localhost:8080/",
     "height": 54
    },
    "id": "5C9FL6hQgN_o",
    "outputId": "781be2cf-ada9-470e-ba5b-bdc071fc7d8e"
   },
   "outputs": [
    {
     "name": "stdout",
     "output_type": "stream",
     "text": [
      "['O', 'O', 'O', 'O', 'O', 'O', 'B-Taxon', 'I-Taxon', 'O', 'O', 'O', 'O', 'O', 'O', 'O', 'O', 'O', 'O', 'O', 'O', 'O', 'O', 'O', 'O', 'O', 'O', 'O', 'O', 'O', 'O', 'O', 'O', 'O', 'O', 'O', 'O', 'O', 'O', 'O', 'O', 'O', 'O', 'O', 'O', 'O', 'O', 'O', 'O', 'O', 'O', 'O', 'O', 'O', 'O', 'O', 'O', 'O', 'O', 'O', 'O', 'O', 'O', 'O', 'O', 'O', 'O', 'O', 'O', 'O', 'O', 'O', 'O', 'O', 'O', 'O', 'O', 'O', 'O', 'O', 'O', 'O', 'O', 'O', 'O', 'O', 'O', 'O', 'O', 'O', 'O', 'O', 'O', 'O']\n"
     ]
    }
   ],
   "source": [
    "print(pred_labels[0])"
   ]
  },
  {
   "cell_type": "code",
   "execution_count": null,
   "metadata": {
    "colab": {
     "base_uri": "https://localhost:8080/",
     "height": 54
    },
    "id": "CtM_mQ9ggSwI",
    "outputId": "2f5476c8-a930-4744-96d1-acabbe24a1e5"
   },
   "outputs": [
    {
     "name": "stdout",
     "output_type": "stream",
     "text": [
      "['O', 'O', 'O', 'O', 'O', 'O', 'O', 'O', 'O', 'O', 'O', 'O', 'O', 'O', 'O', 'O', 'O', 'O', 'B-Taxon', 'O', 'O', 'O', 'O', 'O', 'O', 'O', 'O', 'O', 'B-Taxon', 'O', 'O', 'O', 'O', 'O', 'O', 'O', 'O', 'O', 'O', 'O', 'O', 'O', 'O', 'O', 'O', 'O', 'O', 'O', 'O', 'O', 'O', 'O', 'O', 'B-Taxon', 'O', 'O', 'O', 'O', 'O', 'O', 'O', 'O', 'O', 'O', 'O', 'O', 'O', 'B-Taxon', 'O', 'O', 'O', 'O', 'O', 'O', 'O', 'O', 'O', 'O', 'O', 'O', 'O', 'O', 'O', 'O', 'O', 'O', 'O', 'O', 'O', 'O', 'O', 'O', 'O']\n"
     ]
    }
   ],
   "source": [
    "print(test_labels[0])"
   ]
  },
  {
   "cell_type": "markdown",
   "metadata": {
    "id": "LhJVeLkyyqle"
   },
   "source": [
    "### Evaluation\n"
   ]
  },
  {
   "cell_type": "markdown",
   "metadata": {
    "id": "uzegoBUKgIvk"
   },
   "source": [
    "**Macro-avreged F-score**: Computes the F-score independetly from each entity type, then takes the average (Hence treating all **entity types** equally)\n",
    "\n",
    "\n",
    "**Micro-avereged F-score** aggregates the contributions of entities from all classes to computes the average (treating all **entities** equally). It can be heavily affected by the quality of recognizing entities in large classes in the corpus\n",
    "\n",
    "***Note*** *We are interested in Macro and Micro, as we are tackling the NER problema as a multi class classification (each input sentence is classified with multiple classes at the same time)*\n",
    "\n",
    "[Stack Exchange](https://datascience.stackexchange.com/questions/15989/micro-average-vs-macro-average-performance-in-a-multiclass-classification-settin) anser about Macro and Micro explaination \n",
    "\n",
    "[Medium](https://medium.com/@ramit.singh.pahwa/micro-macro-precision-recall-and-f-score-44439de1a044)\n",
    "\n",
    "[Opened Issue](https://github.com/chakki-works/seqeval/issues/24) in seqval Github project"
   ]
  },
  {
   "cell_type": "code",
   "execution_count": null,
   "metadata": {
    "colab": {
     "base_uri": "https://localhost:8080/",
     "height": 34
    },
    "id": "9CjwSHaF291y",
    "outputId": "c38ea5cf-c9ec-46c2-8e78-d09306f97146"
   },
   "outputs": [
    {
     "name": "stdout",
     "output_type": "stream",
     "text": [
      "/content/drive/My Drive/Colab Notebooks/NER/helpers\n"
     ]
    }
   ],
   "source": [
    "cd /content/drive/My\\ Drive/Colab Notebooks/NER/helpers"
   ]
  },
  {
   "cell_type": "code",
   "execution_count": null,
   "metadata": {
    "id": "t7_7c_lldqQC"
   },
   "outputs": [],
   "source": [
    "from classification_metrics import classification_report, replaceMultiple"
   ]
  },
  {
   "cell_type": "code",
   "execution_count": null,
   "metadata": {
    "colab": {
     "base_uri": "https://localhost:8080/",
     "height": 225
    },
    "id": "moMXzGSidrmo",
    "outputId": "3a5e01b0-52f8-46fb-ac99-846185251ce7"
   },
   "outputs": [
    {
     "name": "stdout",
     "output_type": "stream",
     "text": [
      "                        precision \t recall \t f1-score \t support\n",
      "\n",
      "Habitat             \t 0.66\t\t 0.49\t\t 0.56\t\t 195\t\n",
      "Taxon               \t 0.73\t\t 0.52\t\t 0.61\t\t 1423\t\n",
      "Person              \t 0.55\t\t 0.23\t\t 0.33\t\t 334\t\n",
      "GeographicalLocation\t 0.88\t\t 0.68\t\t 0.77\t\t 1003\t\n",
      "TemporalExpression  \t 0.73\t\t 0.42\t\t 0.53\t\t 265\t\n",
      "\n",
      "\n",
      "macro avg           \t 0.71\t\t 0.47\t\t 0.56\t\t 3220\t\n",
      "micro avg           \t 0.77\t\t 0.53\t\t 0.63\t\t 3220\t\n",
      "\n"
     ]
    }
   ],
   "source": [
    "print(classification_report(test_labels, pred_labels))"
   ]
  },
  {
   "cell_type": "code",
   "execution_count": null,
   "metadata": {
    "colab": {
     "base_uri": "https://localhost:8080/",
     "height": 34
    },
    "id": "hMem3-Ios86x",
    "outputId": "020e9625-d021-4da9-fb5c-4ac7b47efc57"
   },
   "outputs": [
    {
     "name": "stdout",
     "output_type": "stream",
     "text": [
      "Saved model to disk\n"
     ]
    }
   ],
   "source": [
    "save_model(model)"
   ]
  },
  {
   "cell_type": "code",
   "execution_count": null,
   "metadata": {
    "id": "wvFzq4ly_j_6"
   },
   "outputs": [],
   "source": []
  }
 ],
 "metadata": {
  "accelerator": "GPU",
  "colab": {
   "collapsed_sections": [
    "QZ9IBOOJjfcA",
    "oGMQBU-U9DJS",
    "FYA2cdbt6tOx",
    "LhJVeLkyyqle"
   ],
   "name": "BiLSTM-COPIOUS-NN",
   "provenance": []
  },
  "kernelspec": {
   "display_name": "Python 3",
   "language": "python",
   "name": "python3"
  },
  "language_info": {
   "codemirror_mode": {
    "name": "ipython",
    "version": 3
   },
   "file_extension": ".py",
   "mimetype": "text/x-python",
   "name": "python",
   "nbconvert_exporter": "python",
   "pygments_lexer": "ipython3",
   "version": "3.6.6"
  }
 },
 "nbformat": 4,
 "nbformat_minor": 1
}
